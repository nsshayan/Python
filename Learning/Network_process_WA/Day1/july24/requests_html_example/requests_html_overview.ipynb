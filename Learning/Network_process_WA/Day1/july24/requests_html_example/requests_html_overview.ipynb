{
 "cells": [
  {
   "cell_type": "code",
   "execution_count": 1,
   "metadata": {},
   "outputs": [
    {
     "name": "stdout",
     "output_type": "stream",
     "text": [
      "<Response [200]>\n"
     ]
    }
   ],
   "source": [
    "from requests_html import HTMLSession\n",
    "session = HTMLSession()\n",
    "r = session.get('https://python.org/')\n",
    "print(r)"
   ]
  },
  {
   "cell_type": "code",
   "execution_count": 5,
   "metadata": {
    "scrolled": false
   },
   "outputs": [
    {
     "data": {
      "text/plain": [
       "{'/',\n",
       " '//docs.python.org/3/tutorial/',\n",
       " '//docs.python.org/3/tutorial/controlflow.html',\n",
       " '//docs.python.org/3/tutorial/controlflow.html#defining-functions',\n",
       " '//docs.python.org/3/tutorial/introduction.html#lists',\n",
       " '//jobs.python.org',\n",
       " '/about/',\n",
       " '/about/apps',\n",
       " '/about/apps/',\n",
       " '/about/gettingstarted/',\n",
       " '/about/help/',\n",
       " '/about/legal/',\n",
       " '/about/quotes/',\n",
       " '/about/success/',\n",
       " '/about/success/#arts',\n",
       " '/about/success/#business',\n",
       " '/about/success/#education',\n",
       " '/about/success/#engineering',\n",
       " '/about/success/#government',\n",
       " '/about/success/#scientific',\n",
       " '/about/success/#software-development',\n",
       " '/accounts/login/',\n",
       " '/accounts/signup/',\n",
       " '/blogs/',\n",
       " '/community/',\n",
       " '/community/awards',\n",
       " '/community/diversity/',\n",
       " '/community/forums/',\n",
       " '/community/irc/',\n",
       " '/community/lists/',\n",
       " '/community/logos/',\n",
       " '/community/merchandise/',\n",
       " '/community/sigs/',\n",
       " '/community/workshops/',\n",
       " '/dev/',\n",
       " '/dev/core-mentorship/',\n",
       " '/dev/peps/',\n",
       " '/dev/peps/peps.rss',\n",
       " '/doc/',\n",
       " '/doc/av',\n",
       " '/doc/essays/',\n",
       " '/download/alternatives',\n",
       " '/download/other/',\n",
       " '/downloads/',\n",
       " '/downloads/mac-osx/',\n",
       " '/downloads/release/python-370/',\n",
       " '/downloads/source/',\n",
       " '/downloads/windows/',\n",
       " '/events/',\n",
       " '/events/calendars/',\n",
       " '/events/python-events',\n",
       " '/events/python-events/past/',\n",
       " '/events/python-user-group/',\n",
       " '/events/python-user-group/731/',\n",
       " '/events/python-user-group/735/',\n",
       " '/events/python-user-group/740/',\n",
       " '/events/python-user-group/741/',\n",
       " '/events/python-user-group/742/',\n",
       " '/events/python-user-group/past/',\n",
       " '/jobs/',\n",
       " '/privacy/',\n",
       " '/psf-landing/',\n",
       " '/psf/',\n",
       " '/psf/donations/',\n",
       " '/psf/sponsorship/sponsors/',\n",
       " '/shell/',\n",
       " '/success-stories/',\n",
       " '/success-stories/industrial-light-magic-runs-python/',\n",
       " '/users/membership/',\n",
       " 'http://blog.python.org',\n",
       " 'http://bottlepy.org',\n",
       " 'http://brochure.getpython.info/',\n",
       " 'http://buildbot.net/',\n",
       " 'http://docs.python.org/3/tutorial/introduction.html#using-python-as-a-calculator',\n",
       " 'http://feedproxy.google.com/~r/PythonInsider/~3/BMstxEjkOt0/python-2715-released.html',\n",
       " 'http://feedproxy.google.com/~r/PythonInsider/~3/PuHgTVhNAAE/python-370rc1-and-366rc1-now-available.html',\n",
       " 'http://feedproxy.google.com/~r/PythonInsider/~3/RMqgTQsV720/python-3.html',\n",
       " 'http://feedproxy.google.com/~r/PythonInsider/~3/rPQiRIs2Qhg/python-370b5-bonus-beta-is-now.html',\n",
       " 'http://feedproxy.google.com/~r/PythonInsider/~3/vo7OgsISIdQ/python-370b4-final-37-beta-now.html',\n",
       " 'http://flask.pocoo.org/',\n",
       " 'http://ipython.org',\n",
       " 'http://pandas.pydata.org/',\n",
       " 'http://planetpython.org/',\n",
       " 'http://plus.google.com/+Python',\n",
       " 'http://pycon.blogspot.com/',\n",
       " 'http://pyfound.blogspot.com/',\n",
       " 'http://python.org/dev/peps/',\n",
       " 'http://roundup.sourceforge.net/',\n",
       " 'http://tornadoweb.org',\n",
       " 'http://trac.edgewall.org/',\n",
       " 'http://twitter.com/ThePSF',\n",
       " 'http://wiki.python.org/moin/Languages',\n",
       " 'http://wiki.python.org/moin/TkInter',\n",
       " 'http://www.ansible.com',\n",
       " 'http://www.djangoproject.com/',\n",
       " 'http://www.facebook.com/pythonlang?fref=ts',\n",
       " 'http://www.pylonsproject.org/',\n",
       " 'http://www.riverbankcomputing.co.uk/software/pyqt/intro',\n",
       " 'http://www.saltstack.com',\n",
       " 'http://www.scipy.org',\n",
       " 'http://www.web2py.com/',\n",
       " 'http://www.wxpython.org/',\n",
       " 'https://bugs.python.org/',\n",
       " 'https://devguide.python.org/',\n",
       " 'https://docs.python.org',\n",
       " 'https://docs.python.org/3/license.html',\n",
       " 'https://docs.python.org/faq/',\n",
       " 'https://github.com/python/pythondotorg/issues',\n",
       " 'https://kivy.org/',\n",
       " 'https://mail.python.org/mailman/listinfo/python-dev',\n",
       " 'https://pypi.python.org/',\n",
       " 'https://status.python.org/',\n",
       " 'https://wiki.gnome.org/Projects/PyGObject',\n",
       " 'https://wiki.python.org/moin/',\n",
       " 'https://wiki.python.org/moin/BeginnersGuide',\n",
       " 'https://wiki.python.org/moin/PythonBooks',\n",
       " 'https://wiki.python.org/moin/PythonEventsCalendar#Submitting_an_Event',\n",
       " 'https://wiki.qt.io/PySide',\n",
       " 'https://www.openstack.org',\n",
       " 'https://www.python.org/psf/codeofconduct/'}"
      ]
     },
     "execution_count": 5,
     "metadata": {},
     "output_type": "execute_result"
    }
   ],
   "source": [
    "r.html.links"
   ]
  },
  {
   "cell_type": "code",
   "execution_count": 3,
   "metadata": {},
   "outputs": [
    {
     "data": {
      "text/plain": [
       "{'http://blog.python.org',\n",
       " 'http://bottlepy.org',\n",
       " 'http://brochure.getpython.info/',\n",
       " 'http://buildbot.net/',\n",
       " 'http://docs.python.org/3/tutorial/introduction.html#using-python-as-a-calculator',\n",
       " 'http://feedproxy.google.com/~r/PythonInsider/~3/BMstxEjkOt0/python-2715-released.html',\n",
       " 'http://feedproxy.google.com/~r/PythonInsider/~3/PuHgTVhNAAE/python-370rc1-and-366rc1-now-available.html',\n",
       " 'http://feedproxy.google.com/~r/PythonInsider/~3/RMqgTQsV720/python-3.html',\n",
       " 'http://feedproxy.google.com/~r/PythonInsider/~3/rPQiRIs2Qhg/python-370b5-bonus-beta-is-now.html',\n",
       " 'http://feedproxy.google.com/~r/PythonInsider/~3/vo7OgsISIdQ/python-370b4-final-37-beta-now.html',\n",
       " 'http://flask.pocoo.org/',\n",
       " 'http://ipython.org',\n",
       " 'http://pandas.pydata.org/',\n",
       " 'http://planetpython.org/',\n",
       " 'http://plus.google.com/+Python',\n",
       " 'http://pycon.blogspot.com/',\n",
       " 'http://pyfound.blogspot.com/',\n",
       " 'http://python.org/dev/peps/',\n",
       " 'http://roundup.sourceforge.net/',\n",
       " 'http://tornadoweb.org',\n",
       " 'http://trac.edgewall.org/',\n",
       " 'http://twitter.com/ThePSF',\n",
       " 'http://wiki.python.org/moin/Languages',\n",
       " 'http://wiki.python.org/moin/TkInter',\n",
       " 'http://www.ansible.com',\n",
       " 'http://www.djangoproject.com/',\n",
       " 'http://www.facebook.com/pythonlang?fref=ts',\n",
       " 'http://www.pylonsproject.org/',\n",
       " 'http://www.riverbankcomputing.co.uk/software/pyqt/intro',\n",
       " 'http://www.saltstack.com',\n",
       " 'http://www.scipy.org',\n",
       " 'http://www.web2py.com/',\n",
       " 'http://www.wxpython.org/',\n",
       " 'https://bugs.python.org/',\n",
       " 'https://devguide.python.org/',\n",
       " 'https://docs.python.org',\n",
       " 'https://docs.python.org/3/license.html',\n",
       " 'https://docs.python.org/3/tutorial/',\n",
       " 'https://docs.python.org/3/tutorial/controlflow.html',\n",
       " 'https://docs.python.org/3/tutorial/controlflow.html#defining-functions',\n",
       " 'https://docs.python.org/3/tutorial/introduction.html#lists',\n",
       " 'https://docs.python.org/faq/',\n",
       " 'https://github.com/python/pythondotorg/issues',\n",
       " 'https://jobs.python.org',\n",
       " 'https://kivy.org/',\n",
       " 'https://mail.python.org/mailman/listinfo/python-dev',\n",
       " 'https://pypi.python.org/',\n",
       " 'https://status.python.org/',\n",
       " 'https://wiki.gnome.org/Projects/PyGObject',\n",
       " 'https://wiki.python.org/moin/',\n",
       " 'https://wiki.python.org/moin/BeginnersGuide',\n",
       " 'https://wiki.python.org/moin/PythonBooks',\n",
       " 'https://wiki.python.org/moin/PythonEventsCalendar#Submitting_an_Event',\n",
       " 'https://wiki.qt.io/PySide',\n",
       " 'https://www.openstack.org',\n",
       " 'https://www.python.org/',\n",
       " 'https://www.python.org/about/',\n",
       " 'https://www.python.org/about/apps',\n",
       " 'https://www.python.org/about/apps/',\n",
       " 'https://www.python.org/about/gettingstarted/',\n",
       " 'https://www.python.org/about/help/',\n",
       " 'https://www.python.org/about/legal/',\n",
       " 'https://www.python.org/about/quotes/',\n",
       " 'https://www.python.org/about/success/',\n",
       " 'https://www.python.org/about/success/#arts',\n",
       " 'https://www.python.org/about/success/#business',\n",
       " 'https://www.python.org/about/success/#education',\n",
       " 'https://www.python.org/about/success/#engineering',\n",
       " 'https://www.python.org/about/success/#government',\n",
       " 'https://www.python.org/about/success/#scientific',\n",
       " 'https://www.python.org/about/success/#software-development',\n",
       " 'https://www.python.org/accounts/login/',\n",
       " 'https://www.python.org/accounts/signup/',\n",
       " 'https://www.python.org/blogs/',\n",
       " 'https://www.python.org/community/',\n",
       " 'https://www.python.org/community/awards',\n",
       " 'https://www.python.org/community/diversity/',\n",
       " 'https://www.python.org/community/forums/',\n",
       " 'https://www.python.org/community/irc/',\n",
       " 'https://www.python.org/community/lists/',\n",
       " 'https://www.python.org/community/logos/',\n",
       " 'https://www.python.org/community/merchandise/',\n",
       " 'https://www.python.org/community/sigs/',\n",
       " 'https://www.python.org/community/workshops/',\n",
       " 'https://www.python.org/dev/',\n",
       " 'https://www.python.org/dev/core-mentorship/',\n",
       " 'https://www.python.org/dev/peps/',\n",
       " 'https://www.python.org/dev/peps/peps.rss',\n",
       " 'https://www.python.org/doc/',\n",
       " 'https://www.python.org/doc/av',\n",
       " 'https://www.python.org/doc/essays/',\n",
       " 'https://www.python.org/download/alternatives',\n",
       " 'https://www.python.org/download/other/',\n",
       " 'https://www.python.org/downloads/',\n",
       " 'https://www.python.org/downloads/mac-osx/',\n",
       " 'https://www.python.org/downloads/release/python-370/',\n",
       " 'https://www.python.org/downloads/source/',\n",
       " 'https://www.python.org/downloads/windows/',\n",
       " 'https://www.python.org/events/',\n",
       " 'https://www.python.org/events/calendars/',\n",
       " 'https://www.python.org/events/python-events',\n",
       " 'https://www.python.org/events/python-events/past/',\n",
       " 'https://www.python.org/events/python-user-group/',\n",
       " 'https://www.python.org/events/python-user-group/731/',\n",
       " 'https://www.python.org/events/python-user-group/735/',\n",
       " 'https://www.python.org/events/python-user-group/740/',\n",
       " 'https://www.python.org/events/python-user-group/741/',\n",
       " 'https://www.python.org/events/python-user-group/742/',\n",
       " 'https://www.python.org/events/python-user-group/past/',\n",
       " 'https://www.python.org/jobs/',\n",
       " 'https://www.python.org/privacy/',\n",
       " 'https://www.python.org/psf-landing/',\n",
       " 'https://www.python.org/psf/',\n",
       " 'https://www.python.org/psf/codeofconduct/',\n",
       " 'https://www.python.org/psf/donations/',\n",
       " 'https://www.python.org/psf/sponsorship/sponsors/',\n",
       " 'https://www.python.org/shell/',\n",
       " 'https://www.python.org/success-stories/',\n",
       " 'https://www.python.org/success-stories/industrial-light-magic-runs-python/',\n",
       " 'https://www.python.org/users/membership/'}"
      ]
     },
     "execution_count": 3,
     "metadata": {},
     "output_type": "execute_result"
    }
   ],
   "source": [
    "r.html.absolute_links"
   ]
  },
  {
   "cell_type": "code",
   "execution_count": 6,
   "metadata": {},
   "outputs": [
    {
     "data": {
      "text/plain": [
       "<Element 'li' id='about' class=('tier-1', 'element-1') aria-haspopup='true'>"
      ]
     },
     "execution_count": 6,
     "metadata": {},
     "output_type": "execute_result"
    }
   ],
   "source": [
    "about = r.html.find('#about', first=True)\n",
    "about"
   ]
  },
  {
   "cell_type": "code",
   "execution_count": 7,
   "metadata": {
    "scrolled": true
   },
   "outputs": [
    {
     "name": "stdout",
     "output_type": "stream",
     "text": [
      "About\n",
      "Applications\n",
      "Quotes\n",
      "Getting Started\n",
      "Help\n",
      "Python Brochure\n"
     ]
    }
   ],
   "source": [
    "print(about.text)"
   ]
  },
  {
   "cell_type": "code",
   "execution_count": 8,
   "metadata": {},
   "outputs": [
    {
     "data": {
      "text/plain": [
       "{'id': 'about', 'class': ('tier-1', 'element-1'), 'aria-haspopup': 'true'}"
      ]
     },
     "execution_count": 8,
     "metadata": {},
     "output_type": "execute_result"
    }
   ],
   "source": [
    "about.attrs"
   ]
  },
  {
   "cell_type": "code",
   "execution_count": 9,
   "metadata": {
    "scrolled": true
   },
   "outputs": [
    {
     "data": {
      "text/plain": [
       "'<li id=\"about\" class=\"tier-1 element-1  \" aria-haspopup=\"true\">\\n        <a href=\"/about/\" title=\"\" class=\"\">About</a>\\n        \\n            \\n\\n<ul class=\"subnav menu\" role=\"menu\" aria-hidden=\"true\">\\n    \\n        <li class=\"tier-2 element-1\" role=\"treeitem\"><a href=\"/about/apps/\" title=\"\">Applications</a></li>\\n    \\n        <li class=\"tier-2 element-2\" role=\"treeitem\"><a href=\"/about/quotes/\" title=\"\">Quotes</a></li>\\n    \\n        <li class=\"tier-2 element-3\" role=\"treeitem\"><a href=\"/about/gettingstarted/\" title=\"\">Getting Started</a></li>\\n    \\n        <li class=\"tier-2 element-4\" role=\"treeitem\"><a href=\"/about/help/\" title=\"\">Help</a></li>\\n    \\n        <li class=\"tier-2 element-5\" role=\"treeitem\"><a href=\"http://brochure.getpython.info/\" title=\"\">Python Brochure</a></li>\\n    \\n</ul>\\n\\n        \\n    </li>'"
      ]
     },
     "execution_count": 9,
     "metadata": {},
     "output_type": "execute_result"
    }
   ],
   "source": [
    "about.html"
   ]
  },
  {
   "cell_type": "code",
   "execution_count": 10,
   "metadata": {
    "scrolled": true
   },
   "outputs": [
    {
     "data": {
      "text/plain": [
       "[<Element 'a' href='/about/' title='' class=()>,\n",
       " <Element 'a' href='/about/apps/' title=''>,\n",
       " <Element 'a' href='/about/quotes/' title=''>,\n",
       " <Element 'a' href='/about/gettingstarted/' title=''>,\n",
       " <Element 'a' href='/about/help/' title=''>,\n",
       " <Element 'a' href='http://brochure.getpython.info/' title=''>]"
      ]
     },
     "execution_count": 10,
     "metadata": {},
     "output_type": "execute_result"
    }
   ],
   "source": [
    "about.find('a')"
   ]
  },
  {
   "cell_type": "code",
   "execution_count": 11,
   "metadata": {
    "scrolled": true
   },
   "outputs": [
    {
     "data": {
      "text/plain": [
       "{'http://brochure.getpython.info/',\n",
       " 'https://www.python.org/about/',\n",
       " 'https://www.python.org/about/apps/',\n",
       " 'https://www.python.org/about/gettingstarted/',\n",
       " 'https://www.python.org/about/help/',\n",
       " 'https://www.python.org/about/quotes/'}"
      ]
     },
     "execution_count": 11,
     "metadata": {},
     "output_type": "execute_result"
    }
   ],
   "source": [
    "about.absolute_links"
   ]
  },
  {
   "cell_type": "code",
   "execution_count": 12,
   "metadata": {},
   "outputs": [
    {
     "data": {
      "text/plain": [
       "'programming'"
      ]
     },
     "execution_count": 12,
     "metadata": {},
     "output_type": "execute_result"
    }
   ],
   "source": [
    "r.html.search('Python is a {} language')[0]"
   ]
  },
  {
   "cell_type": "code",
   "execution_count": 13,
   "metadata": {},
   "outputs": [],
   "source": [
    "r = session.get('https://github.com/')"
   ]
  },
  {
   "cell_type": "code",
   "execution_count": 14,
   "metadata": {},
   "outputs": [
    {
     "ename": "AttributeError",
     "evalue": "'NoneType' object has no attribute 'text'",
     "output_type": "error",
     "traceback": [
      "\u001b[0;31m---------------------------------------------------------------------------\u001b[0m",
      "\u001b[0;31mAttributeError\u001b[0m                            Traceback (most recent call last)",
      "\u001b[0;32m<ipython-input-14-9a443f790dd7>\u001b[0m in \u001b[0;36m<module>\u001b[0;34m()\u001b[0m\n\u001b[1;32m      1\u001b[0m \u001b[0msel\u001b[0m \u001b[0;34m=\u001b[0m \u001b[0;34m'body > div.application-main > div.jumbotron.jumbotron-codelines > div > div > div.col-md-7.text-center.text-md-left > p'\u001b[0m\u001b[0;34m\u001b[0m\u001b[0m\n\u001b[0;32m----> 2\u001b[0;31m \u001b[0mprint\u001b[0m\u001b[0;34m(\u001b[0m\u001b[0mr\u001b[0m\u001b[0;34m.\u001b[0m\u001b[0mhtml\u001b[0m\u001b[0;34m.\u001b[0m\u001b[0mfind\u001b[0m\u001b[0;34m(\u001b[0m\u001b[0msel\u001b[0m\u001b[0;34m,\u001b[0m \u001b[0mfirst\u001b[0m\u001b[0;34m=\u001b[0m\u001b[0;32mTrue\u001b[0m\u001b[0;34m)\u001b[0m\u001b[0;34m.\u001b[0m\u001b[0mtext\u001b[0m\u001b[0;34m)\u001b[0m\u001b[0;34m\u001b[0m\u001b[0m\n\u001b[0m",
      "\u001b[0;31mAttributeError\u001b[0m: 'NoneType' object has no attribute 'text'"
     ]
    }
   ],
   "source": [
    "sel = 'body > div.application-main > div.jumbotron.jumbotron-codelines > div > div > div.col-md-7.text-center.text-md-left > p'\n",
    "print(r.html.find(sel, first=True).text)"
   ]
  },
  {
   "cell_type": "code",
   "execution_count": 15,
   "metadata": {},
   "outputs": [
    {
     "data": {
      "text/plain": [
       "[]"
      ]
     },
     "execution_count": 15,
     "metadata": {},
     "output_type": "execute_result"
    }
   ],
   "source": [
    "r.html.xpath('a')"
   ]
  },
  {
   "cell_type": "code",
   "execution_count": 16,
   "metadata": {},
   "outputs": [],
   "source": [
    "r = session.get('http://python-requests.org/')"
   ]
  },
  {
   "cell_type": "code",
   "execution_count": 17,
   "metadata": {
    "scrolled": true
   },
   "outputs": [
    {
     "data": {
      "text/plain": [
       "[<Element 'a' href='http://kennethreitz.com/pages/open-projects.html'>,\n",
       " <Element 'a' href='http://kennethreitz.org/'>,\n",
       " <Element 'a' href='https://twitter.com/kennethreitz' class=('twitter-follow-button',) data-show-count='false'>,\n",
       " <Element 'a' class=('reference', 'internal') href='dev/contributing/#kenneth-reitz-s-code-style'>]"
      ]
     },
     "execution_count": 17,
     "metadata": {},
     "output_type": "execute_result"
    }
   ],
   "source": [
    "r.html.find('a', containing='kenneth')"
   ]
  },
  {
   "cell_type": "code",
   "execution_count": null,
   "metadata": {
    "scrolled": true
   },
   "outputs": [],
   "source": [
    "r = session.get('http://python-requests.org/')\n",
    "r.html.render()\n",
    "r.html.search('Python 2 will retire in only {months} months!')['months']"
   ]
  },
  {
   "cell_type": "code",
   "execution_count": 19,
   "metadata": {},
   "outputs": [],
   "source": [
    "r = session.get('https://reddit.com')"
   ]
  },
  {
   "cell_type": "code",
   "execution_count": null,
   "metadata": {
    "scrolled": true
   },
   "outputs": [],
   "source": [
    "for html in r.html:\n",
    "    print(html)"
   ]
  },
  {
   "cell_type": "code",
   "execution_count": null,
   "metadata": {},
   "outputs": [],
   "source": [
    "r = session.get('https://reddit.com')\n",
    "r.html.next()"
   ]
  }
 ],
 "metadata": {
  "kernelspec": {
   "display_name": "Python 3",
   "language": "python",
   "name": "python3"
  },
  "language_info": {
   "codemirror_mode": {
    "name": "ipython",
    "version": 3
   },
   "file_extension": ".py",
   "mimetype": "text/x-python",
   "name": "python",
   "nbconvert_exporter": "python",
   "pygments_lexer": "ipython3",
   "version": "3.6.5"
  }
 },
 "nbformat": 4,
 "nbformat_minor": 2
}
