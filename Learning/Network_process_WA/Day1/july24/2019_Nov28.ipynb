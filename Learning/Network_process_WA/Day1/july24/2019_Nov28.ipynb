{
 "cells": [
  {
   "cell_type": "markdown",
   "metadata": {},
   "source": [
    "## BeautifulSoup --> deprecated unpythonic\n",
    "## lxml  -> HTML / XML"
   ]
  },
  {
   "cell_type": "code",
   "execution_count": 2,
   "metadata": {
    "scrolled": true
   },
   "outputs": [
    {
     "data": {
      "text/plain": [
       "<module 'xml.etree.ElementTree' from '/home/chandrashekar/anaconda3/lib/python3.7/xml/etree/ElementTree.py'>"
      ]
     },
     "execution_count": 2,
     "metadata": {},
     "output_type": "execute_result"
    }
   ],
   "source": [
    "et.parse"
   ]
  },
  {
   "cell_type": "code",
   "execution_count": null,
   "metadata": {},
   "outputs": [],
   "source": [
    "# %load xml/books.xml\n",
    "<?xml version=\"1.0\" ?>\n",
    "<catalog><book id=\"bk101\" country=\"India\" type=\"technical\">\n",
    "      this is a test book\n",
    "      <author>Gambardella, Matthew</author>\n",
    "      <title>XML Developer's Guide</title>\n",
    "      <genre>Computer</genre>\n",
    "      <price>44.95</price>\n",
    "      <publish_date>2000-10-01</publish_date>\n",
    "      <description>An in-depth look at creating applications\n",
    "      with XML.</description>\n",
    "   </book>\n",
    "   <book id=\"bk102\">\n",
    "      <author>Ralls, Kim</author>\n",
    "      <title>Midnight Rain</title>\n",
    "      <genre>Fantasy</genre>\n",
    "      <price>5.95</price>\n",
    "      <publish_date>2000-12-16</publish_date>\n",
    "      <description>A former architect battles corporate zombies,\n",
    "      an evil sorceress, and her own childhood to become queen\n",
    "      of the world.</description>\n",
    "   </book>\n",
    "   <book id=\"bk103\">\n",
    "      <author>Corets, Eva</author>\n",
    "      <title>Maeve Ascendant</title>\n",
    "      <genre>Fantasy</genre>\n",
    "      <price>5.95</price>\n",
    "      <publish_date>2000-11-17</publish_date>\n",
    "      <description>After the collapse of a nanotechnology\n",
    "      society in England, the young survivors lay the\n",
    "      foundation for a new society.</description>\n",
    "   </book>\n",
    "   <book id=\"bk104\">\n",
    "      <author>Corets, Eva</author>\n",
    "      <title>Oberon's Legacy</title>\n",
    "      <genre>Fantasy</genre>\n",
    "      <price>5.95</price>\n",
    "      <publish_date>2001-03-10</publish_date>\n",
    "      <description>In post-apocalypse England, the mysterious\n",
    "      agent known only as Oberon helps to create a new life\n",
    "      for the inhabitants of London. Sequel to Maeve\n",
    "      Ascendant.</description>\n",
    "   </book>\n",
    "   <book id=\"bk105\">\n",
    "      <author>Corets, Eva</author>\n",
    "      <title>The Sundered Grail</title>\n",
    "      <genre>Fantasy</genre>\n",
    "      <price>5.95</price>\n",
    "      <publish_date>2001-09-10</publish_date>\n",
    "      <description>The two daughters of Maeve, half-sisters,\n",
    "      battle one another for control of England. Sequel to\n",
    "      Oberon's Legacy.</description>\n",
    "   </book>\n",
    "   <book id=\"bk106\">\n",
    "      <author>Randall, Cynthia</author>\n",
    "      <title>Lover Birds</title>\n",
    "      <genre>Romance</genre>\n",
    "      <price>4.95</price>\n",
    "      <publish_date>2000-09-02</publish_date>\n",
    "      <description>When Carla meets Paul at an ornithology\n",
    "      conference, tempers fly as feathers get ruffled.</description>\n",
    "   </book>\n",
    "   <book id=\"bk107\">\n",
    "      <author>Thurman, Paula</author>\n",
    "      <title>Splish Splash</title>\n",
    "      <genre>Romance</genre>\n",
    "      <price>4.95</price>\n",
    "      <publish_date>2000-11-02</publish_date>\n",
    "      <description>A deep sea diver finds true love twenty\n",
    "      thousand leagues beneath the sea.</description>\n",
    "   </book>\n",
    "   <book id=\"bk108\">\n",
    "      <author>Knorr, Stefan</author>\n",
    "      <title>Creepy Crawlies</title>\n",
    "      <genre>Horror</genre>\n",
    "      <price>4.95</price>\n",
    "      <publish_date>2000-12-06</publish_date>\n",
    "      <description>An anthology of horror stories about roaches,\n",
    "      centipedes, scorpions  and other insects.</description>\n",
    "   </book>\n",
    "   <book id=\"bk109\">\n",
    "      <author>Kress, Peter</author>\n",
    "      <title>Paradox Lost</title>\n",
    "      <genre>Science Fiction</genre>\n",
    "      <price>6.95</price>\n",
    "      <publish_date>2000-11-02</publish_date>\n",
    "      <description>After an inadvertant trip through a Heisenberg\n",
    "      Uncertainty Device, James Salway discovers the problems\n",
    "      of being quantum.</description>\n",
    "   </book>\n",
    "   <book id=\"bk110\">\n",
    "      <author>O'Brien, Tim</author>\n",
    "      <title>Microsoft .NET: The Programming Bible</title>\n",
    "      <genre>Computer</genre>\n",
    "      <price>36.95</price>\n",
    "      <publish_date>2000-12-09</publish_date>\n",
    "      <description>Microsoft's .NET initiative is explored in\n",
    "      detail in this deep programmer's reference.</description>\n",
    "   </book>\n",
    "   <book id=\"bk111\">\n",
    "      <author>O'Brien, Tim</author>\n",
    "      <title>MSXML3: A Comprehensive Guide</title>\n",
    "      <genre>Computer</genre>\n",
    "      <price>36.95</price>\n",
    "      <publish_date>2000-12-01</publish_date>\n",
    "      <description>The Microsoft MSXML3 parser is covered in\n",
    "      detail, with attention to XML DOM interfaces, XSLT processing,\n",
    "      SAX and more.</description>\n",
    "   </book>\n",
    "   <book id=\"bk112\">\n",
    "      <author>Galos, Mike</author>\n",
    "      <title>Visual Studio 7: A Comprehensive Guide</title>\n",
    "      <genre>Computer</genre>\n",
    "      <price>49.95</price>\n",
    "      <publish_date>2001-04-16</publish_date>\n",
    "      <description>Microsoft Visual Studio 7 is explored in depth,\n",
    "      looking at how Visual Basic, Visual C++, C#, and ASP+ are\n",
    "      integrated into a comprehensive development\n",
    "      environment.</description>\n",
    "   </book>\n",
    "</catalog>\n"
   ]
  },
  {
   "cell_type": "code",
   "execution_count": 4,
   "metadata": {},
   "outputs": [],
   "source": [
    "import xml.etree.ElementTree as et"
   ]
  },
  {
   "cell_type": "code",
   "execution_count": 7,
   "metadata": {},
   "outputs": [
    {
     "data": {
      "text/plain": [
       "<xml.etree.ElementTree.ElementTree at 0x7f14c4672630>"
      ]
     },
     "execution_count": 7,
     "metadata": {},
     "output_type": "execute_result"
    }
   ],
   "source": [
    "tree = et.parse(\"xml/books.xml\")\n",
    "tree"
   ]
  },
  {
   "cell_type": "code",
   "execution_count": 8,
   "metadata": {},
   "outputs": [
    {
     "data": {
      "text/plain": [
       "<Element 'catalog' at 0x7f14c4673368>"
      ]
     },
     "execution_count": 8,
     "metadata": {},
     "output_type": "execute_result"
    }
   ],
   "source": [
    "catalog = tree.getroot()\n",
    "catalog"
   ]
  },
  {
   "cell_type": "code",
   "execution_count": 13,
   "metadata": {},
   "outputs": [
    {
     "name": "stdout",
     "output_type": "stream",
     "text": [
      "catalog\n",
      "None\n",
      "{}\n"
     ]
    }
   ],
   "source": [
    "print(catalog.tag)\n",
    "print(catalog.text)\n",
    "print(catalog.attrib)"
   ]
  },
  {
   "cell_type": "code",
   "execution_count": 15,
   "metadata": {},
   "outputs": [
    {
     "data": {
      "text/plain": [
       "<Element 'book' at 0x7f14c46733b8>"
      ]
     },
     "execution_count": 15,
     "metadata": {},
     "output_type": "execute_result"
    }
   ],
   "source": [
    "b = catalog[0]\n",
    "b"
   ]
  },
  {
   "cell_type": "code",
   "execution_count": 19,
   "metadata": {
    "scrolled": true
   },
   "outputs": [
    {
     "name": "stdout",
     "output_type": "stream",
     "text": [
      "book\n",
      "\n",
      "      this is a test book\n",
      "      \n",
      "{'id': 'bk101', 'country': 'India', 'type': 'technical'}\n",
      "<Element 'author' at 0x7f14c4673458>\n"
     ]
    }
   ],
   "source": [
    "print(b.tag)\n",
    "print(b.text)\n",
    "print(b.attrib)\n",
    "print(b[0])"
   ]
  },
  {
   "cell_type": "code",
   "execution_count": 20,
   "metadata": {},
   "outputs": [
    {
     "data": {
      "text/plain": [
       "12"
      ]
     },
     "execution_count": 20,
     "metadata": {},
     "output_type": "execute_result"
    }
   ],
   "source": [
    "len(catalog)"
   ]
  },
  {
   "cell_type": "code",
   "execution_count": 23,
   "metadata": {
    "scrolled": true
   },
   "outputs": [
    {
     "name": "stdout",
     "output_type": "stream",
     "text": [
      "Computer\n",
      "Fantasy\n",
      "Fantasy\n",
      "Fantasy\n",
      "Fantasy\n",
      "Romance\n",
      "Romance\n",
      "Horror\n",
      "Science Fiction\n",
      "Computer\n",
      "Computer\n",
      "Computer\n"
     ]
    }
   ],
   "source": [
    "for b in catalog:\n",
    "    print(b[2].text)"
   ]
  },
  {
   "cell_type": "code",
   "execution_count": 25,
   "metadata": {},
   "outputs": [
    {
     "data": {
      "text/plain": [
       "'Gambardella, Matthew'"
      ]
     },
     "execution_count": 25,
     "metadata": {},
     "output_type": "execute_result"
    }
   ],
   "source": [
    "catalog.find(\"./book/author\").text"
   ]
  },
  {
   "cell_type": "code",
   "execution_count": 26,
   "metadata": {
    "scrolled": true
   },
   "outputs": [
    {
     "data": {
      "text/plain": [
       "[<Element 'author' at 0x7f14c4673458>,\n",
       " <Element 'author' at 0x7f14c4673688>,\n",
       " <Element 'author' at 0x7f14c46738b8>,\n",
       " <Element 'author' at 0x7f14c4673ae8>,\n",
       " <Element 'author' at 0x7f14c4673d68>,\n",
       " <Element 'author' at 0x7f14c4673f98>,\n",
       " <Element 'author' at 0x7f14c45a4228>,\n",
       " <Element 'author' at 0x7f14c45a4458>,\n",
       " <Element 'author' at 0x7f14c45a4688>,\n",
       " <Element 'author' at 0x7f14c45a48b8>,\n",
       " <Element 'author' at 0x7f14c45a4ae8>,\n",
       " <Element 'author' at 0x7f14c45a4d68>]"
      ]
     },
     "execution_count": 26,
     "metadata": {},
     "output_type": "execute_result"
    }
   ],
   "source": [
    "catalog.findall(\"./book/author\")"
   ]
  },
  {
   "cell_type": "code",
   "execution_count": 28,
   "metadata": {
    "scrolled": false
   },
   "outputs": [
    {
     "name": "stdout",
     "output_type": "stream",
     "text": [
      "Gambardella, Matthew\n",
      "Ralls, Kim\n",
      "Corets, Eva\n",
      "Corets, Eva\n",
      "Corets, Eva\n",
      "Randall, Cynthia\n",
      "Thurman, Paula\n",
      "Knorr, Stefan\n",
      "Kress, Peter\n",
      "O'Brien, Tim\n",
      "O'Brien, Tim\n",
      "Galos, Mike\n"
     ]
    }
   ],
   "source": [
    "for author in catalog.iterfind(\"./book/author\"):\n",
    "    print(author.text)"
   ]
  },
  {
   "cell_type": "code",
   "execution_count": 29,
   "metadata": {
    "scrolled": false
   },
   "outputs": [
    {
     "name": "stdout",
     "output_type": "stream",
     "text": [
      "Gambardella, Matthew\n",
      "Ralls, Kim\n",
      "Corets, Eva\n",
      "Corets, Eva\n",
      "Corets, Eva\n",
      "Randall, Cynthia\n",
      "Thurman, Paula\n",
      "Knorr, Stefan\n",
      "Kress, Peter\n",
      "O'Brien, Tim\n",
      "O'Brien, Tim\n",
      "Galos, Mike\n"
     ]
    }
   ],
   "source": [
    "for author in catalog.iterfind(\".//author\"):\n",
    "    print(author.text)"
   ]
  },
  {
   "cell_type": "code",
   "execution_count": 30,
   "metadata": {
    "scrolled": true
   },
   "outputs": [
    {
     "name": "stdout",
     "output_type": "stream",
     "text": [
      "Gambardella, Matthew\n",
      "Ralls, Kim\n",
      "Corets, Eva\n",
      "Corets, Eva\n",
      "Corets, Eva\n",
      "Randall, Cynthia\n",
      "Thurman, Paula\n",
      "Knorr, Stefan\n",
      "Kress, Peter\n",
      "O'Brien, Tim\n",
      "O'Brien, Tim\n",
      "Galos, Mike\n"
     ]
    }
   ],
   "source": [
    "for author in catalog.iterfind(\"./*/author\"):\n",
    "    print(author.text)"
   ]
  },
  {
   "cell_type": "code",
   "execution_count": 32,
   "metadata": {},
   "outputs": [
    {
     "data": {
      "text/plain": [
       "'Corets, Eva'"
      ]
     },
     "execution_count": 32,
     "metadata": {},
     "output_type": "execute_result"
    }
   ],
   "source": [
    "catalog.find(\"./book[title='Maeve Ascendant']/author\").text"
   ]
  },
  {
   "cell_type": "code",
   "execution_count": 35,
   "metadata": {},
   "outputs": [
    {
     "data": {
      "text/plain": [
       "['Maeve Ascendant', \"Oberon's Legacy\", 'The Sundered Grail']"
      ]
     },
     "execution_count": 35,
     "metadata": {},
     "output_type": "execute_result"
    }
   ],
   "source": [
    "[ t.text for t in \\\n",
    " catalog.iterfind(\"./book[author='Corets, Eva']/title\") ]"
   ]
  },
  {
   "cell_type": "code",
   "execution_count": 36,
   "metadata": {},
   "outputs": [
    {
     "data": {
      "text/plain": [
       "'Maeve Ascendant'"
      ]
     },
     "execution_count": 36,
     "metadata": {},
     "output_type": "execute_result"
    }
   ],
   "source": [
    "catalog.find(\"./book[@id='bk103']/title\").text"
   ]
  },
  {
   "cell_type": "code",
   "execution_count": 37,
   "metadata": {
    "scrolled": true
   },
   "outputs": [
    {
     "data": {
      "text/plain": [
       "\"XML Developer's Guide\""
      ]
     },
     "execution_count": 37,
     "metadata": {},
     "output_type": "execute_result"
    }
   ],
   "source": [
    "catalog.find(\"./book[@country]/title\").text"
   ]
  },
  {
   "cell_type": "code",
   "execution_count": 39,
   "metadata": {},
   "outputs": [
    {
     "data": {
      "text/plain": [
       "'44.95'"
      ]
     },
     "execution_count": 39,
     "metadata": {},
     "output_type": "execute_result"
    }
   ],
   "source": [
    "catalog.find(\"./book/price\").text"
   ]
  },
  {
   "cell_type": "code",
   "execution_count": 41,
   "metadata": {},
   "outputs": [
    {
     "data": {
      "text/plain": [
       "[44.95, 5.95, 5.95, 5.95, 5.95, 4.95, 4.95, 4.95, 6.95, 36.95, 36.95, 49.95]"
      ]
     },
     "execution_count": 41,
     "metadata": {},
     "output_type": "execute_result"
    }
   ],
   "source": [
    "[ float(price.text) for price in catalog.iterfind(\"./book/price\") ]"
   ]
  },
  {
   "cell_type": "code",
   "execution_count": 42,
   "metadata": {
    "scrolled": true
   },
   "outputs": [
    {
     "data": {
      "text/plain": [
       "[\"XML Developer's Guide\",\n",
       " 'Midnight Rain',\n",
       " 'Maeve Ascendant',\n",
       " \"Oberon's Legacy\",\n",
       " 'The Sundered Grail',\n",
       " 'Lover Birds',\n",
       " 'Splish Splash',\n",
       " 'Creepy Crawlies',\n",
       " 'Paradox Lost',\n",
       " 'Microsoft .NET: The Programming Bible',\n",
       " 'MSXML3: A Comprehensive Guide',\n",
       " 'Visual Studio 7: A Comprehensive Guide']"
      ]
     },
     "execution_count": 42,
     "metadata": {},
     "output_type": "execute_result"
    }
   ],
   "source": [
    "[ book.find(\"./title\").text for book in catalog ]"
   ]
  },
  {
   "cell_type": "code",
   "execution_count": 44,
   "metadata": {},
   "outputs": [
    {
     "data": {
      "text/plain": [
       "[\"XML Developer's Guide\",\n",
       " 'Microsoft .NET: The Programming Bible',\n",
       " 'MSXML3: A Comprehensive Guide',\n",
       " 'Visual Studio 7: A Comprehensive Guide']"
      ]
     },
     "execution_count": 44,
     "metadata": {},
     "output_type": "execute_result"
    }
   ],
   "source": [
    "[ book.find(\"./title\").text for book in catalog \\\n",
    "    if float(book.find(\"./price\").text) > 10.0 ]"
   ]
  },
  {
   "cell_type": "code",
   "execution_count": 45,
   "metadata": {},
   "outputs": [],
   "source": [
    "import lxml.etree as et"
   ]
  },
  {
   "cell_type": "code",
   "execution_count": 50,
   "metadata": {
    "scrolled": true
   },
   "outputs": [
    {
     "name": "stdout",
     "output_type": "stream",
     "text": [
      "<lxml.etree._ElementTree object at 0x7f14aee8ec08>\n",
      "<Element catalog at 0x7f14aee931c8>\n",
      "catalog {} None\n"
     ]
    }
   ],
   "source": [
    "tree = et.parse(\"xml/books.xml\")\n",
    "print(tree)\n",
    "catalog = tree.getroot()\n",
    "print(catalog)\n",
    "print(catalog.tag, catalog.attrib, catalog.text)"
   ]
  },
  {
   "cell_type": "code",
   "execution_count": 51,
   "metadata": {
    "scrolled": true
   },
   "outputs": [
    {
     "data": {
      "text/plain": [
       "[\"XML Developer's Guide\",\n",
       " 'Microsoft .NET: The Programming Bible',\n",
       " 'MSXML3: A Comprehensive Guide',\n",
       " 'Visual Studio 7: A Comprehensive Guide']"
      ]
     },
     "execution_count": 51,
     "metadata": {},
     "output_type": "execute_result"
    }
   ],
   "source": [
    "[ book.find(\"./title\").text for book in catalog \\\n",
    "    if float(book.find(\"./price\").text) > 10.0 ]"
   ]
  },
  {
   "cell_type": "code",
   "execution_count": 53,
   "metadata": {},
   "outputs": [
    {
     "data": {
      "text/plain": [
       "[\"XML Developer's Guide\",\n",
       " 'Midnight Rain',\n",
       " 'Maeve Ascendant',\n",
       " \"Oberon's Legacy\",\n",
       " 'The Sundered Grail',\n",
       " 'Lover Birds',\n",
       " 'Splish Splash',\n",
       " 'Creepy Crawlies',\n",
       " 'Paradox Lost',\n",
       " 'Microsoft .NET: The Programming Bible',\n",
       " 'MSXML3: A Comprehensive Guide',\n",
       " 'Visual Studio 7: A Comprehensive Guide']"
      ]
     },
     "execution_count": 53,
     "metadata": {},
     "output_type": "execute_result"
    }
   ],
   "source": [
    "catalog.xpath(\"./book/title/text()\")"
   ]
  },
  {
   "cell_type": "code",
   "execution_count": 54,
   "metadata": {
    "scrolled": true
   },
   "outputs": [
    {
     "data": {
      "text/plain": [
       "['bk101',\n",
       " 'bk102',\n",
       " 'bk103',\n",
       " 'bk104',\n",
       " 'bk105',\n",
       " 'bk106',\n",
       " 'bk107',\n",
       " 'bk108',\n",
       " 'bk109',\n",
       " 'bk110',\n",
       " 'bk111',\n",
       " 'bk112']"
      ]
     },
     "execution_count": 54,
     "metadata": {},
     "output_type": "execute_result"
    }
   ],
   "source": [
    "catalog.xpath(\"./book/@id\")"
   ]
  },
  {
   "cell_type": "code",
   "execution_count": 55,
   "metadata": {},
   "outputs": [
    {
     "data": {
      "text/plain": [
       "['Midnight Rain',\n",
       " 'Maeve Ascendant',\n",
       " \"Oberon's Legacy\",\n",
       " 'The Sundered Grail',\n",
       " 'Lover Birds',\n",
       " 'Splish Splash',\n",
       " 'Creepy Crawlies',\n",
       " 'Paradox Lost']"
      ]
     },
     "execution_count": 55,
     "metadata": {},
     "output_type": "execute_result"
    }
   ],
   "source": [
    "catalog.xpath(\"./book[price < 10.0]/title/text()\")"
   ]
  },
  {
   "cell_type": "code",
   "execution_count": 57,
   "metadata": {},
   "outputs": [],
   "source": [
    "import lxml.etree as et # XML parser\n",
    "import lxml.html as hp # HTML parser"
   ]
  },
  {
   "cell_type": "code",
   "execution_count": 61,
   "metadata": {},
   "outputs": [],
   "source": [
    "tree = hp.parse(\"xml/index.html\")"
   ]
  },
  {
   "cell_type": "code",
   "execution_count": 63,
   "metadata": {},
   "outputs": [],
   "source": [
    "html = tree.getroot()"
   ]
  },
  {
   "cell_type": "code",
   "execution_count": 65,
   "metadata": {},
   "outputs": [
    {
     "data": {
      "text/plain": [
       "['#start-of-content',\n",
       " 'https://github.com/',\n",
       " '/join?source=header-home',\n",
       " '/features',\n",
       " '/features/code-review/',\n",
       " '/features/project-management/',\n",
       " '/features/integrations',\n",
       " '/features/actions',\n",
       " '/features/packages',\n",
       " '/features/security',\n",
       " '/features#team-management',\n",
       " '/features#social-coding',\n",
       " '/features#documentation',\n",
       " '/features#code-hosting',\n",
       " '/customer-stories',\n",
       " '/security',\n",
       " '/enterprise',\n",
       " '/explore',\n",
       " '/topics',\n",
       " '/collections',\n",
       " '/trending',\n",
       " 'https://lab.github.com/',\n",
       " 'https://opensource.guide',\n",
       " 'https://github.com/events',\n",
       " 'https://github.community',\n",
       " 'https://education.github.com',\n",
       " '/marketplace',\n",
       " '/pricing',\n",
       " '/pricing#feature-comparison',\n",
       " 'https://enterprise.github.com/contact',\n",
       " '/nonprofit',\n",
       " 'https://education.github.com',\n",
       " '',\n",
       " '',\n",
       " '',\n",
       " '/login',\n",
       " '/join?source=header-home',\n",
       " '/open-source',\n",
       " '/business',\n",
       " 'https://help.github.com/articles/creating-a-strong-password',\n",
       " 'https://help.github.com/terms',\n",
       " 'https://help.github.com/privacy',\n",
       " '/join?source=button-home',\n",
       " '/join?plan=business_plus&setup_organization=true&source=home-enterprise-prompt',\n",
       " 'https://enterprise.github.com/trial',\n",
       " 'https://enterprise.github.com/contact',\n",
       " 'http://github.blog/2019-11-13-universe-day-one',\n",
       " '/join?plan=business&setup_organization=true&source=home',\n",
       " '/features/code-review',\n",
       " '/features/project-management',\n",
       " '/features/integrations',\n",
       " '/customer-stories/mgm-resorts',\n",
       " '/customer-stories/nationwide',\n",
       " '/customer-stories/sap',\n",
       " '/customer-stories/spotify',\n",
       " '/enterprise',\n",
       " '/pricing',\n",
       " 'https://enterprise.github.com/contact',\n",
       " '/features/integrations',\n",
       " '/marketplace',\n",
       " '/customer-stories/freakboy3742',\n",
       " '/customer-stories/kris-nova',\n",
       " '/customer-stories/yyx990803',\n",
       " '/customer-stories/jessfraz',\n",
       " '/open-source',\n",
       " '/personal',\n",
       " '/business',\n",
       " 'https://help.github.com/terms',\n",
       " 'https://help.github.com/privacy',\n",
       " '/',\n",
       " '/features',\n",
       " '/security',\n",
       " '/enterprise',\n",
       " '/customer-stories',\n",
       " '/pricing',\n",
       " 'https://resources.github.com',\n",
       " 'https://developer.github.com',\n",
       " 'http://partner.github.com/',\n",
       " 'https://atom.io',\n",
       " 'http://electron.atom.io/',\n",
       " 'https://desktop.github.com/',\n",
       " 'https://help.github.com',\n",
       " 'https://github.community',\n",
       " 'https://services.github.com/',\n",
       " 'https://lab.github.com/',\n",
       " 'https://githubstatus.com/',\n",
       " 'https://github.com/contact',\n",
       " 'https://github.com/about',\n",
       " 'https://github.blog',\n",
       " '/about/careers',\n",
       " '/about/press',\n",
       " 'https://shop.github.com',\n",
       " 'https://twitter.com/github',\n",
       " 'https://www.facebook.com/GitHub',\n",
       " 'https://www.youtube.com/github',\n",
       " 'https://www.linkedin.com/company/github',\n",
       " 'https://github.com/github',\n",
       " '/site/terms',\n",
       " '/site/privacy',\n",
       " '',\n",
       " '']"
      ]
     },
     "execution_count": 65,
     "metadata": {},
     "output_type": "execute_result"
    }
   ],
   "source": [
    "html.xpath(\".//a/@href\")"
   ]
  },
  {
   "cell_type": "code",
   "execution_count": 69,
   "metadata": {},
   "outputs": [
    {
     "data": {
      "text/plain": [
       "<InputElement 7f14aebcdc28 name='utf8' type='hidden'>"
      ]
     },
     "execution_count": 69,
     "metadata": {},
     "output_type": "execute_result"
    }
   ],
   "source": [
    "i = html.xpath(\".//form/input\")[0]\n",
    "i"
   ]
  },
  {
   "cell_type": "code",
   "execution_count": 72,
   "metadata": {},
   "outputs": [
    {
     "data": {
      "text/plain": [
       "'utf8'"
      ]
     },
     "execution_count": 72,
     "metadata": {},
     "output_type": "execute_result"
    }
   ],
   "source": [
    "i.name"
   ]
  },
  {
   "cell_type": "code",
   "execution_count": 73,
   "metadata": {
    "scrolled": true
   },
   "outputs": [
    {
     "data": {
      "text/plain": [
       "['utf8',\n",
       " 'utf8',\n",
       " 'authenticity_token',\n",
       " 'ga_id',\n",
       " 'source',\n",
       " 'required_field_c9cd',\n",
       " 'timestamp',\n",
       " 'timestamp_secret',\n",
       " 'utf8',\n",
       " 'authenticity_token',\n",
       " 'ga_id']"
      ]
     },
     "execution_count": 73,
     "metadata": {},
     "output_type": "execute_result"
    }
   ],
   "source": [
    "[ inp.name for inp in html.xpath(\".//form/input\")]"
   ]
  },
  {
   "cell_type": "code",
   "execution_count": 74,
   "metadata": {},
   "outputs": [
    {
     "data": {
      "text/plain": [
       "[]"
      ]
     },
     "execution_count": 74,
     "metadata": {},
     "output_type": "execute_result"
    }
   ],
   "source": [
    "html.xpath(\".//table\")"
   ]
  },
  {
   "cell_type": "code",
   "execution_count": 76,
   "metadata": {},
   "outputs": [
    {
     "name": "stdout",
     "output_type": "stream",
     "text": [
      "<class 'bs4.BeautifulSoup'>\n"
     ]
    }
   ],
   "source": [
    "#pip install beautifulsoup4\n",
    "from bs4 import BeautifulSoup\n",
    "\n",
    "with open(\"xml/index.html\") as infile:\n",
    "    soup = BeautifulSoup(infile.read())\n",
    "print(type(soup))"
   ]
  },
  {
   "cell_type": "code",
   "execution_count": 80,
   "metadata": {},
   "outputs": [
    {
     "data": {
      "text/plain": [
       "'https://github.githubassets.com'"
      ]
     },
     "execution_count": 80,
     "metadata": {},
     "output_type": "execute_result"
    }
   ],
   "source": [
    "soup.html.head.link[\"href\"]"
   ]
  },
  {
   "cell_type": "code",
   "execution_count": 82,
   "metadata": {},
   "outputs": [
    {
     "name": "stdout",
     "output_type": "stream",
     "text": [
      "https://github.githubassets.com\n"
     ]
    }
   ],
   "source": [
    "link = soup.html.head.link\n",
    "print(link[\"href\"])"
   ]
  },
  {
   "cell_type": "code",
   "execution_count": 97,
   "metadata": {},
   "outputs": [],
   "source": [
    "link = link.next"
   ]
  },
  {
   "cell_type": "code",
   "execution_count": 98,
   "metadata": {
    "scrolled": true
   },
   "outputs": [
    {
     "data": {
      "text/plain": [
       "<link href=\"https://avatars1.githubusercontent.com\" rel=\"dns-prefetch\"/>"
      ]
     },
     "execution_count": 98,
     "metadata": {},
     "output_type": "execute_result"
    }
   ],
   "source": [
    "link"
   ]
  },
  {
   "cell_type": "code",
   "execution_count": 99,
   "metadata": {},
   "outputs": [
    {
     "data": {
      "text/plain": [
       "'https://avatars1.githubusercontent.com'"
      ]
     },
     "execution_count": 99,
     "metadata": {},
     "output_type": "execute_result"
    }
   ],
   "source": [
    "link[\"href\"]"
   ]
  },
  {
   "cell_type": "code",
   "execution_count": 104,
   "metadata": {},
   "outputs": [
    {
     "data": {
      "text/plain": [
       "[]"
      ]
     },
     "execution_count": 104,
     "metadata": {},
     "output_type": "execute_result"
    }
   ],
   "source": [
    "soup.select(\"a [href]\")"
   ]
  },
  {
   "cell_type": "code",
   "execution_count": 107,
   "metadata": {},
   "outputs": [],
   "source": [
    "from urllib.request import urlopen"
   ]
  },
  {
   "cell_type": "code",
   "execution_count": 109,
   "metadata": {},
   "outputs": [],
   "source": [
    "r = urlopen(\"http://www.chandrashekar.info\")"
   ]
  },
  {
   "cell_type": "code",
   "execution_count": 111,
   "metadata": {
    "scrolled": false
   },
   "outputs": [
    {
     "data": {
      "text/plain": [
       "[('Date', 'Thu, 28 Nov 2019 05:07:16 GMT'),\n",
       " ('Server', 'Apache'),\n",
       " ('Expires', 'Sun, 19 Nov 1978 05:00:00 GMT'),\n",
       " ('Cache-Control', 'no-cache, must-revalidate, post-check=0, pre-check=0'),\n",
       " ('Content-Language', 'en'),\n",
       " ('X-Generator', 'Drupal 7 (http://drupal.org)'),\n",
       " ('Upgrade', 'h2'),\n",
       " ('Connection', 'Upgrade, close'),\n",
       " ('Last-Modified', 'Thu, 28 Nov 2019 05:07:16 GMT'),\n",
       " ('ETag', '\"1574917636\"'),\n",
       " ('Transfer-Encoding', 'chunked'),\n",
       " ('Content-Type', 'text/html; charset=utf-8')]"
      ]
     },
     "execution_count": 111,
     "metadata": {},
     "output_type": "execute_result"
    }
   ],
   "source": [
    "r.headers.items()"
   ]
  },
  {
   "cell_type": "code",
   "execution_count": 112,
   "metadata": {},
   "outputs": [
    {
     "data": {
      "text/plain": [
       "200"
      ]
     },
     "execution_count": 112,
     "metadata": {},
     "output_type": "execute_result"
    }
   ],
   "source": [
    "r.code"
   ]
  },
  {
   "cell_type": "code",
   "execution_count": 113,
   "metadata": {
    "scrolled": false
   },
   "outputs": [
    {
     "data": {
      "text/plain": [
       "b'<!DOCTYPE html>\\n<!--[if IEMobile 7]><html class=\"iem7\" lang=\"en\" dir=\"ltr\"><![endif]-->\\n<!--[if (lte IE 6)&(!IEMobile)]><html class=\"ie6 ie6-7 ie6-8\" lang=\"en\" dir=\"ltr\"><![endif]-->\\n<!--[if (IE 7)&(!IEMobile)]><html class=\"ie7 ie6-7 ie6-8\" lang=\"en\" dir=\"ltr\"><![endif]-->\\n<!--[if (IE 8)&(!IEMobile)]><html class=\"ie8 ie6-8\" lang=\"en\" dir=\"ltr\"><![endif]-->\\n<!--[if (gte IE 9)|(gt IEMobile 7)]><!--><html lang=\"en\" dir=\"ltr\"\\n  xmlns:content=\"http://purl.org/rss/1.0/modules/content/\"\\n  xmlns:dc=\"http://purl.org/dc/terms/\"\\n  xmlns:foaf=\"http://xmlns.com/foaf/0.1/\"\\n  xmlns:og=\"http://ogp.me/ns#\"\\n  xmlns:rdfs=\"http://www.w3.org/2000/01/rdf-schema#\"\\n  xmlns:sioc=\"http://rdfs.org/sioc/ns#\"\\n  xmlns:sioct=\"http://rdfs.org/sioc/types#\"\\n  xmlns:skos=\"http://www.w3.org/2004/02/skos/core#\"\\n  xmlns:xsd=\"http://www.w3.org/2001/XMLSchema#\"><!--<![endif]-->\\n<head>\\n<meta charset=\"utf-8\" />\\n<link rel=\"alternate\" type=\"application/rss+xml\" title=\"Chandrashekar Babu RSS\" href=\"http://www.chandrashekar.info/rss.xml\" />\\n<meta name=\"Generator\" content=\"Drupal 7 (http://drupal.org)\" />\\n<meta name=\"viewport\" content=\"width=device-width, initial-scale=1\">\\n<meta name=\"MobileOptimized\" content=\"width\">\\n<meta name=\"HandheldFriendly\" content=\"true\">\\n<meta name=\"apple-mobile-web-app-capable\" content=\"yes\">\\n<meta http-equiv=\"cleartype\" content=\"on\">\\n<meta http-equiv=\"X-UA-Compatible\" content=\"IE=edge, chrome=1\">\\n<title>Chandrashekar Babu | Experienced FOSS Technologist and Corporate Trainer</title>\\n<style>@import url(\"http://www.chandrashekar.info/modules/system/system.base.css?mcppxf\");\\n@import url(\"http://www.chandrashekar.info/modules/system/system.menus.css?mcppxf\");\\n@import url(\"http://www.chandrashekar.info/modules/system/system.messages.css?mcppxf\");\\n@import url(\"http://www.chandrashekar.info/modules/system/system.theme.css?mcppxf\");</style>\\n<style>@import url(\"http://www.chandrashekar.info/modules/aggregator/aggregator.css?mcppxf\");\\n@import url(\"http://www.chandrashekar.info/modules/comment/comment.css?mcppxf\");\\n@import url(\"http://www.chandrashekar.info/sites/all/modules/date/date_api/date.css?mcppxf\");\\n@import url(\"http://www.chandrashekar.info/sites/all/modules/date/date_popup/themes/datepicker.1.7.css?mcppxf\");\\n@import url(\"http://www.chandrashekar.info/sites/all/modules/date/date_repeat_field/date_repeat_field.css?mcppxf\");\\n@import url(\"http://www.chandrashekar.info/modules/field/theme/field.css?mcppxf\");\\n@import url(\"http://www.chandrashekar.info/modules/node/node.css?mcppxf\");\\n@import url(\"http://www.chandrashekar.info/modules/search/search.css?mcppxf\");\\n@import url(\"http://www.chandrashekar.info/modules/user/user.css?mcppxf\");\\n@import url(\"http://www.chandrashekar.info/sites/all/modules/views/css/views.css?mcppxf\");</style>\\n<style>@import url(\"http://www.chandrashekar.info/sites/all/modules/ckeditor/ckeditor.css?mcppxf\");\\n@import url(\"http://www.chandrashekar.info/sites/all/modules/ctools/css/ctools.css?mcppxf\");\\n@import url(\"http://www.chandrashekar.info/sites/all/libraries/syntaxhighlighter_3.0.83/styles/shCore.css?mcppxf\");\\n@import url(\"http://www.chandrashekar.info/sites/all/libraries/syntaxhighlighter_3.0.83/styles/shThemeDefault.css?mcppxf\");</style>\\n<style>body.bf-gwf-ubuntu,.bf-gwf-ubuntu .form-text{font-family:\\'Ubuntu\\'}\\nbody.snf-gwf-ubuntu #site-name{font-family :\\'Ubuntu\\'}\\nbody.ssf-gwf-ubuntu-condensed #site-slogan{font-family:\\'Ubuntu Condensed\\'}\\nbody.ptf-gwf-ubuntu-condensed #page-title{font-family:\\'Ubuntu Condensed\\'}\\nbody.ntf-gwf-ubuntu-condensed .article-title{font-family:\\'Ubuntu Condensed\\'}\\nbody.ctf-gwf-abel .comment-title{font-family:\\'Abel\\'}\\nbody.btf-gwf-abel .block-title{font-family:\\'Abel\\'}\\n</style>\\n<style>@import url(\"http://www.chandrashekar.info/sites/all/themes/adaptivetheme/adaptivetheme/css/at.base.css?mcppxf\");\\n@import url(\"http://www.chandrashekar.info/sites/all/themes/adaptivetheme/adaptivetheme/css/at.layout.css?mcppxf\");\\n@import url(\"http://www.chandrashekar.info/sites/all/themes/adaptivetheme/adaptivetheme/css/at.messages.css?mcppxf\");\\n@import url(\"http://www.chandrashekar.info/sites/default/files/color/pixture_reloaded-146a6f0f/colors.css?mcppxf\");\\n@import url(\"http://www.chandrashekar.info/sites/all/themes/pixture_reloaded/css/pixture_reloaded.css?mcppxf\");\\n@import url(\"http://www.chandrashekar.info/sites/all/themes/pixture_reloaded/css/pixture_reloaded.settings.style.css?mcppxf\");</style>\\n<link type=\"text/css\" rel=\"stylesheet\" href=\"http://www.chandrashekar.info/sites/all/themes/pixture_reloaded/css/pixture_reloaded.responsive.style.css?mcppxf\" media=\"all\" />\\n<link type=\"text/css\" rel=\"stylesheet\" href=\"http://www.chandrashekar.info/sites/all/themes/pixture_reloaded/css/pixture_reloaded.responsive.gpanels.css?mcppxf\" media=\"all\" />\\n<link type=\"text/css\" rel=\"stylesheet\" href=\"http://www.chandrashekar.info/sites/default/files/at_css/pixture_reloaded.responsive.layout.css?mcppxf\" media=\"all\" />\\n<link type=\"text/css\" rel=\"stylesheet\" href=\"//fonts.googleapis.com/css?family=Ubuntu|Ubuntu+Condensed|Abel\" media=\"all\" />\\n\\n<!--[if lt IE 9]>\\n<link type=\"text/css\" rel=\"stylesheet\" href=\"http://www.chandrashekar.info/sites/default/files/at_css/pixture_reloaded.lt-ie9.layout.css?mcppxf\" media=\"all\" />\\n<![endif]-->\\n<script src=\"http://www.chandrashekar.info/misc/jquery.js?v=1.4.4\"></script>\\n<script src=\"http://www.chandrashekar.info/misc/jquery.once.js?v=1.2\"></script>\\n<script src=\"http://www.chandrashekar.info/misc/drupal.js?mcppxf\"></script>\\n<script src=\"http://www.chandrashekar.info/sites/all/libraries/syntaxhighlighter_3.0.83/scripts/shCore.js?mcppxf\"></script>\\n<script src=\"http://www.chandrashekar.info/sites/all/libraries/syntaxhighlighter_3.0.83/scripts/shBrushBash.js?mcppxf\"></script>\\n<script src=\"http://www.chandrashekar.info/sites/all/libraries/syntaxhighlighter_3.0.83/scripts/shBrushCpp.js?mcppxf\"></script>\\n<script src=\"http://www.chandrashekar.info/sites/all/libraries/syntaxhighlighter_3.0.83/scripts/shBrushCss.js?mcppxf\"></script>\\n<script src=\"http://www.chandrashekar.info/sites/all/libraries/syntaxhighlighter_3.0.83/scripts/shBrushDiff.js?mcppxf\"></script>\\n<script src=\"http://www.chandrashekar.info/sites/all/libraries/syntaxhighlighter_3.0.83/scripts/shBrushGroovy.js?mcppxf\"></script>\\n<script src=\"http://www.chandrashekar.info/sites/all/libraries/syntaxhighlighter_3.0.83/scripts/shBrushJava.js?mcppxf\"></script>\\n<script src=\"http://www.chandrashekar.info/sites/all/libraries/syntaxhighlighter_3.0.83/scripts/shBrushPerl.js?mcppxf\"></script>\\n<script src=\"http://www.chandrashekar.info/sites/all/libraries/syntaxhighlighter_3.0.83/scripts/shBrushPhp.js?mcppxf\"></script>\\n<script src=\"http://www.chandrashekar.info/sites/all/libraries/syntaxhighlighter_3.0.83/scripts/shBrushPython.js?mcppxf\"></script>\\n<script src=\"http://www.chandrashekar.info/sites/all/libraries/syntaxhighlighter_3.0.83/scripts/shBrushRuby.js?mcppxf\"></script>\\n<script src=\"http://www.chandrashekar.info/sites/all/libraries/syntaxhighlighter_3.0.83/scripts/shBrushSql.js?mcppxf\"></script>\\n<script src=\"http://www.chandrashekar.info/sites/all/libraries/syntaxhighlighter_3.0.83/scripts/shBrushXml.js?mcppxf\"></script>\\n<script>jQuery.extend(Drupal.settings, {\"basePath\":\"\\\\/\",\"pathPrefix\":\"\",\"ajaxPageState\":{\"theme\":\"pixture_reloaded\",\"theme_token\":\"WWBZwzV-PFixAfE11oOLm1FVpfpq-Pz8en4y83lKRUo\",\"js\":{\"sites\\\\/all\\\\/modules\\\\/syntaxhighlighter\\\\/syntaxhighlighter.min.js\":1,\"misc\\\\/jquery.js\":1,\"misc\\\\/jquery.once.js\":1,\"misc\\\\/drupal.js\":1,\"sites\\\\/all\\\\/libraries\\\\/syntaxhighlighter_3.0.83\\\\/scripts\\\\/shCore.js\":1,\"sites\\\\/all\\\\/libraries\\\\/syntaxhighlighter_3.0.83\\\\/scripts\\\\/shBrushBash.js\":1,\"sites\\\\/all\\\\/libraries\\\\/syntaxhighlighter_3.0.83\\\\/scripts\\\\/shBrushCpp.js\":1,\"sites\\\\/all\\\\/libraries\\\\/syntaxhighlighter_3.0.83\\\\/scripts\\\\/shBrushCss.js\":1,\"sites\\\\/all\\\\/libraries\\\\/syntaxhighlighter_3.0.83\\\\/scripts\\\\/shBrushDiff.js\":1,\"sites\\\\/all\\\\/libraries\\\\/syntaxhighlighter_3.0.83\\\\/scripts\\\\/shBrushGroovy.js\":1,\"sites\\\\/all\\\\/libraries\\\\/syntaxhighlighter_3.0.83\\\\/scripts\\\\/shBrushJava.js\":1,\"sites\\\\/all\\\\/libraries\\\\/syntaxhighlighter_3.0.83\\\\/scripts\\\\/shBrushPerl.js\":1,\"sites\\\\/all\\\\/libraries\\\\/syntaxhighlighter_3.0.83\\\\/scripts\\\\/shBrushPhp.js\":1,\"sites\\\\/all\\\\/libraries\\\\/syntaxhighlighter_3.0.83\\\\/scripts\\\\/shBrushPython.js\":1,\"sites\\\\/all\\\\/libraries\\\\/syntaxhighlighter_3.0.83\\\\/scripts\\\\/shBrushRuby.js\":1,\"sites\\\\/all\\\\/libraries\\\\/syntaxhighlighter_3.0.83\\\\/scripts\\\\/shBrushSql.js\":1,\"sites\\\\/all\\\\/libraries\\\\/syntaxhighlighter_3.0.83\\\\/scripts\\\\/shBrushXml.js\":1},\"css\":{\"modules\\\\/system\\\\/system.base.css\":1,\"modules\\\\/system\\\\/system.menus.css\":1,\"modules\\\\/system\\\\/system.messages.css\":1,\"modules\\\\/system\\\\/system.theme.css\":1,\"modules\\\\/aggregator\\\\/aggregator.css\":1,\"modules\\\\/comment\\\\/comment.css\":1,\"sites\\\\/all\\\\/modules\\\\/date\\\\/date_api\\\\/date.css\":1,\"sites\\\\/all\\\\/modules\\\\/date\\\\/date_popup\\\\/themes\\\\/datepicker.1.7.css\":1,\"sites\\\\/all\\\\/modules\\\\/date\\\\/date_repeat_field\\\\/date_repeat_field.css\":1,\"modules\\\\/field\\\\/theme\\\\/field.css\":1,\"modules\\\\/node\\\\/node.css\":1,\"modules\\\\/search\\\\/search.css\":1,\"modules\\\\/user\\\\/user.css\":1,\"sites\\\\/all\\\\/modules\\\\/views\\\\/css\\\\/views.css\":1,\"sites\\\\/all\\\\/modules\\\\/ckeditor\\\\/ckeditor.css\":1,\"sites\\\\/all\\\\/modules\\\\/ctools\\\\/css\\\\/ctools.css\":1,\"sites\\\\/all\\\\/libraries\\\\/syntaxhighlighter_3.0.83\\\\/styles\\\\/shCore.css\":1,\"sites\\\\/all\\\\/libraries\\\\/syntaxhighlighter_3.0.83\\\\/styles\\\\/shThemeDefault.css\":1,\"0\":1,\"1\":1,\"2\":1,\"3\":1,\"4\":1,\"5\":1,\"6\":1,\"sites\\\\/all\\\\/themes\\\\/adaptivetheme\\\\/adaptivetheme\\\\/css\\\\/at.base.css\":1,\"sites\\\\/all\\\\/themes\\\\/adaptivetheme\\\\/adaptivetheme\\\\/css\\\\/at.layout.css\":1,\"sites\\\\/all\\\\/themes\\\\/adaptivetheme\\\\/adaptivetheme\\\\/css\\\\/at.messages.css\":1,\"sites\\\\/all\\\\/themes\\\\/pixture_reloaded\\\\/color\\\\/colors.css\":1,\"sites\\\\/all\\\\/themes\\\\/pixture_reloaded\\\\/css\\\\/pixture_reloaded.css\":1,\"sites\\\\/all\\\\/themes\\\\/pixture_reloaded\\\\/css\\\\/pixture_reloaded.settings.style.css\":1,\"sites\\\\/all\\\\/themes\\\\/pixture_reloaded\\\\/css\\\\/pixture_reloaded.responsive.style.css\":1,\"sites\\\\/all\\\\/themes\\\\/pixture_reloaded\\\\/css\\\\/pixture_reloaded.responsive.gpanels.css\":1,\"public:\\\\/\\\\/at_css\\\\/pixture_reloaded.responsive.layout.css\":1,\"\\\\/\\\\/fonts.googleapis.com\\\\/css?family=Ubuntu|Ubuntu+Condensed|Abel\":1,\"public:\\\\/\\\\/at_css\\\\/pixture_reloaded.lt-ie9.layout.css\":1}}});</script>\\n<!--[if lt IE 9]>\\n<script src=\"//html5shiv.googlecode.com/svn/trunk/html5.js\"></script>\\n<![endif]-->\\n</head>\\n<body class=\"html front not-logged-in one-sidebar sidebar-first page-node site-name-chandrashekar-babu color-scheme-teal pixture-reloaded fs-medium bs-l bb-g mb-dd mbp-r rc-4 ia-r bf-gwf-ubuntu snf-gwf-ubuntu ssf-gwf-ubuntu-condensed ptf-gwf-ubuntu-condensed ntf-gwf-ubuntu-condensed ctf-gwf-abel btf-gwf-abel hs-caps hs-ts\">\\n  <div id=\"skip-link\">\\n    <a href=\"#main-content\" class=\"element-invisible element-focusable\">Skip to main content</a>\\n  </div>\\n    <div class=\"texture-overlay\">\\n  <div id=\"page\" class=\"container\">\\n\\n    <header id=\"header\" class=\"clearfix\" role=\"banner\">\\n      <div class=\"header-inner clearfix\">\\n        <div id=\"branding\">\\n                                <hgroup>\\n                              <h1 id=\"site-name\"><a href=\"/\" title=\"Home page\" class=\"active\">Chandrashekar Babu</a></h1>\\n                                            <h2 id=\"site-slogan\">Experienced FOSS Technologist and Corporate Trainer</h2>\\n                          </hgroup>\\n                  </div>\\n         <!-- /header region -->\\n      </div>\\n    </header> <!-- /header -->\\n\\n      <div id=\"menu-bar\" class=\"nav clearfix\">\\n      <nav id=\"block-system-main-menu\" class=\"block block-system block-menu block-odd block-count-1 block-region-menu-bar menu-wrapper clearfix\">\\n              <h2 class=\"block-title element-invisible\">Main menu</h2>\\n            <ul class=\"menu clearfix\"><li class=\"first leaf menu-item-218\"><a href=\"/\" class=\"active\">Home</a></li><li class=\"leaf menu-item-378\"><a href=\"/about\" title=\"Know more about me\">About</a></li><li class=\"leaf menu-item-532\"><a href=\"/training.html\">Training</a></li><li class=\"leaf menu-item-540\"><a href=\"/training-calendar.html\">Calendar</a></li><li class=\"leaf menu-item-539\"><a href=\"/corporate-training-profile.html\">Profile</a></li><li class=\"leaf menu-item-536\"><a href=\"/articles.html\">Articles</a></li><li class=\"leaf menu-item-537\"><a href=\"/code-vault.html\">Code Vault</a></li><li class=\"leaf menu-item-538\"><a href=\"/random-thoughts.html\">Random Thoughts</a></li><li class=\"leaf menu-item-737\"><a href=\"http://www.chandrashekar.info/workshops\" title=\"Training workshop and open-house schedule\">Workshops</a></li><li class=\"leaf menu-item-541\"><a href=\"/links.html\">Bookmarks</a></li><li class=\"last leaf menu-item-535\"><a href=\"/contact.html\" title=\"Contact me\">Contact</a></li></ul>  </nav>\\n  </div>\\n <!-- /menu bar -->\\n\\n     <!-- /message -->\\n     <!-- /help -->\\n\\n    \\n     <!-- /secondary-content -->\\n\\n    <!-- Three column 3x33 Gpanel -->\\n    \\n    <div id=\"columns\"><div class=\"columns-inner clearfix\">\\n      <div id=\"content-column\"><div class=\"content-inner\">\\n\\n         <!-- /highlight -->\\n\\n                <div id=\"main-content\" role=\"main\">\\n\\n                              \\n            <div class=\"region region-content\">\\n    <div id=\"block-system-main\" class=\"block block-system block-odd block-count-2 block-region-content\">\\n  <div class=\"block-inner clearfix\">\\n                <div class=\"block-content content\">\\n      <article id=\"article-13\" class=\"article article-front-page-content article-promoted article-sticky article-teaser odd clearfix\" about=\"//\" typeof=\"sioc:Item foaf:Document\" role=\"article\">\\n\\n  \\n        <header>\\n              <h1 property=\"dc:title\" datatype=\"\" class=\"article-title\">\\n          <a href=\"//\" rel=\"bookmark\">Sharing the light of Software Freedom since 1997</a>\\n        </h1>\\n          </header>\\n    \\n  \\n  <div class=\"article-content\">\\n  <div class=\"field field-name-body field-type-text-with-summary field-label-hidden view-mode-teaser\"><div class=\"field-items\"><div class=\"field-item even\" property=\"content:encoded\"><p>Hi!<br />\\nWelcome to my personal web-site - a place on the World-Wide-Web where I share information about myself, my experience and knowledge on FOSS related technologies. </p>\\n<p>I am a FOSS technologist with passion for training. I started my career as a computer hardware and networking instructor at a computer hardware institute back in 1995 and have since, progressed to diverse roles in various IT companies. Since 2003, I have been working as an independent FOSS technologist with focus on training and consulting for various technologies that revolve around GNU/Linux and BSD operating systems. I have been conducting corporate training programs for various organizations on technologies that include Perl, Python, Ruby, PHP, Tcl/Tk, C, Java, Groovy, Haskell, Scala, Rails, Django, CodeIgniter, Kohana, Grails, Drupal, LAMP stacks, Apache Web Server Administration, Apache Tomcat Administration, Linux Administration, MySQL and MariaDB Administration, PostgreSQL Administration, Linux System Programming, Linux Kernel Internals and Debugging, Linux Security, OOAD and UML, Design Patterns, Agile Software Methodologies and SCRUM, Client-side web technologies (XHTML, HTML5, CSS2/CSS3, JavaScript, JQuery, Dojo, ExtJS, XML, JSON, W3C DOM) and <a href=\"about.html\">more...</a></p>\\n<p>Currently, I also manage <a href=\"http://www.slashprog.com/\">Slashprog Technologies</a> - an software consultancy and technology solutions firm co-founded by me. At Slashprog, we are currently developing products for Internet business verticals. I also train fresher computer science graduates and engage suitable candidates on my projects.</p>\\n<p>I have been a FOSS technology enthusiast after my first encounter with GNU/Linux sometime during 1995. Since then, I\\'ve managed to learn various technologies that range from system programming, databases, web application development, enterprise application frameworks in the FOSS ecosystem. My colleagues and clients have known me as the <i>polyglot developer</i> and <i>Jack of all tools</i> on FOSS. </p>\\n<p>I am passionate about two things in life - </p>\\n<ol><li>Learn new technologies and understand how they work together</li>\\n<li>Train and enlighten others on what I learn - this helps me learn more, keep me motivated and also gives me the joy and satisfaction of achievement.</li>\\n</ol><p>I spend most of my free time exploring new technologies and learning them. Though I\\'m lazy at documenting what I learn, this website should be serve as my sincere effort to collate my knowledge at one place. </p>\\n<p>If you are a programmer/engineer, you might be interested in the <a href=\"/articles.html\">articles section</a> and the <a href=\"/code-vault.html\">code vault</a> section.</p>\\n<p>If you are a training vendor or an organization seeking my corporate training services, you might be interested in the <a href=\"/training.html&gt;training section&lt;/a&gt; and also my &lt;a href=\">training calendar</a>.</p>\\n<p>You can might also be interested in reading my views on various other non technology aspects of life by looking up  <a href=\"/random-thoughts.html\">my random thoughts</a>.</p>\\n</div></div></div>\\n  </div>\\n\\n      <nav class=\"clearfix\"><ul class=\"links inline\"><li class=\"node-readmore first\"><a href=\"//\" rel=\"tag\" title=\"Sharing the light of Software Freedom since 1997\">Read more<span class=\"element-invisible\"> about Sharing the light of Software Freedom since 1997</span></a></li><li class=\"sharethis last\"><span class=\"sharethis-buttons\"><div class=\"sharethis-wrapper\"><span st_url=\"http://www.chandrashekar.info/node/13\" st_title=\"Sharing the light of Software Freedom since 1997 @chandrashekar_b\" class=\"st_twitter_hcount\" displaytext=\"twitter\"></span>\\n<span st_url=\"http://www.chandrashekar.info/node/13\" st_title=\"Sharing the light of Software Freedom since 1997\" class=\"st_linkedin_hcount\" displaytext=\"linkedin\"></span>\\n<span st_url=\"http://www.chandrashekar.info/node/13\" st_title=\"Sharing the light of Software Freedom since 1997\" class=\"st_googleplus_hcount\" displaytext=\"googleplus\"></span>\\n<span st_url=\"http://www.chandrashekar.info/node/13\" st_title=\"Sharing the light of Software Freedom since 1997\" class=\"st_facebook_hcount\" displaytext=\"facebook\"></span>\\n<span st_url=\"http://www.chandrashekar.info/node/13\" st_title=\"Sharing the light of Software Freedom since 1997\" class=\"st_sharethis_hcount\" displaytext=\"sharethis\"></span>\\n<script type=\\'text/javascript\\'>var switchTo5x = true;</script><script type=\\'text/javascript\\' src=\\'http://w.sharethis.com/button/buttons.js\\'></script><script type=\\'text/javascript\\'>stLight.options({\"publisher\":\"dr-d1d6cfd0-716c-a177-4e31-cabe602d59cd\"});</script></div></span></li></ul></nav>\\n  \\n  \\n</article>\\n<h2 class=\"element-invisible\">Pages</h2><div class=\"item-list\"><ul class=\"pager\"><li class=\"pager-current even first\">1</li><li class=\"pager-item odd\"><a title=\"Go to page 2\" href=\"/node?page=1\">2</a></li><li class=\"pager-item even\"><a title=\"Go to page 3\" href=\"/node?page=2\">3</a></li><li class=\"pager-item odd\"><a title=\"Go to page 4\" href=\"/node?page=3\">4</a></li><li class=\"pager-item even\"><a title=\"Go to page 5\" href=\"/node?page=4\">5</a></li><li class=\"pager-item odd\"><a title=\"Go to page 6\" href=\"/node?page=5\">6</a></li><li class=\"pager-item even\"><a title=\"Go to page 7\" href=\"/node?page=6\">7</a></li><li class=\"pager-item odd\"><a title=\"Go to page 8\" href=\"/node?page=7\">8</a></li><li class=\"pager-item even\"><a title=\"Go to page 9\" href=\"/node?page=8\">9</a></li><li class=\"pager-ellipsis odd\">\\xe2\\x80\\xa6</li><li class=\"pager-next even\"><a title=\"Go to next page\" href=\"/node?page=1\">next \\xe2\\x80\\xba</a></li><li class=\"pager-last odd last\"><a title=\"Go to last page\" href=\"/node?page=51\">last \\xc2\\xbb</a></li></ul></div>    </div>\\n  </div>\\n</div>\\n  </div>\\n <!-- /content -->\\n\\n          <a href=\"/rss.xml\" class=\"feed-icon\" title=\"Subscribe to Chandrashekar Babu RSS\"><img typeof=\"foaf:Image\" src=\"http://www.chandrashekar.info/misc/feed.png\" width=\"16\" height=\"16\" alt=\"Subscribe to Chandrashekar Babu RSS\" /></a> <!-- /feed icons -->\\n\\n        </div> <!-- /main-content -->\\n\\n         <!-- /content-aside -->\\n\\n      </div></div> <!-- /content-column -->\\n\\n        <div class=\"region region-sidebar-first sidebar\">\\n    <section id=\"block-node-recent\" class=\"block block-node block-odd block-count-3 block-region-sidebar-first\">\\n  <div class=\"block-inner clearfix\">\\n              <h2 class=\"block-title\">Recent content</h2>\\n            <div class=\"block-content content\">\\n      <table>\\n<tbody>\\n <tr class=\"odd\"><td class=\"title-author\"><div class=\"node-title\"><a href=\"/node/153\">This is another test by Pradeep</a></div><div class=\"node-author\"><span class=\"username\" xml:lang=\"\" about=\"/user/16\" typeof=\"sioc:UserAccount\" property=\"foaf:name\">testuser</span></div></td><td class=\"edit\"></td><td class=\"delete\"></td> </tr>\\n <tr class=\"even\"><td class=\"title-author\"><div class=\"node-title\"><a href=\"/node/152\">another test blog via robobrowser</a></div><div class=\"node-author\"><span class=\"username\" xml:lang=\"\" about=\"/user/16\" typeof=\"sioc:UserAccount\" property=\"foaf:name\">testuser</span></div></td><td class=\"edit\"></td><td class=\"delete\"></td> </tr>\\n <tr class=\"odd\"><td class=\"title-author\"><div class=\"node-title\"><a href=\"/node/151\">A new blog from RoboBrowser - 2018 Oct 10th - Chandrashekar</a></div><div class=\"node-author\"><span class=\"username\" xml:lang=\"\" about=\"/user/16\" typeof=\"sioc:UserAccount\" property=\"foaf:name\">testuser</span></div></td><td class=\"edit\"></td><td class=\"delete\"></td> </tr>\\n <tr class=\"even\"><td class=\"title-author\"><div class=\"node-title\"><a href=\"/node/150\">A test blog posted manually on Oct 10th - chandrashekar</a></div><div class=\"node-author\"><span class=\"username\" xml:lang=\"\" about=\"/user/16\" typeof=\"sioc:UserAccount\" property=\"foaf:name\">testuser</span></div></td><td class=\"edit\"></td><td class=\"delete\"></td> </tr>\\n <tr class=\"odd\"><td class=\"title-author\"><div class=\"node-title\"><a href=\"/node/149\">This is a test Title from A</a></div><div class=\"node-author\"><span class=\"username\" xml:lang=\"\" about=\"/user/16\" typeof=\"sioc:UserAccount\" property=\"foaf:name\">testuser</span></div></td><td class=\"edit\"></td><td class=\"delete\"></td> </tr>\\n <tr class=\"even\"><td class=\"title-author\"><div class=\"node-title\"><a href=\"/node/148\">new blog (Sep 28 2018) by Robobrowser</a></div><div class=\"node-author\"><span class=\"username\" xml:lang=\"\" about=\"/user/16\" typeof=\"sioc:UserAccount\" property=\"foaf:name\">testuser</span></div></td><td class=\"edit\"></td><td class=\"delete\"></td> </tr>\\n <tr class=\"odd\"><td class=\"title-author\"><div class=\"node-title\"><a href=\"/node/147\">test blog manual - 2018 sep 28</a></div><div class=\"node-author\"><span class=\"username\" xml:lang=\"\" about=\"/user/16\" typeof=\"sioc:UserAccount\" property=\"foaf:name\">testuser</span></div></td><td class=\"edit\"></td><td class=\"delete\"></td> </tr>\\n <tr class=\"even\"><td class=\"title-author\"><div class=\"node-title\"><a href=\"/node/146\">a new blog from robobrowser on aug 21</a></div><div class=\"node-author\"><span class=\"username\" xml:lang=\"\" about=\"/user/16\" typeof=\"sioc:UserAccount\" property=\"foaf:name\">testuser</span></div></td><td class=\"edit\"></td><td class=\"delete\"></td> </tr>\\n <tr class=\"odd\"><td class=\"title-author\"><div class=\"node-title\"><a href=\"/node/145\">a test blog added manually on August 21</a></div><div class=\"node-author\"><span class=\"username\" xml:lang=\"\" about=\"/user/16\" typeof=\"sioc:UserAccount\" property=\"foaf:name\">testuser</span></div></td><td class=\"edit\"></td><td class=\"delete\"></td> </tr>\\n <tr class=\"even\"><td class=\"title-author\"><div class=\"node-title\"><a href=\"/node/144\">a new automated blog - aug 03</a></div><div class=\"node-author\"><span class=\"username\" xml:lang=\"\" about=\"/user/16\" typeof=\"sioc:UserAccount\" property=\"foaf:name\">testuser</span></div></td><td class=\"edit\"></td><td class=\"delete\"></td> </tr>\\n</tbody>\\n</table>\\n    </div>\\n  </div>\\n</section>\\n  </div>\\n      \\n    </div></div> <!-- /columns -->\\n\\n     <!-- /tertiary-content -->\\n\\n    <!-- Four column Gpanel -->\\n    \\n          <footer id=\"footer\" role=\"contentinfo\"><div id=\"footer-inner\" class=\"clearfix\">\\n          <div class=\"region region-footer\">\\n    <div id=\"block-block-1\" class=\"block block-block block-odd block-count-4 block-region-footer\">\\n  <div class=\"block-inner clearfix\">\\n                <div class=\"block-content content\">\\n      <p>Contents of this website is Copyright \\xc2\\xa9 2004-2012 <a href=\"http://www.chandrashekar.info/\">Chandrashekar Babu</a>. All Rights Reserved.</p>\\n    </div>\\n  </div>\\n</div>\\n  </div>\\n <!-- /footer region -->\\n      </div></footer> <!-- /footer/footer-inner -->\\n    \\n  </div> <!-- /page -->\\n</div> <!-- /texture overlay -->  <script src=\"http://www.chandrashekar.info/sites/all/modules/syntaxhighlighter/syntaxhighlighter.min.js?mcppxf\"></script>\\n</body>\\n</html>\\n'"
      ]
     },
     "execution_count": 113,
     "metadata": {},
     "output_type": "execute_result"
    }
   ],
   "source": [
    "r.read()"
   ]
  },
  {
   "cell_type": "code",
   "execution_count": 117,
   "metadata": {},
   "outputs": [
    {
     "data": {
      "text/plain": [
       "<Response [404]>"
      ]
     },
     "execution_count": 117,
     "metadata": {},
     "output_type": "execute_result"
    }
   ],
   "source": [
    "# pip install requests\n",
    "import requests\n",
    "r = requests.get(\"http://www.chandrashekar.info/jgjkg\")\n",
    "r"
   ]
  },
  {
   "cell_type": "code",
   "execution_count": 118,
   "metadata": {},
   "outputs": [
    {
     "data": {
      "text/plain": [
       "(404, False)"
      ]
     },
     "execution_count": 118,
     "metadata": {},
     "output_type": "execute_result"
    }
   ],
   "source": [
    "r.status_code, r.ok"
   ]
  },
  {
   "cell_type": "code",
   "execution_count": 120,
   "metadata": {
    "scrolled": true
   },
   "outputs": [
    {
     "name": "stdout",
     "output_type": "stream",
     "text": [
      "{'Date': 'Thu, 28 Nov 2019 05:13:32 GMT', 'Server': 'Apache', 'Expires': 'Sun, 19 Nov 1978 05:00:00 GMT', 'Cache-Control': 'no-cache, must-revalidate, post-check=0, pre-check=0', 'Content-Language': 'en', 'X-Generator': 'Drupal 7 (http://drupal.org)', 'Upgrade': 'h2', 'Connection': 'Upgrade, Keep-Alive', 'Last-Modified': 'Thu, 28 Nov 2019 05:13:33 GMT', 'ETag': '\"1574918013\"', 'Keep-Alive': 'timeout=5, max=100', 'Transfer-Encoding': 'chunked', 'Content-Type': 'text/html; charset=utf-8'}\n",
      "<class 'requests.structures.CaseInsensitiveDict'>\n"
     ]
    }
   ],
   "source": [
    "print(r.headers)\n",
    "print(type(r.headers))\n"
   ]
  },
  {
   "cell_type": "code",
   "execution_count": 121,
   "metadata": {},
   "outputs": [
    {
     "data": {
      "text/plain": [
       "'text/html; charset=utf-8'"
      ]
     },
     "execution_count": 121,
     "metadata": {},
     "output_type": "execute_result"
    }
   ],
   "source": [
    "r.headers[\"Content-Type\"]\n",
    "r.headers[\"content-type\"]"
   ]
  },
  {
   "cell_type": "code",
   "execution_count": 123,
   "metadata": {},
   "outputs": [
    {
     "data": {
      "text/plain": [
       "'<!DOCTYPE html>\\n<!--[if IEMobile 7]><html class=\"iem7\" lang=\"en\" dir=\"ltr\"><![endif]-->\\n<!--[if (lte IE 6)&(!IEMobile)]><html class=\"ie6 ie6-7 ie6-8\" lang=\"en\" dir=\"ltr\"><![endif]-->\\n<!--[if (IE 7)&(!IEMobile)]><html class=\"ie7 ie6-7 ie6-8\" lang=\"en\" dir=\"ltr\"><![endif]-->\\n<!--[if (IE 8)&(!IEMobile)]><html class=\"ie8 ie6-8\" lang=\"en\" dir=\"ltr\"><![endif]-->\\n<!--[if (gte IE 9)|(gt IEMobile 7)]><!--><html lang=\"en\" dir=\"ltr\"\\n  xmlns:content=\"http://purl.org/rss/1.0/modules/content/\"\\n  xmlns:dc=\"http://purl.org/dc/terms/\"\\n  xmlns:foaf=\"http://xmlns.com/foaf/0.1/\"\\n  xmlns:og=\"http://ogp.me/ns#\"\\n  xmlns:rdfs=\"http://www.w3.org/2000/01/rdf-schema#\"\\n  xmlns:sioc=\"http://rdfs.org/sioc/ns#\"\\n  xmlns:sioct=\"http://rdfs.org/sioc/types#\"\\n  xmlns:skos=\"http://www.w3.org/2004/02/skos/core#\"\\n  xmlns:xsd=\"http://www.w3.org/2001/XMLSchema#\"><!--<![endif]-->\\n<head>\\n<meta charset=\"utf-8\" />\\n<meta name=\"Generator\" content=\"Drupal 7 (http://drupal.org)\" />\\n<meta name=\"viewport\" content=\"width=device-width, initial-scale=1\">\\n<meta name=\"MobileOptimized\" content=\"width\">\\n<meta name=\"HandheldFriendly\" content=\"true\">\\n<meta name=\"apple-mobile-web-app-capable\" content=\"yes\">\\n<meta http-equiv=\"cleartype\" content=\"on\">\\n<meta http-equiv=\"X-UA-Compatible\" content=\"IE=edge, chrome=1\">\\n<title>Page not found | Chandrashekar Babu</title>\\n<style>@import url(\"http://www.chandrashekar.info/modules/system/system.base.css?mcppxf\");\\n@import url(\"http://www.chandrashekar.info/modules/system/system.menus.css?mcppxf\");\\n@import url(\"http://www.chandrashekar.info/modules/system/system.messages.css?mcppxf\");\\n@import url(\"http://www.chandrashekar.info/modules/system/system.theme.css?mcppxf\");</style>\\n<style>@import url(\"http://www.chandrashekar.info/modules/aggregator/aggregator.css?mcppxf\");\\n@import url(\"http://www.chandrashekar.info/modules/comment/comment.css?mcppxf\");\\n@import url(\"http://www.chandrashekar.info/sites/all/modules/date/date_api/date.css?mcppxf\");\\n@import url(\"http://www.chandrashekar.info/sites/all/modules/date/date_popup/themes/datepicker.1.7.css?mcppxf\");\\n@import url(\"http://www.chandrashekar.info/sites/all/modules/date/date_repeat_field/date_repeat_field.css?mcppxf\");\\n@import url(\"http://www.chandrashekar.info/modules/field/theme/field.css?mcppxf\");\\n@import url(\"http://www.chandrashekar.info/modules/node/node.css?mcppxf\");\\n@import url(\"http://www.chandrashekar.info/modules/search/search.css?mcppxf\");\\n@import url(\"http://www.chandrashekar.info/modules/user/user.css?mcppxf\");\\n@import url(\"http://www.chandrashekar.info/sites/all/modules/views/css/views.css?mcppxf\");</style>\\n<style>@import url(\"http://www.chandrashekar.info/sites/all/modules/ckeditor/ckeditor.css?mcppxf\");\\n@import url(\"http://www.chandrashekar.info/sites/all/modules/ctools/css/ctools.css?mcppxf\");\\n@import url(\"http://www.chandrashekar.info/sites/all/libraries/syntaxhighlighter_3.0.83/styles/shCore.css?mcppxf\");\\n@import url(\"http://www.chandrashekar.info/sites/all/libraries/syntaxhighlighter_3.0.83/styles/shThemeDefault.css?mcppxf\");</style>\\n<style>body.bf-gwf-ubuntu,.bf-gwf-ubuntu .form-text{font-family:\\'Ubuntu\\'}\\nbody.snf-gwf-ubuntu #site-name{font-family :\\'Ubuntu\\'}\\nbody.ssf-gwf-ubuntu-condensed #site-slogan{font-family:\\'Ubuntu Condensed\\'}\\nbody.ptf-gwf-ubuntu-condensed #page-title{font-family:\\'Ubuntu Condensed\\'}\\nbody.ntf-gwf-ubuntu-condensed .article-title{font-family:\\'Ubuntu Condensed\\'}\\nbody.ctf-gwf-abel .comment-title{font-family:\\'Abel\\'}\\nbody.btf-gwf-abel .block-title{font-family:\\'Abel\\'}\\n</style>\\n<style>@import url(\"http://www.chandrashekar.info/sites/all/themes/adaptivetheme/adaptivetheme/css/at.base.css?mcppxf\");\\n@import url(\"http://www.chandrashekar.info/sites/all/themes/adaptivetheme/adaptivetheme/css/at.layout.css?mcppxf\");\\n@import url(\"http://www.chandrashekar.info/sites/all/themes/adaptivetheme/adaptivetheme/css/at.messages.css?mcppxf\");\\n@import url(\"http://www.chandrashekar.info/sites/default/files/color/pixture_reloaded-146a6f0f/colors.css?mcppxf\");\\n@import url(\"http://www.chandrashekar.info/sites/all/themes/pixture_reloaded/css/pixture_reloaded.css?mcppxf\");\\n@import url(\"http://www.chandrashekar.info/sites/all/themes/pixture_reloaded/css/pixture_reloaded.settings.style.css?mcppxf\");</style>\\n<link type=\"text/css\" rel=\"stylesheet\" href=\"http://www.chandrashekar.info/sites/all/themes/pixture_reloaded/css/pixture_reloaded.responsive.style.css?mcppxf\" media=\"all\" />\\n<link type=\"text/css\" rel=\"stylesheet\" href=\"http://www.chandrashekar.info/sites/all/themes/pixture_reloaded/css/pixture_reloaded.responsive.gpanels.css?mcppxf\" media=\"all\" />\\n<link type=\"text/css\" rel=\"stylesheet\" href=\"http://www.chandrashekar.info/sites/default/files/at_css/pixture_reloaded.responsive.layout.css?mcppxf\" media=\"all\" />\\n<link type=\"text/css\" rel=\"stylesheet\" href=\"//fonts.googleapis.com/css?family=Ubuntu|Ubuntu+Condensed|Abel\" media=\"all\" />\\n\\n<!--[if lt IE 9]>\\n<link type=\"text/css\" rel=\"stylesheet\" href=\"http://www.chandrashekar.info/sites/default/files/at_css/pixture_reloaded.lt-ie9.layout.css?mcppxf\" media=\"all\" />\\n<![endif]-->\\n<script src=\"http://www.chandrashekar.info/misc/jquery.js?v=1.4.4\"></script>\\n<script src=\"http://www.chandrashekar.info/misc/jquery.once.js?v=1.2\"></script>\\n<script src=\"http://www.chandrashekar.info/misc/drupal.js?mcppxf\"></script>\\n<script src=\"http://www.chandrashekar.info/sites/all/libraries/syntaxhighlighter_3.0.83/scripts/shCore.js?mcppxf\"></script>\\n<script src=\"http://www.chandrashekar.info/sites/all/libraries/syntaxhighlighter_3.0.83/scripts/shBrushBash.js?mcppxf\"></script>\\n<script src=\"http://www.chandrashekar.info/sites/all/libraries/syntaxhighlighter_3.0.83/scripts/shBrushCpp.js?mcppxf\"></script>\\n<script src=\"http://www.chandrashekar.info/sites/all/libraries/syntaxhighlighter_3.0.83/scripts/shBrushCss.js?mcppxf\"></script>\\n<script src=\"http://www.chandrashekar.info/sites/all/libraries/syntaxhighlighter_3.0.83/scripts/shBrushDiff.js?mcppxf\"></script>\\n<script src=\"http://www.chandrashekar.info/sites/all/libraries/syntaxhighlighter_3.0.83/scripts/shBrushGroovy.js?mcppxf\"></script>\\n<script src=\"http://www.chandrashekar.info/sites/all/libraries/syntaxhighlighter_3.0.83/scripts/shBrushJava.js?mcppxf\"></script>\\n<script src=\"http://www.chandrashekar.info/sites/all/libraries/syntaxhighlighter_3.0.83/scripts/shBrushPerl.js?mcppxf\"></script>\\n<script src=\"http://www.chandrashekar.info/sites/all/libraries/syntaxhighlighter_3.0.83/scripts/shBrushPhp.js?mcppxf\"></script>\\n<script src=\"http://www.chandrashekar.info/sites/all/libraries/syntaxhighlighter_3.0.83/scripts/shBrushPython.js?mcppxf\"></script>\\n<script src=\"http://www.chandrashekar.info/sites/all/libraries/syntaxhighlighter_3.0.83/scripts/shBrushRuby.js?mcppxf\"></script>\\n<script src=\"http://www.chandrashekar.info/sites/all/libraries/syntaxhighlighter_3.0.83/scripts/shBrushSql.js?mcppxf\"></script>\\n<script src=\"http://www.chandrashekar.info/sites/all/libraries/syntaxhighlighter_3.0.83/scripts/shBrushXml.js?mcppxf\"></script>\\n<script>jQuery.extend(Drupal.settings, {\"basePath\":\"\\\\/\",\"pathPrefix\":\"\",\"ajaxPageState\":{\"theme\":\"pixture_reloaded\",\"theme_token\":\"In7bhLiLCfFL6gZ3OvcbDfEWyzQ36l7Vxblmw63BYr8\",\"js\":{\"sites\\\\/all\\\\/modules\\\\/syntaxhighlighter\\\\/syntaxhighlighter.min.js\":1,\"misc\\\\/jquery.js\":1,\"misc\\\\/jquery.once.js\":1,\"misc\\\\/drupal.js\":1,\"sites\\\\/all\\\\/libraries\\\\/syntaxhighlighter_3.0.83\\\\/scripts\\\\/shCore.js\":1,\"sites\\\\/all\\\\/libraries\\\\/syntaxhighlighter_3.0.83\\\\/scripts\\\\/shBrushBash.js\":1,\"sites\\\\/all\\\\/libraries\\\\/syntaxhighlighter_3.0.83\\\\/scripts\\\\/shBrushCpp.js\":1,\"sites\\\\/all\\\\/libraries\\\\/syntaxhighlighter_3.0.83\\\\/scripts\\\\/shBrushCss.js\":1,\"sites\\\\/all\\\\/libraries\\\\/syntaxhighlighter_3.0.83\\\\/scripts\\\\/shBrushDiff.js\":1,\"sites\\\\/all\\\\/libraries\\\\/syntaxhighlighter_3.0.83\\\\/scripts\\\\/shBrushGroovy.js\":1,\"sites\\\\/all\\\\/libraries\\\\/syntaxhighlighter_3.0.83\\\\/scripts\\\\/shBrushJava.js\":1,\"sites\\\\/all\\\\/libraries\\\\/syntaxhighlighter_3.0.83\\\\/scripts\\\\/shBrushPerl.js\":1,\"sites\\\\/all\\\\/libraries\\\\/syntaxhighlighter_3.0.83\\\\/scripts\\\\/shBrushPhp.js\":1,\"sites\\\\/all\\\\/libraries\\\\/syntaxhighlighter_3.0.83\\\\/scripts\\\\/shBrushPython.js\":1,\"sites\\\\/all\\\\/libraries\\\\/syntaxhighlighter_3.0.83\\\\/scripts\\\\/shBrushRuby.js\":1,\"sites\\\\/all\\\\/libraries\\\\/syntaxhighlighter_3.0.83\\\\/scripts\\\\/shBrushSql.js\":1,\"sites\\\\/all\\\\/libraries\\\\/syntaxhighlighter_3.0.83\\\\/scripts\\\\/shBrushXml.js\":1},\"css\":{\"modules\\\\/system\\\\/system.base.css\":1,\"modules\\\\/system\\\\/system.menus.css\":1,\"modules\\\\/system\\\\/system.messages.css\":1,\"modules\\\\/system\\\\/system.theme.css\":1,\"modules\\\\/aggregator\\\\/aggregator.css\":1,\"modules\\\\/comment\\\\/comment.css\":1,\"sites\\\\/all\\\\/modules\\\\/date\\\\/date_api\\\\/date.css\":1,\"sites\\\\/all\\\\/modules\\\\/date\\\\/date_popup\\\\/themes\\\\/datepicker.1.7.css\":1,\"sites\\\\/all\\\\/modules\\\\/date\\\\/date_repeat_field\\\\/date_repeat_field.css\":1,\"modules\\\\/field\\\\/theme\\\\/field.css\":1,\"modules\\\\/node\\\\/node.css\":1,\"modules\\\\/search\\\\/search.css\":1,\"modules\\\\/user\\\\/user.css\":1,\"sites\\\\/all\\\\/modules\\\\/views\\\\/css\\\\/views.css\":1,\"sites\\\\/all\\\\/modules\\\\/ckeditor\\\\/ckeditor.css\":1,\"sites\\\\/all\\\\/modules\\\\/ctools\\\\/css\\\\/ctools.css\":1,\"sites\\\\/all\\\\/libraries\\\\/syntaxhighlighter_3.0.83\\\\/styles\\\\/shCore.css\":1,\"sites\\\\/all\\\\/libraries\\\\/syntaxhighlighter_3.0.83\\\\/styles\\\\/shThemeDefault.css\":1,\"0\":1,\"1\":1,\"2\":1,\"3\":1,\"4\":1,\"5\":1,\"6\":1,\"sites\\\\/all\\\\/themes\\\\/adaptivetheme\\\\/adaptivetheme\\\\/css\\\\/at.base.css\":1,\"sites\\\\/all\\\\/themes\\\\/adaptivetheme\\\\/adaptivetheme\\\\/css\\\\/at.layout.css\":1,\"sites\\\\/all\\\\/themes\\\\/adaptivetheme\\\\/adaptivetheme\\\\/css\\\\/at.messages.css\":1,\"sites\\\\/all\\\\/themes\\\\/pixture_reloaded\\\\/color\\\\/colors.css\":1,\"sites\\\\/all\\\\/themes\\\\/pixture_reloaded\\\\/css\\\\/pixture_reloaded.css\":1,\"sites\\\\/all\\\\/themes\\\\/pixture_reloaded\\\\/css\\\\/pixture_reloaded.settings.style.css\":1,\"sites\\\\/all\\\\/themes\\\\/pixture_reloaded\\\\/css\\\\/pixture_reloaded.responsive.style.css\":1,\"sites\\\\/all\\\\/themes\\\\/pixture_reloaded\\\\/css\\\\/pixture_reloaded.responsive.gpanels.css\":1,\"public:\\\\/\\\\/at_css\\\\/pixture_reloaded.responsive.layout.css\":1,\"\\\\/\\\\/fonts.googleapis.com\\\\/css?family=Ubuntu|Ubuntu+Condensed|Abel\":1,\"public:\\\\/\\\\/at_css\\\\/pixture_reloaded.lt-ie9.layout.css\":1}}});</script>\\n<!--[if lt IE 9]>\\n<script src=\"//html5shiv.googlecode.com/svn/trunk/html5.js\"></script>\\n<![endif]-->\\n</head>\\n<body class=\"html not-front not-logged-in one-sidebar sidebar-first page-jgjkg site-name-chandrashekar-babu section-jgjkg color-scheme-teal pixture-reloaded fs-medium bs-l bb-g mb-dd mbp-r rc-4 ia-r bf-gwf-ubuntu snf-gwf-ubuntu ssf-gwf-ubuntu-condensed ptf-gwf-ubuntu-condensed ntf-gwf-ubuntu-condensed ctf-gwf-abel btf-gwf-abel hs-caps hs-ts\">\\n  <div id=\"skip-link\">\\n    <a href=\"#main-content\" class=\"element-invisible element-focusable\">Skip to main content</a>\\n  </div>\\n    <div class=\"texture-overlay\">\\n  <div id=\"page\" class=\"container\">\\n\\n    <header id=\"header\" class=\"clearfix\" role=\"banner\">\\n      <div class=\"header-inner clearfix\">\\n        <div id=\"branding\">\\n                                <hgroup>\\n                              <h1 id=\"site-name\"><a href=\"/\" title=\"Home page\">Chandrashekar Babu</a></h1>\\n                                            <h2 id=\"site-slogan\">Experienced FOSS Technologist and Corporate Trainer</h2>\\n                          </hgroup>\\n                  </div>\\n         <!-- /header region -->\\n      </div>\\n    </header> <!-- /header -->\\n\\n     <!-- /menu bar -->\\n\\n     <!-- /message -->\\n     <!-- /help -->\\n\\n    \\n     <!-- /secondary-content -->\\n\\n    <!-- Three column 3x33 Gpanel -->\\n    \\n    <div id=\"columns\"><div class=\"columns-inner clearfix\">\\n      <div id=\"content-column\"><div class=\"content-inner\">\\n\\n         <!-- /highlight -->\\n\\n                <section id=\"main-content\" role=\"main\">\\n\\n                                <header class=\"clearfix\">\\n                              <h1 id=\"page-title\">Page not found</h1>\\n                                        </header>\\n                    \\n            <div class=\"region region-content\">\\n    <div id=\"block-system-main\" class=\"block block-system block-odd block-count-1 block-region-content\">\\n  <div class=\"block-inner clearfix\">\\n                <div class=\"block-content content\">\\n      The requested page \"/jgjkg\" could not be found.    </div>\\n  </div>\\n</div>\\n  </div>\\n <!-- /content -->\\n\\n           <!-- /feed icons -->\\n\\n        </section> <!-- /main-content -->\\n\\n         <!-- /content-aside -->\\n\\n      </div></div> <!-- /content-column -->\\n\\n        <div class=\"region region-sidebar-first sidebar\">\\n    <section id=\"block-node-recent\" class=\"block block-node block-odd block-count-2 block-region-sidebar-first\">\\n  <div class=\"block-inner clearfix\">\\n              <h2 class=\"block-title\">Recent content</h2>\\n            <div class=\"block-content content\">\\n      <table>\\n<tbody>\\n <tr class=\"odd\"><td class=\"title-author\"><div class=\"node-title\"><a href=\"/node/153\">This is another test by Pradeep</a></div><div class=\"node-author\"><span class=\"username\" xml:lang=\"\" about=\"/user/16\" typeof=\"sioc:UserAccount\" property=\"foaf:name\">testuser</span></div></td><td class=\"edit\"></td><td class=\"delete\"></td> </tr>\\n <tr class=\"even\"><td class=\"title-author\"><div class=\"node-title\"><a href=\"/node/152\">another test blog via robobrowser</a></div><div class=\"node-author\"><span class=\"username\" xml:lang=\"\" about=\"/user/16\" typeof=\"sioc:UserAccount\" property=\"foaf:name\">testuser</span></div></td><td class=\"edit\"></td><td class=\"delete\"></td> </tr>\\n <tr class=\"odd\"><td class=\"title-author\"><div class=\"node-title\"><a href=\"/node/151\">A new blog from RoboBrowser - 2018 Oct 10th - Chandrashekar</a></div><div class=\"node-author\"><span class=\"username\" xml:lang=\"\" about=\"/user/16\" typeof=\"sioc:UserAccount\" property=\"foaf:name\">testuser</span></div></td><td class=\"edit\"></td><td class=\"delete\"></td> </tr>\\n <tr class=\"even\"><td class=\"title-author\"><div class=\"node-title\"><a href=\"/node/150\">A test blog posted manually on Oct 10th - chandrashekar</a></div><div class=\"node-author\"><span class=\"username\" xml:lang=\"\" about=\"/user/16\" typeof=\"sioc:UserAccount\" property=\"foaf:name\">testuser</span></div></td><td class=\"edit\"></td><td class=\"delete\"></td> </tr>\\n <tr class=\"odd\"><td class=\"title-author\"><div class=\"node-title\"><a href=\"/node/149\">This is a test Title from A</a></div><div class=\"node-author\"><span class=\"username\" xml:lang=\"\" about=\"/user/16\" typeof=\"sioc:UserAccount\" property=\"foaf:name\">testuser</span></div></td><td class=\"edit\"></td><td class=\"delete\"></td> </tr>\\n <tr class=\"even\"><td class=\"title-author\"><div class=\"node-title\"><a href=\"/node/148\">new blog (Sep 28 2018) by Robobrowser</a></div><div class=\"node-author\"><span class=\"username\" xml:lang=\"\" about=\"/user/16\" typeof=\"sioc:UserAccount\" property=\"foaf:name\">testuser</span></div></td><td class=\"edit\"></td><td class=\"delete\"></td> </tr>\\n <tr class=\"odd\"><td class=\"title-author\"><div class=\"node-title\"><a href=\"/node/147\">test blog manual - 2018 sep 28</a></div><div class=\"node-author\"><span class=\"username\" xml:lang=\"\" about=\"/user/16\" typeof=\"sioc:UserAccount\" property=\"foaf:name\">testuser</span></div></td><td class=\"edit\"></td><td class=\"delete\"></td> </tr>\\n <tr class=\"even\"><td class=\"title-author\"><div class=\"node-title\"><a href=\"/node/146\">a new blog from robobrowser on aug 21</a></div><div class=\"node-author\"><span class=\"username\" xml:lang=\"\" about=\"/user/16\" typeof=\"sioc:UserAccount\" property=\"foaf:name\">testuser</span></div></td><td class=\"edit\"></td><td class=\"delete\"></td> </tr>\\n <tr class=\"odd\"><td class=\"title-author\"><div class=\"node-title\"><a href=\"/node/145\">a test blog added manually on August 21</a></div><div class=\"node-author\"><span class=\"username\" xml:lang=\"\" about=\"/user/16\" typeof=\"sioc:UserAccount\" property=\"foaf:name\">testuser</span></div></td><td class=\"edit\"></td><td class=\"delete\"></td> </tr>\\n <tr class=\"even\"><td class=\"title-author\"><div class=\"node-title\"><a href=\"/node/144\">a new automated blog - aug 03</a></div><div class=\"node-author\"><span class=\"username\" xml:lang=\"\" about=\"/user/16\" typeof=\"sioc:UserAccount\" property=\"foaf:name\">testuser</span></div></td><td class=\"edit\"></td><td class=\"delete\"></td> </tr>\\n</tbody>\\n</table>\\n    </div>\\n  </div>\\n</section>\\n  </div>\\n      \\n    </div></div> <!-- /columns -->\\n\\n     <!-- /tertiary-content -->\\n\\n    <!-- Four column Gpanel -->\\n    \\n          <footer id=\"footer\" role=\"contentinfo\"><div id=\"footer-inner\" class=\"clearfix\">\\n          <div class=\"region region-footer\">\\n    <div id=\"block-block-1\" class=\"block block-block block-odd block-count-3 block-region-footer\">\\n  <div class=\"block-inner clearfix\">\\n                <div class=\"block-content content\">\\n      <p>Contents of this website is Copyright © 2004-2012 <a href=\"http://www.chandrashekar.info/\">Chandrashekar Babu</a>. All Rights Reserved.</p>\\n    </div>\\n  </div>\\n</div>\\n  </div>\\n <!-- /footer region -->\\n      </div></footer> <!-- /footer/footer-inner -->\\n    \\n  </div> <!-- /page -->\\n</div> <!-- /texture overlay -->  <script src=\"http://www.chandrashekar.info/sites/all/modules/syntaxhighlighter/syntaxhighlighter.min.js?mcppxf\"></script>\\n</body>\\n</html>\\n'"
      ]
     },
     "execution_count": 123,
     "metadata": {},
     "output_type": "execute_result"
    }
   ],
   "source": [
    "# r.content  # -->  bytes\n",
    "r.text"
   ]
  },
  {
   "cell_type": "code",
   "execution_count": 131,
   "metadata": {},
   "outputs": [
    {
     "data": {
      "text/plain": [
       "<Response [200]>"
      ]
     },
     "execution_count": 131,
     "metadata": {},
     "output_type": "execute_result"
    }
   ],
   "source": [
    "API_KEY = \"932c152d6ff8d185bfdd9d2a5f8e33e4\"\n",
    "BASE_URL = \"http://api.openweathermap.org/data/2.5/weather\"\n",
    "\n",
    "query = {\n",
    "    \"q\": \"Chennai\",\n",
    "    \"units\": \"metric\",\n",
    "    \"APPID\": API_KEY\n",
    "}\n",
    "\n",
    "r = requests.get(BASE_URL, params=query)\n",
    "r"
   ]
  },
  {
   "cell_type": "code",
   "execution_count": 127,
   "metadata": {},
   "outputs": [
    {
     "data": {
      "text/plain": [
       "'application/json; charset=utf-8'"
      ]
     },
     "execution_count": 127,
     "metadata": {},
     "output_type": "execute_result"
    }
   ],
   "source": [
    "r.headers[\"content-type\"]"
   ]
  },
  {
   "cell_type": "code",
   "execution_count": 132,
   "metadata": {},
   "outputs": [
    {
     "data": {
      "text/plain": [
       "29.28"
      ]
     },
     "execution_count": 132,
     "metadata": {},
     "output_type": "execute_result"
    }
   ],
   "source": [
    "r.json()[\"main\"][\"temp\"]"
   ]
  },
  {
   "cell_type": "code",
   "execution_count": 134,
   "metadata": {},
   "outputs": [],
   "source": [
    "url = \"http://localhost:3000/posts\""
   ]
  },
  {
   "cell_type": "code",
   "execution_count": 159,
   "metadata": {},
   "outputs": [
    {
     "data": {
      "text/plain": [
       "<Response [200]>"
      ]
     },
     "execution_count": 159,
     "metadata": {},
     "output_type": "execute_result"
    }
   ],
   "source": [
    "r = requests.get(url)\n",
    "r"
   ]
  },
  {
   "cell_type": "code",
   "execution_count": 136,
   "metadata": {
    "scrolled": true
   },
   "outputs": [
    {
     "data": {
      "text/plain": [
       "'application/json; charset=utf-8'"
      ]
     },
     "execution_count": 136,
     "metadata": {},
     "output_type": "execute_result"
    }
   ],
   "source": [
    "r.headers[\"content-type\"]"
   ]
  },
  {
   "cell_type": "code",
   "execution_count": 137,
   "metadata": {
    "scrolled": false
   },
   "outputs": [
    {
     "data": {
      "text/plain": [
       "[{'title': 'a new message'},\n",
       " {'title': 'an updated message', 'author': 'Chandrashekar', 'id': 4},\n",
       " {'title': 'dummy data', 'author': 'Chandrashekar', 'id': 5},\n",
       " {'title': 'sdfsdkfjsdlk fjskdlfj ', 'author': 'weiruweiruweiorw', 'id': 6},\n",
       " {'title': 'sdfsdkfjsdlk fjskdlfj ', 'author': 'weiruweiruweiorw', 'id': 7},\n",
       " {'title': 'this is a new message', 'author': 'John doe', 'id': 8}]"
      ]
     },
     "execution_count": 137,
     "metadata": {},
     "output_type": "execute_result"
    }
   ],
   "source": [
    "r.json()"
   ]
  },
  {
   "cell_type": "code",
   "execution_count": 160,
   "metadata": {
    "scrolled": false
   },
   "outputs": [
    {
     "data": {
      "text/plain": [
       "[{'title': 'a new message'},\n",
       " {'title': 'an updated message', 'author': 'Chandrashekar', 'id': 4},\n",
       " {'title': 'sdfsdkfjsdlk fjskdlfj ', 'author': 'weiruweiruweiorw', 'id': 6},\n",
       " {'title': 'sdfsdkfjsdlk fjskdlfj ', 'author': 'weiruweiruweiorw', 'id': 7},\n",
       " {'title': 'this is a new message', 'author': 'John doe', 'id': 8},\n",
       " {'title': 'a new title',\n",
       "  'description': 'this is test message',\n",
       "  'id': 'IQn9WnGr80k'},\n",
       " {'title': 'aaa bbb ccc'}]"
      ]
     },
     "execution_count": 160,
     "metadata": {},
     "output_type": "execute_result"
    }
   ],
   "source": [
    "r.json()"
   ]
  },
  {
   "cell_type": "code",
   "execution_count": 139,
   "metadata": {},
   "outputs": [
    {
     "name": "stdout",
     "output_type": "stream",
     "text": [
      "{'title': 'dummy data', 'author': 'Chandrashekar', 'id': 5}\n"
     ]
    }
   ],
   "source": [
    "r = requests.get(\"http://localhost:3000/posts/5\")\n",
    "if r.ok and \\\n",
    "   r.headers[\"content-type\"].startswith(\"application/json\"):\n",
    "    print(r.json())\n",
    "else:\n",
    "    print(\"Request failed\")"
   ]
  },
  {
   "cell_type": "code",
   "execution_count": 144,
   "metadata": {},
   "outputs": [
    {
     "data": {
      "text/plain": [
       "<Response [201]>"
      ]
     },
     "execution_count": 144,
     "metadata": {},
     "output_type": "execute_result"
    }
   ],
   "source": [
    "r = requests.post(url, json={\"title\": \"test title 2\", \n",
    "                         \"description\": \"this is new test message\"})\n",
    "r"
   ]
  },
  {
   "cell_type": "code",
   "execution_count": 146,
   "metadata": {},
   "outputs": [
    {
     "data": {
      "text/plain": [
       "{'title': 'test title 2',\n",
       " 'description': 'this is new test message',\n",
       " 'id': 'Ps333nNO-6E'}"
      ]
     },
     "execution_count": 146,
     "metadata": {},
     "output_type": "execute_result"
    }
   ],
   "source": [
    "r.json()"
   ]
  },
  {
   "cell_type": "code",
   "execution_count": 147,
   "metadata": {},
   "outputs": [
    {
     "name": "stdout",
     "output_type": "stream",
     "text": [
      "{'title': 'test title 2', 'description': 'this is new test message', 'id': 'Ps333nNO-6E'}\n"
     ]
    }
   ],
   "source": [
    "r = requests.get(\"http://localhost:3000/posts/Ps333nNO-6E\")\n",
    "if r.ok and \\\n",
    "   r.headers[\"content-type\"].startswith(\"application/json\"):\n",
    "    print(r.json())\n",
    "else:\n",
    "    print(\"Request failed\")"
   ]
  },
  {
   "cell_type": "code",
   "execution_count": 148,
   "metadata": {},
   "outputs": [
    {
     "name": "stdout",
     "output_type": "stream",
     "text": [
      "<Response [200]>\n",
      "{'title': 'aaa bbb ccc'}\n"
     ]
    }
   ],
   "source": [
    "r = requests.put(\"http://localhost:3000/posts/Ps333nNO-6E\",\n",
    "             json={\"title\": \"aaa bbb ccc\"})\n",
    "print(r)\n",
    "print(r.json())"
   ]
  },
  {
   "cell_type": "code",
   "execution_count": 152,
   "metadata": {},
   "outputs": [
    {
     "name": "stdout",
     "output_type": "stream",
     "text": [
      "Request failed\n"
     ]
    }
   ],
   "source": [
    "r = requests.get(\"http://localhost:3000/posts/Ps333nNO-6E\")\n",
    "if r.ok and \\\n",
    "   r.headers[\"content-type\"].startswith(\"application/json\"):\n",
    "    print(r.json())\n",
    "else:\n",
    "    print(\"Request failed\")"
   ]
  },
  {
   "cell_type": "code",
   "execution_count": 157,
   "metadata": {},
   "outputs": [
    {
     "data": {
      "text/plain": [
       "{'title': 'a new title', 'author': 'Chandrashekar', 'id': 5}"
      ]
     },
     "execution_count": 157,
     "metadata": {},
     "output_type": "execute_result"
    }
   ],
   "source": [
    "requests.get(\"http://localhost:3000/posts/5\").json()"
   ]
  },
  {
   "cell_type": "code",
   "execution_count": 156,
   "metadata": {},
   "outputs": [
    {
     "name": "stdout",
     "output_type": "stream",
     "text": [
      "<Response [200]> {'title': 'a new title', 'author': 'Chandrashekar', 'id': 5}\n"
     ]
    }
   ],
   "source": [
    "r = requests.patch(\"http://localhost:3000/posts/5\", \n",
    "               json={\"title\": \"a new title\"})\n",
    "print(r, r.json())"
   ]
  },
  {
   "cell_type": "code",
   "execution_count": 158,
   "metadata": {},
   "outputs": [
    {
     "name": "stdout",
     "output_type": "stream",
     "text": [
      "<Response [204]>\n"
     ]
    }
   ],
   "source": [
    "r = requests.delete(\"http://localhost:3000/posts/5\")\n",
    "print(r)"
   ]
  },
  {
   "cell_type": "code",
   "execution_count": 158,
   "metadata": {
    "scrolled": true
   },
   "outputs": [
    {
     "name": "stdout",
     "output_type": "stream",
     "text": [
      "<Response [204]>\n"
     ]
    }
   ],
   "source": [
    "r = requests.delete(\"http://localhost:3000/posts/5\")\n",
    "print(r)"
   ]
  },
  {
   "cell_type": "code",
   "execution_count": 162,
   "metadata": {},
   "outputs": [],
   "source": [
    "session = requests.Session()"
   ]
  },
  {
   "cell_type": "code",
   "execution_count": 164,
   "metadata": {},
   "outputs": [
    {
     "data": {
      "text/plain": [
       "<Response [200]>"
      ]
     },
     "execution_count": 164,
     "metadata": {},
     "output_type": "execute_result"
    }
   ],
   "source": [
    "r = session.get(\"https://www.google.com\")\n",
    "r"
   ]
  },
  {
   "cell_type": "code",
   "execution_count": 168,
   "metadata": {},
   "outputs": [
    {
     "data": {
      "text/plain": [
       "'1P_JAR=2019-11-28-06; expires=Sat, 28-Dec-2019 06:13:49 GMT; path=/; domain=.google.com, NID=192=WIxPiwitKIrsVVuY5K3thImXty-cLasFlCrr0ha8dQT1VQ5Ln5-60fJ5TkFOUZ3SMQmh9BAWLyl8gGnrdi1VYjG0w5f28TMYm0-7HH4jl7_JsUTE4HrKj7p80op9JVeMT3pTTv3bmMGr05OMrhixopdtrYQDPK-7tVJc9SHO_3w; expires=Fri, 29-May-2020 06:13:49 GMT; path=/; domain=.google.com; HttpOnly'"
      ]
     },
     "execution_count": 168,
     "metadata": {},
     "output_type": "execute_result"
    }
   ],
   "source": [
    "r.headers[\"Set-Cookie\"]"
   ]
  },
  {
   "cell_type": "code",
   "execution_count": 170,
   "metadata": {},
   "outputs": [
    {
     "data": {
      "text/plain": [
       "[('1P_JAR', '2019-11-28-06'),\n",
       " ('NID',\n",
       "  '192=WIxPiwitKIrsVVuY5K3thImXty-cLasFlCrr0ha8dQT1VQ5Ln5-60fJ5TkFOUZ3SMQmh9BAWLyl8gGnrdi1VYjG0w5f28TMYm0-7HH4jl7_JsUTE4HrKj7p80op9JVeMT3pTTv3bmMGr05OMrhixopdtrYQDPK-7tVJc9SHO_3w')]"
      ]
     },
     "execution_count": 170,
     "metadata": {},
     "output_type": "execute_result"
    }
   ],
   "source": [
    "r.cookies.items()"
   ]
  },
  {
   "cell_type": "code",
   "execution_count": 171,
   "metadata": {},
   "outputs": [
    {
     "data": {
      "text/plain": [
       "'<!doctype html><html itemscope=\"\" itemtype=\"http://schema.org/WebPage\" lang=\"en-IN\"><head><meta content=\"text/html; charset=UTF-8\" http-equiv=\"Content-Type\"><meta content=\"/images/branding/googleg/1x/googleg_standard_color_128dp.png\" itemprop=\"image\"><title>Google</title><script nonce=\"tgmP4+Iu5VjohL7upF9FcA==\">(function(){window.google={kEI:\\'nWXfXeK7J_Hjz7sPgdmX2AM\\',kEXPI:\\'0,1353746,5663,730,224,1575,3152,378,206,1017,1938,249,10,713,338,175,32,332,671,254,17,176,36,3,25,100,153,4,60,132,594,1129702,143,1197699,374,76,329118,1294,12383,4855,32692,15247,864,18547,3335,2,2,6801,363,3320,5505,8384,1119,2,578,728,2431,1362,283,4040,3698,1270,773,2255,1402,2487,857,1139,9,1963,6196,1719,1808,1976,2044,5762,1,2841,305,3192,1017,2,1086,2016,38,919,874,1217,1336,1639,2736,1558,1720,1,415,1141,2099,7194,252,620,2884,20,317,690,2483,975,1,369,1396,1381,519,400,992,1285,8,1050,1746,969,599,11,14,1279,2007,12,193,202,328,1252,327,515,322,193,1139,1,277,57,48,158,662,3438,260,52,162,6,964,4,3,2063,606,1839,184,595,1182,143,377,686,1018,243,418,329,429,44,1009,95,326,1284,16,84,336,81,901,859,666,45,1,98,1495,607,474,207,6,1126,29,719,1039,3094,133,773,1548,524,9,726,592,1574,1879,826,689,1345,770,4550,478,663,54,297,2533,258,581,111,474,455,1043,2458,738,321,565,98,966,280,562,613,163,812,1505,1274,1085,163,132,440,561,654,339,141,809,99,2,313,120,1354,8,519,298,717,1,225,127,97,508,4,147,991,258,7,259,345,15,59,9,356,730,9,1012,1816,136,491,33,182,225,162,46,17,424,1391,816,35,65,1,137,70,76,467,111,83,42,31,380,478,10,310,5865644,1805893,4194851,2799595,4,1572,549,333,444,1,2,80,1,900,896,1,8,1,2,2551,1,748,141,59,736,563,1,4265,1,1,1,1,3,7,128,229,100,4,2,3,57,8,12,17,13,2,6,25,14,6,15,10,4,4,1,2,22302197,1662866\\',authuser:0,kscs:\\'c9c918f0_nWXfXeK7J_Hjz7sPgdmX2AM\\',kGL:\\'IN\\',kBL:\\'QCR7\\'};google.sn=\\'webhp\\';google.kHL=\\'en-IN\\';google.jsfs=\\'Ffpdje\\';})();(function(){google.lc=[];google.li=0;google.getEI=function(a){for(var b;a&&(!a.getAttribute||!(b=a.getAttribute(\"eid\")));)a=a.parentNode;return b||google.kEI};google.getLEI=function(a){for(var b=null;a&&(!a.getAttribute||!(b=a.getAttribute(\"leid\")));)a=a.parentNode;return b};google.https=function(){return\"https:\"==window.location.protocol};google.ml=function(){return null};google.time=function(){return(new Date).getTime()};google.log=function(a,b,e,c,g){if(a=google.logUrl(a,b,e,c,g)){b=new Image;var d=google.lc,f=google.li;d[f]=b;b.onerror=b.onload=b.onabort=function(){delete d[f]};google.vel&&google.vel.lu&&google.vel.lu(a);b.src=a;google.li=f+1}};google.logUrl=function(a,b,e,c,g){var d=\"\",f=google.ls||\"\";e||-1!=b.search(\"&ei=\")||(d=\"&ei=\"+google.getEI(c),-1==b.search(\"&lei=\")&&(c=google.getLEI(c))&&(d+=\"&lei=\"+c));c=\"\";!e&&google.cshid&&-1==b.search(\"&cshid=\")&&\"slh\"!=a&&(c=\"&cshid=\"+google.cshid);a=e||\"/\"+(g||\"gen_204\")+\"?atyp=i&ct=\"+a+\"&cad=\"+b+d+f+\"&zx=\"+google.time()+c;/^http:/i.test(a)&&google.https()&&(google.ml(Error(\"a\"),!1,{src:a,glmm:1}),a=\"\");return a};}).call(this);(function(){google.y={};google.x=function(a,b){if(a)var c=a.id;else{do c=Math.random();while(google.y[c])}google.y[c]=[a,b];return!1};google.lm=[];google.plm=function(a){google.lm.push.apply(google.lm,a)};google.lq=[];google.load=function(a,b,c){google.lq.push([[a],b,c])};google.loadAll=function(a,b){google.lq.push([a,b])};}).call(this);google.f={};var a=window.location,b=a.href.indexOf(\"#\");if(0<=b){var c=a.href.substring(b+1);/(^|&)q=/.test(c)&&-1==c.indexOf(\"#\")&&a.replace(\"/search?\"+c.replace(/(^|&)fp=[^&]*/g,\"\")+\"&cad=h\")};</script><style>#gbar,#guser{font-size:13px;padding-top:1px !important;}#gbar{height:22px}#guser{padding-bottom:7px !important;text-align:right}.gbh,.gbd{border-top:1px solid #c9d7f1;font-size:1px}.gbh{height:0;position:absolute;top:24px;width:100%}@media all{.gb1{height:22px;margin-right:.5em;vertical-align:top}#gbar{float:left}}a.gb1,a.gb4{text-decoration:underline !important}a.gb1,a.gb4{color:#00c !important}.gbi .gb4{color:#dd8e27 !important}.gbf .gb4{color:#900 !important}\\n</style><style>body,td,a,p,.h{font-family:arial,sans-serif}body{margin:0;overflow-y:scroll}#gog{padding:3px 8px 0}td{line-height:.8em}.gac_m td{line-height:17px}form{margin-bottom:20px}.h{color:#36c}.q{color:#00c}.ts td{padding:0}.ts{border-collapse:collapse}em{font-weight:bold;font-style:normal}.lst{height:25px;width:496px}.gsfi,.lst{font:18px arial,sans-serif}.gsfs{font:17px arial,sans-serif}.ds{display:inline-box;display:inline-block;margin:3px 0 4px;margin-left:4px}input{font-family:inherit}a.gb1,a.gb2,a.gb3,a.gb4{color:#11c !important}body{background:#fff;color:black}a{color:#11c;text-decoration:none}a:hover,a:active{text-decoration:underline}.fl a{color:#36c}a:visited{color:#551a8b}a.gb1,a.gb4{text-decoration:underline}a.gb3:hover{text-decoration:none}#ghead a.gb2:hover{color:#fff !important}.sblc{padding-top:5px}.sblc a{display:block;margin:2px 0;margin-left:13px;font-size:11px}.lsbb{background:#eee;border:solid 1px;border-color:#ccc #999 #999 #ccc;height:30px}.lsbb{display:block}.ftl,#fll a{display:inline-block;margin:0 12px}.lsb{background:url(/images/nav_logo229.png) 0 -261px repeat-x;border:none;color:#000;cursor:pointer;height:30px;margin:0;outline:0;font:15px arial,sans-serif;vertical-align:top}.lsb:active{background:#ccc}.lst:focus{outline:none}</style><script nonce=\"tgmP4+Iu5VjohL7upF9FcA==\"></script></head><body bgcolor=\"#fff\"><script nonce=\"tgmP4+Iu5VjohL7upF9FcA==\">(function(){var src=\\'/images/nav_logo229.png\\';var iesg=false;document.body.onload = function(){window.n && window.n();if (document.images){new Image().src=src;}\\nif (!iesg){document.f&&document.f.q.focus();document.gbqf&&document.gbqf.q.focus();}\\n}\\n})();</script><div id=\"mngb\"> <div id=gbar><nobr><b class=gb1>Search</b> <a class=gb1 href=\"https://www.google.co.in/imghp?hl=en&tab=wi\">Images</a> <a class=gb1 href=\"https://maps.google.co.in/maps?hl=en&tab=wl\">Maps</a> <a class=gb1 href=\"https://play.google.com/?hl=en&tab=w8\">Play</a> <a class=gb1 href=\"https://www.youtube.com/?gl=IN&tab=w1\">YouTube</a> <a class=gb1 href=\"https://news.google.co.in/nwshp?hl=en&tab=wn\">News</a> <a class=gb1 href=\"https://mail.google.com/mail/?tab=wm\">Gmail</a> <a class=gb1 href=\"https://drive.google.com/?tab=wo\">Drive</a> <a class=gb1 style=\"text-decoration:none\" href=\"https://www.google.co.in/intl/en/about/products?tab=wh\"><u>More</u> &raquo;</a></nobr></div><div id=guser width=100%><nobr><span id=gbn class=gbi></span><span id=gbf class=gbf></span><span id=gbe></span><a href=\"http://www.google.co.in/history/optout?hl=en\" class=gb4>Web History</a> | <a  href=\"/preferences?hl=en\" class=gb4>Settings</a> | <a target=_top id=gb_70 href=\"https://accounts.google.com/ServiceLogin?hl=en&passive=true&continue=https://www.google.com/\" class=gb4>Sign in</a></nobr></div><div class=gbh style=left:0></div><div class=gbh style=right:0></div> </div><center><br clear=\"all\" id=\"lgpd\"><div id=\"lga\"><img alt=\"Google\" height=\"92\" src=\"/images/branding/googlelogo/1x/googlelogo_white_background_color_272x92dp.png\" style=\"padding:28px 0 14px\" width=\"272\" id=\"hplogo\"><br><br></div><form action=\"/search\" name=\"f\"><table cellpadding=\"0\" cellspacing=\"0\"><tr valign=\"top\"><td width=\"25%\">&nbsp;</td><td align=\"center\" nowrap=\"\"><input name=\"ie\" value=\"ISO-8859-1\" type=\"hidden\"><input value=\"en-IN\" name=\"hl\" type=\"hidden\"><input name=\"source\" type=\"hidden\" value=\"hp\"><input name=\"biw\" type=\"hidden\"><input name=\"bih\" type=\"hidden\"><div class=\"ds\" style=\"height:32px;margin:4px 0\"><input class=\"lst\" style=\"color:#000;margin:0;padding:5px 8px 0 6px;vertical-align:top\" autocomplete=\"off\" value=\"\" title=\"Google Search\" maxlength=\"2048\" name=\"q\" size=\"57\"></div><br style=\"line-height:0\"><span class=\"ds\"><span class=\"lsbb\"><input class=\"lsb\" value=\"Google Search\" name=\"btnG\" type=\"submit\"></span></span><span class=\"ds\"><span class=\"lsbb\"><input class=\"lsb\" id=\"tsuid1\" value=\"I\\'m Feeling Lucky\" name=\"btnI\" type=\"submit\"><script nonce=\"tgmP4+Iu5VjohL7upF9FcA==\">(function(){var id=\\'tsuid1\\';document.getElementById(id).onclick = function(){if (this.form.q.value){this.checked = 1;if (this.form.iflsig)this.form.iflsig.disabled = false;}\\nelse top.location=\\'/doodles/\\';};})();</script><input value=\"AAP1E1EAAAAAXd9zrTAAGIE3uDHL4JRi8Hx_RSBVKw9R\" name=\"iflsig\" type=\"hidden\"></span></span></td><td class=\"fl sblc\" align=\"left\" nowrap=\"\" width=\"25%\"><a href=\"/advanced_search?hl=en-IN&amp;authuser=0\">Advanced search</a><a href=\"/language_tools?hl=en-IN&amp;authuser=0\">Language tools</a></td></tr></table><input id=\"gbv\" name=\"gbv\" type=\"hidden\" value=\"1\"><script nonce=\"tgmP4+Iu5VjohL7upF9FcA==\">(function(){var a,b=\"1\";if(document&&document.getElementById)if(\"undefined\"!=typeof XMLHttpRequest)b=\"2\";else if(\"undefined\"!=typeof ActiveXObject){var c,d,e=[\"MSXML2.XMLHTTP.6.0\",\"MSXML2.XMLHTTP.3.0\",\"MSXML2.XMLHTTP\",\"Microsoft.XMLHTTP\"];for(c=0;d=e[c++];)try{new ActiveXObject(d),b=\"2\"}catch(h){}}a=b;if(\"2\"==a&&-1==location.search.indexOf(\"&gbv=2\")){var f=google.gbvu,g=document.getElementById(\"gbv\");g&&(g.value=a);f&&window.setTimeout(function(){location.href=f},0)};}).call(this);</script></form><div id=\"gac_scont\"></div><div style=\"font-size:83%;min-height:3.5em\"><br><div id=\"gws-output-pages-elements-homepage_additional_languages__als\"><style>#gws-output-pages-elements-homepage_additional_languages__als{font-size:small;margin-bottom:24px}#SIvCob{display:inline-block;line-height:28px;}#SIvCob a{padding:0 3px;}.H6sW5{display:inline-block;margin:0 2px;white-space:nowrap}.z4hgWe{display:inline-block;margin:0 2px}</style><div id=\"SIvCob\">Google offered in:  <a href=\"https://www.google.com/setprefs?sig=0_jM5_zmzQLGQ0Gu2byUoXa0mKk6U%3D&amp;hl=hi&amp;source=homepage&amp;sa=X&amp;ved=0ahUKEwii_qKioIzmAhXx8XMBHYHsBTsQ2ZgBCAU\">&#2361;&#2367;&#2344;&#2381;&#2342;&#2368;</a>    <a href=\"https://www.google.com/setprefs?sig=0_jM5_zmzQLGQ0Gu2byUoXa0mKk6U%3D&amp;hl=bn&amp;source=homepage&amp;sa=X&amp;ved=0ahUKEwii_qKioIzmAhXx8XMBHYHsBTsQ2ZgBCAY\">&#2476;&#2494;&#2434;&#2482;&#2494;</a>    <a href=\"https://www.google.com/setprefs?sig=0_jM5_zmzQLGQ0Gu2byUoXa0mKk6U%3D&amp;hl=te&amp;source=homepage&amp;sa=X&amp;ved=0ahUKEwii_qKioIzmAhXx8XMBHYHsBTsQ2ZgBCAc\">&#3108;&#3142;&#3122;&#3137;&#3095;&#3137;</a>    <a href=\"https://www.google.com/setprefs?sig=0_jM5_zmzQLGQ0Gu2byUoXa0mKk6U%3D&amp;hl=mr&amp;source=homepage&amp;sa=X&amp;ved=0ahUKEwii_qKioIzmAhXx8XMBHYHsBTsQ2ZgBCAg\">&#2350;&#2352;&#2366;&#2336;&#2368;</a>    <a href=\"https://www.google.com/setprefs?sig=0_jM5_zmzQLGQ0Gu2byUoXa0mKk6U%3D&amp;hl=ta&amp;source=homepage&amp;sa=X&amp;ved=0ahUKEwii_qKioIzmAhXx8XMBHYHsBTsQ2ZgBCAk\">&#2980;&#2990;&#3007;&#2996;&#3021;</a>    <a href=\"https://www.google.com/setprefs?sig=0_jM5_zmzQLGQ0Gu2byUoXa0mKk6U%3D&amp;hl=gu&amp;source=homepage&amp;sa=X&amp;ved=0ahUKEwii_qKioIzmAhXx8XMBHYHsBTsQ2ZgBCAo\">&#2711;&#2753;&#2716;&#2736;&#2750;&#2724;&#2752;</a>    <a href=\"https://www.google.com/setprefs?sig=0_jM5_zmzQLGQ0Gu2byUoXa0mKk6U%3D&amp;hl=kn&amp;source=homepage&amp;sa=X&amp;ved=0ahUKEwii_qKioIzmAhXx8XMBHYHsBTsQ2ZgBCAs\">&#3221;&#3240;&#3277;&#3240;&#3233;</a>    <a href=\"https://www.google.com/setprefs?sig=0_jM5_zmzQLGQ0Gu2byUoXa0mKk6U%3D&amp;hl=ml&amp;source=homepage&amp;sa=X&amp;ved=0ahUKEwii_qKioIzmAhXx8XMBHYHsBTsQ2ZgBCAw\">&#3374;&#3378;&#3375;&#3390;&#3379;&#3330;</a>    <a href=\"https://www.google.com/setprefs?sig=0_jM5_zmzQLGQ0Gu2byUoXa0mKk6U%3D&amp;hl=pa&amp;source=homepage&amp;sa=X&amp;ved=0ahUKEwii_qKioIzmAhXx8XMBHYHsBTsQ2ZgBCA0\">&#2602;&#2672;&#2588;&#2622;&#2604;&#2624;</a>  </div></div></div><span id=\"footer\"><div style=\"font-size:10pt\"><div style=\"margin:19px auto;text-align:center\" id=\"fll\"><a href=\"/intl/en/ads/\">Advertising\\xa0Programs</a><a href=\"http://www.google.co.in/services/\">Business Solutions</a><a href=\"/intl/en/about.html\">About Google</a><a href=\"https://www.google.com/setprefdomain?prefdom=IN&amp;prev=https://www.google.co.in/&amp;sig=K_gI_nAz01A0XXw_XtJJLverIn4uQ%3D\">Google.co.in</a></div></div><p style=\"color:#767676;font-size:8pt\">&copy; 2019 - <a href=\"/intl/en/policies/privacy/\">Privacy</a> - <a href=\"/intl/en/policies/terms/\">Terms</a></p></span></center><script nonce=\"tgmP4+Iu5VjohL7upF9FcA==\">(function(){window.google.cdo={height:0,width:0};(function(){var a=window.innerWidth,b=window.innerHeight;if(!a||!b){var c=window.document,d=\"CSS1Compat\"==c.compatMode?c.documentElement:c.body;a=d.clientWidth;b=d.clientHeight}a&&b&&(a!=google.cdo.width||b!=google.cdo.height)&&google.log(\"\",\"\",\"/client_204?&atyp=i&biw=\"+a+\"&bih=\"+b+\"&ei=\"+google.kEI);}).call(this);})();(function(){var u=\\'/xjs/_/js/k\\\\x3dxjs.hp.en.5Bz_C5unVMg.O/m\\\\x3dsb_he,d/am\\\\x3dwEBgIw/d\\\\x3d1/rs\\\\x3dACT90oFdbf8evdT3gQzDxhrBNPY4-U7bkQ\\';setTimeout(function(){var a=document.createElement(\"script\");a.src=u;google.timers&&google.timers.load&&google.tick&&google.tick(\"load\",\"xjsls\");document.body.appendChild(a)},0);})();(function(){window.google.xjsu=\\'/xjs/_/js/k\\\\x3dxjs.hp.en.5Bz_C5unVMg.O/m\\\\x3dsb_he,d/am\\\\x3dwEBgIw/d\\\\x3d1/rs\\\\x3dACT90oFdbf8evdT3gQzDxhrBNPY4-U7bkQ\\';})();function _DumpException(e){throw e;}\\nfunction _F_installCss(c){}\\n(function(){google.spjs=false;google.snet=true;google.em=[];google.emw=false;})();(function(){var pmc=\\'{\\\\x22d\\\\x22:{},\\\\x22sb_he\\\\x22:{\\\\x22agen\\\\x22:true,\\\\x22cgen\\\\x22:true,\\\\x22client\\\\x22:\\\\x22heirloom-hp\\\\x22,\\\\x22dh\\\\x22:true,\\\\x22dhqt\\\\x22:true,\\\\x22ds\\\\x22:\\\\x22\\\\x22,\\\\x22ffql\\\\x22:\\\\x22en\\\\x22,\\\\x22fl\\\\x22:true,\\\\x22host\\\\x22:\\\\x22google.com\\\\x22,\\\\x22isbh\\\\x22:28,\\\\x22jsonp\\\\x22:true,\\\\x22msgs\\\\x22:{\\\\x22cibl\\\\x22:\\\\x22Clear Search\\\\x22,\\\\x22dym\\\\x22:\\\\x22Did you mean:\\\\x22,\\\\x22lcky\\\\x22:\\\\x22I\\\\\\\\u0026#39;m Feeling Lucky\\\\x22,\\\\x22lml\\\\x22:\\\\x22Learn more\\\\x22,\\\\x22oskt\\\\x22:\\\\x22Input tools\\\\x22,\\\\x22psrc\\\\x22:\\\\x22This search was removed from your \\\\\\\\u003Ca href\\\\x3d\\\\\\\\\\\\x22/history\\\\\\\\\\\\x22\\\\\\\\u003EWeb History\\\\\\\\u003C/a\\\\\\\\u003E\\\\x22,\\\\x22psrl\\\\x22:\\\\x22Remove\\\\x22,\\\\x22sbit\\\\x22:\\\\x22Search by image\\\\x22,\\\\x22srch\\\\x22:\\\\x22Google Search\\\\x22},\\\\x22ovr\\\\x22:{},\\\\x22pq\\\\x22:\\\\x22\\\\x22,\\\\x22refpd\\\\x22:true,\\\\x22rfs\\\\x22:[],\\\\x22sbpl\\\\x22:24,\\\\x22sbpr\\\\x22:24,\\\\x22scd\\\\x22:10,\\\\x22sce\\\\x22:5,\\\\x22stok\\\\x22:\\\\x22Tgy4d9RyVGxR9bUzIeageAnvs_0\\\\x22,\\\\x22uhde\\\\x22:false}}\\';google.pmc=JSON.parse(pmc);})();</script>        </body></html>'"
      ]
     },
     "execution_count": 171,
     "metadata": {},
     "output_type": "execute_result"
    }
   ],
   "source": [
    "r.text"
   ]
  },
  {
   "cell_type": "code",
   "execution_count": null,
   "metadata": {},
   "outputs": [],
   "source": [
    "# pip install robobrowser\n",
    "# inspired from 'mechanize'"
   ]
  },
  {
   "cell_type": "code",
   "execution_count": 172,
   "metadata": {},
   "outputs": [],
   "source": [
    "from robobrowser import RoboBrowser"
   ]
  },
  {
   "cell_type": "code",
   "execution_count": 173,
   "metadata": {},
   "outputs": [],
   "source": [
    "import re\n",
    "re._pattern_type = re.Pattern"
   ]
  },
  {
   "cell_type": "code",
   "execution_count": 174,
   "metadata": {},
   "outputs": [],
   "source": [
    "br = RoboBrowser(parser=\"lxml\")"
   ]
  },
  {
   "cell_type": "code",
   "execution_count": 176,
   "metadata": {},
   "outputs": [],
   "source": [
    "br.open(\"http://www.python.org/\")"
   ]
  },
  {
   "cell_type": "code",
   "execution_count": 178,
   "metadata": {},
   "outputs": [
    {
     "data": {
      "text/plain": [
       "True"
      ]
     },
     "execution_count": 178,
     "metadata": {},
     "output_type": "execute_result"
    }
   ],
   "source": [
    "br.response.ok"
   ]
  },
  {
   "cell_type": "code",
   "execution_count": 181,
   "metadata": {},
   "outputs": [
    {
     "data": {
      "text/plain": [
       "'https://www.python.org/blogs/'"
      ]
     },
     "execution_count": 181,
     "metadata": {},
     "output_type": "execute_result"
    }
   ],
   "source": [
    "news = br.get_link(\"News\")\n",
    "br.follow_link(news)\n",
    "br.url"
   ]
  },
  {
   "cell_type": "code",
   "execution_count": 183,
   "metadata": {},
   "outputs": [
    {
     "data": {
      "text/plain": [
       "('https://www.python.org/blogs/', True)"
      ]
     },
     "execution_count": 183,
     "metadata": {},
     "output_type": "execute_result"
    }
   ],
   "source": [
    "br.url, br.response.ok"
   ]
  },
  {
   "cell_type": "code",
   "execution_count": 184,
   "metadata": {},
   "outputs": [
    {
     "data": {
      "text/plain": [
       "'https://www.python.org/'"
      ]
     },
     "execution_count": 184,
     "metadata": {},
     "output_type": "execute_result"
    }
   ],
   "source": [
    "br.back()\n",
    "br.url"
   ]
  },
  {
   "cell_type": "code",
   "execution_count": 185,
   "metadata": {},
   "outputs": [
    {
     "data": {
      "text/plain": [
       "'https://www.python.org/blogs/'"
      ]
     },
     "execution_count": 185,
     "metadata": {},
     "output_type": "execute_result"
    }
   ],
   "source": [
    "br.forward()\n",
    "br.url"
   ]
  },
  {
   "cell_type": "code",
   "execution_count": 187,
   "metadata": {},
   "outputs": [
    {
     "data": {
      "text/plain": [
       "[<img alt=\"python™\" class=\"python-logo\" src=\"/static/img/python-logo.png\"/>]"
      ]
     },
     "execution_count": 187,
     "metadata": {},
     "output_type": "execute_result"
    }
   ],
   "source": [
    "br.select(\"img\")"
   ]
  },
  {
   "cell_type": "code",
   "execution_count": 190,
   "metadata": {},
   "outputs": [
    {
     "data": {
      "text/plain": [
       "[<Element img at 0x7f14a4f16228>]"
      ]
     },
     "execution_count": 190,
     "metadata": {},
     "output_type": "execute_result"
    }
   ],
   "source": [
    "import lxml.html as hp\n",
    "html = hp.fromstring(br.response.text)\n",
    "html.xpath(\".//img\")"
   ]
  },
  {
   "cell_type": "code",
   "execution_count": 192,
   "metadata": {},
   "outputs": [],
   "source": [
    "from requests_html import HTMLSession"
   ]
  },
  {
   "cell_type": "code",
   "execution_count": 193,
   "metadata": {},
   "outputs": [],
   "source": [
    "session = HTMLSession()"
   ]
  },
  {
   "cell_type": "code",
   "execution_count": 195,
   "metadata": {},
   "outputs": [],
   "source": [
    "r = session.get(\"http://www.python.org/\")"
   ]
  },
  {
   "cell_type": "code",
   "execution_count": 199,
   "metadata": {},
   "outputs": [
    {
     "data": {
      "text/plain": [
       "[<Element 'a' href='#content' title='Skip to content'>,\n",
       " <Element 'a' id='close-python-network' class=('jump-link',) href='#python-network' aria-hidden='true'>,\n",
       " <Element 'a' href='/' title='The Python Programming Language' class=('current_item', 'selectedcurrent_branch', 'selected')>,\n",
       " <Element 'a' href='/psf-landing/' title='The Python Software Foundation'>,\n",
       " <Element 'a' href='https://docs.python.org' title='Python Documentation'>,\n",
       " <Element 'a' href='https://pypi.python.org/' title='Python Package Index'>,\n",
       " <Element 'a' href='/jobs/' title='Python Job Board'>,\n",
       " <Element 'a' href='/community/' title='Python Community'>,\n",
       " <Element 'a' id='python-network' class=('jump-link',) href='#top' aria-hidden='true'>,\n",
       " <Element 'a' href='/'>,\n",
       " <Element 'a' href='/psf/donations/' class=('donate-button',)>,\n",
       " <Element 'a' id='site-map-link' class=('jump-to-menu',) href='#site-map'>,\n",
       " <Element 'a' href='#' class=('action-trigger',)>,\n",
       " <Element 'a' class=('text-shrink',) title='Make Text Smaller' href='javascript:;'>,\n",
       " <Element 'a' class=('text-grow',) title='Make Text Larger' href='javascript:;'>,\n",
       " <Element 'a' class=('text-reset',) title='Reset any font size changes I have made' href='javascript:;'>,\n",
       " <Element 'a' href='#' class=('action-trigger',)>,\n",
       " <Element 'a' href='https://www.facebook.com/pythonlang?fref=ts'>,\n",
       " <Element 'a' href='https://twitter.com/ThePSF'>,\n",
       " <Element 'a' href='/community/irc/'>,\n",
       " <Element 'a' href='/about/' title='' class=()>,\n",
       " <Element 'a' href='/about/apps/' title=''>,\n",
       " <Element 'a' href='/about/quotes/' title=''>,\n",
       " <Element 'a' href='/about/gettingstarted/' title=''>,\n",
       " <Element 'a' href='/about/help/' title=''>,\n",
       " <Element 'a' href='http://brochure.getpython.info/' title=''>,\n",
       " <Element 'a' href='/downloads/' title='' class=()>,\n",
       " <Element 'a' href='/downloads/' title=''>,\n",
       " <Element 'a' href='/downloads/source/' title=''>,\n",
       " <Element 'a' href='/downloads/windows/' title=''>,\n",
       " <Element 'a' href='/downloads/mac-osx/' title=''>,\n",
       " <Element 'a' href='/download/other/' title=''>,\n",
       " <Element 'a' href='https://docs.python.org/3/license.html' title=''>,\n",
       " <Element 'a' href='/download/alternatives' title=''>,\n",
       " <Element 'a' href='/doc/' title='' class=()>,\n",
       " <Element 'a' href='/doc/' title=''>,\n",
       " <Element 'a' href='/doc/av' title=''>,\n",
       " <Element 'a' href='https://wiki.python.org/moin/BeginnersGuide' title=''>,\n",
       " <Element 'a' href='https://devguide.python.org/' title=''>,\n",
       " <Element 'a' href='https://docs.python.org/faq/' title=''>,\n",
       " <Element 'a' href='http://wiki.python.org/moin/Languages' title=''>,\n",
       " <Element 'a' href='http://python.org/dev/peps/' title=''>,\n",
       " <Element 'a' href='https://wiki.python.org/moin/PythonBooks' title=''>,\n",
       " <Element 'a' href='/doc/essays/' title=''>,\n",
       " <Element 'a' href='/community/' title='' class=()>,\n",
       " <Element 'a' href='/community/survey' title=''>,\n",
       " <Element 'a' href='/community/diversity/' title=''>,\n",
       " <Element 'a' href='/community/lists/' title=''>,\n",
       " <Element 'a' href='/community/irc/' title=''>,\n",
       " <Element 'a' href='/community/forums/' title=''>,\n",
       " <Element 'a' href='/psf/annual-report/2019/' title=''>,\n",
       " <Element 'a' href='/community/workshops/' title=''>,\n",
       " <Element 'a' href='/community/sigs/' title=''>,\n",
       " <Element 'a' href='/community/logos/' title=''>,\n",
       " <Element 'a' href='https://wiki.python.org/moin/' title=''>,\n",
       " <Element 'a' href='/community/merchandise/' title=''>,\n",
       " <Element 'a' href='/community/awards' title=''>,\n",
       " <Element 'a' href='/psf/conduct/' title=''>,\n",
       " <Element 'a' href='/success-stories/' title='success-stories' class=()>,\n",
       " <Element 'a' href='/success-stories/category/arts/' title=''>,\n",
       " <Element 'a' href='/success-stories/category/business/' title=''>,\n",
       " <Element 'a' href='/success-stories/category/education/' title=''>,\n",
       " <Element 'a' href='/success-stories/category/engineering/' title=''>,\n",
       " <Element 'a' href='/success-stories/category/government/' title=''>,\n",
       " <Element 'a' href='/success-stories/category/scientific/' title=''>,\n",
       " <Element 'a' href='/success-stories/category/software-development/' title=''>,\n",
       " <Element 'a' href='/blogs/' title='News from around the Python world' class=()>,\n",
       " <Element 'a' href='/blogs/' title='Python Insider Blog Posts'>,\n",
       " <Element 'a' href='/psf/newsletter/' title='Python Software Foundation Newsletter'>,\n",
       " <Element 'a' href='http://planetpython.org/' title='Planet Python'>,\n",
       " <Element 'a' href='http://pyfound.blogspot.com/' title='PSF Blog'>,\n",
       " <Element 'a' href='http://pycon.blogspot.com/' title='PyCon Blog'>,\n",
       " <Element 'a' href='/events/' title='' class=()>,\n",
       " <Element 'a' href='/events/python-events' title=''>,\n",
       " <Element 'a' href='/events/python-user-group/' title=''>,\n",
       " <Element 'a' href='/events/python-events/past/' title=''>,\n",
       " <Element 'a' href='/events/python-user-group/past/' title=''>,\n",
       " <Element 'a' href='https://wiki.python.org/moin/PythonEventsCalendar#Submitting_an_Event' title=''>,\n",
       " <Element 'a' class=('button', 'prompt') id='start-shell' data-shell-container='#dive-into-python' href='/shell/'>,\n",
       " <Element 'a' href='//docs.python.org/3/tutorial/controlflow.html#defining-functions'>,\n",
       " <Element 'a' href='//docs.python.org/3/tutorial/introduction.html#lists'>,\n",
       " <Element 'a' href='http://docs.python.org/3/tutorial/introduction.html#using-python-as-a-calculator'>,\n",
       " <Element 'a' href='//docs.python.org/3/tutorial/'>,\n",
       " <Element 'a' href='//docs.python.org/3/tutorial/controlflow.html'>,\n",
       " <Element 'a' class=('readmore',) href='/doc/'>,\n",
       " <Element 'a' class=('button', 'button--dark', 'button--small', 'button--primary') style='color: #606060; border-color: #006dad; background-color: #006dad;' href='https://surveys.jetbrains.com/s3/c6-python-developers-survey-2019' target='_blank' rel=('noopener',)>,\n",
       " <Element 'a' href='/about/gettingstarted/'>,\n",
       " <Element 'a' href='/downloads/release/python-380/'>,\n",
       " <Element 'a' href='https://docs.python.org'>,\n",
       " <Element 'a' href='//jobs.python.org'>,\n",
       " <Element 'a' href='https://blog.python.org' title='More News'>,\n",
       " <Element 'a' href='http://feedproxy.google.com/~r/PythonSoftwareFoundationNews/~3/T3r7qZxo-xg/python-software-foundation-fellow.html'>,\n",
       " <Element 'a' href='http://feedproxy.google.com/~r/PythonSoftwareFoundationNews/~3/lE0u-5MIUQc/why-sponsor-pycon-2020.html'>,\n",
       " <Element 'a' href='http://feedproxy.google.com/~r/PythonSoftwareFoundationNews/~3/jAMRqiPhWSs/seeking-developers-for-paid-contract.html'>,\n",
       " <Element 'a' href='http://feedproxy.google.com/~r/PythonInsider/~3/D5sAVdxYnzY/python-359-is-released.html'>,\n",
       " <Element 'a' href='http://feedproxy.google.com/~r/PythonSoftwareFoundationNews/~3/Y4CDqUEnEB8/the-2019-python-developer-survey-is.html'>,\n",
       " <Element 'a' href='/events/calendars/' title='More Events'>,\n",
       " <Element 'a' href='/events/python-user-group/886/'>,\n",
       " <Element 'a' href='/events/python-events/861/'>,\n",
       " <Element 'a' href='/events/python-events/880/'>,\n",
       " <Element 'a' href='/events/python-events/879/'>,\n",
       " <Element 'a' href='/events/python-events/884/'>,\n",
       " <Element 'a' href='/success-stories/' title='More Success Stories'>,\n",
       " <Element 'a' href='/success-stories/building-an-open-source-and-cross-platform-azure-cli-with-python/'>,\n",
       " <Element 'a' href='/success-stories/building-an-open-source-and-cross-platform-azure-cli-with-python/'>,\n",
       " <Element 'a' href='/about/apps' title='More Applications'>,\n",
       " <Element 'a' class=('tag',) href='http://www.djangoproject.com/'>,\n",
       " <Element 'a' class=('tag',) href='http://www.pylonsproject.org/'>,\n",
       " <Element 'a' class=('tag',) href='http://bottlepy.org'>,\n",
       " <Element 'a' class=('tag',) href='http://tornadoweb.org'>,\n",
       " <Element 'a' href='http://flask.pocoo.org/' class=('tag',)>,\n",
       " <Element 'a' class=('tag',) href='http://www.web2py.com/'>,\n",
       " <Element 'a' class=('tag',) href='http://wiki.python.org/moin/TkInter'>,\n",
       " <Element 'a' class=('tag',) href='https://wiki.gnome.org/Projects/PyGObject'>,\n",
       " <Element 'a' class=('tag',) href='http://www.riverbankcomputing.co.uk/software/pyqt/intro'>,\n",
       " <Element 'a' class=('tag',) href='https://wiki.qt.io/PySide'>,\n",
       " <Element 'a' class=('tag',) href='https://kivy.org/'>,\n",
       " <Element 'a' class=('tag',) href='http://www.wxpython.org/'>,\n",
       " <Element 'a' class=('tag',) href='http://www.scipy.org'>,\n",
       " <Element 'a' class=('tag',) href='http://pandas.pydata.org/'>,\n",
       " <Element 'a' href='http://ipython.org' class=('tag',)>,\n",
       " <Element 'a' class=('tag',) href='http://buildbot.net/'>,\n",
       " <Element 'a' class=('tag',) href='http://trac.edgewall.org/'>,\n",
       " <Element 'a' class=('tag',) href='http://roundup.sourceforge.net/'>,\n",
       " <Element 'a' class=('tag',) href='http://www.ansible.com'>,\n",
       " <Element 'a' class=('tag',) href='http://www.saltstack.com'>,\n",
       " <Element 'a' class=('tag',) href='https://www.openstack.org'>,\n",
       " <Element 'a' href='/dev/peps/'>,\n",
       " <Element 'a' aria-hidden='true' class=('rss-link',) href='/dev/peps/peps.rss'>,\n",
       " <Element 'a' href='/psf/'>,\n",
       " <Element 'a' class=('readmore',) href='/psf/'>,\n",
       " <Element 'a' class=('button',) href='/users/membership/'>,\n",
       " <Element 'a' class=('button',) href='/psf/donations/'>,\n",
       " <Element 'a' id='back-to-top-1' class=('jump-link',) href='#python-network'>,\n",
       " <Element 'a' href='/about/'>,\n",
       " <Element 'a' href='/about/apps/' title=''>,\n",
       " <Element 'a' href='/about/quotes/' title=''>,\n",
       " <Element 'a' href='/about/gettingstarted/' title=''>,\n",
       " <Element 'a' href='/about/help/' title=''>,\n",
       " <Element 'a' href='http://brochure.getpython.info/' title=''>,\n",
       " <Element 'a' href='/downloads/'>,\n",
       " <Element 'a' href='/downloads/' title=''>,\n",
       " <Element 'a' href='/downloads/source/' title=''>,\n",
       " <Element 'a' href='/downloads/windows/' title=''>,\n",
       " <Element 'a' href='/downloads/mac-osx/' title=''>,\n",
       " <Element 'a' href='/download/other/' title=''>,\n",
       " <Element 'a' href='https://docs.python.org/3/license.html' title=''>,\n",
       " <Element 'a' href='/download/alternatives' title=''>,\n",
       " <Element 'a' href='/doc/'>,\n",
       " <Element 'a' href='/doc/' title=''>,\n",
       " <Element 'a' href='/doc/av' title=''>,\n",
       " <Element 'a' href='https://wiki.python.org/moin/BeginnersGuide' title=''>,\n",
       " <Element 'a' href='https://devguide.python.org/' title=''>,\n",
       " <Element 'a' href='https://docs.python.org/faq/' title=''>,\n",
       " <Element 'a' href='http://wiki.python.org/moin/Languages' title=''>,\n",
       " <Element 'a' href='http://python.org/dev/peps/' title=''>,\n",
       " <Element 'a' href='https://wiki.python.org/moin/PythonBooks' title=''>,\n",
       " <Element 'a' href='/doc/essays/' title=''>,\n",
       " <Element 'a' href='/community/'>,\n",
       " <Element 'a' href='/community/survey' title=''>,\n",
       " <Element 'a' href='/community/diversity/' title=''>,\n",
       " <Element 'a' href='/community/lists/' title=''>,\n",
       " <Element 'a' href='/community/irc/' title=''>,\n",
       " <Element 'a' href='/community/forums/' title=''>,\n",
       " <Element 'a' href='/psf/annual-report/2019/' title=''>,\n",
       " <Element 'a' href='/community/workshops/' title=''>,\n",
       " <Element 'a' href='/community/sigs/' title=''>,\n",
       " <Element 'a' href='/community/logos/' title=''>,\n",
       " <Element 'a' href='https://wiki.python.org/moin/' title=''>,\n",
       " <Element 'a' href='/community/merchandise/' title=''>,\n",
       " <Element 'a' href='/community/awards' title=''>,\n",
       " <Element 'a' href='/psf/conduct/' title=''>,\n",
       " <Element 'a' href='/success-stories/' title='success-stories'>,\n",
       " <Element 'a' href='/success-stories/category/arts/' title=''>,\n",
       " <Element 'a' href='/success-stories/category/business/' title=''>,\n",
       " <Element 'a' href='/success-stories/category/education/' title=''>,\n",
       " <Element 'a' href='/success-stories/category/engineering/' title=''>,\n",
       " <Element 'a' href='/success-stories/category/government/' title=''>,\n",
       " <Element 'a' href='/success-stories/category/scientific/' title=''>,\n",
       " <Element 'a' href='/success-stories/category/software-development/' title=''>,\n",
       " <Element 'a' href='/blogs/' title='News from around the Python world'>,\n",
       " <Element 'a' href='/blogs/' title='Python Insider Blog Posts'>,\n",
       " <Element 'a' href='/psf/newsletter/' title='Python Software Foundation Newsletter'>,\n",
       " <Element 'a' href='http://planetpython.org/' title='Planet Python'>,\n",
       " <Element 'a' href='http://pyfound.blogspot.com/' title='PSF Blog'>,\n",
       " <Element 'a' href='http://pycon.blogspot.com/' title='PyCon Blog'>,\n",
       " <Element 'a' href='/events/'>,\n",
       " <Element 'a' href='/events/python-events' title=''>,\n",
       " <Element 'a' href='/events/python-user-group/' title=''>,\n",
       " <Element 'a' href='/events/python-events/past/' title=''>,\n",
       " <Element 'a' href='/events/python-user-group/past/' title=''>,\n",
       " <Element 'a' href='https://wiki.python.org/moin/PythonEventsCalendar#Submitting_an_Event' title=''>,\n",
       " <Element 'a' href='/dev/'>,\n",
       " <Element 'a' href='https://devguide.python.org/' title=''>,\n",
       " <Element 'a' href='https://bugs.python.org/' title=''>,\n",
       " <Element 'a' href='https://mail.python.org/mailman/listinfo/python-dev' title=''>,\n",
       " <Element 'a' href='/dev/core-mentorship/' title=''>,\n",
       " <Element 'a' href='/dev/security/' title=''>,\n",
       " <Element 'a' id='back-to-top-2' class=('jump-link',) href='#python-network'>,\n",
       " <Element 'a' href='/about/help/'>,\n",
       " <Element 'a' href='/community/diversity/'>,\n",
       " <Element 'a' href='https://github.com/python/pythondotorg/issues'>,\n",
       " <Element 'a' href='https://status.python.org/'>,\n",
       " <Element 'a' href='/psf-landing/'>,\n",
       " <Element 'a' href='/about/legal/'>,\n",
       " <Element 'a' href='/privacy/'>,\n",
       " <Element 'a' href='/psf/sponsorship/sponsors/#heroku'>]"
      ]
     },
     "execution_count": 199,
     "metadata": {},
     "output_type": "execute_result"
    }
   ],
   "source": [
    "r.html.xpath(\".//a\")"
   ]
  },
  {
   "cell_type": "code",
   "execution_count": 201,
   "metadata": {},
   "outputs": [
    {
     "data": {
      "text/plain": [
       "{'http://bottlepy.org',\n",
       " 'http://brochure.getpython.info/',\n",
       " 'http://buildbot.net/',\n",
       " 'http://docs.python.org/3/tutorial/introduction.html#using-python-as-a-calculator',\n",
       " 'http://feedproxy.google.com/~r/PythonInsider/~3/D5sAVdxYnzY/python-359-is-released.html',\n",
       " 'http://feedproxy.google.com/~r/PythonSoftwareFoundationNews/~3/T3r7qZxo-xg/python-software-foundation-fellow.html',\n",
       " 'http://feedproxy.google.com/~r/PythonSoftwareFoundationNews/~3/Y4CDqUEnEB8/the-2019-python-developer-survey-is.html',\n",
       " 'http://feedproxy.google.com/~r/PythonSoftwareFoundationNews/~3/jAMRqiPhWSs/seeking-developers-for-paid-contract.html',\n",
       " 'http://feedproxy.google.com/~r/PythonSoftwareFoundationNews/~3/lE0u-5MIUQc/why-sponsor-pycon-2020.html',\n",
       " 'http://flask.pocoo.org/',\n",
       " 'http://ipython.org',\n",
       " 'http://pandas.pydata.org/',\n",
       " 'http://planetpython.org/',\n",
       " 'http://pycon.blogspot.com/',\n",
       " 'http://pyfound.blogspot.com/',\n",
       " 'http://python.org/dev/peps/',\n",
       " 'http://roundup.sourceforge.net/',\n",
       " 'http://tornadoweb.org',\n",
       " 'http://trac.edgewall.org/',\n",
       " 'http://wiki.python.org/moin/Languages',\n",
       " 'http://wiki.python.org/moin/TkInter',\n",
       " 'http://www.ansible.com',\n",
       " 'http://www.djangoproject.com/',\n",
       " 'http://www.pylonsproject.org/',\n",
       " 'http://www.riverbankcomputing.co.uk/software/pyqt/intro',\n",
       " 'http://www.saltstack.com',\n",
       " 'http://www.scipy.org',\n",
       " 'http://www.web2py.com/',\n",
       " 'http://www.wxpython.org/',\n",
       " 'https://blog.python.org',\n",
       " 'https://bugs.python.org/',\n",
       " 'https://devguide.python.org/',\n",
       " 'https://docs.python.org',\n",
       " 'https://docs.python.org/3/license.html',\n",
       " 'https://docs.python.org/3/tutorial/',\n",
       " 'https://docs.python.org/3/tutorial/controlflow.html',\n",
       " 'https://docs.python.org/3/tutorial/controlflow.html#defining-functions',\n",
       " 'https://docs.python.org/3/tutorial/introduction.html#lists',\n",
       " 'https://docs.python.org/faq/',\n",
       " 'https://github.com/python/pythondotorg/issues',\n",
       " 'https://jobs.python.org',\n",
       " 'https://kivy.org/',\n",
       " 'https://mail.python.org/mailman/listinfo/python-dev',\n",
       " 'https://pypi.python.org/',\n",
       " 'https://status.python.org/',\n",
       " 'https://surveys.jetbrains.com/s3/c6-python-developers-survey-2019',\n",
       " 'https://twitter.com/ThePSF',\n",
       " 'https://wiki.gnome.org/Projects/PyGObject',\n",
       " 'https://wiki.python.org/moin/',\n",
       " 'https://wiki.python.org/moin/BeginnersGuide',\n",
       " 'https://wiki.python.org/moin/PythonBooks',\n",
       " 'https://wiki.python.org/moin/PythonEventsCalendar#Submitting_an_Event',\n",
       " 'https://wiki.qt.io/PySide',\n",
       " 'https://www.facebook.com/pythonlang?fref=ts',\n",
       " 'https://www.openstack.org',\n",
       " 'https://www.python.org/',\n",
       " 'https://www.python.org/about/',\n",
       " 'https://www.python.org/about/apps',\n",
       " 'https://www.python.org/about/apps/',\n",
       " 'https://www.python.org/about/gettingstarted/',\n",
       " 'https://www.python.org/about/help/',\n",
       " 'https://www.python.org/about/legal/',\n",
       " 'https://www.python.org/about/quotes/',\n",
       " 'https://www.python.org/blogs/',\n",
       " 'https://www.python.org/community/',\n",
       " 'https://www.python.org/community/awards',\n",
       " 'https://www.python.org/community/diversity/',\n",
       " 'https://www.python.org/community/forums/',\n",
       " 'https://www.python.org/community/irc/',\n",
       " 'https://www.python.org/community/lists/',\n",
       " 'https://www.python.org/community/logos/',\n",
       " 'https://www.python.org/community/merchandise/',\n",
       " 'https://www.python.org/community/sigs/',\n",
       " 'https://www.python.org/community/survey',\n",
       " 'https://www.python.org/community/workshops/',\n",
       " 'https://www.python.org/dev/',\n",
       " 'https://www.python.org/dev/core-mentorship/',\n",
       " 'https://www.python.org/dev/peps/',\n",
       " 'https://www.python.org/dev/peps/peps.rss',\n",
       " 'https://www.python.org/dev/security/',\n",
       " 'https://www.python.org/doc/',\n",
       " 'https://www.python.org/doc/av',\n",
       " 'https://www.python.org/doc/essays/',\n",
       " 'https://www.python.org/download/alternatives',\n",
       " 'https://www.python.org/download/other/',\n",
       " 'https://www.python.org/downloads/',\n",
       " 'https://www.python.org/downloads/mac-osx/',\n",
       " 'https://www.python.org/downloads/release/python-380/',\n",
       " 'https://www.python.org/downloads/source/',\n",
       " 'https://www.python.org/downloads/windows/',\n",
       " 'https://www.python.org/events/',\n",
       " 'https://www.python.org/events/calendars/',\n",
       " 'https://www.python.org/events/python-events',\n",
       " 'https://www.python.org/events/python-events/861/',\n",
       " 'https://www.python.org/events/python-events/879/',\n",
       " 'https://www.python.org/events/python-events/880/',\n",
       " 'https://www.python.org/events/python-events/884/',\n",
       " 'https://www.python.org/events/python-events/past/',\n",
       " 'https://www.python.org/events/python-user-group/',\n",
       " 'https://www.python.org/events/python-user-group/886/',\n",
       " 'https://www.python.org/events/python-user-group/past/',\n",
       " 'https://www.python.org/jobs/',\n",
       " 'https://www.python.org/privacy/',\n",
       " 'https://www.python.org/psf-landing/',\n",
       " 'https://www.python.org/psf/',\n",
       " 'https://www.python.org/psf/annual-report/2019/',\n",
       " 'https://www.python.org/psf/conduct/',\n",
       " 'https://www.python.org/psf/donations/',\n",
       " 'https://www.python.org/psf/newsletter/',\n",
       " 'https://www.python.org/psf/sponsorship/sponsors/#heroku',\n",
       " 'https://www.python.org/shell/',\n",
       " 'https://www.python.org/success-stories/',\n",
       " 'https://www.python.org/success-stories/building-an-open-source-and-cross-platform-azure-cli-with-python/',\n",
       " 'https://www.python.org/success-stories/category/arts/',\n",
       " 'https://www.python.org/success-stories/category/business/',\n",
       " 'https://www.python.org/success-stories/category/education/',\n",
       " 'https://www.python.org/success-stories/category/engineering/',\n",
       " 'https://www.python.org/success-stories/category/government/',\n",
       " 'https://www.python.org/success-stories/category/scientific/',\n",
       " 'https://www.python.org/success-stories/category/software-development/',\n",
       " 'https://www.python.org/users/membership/'}"
      ]
     },
     "execution_count": 201,
     "metadata": {},
     "output_type": "execute_result"
    }
   ],
   "source": [
    "r.html.absolute_links"
   ]
  },
  {
   "cell_type": "code",
   "execution_count": 202,
   "metadata": {},
   "outputs": [],
   "source": [
    "from robobrowser import RoboBrowser\n",
    "import re\n",
    "re._pattern_type = re.Pattern\n",
    "\n",
    "br = RoboBrowser(parser=\"lxml\")\n",
    "\n",
    "pypi_url = \"https://pypi.org/\"\n",
    "\n",
    "br.open(pypi_url)\n",
    "assert br.response.ok and br.response.status_code == 200"
   ]
  },
  {
   "cell_type": "code",
   "execution_count": 205,
   "metadata": {},
   "outputs": [],
   "source": [
    "f = br.get_form()"
   ]
  },
  {
   "cell_type": "code",
   "execution_count": 208,
   "metadata": {},
   "outputs": [
    {
     "data": {
      "text/plain": [
       "['q']"
      ]
     },
     "execution_count": 208,
     "metadata": {},
     "output_type": "execute_result"
    }
   ],
   "source": [
    "list(f.keys())"
   ]
  },
  {
   "cell_type": "code",
   "execution_count": 210,
   "metadata": {},
   "outputs": [
    {
     "name": "stdout",
     "output_type": "stream",
     "text": [
      "<robobrowser.forms.fields.Input object at 0x7f149f861ac8>\n"
     ]
    },
    {
     "data": {
      "text/plain": [
       "<RoboForm q=xml>"
      ]
     },
     "execution_count": 210,
     "metadata": {},
     "output_type": "execute_result"
    }
   ],
   "source": [
    "print(f[\"q\"])\n",
    "f[\"q\"] = \"xml\"\n",
    "f"
   ]
  },
  {
   "cell_type": "code",
   "execution_count": 211,
   "metadata": {},
   "outputs": [],
   "source": [
    "br.submit_form(f)"
   ]
  },
  {
   "cell_type": "code",
   "execution_count": 212,
   "metadata": {},
   "outputs": [
    {
     "data": {
      "text/plain": [
       "(True, 200)"
      ]
     },
     "execution_count": 212,
     "metadata": {},
     "output_type": "execute_result"
    }
   ],
   "source": [
    "br.response.ok, br.response.status_code"
   ]
  },
  {
   "cell_type": "code",
   "execution_count": 213,
   "metadata": {},
   "outputs": [
    {
     "data": {
      "text/plain": [
       "'https://pypi.org/search/?q=xml'"
      ]
     },
     "execution_count": 213,
     "metadata": {},
     "output_type": "execute_result"
    }
   ],
   "source": [
    "br.url"
   ]
  },
  {
   "cell_type": "code",
   "execution_count": 215,
   "metadata": {
    "scrolled": true
   },
   "outputs": [
    {
     "data": {
      "text/plain": [
       "[<span class=\"package-snippet__name\">ttr.xml.csv2xml</span>,\n",
       " <span class=\"package-snippet__name\">xml-overrider</span>,\n",
       " <span class=\"package-snippet__name\">xml-ormz</span>,\n",
       " <span class=\"package-snippet__name\">pydict2xml</span>,\n",
       " <span class=\"package-snippet__name\">xml-miner</span>]"
      ]
     },
     "execution_count": 215,
     "metadata": {},
     "output_type": "execute_result"
    }
   ],
   "source": [
    "br.select(\"span.package-snippet__name\")[:5]"
   ]
  },
  {
   "cell_type": "code",
   "execution_count": 216,
   "metadata": {},
   "outputs": [],
   "source": [
    "home_url = \"http://testing.chandrashekar.info/\"\n",
    "\n",
    "login_url = \"http://testing.chandrashekar.info/wp-login.php\"\n",
    "username = \"pythonista\"\n",
    "password = \"w3lc0me\"\n",
    "\n",
    "logged_in_url = \"http://testing.chandrashekar.info/wp-admin/\"\n",
    "\n",
    "add_new_post_url = \"http://testing.chandrashekar.info/wp-admin/post-new.php\""
   ]
  },
  {
   "cell_type": "code",
   "execution_count": 217,
   "metadata": {},
   "outputs": [],
   "source": [
    "from robobrowser import RoboBrowser\n",
    "import re\n",
    "re._pattern_type = re.Pattern\n",
    "br = RoboBrowser(parser=\"lxml\")\n",
    "\n",
    "br.open(login_url)"
   ]
  },
  {
   "cell_type": "code",
   "execution_count": 239,
   "metadata": {},
   "outputs": [
    {
     "data": {
      "text/plain": [
       "'http://testing.chandrashekar.info/wp-admin/post.php?post=289&action=edit&message=6'"
      ]
     },
     "execution_count": 239,
     "metadata": {},
     "output_type": "execute_result"
    }
   ],
   "source": [
    "assert br.response.ok and br.url == login_url"
   ]
  },
  {
   "cell_type": "code",
   "execution_count": 221,
   "metadata": {},
   "outputs": [],
   "source": [
    "login_form = br.get_form()\n",
    "login_form[\"log\"] = username\n",
    "login_form[\"pwd\"] = password\n",
    "\n",
    "br.submit_form(login_form)\n",
    "# assert br.response.ok and br.url == logged_in_url\n"
   ]
  },
  {
   "cell_type": "code",
   "execution_count": 223,
   "metadata": {},
   "outputs": [],
   "source": [
    "add_new_link = br.get_link(\"Add New\")\n",
    "print(add_new_link)\n",
    "br.follow_link(add_new_link)\n",
    "assert br.response.ok and br.url == add_new_post_url"
   ]
  },
  {
   "cell_type": "code",
   "execution_count": 225,
   "metadata": {
    "scrolled": true
   },
   "outputs": [
    {
     "data": {
      "text/plain": [
       "[<RoboForm formatdiv-hide=['formatdiv'], categorydiv-hide=['categorydiv'], tagsdiv-post_tag-hide=['tagsdiv-post_tag'], postimagediv-hide=['postimagediv'], postexcerpt-hide=[], trackbacksdiv-hide=[], postcustom-hide=[], commentstatusdiv-hide=[], slugdiv-hide=[], authordiv-hide=[], screen_columns=2, screenoptionnonce=beb0700a4c>,\n",
       " <RoboForm _wpnonce=06f32fe59e, _wp_http_referer=/wp-admin/post-new.php, user_ID=1, action=editpost, originalaction=editpost, post_author=1, post_type=post, original_post_status=auto-draft, referredby=, _wp_original_http_referer=, auto_draft=1, post_ID=289, meta-box-order-nonce=50225b8222, closedpostboxesnonce=09132c531b, post_title=, samplepermalinknonce=86c38def71, content=, save=Save, save=Save Draft, wp-preview=, hidden_post_status=draft, post_status=draft, hidden_post_password=, hidden_post_sticky=[], hidden_post_visibility=public, visibility=public, sticky=[], visibility=, post_password=, visibility=, mm=11, jj=28, aa=2019, hh=08, mn=26, ss=03, hidden_mm=11, cur_mm=11, hidden_jj=28, cur_jj=28, hidden_aa=2019, cur_aa=2019, hidden_hh=08, cur_hh=08, hidden_mn=26, cur_mn=26, original_publish=Publish, publish=Publish, post_format=0, post_category[]=0, post_category[]=[], newcategory=New Category Name, newcategory_parent=-1, _ajax_nonce-add-category=22450e6be0, tax_input[post_tag]=, newtag[post_tag]=, _thumbnail_id=-1, excerpt=, trackback_url=, metakeyinput=, metavalue=, addmeta=Add Custom Field, _ajax_nonce-add-meta=1a560ca960, advanced_view=1, comment_status=['open'], ping_status=['open'], post_name=, post_author_override=1>,\n",
       " <RoboForm replycontent=, newcomment_author=, newcomment_author_email=, newcomment_author_url=, action=, comment_ID=, comment_post_ID=, status=, position=1, checkbox=0, mode=single, _ajax_nonce-replyto-comment=de56770e36, _wp_unfiltered_html_comment=cfac1c96ac>,\n",
       " <RoboForm _ajax_linking_nonce=90bc38ad54, wp-link-submit=Add Link>]"
      ]
     },
     "execution_count": 225,
     "metadata": {},
     "output_type": "execute_result"
    }
   ],
   "source": [
    "br.get_forms()"
   ]
  },
  {
   "cell_type": "code",
   "execution_count": 228,
   "metadata": {},
   "outputs": [],
   "source": [
    "blog_form = br.get_form(id=\"post\")\n",
    "print(blog_form)"
   ]
  },
  {
   "cell_type": "code",
   "execution_count": 231,
   "metadata": {},
   "outputs": [
    {
     "data": {
      "text/plain": [
       "(<robobrowser.forms.fields.Input at 0x7f149f36c898>, '')"
      ]
     },
     "execution_count": 231,
     "metadata": {},
     "output_type": "execute_result"
    }
   ],
   "source": [
    "blog_form[\"post_title\"], blog_form[\"post_title\"].value"
   ]
  },
  {
   "cell_type": "code",
   "execution_count": 233,
   "metadata": {},
   "outputs": [
    {
     "data": {
      "text/plain": [
       "(<robobrowser.forms.fields.Textarea at 0x7f149f36c908>, '')"
      ]
     },
     "execution_count": 233,
     "metadata": {},
     "output_type": "execute_result"
    }
   ],
   "source": [
    "blog_form[\"content\"], blog_form[\"content\"].value"
   ]
  },
  {
   "cell_type": "code",
   "execution_count": 234,
   "metadata": {
    "scrolled": true
   },
   "outputs": [
    {
     "data": {
      "text/plain": [
       "<RoboForm _wpnonce=06f32fe59e, _wp_http_referer=/wp-admin/post-new.php, user_ID=1, action=editpost, originalaction=editpost, post_author=1, post_type=post, original_post_status=auto-draft, referredby=, _wp_original_http_referer=, auto_draft=1, post_ID=289, meta-box-order-nonce=50225b8222, closedpostboxesnonce=09132c531b, post_title=A new blog by Chandrashekar - 28 Nov 2019, samplepermalinknonce=86c38def71, content=\n",
       "ksdj  jdsf jdslkjkdsjflkdsjfdsf\n",
       "sdlkfdslkfjdslkjfdskl jflkdsf\n",
       "dsflkdsjf lkdjflkdsjfkldsfds\n",
       "fdslkfjd kfjdslkjf dslk jfk jflkdsfds\n",
       "lkdsjflkd jflkds jflkdsjflksj flkdsf\n",
       ", save=Save, save=Save Draft, wp-preview=, hidden_post_status=draft, post_status=draft, hidden_post_password=, hidden_post_sticky=[], hidden_post_visibility=public, visibility=public, sticky=[], visibility=, post_password=, visibility=, mm=11, jj=28, aa=2019, hh=08, mn=26, ss=03, hidden_mm=11, cur_mm=11, hidden_jj=28, cur_jj=28, hidden_aa=2019, cur_aa=2019, hidden_hh=08, cur_hh=08, hidden_mn=26, cur_mn=26, original_publish=Publish, publish=Publish, post_format=0, post_category[]=0, post_category[]=[], newcategory=New Category Name, newcategory_parent=-1, _ajax_nonce-add-category=22450e6be0, tax_input[post_tag]=, newtag[post_tag]=, _thumbnail_id=-1, excerpt=, trackback_url=, metakeyinput=, metavalue=, addmeta=Add Custom Field, _ajax_nonce-add-meta=1a560ca960, advanced_view=1, comment_status=['open'], ping_status=['open'], post_name=, post_author_override=1>"
      ]
     },
     "execution_count": 234,
     "metadata": {},
     "output_type": "execute_result"
    }
   ],
   "source": [
    "blog_form[\"post_title\"] = \"A new blog by Chandrashekar - 28 Nov 2019\"\n",
    "blog_form[\"content\"] = \"\"\"\n",
    "ksdj  jdsf jdslkjkdsjflkdsjfdsf\n",
    "sdlkfdslkfjdslkjfdskl jflkdsf\n",
    "dsflkdsjf lkdjflkdsjfkldsfds\n",
    "fdslkfjd kfjdslkjf dslk jfk jflkdsfds\n",
    "lkdsjflkd jflkds jflkdsjflksj flkdsf\n",
    "\"\"\"\n",
    "\n",
    "blog_form"
   ]
  },
  {
   "cell_type": "code",
   "execution_count": 237,
   "metadata": {},
   "outputs": [
    {
     "data": {
      "text/plain": [
       "<robobrowser.forms.fields.Submit at 0x7f149f2f32e8>"
      ]
     },
     "execution_count": 237,
     "metadata": {},
     "output_type": "execute_result"
    }
   ],
   "source": [
    "blog_form[\"publish\"]"
   ]
  },
  {
   "cell_type": "code",
   "execution_count": 238,
   "metadata": {},
   "outputs": [],
   "source": [
    "br.submit_form(blog_form, blog_form[\"publish\"])"
   ]
  },
  {
   "cell_type": "code",
   "execution_count": 240,
   "metadata": {},
   "outputs": [
    {
     "data": {
      "text/plain": [
       "'http://testing.chandrashekar.info/'"
      ]
     },
     "execution_count": 240,
     "metadata": {},
     "output_type": "execute_result"
    }
   ],
   "source": [
    "br.open(home_url)\n",
    "br.url"
   ]
  },
  {
   "cell_type": "code",
   "execution_count": 242,
   "metadata": {},
   "outputs": [
    {
     "data": {
      "text/plain": [
       "<a class=\"post-edit-link\" href=\"http://testing.chandrashekar.info/wp-admin/post.php?post=289&amp;action=edit\">Edit<span class=\"screen-reader-text\"> \"A new blog by Chandrashekar – 28 Nov 2019\"</span></a>"
      ]
     },
     "execution_count": 242,
     "metadata": {},
     "output_type": "execute_result"
    }
   ],
   "source": [
    "br.get_link(\"A new blog by Chandrashekar\")"
   ]
  }
 ],
 "metadata": {
  "kernelspec": {
   "display_name": "Python 3",
   "language": "python",
   "name": "python3"
  },
  "language_info": {
   "codemirror_mode": {
    "name": "ipython",
    "version": 3
   },
   "file_extension": ".py",
   "mimetype": "text/x-python",
   "name": "python",
   "nbconvert_exporter": "python",
   "pygments_lexer": "ipython3",
   "version": "3.7.3"
  }
 },
 "nbformat": 4,
 "nbformat_minor": 2
}
