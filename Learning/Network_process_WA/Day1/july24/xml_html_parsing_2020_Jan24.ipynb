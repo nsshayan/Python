{
 "cells": [
  {
   "cell_type": "code",
   "execution_count": null,
   "metadata": {},
   "outputs": [],
   "source": [
    "# %load xml/books.xml\n",
    "<?xml version=\"1.0\" ?>\n",
    "<catalog><book id=\"bk101\" country=\"India\" type=\"technical\">\n",
    "      this is a test book\n",
    "      <author>Gambardella, Matthew</author>\n",
    "      <title>XML Developer's Guide</title>\n",
    "      <genre>Computer</genre>\n",
    "      <price>44.95</price>\n",
    "      <publish_date>2000-10-01</publish_date>\n",
    "      <description>An in-depth look at creating applications\n",
    "      with XML.</description>\n",
    "   </book>\n",
    "   <book id=\"bk102\">\n",
    "      <author>Ralls, Kim</author>\n",
    "      <title>Midnight Rain</title>\n",
    "      <genre>Fantasy</genre>\n",
    "      <price>5.95</price>\n",
    "      <publish_date>2000-12-16</publish_date>\n",
    "      <description>A former architect battles corporate zombies,\n",
    "      an evil sorceress, and her own childhood to become queen\n",
    "      of the world.</description>\n",
    "   </book>\n",
    "   <book id=\"bk103\">\n",
    "      <author>Corets, Eva</author>\n",
    "      <title>Maeve Ascendant</title>\n",
    "      <genre>Fantasy</genre>\n",
    "      <price>5.95</price>\n",
    "      <publish_date>2000-11-17</publish_date>\n",
    "      <description>After the collapse of a nanotechnology\n",
    "      society in England, the young survivors lay the\n",
    "      foundation for a new society.</description>\n",
    "   </book>\n",
    "   <book id=\"bk104\">\n",
    "      <author>Corets, Eva</author>\n",
    "      <title>Oberon's Legacy</title>\n",
    "      <genre>Fantasy</genre>\n",
    "      <price>5.95</price>\n",
    "      <publish_date>2001-03-10</publish_date>\n",
    "      <description>In post-apocalypse England, the mysterious\n",
    "      agent known only as Oberon helps to create a new life\n",
    "      for the inhabitants of London. Sequel to Maeve\n",
    "      Ascendant.</description>\n",
    "   </book>\n",
    "   <book id=\"bk105\">\n",
    "      <author>Corets, Eva</author>\n",
    "      <title>The Sundered Grail</title>\n",
    "      <genre>Fantasy</genre>\n",
    "      <price>5.95</price>\n",
    "      <publish_date>2001-09-10</publish_date>\n",
    "      <description>The two daughters of Maeve, half-sisters,\n",
    "      battle one another for control of England. Sequel to\n",
    "      Oberon's Legacy.</description>\n",
    "   </book>\n",
    "   <book id=\"bk106\">\n",
    "      <author>Randall, Cynthia</author>\n",
    "      <title>Lover Birds</title>\n",
    "      <genre>Romance</genre>\n",
    "      <price>4.95</price>\n",
    "      <publish_date>2000-09-02</publish_date>\n",
    "      <description>When Carla meets Paul at an ornithology\n",
    "      conference, tempers fly as feathers get ruffled.</description>\n",
    "   </book>\n",
    "   <book id=\"bk107\">\n",
    "      <author>Thurman, Paula</author>\n",
    "      <title>Splish Splash</title>\n",
    "      <genre>Romance</genre>\n",
    "      <price>4.95</price>\n",
    "      <publish_date>2000-11-02</publish_date>\n",
    "      <description>A deep sea diver finds true love twenty\n",
    "      thousand leagues beneath the sea.</description>\n",
    "   </book>\n",
    "   <book id=\"bk108\">\n",
    "      <author>Knorr, Stefan</author>\n",
    "      <title>Creepy Crawlies</title>\n",
    "      <genre>Horror</genre>\n",
    "      <price>4.95</price>\n",
    "      <publish_date>2000-12-06</publish_date>\n",
    "      <description>An anthology of horror stories about roaches,\n",
    "      centipedes, scorpions  and other insects.</description>\n",
    "   </book>\n",
    "   <book id=\"bk109\">\n",
    "      <author>Kress, Peter</author>\n",
    "      <title>Paradox Lost</title>\n",
    "      <genre>Science Fiction</genre>\n",
    "      <price>6.95</price>\n",
    "      <publish_date>2000-11-02</publish_date>\n",
    "      <description>After an inadvertant trip through a Heisenberg\n",
    "      Uncertainty Device, James Salway discovers the problems\n",
    "      of being quantum.</description>\n",
    "   </book>\n",
    "   <book id=\"bk110\">\n",
    "      <author>O'Brien, Tim</author>\n",
    "      <title>Microsoft .NET: The Programming Bible</title>\n",
    "      <genre>Computer</genre>\n",
    "      <price>36.95</price>\n",
    "      <publish_date>2000-12-09</publish_date>\n",
    "      <description>Microsoft's .NET initiative is explored in\n",
    "      detail in this deep programmer's reference.</description>\n",
    "   </book>\n",
    "   <book id=\"bk111\">\n",
    "      <author>O'Brien, Tim</author>\n",
    "      <title>MSXML3: A Comprehensive Guide</title>\n",
    "      <genre>Computer</genre>\n",
    "      <price>36.95</price>\n",
    "      <publish_date>2000-12-01</publish_date>\n",
    "      <description>The Microsoft MSXML3 parser is covered in\n",
    "      detail, with attention to XML DOM interfaces, XSLT processing,\n",
    "      SAX and more.</description>\n",
    "   </book>\n",
    "   <book id=\"bk112\">\n",
    "      <author>Galos, Mike</author>\n",
    "      <title>Visual Studio 7: A Comprehensive Guide</title>\n",
    "      <genre>Computer</genre>\n",
    "      <price>49.95</price>\n",
    "      <publish_date>2001-04-16</publish_date>\n",
    "      <description>Microsoft Visual Studio 7 is explored in depth,\n",
    "      looking at how Visual Basic, Visual C++, C#, and ASP+ are\n",
    "      integrated into a comprehensive development\n",
    "      environment.</description>\n",
    "   </book>\n",
    "</catalog>\n"
   ]
  },
  {
   "cell_type": "code",
   "execution_count": 5,
   "metadata": {},
   "outputs": [
    {
     "name": "stdout",
     "output_type": "stream",
     "text": [
      "/home/chandrashekar/Training/AdvancedPython/Samples/2020_Jan24/xml\n"
     ]
    }
   ],
   "source": [
    "cd xml"
   ]
  },
  {
   "cell_type": "code",
   "execution_count": 3,
   "metadata": {},
   "outputs": [],
   "source": [
    "import xml.etree.ElementTree as et\n"
   ]
  },
  {
   "cell_type": "code",
   "execution_count": 8,
   "metadata": {},
   "outputs": [
    {
     "data": {
      "text/plain": [
       "<xml.etree.ElementTree.ElementTree at 0x7f83d8297780>"
      ]
     },
     "execution_count": 8,
     "metadata": {},
     "output_type": "execute_result"
    }
   ],
   "source": [
    "tree = et.parse(\"./books.xml\")\n",
    "tree"
   ]
  },
  {
   "cell_type": "code",
   "execution_count": 10,
   "metadata": {},
   "outputs": [],
   "source": [
    "c = tree.getroot()"
   ]
  },
  {
   "cell_type": "code",
   "execution_count": 11,
   "metadata": {},
   "outputs": [
    {
     "data": {
      "text/plain": [
       "{}"
      ]
     },
     "execution_count": 11,
     "metadata": {},
     "output_type": "execute_result"
    }
   ],
   "source": [
    "c.attrib"
   ]
  },
  {
   "cell_type": "code",
   "execution_count": 12,
   "metadata": {},
   "outputs": [
    {
     "data": {
      "text/plain": [
       "'catalog'"
      ]
     },
     "execution_count": 12,
     "metadata": {},
     "output_type": "execute_result"
    }
   ],
   "source": [
    "c.tag"
   ]
  },
  {
   "cell_type": "code",
   "execution_count": 13,
   "metadata": {},
   "outputs": [],
   "source": [
    "c.text"
   ]
  },
  {
   "cell_type": "code",
   "execution_count": 14,
   "metadata": {},
   "outputs": [
    {
     "data": {
      "text/plain": [
       "<Element 'book' at 0x7f83d82968b8>"
      ]
     },
     "execution_count": 14,
     "metadata": {},
     "output_type": "execute_result"
    }
   ],
   "source": [
    "c[0]"
   ]
  },
  {
   "cell_type": "code",
   "execution_count": 17,
   "metadata": {},
   "outputs": [
    {
     "data": {
      "text/plain": [
       "\"XML Developer's Guide\""
      ]
     },
     "execution_count": 17,
     "metadata": {},
     "output_type": "execute_result"
    }
   ],
   "source": [
    "c[0][1].text"
   ]
  },
  {
   "cell_type": "code",
   "execution_count": 18,
   "metadata": {},
   "outputs": [
    {
     "data": {
      "text/plain": [
       "12"
      ]
     },
     "execution_count": 18,
     "metadata": {},
     "output_type": "execute_result"
    }
   ],
   "source": [
    "len(c)"
   ]
  },
  {
   "cell_type": "code",
   "execution_count": 20,
   "metadata": {},
   "outputs": [
    {
     "data": {
      "text/plain": [
       "[<Element 'book' at 0x7f83d829fd68>,\n",
       " <Element 'book' at 0x7f83d829ff98>,\n",
       " <Element 'book' at 0x7f83d82a2278>]"
      ]
     },
     "execution_count": 20,
     "metadata": {},
     "output_type": "execute_result"
    }
   ],
   "source": [
    "c[-3:]"
   ]
  },
  {
   "cell_type": "code",
   "execution_count": 22,
   "metadata": {},
   "outputs": [
    {
     "data": {
      "text/plain": [
       "<Element 'author' at 0x7f83d8296958>"
      ]
     },
     "execution_count": 22,
     "metadata": {},
     "output_type": "execute_result"
    }
   ],
   "source": [
    "c[0][0]"
   ]
  },
  {
   "cell_type": "code",
   "execution_count": 24,
   "metadata": {},
   "outputs": [
    {
     "data": {
      "text/plain": [
       "\"XML Developer's Guide\""
      ]
     },
     "execution_count": 24,
     "metadata": {},
     "output_type": "execute_result"
    }
   ],
   "source": [
    "c.find(\"./book/title\").text"
   ]
  },
  {
   "cell_type": "code",
   "execution_count": 29,
   "metadata": {},
   "outputs": [
    {
     "name": "stdout",
     "output_type": "stream",
     "text": [
      "XML Developer's Guide\n",
      "Midnight Rain\n",
      "Maeve Ascendant\n",
      "Oberon's Legacy\n",
      "The Sundered Grail\n",
      "Lover Birds\n",
      "Splish Splash\n",
      "Creepy Crawlies\n",
      "Paradox Lost\n",
      "Microsoft .NET: The Programming Bible\n",
      "MSXML3: A Comprehensive Guide\n",
      "Visual Studio 7: A Comprehensive Guide\n"
     ]
    }
   ],
   "source": [
    "for title in c.iterfind(\"./book/title\"):\n",
    "    print(title.text)"
   ]
  },
  {
   "cell_type": "code",
   "execution_count": 32,
   "metadata": {
    "scrolled": true
   },
   "outputs": [
    {
     "name": "stdout",
     "output_type": "stream",
     "text": [
      "Maeve Ascendant\n",
      "Oberon's Legacy\n",
      "The Sundered Grail\n"
     ]
    }
   ],
   "source": [
    "for t in c.iterfind(\"./book[author='Corets, Eva']/title\"):\n",
    "    print(t.text)"
   ]
  },
  {
   "cell_type": "code",
   "execution_count": 33,
   "metadata": {},
   "outputs": [
    {
     "data": {
      "text/plain": [
       "\"Oberon's Legacy\""
      ]
     },
     "execution_count": 33,
     "metadata": {},
     "output_type": "execute_result"
    }
   ],
   "source": [
    "c.find(\"./book[@id='bk104']/title\").text"
   ]
  },
  {
   "cell_type": "code",
   "execution_count": 37,
   "metadata": {},
   "outputs": [
    {
     "data": {
      "text/plain": [
       "['Midnight Rain',\n",
       " 'Maeve Ascendant',\n",
       " \"Oberon's Legacy\",\n",
       " 'The Sundered Grail',\n",
       " 'Lover Birds',\n",
       " 'Splish Splash',\n",
       " 'Creepy Crawlies',\n",
       " 'Paradox Lost']"
      ]
     },
     "execution_count": 37,
     "metadata": {},
     "output_type": "execute_result"
    }
   ],
   "source": [
    "[ book.find(\"./title\").text for book in c.iterfind(\"./book\") \\\n",
    "  if float(book.find(\"./price\").text) < 10.0 ]"
   ]
  },
  {
   "cell_type": "code",
   "execution_count": 54,
   "metadata": {},
   "outputs": [
    {
     "data": {
      "text/plain": [
       "['Midnight Rain',\n",
       " 'Maeve Ascendant',\n",
       " \"Oberon's Legacy\",\n",
       " 'The Sundered Grail',\n",
       " 'Lover Birds',\n",
       " 'Splish Splash',\n",
       " 'Creepy Crawlies',\n",
       " 'Paradox Lost']"
      ]
     },
     "execution_count": 54,
     "metadata": {},
     "output_type": "execute_result"
    }
   ],
   "source": [
    "c1.xpath(\"./book[price < 10.0]/title/text()\")"
   ]
  },
  {
   "cell_type": "code",
   "execution_count": 39,
   "metadata": {},
   "outputs": [
    {
     "data": {
      "text/plain": [
       "'44.95'"
      ]
     },
     "execution_count": 39,
     "metadata": {},
     "output_type": "execute_result"
    }
   ],
   "source": [
    "c.find(\"./book/price\").text"
   ]
  },
  {
   "cell_type": "code",
   "execution_count": 40,
   "metadata": {},
   "outputs": [
    {
     "data": {
      "text/plain": [
       "<module 'lxml.etree' from '/home/chandrashekar/anaconda3/lib/python3.7/site-packages/lxml/etree.cpython-37m-x86_64-linux-gnu.so'>"
      ]
     },
     "execution_count": 40,
     "metadata": {},
     "output_type": "execute_result"
    }
   ],
   "source": [
    "#import xml.etree.ElementTree as et\n",
    "import lxml.etree as et\n",
    "et"
   ]
  },
  {
   "cell_type": "code",
   "execution_count": 42,
   "metadata": {},
   "outputs": [],
   "source": [
    "tree = et.parse(\"./books.xml\")"
   ]
  },
  {
   "cell_type": "code",
   "execution_count": 44,
   "metadata": {},
   "outputs": [],
   "source": [
    "c1 = tree.getroot()"
   ]
  },
  {
   "cell_type": "code",
   "execution_count": 47,
   "metadata": {
    "scrolled": true
   },
   "outputs": [
    {
     "name": "stdout",
     "output_type": "stream",
     "text": [
      "['__class__', '__copy__', '__deepcopy__', '__delattr__', '__delitem__', '__dir__', '__doc__', '__eq__', '__format__', '__ge__', '__getattribute__', '__getitem__', '__getstate__', '__gt__', '__hash__', '__init__', '__init_subclass__', '__le__', '__len__', '__lt__', '__ne__', '__new__', '__reduce__', '__reduce_ex__', '__repr__', '__setattr__', '__setitem__', '__setstate__', '__sizeof__', '__str__', '__subclasshook__', 'append', 'attrib', 'clear', 'extend', 'find', 'findall', 'findtext', 'get', 'getchildren', 'getiterator', 'insert', 'items', 'iter', 'iterfind', 'itertext', 'keys', 'makeelement', 'remove', 'set', 'tag', 'tail', 'text']\n"
     ]
    }
   ],
   "source": [
    "print(dir(c))"
   ]
  },
  {
   "cell_type": "code",
   "execution_count": 48,
   "metadata": {
    "scrolled": true
   },
   "outputs": [
    {
     "name": "stdout",
     "output_type": "stream",
     "text": [
      "['__bool__', '__class__', '__contains__', '__copy__', '__deepcopy__', '__delattr__', '__delitem__', '__dir__', '__doc__', '__eq__', '__format__', '__ge__', '__getattribute__', '__getitem__', '__gt__', '__hash__', '__init__', '__init_subclass__', '__iter__', '__le__', '__len__', '__lt__', '__ne__', '__new__', '__reduce__', '__reduce_ex__', '__repr__', '__reversed__', '__setattr__', '__setitem__', '__sizeof__', '__str__', '__subclasshook__', '_init', 'addnext', 'addprevious', 'append', 'attrib', 'base', 'clear', 'cssselect', 'extend', 'find', 'findall', 'findtext', 'get', 'getchildren', 'getiterator', 'getnext', 'getparent', 'getprevious', 'getroottree', 'index', 'insert', 'items', 'iter', 'iterancestors', 'iterchildren', 'iterdescendants', 'iterfind', 'itersiblings', 'itertext', 'keys', 'makeelement', 'nsmap', 'prefix', 'remove', 'replace', 'set', 'sourceline', 'tag', 'tail', 'text', 'values', 'xpath']\n"
     ]
    }
   ],
   "source": [
    "print(dir(c1))"
   ]
  },
  {
   "cell_type": "code",
   "execution_count": 50,
   "metadata": {},
   "outputs": [
    {
     "name": "stdout",
     "output_type": "stream",
     "text": [
      "XML Developer's Guide\n",
      "Midnight Rain\n",
      "Maeve Ascendant\n",
      "Oberon's Legacy\n",
      "The Sundered Grail\n",
      "Lover Birds\n",
      "Splish Splash\n",
      "Creepy Crawlies\n",
      "Paradox Lost\n",
      "Microsoft .NET: The Programming Bible\n",
      "MSXML3: A Comprehensive Guide\n",
      "Visual Studio 7: A Comprehensive Guide\n"
     ]
    }
   ],
   "source": [
    "for t in c1.iterfind(\"./book/title\"):\n",
    "    print(t.text)"
   ]
  },
  {
   "cell_type": "code",
   "execution_count": 52,
   "metadata": {
    "scrolled": true
   },
   "outputs": [
    {
     "data": {
      "text/plain": [
       "[\"XML Developer's Guide\",\n",
       " 'Midnight Rain',\n",
       " 'Maeve Ascendant',\n",
       " \"Oberon's Legacy\",\n",
       " 'The Sundered Grail',\n",
       " 'Lover Birds',\n",
       " 'Splish Splash',\n",
       " 'Creepy Crawlies',\n",
       " 'Paradox Lost',\n",
       " 'Microsoft .NET: The Programming Bible',\n",
       " 'MSXML3: A Comprehensive Guide',\n",
       " 'Visual Studio 7: A Comprehensive Guide']"
      ]
     },
     "execution_count": 52,
     "metadata": {},
     "output_type": "execute_result"
    }
   ],
   "source": [
    "c1.xpath(\"./book/title/text()\")"
   ]
  },
  {
   "cell_type": "code",
   "execution_count": 56,
   "metadata": {
    "scrolled": false
   },
   "outputs": [
    {
     "data": {
      "text/plain": [
       "[<Element 'title' at 0x7f83d82969a8>,\n",
       " <Element 'title' at 0x7f83d8296bd8>,\n",
       " <Element 'title' at 0x7f83d8296e08>,\n",
       " <Element 'title' at 0x7f83d829f098>,\n",
       " <Element 'title' at 0x7f83d829f318>,\n",
       " <Element 'title' at 0x7f83d829f548>,\n",
       " <Element 'title' at 0x7f83d829f778>,\n",
       " <Element 'title' at 0x7f83d829f9a8>,\n",
       " <Element 'title' at 0x7f83d829fbd8>,\n",
       " <Element 'title' at 0x7f83d829fe08>,\n",
       " <Element 'title' at 0x7f83d82a2098>,\n",
       " <Element 'title' at 0x7f83d82a2318>]"
      ]
     },
     "execution_count": 56,
     "metadata": {},
     "output_type": "execute_result"
    }
   ],
   "source": [
    "list(c.iterfind(\".//title\"))"
   ]
  },
  {
   "cell_type": "code",
   "execution_count": 57,
   "metadata": {},
   "outputs": [
    {
     "data": {
      "text/plain": [
       "<Element staff at 0x7f83d0d3dd48>"
      ]
     },
     "execution_count": 57,
     "metadata": {},
     "output_type": "execute_result"
    }
   ],
   "source": [
    "doc = \"\"\"<?xml version=\"1.0\"?>\n",
    "<staff>\n",
    "   <member><name>John</name></member>\n",
    "</staff>\n",
    "\"\"\"\n",
    "\n",
    "et.fromstring(doc)"
   ]
  },
  {
   "cell_type": "code",
   "execution_count": 58,
   "metadata": {},
   "outputs": [
    {
     "data": {
      "text/plain": [
       "<Element html at 0x7f83d0d3be58>"
      ]
     },
     "execution_count": 58,
     "metadata": {},
     "output_type": "execute_result"
    }
   ],
   "source": [
    "import lxml.html as hp\n",
    "tree = hp.parse(\"./github.html\")\n",
    "html = tree.getroot()\n",
    "html"
   ]
  },
  {
   "cell_type": "code",
   "execution_count": 61,
   "metadata": {},
   "outputs": [
    {
     "data": {
      "text/plain": [
       "['#start-of-content',\n",
       " 'https://github.com/',\n",
       " '',\n",
       " '/pulls',\n",
       " '/issues',\n",
       " '/marketplace',\n",
       " '/explore',\n",
       " '/notifications',\n",
       " '/new',\n",
       " '/new/import',\n",
       " 'https://gist.github.com/',\n",
       " '/organizations/new',\n",
       " '/html5lib/html5lib-python/issues/new',\n",
       " '/moonranger',\n",
       " '/moonranger',\n",
       " '/moonranger?tab=repositories',\n",
       " '/moonranger?tab=stars',\n",
       " 'https://gist.github.com/',\n",
       " 'https://help.github.com',\n",
       " '/settings/profile',\n",
       " '/html5lib/html5lib-python/watchers',\n",
       " '/html5lib/html5lib-python/stargazers',\n",
       " '/html5lib/html5lib-python/stargazers',\n",
       " '/html5lib/html5lib-python/network/members',\n",
       " '/html5lib',\n",
       " '/html5lib/html5lib-python',\n",
       " '/html5lib/html5lib-python',\n",
       " '/html5lib/html5lib-python/issues',\n",
       " '/html5lib/html5lib-python/pulls',\n",
       " '/html5lib/html5lib-python/projects',\n",
       " '/html5lib/html5lib-python/pulse',\n",
       " '/html5lib/html5lib-python/commits/master',\n",
       " '/html5lib/html5lib-python/branches',\n",
       " '/html5lib/html5lib-python/releases',\n",
       " '/html5lib/html5lib-python/graphs/contributors',\n",
       " '/html5lib/html5lib-python/blob/master/LICENSE',\n",
       " '/html5lib/html5lib-python/search?l=python',\n",
       " '#',\n",
       " '#',\n",
       " '/html5lib/html5lib-python/tree/csswg-testsuite',\n",
       " '/html5lib/html5lib-python/tree/gcode-157',\n",
       " '/html5lib/html5lib-python/tree/master',\n",
       " '/html5lib/html5lib-python/tree/python3-old',\n",
       " '/html5lib/html5lib-python/tree/1.0.1',\n",
       " '/html5lib/html5lib-python/tree/1.0',\n",
       " '/html5lib/html5lib-python/tree/1.0b10',\n",
       " '/html5lib/html5lib-python/tree/1.0b9',\n",
       " '/html5lib/html5lib-python/tree/1.0b8',\n",
       " '/html5lib/html5lib-python/tree/1.0b7',\n",
       " '/html5lib/html5lib-python/tree/1.0b6',\n",
       " '/html5lib/html5lib-python/tree/1.0b5',\n",
       " '/html5lib/html5lib-python/tree/1.0b3',\n",
       " '/html5lib/html5lib-python/tree/1.0b2',\n",
       " '/html5lib/html5lib-python/tree/1.0b1',\n",
       " '/html5lib/html5lib-python/tree/0.999999999',\n",
       " '/html5lib/html5lib-python/tree/0.99999999',\n",
       " '/html5lib/html5lib-python/tree/0.9999999',\n",
       " '/html5lib/html5lib-python/tree/0.999999',\n",
       " '/html5lib/html5lib-python/tree/0.99999',\n",
       " '/html5lib/html5lib-python/tree/0.9999',\n",
       " '/html5lib/html5lib-python/tree/0.999',\n",
       " '/html5lib/html5lib-python/tree/0.99',\n",
       " '/html5lib/html5lib-python/tree/0.95',\n",
       " '/html5lib/html5lib-python/tree/0.90',\n",
       " '/html5lib/html5lib-python/tree/0.11.1ish',\n",
       " '/html5lib/html5lib-python/tree/0.11ish',\n",
       " '/html5lib/html5lib-python/tree/0.10ish',\n",
       " '/html5lib/html5lib-python/tree/0.9ish',\n",
       " '/html5lib/html5lib-python/tree/0.2',\n",
       " '/html5lib/html5lib-python/pull/new/master',\n",
       " '/html5lib/html5lib-python/upload/master',\n",
       " '/html5lib/html5lib-python/find/master',\n",
       " 'https://help.github.com/articles/which-remote-url-should-i-use',\n",
       " 'https://help.github.com/articles/which-remote-url-should-i-use',\n",
       " 'https://desktop.github.com',\n",
       " '/html5lib/html5lib-python/archive/master.zip',\n",
       " 'https://desktop.github.com/',\n",
       " 'https://desktop.github.com/',\n",
       " 'https://developer.apple.com/xcode/',\n",
       " 'https://visualstudio.github.com/',\n",
       " '/5j9',\n",
       " '/gsnedders',\n",
       " '/html5lib/html5lib-python/commits?author=5j9',\n",
       " '/html5lib/html5lib-python/commits?author=gsnedders',\n",
       " '/html5lib/html5lib-python/commit/4f9235752cea29c5a31721440578b430823a1e69',\n",
       " 'https://github.com/html5lib/html5lib-python/pull/403',\n",
       " '/html5lib/html5lib-python/commit/4f9235752cea29c5a31721440578b430823a1e69',\n",
       " 'https://github.com/html5lib/html5lib-python/issues/402',\n",
       " '/html5lib/html5lib-python/commit/4f9235752cea29c5a31721440578b430823a1e69',\n",
       " '/html5lib/html5lib-python/tree/4f9235752cea29c5a31721440578b430823a1e69',\n",
       " '/html5lib/html5lib-python/tree/master/doc',\n",
       " '/html5lib/html5lib-python/commit/21a6820957e677f24684ec84cddfecf1d541b11d',\n",
       " '/html5lib/html5lib-python/tree/master/html5lib',\n",
       " '/html5lib/html5lib-python/commit/4f9235752cea29c5a31721440578b430823a1e69',\n",
       " 'https://github.com/html5lib/html5lib-python/pull/403',\n",
       " '/html5lib/html5lib-python/commit/4f9235752cea29c5a31721440578b430823a1e69',\n",
       " '/html5lib/html5lib-python/tree/master/utils',\n",
       " '/html5lib/html5lib-python/commit/8788bdafbf6dc183e96470e4c138211a92e880b8',\n",
       " 'https://github.com/html5lib/html5lib-python/pull/353',\n",
       " '/html5lib/html5lib-python/commit/8788bdafbf6dc183e96470e4c138211a92e880b8',\n",
       " '/html5lib/html5lib-python/blob/master/.appveyor.yml',\n",
       " '/html5lib/html5lib-python/commit/7facf987f52ad25b5cf9aa1fa76252ea04702777',\n",
       " 'https://github.com/html5lib/html5lib-python/pull/397',\n",
       " '/html5lib/html5lib-python/commit/7facf987f52ad25b5cf9aa1fa76252ea04702777',\n",
       " '/html5lib/html5lib-python/blob/master/.coveragerc',\n",
       " '/html5lib/html5lib-python/commit/66a3f42444cb1d4d2cfa32f6d1d69243baa6a9fa',\n",
       " '/html5lib/html5lib-python/blob/master/.gitignore',\n",
       " '/html5lib/html5lib-python/commit/d3de97279d906c68bf82f6a827cd29cc8248e03b',\n",
       " '/html5lib/html5lib-python/blob/master/.gitmodules',\n",
       " '/html5lib/html5lib-python/commit/9fbd2e15788d181e1970c2479be5d189dbc7be92',\n",
       " '/html5lib/html5lib-python/blob/master/.prospector.yaml',\n",
       " '/html5lib/html5lib-python/commit/a2b8c110cd0c5c7d60573f2a86d951cabefc516b',\n",
       " '/html5lib/html5lib-python/blob/master/.pylintrc',\n",
       " '/html5lib/html5lib-python/commit/a2b8c110cd0c5c7d60573f2a86d951cabefc516b',\n",
       " '/html5lib/html5lib-python/blob/master/.pytest.expect',\n",
       " '/html5lib/html5lib-python/commit/f3f00e48c4baf859dfaf4bc90d3e90debf024194',\n",
       " '/html5lib/html5lib-python/blob/master/.travis.yml',\n",
       " '/html5lib/html5lib-python/commit/7f613b331c4299943403d8e12ccb51077e910205',\n",
       " 'https://github.com/html5lib/html5lib-python/pull/358',\n",
       " '/html5lib/html5lib-python/commit/7f613b331c4299943403d8e12ccb51077e910205',\n",
       " '/html5lib/html5lib-python/blob/master/AUTHORS.rst',\n",
       " '/html5lib/html5lib-python/commit/e8f93e9bfeab9016889b05e77eb141a8cce90196',\n",
       " '/html5lib/html5lib-python/blob/master/CHANGES.rst',\n",
       " '/html5lib/html5lib-python/commit/b4887f037e47857b4667106cc968ec91d1121140',\n",
       " '/html5lib/html5lib-python/blob/master/CONTRIBUTING.rst',\n",
       " '/html5lib/html5lib-python/commit/602bb84cb5e73c9ba2e263c8a8e1622d459b8a9c',\n",
       " '/html5lib/html5lib-python/blob/master/LICENSE',\n",
       " '/html5lib/html5lib-python/commit/d3b33f8b9b0b5c9baf92d096f21f914b4b7f47bb',\n",
       " '/html5lib/html5lib-python/blob/master/MANIFEST.in',\n",
       " '/html5lib/html5lib-python/commit/082c042082c78779ea47c746c77535944eec957e',\n",
       " '/html5lib/html5lib-python/blob/master/README.rst',\n",
       " '/html5lib/html5lib-python/commit/950ea0ec60970ba1c88bd9e35d8d85c2a1f318e4',\n",
       " 'https://github.com/html5lib/html5lib-python/pull/393',\n",
       " '/html5lib/html5lib-python/commit/950ea0ec60970ba1c88bd9e35d8d85c2a1f318e4',\n",
       " '/html5lib/html5lib-python/blob/master/debug-info.py',\n",
       " '/html5lib/html5lib-python/commit/3d0eaea85bc00a739e3910ef03316d4312ad84de',\n",
       " '/html5lib/html5lib-python/blob/master/flake8-run.sh',\n",
       " '/html5lib/html5lib-python/commit/823864882ee969ebb7c16986a80388d5785cb9ea',\n",
       " '/html5lib/html5lib-python/blob/master/parse.py',\n",
       " '/html5lib/html5lib-python/commit/c4dd6771836841ee796af8035dbf8239074ed5ec',\n",
       " '/html5lib/html5lib-python/blob/master/pytest.ini',\n",
       " '/html5lib/html5lib-python/commit/366ed48da6d6550661cb6d9dcd8d4d1a0b44c645',\n",
       " '/html5lib/html5lib-python/blob/master/requirements-install.sh',\n",
       " '/html5lib/html5lib-python/commit/74ebfc97a17a4e45a131c0cb70845714f1a8af5e',\n",
       " '/html5lib/html5lib-python/blob/master/requirements-optional.txt',\n",
       " '/html5lib/html5lib-python/commit/a137d14bfd8c6aca007d9dd3118b18e91ccf7fa5',\n",
       " '/html5lib/html5lib-python/blob/master/requirements-test.txt',\n",
       " '/html5lib/html5lib-python/commit/e17cf26c1c36befdce7da39aed1ead96fd0ad30e',\n",
       " '/html5lib/html5lib-python/blob/master/requirements.txt',\n",
       " '/html5lib/html5lib-python/commit/5f637af8edffd1c0bc3e9dcefa089edcfce9a255',\n",
       " 'https://github.com/html5lib/html5lib-python/pull/356',\n",
       " '/html5lib/html5lib-python/commit/5f637af8edffd1c0bc3e9dcefa089edcfce9a255',\n",
       " '/html5lib/html5lib-python/blob/master/setup.cfg',\n",
       " '/html5lib/html5lib-python/commit/0cae52b2073e3f2220db93a7650901f2200f2a13',\n",
       " 'https://github.com/html5lib/html5lib-python/pull/350',\n",
       " '/html5lib/html5lib-python/commit/0cae52b2073e3f2220db93a7650901f2200f2a13',\n",
       " '/html5lib/html5lib-python/blob/master/setup.py',\n",
       " '/html5lib/html5lib-python/commit/7f613b331c4299943403d8e12ccb51077e910205',\n",
       " 'https://github.com/html5lib/html5lib-python/pull/358',\n",
       " '/html5lib/html5lib-python/commit/7f613b331c4299943403d8e12ccb51077e910205',\n",
       " '/html5lib/html5lib-python/blob/master/tox.ini',\n",
       " '/html5lib/html5lib-python/commit/7f613b331c4299943403d8e12ccb51077e910205',\n",
       " 'https://github.com/html5lib/html5lib-python/pull/358',\n",
       " '/html5lib/html5lib-python/commit/7f613b331c4299943403d8e12ccb51077e910205',\n",
       " '#html5lib',\n",
       " 'https://travis-ci.org/html5lib/html5lib-python',\n",
       " '#usage',\n",
       " 'https://html5lib.readthedocs.io/',\n",
       " '#installation',\n",
       " '#optional-dependencies',\n",
       " '#bugs',\n",
       " 'https://github.com/html5lib/html5lib-python/issues',\n",
       " '#tests',\n",
       " 'https://github.com/html5lib/html5lib-tests',\n",
       " '#questions',\n",
       " 'http://groups.google.com/group/html5lib-discuss',\n",
       " 'http://wiki.whatwg.org/wiki/IRC',\n",
       " 'https://github.com/site/terms',\n",
       " 'https://github.com/site/privacy',\n",
       " 'https://help.github.com/articles/github-security/',\n",
       " 'https://status.github.com/',\n",
       " 'https://help.github.com',\n",
       " 'https://github.com',\n",
       " 'https://github.com/contact',\n",
       " 'https://github.com/pricing',\n",
       " 'https://developer.github.com',\n",
       " 'https://training.github.com',\n",
       " 'https://blog.github.com',\n",
       " 'https://github.com/about',\n",
       " '',\n",
       " '']"
      ]
     },
     "execution_count": 61,
     "metadata": {},
     "output_type": "execute_result"
    }
   ],
   "source": [
    "html.xpath(\".//a/@href\")"
   ]
  },
  {
   "cell_type": "code",
   "execution_count": 62,
   "metadata": {},
   "outputs": [],
   "source": [
    "# pip install beautifulsoup4\n",
    "from bs4 import BeautifulSoup"
   ]
  },
  {
   "cell_type": "code",
   "execution_count": 69,
   "metadata": {},
   "outputs": [
    {
     "data": {
      "text/plain": [
       "<link href=\"https://assets-cdn.github.com\" rel=\"dns-prefetch\"/>"
      ]
     },
     "execution_count": 69,
     "metadata": {},
     "output_type": "execute_result"
    }
   ],
   "source": [
    "with open(\"github.html\") as infile:\n",
    "    html_contents = infile.read()\n",
    "    \n",
    "soup = BeautifulSoup(html_contents, \"lxml\")\n",
    "type(soup)\n",
    "soup.head.link"
   ]
  },
  {
   "cell_type": "code",
   "execution_count": 70,
   "metadata": {},
   "outputs": [
    {
     "name": "stdout",
     "output_type": "stream",
     "text": [
      "<link href=\"https://assets-cdn.github.com\" rel=\"dns-prefetch\"/>\n"
     ]
    }
   ],
   "source": [
    "l = soup.head.link\n",
    "print(l)"
   ]
  },
  {
   "cell_type": "code",
   "execution_count": 87,
   "metadata": {},
   "outputs": [
    {
     "name": "stdout",
     "output_type": "stream",
     "text": [
      "<link crossorigin=\"anonymous\" href=\"https://assets-cdn.github.com/assets/frameworks-5aa6d9885579bb2359f66266aee26f3b.css\" integrity=\"sha512-FCg44VGg5ax/5MpZ8otwiPE+/tG1/Sq67mKkl6agbqgoScZtJyXhQSFQMIJfOHMZZ+yXDINb8nEiws60SiLohg==\" media=\"all\" rel=\"stylesheet\"/>\n"
     ]
    }
   ],
   "source": [
    "l = l.next\n",
    "print(l)"
   ]
  },
  {
   "cell_type": "code",
   "execution_count": 90,
   "metadata": {},
   "outputs": [
    {
     "data": {
      "text/plain": [
       "<a class=\"p-3 bg-blue text-white show-on-focus js-skip-to-content\" href=\"#start-of-content\" tabindex=\"1\">Skip to content</a>"
      ]
     },
     "execution_count": 90,
     "metadata": {},
     "output_type": "execute_result"
    }
   ],
   "source": [
    "links = soup.select(\"a\")\n",
    "first = links[0]\n",
    "first"
   ]
  },
  {
   "cell_type": "code",
   "execution_count": 92,
   "metadata": {},
   "outputs": [
    {
     "data": {
      "text/plain": [
       "'#start-of-content'"
      ]
     },
     "execution_count": 92,
     "metadata": {},
     "output_type": "execute_result"
    }
   ],
   "source": [
    "first[\"href\"]"
   ]
  },
  {
   "cell_type": "code",
   "execution_count": 95,
   "metadata": {
    "scrolled": true
   },
   "outputs": [
    {
     "data": {
      "text/plain": [
       "({'href': '#start-of-content',\n",
       "  'tabindex': '1',\n",
       "  'class': ['p-3',\n",
       "   'bg-blue',\n",
       "   'text-white',\n",
       "   'show-on-focus',\n",
       "   'js-skip-to-content']},\n",
       " ['Skip to content'])"
      ]
     },
     "execution_count": 95,
     "metadata": {},
     "output_type": "execute_result"
    }
   ],
   "source": [
    "first.attrs, first.contents,\n",
    "first."
   ]
  },
  {
   "cell_type": "code",
   "execution_count": null,
   "metadata": {},
   "outputs": [],
   "source": [
    "url = \"http://finance.yahoo.com/quote/CSCO\"\n",
    "import requests\n"
   ]
  },
  {
   "cell_type": "code",
   "execution_count": 96,
   "metadata": {},
   "outputs": [],
   "source": [
    "from robobrowser import RoboBrowser\n",
    "import re\n",
    "re._pattern_type = re.Pattern\n",
    "\n",
    "rb = RoboBrowser(parser=\"lxml\")"
   ]
  },
  {
   "cell_type": "code",
   "execution_count": 97,
   "metadata": {},
   "outputs": [],
   "source": [
    "home_url = \"http://testing.chandrashekar.info/\"\n",
    "\n",
    "login_url = \"http://testing.chandrashekar.info/wp-login.php\"\n",
    "username = \"testuser\"\n",
    "password = \"w3lc0me\"\n",
    "\n",
    "logged_in_url = \"http://testing.chandrashekar.info/wp-admin/\"\n",
    "\n",
    "add_new_post_url = \"http://testing.chandrashekar.info/wp-admin/post-new.php\"\n",
    "\n"
   ]
  },
  {
   "cell_type": "code",
   "execution_count": 98,
   "metadata": {},
   "outputs": [
    {
     "data": {
      "text/plain": [
       "(True, 'http://testing.chandrashekar.info/wp-login.php')"
      ]
     },
     "execution_count": 98,
     "metadata": {},
     "output_type": "execute_result"
    }
   ],
   "source": [
    "rb.open(login_url)\n",
    "rb.response.ok, rb.url"
   ]
  },
  {
   "cell_type": "code",
   "execution_count": 101,
   "metadata": {},
   "outputs": [],
   "source": [
    "login_form = rb.get_form()\n",
    "login_form[\"log\"] = \"testuser\"\n",
    "login_form[\"pwd\"] = 'w3lc0me'\n",
    "\n",
    "rb.submit_form(login_form)"
   ]
  },
  {
   "cell_type": "code",
   "execution_count": 102,
   "metadata": {},
   "outputs": [
    {
     "data": {
      "text/plain": [
       "(True, 'http://testing.chandrashekar.info/wp-admin/')"
      ]
     },
     "execution_count": 102,
     "metadata": {},
     "output_type": "execute_result"
    }
   ],
   "source": [
    "rb.response.ok, rb.url"
   ]
  },
  {
   "cell_type": "code",
   "execution_count": 104,
   "metadata": {},
   "outputs": [],
   "source": [
    "add_post_link = rb.get_link(\"Add New\")\n",
    "rb.follow_link(add_post_link)"
   ]
  },
  {
   "cell_type": "code",
   "execution_count": 107,
   "metadata": {},
   "outputs": [
    {
     "name": "stdout",
     "output_type": "stream",
     "text": [
      "<a href=\"post-new.php\">Add New</a>\n"
     ]
    }
   ],
   "source": [
    "add_post_link = rb.get_link(href=\"post-new.php\")\n",
    "print(add_post_link)\n",
    "rb.follow_link(add_post_link)"
   ]
  },
  {
   "cell_type": "code",
   "execution_count": 108,
   "metadata": {},
   "outputs": [
    {
     "data": {
      "text/plain": [
       "'http://testing.chandrashekar.info/wp-admin/post-new.php'"
      ]
     },
     "execution_count": 108,
     "metadata": {},
     "output_type": "execute_result"
    }
   ],
   "source": [
    "rb.url"
   ]
  },
  {
   "cell_type": "code",
   "execution_count": 116,
   "metadata": {},
   "outputs": [],
   "source": [
    "post_form = rb.get_forms()[1]"
   ]
  },
  {
   "cell_type": "code",
   "execution_count": 119,
   "metadata": {},
   "outputs": [
    {
     "data": {
      "text/plain": [
       "<RoboForm _wpnonce=3bfb597d66, _wp_http_referer=/wp-admin/post-new.php, user_ID=2, action=editpost, originalaction=editpost, post_author=2, post_type=post, original_post_status=auto-draft, referredby=, _wp_original_http_referer=, auto_draft=1, post_ID=34, meta-box-order-nonce=212ce18190, closedpostboxesnonce=34e3fd0233, post_title=A simple blog - Chandrashekar, samplepermalinknonce=5bb4d72bc2, content=sdlkjfsdlkfjdslkfjdslkf dslkfjdsflk, save=Save, save=Save Draft, wp-preview=, hidden_post_status=draft, post_status=draft, hidden_post_password=, hidden_post_sticky=[], hidden_post_visibility=public, visibility=public, sticky=[], visibility=, post_password=, visibility=, mm=01, jj=24, aa=2020, hh=08, mn=44, ss=44, hidden_mm=01, cur_mm=01, hidden_jj=24, cur_jj=24, hidden_aa=2020, cur_aa=2020, hidden_hh=08, cur_hh=08, hidden_mn=44, cur_mn=44, original_publish=Publish, publish=Publish, post_category[]=0, post_category[]=[], newcategory=New Category Name, newcategory_parent=-1, _ajax_nonce-add-category=80c79ec6f7, tax_input[post_tag]=, newtag[post_tag]=, page_template=default, _thumbnail_id=-1, excerpt=, trackback_url=, metakeyinput=, metavalue=, addmeta=Add Custom Field, _ajax_nonce-add-meta=b96b843083, advanced_view=1, comment_status=['open'], ping_status=['open'], post_name=, post_author_override=2>"
      ]
     },
     "execution_count": 119,
     "metadata": {},
     "output_type": "execute_result"
    }
   ],
   "source": [
    "post_form[\"post_title\"] = \"A simple blog - Chandrashekar\"\n",
    "post_form[\"content\"] = \"sdlkjfsdlkfjdslkfjdslkf dslkfjdsflk\"\n",
    "post_form"
   ]
  },
  {
   "cell_type": "code",
   "execution_count": 126,
   "metadata": {},
   "outputs": [],
   "source": [
    "rb.submit_form(post_form, post_form[\"publish\"])"
   ]
  },
  {
   "cell_type": "code",
   "execution_count": 127,
   "metadata": {},
   "outputs": [
    {
     "data": {
      "text/plain": [
       "'http://testing.chandrashekar.info/wp-admin/post.php?post=34&action=edit&message=6'"
      ]
     },
     "execution_count": 127,
     "metadata": {},
     "output_type": "execute_result"
    }
   ],
   "source": [
    "rb.url"
   ]
  },
  {
   "cell_type": "code",
   "execution_count": 125,
   "metadata": {},
   "outputs": [
    {
     "data": {
      "text/plain": [
       "'Publish'"
      ]
     },
     "execution_count": 125,
     "metadata": {},
     "output_type": "execute_result"
    }
   ],
   "source": [
    "post_form[\"publish\"].value"
   ]
  }
 ],
 "metadata": {
  "kernelspec": {
   "display_name": "Python 3",
   "language": "python",
   "name": "python3"
  },
  "language_info": {
   "codemirror_mode": {
    "name": "ipython",
    "version": 3
   },
   "file_extension": ".py",
   "mimetype": "text/x-python",
   "name": "python",
   "nbconvert_exporter": "python",
   "pygments_lexer": "ipython3",
   "version": "3.7.3"
  }
 },
 "nbformat": 4,
 "nbformat_minor": 2
}
