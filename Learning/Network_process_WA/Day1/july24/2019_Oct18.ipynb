{
 "cells": [
  {
   "cell_type": "code",
   "execution_count": 3,
   "metadata": {},
   "outputs": [],
   "source": [
    "import xml.etree.ElementTree as et\n",
    "tree = et.parse(\"xml/books.xml\")"
   ]
  },
  {
   "cell_type": "code",
   "execution_count": 79,
   "metadata": {},
   "outputs": [],
   "source": [
    "import lxml.etree as et\n",
    "tree = et.parse(\"xml/books.xml\")"
   ]
  },
  {
   "cell_type": "code",
   "execution_count": 80,
   "metadata": {},
   "outputs": [
    {
     "data": {
      "text/plain": [
       "<lxml.etree._ElementTree at 0x7f68003f2548>"
      ]
     },
     "execution_count": 80,
     "metadata": {},
     "output_type": "execute_result"
    }
   ],
   "source": [
    "tree"
   ]
  },
  {
   "cell_type": "code",
   "execution_count": 81,
   "metadata": {},
   "outputs": [
    {
     "name": "stdout",
     "output_type": "stream",
     "text": [
      "<Element catalog at 0x7f68003f29c8>\n"
     ]
    }
   ],
   "source": [
    "catalog = tree.getroot()\n",
    "print(catalog)"
   ]
  },
  {
   "cell_type": "code",
   "execution_count": 82,
   "metadata": {},
   "outputs": [
    {
     "data": {
      "text/plain": [
       "12"
      ]
     },
     "execution_count": 82,
     "metadata": {},
     "output_type": "execute_result"
    }
   ],
   "source": [
    "len(catalog)"
   ]
  },
  {
   "cell_type": "code",
   "execution_count": 83,
   "metadata": {
    "scrolled": false
   },
   "outputs": [
    {
     "data": {
      "text/plain": [
       "[<Element book at 0x7f68003c3d88>,\n",
       " <Element book at 0x7f68003c6288>,\n",
       " <Element book at 0x7f68003c63c8>]"
      ]
     },
     "execution_count": 83,
     "metadata": {},
     "output_type": "execute_result"
    }
   ],
   "source": [
    "catalog[3:6]"
   ]
  },
  {
   "cell_type": "code",
   "execution_count": 13,
   "metadata": {},
   "outputs": [],
   "source": [
    "a = catalog[0][0]"
   ]
  },
  {
   "cell_type": "code",
   "execution_count": 84,
   "metadata": {
    "scrolled": true
   },
   "outputs": [
    {
     "name": "stdout",
     "output_type": "stream",
     "text": [
      "author\n",
      "Gambardella, Matthew\n",
      "{}\n"
     ]
    }
   ],
   "source": [
    "print(a.tag)\n",
    "print(a.text)\n",
    "print(a.attrib)"
   ]
  },
  {
   "cell_type": "code",
   "execution_count": 85,
   "metadata": {},
   "outputs": [
    {
     "data": {
      "text/plain": [
       "<Element book at 0x7f68003c69c8>"
      ]
     },
     "execution_count": 85,
     "metadata": {},
     "output_type": "execute_result"
    }
   ],
   "source": [
    "b = catalog[0]\n",
    "b"
   ]
  },
  {
   "cell_type": "code",
   "execution_count": 23,
   "metadata": {
    "scrolled": true
   },
   "outputs": [
    {
     "data": {
      "text/plain": [
       "('book',\n",
       " '\\n      this is a test book\\n      ',\n",
       " {'id': 'bk101', 'country': 'India', 'type': 'technical'})"
      ]
     },
     "execution_count": 23,
     "metadata": {},
     "output_type": "execute_result"
    }
   ],
   "source": [
    "b.tag, b.text, b.attrib"
   ]
  },
  {
   "cell_type": "code",
   "execution_count": 86,
   "metadata": {},
   "outputs": [],
   "source": [
    "del catalog[0]"
   ]
  },
  {
   "cell_type": "code",
   "execution_count": 87,
   "metadata": {},
   "outputs": [
    {
     "data": {
      "text/plain": [
       "'Ralls, Kim'"
      ]
     },
     "execution_count": 87,
     "metadata": {},
     "output_type": "execute_result"
    }
   ],
   "source": [
    "catalog[0][0].text"
   ]
  },
  {
   "cell_type": "code",
   "execution_count": 29,
   "metadata": {},
   "outputs": [],
   "source": [
    "del catalog[-5:]"
   ]
  },
  {
   "cell_type": "code",
   "execution_count": 30,
   "metadata": {},
   "outputs": [
    {
     "data": {
      "text/plain": [
       "6"
      ]
     },
     "execution_count": 30,
     "metadata": {},
     "output_type": "execute_result"
    }
   ],
   "source": [
    "len(catalog)"
   ]
  },
  {
   "cell_type": "code",
   "execution_count": 34,
   "metadata": {},
   "outputs": [],
   "source": [
    "catalog[0][0].text = \"Babu, Chandrashekar\""
   ]
  },
  {
   "cell_type": "code",
   "execution_count": 35,
   "metadata": {},
   "outputs": [
    {
     "data": {
      "text/plain": [
       "'Babu, Chandrashekar'"
      ]
     },
     "execution_count": 35,
     "metadata": {},
     "output_type": "execute_result"
    }
   ],
   "source": [
    "catalog[0][0].text"
   ]
  },
  {
   "cell_type": "code",
   "execution_count": 39,
   "metadata": {},
   "outputs": [],
   "source": [
    "catalog[0][1].attrib = {\"testdata\": \"100\", \"id\": \"567\"}"
   ]
  },
  {
   "cell_type": "code",
   "execution_count": 42,
   "metadata": {},
   "outputs": [],
   "source": [
    "catalog[0][2].tag = \"type\""
   ]
  },
  {
   "cell_type": "code",
   "execution_count": 43,
   "metadata": {},
   "outputs": [
    {
     "data": {
      "text/plain": [
       "<Element 'type' at 0x7f68083d15e8>"
      ]
     },
     "execution_count": 43,
     "metadata": {},
     "output_type": "execute_result"
    }
   ],
   "source": [
    "catalog[0][2]"
   ]
  },
  {
   "cell_type": "code",
   "execution_count": 45,
   "metadata": {},
   "outputs": [],
   "source": [
    "e = catalog.makeelement(\"dummy\", {\"value\": \"50\"})\n",
    "e.text = \"Some dummy data\""
   ]
  },
  {
   "cell_type": "code",
   "execution_count": 47,
   "metadata": {},
   "outputs": [],
   "source": [
    "catalog[0].insert(2, e)"
   ]
  },
  {
   "cell_type": "code",
   "execution_count": 48,
   "metadata": {},
   "outputs": [],
   "source": [
    "tree.write(\"testbook2.xml\")"
   ]
  },
  {
   "cell_type": "code",
   "execution_count": 88,
   "metadata": {},
   "outputs": [
    {
     "data": {
      "text/plain": [
       "<lxml.etree._ElementTree at 0x7f68003cf688>"
      ]
     },
     "execution_count": 88,
     "metadata": {},
     "output_type": "execute_result"
    }
   ],
   "source": [
    "tree = et.parse(\"xml/books.xml\")\n",
    "tree"
   ]
  },
  {
   "cell_type": "code",
   "execution_count": 50,
   "metadata": {},
   "outputs": [],
   "source": [
    "catalog = tree.getroot()"
   ]
  },
  {
   "cell_type": "code",
   "execution_count": 52,
   "metadata": {},
   "outputs": [
    {
     "data": {
      "text/plain": [
       "<Element 'author' at 0x7f680002df98>"
      ]
     },
     "execution_count": 52,
     "metadata": {},
     "output_type": "execute_result"
    }
   ],
   "source": [
    "catalog.find(\"./book/author\")"
   ]
  },
  {
   "cell_type": "code",
   "execution_count": 89,
   "metadata": {},
   "outputs": [
    {
     "data": {
      "text/plain": [
       "[<Element author at 0x7f68003cfec8>,\n",
       " <Element author at 0x7f68003cfcc8>,\n",
       " <Element author at 0x7f68003cfe88>,\n",
       " <Element author at 0x7f68003d4048>,\n",
       " <Element author at 0x7f68003d41c8>,\n",
       " <Element author at 0x7f68003d4288>,\n",
       " <Element author at 0x7f68003d4108>,\n",
       " <Element author at 0x7f68003d4208>,\n",
       " <Element author at 0x7f68003d42c8>,\n",
       " <Element author at 0x7f68003d4308>,\n",
       " <Element author at 0x7f68003d4348>]"
      ]
     },
     "execution_count": 89,
     "metadata": {},
     "output_type": "execute_result"
    }
   ],
   "source": [
    "catalog.findall(\"./book/author\")"
   ]
  },
  {
   "cell_type": "code",
   "execution_count": 90,
   "metadata": {
    "scrolled": true
   },
   "outputs": [
    {
     "name": "stdout",
     "output_type": "stream",
     "text": [
      "Ralls, Kim\n",
      "Corets, Eva\n",
      "Corets, Eva\n",
      "Corets, Eva\n",
      "Randall, Cynthia\n",
      "Thurman, Paula\n",
      "Knorr, Stefan\n",
      "Kress, Peter\n",
      "O'Brien, Tim\n",
      "O'Brien, Tim\n",
      "Galos, Mike\n"
     ]
    }
   ],
   "source": [
    "for author in catalog.iterfind(\"./book/author\"):\n",
    "    print(author.text)"
   ]
  },
  {
   "cell_type": "code",
   "execution_count": 91,
   "metadata": {
    "scrolled": true
   },
   "outputs": [
    {
     "data": {
      "text/plain": [
       "[<Element author at 0x7f68003cfec8>,\n",
       " <Element author at 0x7f68003cfcc8>,\n",
       " <Element author at 0x7f68003cfe88>,\n",
       " <Element author at 0x7f68003d4048>,\n",
       " <Element author at 0x7f68003d41c8>,\n",
       " <Element author at 0x7f68003d4288>,\n",
       " <Element author at 0x7f68003d4108>,\n",
       " <Element author at 0x7f68003d4208>,\n",
       " <Element author at 0x7f68003d42c8>,\n",
       " <Element author at 0x7f68003d4308>,\n",
       " <Element author at 0x7f68003d4348>]"
      ]
     },
     "execution_count": 91,
     "metadata": {},
     "output_type": "execute_result"
    }
   ],
   "source": [
    "catalog.findall(\".//author\")"
   ]
  },
  {
   "cell_type": "code",
   "execution_count": 61,
   "metadata": {
    "scrolled": true
   },
   "outputs": [
    {
     "data": {
      "text/plain": [
       "[<Element 'title' at 0x7f680002de08>,\n",
       " <Element 'title' at 0x7f680002d7c8>,\n",
       " <Element 'title' at 0x7f680002da48>,\n",
       " <Element 'title' at 0x7f680002dc78>,\n",
       " <Element 'title' at 0x7f680007e098>,\n",
       " <Element 'title' at 0x7f680007e5e8>,\n",
       " <Element 'title' at 0x7f6800495098>,\n",
       " <Element 'title' at 0x7f68004952c8>,\n",
       " <Element 'title' at 0x7f68004954f8>,\n",
       " <Element 'title' at 0x7f6800495728>,\n",
       " <Element 'title' at 0x7f6800495958>,\n",
       " <Element 'title' at 0x7f6800495bd8>]"
      ]
     },
     "execution_count": 61,
     "metadata": {},
     "output_type": "execute_result"
    }
   ],
   "source": [
    "catalog.findall(\"./*/title\")"
   ]
  },
  {
   "cell_type": "code",
   "execution_count": 66,
   "metadata": {},
   "outputs": [
    {
     "data": {
      "text/plain": [
       "'Corets, Eva'"
      ]
     },
     "execution_count": 66,
     "metadata": {},
     "output_type": "execute_result"
    }
   ],
   "source": [
    "catalog.find(\"./book[@id='bk105']/author\").text"
   ]
  },
  {
   "cell_type": "code",
   "execution_count": 92,
   "metadata": {},
   "outputs": [],
   "source": [
    "import xml.etree.ElementTree as et_old\n",
    "tree_old = et_old.parse(\"xml/books.xml\")"
   ]
  },
  {
   "cell_type": "code",
   "execution_count": 93,
   "metadata": {},
   "outputs": [
    {
     "name": "stdout",
     "output_type": "stream",
     "text": [
      "<Element 'catalog' at 0x7f680043e548>\n"
     ]
    }
   ],
   "source": [
    "catalog_old = tree_old.getroot()\n",
    "print(catalog_old)"
   ]
  },
  {
   "cell_type": "code",
   "execution_count": 69,
   "metadata": {
    "scrolled": true
   },
   "outputs": [
    {
     "data": {
      "text/plain": [
       "[<Element 'title' at 0x7f680002da48>,\n",
       " <Element 'title' at 0x7f680002dc78>,\n",
       " <Element 'title' at 0x7f680007e098>]"
      ]
     },
     "execution_count": 69,
     "metadata": {},
     "output_type": "execute_result"
    }
   ],
   "source": [
    "catalog.findall(\"./book[author='Corets, Eva']/title\")"
   ]
  },
  {
   "cell_type": "code",
   "execution_count": 71,
   "metadata": {},
   "outputs": [
    {
     "data": {
      "text/plain": [
       "['Maeve Ascendant', \"Oberon's Legacy\", 'The Sundered Grail']"
      ]
     },
     "execution_count": 71,
     "metadata": {},
     "output_type": "execute_result"
    }
   ],
   "source": [
    "[ t.text \\\n",
    "  for t in catalog.iterfind(\"./book[author='Corets, Eva']/title\")]"
   ]
  },
  {
   "cell_type": "code",
   "execution_count": 76,
   "metadata": {
    "scrolled": true
   },
   "outputs": [
    {
     "name": "stdout",
     "output_type": "stream",
     "text": [
      "Midnight Rain\n",
      "Maeve Ascendant\n",
      "Oberon's Legacy\n",
      "The Sundered Grail\n",
      "Lover Birds\n",
      "Splish Splash\n",
      "Creepy Crawlies\n",
      "Paradox Lost\n"
     ]
    }
   ],
   "source": [
    "for book in catalog:\n",
    "    if float(book.find(\"./price\").text) < 10.0:\n",
    "        print(book.find(\"./title\").text)"
   ]
  },
  {
   "cell_type": "code",
   "execution_count": 112,
   "metadata": {
    "scrolled": true
   },
   "outputs": [
    {
     "data": {
      "text/plain": [
       "[\"XML Developer's Guide\",\n",
       " 'Microsoft .NET: The Programming Bible',\n",
       " 'MSXML3: A Comprehensive Guide',\n",
       " 'Visual Studio 7: A Comprehensive Guide']"
      ]
     },
     "execution_count": 112,
     "metadata": {},
     "output_type": "execute_result"
    }
   ],
   "source": [
    "[ b.find(\"./title\").text \\\n",
    "  for b in catalog_old       \\\n",
    "  if float(b.find(\"./price\").text) > 10.0 ]"
   ]
  },
  {
   "cell_type": "code",
   "execution_count": 109,
   "metadata": {},
   "outputs": [],
   "source": [
    "import lxml.etree as et\n",
    "tree = et.parse(\"xml/books.xml\")\n",
    "catalog = tree.getroot()"
   ]
  },
  {
   "cell_type": "code",
   "execution_count": 113,
   "metadata": {},
   "outputs": [
    {
     "data": {
      "text/plain": [
       "[\"XML Developer's Guide\",\n",
       " 'Microsoft .NET: The Programming Bible',\n",
       " 'MSXML3: A Comprehensive Guide',\n",
       " 'Visual Studio 7: A Comprehensive Guide']"
      ]
     },
     "execution_count": 113,
     "metadata": {},
     "output_type": "execute_result"
    }
   ],
   "source": [
    "catalog.xpath(\"./book[price > 10]/title/text()\")"
   ]
  },
  {
   "cell_type": "code",
   "execution_count": 99,
   "metadata": {
    "scrolled": true
   },
   "outputs": [
    {
     "data": {
      "text/plain": [
       "['__bool__',\n",
       " '__class__',\n",
       " '__contains__',\n",
       " '__copy__',\n",
       " '__deepcopy__',\n",
       " '__delattr__',\n",
       " '__delitem__',\n",
       " '__dir__',\n",
       " '__doc__',\n",
       " '__eq__',\n",
       " '__format__',\n",
       " '__ge__',\n",
       " '__getattribute__',\n",
       " '__getitem__',\n",
       " '__gt__',\n",
       " '__hash__',\n",
       " '__init__',\n",
       " '__init_subclass__',\n",
       " '__iter__',\n",
       " '__le__',\n",
       " '__len__',\n",
       " '__lt__',\n",
       " '__ne__',\n",
       " '__new__',\n",
       " '__reduce__',\n",
       " '__reduce_ex__',\n",
       " '__repr__',\n",
       " '__reversed__',\n",
       " '__setattr__',\n",
       " '__setitem__',\n",
       " '__sizeof__',\n",
       " '__str__',\n",
       " '__subclasshook__',\n",
       " '_init',\n",
       " 'addnext',\n",
       " 'addprevious',\n",
       " 'append',\n",
       " 'attrib',\n",
       " 'base',\n",
       " 'clear',\n",
       " 'cssselect',\n",
       " 'extend',\n",
       " 'find',\n",
       " 'findall',\n",
       " 'findtext',\n",
       " 'get',\n",
       " 'getchildren',\n",
       " 'getiterator',\n",
       " 'getnext',\n",
       " 'getparent',\n",
       " 'getprevious',\n",
       " 'getroottree',\n",
       " 'index',\n",
       " 'insert',\n",
       " 'items',\n",
       " 'iter',\n",
       " 'iterancestors',\n",
       " 'iterchildren',\n",
       " 'iterdescendants',\n",
       " 'iterfind',\n",
       " 'itersiblings',\n",
       " 'itertext',\n",
       " 'keys',\n",
       " 'makeelement',\n",
       " 'nsmap',\n",
       " 'prefix',\n",
       " 'remove',\n",
       " 'replace',\n",
       " 'set',\n",
       " 'sourceline',\n",
       " 'tag',\n",
       " 'tail',\n",
       " 'text',\n",
       " 'values',\n",
       " 'xpath']"
      ]
     },
     "execution_count": 99,
     "metadata": {},
     "output_type": "execute_result"
    }
   ],
   "source": [
    "dir(catalog)"
   ]
  },
  {
   "cell_type": "code",
   "execution_count": 110,
   "metadata": {
    "scrolled": false
   },
   "outputs": [
    {
     "data": {
      "text/plain": [
       "['Gambardella, Matthew',\n",
       " 'Ralls, Kim',\n",
       " 'Corets, Eva',\n",
       " 'Corets, Eva',\n",
       " 'Corets, Eva',\n",
       " 'Randall, Cynthia',\n",
       " 'Thurman, Paula',\n",
       " 'Knorr, Stefan',\n",
       " 'Kress, Peter',\n",
       " \"O'Brien, Tim\",\n",
       " \"O'Brien, Tim\",\n",
       " 'Galos, Mike']"
      ]
     },
     "execution_count": 110,
     "metadata": {},
     "output_type": "execute_result"
    }
   ],
   "source": [
    "catalog.xpath(\"./book/author/text()\")"
   ]
  },
  {
   "cell_type": "code",
   "execution_count": 116,
   "metadata": {},
   "outputs": [
    {
     "data": {
      "text/plain": [
       "False"
      ]
     },
     "execution_count": 116,
     "metadata": {},
     "output_type": "execute_result"
    }
   ],
   "source": [
    "import lxml.etree as et\n",
    "tree = et.parse(\"xml/purchase_order_example.xml\")\n",
    "schema = et.parse(\"xml/po.xsd\")\n",
    "tree.xmlschema(schema)"
   ]
  },
  {
   "cell_type": "code",
   "execution_count": 118,
   "metadata": {
    "scrolled": true
   },
   "outputs": [
    {
     "data": {
      "text/plain": [
       "<lxml.etree._ElementTree at 0x7f67e9773988>"
      ]
     },
     "execution_count": 118,
     "metadata": {},
     "output_type": "execute_result"
    }
   ],
   "source": [
    "import lxml.html as html_parser\n",
    "html = html_parser.parse(\"xml/github.html\")\n",
    "html"
   ]
  },
  {
   "cell_type": "code",
   "execution_count": null,
   "metadata": {},
   "outputs": [],
   "source": []
  },
  {
   "cell_type": "code",
   "execution_count": 121,
   "metadata": {},
   "outputs": [],
   "source": [
    "h = html.getroot()"
   ]
  },
  {
   "cell_type": "code",
   "execution_count": 126,
   "metadata": {},
   "outputs": [
    {
     "data": {
      "text/plain": [
       "['#start-of-content',\n",
       " 'https://github.com/',\n",
       " '',\n",
       " '/pulls',\n",
       " '/issues',\n",
       " '/marketplace',\n",
       " '/explore',\n",
       " '/notifications',\n",
       " '/new',\n",
       " '/new/import',\n",
       " 'https://gist.github.com/',\n",
       " '/organizations/new',\n",
       " '/html5lib/html5lib-python/issues/new',\n",
       " '/moonranger',\n",
       " '/moonranger',\n",
       " '/moonranger?tab=repositories',\n",
       " '/moonranger?tab=stars',\n",
       " 'https://gist.github.com/',\n",
       " 'https://help.github.com',\n",
       " '/settings/profile',\n",
       " '/html5lib/html5lib-python/watchers',\n",
       " '/html5lib/html5lib-python/stargazers',\n",
       " '/html5lib/html5lib-python/stargazers',\n",
       " '/html5lib/html5lib-python/network/members',\n",
       " '/html5lib',\n",
       " '/html5lib/html5lib-python',\n",
       " '/html5lib/html5lib-python',\n",
       " '/html5lib/html5lib-python/issues',\n",
       " '/html5lib/html5lib-python/pulls',\n",
       " '/html5lib/html5lib-python/projects',\n",
       " '/html5lib/html5lib-python/pulse',\n",
       " '/html5lib/html5lib-python/commits/master',\n",
       " '/html5lib/html5lib-python/branches',\n",
       " '/html5lib/html5lib-python/releases',\n",
       " '/html5lib/html5lib-python/graphs/contributors',\n",
       " '/html5lib/html5lib-python/blob/master/LICENSE',\n",
       " '/html5lib/html5lib-python/search?l=python',\n",
       " '#',\n",
       " '#',\n",
       " '/html5lib/html5lib-python/tree/csswg-testsuite',\n",
       " '/html5lib/html5lib-python/tree/gcode-157',\n",
       " '/html5lib/html5lib-python/tree/master',\n",
       " '/html5lib/html5lib-python/tree/python3-old',\n",
       " '/html5lib/html5lib-python/tree/1.0.1',\n",
       " '/html5lib/html5lib-python/tree/1.0',\n",
       " '/html5lib/html5lib-python/tree/1.0b10',\n",
       " '/html5lib/html5lib-python/tree/1.0b9',\n",
       " '/html5lib/html5lib-python/tree/1.0b8',\n",
       " '/html5lib/html5lib-python/tree/1.0b7',\n",
       " '/html5lib/html5lib-python/tree/1.0b6',\n",
       " '/html5lib/html5lib-python/tree/1.0b5',\n",
       " '/html5lib/html5lib-python/tree/1.0b3',\n",
       " '/html5lib/html5lib-python/tree/1.0b2',\n",
       " '/html5lib/html5lib-python/tree/1.0b1',\n",
       " '/html5lib/html5lib-python/tree/0.999999999',\n",
       " '/html5lib/html5lib-python/tree/0.99999999',\n",
       " '/html5lib/html5lib-python/tree/0.9999999',\n",
       " '/html5lib/html5lib-python/tree/0.999999',\n",
       " '/html5lib/html5lib-python/tree/0.99999',\n",
       " '/html5lib/html5lib-python/tree/0.9999',\n",
       " '/html5lib/html5lib-python/tree/0.999',\n",
       " '/html5lib/html5lib-python/tree/0.99',\n",
       " '/html5lib/html5lib-python/tree/0.95',\n",
       " '/html5lib/html5lib-python/tree/0.90',\n",
       " '/html5lib/html5lib-python/tree/0.11.1ish',\n",
       " '/html5lib/html5lib-python/tree/0.11ish',\n",
       " '/html5lib/html5lib-python/tree/0.10ish',\n",
       " '/html5lib/html5lib-python/tree/0.9ish',\n",
       " '/html5lib/html5lib-python/tree/0.2',\n",
       " '/html5lib/html5lib-python/pull/new/master',\n",
       " '/html5lib/html5lib-python/upload/master',\n",
       " '/html5lib/html5lib-python/find/master',\n",
       " 'https://help.github.com/articles/which-remote-url-should-i-use',\n",
       " 'https://help.github.com/articles/which-remote-url-should-i-use',\n",
       " 'https://desktop.github.com',\n",
       " '/html5lib/html5lib-python/archive/master.zip',\n",
       " 'https://desktop.github.com/',\n",
       " 'https://desktop.github.com/',\n",
       " 'https://developer.apple.com/xcode/',\n",
       " 'https://visualstudio.github.com/',\n",
       " '/5j9',\n",
       " '/gsnedders',\n",
       " '/html5lib/html5lib-python/commits?author=5j9',\n",
       " '/html5lib/html5lib-python/commits?author=gsnedders',\n",
       " '/html5lib/html5lib-python/commit/4f9235752cea29c5a31721440578b430823a1e69',\n",
       " 'https://github.com/html5lib/html5lib-python/pull/403',\n",
       " '/html5lib/html5lib-python/commit/4f9235752cea29c5a31721440578b430823a1e69',\n",
       " 'https://github.com/html5lib/html5lib-python/issues/402',\n",
       " '/html5lib/html5lib-python/commit/4f9235752cea29c5a31721440578b430823a1e69',\n",
       " '/html5lib/html5lib-python/tree/4f9235752cea29c5a31721440578b430823a1e69',\n",
       " '/html5lib/html5lib-python/tree/master/doc',\n",
       " '/html5lib/html5lib-python/commit/21a6820957e677f24684ec84cddfecf1d541b11d',\n",
       " '/html5lib/html5lib-python/tree/master/html5lib',\n",
       " '/html5lib/html5lib-python/commit/4f9235752cea29c5a31721440578b430823a1e69',\n",
       " 'https://github.com/html5lib/html5lib-python/pull/403',\n",
       " '/html5lib/html5lib-python/commit/4f9235752cea29c5a31721440578b430823a1e69',\n",
       " '/html5lib/html5lib-python/tree/master/utils',\n",
       " '/html5lib/html5lib-python/commit/8788bdafbf6dc183e96470e4c138211a92e880b8',\n",
       " 'https://github.com/html5lib/html5lib-python/pull/353',\n",
       " '/html5lib/html5lib-python/commit/8788bdafbf6dc183e96470e4c138211a92e880b8',\n",
       " '/html5lib/html5lib-python/blob/master/.appveyor.yml',\n",
       " '/html5lib/html5lib-python/commit/7facf987f52ad25b5cf9aa1fa76252ea04702777',\n",
       " 'https://github.com/html5lib/html5lib-python/pull/397',\n",
       " '/html5lib/html5lib-python/commit/7facf987f52ad25b5cf9aa1fa76252ea04702777',\n",
       " '/html5lib/html5lib-python/blob/master/.coveragerc',\n",
       " '/html5lib/html5lib-python/commit/66a3f42444cb1d4d2cfa32f6d1d69243baa6a9fa',\n",
       " '/html5lib/html5lib-python/blob/master/.gitignore',\n",
       " '/html5lib/html5lib-python/commit/d3de97279d906c68bf82f6a827cd29cc8248e03b',\n",
       " '/html5lib/html5lib-python/blob/master/.gitmodules',\n",
       " '/html5lib/html5lib-python/commit/9fbd2e15788d181e1970c2479be5d189dbc7be92',\n",
       " '/html5lib/html5lib-python/blob/master/.prospector.yaml',\n",
       " '/html5lib/html5lib-python/commit/a2b8c110cd0c5c7d60573f2a86d951cabefc516b',\n",
       " '/html5lib/html5lib-python/blob/master/.pylintrc',\n",
       " '/html5lib/html5lib-python/commit/a2b8c110cd0c5c7d60573f2a86d951cabefc516b',\n",
       " '/html5lib/html5lib-python/blob/master/.pytest.expect',\n",
       " '/html5lib/html5lib-python/commit/f3f00e48c4baf859dfaf4bc90d3e90debf024194',\n",
       " '/html5lib/html5lib-python/blob/master/.travis.yml',\n",
       " '/html5lib/html5lib-python/commit/7f613b331c4299943403d8e12ccb51077e910205',\n",
       " 'https://github.com/html5lib/html5lib-python/pull/358',\n",
       " '/html5lib/html5lib-python/commit/7f613b331c4299943403d8e12ccb51077e910205',\n",
       " '/html5lib/html5lib-python/blob/master/AUTHORS.rst',\n",
       " '/html5lib/html5lib-python/commit/e8f93e9bfeab9016889b05e77eb141a8cce90196',\n",
       " '/html5lib/html5lib-python/blob/master/CHANGES.rst',\n",
       " '/html5lib/html5lib-python/commit/b4887f037e47857b4667106cc968ec91d1121140',\n",
       " '/html5lib/html5lib-python/blob/master/CONTRIBUTING.rst',\n",
       " '/html5lib/html5lib-python/commit/602bb84cb5e73c9ba2e263c8a8e1622d459b8a9c',\n",
       " '/html5lib/html5lib-python/blob/master/LICENSE',\n",
       " '/html5lib/html5lib-python/commit/d3b33f8b9b0b5c9baf92d096f21f914b4b7f47bb',\n",
       " '/html5lib/html5lib-python/blob/master/MANIFEST.in',\n",
       " '/html5lib/html5lib-python/commit/082c042082c78779ea47c746c77535944eec957e',\n",
       " '/html5lib/html5lib-python/blob/master/README.rst',\n",
       " '/html5lib/html5lib-python/commit/950ea0ec60970ba1c88bd9e35d8d85c2a1f318e4',\n",
       " 'https://github.com/html5lib/html5lib-python/pull/393',\n",
       " '/html5lib/html5lib-python/commit/950ea0ec60970ba1c88bd9e35d8d85c2a1f318e4',\n",
       " '/html5lib/html5lib-python/blob/master/debug-info.py',\n",
       " '/html5lib/html5lib-python/commit/3d0eaea85bc00a739e3910ef03316d4312ad84de',\n",
       " '/html5lib/html5lib-python/blob/master/flake8-run.sh',\n",
       " '/html5lib/html5lib-python/commit/823864882ee969ebb7c16986a80388d5785cb9ea',\n",
       " '/html5lib/html5lib-python/blob/master/parse.py',\n",
       " '/html5lib/html5lib-python/commit/c4dd6771836841ee796af8035dbf8239074ed5ec',\n",
       " '/html5lib/html5lib-python/blob/master/pytest.ini',\n",
       " '/html5lib/html5lib-python/commit/366ed48da6d6550661cb6d9dcd8d4d1a0b44c645',\n",
       " '/html5lib/html5lib-python/blob/master/requirements-install.sh',\n",
       " '/html5lib/html5lib-python/commit/74ebfc97a17a4e45a131c0cb70845714f1a8af5e',\n",
       " '/html5lib/html5lib-python/blob/master/requirements-optional.txt',\n",
       " '/html5lib/html5lib-python/commit/a137d14bfd8c6aca007d9dd3118b18e91ccf7fa5',\n",
       " '/html5lib/html5lib-python/blob/master/requirements-test.txt',\n",
       " '/html5lib/html5lib-python/commit/e17cf26c1c36befdce7da39aed1ead96fd0ad30e',\n",
       " '/html5lib/html5lib-python/blob/master/requirements.txt',\n",
       " '/html5lib/html5lib-python/commit/5f637af8edffd1c0bc3e9dcefa089edcfce9a255',\n",
       " 'https://github.com/html5lib/html5lib-python/pull/356',\n",
       " '/html5lib/html5lib-python/commit/5f637af8edffd1c0bc3e9dcefa089edcfce9a255',\n",
       " '/html5lib/html5lib-python/blob/master/setup.cfg',\n",
       " '/html5lib/html5lib-python/commit/0cae52b2073e3f2220db93a7650901f2200f2a13',\n",
       " 'https://github.com/html5lib/html5lib-python/pull/350',\n",
       " '/html5lib/html5lib-python/commit/0cae52b2073e3f2220db93a7650901f2200f2a13',\n",
       " '/html5lib/html5lib-python/blob/master/setup.py',\n",
       " '/html5lib/html5lib-python/commit/7f613b331c4299943403d8e12ccb51077e910205',\n",
       " 'https://github.com/html5lib/html5lib-python/pull/358',\n",
       " '/html5lib/html5lib-python/commit/7f613b331c4299943403d8e12ccb51077e910205',\n",
       " '/html5lib/html5lib-python/blob/master/tox.ini',\n",
       " '/html5lib/html5lib-python/commit/7f613b331c4299943403d8e12ccb51077e910205',\n",
       " 'https://github.com/html5lib/html5lib-python/pull/358',\n",
       " '/html5lib/html5lib-python/commit/7f613b331c4299943403d8e12ccb51077e910205',\n",
       " '#html5lib',\n",
       " 'https://travis-ci.org/html5lib/html5lib-python',\n",
       " '#usage',\n",
       " 'https://html5lib.readthedocs.io/',\n",
       " '#installation',\n",
       " '#optional-dependencies',\n",
       " '#bugs',\n",
       " 'https://github.com/html5lib/html5lib-python/issues',\n",
       " '#tests',\n",
       " 'https://github.com/html5lib/html5lib-tests',\n",
       " '#questions',\n",
       " 'http://groups.google.com/group/html5lib-discuss',\n",
       " 'http://wiki.whatwg.org/wiki/IRC',\n",
       " 'https://github.com/site/terms',\n",
       " 'https://github.com/site/privacy',\n",
       " 'https://help.github.com/articles/github-security/',\n",
       " 'https://status.github.com/',\n",
       " 'https://help.github.com',\n",
       " 'https://github.com',\n",
       " 'https://github.com/contact',\n",
       " 'https://github.com/pricing',\n",
       " 'https://developer.github.com',\n",
       " 'https://training.github.com',\n",
       " 'https://blog.github.com',\n",
       " 'https://github.com/about',\n",
       " '',\n",
       " '']"
      ]
     },
     "execution_count": 126,
     "metadata": {},
     "output_type": "execute_result"
    }
   ],
   "source": [
    "h.xpath(\".//a[@href]/@href\")"
   ]
  },
  {
   "cell_type": "code",
   "execution_count": 128,
   "metadata": {
    "scrolled": false
   },
   "outputs": [
    {
     "name": "stdout",
     "output_type": "stream",
     "text": [
      "{'class': 'js-site-search-form', 'data-scope-type': 'Repository', 'data-scope-id': '9322649', 'data-scoped-search-url': '/html5lib/html5lib-python/search', 'data-unscoped-search-url': '/search', 'action': '/html5lib/html5lib-python/search', 'accept-charset': 'UTF-8', 'method': 'get'}\n",
      "{'class': 'logout-form', 'action': '/logout', 'accept-charset': 'UTF-8', 'method': 'post'}\n",
      "{'class': 'sr-only right-0', 'action': '/logout', 'accept-charset': 'UTF-8', 'method': 'post'}\n",
      "{'data-remote': 'true', 'class': 'js-social-form js-social-container', 'action': '/notifications/subscribe', 'accept-charset': 'UTF-8', 'method': 'post'}\n",
      "{'class': 'starred js-social-form', 'action': '/html5lib/html5lib-python/unstar', 'accept-charset': 'UTF-8', 'method': 'post'}\n",
      "{'class': 'unstarred js-social-form', 'action': '/html5lib/html5lib-python/star', 'accept-charset': 'UTF-8', 'method': 'post'}\n",
      "{'class': 'btn-with-count', 'action': '/html5lib/html5lib-python/fork', 'accept-charset': 'UTF-8', 'method': 'post'}\n",
      "{'class': 'BtnGroup-form', 'action': '/html5lib/html5lib-python/new/master', 'accept-charset': 'UTF-8', 'method': 'post'}\n",
      "{'data-remote': 'true', 'action': '/users/set_protocol?protocol_selector=ssh&protocol_type=clone', 'accept-charset': 'UTF-8', 'method': 'post'}\n",
      "{'data-remote': 'true', 'action': '/users/set_protocol?protocol_selector=https&protocol_type=clone', 'accept-charset': 'UTF-8', 'method': 'post'}\n"
     ]
    }
   ],
   "source": [
    "for form in h.xpath(\".//form\"):\n",
    "    print(form.attrib)"
   ]
  },
  {
   "cell_type": "code",
   "execution_count": 130,
   "metadata": {},
   "outputs": [
    {
     "data": {
      "text/plain": [
       "bs4.BeautifulSoup"
      ]
     },
     "execution_count": 130,
     "metadata": {},
     "output_type": "execute_result"
    }
   ],
   "source": [
    "from bs4 import BeautifulSoup\n",
    "with open(\"xml/github.html\") as infile:\n",
    "    soup = BeautifulSoup(infile.read())\n",
    "    \n",
    "type(soup)"
   ]
  },
  {
   "cell_type": "code",
   "execution_count": 137,
   "metadata": {},
   "outputs": [
    {
     "name": "stdout",
     "output_type": "stream",
     "text": [
      "<link href=\"https://assets-cdn.github.com\" rel=\"dns-prefetch\"/>\n",
      "\n",
      "\n",
      "<link href=\"https://avatars0.githubusercontent.com\" rel=\"dns-prefetch\"/>\n",
      "\n",
      "\n",
      "<link href=\"https://avatars1.githubusercontent.com\" rel=\"dns-prefetch\"/>\n",
      "\n",
      "\n",
      "<link href=\"https://avatars2.githubusercontent.com\" rel=\"dns-prefetch\"/>\n",
      "\n",
      "\n",
      "<link href=\"https://avatars3.githubusercontent.com\" rel=\"dns-prefetch\"/>\n",
      "\n",
      "\n",
      "<link href=\"https://github-cloud.s3.amazonaws.com\" rel=\"dns-prefetch\"/>\n",
      "\n",
      "\n",
      "<link href=\"https://user-images.githubusercontent.com/\" rel=\"dns-prefetch\"/>\n",
      "\n",
      "\n",
      "<link crossorigin=\"anonymous\" href=\"https://assets-cdn.github.com/assets/frameworks-5aa6d9885579bb2359f66266aee26f3b.css\" integrity=\"sha512-FCg44VGg5ax/5MpZ8otwiPE+/tG1/Sq67mKkl6agbqgoScZtJyXhQSFQMIJfOHMZZ+yXDINb8nEiws60SiLohg==\" media=\"all\" rel=\"stylesheet\"/>\n",
      "\n",
      "\n",
      "<link crossorigin=\"anonymous\" href=\"https://assets-cdn.github.com/assets/github-2b01a1367b91dfcbff5f1f644cbc7dcd.css\" integrity=\"sha512-7j4LVYeYSjq7Il+lAz2YmgIdh1yZseGZInIyLEgtZiWTttnprn5+JEKrgObqOcqvW5+OCSbnA8NpZI/qDa3ZGA==\" media=\"all\" rel=\"stylesheet\"/>\n",
      "\n",
      "\n",
      "<meta content=\"width=device-width\" name=\"viewport\"/>\n",
      "\n",
      "\n",
      "<title>html5lib/html5lib-python: Standards-compliant library for parsing and serializing HTML documents and fragments in Python</title>\n",
      "\n",
      "\n",
      "<meta content=\"Standards-compliant library for parsing and serializing HTML documents and fragments in Python - html5lib/html5lib-python\" name=\"description\"/>\n",
      "\n",
      "\n",
      "<link href=\"/opensearch.xml\" rel=\"search\" title=\"GitHub\" type=\"application/opensearchdescription+xml\"/>\n",
      "\n",
      "\n",
      "<link href=\"https://github.com/fluidicon.png\" rel=\"fluid-icon\" title=\"GitHub\"/>\n",
      "\n",
      "\n",
      "<meta content=\"1401488693436528\" property=\"fb:app_id\"/>\n",
      "\n",
      "\n",
      "<meta content=\"https://avatars2.githubusercontent.com/u/4092973?s=400&amp;v=4\" property=\"og:image\"/>\n",
      "<meta content=\"GitHub\" property=\"og:site_name\"/>\n",
      "<meta content=\"object\" property=\"og:type\"/>\n",
      "<meta content=\"html5lib/html5lib-python\" property=\"og:title\"/>\n",
      "<meta content=\"https://github.com/html5lib/html5lib-python\" property=\"og:url\"/>\n",
      "<meta content=\"Standards-compliant library for parsing and serializing HTML documents and fragments in Python - html5lib/html5lib-python\" property=\"og:description\"/>\n",
      "\n",
      "\n",
      "<link href=\"https://assets-cdn.github.com/\" rel=\"assets\"/>\n",
      "\n",
      "\n",
      "<link href=\"wss://live.github.com/_sockets/VjI6MzIyMzY3NTUyOmVhNmUzOTYzZDVhMjNkZjY0ZWZhZWNjZTY5Y2VmMTZmMGQyMzUyZmNhNTFmNWM5ZTRiOTI3ZmU3ZGY4YTE4Njk=--afcbeb6d35a7c35fa4e5d8f8f1c14d9ff99c8231\" rel=\"web-socket\"/>\n",
      "\n",
      "\n",
      "<meta content=\"1000\" name=\"pjax-timeout\"/>\n",
      "\n",
      "\n",
      "<link href=\"/sessions/sudo_modal\" rel=\"sudo-modal\"/>\n",
      "\n",
      "\n",
      "<meta content=\"0B6B:6342:125872:255796:5BBD94B1\" data-pjax-transient=\"\" name=\"request-id\"/>\n",
      "\n",
      "\n",
      "<meta data-pjax-transient=\"\" name=\"selected-link\" value=\"repo_source\"/>\n",
      "\n",
      "\n",
      "<meta content=\"KT5gs8h0wvaagLKAVWq8bbeNwnZZK1r1XQysX3xurLU\" name=\"google-site-verification\"/>\n",
      "\n",
      "\n",
      "<meta content=\"ZzhVyEFwb7w3e0-uOTltm8Jsck2F5StVihD0exw2fsA\" name=\"google-site-verification\"/>\n",
      "\n",
      "\n",
      "<meta content=\"GXs5KoUUkNCoaAZn7wPN-t01Pywp9M3sEjnt_3_ZWPc\" name=\"google-site-verification\"/>\n",
      "\n",
      "\n",
      "<meta content=\"collector.githubapp.com\" name=\"octolytics-host\"/>\n",
      "<meta content=\"github\" name=\"octolytics-app-id\"/>\n",
      "<meta content=\"https://collector.githubapp.com/github-external/browser_event\" name=\"octolytics-event-url\"/>\n",
      "<meta content=\"0B6B:6342:125872:255796:5BBD94B1\" name=\"octolytics-dimension-request_id\"/>\n",
      "<meta content=\"iad\" name=\"octolytics-dimension-region_edge\"/>\n",
      "<meta content=\"iad\" name=\"octolytics-dimension-region_render\"/>\n",
      "<meta content=\"43662361\" name=\"octolytics-actor-id\"/>\n",
      "<meta content=\"moonranger\" name=\"octolytics-actor-login\"/>\n",
      "<meta content=\"15833839e4727863da67f7c109f8e21de997e1af1afe3d68fc4cc56bc0e6a040\" name=\"octolytics-actor-hash\"/>\n",
      "\n",
      "\n",
      "<meta content=\"/&lt;user-name&gt;/&lt;repo-name&gt;\" data-pjax-transient=\"true\" name=\"analytics-location\"/>\n",
      "\n",
      "\n",
      "<meta class=\"js-ga-set\" content=\"e1b6cbbcf932bc99dc6ccc97d142977f\" name=\"userId\"/>\n",
      "\n",
      "\n",
      "<meta class=\"js-ga-set\" content=\"Logged In\" name=\"dimension1\"/>\n",
      "\n",
      "\n",
      "<meta content=\"github.com\" name=\"hostname\"/>\n",
      "\n",
      "\n",
      "<meta content=\"moonranger\" name=\"user-login\"/>\n",
      "\n",
      "\n",
      "<meta content=\"github.com\" name=\"expected-hostname\"/>\n",
      "\n",
      "\n",
      "<meta content=\"OTBkODgwY2EwYmE0ZGIyNzY3YjM1Mjk4NzZiMTIyMDg2OGM5ZjUyYzFmNThmYjU3ZTI0NDQ2OTk2N2I3NjY0Nnx7InJlbW90ZV9hZGRyZXNzIjoiNzIuMTYzLjIyMC40IiwicmVxdWVzdF9pZCI6IjBCNkI6NjM0MjoxMjU4NzI6MjU1Nzk2OjVCQkQ5NEIxIiwidGltZXN0YW1wIjoxNTM5MTUxMDM3LCJob3N0IjoiZ2l0aHViLmNvbSJ9\" name=\"js-proxy-site-detection-payload\"/>\n",
      "\n",
      "\n",
      "<meta content=\"DASHBOARD_V2_LAYOUT_OPT_IN,EXPLORE_DISCOVER_REPOSITORIES,UNIVERSE_BANNER,MARKETPLACE_PLAN_RESTRICTION_EDITOR,MARKETPLACE_RETARGETING,COLLAPSE_REPEATED_COMMENTS,ISSUE_AND_PR_HOVERCARDS\" name=\"enabled-features\"/>\n",
      "\n",
      "\n",
      "<meta content=\"a43a70e4e77e72e881efdc4424607b4ec1fddd77\" name=\"html-safe-nonce\"/>\n",
      "\n",
      "\n",
      "<meta content=\"400691ac941ca24e2b477072f13f7ee1\" http-equiv=\"x-pjax-version\"/>\n",
      "\n",
      "\n",
      "<link href=\"https://github.com/html5lib/html5lib-python/commits/master.atom\" rel=\"alternate\" title=\"Recent Commits to html5lib-python:master\" type=\"application/atom+xml\"/>\n",
      "\n",
      "\n",
      "<meta content=\"github.com/html5lib/html5lib-python git https://github.com/html5lib/html5lib-python.git\" name=\"go-import\"/>\n",
      "\n",
      "\n",
      "<meta content=\"4092973\" name=\"octolytics-dimension-user_id\"/>\n",
      "<meta content=\"html5lib\" name=\"octolytics-dimension-user_login\"/>\n",
      "<meta content=\"9322649\" name=\"octolytics-dimension-repository_id\"/>\n",
      "<meta content=\"html5lib/html5lib-python\" name=\"octolytics-dimension-repository_nwo\"/>\n",
      "<meta content=\"true\" name=\"octolytics-dimension-repository_public\"/>\n",
      "<meta content=\"false\" name=\"octolytics-dimension-repository_is_fork\"/>\n",
      "<meta content=\"9322649\" name=\"octolytics-dimension-repository_network_root_id\"/>\n",
      "<meta content=\"html5lib/html5lib-python\" name=\"octolytics-dimension-repository_network_root_nwo\"/>\n",
      "<meta content=\"false\" name=\"octolytics-dimension-repository_explore_github_marketplace_ci_cta_shown\"/>\n",
      "\n",
      "\n",
      "<link data-pjax-transient=\"\" href=\"https://github.com/html5lib/html5lib-python\" rel=\"canonical\"/>\n",
      "\n",
      "\n",
      "<meta content=\"https://api.github.com/_private/browser/stats\" name=\"browser-stats-url\"/>\n",
      "\n",
      "\n",
      "<meta content=\"https://api.github.com/_private/browser/errors\" name=\"browser-errors-url\"/>\n",
      "\n",
      "\n",
      "<link color=\"#000000\" href=\"https://assets-cdn.github.com/pinned-octocat.svg\" rel=\"mask-icon\"/>\n",
      "\n",
      "\n",
      "<link class=\"js-site-favicon\" href=\"https://assets-cdn.github.com/favicon.ico\" rel=\"icon\" type=\"image/x-icon\"/>\n",
      "\n",
      "\n",
      "<meta content=\"#1e2327\" name=\"theme-color\"/>\n",
      "\n",
      "\n",
      "<link crossorigin=\"use-credentials\" href=\"/manifest.json\" rel=\"manifest\"/>\n",
      "\n",
      "\n"
     ]
    }
   ],
   "source": [
    "\n",
    "link = soup.head.link\n",
    "while True:\n",
    "    print(link)\n",
    "    link = link.next_sibling\n",
    "    if not link:\n",
    "        break"
   ]
  },
  {
   "cell_type": "code",
   "execution_count": 138,
   "metadata": {},
   "outputs": [],
   "source": [
    "link = soup.head.link"
   ]
  },
  {
   "cell_type": "code",
   "execution_count": 139,
   "metadata": {},
   "outputs": [
    {
     "data": {
      "text/plain": [
       "{'rel': ['dns-prefetch'], 'href': 'https://assets-cdn.github.com'}"
      ]
     },
     "execution_count": 139,
     "metadata": {},
     "output_type": "execute_result"
    }
   ],
   "source": [
    "link.attrs"
   ]
  },
  {
   "cell_type": "code",
   "execution_count": 140,
   "metadata": {},
   "outputs": [
    {
     "data": {
      "text/plain": [
       "'https://assets-cdn.github.com'"
      ]
     },
     "execution_count": 140,
     "metadata": {},
     "output_type": "execute_result"
    }
   ],
   "source": [
    "link[\"href\"]"
   ]
  },
  {
   "cell_type": "code",
   "execution_count": 141,
   "metadata": {},
   "outputs": [
    {
     "data": {
      "text/plain": [
       "<list_iterator at 0x7f67e815a0b8>"
      ]
     },
     "execution_count": 141,
     "metadata": {},
     "output_type": "execute_result"
    }
   ],
   "source": [
    "link.children"
   ]
  },
  {
   "cell_type": "code",
   "execution_count": 145,
   "metadata": {},
   "outputs": [
    {
     "data": {
      "text/plain": [
       "['#start-of-content',\n",
       " 'https://github.com/',\n",
       " '',\n",
       " '/pulls',\n",
       " '/issues',\n",
       " '/marketplace',\n",
       " '/explore',\n",
       " '/notifications',\n",
       " '/new',\n",
       " '/new/import',\n",
       " 'https://gist.github.com/',\n",
       " '/organizations/new',\n",
       " '/html5lib/html5lib-python/issues/new',\n",
       " '/moonranger',\n",
       " '/moonranger',\n",
       " '/moonranger?tab=repositories',\n",
       " '/moonranger?tab=stars',\n",
       " 'https://gist.github.com/',\n",
       " 'https://help.github.com',\n",
       " '/settings/profile',\n",
       " '/html5lib/html5lib-python/watchers',\n",
       " '/html5lib/html5lib-python/stargazers',\n",
       " '/html5lib/html5lib-python/stargazers',\n",
       " '/html5lib/html5lib-python/network/members',\n",
       " '/html5lib',\n",
       " '/html5lib/html5lib-python',\n",
       " '/html5lib/html5lib-python',\n",
       " '/html5lib/html5lib-python/issues',\n",
       " '/html5lib/html5lib-python/pulls',\n",
       " '/html5lib/html5lib-python/projects',\n",
       " '/html5lib/html5lib-python/pulse',\n",
       " '/html5lib/html5lib-python/commits/master',\n",
       " '/html5lib/html5lib-python/branches',\n",
       " '/html5lib/html5lib-python/releases',\n",
       " '/html5lib/html5lib-python/graphs/contributors',\n",
       " '/html5lib/html5lib-python/blob/master/LICENSE',\n",
       " '/html5lib/html5lib-python/search?l=python',\n",
       " '#',\n",
       " '#',\n",
       " '/html5lib/html5lib-python/tree/csswg-testsuite',\n",
       " '/html5lib/html5lib-python/tree/gcode-157',\n",
       " '/html5lib/html5lib-python/tree/master',\n",
       " '/html5lib/html5lib-python/tree/python3-old',\n",
       " '/html5lib/html5lib-python/tree/1.0.1',\n",
       " '/html5lib/html5lib-python/tree/1.0',\n",
       " '/html5lib/html5lib-python/tree/1.0b10',\n",
       " '/html5lib/html5lib-python/tree/1.0b9',\n",
       " '/html5lib/html5lib-python/tree/1.0b8',\n",
       " '/html5lib/html5lib-python/tree/1.0b7',\n",
       " '/html5lib/html5lib-python/tree/1.0b6',\n",
       " '/html5lib/html5lib-python/tree/1.0b5',\n",
       " '/html5lib/html5lib-python/tree/1.0b3',\n",
       " '/html5lib/html5lib-python/tree/1.0b2',\n",
       " '/html5lib/html5lib-python/tree/1.0b1',\n",
       " '/html5lib/html5lib-python/tree/0.999999999',\n",
       " '/html5lib/html5lib-python/tree/0.99999999',\n",
       " '/html5lib/html5lib-python/tree/0.9999999',\n",
       " '/html5lib/html5lib-python/tree/0.999999',\n",
       " '/html5lib/html5lib-python/tree/0.99999',\n",
       " '/html5lib/html5lib-python/tree/0.9999',\n",
       " '/html5lib/html5lib-python/tree/0.999',\n",
       " '/html5lib/html5lib-python/tree/0.99',\n",
       " '/html5lib/html5lib-python/tree/0.95',\n",
       " '/html5lib/html5lib-python/tree/0.90',\n",
       " '/html5lib/html5lib-python/tree/0.11.1ish',\n",
       " '/html5lib/html5lib-python/tree/0.11ish',\n",
       " '/html5lib/html5lib-python/tree/0.10ish',\n",
       " '/html5lib/html5lib-python/tree/0.9ish',\n",
       " '/html5lib/html5lib-python/tree/0.2',\n",
       " '/html5lib/html5lib-python/pull/new/master',\n",
       " '/html5lib/html5lib-python/upload/master',\n",
       " '/html5lib/html5lib-python/find/master',\n",
       " 'https://help.github.com/articles/which-remote-url-should-i-use',\n",
       " 'https://help.github.com/articles/which-remote-url-should-i-use',\n",
       " 'https://desktop.github.com',\n",
       " '/html5lib/html5lib-python/archive/master.zip',\n",
       " 'https://desktop.github.com/',\n",
       " 'https://desktop.github.com/',\n",
       " 'https://developer.apple.com/xcode/',\n",
       " 'https://visualstudio.github.com/',\n",
       " '/5j9',\n",
       " '/gsnedders',\n",
       " '/html5lib/html5lib-python/commits?author=5j9',\n",
       " '/html5lib/html5lib-python/commits?author=gsnedders',\n",
       " '/html5lib/html5lib-python/commit/4f9235752cea29c5a31721440578b430823a1e69',\n",
       " 'https://github.com/html5lib/html5lib-python/pull/403',\n",
       " '/html5lib/html5lib-python/commit/4f9235752cea29c5a31721440578b430823a1e69',\n",
       " 'https://github.com/html5lib/html5lib-python/issues/402',\n",
       " '/html5lib/html5lib-python/commit/4f9235752cea29c5a31721440578b430823a1e69',\n",
       " '/html5lib/html5lib-python/tree/4f9235752cea29c5a31721440578b430823a1e69',\n",
       " '/html5lib/html5lib-python/tree/master/doc',\n",
       " '/html5lib/html5lib-python/commit/21a6820957e677f24684ec84cddfecf1d541b11d',\n",
       " '/html5lib/html5lib-python/tree/master/html5lib',\n",
       " '/html5lib/html5lib-python/commit/4f9235752cea29c5a31721440578b430823a1e69',\n",
       " 'https://github.com/html5lib/html5lib-python/pull/403',\n",
       " '/html5lib/html5lib-python/commit/4f9235752cea29c5a31721440578b430823a1e69',\n",
       " '/html5lib/html5lib-python/tree/master/utils',\n",
       " '/html5lib/html5lib-python/commit/8788bdafbf6dc183e96470e4c138211a92e880b8',\n",
       " 'https://github.com/html5lib/html5lib-python/pull/353',\n",
       " '/html5lib/html5lib-python/commit/8788bdafbf6dc183e96470e4c138211a92e880b8',\n",
       " '/html5lib/html5lib-python/blob/master/.appveyor.yml',\n",
       " '/html5lib/html5lib-python/commit/7facf987f52ad25b5cf9aa1fa76252ea04702777',\n",
       " 'https://github.com/html5lib/html5lib-python/pull/397',\n",
       " '/html5lib/html5lib-python/commit/7facf987f52ad25b5cf9aa1fa76252ea04702777',\n",
       " '/html5lib/html5lib-python/blob/master/.coveragerc',\n",
       " '/html5lib/html5lib-python/commit/66a3f42444cb1d4d2cfa32f6d1d69243baa6a9fa',\n",
       " '/html5lib/html5lib-python/blob/master/.gitignore',\n",
       " '/html5lib/html5lib-python/commit/d3de97279d906c68bf82f6a827cd29cc8248e03b',\n",
       " '/html5lib/html5lib-python/blob/master/.gitmodules',\n",
       " '/html5lib/html5lib-python/commit/9fbd2e15788d181e1970c2479be5d189dbc7be92',\n",
       " '/html5lib/html5lib-python/blob/master/.prospector.yaml',\n",
       " '/html5lib/html5lib-python/commit/a2b8c110cd0c5c7d60573f2a86d951cabefc516b',\n",
       " '/html5lib/html5lib-python/blob/master/.pylintrc',\n",
       " '/html5lib/html5lib-python/commit/a2b8c110cd0c5c7d60573f2a86d951cabefc516b',\n",
       " '/html5lib/html5lib-python/blob/master/.pytest.expect',\n",
       " '/html5lib/html5lib-python/commit/f3f00e48c4baf859dfaf4bc90d3e90debf024194',\n",
       " '/html5lib/html5lib-python/blob/master/.travis.yml',\n",
       " '/html5lib/html5lib-python/commit/7f613b331c4299943403d8e12ccb51077e910205',\n",
       " 'https://github.com/html5lib/html5lib-python/pull/358',\n",
       " '/html5lib/html5lib-python/commit/7f613b331c4299943403d8e12ccb51077e910205',\n",
       " '/html5lib/html5lib-python/blob/master/AUTHORS.rst',\n",
       " '/html5lib/html5lib-python/commit/e8f93e9bfeab9016889b05e77eb141a8cce90196',\n",
       " '/html5lib/html5lib-python/blob/master/CHANGES.rst',\n",
       " '/html5lib/html5lib-python/commit/b4887f037e47857b4667106cc968ec91d1121140',\n",
       " '/html5lib/html5lib-python/blob/master/CONTRIBUTING.rst',\n",
       " '/html5lib/html5lib-python/commit/602bb84cb5e73c9ba2e263c8a8e1622d459b8a9c',\n",
       " '/html5lib/html5lib-python/blob/master/LICENSE',\n",
       " '/html5lib/html5lib-python/commit/d3b33f8b9b0b5c9baf92d096f21f914b4b7f47bb',\n",
       " '/html5lib/html5lib-python/blob/master/MANIFEST.in',\n",
       " '/html5lib/html5lib-python/commit/082c042082c78779ea47c746c77535944eec957e',\n",
       " '/html5lib/html5lib-python/blob/master/README.rst',\n",
       " '/html5lib/html5lib-python/commit/950ea0ec60970ba1c88bd9e35d8d85c2a1f318e4',\n",
       " 'https://github.com/html5lib/html5lib-python/pull/393',\n",
       " '/html5lib/html5lib-python/commit/950ea0ec60970ba1c88bd9e35d8d85c2a1f318e4',\n",
       " '/html5lib/html5lib-python/blob/master/debug-info.py',\n",
       " '/html5lib/html5lib-python/commit/3d0eaea85bc00a739e3910ef03316d4312ad84de',\n",
       " '/html5lib/html5lib-python/blob/master/flake8-run.sh',\n",
       " '/html5lib/html5lib-python/commit/823864882ee969ebb7c16986a80388d5785cb9ea',\n",
       " '/html5lib/html5lib-python/blob/master/parse.py',\n",
       " '/html5lib/html5lib-python/commit/c4dd6771836841ee796af8035dbf8239074ed5ec',\n",
       " '/html5lib/html5lib-python/blob/master/pytest.ini',\n",
       " '/html5lib/html5lib-python/commit/366ed48da6d6550661cb6d9dcd8d4d1a0b44c645',\n",
       " '/html5lib/html5lib-python/blob/master/requirements-install.sh',\n",
       " '/html5lib/html5lib-python/commit/74ebfc97a17a4e45a131c0cb70845714f1a8af5e',\n",
       " '/html5lib/html5lib-python/blob/master/requirements-optional.txt',\n",
       " '/html5lib/html5lib-python/commit/a137d14bfd8c6aca007d9dd3118b18e91ccf7fa5',\n",
       " '/html5lib/html5lib-python/blob/master/requirements-test.txt',\n",
       " '/html5lib/html5lib-python/commit/e17cf26c1c36befdce7da39aed1ead96fd0ad30e',\n",
       " '/html5lib/html5lib-python/blob/master/requirements.txt',\n",
       " '/html5lib/html5lib-python/commit/5f637af8edffd1c0bc3e9dcefa089edcfce9a255',\n",
       " 'https://github.com/html5lib/html5lib-python/pull/356',\n",
       " '/html5lib/html5lib-python/commit/5f637af8edffd1c0bc3e9dcefa089edcfce9a255',\n",
       " '/html5lib/html5lib-python/blob/master/setup.cfg',\n",
       " '/html5lib/html5lib-python/commit/0cae52b2073e3f2220db93a7650901f2200f2a13',\n",
       " 'https://github.com/html5lib/html5lib-python/pull/350',\n",
       " '/html5lib/html5lib-python/commit/0cae52b2073e3f2220db93a7650901f2200f2a13',\n",
       " '/html5lib/html5lib-python/blob/master/setup.py',\n",
       " '/html5lib/html5lib-python/commit/7f613b331c4299943403d8e12ccb51077e910205',\n",
       " 'https://github.com/html5lib/html5lib-python/pull/358',\n",
       " '/html5lib/html5lib-python/commit/7f613b331c4299943403d8e12ccb51077e910205',\n",
       " '/html5lib/html5lib-python/blob/master/tox.ini',\n",
       " '/html5lib/html5lib-python/commit/7f613b331c4299943403d8e12ccb51077e910205',\n",
       " 'https://github.com/html5lib/html5lib-python/pull/358',\n",
       " '/html5lib/html5lib-python/commit/7f613b331c4299943403d8e12ccb51077e910205',\n",
       " '#html5lib',\n",
       " 'https://travis-ci.org/html5lib/html5lib-python',\n",
       " '#usage',\n",
       " 'https://html5lib.readthedocs.io/',\n",
       " '#installation',\n",
       " '#optional-dependencies',\n",
       " '#bugs',\n",
       " 'https://github.com/html5lib/html5lib-python/issues',\n",
       " '#tests',\n",
       " 'https://github.com/html5lib/html5lib-tests',\n",
       " '#questions',\n",
       " 'http://groups.google.com/group/html5lib-discuss',\n",
       " 'http://wiki.whatwg.org/wiki/IRC',\n",
       " 'https://github.com/site/terms',\n",
       " 'https://github.com/site/privacy',\n",
       " 'https://help.github.com/articles/github-security/',\n",
       " 'https://status.github.com/',\n",
       " 'https://help.github.com',\n",
       " 'https://github.com',\n",
       " 'https://github.com/contact',\n",
       " 'https://github.com/pricing',\n",
       " 'https://developer.github.com',\n",
       " 'https://training.github.com',\n",
       " 'https://blog.github.com',\n",
       " 'https://github.com/about',\n",
       " '',\n",
       " '']"
      ]
     },
     "execution_count": 145,
     "metadata": {},
     "output_type": "execute_result"
    }
   ],
   "source": [
    "[ a[\"href\"] for a in soup.select(\"a\") if \"href\" in a.attrs ]"
   ]
  },
  {
   "cell_type": "code",
   "execution_count": 153,
   "metadata": {
    "scrolled": false
   },
   "outputs": [
    {
     "name": "stdout",
     "output_type": "stream",
     "text": [
      "Gambardella, Matthew\n",
      "Ralls, Kim\n",
      "Corets, Eva\n",
      "Corets, Eva\n",
      "Corets, Eva\n",
      "Randall, Cynthia\n",
      "Thurman, Paula\n",
      "Knorr, Stefan\n",
      "Kress, Peter\n",
      "O'Brien, Tim\n",
      "O'Brien, Tim\n",
      "Galos, Mike\n"
     ]
    }
   ],
   "source": [
    "import untangle\n",
    "xml = untangle.parse(\"xml/books.xml\")\n",
    "for book in xml.catalog.book:\n",
    "    print(book.author.cdata)"
   ]
  },
  {
   "cell_type": "code",
   "execution_count": 157,
   "metadata": {},
   "outputs": [
    {
     "name": "stdout",
     "output_type": "stream",
     "text": [
      "<?xml version=\"1.0\" encoding=\"utf-8\"?>\n",
      "<staff><employee><name>John</name><role>developer</role></employee><employee><name>Sam</name><role>Admin</role></employee></staff>\n"
     ]
    }
   ],
   "source": [
    "data = {\n",
    "    \"staff\": {\n",
    "            \"employee\": [\n",
    "                {\"name\": \"John\",\n",
    "                 \"role\": \"developer\"\n",
    "                },\n",
    "                {\"name\": \"Sam\",\n",
    "                 \"role\": \"Admin\"}\n",
    "            ]\n",
    "    }\n",
    "    \n",
    "}\n",
    "\n",
    "from xmltodict import unparse\n",
    "print(unparse(data))"
   ]
  },
  {
   "cell_type": "code",
   "execution_count": 158,
   "metadata": {},
   "outputs": [],
   "source": [
    "unparse?"
   ]
  },
  {
   "cell_type": "code",
   "execution_count": 155,
   "metadata": {},
   "outputs": [],
   "source": [
    "unparse?"
   ]
  },
  {
   "cell_type": "code",
   "execution_count": 159,
   "metadata": {},
   "outputs": [],
   "source": [
    "from urllib.request import urlopen\n",
    "res = urlopen(\"http://www.chandrashekar.info/\")"
   ]
  },
  {
   "cell_type": "code",
   "execution_count": 161,
   "metadata": {},
   "outputs": [
    {
     "data": {
      "text/plain": [
       "200"
      ]
     },
     "execution_count": 161,
     "metadata": {},
     "output_type": "execute_result"
    }
   ],
   "source": [
    "res.code"
   ]
  },
  {
   "cell_type": "code",
   "execution_count": 163,
   "metadata": {
    "scrolled": false
   },
   "outputs": [
    {
     "data": {
      "text/plain": [
       "[('Date', 'Fri, 18 Oct 2019 08:02:25 GMT'),\n",
       " ('Server', 'Apache'),\n",
       " ('Expires', 'Sun, 19 Nov 1978 05:00:00 GMT'),\n",
       " ('Cache-Control', 'no-cache, must-revalidate, post-check=0, pre-check=0'),\n",
       " ('Content-Language', 'en'),\n",
       " ('X-Generator', 'Drupal 7 (http://drupal.org)'),\n",
       " ('ETag', '\"1571385745\"'),\n",
       " ('Keep-Alive', 'timeout=5, max=100'),\n",
       " ('Transfer-Encoding', 'chunked'),\n",
       " ('Content-Type', 'text/html; charset=utf-8'),\n",
       " ('Last-Modified', 'Fri, 18 Oct 2019 08:02:25 GMT'),\n",
       " ('Via', '1.1 bgl17-dmz-wsa-3.cisco.com:80 (Cisco-WSA/10.5.4-018)'),\n",
       " ('Connection', 'close')]"
      ]
     },
     "execution_count": 163,
     "metadata": {},
     "output_type": "execute_result"
    }
   ],
   "source": [
    "res.headers.items()"
   ]
  },
  {
   "cell_type": "code",
   "execution_count": 164,
   "metadata": {
    "scrolled": false
   },
   "outputs": [
    {
     "data": {
      "text/plain": [
       "b'<!DOCTYPE html>\\n<!--[if IEMobile 7]><html class=\"iem7\" lang=\"en\" dir=\"ltr\"><![endif]-->\\n<!--[if (lte IE 6)&(!IEMobile)]><html class=\"ie6 ie6-7 ie6-8\" lang=\"en\" dir=\"ltr\"><![endif]-->\\n<!--[if (IE 7)&(!IEMobile)]><html class=\"ie7 ie6-7 ie6-8\" lang=\"en\" dir=\"ltr\"><![endif]-->\\n<!--[if (IE 8)&(!IEMobile)]><html class=\"ie8 ie6-8\" lang=\"en\" dir=\"ltr\"><![endif]-->\\n<!--[if (gte IE 9)|(gt IEMobile 7)]><!--><html lang=\"en\" dir=\"ltr\"\\n  xmlns:content=\"http://purl.org/rss/1.0/modules/content/\"\\n  xmlns:dc=\"http://purl.org/dc/terms/\"\\n  xmlns:foaf=\"http://xmlns.com/foaf/0.1/\"\\n  xmlns:og=\"http://ogp.me/ns#\"\\n  xmlns:rdfs=\"http://www.w3.org/2000/01/rdf-schema#\"\\n  xmlns:sioc=\"http://rdfs.org/sioc/ns#\"\\n  xmlns:sioct=\"http://rdfs.org/sioc/types#\"\\n  xmlns:skos=\"http://www.w3.org/2004/02/skos/core#\"\\n  xmlns:xsd=\"http://www.w3.org/2001/XMLSchema#\"><!--<![endif]-->\\n<head>\\n<meta charset=\"utf-8\" />\\n<link rel=\"alternate\" type=\"application/rss+xml\" title=\"Chandrashekar Babu RSS\" href=\"http://www.chandrashekar.info/rss.xml\" />\\n<meta name=\"Generator\" content=\"Drupal 7 (http://drupal.org)\" />\\n<meta name=\"viewport\" content=\"width=device-width, initial-scale=1\">\\n<meta name=\"MobileOptimized\" content=\"width\">\\n<meta name=\"HandheldFriendly\" content=\"true\">\\n<meta name=\"apple-mobile-web-app-capable\" content=\"yes\">\\n<meta http-equiv=\"cleartype\" content=\"on\">\\n<meta http-equiv=\"X-UA-Compatible\" content=\"IE=edge, chrome=1\">\\n<title>Chandrashekar Babu | Experienced FOSS Technologist and Corporate Trainer</title>\\n<style>@import url(\"http://www.chandrashekar.info/modules/system/system.base.css?mcppxf\");\\n@import url(\"http://www.chandrashekar.info/modules/system/system.menus.css?mcppxf\");\\n@import url(\"http://www.chandrashekar.info/modules/system/system.messages.css?mcppxf\");\\n@import url(\"http://www.chandrashekar.info/modules/system/system.theme.css?mcppxf\");</style>\\n<style>@import url(\"http://www.chandrashekar.info/modules/aggregator/aggregator.css?mcppxf\");\\n@import url(\"http://www.chandrashekar.info/modules/comment/comment.css?mcppxf\");\\n@import url(\"http://www.chandrashekar.info/sites/all/modules/date/date_api/date.css?mcppxf\");\\n@import url(\"http://www.chandrashekar.info/sites/all/modules/date/date_popup/themes/datepicker.1.7.css?mcppxf\");\\n@import url(\"http://www.chandrashekar.info/sites/all/modules/date/date_repeat_field/date_repeat_field.css?mcppxf\");\\n@import url(\"http://www.chandrashekar.info/modules/field/theme/field.css?mcppxf\");\\n@import url(\"http://www.chandrashekar.info/modules/node/node.css?mcppxf\");\\n@import url(\"http://www.chandrashekar.info/modules/search/search.css?mcppxf\");\\n@import url(\"http://www.chandrashekar.info/modules/user/user.css?mcppxf\");\\n@import url(\"http://www.chandrashekar.info/sites/all/modules/views/css/views.css?mcppxf\");</style>\\n<style>@import url(\"http://www.chandrashekar.info/sites/all/modules/ckeditor/ckeditor.css?mcppxf\");\\n@import url(\"http://www.chandrashekar.info/sites/all/modules/ctools/css/ctools.css?mcppxf\");\\n@import url(\"http://www.chandrashekar.info/sites/all/libraries/syntaxhighlighter_3.0.83/styles/shCore.css?mcppxf\");\\n@import url(\"http://www.chandrashekar.info/sites/all/libraries/syntaxhighlighter_3.0.83/styles/shThemeDefault.css?mcppxf\");</style>\\n<style>body.bf-gwf-ubuntu,.bf-gwf-ubuntu .form-text{font-family:\\'Ubuntu\\'}\\nbody.snf-gwf-ubuntu #site-name{font-family :\\'Ubuntu\\'}\\nbody.ssf-gwf-ubuntu-condensed #site-slogan{font-family:\\'Ubuntu Condensed\\'}\\nbody.ptf-gwf-ubuntu-condensed #page-title{font-family:\\'Ubuntu Condensed\\'}\\nbody.ntf-gwf-ubuntu-condensed .article-title{font-family:\\'Ubuntu Condensed\\'}\\nbody.ctf-gwf-abel .comment-title{font-family:\\'Abel\\'}\\nbody.btf-gwf-abel .block-title{font-family:\\'Abel\\'}\\n</style>\\n<style>@import url(\"http://www.chandrashekar.info/sites/all/themes/adaptivetheme/adaptivetheme/css/at.base.css?mcppxf\");\\n@import url(\"http://www.chandrashekar.info/sites/all/themes/adaptivetheme/adaptivetheme/css/at.layout.css?mcppxf\");\\n@import url(\"http://www.chandrashekar.info/sites/all/themes/adaptivetheme/adaptivetheme/css/at.messages.css?mcppxf\");\\n@import url(\"http://www.chandrashekar.info/sites/default/files/color/pixture_reloaded-146a6f0f/colors.css?mcppxf\");\\n@import url(\"http://www.chandrashekar.info/sites/all/themes/pixture_reloaded/css/pixture_reloaded.css?mcppxf\");\\n@import url(\"http://www.chandrashekar.info/sites/all/themes/pixture_reloaded/css/pixture_reloaded.settings.style.css?mcppxf\");</style>\\n<link type=\"text/css\" rel=\"stylesheet\" href=\"http://www.chandrashekar.info/sites/all/themes/pixture_reloaded/css/pixture_reloaded.responsive.style.css?mcppxf\" media=\"all\" />\\n<link type=\"text/css\" rel=\"stylesheet\" href=\"http://www.chandrashekar.info/sites/all/themes/pixture_reloaded/css/pixture_reloaded.responsive.gpanels.css?mcppxf\" media=\"all\" />\\n<link type=\"text/css\" rel=\"stylesheet\" href=\"http://www.chandrashekar.info/sites/default/files/at_css/pixture_reloaded.responsive.layout.css?mcppxf\" media=\"all\" />\\n<link type=\"text/css\" rel=\"stylesheet\" href=\"//fonts.googleapis.com/css?family=Ubuntu|Ubuntu+Condensed|Abel\" media=\"all\" />\\n\\n<!--[if lt IE 9]>\\n<link type=\"text/css\" rel=\"stylesheet\" href=\"http://www.chandrashekar.info/sites/default/files/at_css/pixture_reloaded.lt-ie9.layout.css?mcppxf\" media=\"all\" />\\n<![endif]-->\\n<script src=\"http://www.chandrashekar.info/misc/jquery.js?v=1.4.4\"></script>\\n<script src=\"http://www.chandrashekar.info/misc/jquery.once.js?v=1.2\"></script>\\n<script src=\"http://www.chandrashekar.info/misc/drupal.js?mcppxf\"></script>\\n<script src=\"http://www.chandrashekar.info/sites/all/libraries/syntaxhighlighter_3.0.83/scripts/shCore.js?mcppxf\"></script>\\n<script src=\"http://www.chandrashekar.info/sites/all/libraries/syntaxhighlighter_3.0.83/scripts/shBrushBash.js?mcppxf\"></script>\\n<script src=\"http://www.chandrashekar.info/sites/all/libraries/syntaxhighlighter_3.0.83/scripts/shBrushCpp.js?mcppxf\"></script>\\n<script src=\"http://www.chandrashekar.info/sites/all/libraries/syntaxhighlighter_3.0.83/scripts/shBrushCss.js?mcppxf\"></script>\\n<script src=\"http://www.chandrashekar.info/sites/all/libraries/syntaxhighlighter_3.0.83/scripts/shBrushDiff.js?mcppxf\"></script>\\n<script src=\"http://www.chandrashekar.info/sites/all/libraries/syntaxhighlighter_3.0.83/scripts/shBrushGroovy.js?mcppxf\"></script>\\n<script src=\"http://www.chandrashekar.info/sites/all/libraries/syntaxhighlighter_3.0.83/scripts/shBrushJava.js?mcppxf\"></script>\\n<script src=\"http://www.chandrashekar.info/sites/all/libraries/syntaxhighlighter_3.0.83/scripts/shBrushPerl.js?mcppxf\"></script>\\n<script src=\"http://www.chandrashekar.info/sites/all/libraries/syntaxhighlighter_3.0.83/scripts/shBrushPhp.js?mcppxf\"></script>\\n<script src=\"http://www.chandrashekar.info/sites/all/libraries/syntaxhighlighter_3.0.83/scripts/shBrushPython.js?mcppxf\"></script>\\n<script src=\"http://www.chandrashekar.info/sites/all/libraries/syntaxhighlighter_3.0.83/scripts/shBrushRuby.js?mcppxf\"></script>\\n<script src=\"http://www.chandrashekar.info/sites/all/libraries/syntaxhighlighter_3.0.83/scripts/shBrushSql.js?mcppxf\"></script>\\n<script src=\"http://www.chandrashekar.info/sites/all/libraries/syntaxhighlighter_3.0.83/scripts/shBrushXml.js?mcppxf\"></script>\\n<script>jQuery.extend(Drupal.settings, {\"basePath\":\"\\\\/\",\"pathPrefix\":\"\",\"ajaxPageState\":{\"theme\":\"pixture_reloaded\",\"theme_token\":\"4I-UKvonV-IOP2vcT95giOCvrKI9nEEHBPoTPDFCN7c\",\"js\":{\"sites\\\\/all\\\\/modules\\\\/syntaxhighlighter\\\\/syntaxhighlighter.min.js\":1,\"misc\\\\/jquery.js\":1,\"misc\\\\/jquery.once.js\":1,\"misc\\\\/drupal.js\":1,\"sites\\\\/all\\\\/libraries\\\\/syntaxhighlighter_3.0.83\\\\/scripts\\\\/shCore.js\":1,\"sites\\\\/all\\\\/libraries\\\\/syntaxhighlighter_3.0.83\\\\/scripts\\\\/shBrushBash.js\":1,\"sites\\\\/all\\\\/libraries\\\\/syntaxhighlighter_3.0.83\\\\/scripts\\\\/shBrushCpp.js\":1,\"sites\\\\/all\\\\/libraries\\\\/syntaxhighlighter_3.0.83\\\\/scripts\\\\/shBrushCss.js\":1,\"sites\\\\/all\\\\/libraries\\\\/syntaxhighlighter_3.0.83\\\\/scripts\\\\/shBrushDiff.js\":1,\"sites\\\\/all\\\\/libraries\\\\/syntaxhighlighter_3.0.83\\\\/scripts\\\\/shBrushGroovy.js\":1,\"sites\\\\/all\\\\/libraries\\\\/syntaxhighlighter_3.0.83\\\\/scripts\\\\/shBrushJava.js\":1,\"sites\\\\/all\\\\/libraries\\\\/syntaxhighlighter_3.0.83\\\\/scripts\\\\/shBrushPerl.js\":1,\"sites\\\\/all\\\\/libraries\\\\/syntaxhighlighter_3.0.83\\\\/scripts\\\\/shBrushPhp.js\":1,\"sites\\\\/all\\\\/libraries\\\\/syntaxhighlighter_3.0.83\\\\/scripts\\\\/shBrushPython.js\":1,\"sites\\\\/all\\\\/libraries\\\\/syntaxhighlighter_3.0.83\\\\/scripts\\\\/shBrushRuby.js\":1,\"sites\\\\/all\\\\/libraries\\\\/syntaxhighlighter_3.0.83\\\\/scripts\\\\/shBrushSql.js\":1,\"sites\\\\/all\\\\/libraries\\\\/syntaxhighlighter_3.0.83\\\\/scripts\\\\/shBrushXml.js\":1},\"css\":{\"modules\\\\/system\\\\/system.base.css\":1,\"modules\\\\/system\\\\/system.menus.css\":1,\"modules\\\\/system\\\\/system.messages.css\":1,\"modules\\\\/system\\\\/system.theme.css\":1,\"modules\\\\/aggregator\\\\/aggregator.css\":1,\"modules\\\\/comment\\\\/comment.css\":1,\"sites\\\\/all\\\\/modules\\\\/date\\\\/date_api\\\\/date.css\":1,\"sites\\\\/all\\\\/modules\\\\/date\\\\/date_popup\\\\/themes\\\\/datepicker.1.7.css\":1,\"sites\\\\/all\\\\/modules\\\\/date\\\\/date_repeat_field\\\\/date_repeat_field.css\":1,\"modules\\\\/field\\\\/theme\\\\/field.css\":1,\"modules\\\\/node\\\\/node.css\":1,\"modules\\\\/search\\\\/search.css\":1,\"modules\\\\/user\\\\/user.css\":1,\"sites\\\\/all\\\\/modules\\\\/views\\\\/css\\\\/views.css\":1,\"sites\\\\/all\\\\/modules\\\\/ckeditor\\\\/ckeditor.css\":1,\"sites\\\\/all\\\\/modules\\\\/ctools\\\\/css\\\\/ctools.css\":1,\"sites\\\\/all\\\\/libraries\\\\/syntaxhighlighter_3.0.83\\\\/styles\\\\/shCore.css\":1,\"sites\\\\/all\\\\/libraries\\\\/syntaxhighlighter_3.0.83\\\\/styles\\\\/shThemeDefault.css\":1,\"0\":1,\"1\":1,\"2\":1,\"3\":1,\"4\":1,\"5\":1,\"6\":1,\"sites\\\\/all\\\\/themes\\\\/adaptivetheme\\\\/adaptivetheme\\\\/css\\\\/at.base.css\":1,\"sites\\\\/all\\\\/themes\\\\/adaptivetheme\\\\/adaptivetheme\\\\/css\\\\/at.layout.css\":1,\"sites\\\\/all\\\\/themes\\\\/adaptivetheme\\\\/adaptivetheme\\\\/css\\\\/at.messages.css\":1,\"sites\\\\/all\\\\/themes\\\\/pixture_reloaded\\\\/color\\\\/colors.css\":1,\"sites\\\\/all\\\\/themes\\\\/pixture_reloaded\\\\/css\\\\/pixture_reloaded.css\":1,\"sites\\\\/all\\\\/themes\\\\/pixture_reloaded\\\\/css\\\\/pixture_reloaded.settings.style.css\":1,\"sites\\\\/all\\\\/themes\\\\/pixture_reloaded\\\\/css\\\\/pixture_reloaded.responsive.style.css\":1,\"sites\\\\/all\\\\/themes\\\\/pixture_reloaded\\\\/css\\\\/pixture_reloaded.responsive.gpanels.css\":1,\"public:\\\\/\\\\/at_css\\\\/pixture_reloaded.responsive.layout.css\":1,\"\\\\/\\\\/fonts.googleapis.com\\\\/css?family=Ubuntu|Ubuntu+Condensed|Abel\":1,\"public:\\\\/\\\\/at_css\\\\/pixture_reloaded.lt-ie9.layout.css\":1}}});</script>\\n<!--[if lt IE 9]>\\n<script src=\"//html5shiv.googlecode.com/svn/trunk/html5.js\"></script>\\n<![endif]-->\\n</head>\\n<body class=\"html front not-logged-in one-sidebar sidebar-first page-node site-name-chandrashekar-babu color-scheme-teal pixture-reloaded fs-medium bs-l bb-g mb-dd mbp-r rc-4 ia-r bf-gwf-ubuntu snf-gwf-ubuntu ssf-gwf-ubuntu-condensed ptf-gwf-ubuntu-condensed ntf-gwf-ubuntu-condensed ctf-gwf-abel btf-gwf-abel hs-caps hs-ts\">\\n  <div id=\"skip-link\">\\n    <a href=\"#main-content\" class=\"element-invisible element-focusable\">Skip to main content</a>\\n  </div>\\n    <div class=\"texture-overlay\">\\n  <div id=\"page\" class=\"container\">\\n\\n    <header id=\"header\" class=\"clearfix\" role=\"banner\">\\n      <div class=\"header-inner clearfix\">\\n        <div id=\"branding\">\\n                                <hgroup>\\n                              <h1 id=\"site-name\"><a href=\"/\" title=\"Home page\" class=\"active\">Chandrashekar Babu</a></h1>\\n                                            <h2 id=\"site-slogan\">Experienced FOSS Technologist and Corporate Trainer</h2>\\n                          </hgroup>\\n                  </div>\\n         <!-- /header region -->\\n      </div>\\n    </header> <!-- /header -->\\n\\n      <div id=\"menu-bar\" class=\"nav clearfix\">\\n      <nav id=\"block-system-main-menu\" class=\"block block-system block-menu block-odd block-count-1 block-region-menu-bar menu-wrapper clearfix\">\\n              <h2 class=\"block-title element-invisible\">Main menu</h2>\\n            <ul class=\"menu clearfix\"><li class=\"first leaf menu-item-218\"><a href=\"/\" class=\"active\">Home</a></li><li class=\"leaf menu-item-378\"><a href=\"/about\" title=\"Know more about me\">About</a></li><li class=\"leaf menu-item-532\"><a href=\"/training.html\">Training</a></li><li class=\"leaf menu-item-540\"><a href=\"/training-calendar.html\">Calendar</a></li><li class=\"leaf menu-item-539\"><a href=\"/corporate-training-profile.html\">Profile</a></li><li class=\"leaf menu-item-536\"><a href=\"/articles.html\">Articles</a></li><li class=\"leaf menu-item-537\"><a href=\"/code-vault.html\">Code Vault</a></li><li class=\"leaf menu-item-538\"><a href=\"/random-thoughts.html\">Random Thoughts</a></li><li class=\"leaf menu-item-737\"><a href=\"http://www.chandrashekar.info/workshops\" title=\"Training workshop and open-house schedule\">Workshops</a></li><li class=\"leaf menu-item-541\"><a href=\"/links.html\">Bookmarks</a></li><li class=\"last leaf menu-item-535\"><a href=\"/contact.html\" title=\"Contact me\">Contact</a></li></ul>  </nav>\\n  </div>\\n <!-- /menu bar -->\\n\\n     <!-- /message -->\\n     <!-- /help -->\\n\\n    \\n     <!-- /secondary-content -->\\n\\n    <!-- Three column 3x33 Gpanel -->\\n    \\n    <div id=\"columns\"><div class=\"columns-inner clearfix\">\\n      <div id=\"content-column\"><div class=\"content-inner\">\\n\\n         <!-- /highlight -->\\n\\n                <div id=\"main-content\" role=\"main\">\\n\\n                              \\n            <div class=\"region region-content\">\\n    <div id=\"block-system-main\" class=\"block block-system block-odd block-count-2 block-region-content\">\\n  <div class=\"block-inner clearfix\">\\n                <div class=\"block-content content\">\\n      <article id=\"article-13\" class=\"article article-front-page-content article-promoted article-sticky article-teaser odd clearfix\" about=\"//\" typeof=\"sioc:Item foaf:Document\" role=\"article\">\\n\\n  \\n        <header>\\n              <h1 property=\"dc:title\" datatype=\"\" class=\"article-title\">\\n          <a href=\"//\" rel=\"bookmark\">Sharing the light of Software Freedom since 1997</a>\\n        </h1>\\n          </header>\\n    \\n  \\n  <div class=\"article-content\">\\n  <div class=\"field field-name-body field-type-text-with-summary field-label-hidden view-mode-teaser\"><div class=\"field-items\"><div class=\"field-item even\" property=\"content:encoded\"><p>Hi!<br />\\nWelcome to my personal web-site - a place on the World-Wide-Web where I share information about myself, my experience and knowledge on FOSS related technologies. </p>\\n<p>I am a FOSS technologist with passion for training. I started my career as a computer hardware and networking instructor at a computer hardware institute back in 1995 and have since, progressed to diverse roles in various IT companies. Since 2003, I have been working as an independent FOSS technologist with focus on training and consulting for various technologies that revolve around GNU/Linux and BSD operating systems. I have been conducting corporate training programs for various organizations on technologies that include Perl, Python, Ruby, PHP, Tcl/Tk, C, Java, Groovy, Haskell, Scala, Rails, Django, CodeIgniter, Kohana, Grails, Drupal, LAMP stacks, Apache Web Server Administration, Apache Tomcat Administration, Linux Administration, MySQL and MariaDB Administration, PostgreSQL Administration, Linux System Programming, Linux Kernel Internals and Debugging, Linux Security, OOAD and UML, Design Patterns, Agile Software Methodologies and SCRUM, Client-side web technologies (XHTML, HTML5, CSS2/CSS3, JavaScript, JQuery, Dojo, ExtJS, XML, JSON, W3C DOM) and <a href=\"about.html\">more...</a></p>\\n<p>Currently, I also manage <a href=\"http://www.slashprog.com/\">Slashprog Technologies</a> - an software consultancy and technology solutions firm co-founded by me. At Slashprog, we are currently developing products for Internet business verticals. I also train fresher computer science graduates and engage suitable candidates on my projects.</p>\\n<p>I have been a FOSS technology enthusiast after my first encounter with GNU/Linux sometime during 1995. Since then, I\\'ve managed to learn various technologies that range from system programming, databases, web application development, enterprise application frameworks in the FOSS ecosystem. My colleagues and clients have known me as the <i>polyglot developer</i> and <i>Jack of all tools</i> on FOSS. </p>\\n<p>I am passionate about two things in life - </p>\\n<ol><li>Learn new technologies and understand how they work together</li>\\n<li>Train and enlighten others on what I learn - this helps me learn more, keep me motivated and also gives me the joy and satisfaction of achievement.</li>\\n</ol><p>I spend most of my free time exploring new technologies and learning them. Though I\\'m lazy at documenting what I learn, this website should be serve as my sincere effort to collate my knowledge at one place. </p>\\n<p>If you are a programmer/engineer, you might be interested in the <a href=\"/articles.html\">articles section</a> and the <a href=\"/code-vault.html\">code vault</a> section.</p>\\n<p>If you are a training vendor or an organization seeking my corporate training services, you might be interested in the <a href=\"/training.html&gt;training section&lt;/a&gt; and also my &lt;a href=\">training calendar</a>.</p>\\n<p>You can might also be interested in reading my views on various other non technology aspects of life by looking up  <a href=\"/random-thoughts.html\">my random thoughts</a>.</p>\\n</div></div></div>\\n  </div>\\n\\n      <nav class=\"clearfix\"><ul class=\"links inline\"><li class=\"node-readmore first\"><a href=\"//\" rel=\"tag\" title=\"Sharing the light of Software Freedom since 1997\">Read more<span class=\"element-invisible\"> about Sharing the light of Software Freedom since 1997</span></a></li><li class=\"sharethis last\"><span class=\"sharethis-buttons\"><div class=\"sharethis-wrapper\"><span st_url=\"http://www.chandrashekar.info/node/13\" st_title=\"Sharing the light of Software Freedom since 1997 @chandrashekar_b\" class=\"st_twitter_hcount\" displaytext=\"twitter\"></span>\\n<span st_url=\"http://www.chandrashekar.info/node/13\" st_title=\"Sharing the light of Software Freedom since 1997\" class=\"st_linkedin_hcount\" displaytext=\"linkedin\"></span>\\n<span st_url=\"http://www.chandrashekar.info/node/13\" st_title=\"Sharing the light of Software Freedom since 1997\" class=\"st_googleplus_hcount\" displaytext=\"googleplus\"></span>\\n<span st_url=\"http://www.chandrashekar.info/node/13\" st_title=\"Sharing the light of Software Freedom since 1997\" class=\"st_facebook_hcount\" displaytext=\"facebook\"></span>\\n<span st_url=\"http://www.chandrashekar.info/node/13\" st_title=\"Sharing the light of Software Freedom since 1997\" class=\"st_sharethis_hcount\" displaytext=\"sharethis\"></span>\\n<script type=\\'text/javascript\\'>var switchTo5x = true;</script><script type=\\'text/javascript\\' src=\\'http://w.sharethis.com/button/buttons.js\\'></script><script type=\\'text/javascript\\'>stLight.options({\"publisher\":\"dr-d1d6cfd0-716c-a177-4e31-cabe602d59cd\"});</script></div></span></li></ul></nav>\\n  \\n  \\n</article>\\n<h2 class=\"element-invisible\">Pages</h2><div class=\"item-list\"><ul class=\"pager\"><li class=\"pager-current even first\">1</li><li class=\"pager-item odd\"><a title=\"Go to page 2\" href=\"/node?page=1\">2</a></li><li class=\"pager-item even\"><a title=\"Go to page 3\" href=\"/node?page=2\">3</a></li><li class=\"pager-item odd\"><a title=\"Go to page 4\" href=\"/node?page=3\">4</a></li><li class=\"pager-item even\"><a title=\"Go to page 5\" href=\"/node?page=4\">5</a></li><li class=\"pager-item odd\"><a title=\"Go to page 6\" href=\"/node?page=5\">6</a></li><li class=\"pager-item even\"><a title=\"Go to page 7\" href=\"/node?page=6\">7</a></li><li class=\"pager-item odd\"><a title=\"Go to page 8\" href=\"/node?page=7\">8</a></li><li class=\"pager-item even\"><a title=\"Go to page 9\" href=\"/node?page=8\">9</a></li><li class=\"pager-ellipsis odd\">\\xe2\\x80\\xa6</li><li class=\"pager-next even\"><a title=\"Go to next page\" href=\"/node?page=1\">next \\xe2\\x80\\xba</a></li><li class=\"pager-last odd last\"><a title=\"Go to last page\" href=\"/node?page=51\">last \\xc2\\xbb</a></li></ul></div>    </div>\\n  </div>\\n</div>\\n  </div>\\n <!-- /content -->\\n\\n          <a href=\"/rss.xml\" class=\"feed-icon\" title=\"Subscribe to Chandrashekar Babu RSS\"><img typeof=\"foaf:Image\" src=\"http://www.chandrashekar.info/misc/feed.png\" width=\"16\" height=\"16\" alt=\"Subscribe to Chandrashekar Babu RSS\" /></a> <!-- /feed icons -->\\n\\n        </div> <!-- /main-content -->\\n\\n         <!-- /content-aside -->\\n\\n      </div></div> <!-- /content-column -->\\n\\n        <div class=\"region region-sidebar-first sidebar\">\\n    <section id=\"block-node-recent\" class=\"block block-node block-odd block-count-3 block-region-sidebar-first\">\\n  <div class=\"block-inner clearfix\">\\n              <h2 class=\"block-title\">Recent content</h2>\\n            <div class=\"block-content content\">\\n      <table>\\n<tbody>\\n <tr class=\"odd\"><td class=\"title-author\"><div class=\"node-title\"><a href=\"/node/153\">This is another test by Pradeep</a></div><div class=\"node-author\"><span class=\"username\" xml:lang=\"\" about=\"/user/16\" typeof=\"sioc:UserAccount\" property=\"foaf:name\">testuser</span></div></td><td class=\"edit\"></td><td class=\"delete\"></td> </tr>\\n <tr class=\"even\"><td class=\"title-author\"><div class=\"node-title\"><a href=\"/node/152\">another test blog via robobrowser</a></div><div class=\"node-author\"><span class=\"username\" xml:lang=\"\" about=\"/user/16\" typeof=\"sioc:UserAccount\" property=\"foaf:name\">testuser</span></div></td><td class=\"edit\"></td><td class=\"delete\"></td> </tr>\\n <tr class=\"odd\"><td class=\"title-author\"><div class=\"node-title\"><a href=\"/node/151\">A new blog from RoboBrowser - 2018 Oct 10th - Chandrashekar</a></div><div class=\"node-author\"><span class=\"username\" xml:lang=\"\" about=\"/user/16\" typeof=\"sioc:UserAccount\" property=\"foaf:name\">testuser</span></div></td><td class=\"edit\"></td><td class=\"delete\"></td> </tr>\\n <tr class=\"even\"><td class=\"title-author\"><div class=\"node-title\"><a href=\"/node/150\">A test blog posted manually on Oct 10th - chandrashekar</a></div><div class=\"node-author\"><span class=\"username\" xml:lang=\"\" about=\"/user/16\" typeof=\"sioc:UserAccount\" property=\"foaf:name\">testuser</span></div></td><td class=\"edit\"></td><td class=\"delete\"></td> </tr>\\n <tr class=\"odd\"><td class=\"title-author\"><div class=\"node-title\"><a href=\"/node/149\">This is a test Title from A</a></div><div class=\"node-author\"><span class=\"username\" xml:lang=\"\" about=\"/user/16\" typeof=\"sioc:UserAccount\" property=\"foaf:name\">testuser</span></div></td><td class=\"edit\"></td><td class=\"delete\"></td> </tr>\\n <tr class=\"even\"><td class=\"title-author\"><div class=\"node-title\"><a href=\"/node/148\">new blog (Sep 28 2018) by Robobrowser</a></div><div class=\"node-author\"><span class=\"username\" xml:lang=\"\" about=\"/user/16\" typeof=\"sioc:UserAccount\" property=\"foaf:name\">testuser</span></div></td><td class=\"edit\"></td><td class=\"delete\"></td> </tr>\\n <tr class=\"odd\"><td class=\"title-author\"><div class=\"node-title\"><a href=\"/node/147\">test blog manual - 2018 sep 28</a></div><div class=\"node-author\"><span class=\"username\" xml:lang=\"\" about=\"/user/16\" typeof=\"sioc:UserAccount\" property=\"foaf:name\">testuser</span></div></td><td class=\"edit\"></td><td class=\"delete\"></td> </tr>\\n <tr class=\"even\"><td class=\"title-author\"><div class=\"node-title\"><a href=\"/node/146\">a new blog from robobrowser on aug 21</a></div><div class=\"node-author\"><span class=\"username\" xml:lang=\"\" about=\"/user/16\" typeof=\"sioc:UserAccount\" property=\"foaf:name\">testuser</span></div></td><td class=\"edit\"></td><td class=\"delete\"></td> </tr>\\n <tr class=\"odd\"><td class=\"title-author\"><div class=\"node-title\"><a href=\"/node/145\">a test blog added manually on August 21</a></div><div class=\"node-author\"><span class=\"username\" xml:lang=\"\" about=\"/user/16\" typeof=\"sioc:UserAccount\" property=\"foaf:name\">testuser</span></div></td><td class=\"edit\"></td><td class=\"delete\"></td> </tr>\\n <tr class=\"even\"><td class=\"title-author\"><div class=\"node-title\"><a href=\"/node/144\">a new automated blog - aug 03</a></div><div class=\"node-author\"><span class=\"username\" xml:lang=\"\" about=\"/user/16\" typeof=\"sioc:UserAccount\" property=\"foaf:name\">testuser</span></div></td><td class=\"edit\"></td><td class=\"delete\"></td> </tr>\\n</tbody>\\n</table>\\n    </div>\\n  </div>\\n</section>\\n  </div>\\n      \\n    </div></div> <!-- /columns -->\\n\\n     <!-- /tertiary-content -->\\n\\n    <!-- Four column Gpanel -->\\n    \\n          <footer id=\"footer\" role=\"contentinfo\"><div id=\"footer-inner\" class=\"clearfix\">\\n          <div class=\"region region-footer\">\\n    <div id=\"block-block-1\" class=\"block block-block block-odd block-count-4 block-region-footer\">\\n  <div class=\"block-inner clearfix\">\\n                <div class=\"block-content content\">\\n      <p>Contents of this website is Copyright \\xc2\\xa9 2004-2012 <a href=\"http://www.chandrashekar.info/\">Chandrashekar Babu</a>. All Rights Reserved.</p>\\n    </div>\\n  </div>\\n</div>\\n  </div>\\n <!-- /footer region -->\\n      </div></footer> <!-- /footer/footer-inner -->\\n    \\n  </div> <!-- /page -->\\n</div> <!-- /texture overlay -->  <script src=\"http://www.chandrashekar.info/sites/all/modules/syntaxhighlighter/syntaxhighlighter.min.js?mcppxf\"></script>\\n</body>\\n</html>\\n'"
      ]
     },
     "execution_count": 164,
     "metadata": {},
     "output_type": "execute_result"
    }
   ],
   "source": [
    "res.read()"
   ]
  },
  {
   "cell_type": "code",
   "execution_count": 165,
   "metadata": {},
   "outputs": [],
   "source": [
    "import requests\n",
    "r = requests.get(\"http://www.chandrashekar.info/\")"
   ]
  },
  {
   "cell_type": "code",
   "execution_count": 168,
   "metadata": {},
   "outputs": [
    {
     "data": {
      "text/plain": [
       "(200, True)"
      ]
     },
     "execution_count": 168,
     "metadata": {},
     "output_type": "execute_result"
    }
   ],
   "source": [
    "r.status_code, r.ok"
   ]
  },
  {
   "cell_type": "code",
   "execution_count": 170,
   "metadata": {},
   "outputs": [
    {
     "data": {
      "text/plain": [
       "'text/html; charset=utf-8'"
      ]
     },
     "execution_count": 170,
     "metadata": {},
     "output_type": "execute_result"
    }
   ],
   "source": [
    "r.headers[\"content-type\"]"
   ]
  },
  {
   "cell_type": "code",
   "execution_count": 171,
   "metadata": {},
   "outputs": [
    {
     "data": {
      "text/plain": [
       "'<!DOCTYPE html>\\n<!--[if IEMobile 7]><html class=\"iem7\" lang=\"en\" dir=\"ltr\"><![endif]-->\\n<!--[if (lte IE 6)&(!IEMobile)]><html class=\"ie6 ie6-7 ie6-8\" lang=\"en\" dir=\"ltr\"><![endif]-->\\n<!--[if (IE 7)&(!IEMobile)]><html class=\"ie7 ie6-7 ie6-8\" lang=\"en\" dir=\"ltr\"><![endif]-->\\n<!--[if (IE 8)&(!IEMobile)]><html class=\"ie8 ie6-8\" lang=\"en\" dir=\"ltr\"><![endif]-->\\n<!--[if (gte IE 9)|(gt IEMobile 7)]><!--><html lang=\"en\" dir=\"ltr\"\\n  xmlns:content=\"http://purl.org/rss/1.0/modules/content/\"\\n  xmlns:dc=\"http://purl.org/dc/terms/\"\\n  xmlns:foaf=\"http://xmlns.com/foaf/0.1/\"\\n  xmlns:og=\"http://ogp.me/ns#\"\\n  xmlns:rdfs=\"http://www.w3.org/2000/01/rdf-schema#\"\\n  xmlns:sioc=\"http://rdfs.org/sioc/ns#\"\\n  xmlns:sioct=\"http://rdfs.org/sioc/types#\"\\n  xmlns:skos=\"http://www.w3.org/2004/02/skos/core#\"\\n  xmlns:xsd=\"http://www.w3.org/2001/XMLSchema#\"><!--<![endif]-->\\n<head>\\n<meta charset=\"utf-8\" />\\n<link rel=\"alternate\" type=\"application/rss+xml\" title=\"Chandrashekar Babu RSS\" href=\"http://www.chandrashekar.info/rss.xml\" />\\n<meta name=\"Generator\" content=\"Drupal 7 (http://drupal.org)\" />\\n<meta name=\"viewport\" content=\"width=device-width, initial-scale=1\">\\n<meta name=\"MobileOptimized\" content=\"width\">\\n<meta name=\"HandheldFriendly\" content=\"true\">\\n<meta name=\"apple-mobile-web-app-capable\" content=\"yes\">\\n<meta http-equiv=\"cleartype\" content=\"on\">\\n<meta http-equiv=\"X-UA-Compatible\" content=\"IE=edge, chrome=1\">\\n<title>Chandrashekar Babu | Experienced FOSS Technologist and Corporate Trainer</title>\\n<style>@import url(\"http://www.chandrashekar.info/modules/system/system.base.css?mcppxf\");\\n@import url(\"http://www.chandrashekar.info/modules/system/system.menus.css?mcppxf\");\\n@import url(\"http://www.chandrashekar.info/modules/system/system.messages.css?mcppxf\");\\n@import url(\"http://www.chandrashekar.info/modules/system/system.theme.css?mcppxf\");</style>\\n<style>@import url(\"http://www.chandrashekar.info/modules/aggregator/aggregator.css?mcppxf\");\\n@import url(\"http://www.chandrashekar.info/modules/comment/comment.css?mcppxf\");\\n@import url(\"http://www.chandrashekar.info/sites/all/modules/date/date_api/date.css?mcppxf\");\\n@import url(\"http://www.chandrashekar.info/sites/all/modules/date/date_popup/themes/datepicker.1.7.css?mcppxf\");\\n@import url(\"http://www.chandrashekar.info/sites/all/modules/date/date_repeat_field/date_repeat_field.css?mcppxf\");\\n@import url(\"http://www.chandrashekar.info/modules/field/theme/field.css?mcppxf\");\\n@import url(\"http://www.chandrashekar.info/modules/node/node.css?mcppxf\");\\n@import url(\"http://www.chandrashekar.info/modules/search/search.css?mcppxf\");\\n@import url(\"http://www.chandrashekar.info/modules/user/user.css?mcppxf\");\\n@import url(\"http://www.chandrashekar.info/sites/all/modules/views/css/views.css?mcppxf\");</style>\\n<style>@import url(\"http://www.chandrashekar.info/sites/all/modules/ckeditor/ckeditor.css?mcppxf\");\\n@import url(\"http://www.chandrashekar.info/sites/all/modules/ctools/css/ctools.css?mcppxf\");\\n@import url(\"http://www.chandrashekar.info/sites/all/libraries/syntaxhighlighter_3.0.83/styles/shCore.css?mcppxf\");\\n@import url(\"http://www.chandrashekar.info/sites/all/libraries/syntaxhighlighter_3.0.83/styles/shThemeDefault.css?mcppxf\");</style>\\n<style>body.bf-gwf-ubuntu,.bf-gwf-ubuntu .form-text{font-family:\\'Ubuntu\\'}\\nbody.snf-gwf-ubuntu #site-name{font-family :\\'Ubuntu\\'}\\nbody.ssf-gwf-ubuntu-condensed #site-slogan{font-family:\\'Ubuntu Condensed\\'}\\nbody.ptf-gwf-ubuntu-condensed #page-title{font-family:\\'Ubuntu Condensed\\'}\\nbody.ntf-gwf-ubuntu-condensed .article-title{font-family:\\'Ubuntu Condensed\\'}\\nbody.ctf-gwf-abel .comment-title{font-family:\\'Abel\\'}\\nbody.btf-gwf-abel .block-title{font-family:\\'Abel\\'}\\n</style>\\n<style>@import url(\"http://www.chandrashekar.info/sites/all/themes/adaptivetheme/adaptivetheme/css/at.base.css?mcppxf\");\\n@import url(\"http://www.chandrashekar.info/sites/all/themes/adaptivetheme/adaptivetheme/css/at.layout.css?mcppxf\");\\n@import url(\"http://www.chandrashekar.info/sites/all/themes/adaptivetheme/adaptivetheme/css/at.messages.css?mcppxf\");\\n@import url(\"http://www.chandrashekar.info/sites/default/files/color/pixture_reloaded-146a6f0f/colors.css?mcppxf\");\\n@import url(\"http://www.chandrashekar.info/sites/all/themes/pixture_reloaded/css/pixture_reloaded.css?mcppxf\");\\n@import url(\"http://www.chandrashekar.info/sites/all/themes/pixture_reloaded/css/pixture_reloaded.settings.style.css?mcppxf\");</style>\\n<link type=\"text/css\" rel=\"stylesheet\" href=\"http://www.chandrashekar.info/sites/all/themes/pixture_reloaded/css/pixture_reloaded.responsive.style.css?mcppxf\" media=\"all\" />\\n<link type=\"text/css\" rel=\"stylesheet\" href=\"http://www.chandrashekar.info/sites/all/themes/pixture_reloaded/css/pixture_reloaded.responsive.gpanels.css?mcppxf\" media=\"all\" />\\n<link type=\"text/css\" rel=\"stylesheet\" href=\"http://www.chandrashekar.info/sites/default/files/at_css/pixture_reloaded.responsive.layout.css?mcppxf\" media=\"all\" />\\n<link type=\"text/css\" rel=\"stylesheet\" href=\"//fonts.googleapis.com/css?family=Ubuntu|Ubuntu+Condensed|Abel\" media=\"all\" />\\n\\n<!--[if lt IE 9]>\\n<link type=\"text/css\" rel=\"stylesheet\" href=\"http://www.chandrashekar.info/sites/default/files/at_css/pixture_reloaded.lt-ie9.layout.css?mcppxf\" media=\"all\" />\\n<![endif]-->\\n<script src=\"http://www.chandrashekar.info/misc/jquery.js?v=1.4.4\"></script>\\n<script src=\"http://www.chandrashekar.info/misc/jquery.once.js?v=1.2\"></script>\\n<script src=\"http://www.chandrashekar.info/misc/drupal.js?mcppxf\"></script>\\n<script src=\"http://www.chandrashekar.info/sites/all/libraries/syntaxhighlighter_3.0.83/scripts/shCore.js?mcppxf\"></script>\\n<script src=\"http://www.chandrashekar.info/sites/all/libraries/syntaxhighlighter_3.0.83/scripts/shBrushBash.js?mcppxf\"></script>\\n<script src=\"http://www.chandrashekar.info/sites/all/libraries/syntaxhighlighter_3.0.83/scripts/shBrushCpp.js?mcppxf\"></script>\\n<script src=\"http://www.chandrashekar.info/sites/all/libraries/syntaxhighlighter_3.0.83/scripts/shBrushCss.js?mcppxf\"></script>\\n<script src=\"http://www.chandrashekar.info/sites/all/libraries/syntaxhighlighter_3.0.83/scripts/shBrushDiff.js?mcppxf\"></script>\\n<script src=\"http://www.chandrashekar.info/sites/all/libraries/syntaxhighlighter_3.0.83/scripts/shBrushGroovy.js?mcppxf\"></script>\\n<script src=\"http://www.chandrashekar.info/sites/all/libraries/syntaxhighlighter_3.0.83/scripts/shBrushJava.js?mcppxf\"></script>\\n<script src=\"http://www.chandrashekar.info/sites/all/libraries/syntaxhighlighter_3.0.83/scripts/shBrushPerl.js?mcppxf\"></script>\\n<script src=\"http://www.chandrashekar.info/sites/all/libraries/syntaxhighlighter_3.0.83/scripts/shBrushPhp.js?mcppxf\"></script>\\n<script src=\"http://www.chandrashekar.info/sites/all/libraries/syntaxhighlighter_3.0.83/scripts/shBrushPython.js?mcppxf\"></script>\\n<script src=\"http://www.chandrashekar.info/sites/all/libraries/syntaxhighlighter_3.0.83/scripts/shBrushRuby.js?mcppxf\"></script>\\n<script src=\"http://www.chandrashekar.info/sites/all/libraries/syntaxhighlighter_3.0.83/scripts/shBrushSql.js?mcppxf\"></script>\\n<script src=\"http://www.chandrashekar.info/sites/all/libraries/syntaxhighlighter_3.0.83/scripts/shBrushXml.js?mcppxf\"></script>\\n<script>jQuery.extend(Drupal.settings, {\"basePath\":\"\\\\/\",\"pathPrefix\":\"\",\"ajaxPageState\":{\"theme\":\"pixture_reloaded\",\"theme_token\":\"tNKjNxx7-o9jBlhjFgTW75PKVyyxoOsErQEkTSvV3FE\",\"js\":{\"sites\\\\/all\\\\/modules\\\\/syntaxhighlighter\\\\/syntaxhighlighter.min.js\":1,\"misc\\\\/jquery.js\":1,\"misc\\\\/jquery.once.js\":1,\"misc\\\\/drupal.js\":1,\"sites\\\\/all\\\\/libraries\\\\/syntaxhighlighter_3.0.83\\\\/scripts\\\\/shCore.js\":1,\"sites\\\\/all\\\\/libraries\\\\/syntaxhighlighter_3.0.83\\\\/scripts\\\\/shBrushBash.js\":1,\"sites\\\\/all\\\\/libraries\\\\/syntaxhighlighter_3.0.83\\\\/scripts\\\\/shBrushCpp.js\":1,\"sites\\\\/all\\\\/libraries\\\\/syntaxhighlighter_3.0.83\\\\/scripts\\\\/shBrushCss.js\":1,\"sites\\\\/all\\\\/libraries\\\\/syntaxhighlighter_3.0.83\\\\/scripts\\\\/shBrushDiff.js\":1,\"sites\\\\/all\\\\/libraries\\\\/syntaxhighlighter_3.0.83\\\\/scripts\\\\/shBrushGroovy.js\":1,\"sites\\\\/all\\\\/libraries\\\\/syntaxhighlighter_3.0.83\\\\/scripts\\\\/shBrushJava.js\":1,\"sites\\\\/all\\\\/libraries\\\\/syntaxhighlighter_3.0.83\\\\/scripts\\\\/shBrushPerl.js\":1,\"sites\\\\/all\\\\/libraries\\\\/syntaxhighlighter_3.0.83\\\\/scripts\\\\/shBrushPhp.js\":1,\"sites\\\\/all\\\\/libraries\\\\/syntaxhighlighter_3.0.83\\\\/scripts\\\\/shBrushPython.js\":1,\"sites\\\\/all\\\\/libraries\\\\/syntaxhighlighter_3.0.83\\\\/scripts\\\\/shBrushRuby.js\":1,\"sites\\\\/all\\\\/libraries\\\\/syntaxhighlighter_3.0.83\\\\/scripts\\\\/shBrushSql.js\":1,\"sites\\\\/all\\\\/libraries\\\\/syntaxhighlighter_3.0.83\\\\/scripts\\\\/shBrushXml.js\":1},\"css\":{\"modules\\\\/system\\\\/system.base.css\":1,\"modules\\\\/system\\\\/system.menus.css\":1,\"modules\\\\/system\\\\/system.messages.css\":1,\"modules\\\\/system\\\\/system.theme.css\":1,\"modules\\\\/aggregator\\\\/aggregator.css\":1,\"modules\\\\/comment\\\\/comment.css\":1,\"sites\\\\/all\\\\/modules\\\\/date\\\\/date_api\\\\/date.css\":1,\"sites\\\\/all\\\\/modules\\\\/date\\\\/date_popup\\\\/themes\\\\/datepicker.1.7.css\":1,\"sites\\\\/all\\\\/modules\\\\/date\\\\/date_repeat_field\\\\/date_repeat_field.css\":1,\"modules\\\\/field\\\\/theme\\\\/field.css\":1,\"modules\\\\/node\\\\/node.css\":1,\"modules\\\\/search\\\\/search.css\":1,\"modules\\\\/user\\\\/user.css\":1,\"sites\\\\/all\\\\/modules\\\\/views\\\\/css\\\\/views.css\":1,\"sites\\\\/all\\\\/modules\\\\/ckeditor\\\\/ckeditor.css\":1,\"sites\\\\/all\\\\/modules\\\\/ctools\\\\/css\\\\/ctools.css\":1,\"sites\\\\/all\\\\/libraries\\\\/syntaxhighlighter_3.0.83\\\\/styles\\\\/shCore.css\":1,\"sites\\\\/all\\\\/libraries\\\\/syntaxhighlighter_3.0.83\\\\/styles\\\\/shThemeDefault.css\":1,\"0\":1,\"1\":1,\"2\":1,\"3\":1,\"4\":1,\"5\":1,\"6\":1,\"sites\\\\/all\\\\/themes\\\\/adaptivetheme\\\\/adaptivetheme\\\\/css\\\\/at.base.css\":1,\"sites\\\\/all\\\\/themes\\\\/adaptivetheme\\\\/adaptivetheme\\\\/css\\\\/at.layout.css\":1,\"sites\\\\/all\\\\/themes\\\\/adaptivetheme\\\\/adaptivetheme\\\\/css\\\\/at.messages.css\":1,\"sites\\\\/all\\\\/themes\\\\/pixture_reloaded\\\\/color\\\\/colors.css\":1,\"sites\\\\/all\\\\/themes\\\\/pixture_reloaded\\\\/css\\\\/pixture_reloaded.css\":1,\"sites\\\\/all\\\\/themes\\\\/pixture_reloaded\\\\/css\\\\/pixture_reloaded.settings.style.css\":1,\"sites\\\\/all\\\\/themes\\\\/pixture_reloaded\\\\/css\\\\/pixture_reloaded.responsive.style.css\":1,\"sites\\\\/all\\\\/themes\\\\/pixture_reloaded\\\\/css\\\\/pixture_reloaded.responsive.gpanels.css\":1,\"public:\\\\/\\\\/at_css\\\\/pixture_reloaded.responsive.layout.css\":1,\"\\\\/\\\\/fonts.googleapis.com\\\\/css?family=Ubuntu|Ubuntu+Condensed|Abel\":1,\"public:\\\\/\\\\/at_css\\\\/pixture_reloaded.lt-ie9.layout.css\":1}}});</script>\\n<!--[if lt IE 9]>\\n<script src=\"//html5shiv.googlecode.com/svn/trunk/html5.js\"></script>\\n<![endif]-->\\n</head>\\n<body class=\"html front not-logged-in one-sidebar sidebar-first page-node site-name-chandrashekar-babu color-scheme-teal pixture-reloaded fs-medium bs-l bb-g mb-dd mbp-r rc-4 ia-r bf-gwf-ubuntu snf-gwf-ubuntu ssf-gwf-ubuntu-condensed ptf-gwf-ubuntu-condensed ntf-gwf-ubuntu-condensed ctf-gwf-abel btf-gwf-abel hs-caps hs-ts\">\\n  <div id=\"skip-link\">\\n    <a href=\"#main-content\" class=\"element-invisible element-focusable\">Skip to main content</a>\\n  </div>\\n    <div class=\"texture-overlay\">\\n  <div id=\"page\" class=\"container\">\\n\\n    <header id=\"header\" class=\"clearfix\" role=\"banner\">\\n      <div class=\"header-inner clearfix\">\\n        <div id=\"branding\">\\n                                <hgroup>\\n                              <h1 id=\"site-name\"><a href=\"/\" title=\"Home page\" class=\"active\">Chandrashekar Babu</a></h1>\\n                                            <h2 id=\"site-slogan\">Experienced FOSS Technologist and Corporate Trainer</h2>\\n                          </hgroup>\\n                  </div>\\n         <!-- /header region -->\\n      </div>\\n    </header> <!-- /header -->\\n\\n      <div id=\"menu-bar\" class=\"nav clearfix\">\\n      <nav id=\"block-system-main-menu\" class=\"block block-system block-menu block-odd block-count-1 block-region-menu-bar menu-wrapper clearfix\">\\n              <h2 class=\"block-title element-invisible\">Main menu</h2>\\n            <ul class=\"menu clearfix\"><li class=\"first leaf menu-item-218\"><a href=\"/\" class=\"active\">Home</a></li><li class=\"leaf menu-item-378\"><a href=\"/about\" title=\"Know more about me\">About</a></li><li class=\"leaf menu-item-532\"><a href=\"/training.html\">Training</a></li><li class=\"leaf menu-item-540\"><a href=\"/training-calendar.html\">Calendar</a></li><li class=\"leaf menu-item-539\"><a href=\"/corporate-training-profile.html\">Profile</a></li><li class=\"leaf menu-item-536\"><a href=\"/articles.html\">Articles</a></li><li class=\"leaf menu-item-537\"><a href=\"/code-vault.html\">Code Vault</a></li><li class=\"leaf menu-item-538\"><a href=\"/random-thoughts.html\">Random Thoughts</a></li><li class=\"leaf menu-item-737\"><a href=\"http://www.chandrashekar.info/workshops\" title=\"Training workshop and open-house schedule\">Workshops</a></li><li class=\"leaf menu-item-541\"><a href=\"/links.html\">Bookmarks</a></li><li class=\"last leaf menu-item-535\"><a href=\"/contact.html\" title=\"Contact me\">Contact</a></li></ul>  </nav>\\n  </div>\\n <!-- /menu bar -->\\n\\n     <!-- /message -->\\n     <!-- /help -->\\n\\n    \\n     <!-- /secondary-content -->\\n\\n    <!-- Three column 3x33 Gpanel -->\\n    \\n    <div id=\"columns\"><div class=\"columns-inner clearfix\">\\n      <div id=\"content-column\"><div class=\"content-inner\">\\n\\n         <!-- /highlight -->\\n\\n                <div id=\"main-content\" role=\"main\">\\n\\n                              \\n            <div class=\"region region-content\">\\n    <div id=\"block-system-main\" class=\"block block-system block-odd block-count-2 block-region-content\">\\n  <div class=\"block-inner clearfix\">\\n                <div class=\"block-content content\">\\n      <article id=\"article-13\" class=\"article article-front-page-content article-promoted article-sticky article-teaser odd clearfix\" about=\"//\" typeof=\"sioc:Item foaf:Document\" role=\"article\">\\n\\n  \\n        <header>\\n              <h1 property=\"dc:title\" datatype=\"\" class=\"article-title\">\\n          <a href=\"//\" rel=\"bookmark\">Sharing the light of Software Freedom since 1997</a>\\n        </h1>\\n          </header>\\n    \\n  \\n  <div class=\"article-content\">\\n  <div class=\"field field-name-body field-type-text-with-summary field-label-hidden view-mode-teaser\"><div class=\"field-items\"><div class=\"field-item even\" property=\"content:encoded\"><p>Hi!<br />\\nWelcome to my personal web-site - a place on the World-Wide-Web where I share information about myself, my experience and knowledge on FOSS related technologies. </p>\\n<p>I am a FOSS technologist with passion for training. I started my career as a computer hardware and networking instructor at a computer hardware institute back in 1995 and have since, progressed to diverse roles in various IT companies. Since 2003, I have been working as an independent FOSS technologist with focus on training and consulting for various technologies that revolve around GNU/Linux and BSD operating systems. I have been conducting corporate training programs for various organizations on technologies that include Perl, Python, Ruby, PHP, Tcl/Tk, C, Java, Groovy, Haskell, Scala, Rails, Django, CodeIgniter, Kohana, Grails, Drupal, LAMP stacks, Apache Web Server Administration, Apache Tomcat Administration, Linux Administration, MySQL and MariaDB Administration, PostgreSQL Administration, Linux System Programming, Linux Kernel Internals and Debugging, Linux Security, OOAD and UML, Design Patterns, Agile Software Methodologies and SCRUM, Client-side web technologies (XHTML, HTML5, CSS2/CSS3, JavaScript, JQuery, Dojo, ExtJS, XML, JSON, W3C DOM) and <a href=\"about.html\">more...</a></p>\\n<p>Currently, I also manage <a href=\"http://www.slashprog.com/\">Slashprog Technologies</a> - an software consultancy and technology solutions firm co-founded by me. At Slashprog, we are currently developing products for Internet business verticals. I also train fresher computer science graduates and engage suitable candidates on my projects.</p>\\n<p>I have been a FOSS technology enthusiast after my first encounter with GNU/Linux sometime during 1995. Since then, I\\'ve managed to learn various technologies that range from system programming, databases, web application development, enterprise application frameworks in the FOSS ecosystem. My colleagues and clients have known me as the <i>polyglot developer</i> and <i>Jack of all tools</i> on FOSS. </p>\\n<p>I am passionate about two things in life - </p>\\n<ol><li>Learn new technologies and understand how they work together</li>\\n<li>Train and enlighten others on what I learn - this helps me learn more, keep me motivated and also gives me the joy and satisfaction of achievement.</li>\\n</ol><p>I spend most of my free time exploring new technologies and learning them. Though I\\'m lazy at documenting what I learn, this website should be serve as my sincere effort to collate my knowledge at one place. </p>\\n<p>If you are a programmer/engineer, you might be interested in the <a href=\"/articles.html\">articles section</a> and the <a href=\"/code-vault.html\">code vault</a> section.</p>\\n<p>If you are a training vendor or an organization seeking my corporate training services, you might be interested in the <a href=\"/training.html&gt;training section&lt;/a&gt; and also my &lt;a href=\">training calendar</a>.</p>\\n<p>You can might also be interested in reading my views on various other non technology aspects of life by looking up  <a href=\"/random-thoughts.html\">my random thoughts</a>.</p>\\n</div></div></div>\\n  </div>\\n\\n      <nav class=\"clearfix\"><ul class=\"links inline\"><li class=\"node-readmore first\"><a href=\"//\" rel=\"tag\" title=\"Sharing the light of Software Freedom since 1997\">Read more<span class=\"element-invisible\"> about Sharing the light of Software Freedom since 1997</span></a></li><li class=\"sharethis last\"><span class=\"sharethis-buttons\"><div class=\"sharethis-wrapper\"><span st_url=\"http://www.chandrashekar.info/node/13\" st_title=\"Sharing the light of Software Freedom since 1997 @chandrashekar_b\" class=\"st_twitter_hcount\" displaytext=\"twitter\"></span>\\n<span st_url=\"http://www.chandrashekar.info/node/13\" st_title=\"Sharing the light of Software Freedom since 1997\" class=\"st_linkedin_hcount\" displaytext=\"linkedin\"></span>\\n<span st_url=\"http://www.chandrashekar.info/node/13\" st_title=\"Sharing the light of Software Freedom since 1997\" class=\"st_googleplus_hcount\" displaytext=\"googleplus\"></span>\\n<span st_url=\"http://www.chandrashekar.info/node/13\" st_title=\"Sharing the light of Software Freedom since 1997\" class=\"st_facebook_hcount\" displaytext=\"facebook\"></span>\\n<span st_url=\"http://www.chandrashekar.info/node/13\" st_title=\"Sharing the light of Software Freedom since 1997\" class=\"st_sharethis_hcount\" displaytext=\"sharethis\"></span>\\n<script type=\\'text/javascript\\'>var switchTo5x = true;</script><script type=\\'text/javascript\\' src=\\'http://w.sharethis.com/button/buttons.js\\'></script><script type=\\'text/javascript\\'>stLight.options({\"publisher\":\"dr-d1d6cfd0-716c-a177-4e31-cabe602d59cd\"});</script></div></span></li></ul></nav>\\n  \\n  \\n</article>\\n<h2 class=\"element-invisible\">Pages</h2><div class=\"item-list\"><ul class=\"pager\"><li class=\"pager-current even first\">1</li><li class=\"pager-item odd\"><a title=\"Go to page 2\" href=\"/node?page=1\">2</a></li><li class=\"pager-item even\"><a title=\"Go to page 3\" href=\"/node?page=2\">3</a></li><li class=\"pager-item odd\"><a title=\"Go to page 4\" href=\"/node?page=3\">4</a></li><li class=\"pager-item even\"><a title=\"Go to page 5\" href=\"/node?page=4\">5</a></li><li class=\"pager-item odd\"><a title=\"Go to page 6\" href=\"/node?page=5\">6</a></li><li class=\"pager-item even\"><a title=\"Go to page 7\" href=\"/node?page=6\">7</a></li><li class=\"pager-item odd\"><a title=\"Go to page 8\" href=\"/node?page=7\">8</a></li><li class=\"pager-item even\"><a title=\"Go to page 9\" href=\"/node?page=8\">9</a></li><li class=\"pager-ellipsis odd\">…</li><li class=\"pager-next even\"><a title=\"Go to next page\" href=\"/node?page=1\">next ›</a></li><li class=\"pager-last odd last\"><a title=\"Go to last page\" href=\"/node?page=51\">last »</a></li></ul></div>    </div>\\n  </div>\\n</div>\\n  </div>\\n <!-- /content -->\\n\\n          <a href=\"/rss.xml\" class=\"feed-icon\" title=\"Subscribe to Chandrashekar Babu RSS\"><img typeof=\"foaf:Image\" src=\"http://www.chandrashekar.info/misc/feed.png\" width=\"16\" height=\"16\" alt=\"Subscribe to Chandrashekar Babu RSS\" /></a> <!-- /feed icons -->\\n\\n        </div> <!-- /main-content -->\\n\\n         <!-- /content-aside -->\\n\\n      </div></div> <!-- /content-column -->\\n\\n        <div class=\"region region-sidebar-first sidebar\">\\n    <section id=\"block-node-recent\" class=\"block block-node block-odd block-count-3 block-region-sidebar-first\">\\n  <div class=\"block-inner clearfix\">\\n              <h2 class=\"block-title\">Recent content</h2>\\n            <div class=\"block-content content\">\\n      <table>\\n<tbody>\\n <tr class=\"odd\"><td class=\"title-author\"><div class=\"node-title\"><a href=\"/node/153\">This is another test by Pradeep</a></div><div class=\"node-author\"><span class=\"username\" xml:lang=\"\" about=\"/user/16\" typeof=\"sioc:UserAccount\" property=\"foaf:name\">testuser</span></div></td><td class=\"edit\"></td><td class=\"delete\"></td> </tr>\\n <tr class=\"even\"><td class=\"title-author\"><div class=\"node-title\"><a href=\"/node/152\">another test blog via robobrowser</a></div><div class=\"node-author\"><span class=\"username\" xml:lang=\"\" about=\"/user/16\" typeof=\"sioc:UserAccount\" property=\"foaf:name\">testuser</span></div></td><td class=\"edit\"></td><td class=\"delete\"></td> </tr>\\n <tr class=\"odd\"><td class=\"title-author\"><div class=\"node-title\"><a href=\"/node/151\">A new blog from RoboBrowser - 2018 Oct 10th - Chandrashekar</a></div><div class=\"node-author\"><span class=\"username\" xml:lang=\"\" about=\"/user/16\" typeof=\"sioc:UserAccount\" property=\"foaf:name\">testuser</span></div></td><td class=\"edit\"></td><td class=\"delete\"></td> </tr>\\n <tr class=\"even\"><td class=\"title-author\"><div class=\"node-title\"><a href=\"/node/150\">A test blog posted manually on Oct 10th - chandrashekar</a></div><div class=\"node-author\"><span class=\"username\" xml:lang=\"\" about=\"/user/16\" typeof=\"sioc:UserAccount\" property=\"foaf:name\">testuser</span></div></td><td class=\"edit\"></td><td class=\"delete\"></td> </tr>\\n <tr class=\"odd\"><td class=\"title-author\"><div class=\"node-title\"><a href=\"/node/149\">This is a test Title from A</a></div><div class=\"node-author\"><span class=\"username\" xml:lang=\"\" about=\"/user/16\" typeof=\"sioc:UserAccount\" property=\"foaf:name\">testuser</span></div></td><td class=\"edit\"></td><td class=\"delete\"></td> </tr>\\n <tr class=\"even\"><td class=\"title-author\"><div class=\"node-title\"><a href=\"/node/148\">new blog (Sep 28 2018) by Robobrowser</a></div><div class=\"node-author\"><span class=\"username\" xml:lang=\"\" about=\"/user/16\" typeof=\"sioc:UserAccount\" property=\"foaf:name\">testuser</span></div></td><td class=\"edit\"></td><td class=\"delete\"></td> </tr>\\n <tr class=\"odd\"><td class=\"title-author\"><div class=\"node-title\"><a href=\"/node/147\">test blog manual - 2018 sep 28</a></div><div class=\"node-author\"><span class=\"username\" xml:lang=\"\" about=\"/user/16\" typeof=\"sioc:UserAccount\" property=\"foaf:name\">testuser</span></div></td><td class=\"edit\"></td><td class=\"delete\"></td> </tr>\\n <tr class=\"even\"><td class=\"title-author\"><div class=\"node-title\"><a href=\"/node/146\">a new blog from robobrowser on aug 21</a></div><div class=\"node-author\"><span class=\"username\" xml:lang=\"\" about=\"/user/16\" typeof=\"sioc:UserAccount\" property=\"foaf:name\">testuser</span></div></td><td class=\"edit\"></td><td class=\"delete\"></td> </tr>\\n <tr class=\"odd\"><td class=\"title-author\"><div class=\"node-title\"><a href=\"/node/145\">a test blog added manually on August 21</a></div><div class=\"node-author\"><span class=\"username\" xml:lang=\"\" about=\"/user/16\" typeof=\"sioc:UserAccount\" property=\"foaf:name\">testuser</span></div></td><td class=\"edit\"></td><td class=\"delete\"></td> </tr>\\n <tr class=\"even\"><td class=\"title-author\"><div class=\"node-title\"><a href=\"/node/144\">a new automated blog - aug 03</a></div><div class=\"node-author\"><span class=\"username\" xml:lang=\"\" about=\"/user/16\" typeof=\"sioc:UserAccount\" property=\"foaf:name\">testuser</span></div></td><td class=\"edit\"></td><td class=\"delete\"></td> </tr>\\n</tbody>\\n</table>\\n    </div>\\n  </div>\\n</section>\\n  </div>\\n      \\n    </div></div> <!-- /columns -->\\n\\n     <!-- /tertiary-content -->\\n\\n    <!-- Four column Gpanel -->\\n    \\n          <footer id=\"footer\" role=\"contentinfo\"><div id=\"footer-inner\" class=\"clearfix\">\\n          <div class=\"region region-footer\">\\n    <div id=\"block-block-1\" class=\"block block-block block-odd block-count-4 block-region-footer\">\\n  <div class=\"block-inner clearfix\">\\n                <div class=\"block-content content\">\\n      <p>Contents of this website is Copyright © 2004-2012 <a href=\"http://www.chandrashekar.info/\">Chandrashekar Babu</a>. All Rights Reserved.</p>\\n    </div>\\n  </div>\\n</div>\\n  </div>\\n <!-- /footer region -->\\n      </div></footer> <!-- /footer/footer-inner -->\\n    \\n  </div> <!-- /page -->\\n</div> <!-- /texture overlay -->  <script src=\"http://www.chandrashekar.info/sites/all/modules/syntaxhighlighter/syntaxhighlighter.min.js?mcppxf\"></script>\\n</body>\\n</html>\\n'"
      ]
     },
     "execution_count": 171,
     "metadata": {},
     "output_type": "execute_result"
    }
   ],
   "source": [
    "r.text"
   ]
  },
  {
   "cell_type": "code",
   "execution_count": 204,
   "metadata": {},
   "outputs": [],
   "source": [
    "api_key = \"932c152d6ff8d185bfdd9d2a5f8e33e4\"\n",
    "url = \"http://api.openweathermap.org/data/2.5/weather\"\n",
    "\n",
    "query = {\n",
    "    \"q\": \"Bengaluru\",\n",
    "    \"units\": \"metric\",\n",
    "    \"mode\": \"xml\",\n",
    "    \"APPID\": api_key\n",
    "}\n",
    "\n",
    "r = requests.get(url, params=query)"
   ]
  },
  {
   "cell_type": "code",
   "execution_count": 207,
   "metadata": {},
   "outputs": [
    {
     "data": {
      "text/plain": [
       "'application/xml; charset=utf-8'"
      ]
     },
     "execution_count": 207,
     "metadata": {},
     "output_type": "execute_result"
    }
   ],
   "source": [
    "r.headers[\"content-type\"]"
   ]
  },
  {
   "cell_type": "code",
   "execution_count": 219,
   "metadata": {},
   "outputs": [
    {
     "data": {
      "text/plain": [
       "['27.01']"
      ]
     },
     "execution_count": 219,
     "metadata": {},
     "output_type": "execute_result"
    }
   ],
   "source": [
    "import lxml.etree as et\n",
    "report = et.fromstring(r.content)\n",
    "report.xpath(\"./temperature/@value\")"
   ]
  },
  {
   "cell_type": "code",
   "execution_count": null,
   "metadata": {},
   "outputs": [],
   "source": []
  },
  {
   "cell_type": "code",
   "execution_count": 217,
   "metadata": {},
   "outputs": [
    {
     "name": "stdout",
     "output_type": "stream",
     "text": [
      "<current>\n",
      "  <city id=\"1277333\" name=\"Bengaluru\">\n",
      "    <coord lon=\"77.59\" lat=\"12.98\"/>\n",
      "    <country>IN</country>\n",
      "    <timezone>19800</timezone>\n",
      "    <sun rise=\"2019-10-18T00:40:04\" set=\"2019-10-18T12:29:25\"/>\n",
      "  </city>\n",
      "  <temperature value=\"27.01\" min=\"26\" max=\"28.33\" unit=\"celsius\"/>\n",
      "  <humidity value=\"69\" unit=\"%\"/>\n",
      "  <pressure value=\"1013\" unit=\"hPa\"/>\n",
      "  <wind>\n",
      "    <speed value=\"4.1\" unit=\"m/s\" name=\"Gentle Breeze\"/>\n",
      "    <gusts/>\n",
      "    <direction value=\"60\" code=\"ENE\" name=\"East-northeast\"/>\n",
      "  </wind>\n",
      "  <clouds value=\"40\" name=\"scattered clouds\"/>\n",
      "  <visibility value=\"6000\"/>\n",
      "  <precipitation mode=\"no\"/>\n",
      "  <weather number=\"802\" value=\"scattered clouds\" icon=\"03d\"/>\n",
      "  <lastupdate value=\"2019-10-18T08:50:05\"/>\n",
      "</current>\n"
     ]
    }
   ],
   "source": [
    "et.dump(report)"
   ]
  },
  {
   "cell_type": "code",
   "execution_count": 176,
   "metadata": {
    "scrolled": true
   },
   "outputs": [
    {
     "data": {
      "text/plain": [
       "{'coord': {'lon': 77.59, 'lat': 12.98},\n",
       " 'weather': [{'id': 802,\n",
       "   'main': 'Clouds',\n",
       "   'description': 'scattered clouds',\n",
       "   'icon': '03d'}],\n",
       " 'base': 'stations',\n",
       " 'main': {'temp': 26.63,\n",
       "  'pressure': 1014,\n",
       "  'humidity': 69,\n",
       "  'temp_min': 25,\n",
       "  'temp_max': 27.78},\n",
       " 'visibility': 6000,\n",
       " 'wind': {'speed': 3.1, 'deg': 90},\n",
       " 'clouds': {'all': 40},\n",
       " 'dt': 1571386637,\n",
       " 'sys': {'type': 1,\n",
       "  'id': 9205,\n",
       "  'message': 0.0066,\n",
       "  'country': 'IN',\n",
       "  'sunrise': 1571359204,\n",
       "  'sunset': 1571401765},\n",
       " 'timezone': 19800,\n",
       " 'id': 1277333,\n",
       " 'name': 'Bengaluru',\n",
       " 'cod': 200}"
      ]
     },
     "execution_count": 176,
     "metadata": {},
     "output_type": "execute_result"
    }
   ],
   "source": [
    "r.json()"
   ]
  },
  {
   "cell_type": "code",
   "execution_count": 199,
   "metadata": {
    "scrolled": true
   },
   "outputs": [
    {
     "data": {
      "text/plain": [
       "[{'title': 'a new message'},\n",
       " {'title': 'an updated message', 'author': 'Chandrashekar', 'id': 4},\n",
       " {'title': 'dummy data', 'author': 'Chandrashekar', 'id': 5},\n",
       " {'title': 'sdfsdkfjsdlk fjskdlfj ', 'author': 'weiruweiruweiorw', 'id': 6},\n",
       " {'title': 'sdfsdkfjsdlk fjskdlfj ', 'author': 'weiruweiruweiorw', 'id': 7},\n",
       " {'title': 'this is a new message', 'author': 'John doe', 'id': 8}]"
      ]
     },
     "execution_count": 199,
     "metadata": {},
     "output_type": "execute_result"
    }
   ],
   "source": [
    "# At the shell prompt:\n",
    "# pip install json-server.py\n",
    "# json_server db.json\n",
    "import requests\n",
    "\n",
    "requests.get(\"http://localhost:3000/posts\").json()"
   ]
  },
  {
   "cell_type": "code",
   "execution_count": 187,
   "metadata": {},
   "outputs": [],
   "source": [
    "posts_url = \"http://localhost:3000/posts\""
   ]
  },
  {
   "cell_type": "code",
   "execution_count": 197,
   "metadata": {},
   "outputs": [],
   "source": [
    "post_url = \"http://localhost:3000/posts/4\""
   ]
  },
  {
   "cell_type": "code",
   "execution_count": 189,
   "metadata": {},
   "outputs": [
    {
     "data": {
      "text/plain": [
       "'Chandrashekar'"
      ]
     },
     "execution_count": 189,
     "metadata": {},
     "output_type": "execute_result"
    }
   ],
   "source": [
    "requests.get(post_url).json()[\"author\"]"
   ]
  },
  {
   "cell_type": "code",
   "execution_count": 191,
   "metadata": {},
   "outputs": [
    {
     "data": {
      "text/plain": [
       "<Response [201]>"
      ]
     },
     "execution_count": 191,
     "metadata": {},
     "output_type": "execute_result"
    }
   ],
   "source": [
    "requests.post(posts_url, json={\"title\": \"this is a new message\", \n",
    "                              \"author\": \"John doe\"})"
   ]
  },
  {
   "cell_type": "code",
   "execution_count": 195,
   "metadata": {},
   "outputs": [
    {
     "data": {
      "text/plain": [
       "<Response [200]>"
      ]
     },
     "execution_count": 195,
     "metadata": {},
     "output_type": "execute_result"
    }
   ],
   "source": [
    "requests.put(post_url, json={\"title\": \"a new message\"})"
   ]
  },
  {
   "cell_type": "code",
   "execution_count": 198,
   "metadata": {},
   "outputs": [
    {
     "data": {
      "text/plain": [
       "<Response [200]>"
      ]
     },
     "execution_count": 198,
     "metadata": {},
     "output_type": "execute_result"
    }
   ],
   "source": [
    "requests.patch(post_url, json={\"title\": \"an updated message\"})"
   ]
  },
  {
   "cell_type": "code",
   "execution_count": 201,
   "metadata": {},
   "outputs": [],
   "source": [
    "requests.Request?"
   ]
  },
  {
   "cell_type": "code",
   "execution_count": 220,
   "metadata": {},
   "outputs": [],
   "source": [
    "# pip install robobrowser\n",
    "import re\n",
    "re._pattern_type = re.Pattern"
   ]
  },
  {
   "cell_type": "code",
   "execution_count": 221,
   "metadata": {},
   "outputs": [],
   "source": [
    "from robobrowser import RoboBrowser"
   ]
  },
  {
   "cell_type": "code",
   "execution_count": 223,
   "metadata": {},
   "outputs": [
    {
     "data": {
      "text/plain": [
       "<RoboBrowser>"
      ]
     },
     "execution_count": 223,
     "metadata": {},
     "output_type": "execute_result"
    }
   ],
   "source": [
    "br = RoboBrowser(parser=\"lxml\")\n",
    "br"
   ]
  },
  {
   "cell_type": "code",
   "execution_count": 224,
   "metadata": {},
   "outputs": [],
   "source": [
    "br.open(\"http://python.org/\")"
   ]
  },
  {
   "cell_type": "code",
   "execution_count": 227,
   "metadata": {},
   "outputs": [
    {
     "data": {
      "text/plain": [
       "('https://www.python.org/', True)"
      ]
     },
     "execution_count": 227,
     "metadata": {},
     "output_type": "execute_result"
    }
   ],
   "source": [
    "br.url, br.response.ok"
   ]
  },
  {
   "cell_type": "code",
   "execution_count": 228,
   "metadata": {
    "scrolled": true
   },
   "outputs": [
    {
     "data": {
      "text/plain": [
       "{'Server': 'nginx', 'Content-Type': 'text/html; charset=utf-8', 'X-Frame-Options': 'DENY', 'Via': '1.1 vegur, 1.1 varnish, 1.1 varnish', 'Content-Length': '48608', 'Accept-Ranges': 'bytes', 'Date': 'Fri, 18 Oct 2019 09:00:32 GMT', 'Age': '564', 'Connection': 'keep-alive', 'X-Served-By': 'cache-iad2130-IAD, cache-ams21044-AMS', 'X-Cache': 'HIT, HIT', 'X-Cache-Hits': '1, 2', 'X-Timer': 'S1571389233.941520,VS0,VE0', 'Vary': 'Cookie', 'Strict-Transport-Security': 'max-age=63072000; includeSubDomains'}"
      ]
     },
     "execution_count": 228,
     "metadata": {},
     "output_type": "execute_result"
    }
   ],
   "source": [
    "br.response.headers"
   ]
  },
  {
   "cell_type": "code",
   "execution_count": 230,
   "metadata": {
    "scrolled": true
   },
   "outputs": [
    {
     "data": {
      "text/plain": [
       "[<a href=\"#content\" title=\"Skip to content\">Skip to content</a>,\n",
       " <a aria-hidden=\"true\" class=\"jump-link\" href=\"#python-network\" id=\"close-python-network\">\n",
       " <span aria-hidden=\"true\" class=\"icon-arrow-down\"><span>▼</span></span> Close\n",
       "                 </a>,\n",
       " <a class=\"current_item selectedcurrent_branch selected\" href=\"/\" title=\"The Python Programming Language\">Python</a>,\n",
       " <a href=\"/psf-landing/\" title=\"The Python Software Foundation\">PSF</a>,\n",
       " <a href=\"https://docs.python.org\" title=\"Python Documentation\">Docs</a>]"
      ]
     },
     "execution_count": 230,
     "metadata": {},
     "output_type": "execute_result"
    }
   ],
   "source": [
    "br.get_links()[:5]"
   ]
  },
  {
   "cell_type": "code",
   "execution_count": 233,
   "metadata": {},
   "outputs": [],
   "source": [
    "d = br.get_link(title=\"Python Documentation\")"
   ]
  },
  {
   "cell_type": "code",
   "execution_count": 234,
   "metadata": {},
   "outputs": [],
   "source": [
    "br.follow_link(d)"
   ]
  },
  {
   "cell_type": "code",
   "execution_count": 235,
   "metadata": {},
   "outputs": [
    {
     "data": {
      "text/plain": [
       "'https://docs.python.org/3/'"
      ]
     },
     "execution_count": 235,
     "metadata": {},
     "output_type": "execute_result"
    }
   ],
   "source": [
    "br.url"
   ]
  },
  {
   "cell_type": "code",
   "execution_count": 237,
   "metadata": {},
   "outputs": [],
   "source": [
    "f = br.get_form()"
   ]
  },
  {
   "cell_type": "code",
   "execution_count": 242,
   "metadata": {},
   "outputs": [
    {
     "data": {
      "text/plain": [
       "<RoboForm q=xml, check_keywords=yes, area=default>"
      ]
     },
     "execution_count": 242,
     "metadata": {},
     "output_type": "execute_result"
    }
   ],
   "source": [
    "f[\"q\"] = \"xml\"\n",
    "f"
   ]
  },
  {
   "cell_type": "code",
   "execution_count": 243,
   "metadata": {},
   "outputs": [],
   "source": [
    "br.submit_form(f)"
   ]
  },
  {
   "cell_type": "code",
   "execution_count": 244,
   "metadata": {
    "scrolled": true
   },
   "outputs": [
    {
     "data": {
      "text/plain": [
       "'https://docs.python.org/3/search.html?q=xml&check_keywords=yes&area=default'"
      ]
     },
     "execution_count": 244,
     "metadata": {},
     "output_type": "execute_result"
    }
   ],
   "source": [
    "br.url"
   ]
  },
  {
   "cell_type": "code",
   "execution_count": 245,
   "metadata": {},
   "outputs": [
    {
     "data": {
      "text/plain": [
       "'https://docs.python.org/3/'"
      ]
     },
     "execution_count": 245,
     "metadata": {},
     "output_type": "execute_result"
    }
   ],
   "source": [
    "br.back()\n",
    "br.url"
   ]
  },
  {
   "cell_type": "code",
   "execution_count": 246,
   "metadata": {},
   "outputs": [
    {
     "data": {
      "text/plain": [
       "'https://docs.python.org/3/search.html?q=xml&check_keywords=yes&area=default'"
      ]
     },
     "execution_count": 246,
     "metadata": {},
     "output_type": "execute_result"
    }
   ],
   "source": [
    "br.forward()\n",
    "br.url"
   ]
  },
  {
   "cell_type": "code",
   "execution_count": 247,
   "metadata": {},
   "outputs": [
    {
     "data": {
      "text/plain": [
       "<RequestsCookieJar[]>"
      ]
     },
     "execution_count": 247,
     "metadata": {},
     "output_type": "execute_result"
    }
   ],
   "source": [
    "br.response.cookies"
   ]
  },
  {
   "cell_type": "code",
   "execution_count": 248,
   "metadata": {},
   "outputs": [],
   "source": [
    "br.open(\"http://www.google.com/\")"
   ]
  },
  {
   "cell_type": "code",
   "execution_count": 250,
   "metadata": {
    "scrolled": true
   },
   "outputs": [
    {
     "data": {
      "text/plain": [
       "<RequestsCookieJar[Cookie(version=0, name='1P_JAR', value='2019-10-18-09', port=None, port_specified=False, domain='.google.com', domain_specified=True, domain_initial_dot=True, path='/', path_specified=True, secure=False, expires=1573982032, discard=False, comment=None, comment_url=None, rest={'SameSite': 'none'}, rfc2109=False), Cookie(version=0, name='NID', value='189=AOmIOVlL-l6C-X6uhcbvK4fxCPO-HODynmQlhnJV_MPyx-bbSpvZ2UV5pji6druKybNLbJ7n5ClhQaOu4ruEM_veyBY1OsCRsLpJbWV-UNkAtgputT0GF6H5IDBFik_RaLWCX9ViBNKXcGG8ASL47folVDsNz4tzhyRIpHod03U', port=None, port_specified=False, domain='.google.com', domain_specified=True, domain_initial_dot=True, path='/', path_specified=True, secure=False, expires=1587201232, discard=False, comment=None, comment_url=None, rest={'HttpOnly': None}, rfc2109=False)]>"
      ]
     },
     "execution_count": 250,
     "metadata": {},
     "output_type": "execute_result"
    }
   ],
   "source": [
    "br.response.cookies"
   ]
  },
  {
   "cell_type": "code",
   "execution_count": 251,
   "metadata": {},
   "outputs": [
    {
     "data": {
      "text/plain": [
       "<RoboBrowser url=http://testing.chandrashekar.info/wp-login.php>"
      ]
     },
     "execution_count": 251,
     "metadata": {},
     "output_type": "execute_result"
    }
   ],
   "source": [
    "home_page = \"http://testing.chandrashekar.info/\"\n",
    "login_page = \"http://testing.chandrashekar.info/wp-login.php\"\n",
    "username = \"pythonista\"\n",
    "password = \"w3lc0me\"\n",
    "\n",
    "import re\n",
    "re._pattern_type = re.Pattern\n",
    "\n",
    "from robobrowser import RoboBrowser\n",
    "br = RoboBrowser(parser=\"lxml\")\n",
    "br.open(login_page)\n",
    "br"
   ]
  },
  {
   "cell_type": "code",
   "execution_count": 255,
   "metadata": {},
   "outputs": [],
   "source": [
    "login_form = br.get_form()"
   ]
  },
  {
   "cell_type": "code",
   "execution_count": 256,
   "metadata": {},
   "outputs": [
    {
     "data": {
      "text/plain": [
       "'http://testing.chandrashekar.info/wp-admin/'"
      ]
     },
     "execution_count": 256,
     "metadata": {},
     "output_type": "execute_result"
    }
   ],
   "source": [
    "login_form[\"log\"] = username\n",
    "login_form[\"pwd\"] = password\n",
    "br.submit_form(login_form)\n",
    "br.url"
   ]
  },
  {
   "cell_type": "code",
   "execution_count": 258,
   "metadata": {},
   "outputs": [],
   "source": [
    "post_link = br.get_link(\"Add New\")"
   ]
  },
  {
   "cell_type": "code",
   "execution_count": 259,
   "metadata": {},
   "outputs": [
    {
     "data": {
      "text/plain": [
       "'http://testing.chandrashekar.info/wp-admin/post-new.php'"
      ]
     },
     "execution_count": 259,
     "metadata": {},
     "output_type": "execute_result"
    }
   ],
   "source": [
    "br.follow_link(post_link)\n",
    "br.url"
   ]
  },
  {
   "cell_type": "code",
   "execution_count": 267,
   "metadata": {},
   "outputs": [
    {
     "data": {
      "text/plain": [
       "<RoboForm _wpnonce=e3c836a560, _wp_http_referer=/wp-admin/post-new.php, user_ID=1, action=editpost, originalaction=editpost, post_author=1, post_type=post, original_post_status=auto-draft, referredby=, _wp_original_http_referer=, auto_draft=1, post_ID=250, meta-box-order-nonce=382e311b3b, closedpostboxesnonce=a35c526329, post_title=, samplepermalinknonce=dd3d47a60c, content=, save=Save, save=Save Draft, wp-preview=, hidden_post_status=draft, post_status=draft, hidden_post_password=, hidden_post_sticky=[], hidden_post_visibility=public, visibility=public, sticky=[], visibility=, post_password=, visibility=, mm=10, jj=18, aa=2019, hh=09, mn=29, ss=10, hidden_mm=10, cur_mm=10, hidden_jj=18, cur_jj=18, hidden_aa=2019, cur_aa=2019, hidden_hh=09, cur_hh=09, hidden_mn=29, cur_mn=29, original_publish=Publish, publish=Publish, post_format=0, post_category[]=0, post_category[]=[], newcategory=New Category Name, newcategory_parent=-1, _ajax_nonce-add-category=02e964f20d, tax_input[post_tag]=, newtag[post_tag]=, _thumbnail_id=-1, excerpt=, trackback_url=, metakeyinput=, metavalue=, addmeta=Add Custom Field, _ajax_nonce-add-meta=57a68b5a20, advanced_view=1, comment_status=['open'], ping_status=['open'], post_name=, post_author_override=1>"
      ]
     },
     "execution_count": 267,
     "metadata": {},
     "output_type": "execute_result"
    }
   ],
   "source": [
    "blog_form = br.get_forms()[1]\n",
    "blog_form"
   ]
  },
  {
   "cell_type": "code",
   "execution_count": 270,
   "metadata": {},
   "outputs": [],
   "source": [
    "blog_form[\"post_title\"] = \"A new post using RoboBrowser - chandrashekar - oct 18th\"\n",
    "blog_form[\"content\"] = \"ksdjf jdslk jslkd lkds jflkds jfklds kldsjkljdslkfjdslkfjdslkfjdslkf\"\n"
   ]
  },
  {
   "cell_type": "code",
   "execution_count": 273,
   "metadata": {},
   "outputs": [],
   "source": [
    "submit_button = blog_form[\"publish\"]"
   ]
  },
  {
   "cell_type": "code",
   "execution_count": 274,
   "metadata": {},
   "outputs": [],
   "source": [
    "br.submit_form(blog_form, submit_button)"
   ]
  },
  {
   "cell_type": "code",
   "execution_count": 276,
   "metadata": {},
   "outputs": [
    {
     "data": {
      "text/plain": [
       "200"
      ]
     },
     "execution_count": 276,
     "metadata": {},
     "output_type": "execute_result"
    }
   ],
   "source": [
    "br.response.status_code"
   ]
  },
  {
   "cell_type": "code",
   "execution_count": 275,
   "metadata": {},
   "outputs": [
    {
     "data": {
      "text/plain": [
       "'http://testing.chandrashekar.info/wp-admin/post.php?post=250&action=edit&message=6'"
      ]
     },
     "execution_count": 275,
     "metadata": {},
     "output_type": "execute_result"
    }
   ],
   "source": [
    "br.url"
   ]
  },
  {
   "cell_type": "code",
   "execution_count": 277,
   "metadata": {},
   "outputs": [
    {
     "name": "stdout",
     "output_type": "stream",
     "text": [
      "None\n"
     ]
    }
   ],
   "source": [
    "br.open(home_page)\n",
    "if br.response.ok and br.url.startswith(home_page):\n",
    "    link = br.get_link(\"A new post using RoboBrowser - chandrashekar - oct 18th\")\n",
    "    print(link)"
   ]
  },
  {
   "cell_type": "code",
   "execution_count": 283,
   "metadata": {
    "scrolled": true
   },
   "outputs": [
    {
     "data": {
      "text/plain": [
       "<a class=\"post-edit-link\" href=\"http://testing.chandrashekar.info/wp-admin/post.php?post=250&amp;action=edit\">Edit<span class=\"screen-reader-text\"> \"A new post using RoboBrowser – chandrashekar – oct 18th\"</span></a>"
      ]
     },
     "execution_count": 283,
     "metadata": {},
     "output_type": "execute_result"
    }
   ],
   "source": [
    "br.get_link(\"A new post using RoboBrowser – chandrashekar – oct 18th\")"
   ]
  },
  {
   "cell_type": "code",
   "execution_count": 284,
   "metadata": {},
   "outputs": [
    {
     "data": {
      "text/plain": [
       "<a class=\"post-edit-link\" href=\"http://testing.chandrashekar.info/wp-admin/post.php?post=251&amp;action=edit\">Edit<span class=\"screen-reader-text\"> \"A new post using RoboBrowser – Anoop Kumar\"</span></a>"
      ]
     },
     "execution_count": 284,
     "metadata": {},
     "output_type": "execute_result"
    }
   ],
   "source": [
    "br.get_link(\"Anoop\")"
   ]
  }
 ],
 "metadata": {
  "kernelspec": {
   "display_name": "Python 3",
   "language": "python",
   "name": "python3"
  },
  "language_info": {
   "codemirror_mode": {
    "name": "ipython",
    "version": 3
   },
   "file_extension": ".py",
   "mimetype": "text/x-python",
   "name": "python",
   "nbconvert_exporter": "python",
   "pygments_lexer": "ipython3",
   "version": "3.7.3"
  }
 },
 "nbformat": 4,
 "nbformat_minor": 2
}
