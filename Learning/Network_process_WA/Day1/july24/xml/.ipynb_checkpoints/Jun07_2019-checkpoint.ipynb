{
 "cells": [
  {
   "cell_type": "code",
   "execution_count": 1,
   "metadata": {},
   "outputs": [
    {
     "data": {
      "text/plain": [
       "<module 'xml.etree.ElementTree' from '/Users/chandrashekar/anaconda3/lib/python3.7/xml/etree/ElementTree.py'>"
      ]
     },
     "execution_count": 1,
     "metadata": {},
     "output_type": "execute_result"
    }
   ],
   "source": [
    "import xml.etree.ElementTree as et\n",
    "et"
   ]
  },
  {
   "cell_type": "code",
   "execution_count": 45,
   "metadata": {},
   "outputs": [
    {
     "data": {
      "text/plain": [
       "<module 'lxml.etree' from '/Users/chandrashekar/anaconda3/lib/python3.7/site-packages/lxml/etree.cpython-37m-darwin.so'>"
      ]
     },
     "execution_count": 45,
     "metadata": {},
     "output_type": "execute_result"
    }
   ],
   "source": [
    "import lxml.etree as et\n",
    "et"
   ]
  },
  {
   "cell_type": "code",
   "execution_count": 46,
   "metadata": {},
   "outputs": [
    {
     "data": {
      "text/plain": [
       "<lxml.etree._ElementTree at 0x10a266f48>"
      ]
     },
     "execution_count": 46,
     "metadata": {},
     "output_type": "execute_result"
    }
   ],
   "source": [
    "books = et.parse(\"books.xml\")\n",
    "books"
   ]
  },
  {
   "cell_type": "code",
   "execution_count": 48,
   "metadata": {},
   "outputs": [
    {
     "data": {
      "text/plain": [
       "<Element catalog at 0x10a266288>"
      ]
     },
     "execution_count": 48,
     "metadata": {},
     "output_type": "execute_result"
    }
   ],
   "source": [
    "root = books.getroot()\n",
    "root"
   ]
  },
  {
   "cell_type": "code",
   "execution_count": 49,
   "metadata": {},
   "outputs": [
    {
     "name": "stdout",
     "output_type": "stream",
     "text": [
      "catalog\n",
      "'\\n   '\n",
      "{}\n"
     ]
    }
   ],
   "source": [
    "print(root.tag)\n",
    "print(repr(root.text))\n",
    "print(root.attrib)"
   ]
  },
  {
   "cell_type": "code",
   "execution_count": 50,
   "metadata": {},
   "outputs": [
    {
     "name": "stdout",
     "output_type": "stream",
     "text": [
      "12\n",
      "[<Element book at 0x10a266788>, <Element book at 0x10a28d848>, <Element book at 0x10c273bc8>]\n"
     ]
    }
   ],
   "source": [
    "print(len(root))\n",
    "print(root[:3])"
   ]
  },
  {
   "cell_type": "code",
   "execution_count": 51,
   "metadata": {
    "scrolled": true
   },
   "outputs": [
    {
     "name": "stdout",
     "output_type": "stream",
     "text": [
      "book \n",
      "     this is a test book\n",
      "       {'id': 'bk101', 'country': 'India', 'type': 'technical'}\n"
     ]
    }
   ],
   "source": [
    "book = root[0]\n",
    "print(book.tag, book.text, book.attrib)"
   ]
  },
  {
   "cell_type": "code",
   "execution_count": 52,
   "metadata": {},
   "outputs": [
    {
     "data": {
      "text/plain": [
       "'Ralls, Kim'"
      ]
     },
     "execution_count": 52,
     "metadata": {},
     "output_type": "execute_result"
    }
   ],
   "source": [
    "root[1][0].text"
   ]
  },
  {
   "cell_type": "code",
   "execution_count": 53,
   "metadata": {
    "scrolled": true
   },
   "outputs": [
    {
     "name": "stdout",
     "output_type": "stream",
     "text": [
      "XML Developer's Guide\n",
      "Midnight Rain\n",
      "Maeve Ascendant\n",
      "Oberon's Legacy\n",
      "The Sundered Grail\n",
      "Lover Birds\n",
      "Splish Splash\n",
      "Creepy Crawlies\n",
      "Paradox Lost\n",
      "Microsoft .NET: The Programming Bible\n",
      "MSXML3: A Comprehensive Guide\n",
      "Visual Studio 7: A Comprehensive Guide\n"
     ]
    }
   ],
   "source": [
    "for book in root:\n",
    "    print(book[1].text)"
   ]
  },
  {
   "cell_type": "code",
   "execution_count": 54,
   "metadata": {},
   "outputs": [
    {
     "data": {
      "text/plain": [
       "\"XML Developer's Guide\""
      ]
     },
     "execution_count": 54,
     "metadata": {},
     "output_type": "execute_result"
    }
   ],
   "source": [
    "root.find(\"./book/title\").text"
   ]
  },
  {
   "cell_type": "code",
   "execution_count": 55,
   "metadata": {
    "scrolled": true
   },
   "outputs": [
    {
     "data": {
      "text/plain": [
       "['<author>Gambardella, Matthew</author>',\n",
       " '<author>Ralls, Kim</author>',\n",
       " '<author>Corets, Eva</author>',\n",
       " '<author>Corets, Eva</author>',\n",
       " '<author>Corets, Eva</author>',\n",
       " '<author>Randall, Cynthia</author>',\n",
       " '<author>Thurman, Paula</author>',\n",
       " '<author>Knorr, Stefan</author>',\n",
       " '<author>Kress, Peter</author>',\n",
       " \"<author>O'Brien, Tim</author>\",\n",
       " \"<author>O'Brien, Tim</author>\",\n",
       " '<author>Galos, Mike</author>']"
      ]
     },
     "execution_count": 55,
     "metadata": {},
     "output_type": "execute_result"
    }
   ],
   "source": [
    "[ f\"<{t.tag}>{t.text}</{t.tag}>\" for t in root.findall(\"./book/author\") ]\n"
   ]
  },
  {
   "cell_type": "code",
   "execution_count": 56,
   "metadata": {
    "scrolled": true
   },
   "outputs": [
    {
     "name": "stdout",
     "output_type": "stream",
     "text": [
      "XML Developer's Guide\n",
      "Midnight Rain\n",
      "Maeve Ascendant\n",
      "Oberon's Legacy\n",
      "The Sundered Grail\n",
      "Lover Birds\n",
      "Splish Splash\n",
      "Creepy Crawlies\n",
      "Paradox Lost\n",
      "Microsoft .NET: The Programming Bible\n",
      "MSXML3: A Comprehensive Guide\n",
      "Visual Studio 7: A Comprehensive Guide\n"
     ]
    }
   ],
   "source": [
    "for t in root.iterfind(\"./book/title\"):\n",
    "    print(t.text)"
   ]
  },
  {
   "cell_type": "code",
   "execution_count": 57,
   "metadata": {
    "scrolled": true
   },
   "outputs": [
    {
     "data": {
      "text/plain": [
       "[<Element title at 0x10a26d348>,\n",
       " <Element title at 0x10c28ae48>,\n",
       " <Element title at 0x10c2a11c8>,\n",
       " <Element title at 0x10c2a1188>,\n",
       " <Element title at 0x10c2a1248>,\n",
       " <Element title at 0x10c2a12c8>,\n",
       " <Element title at 0x10c2a13c8>,\n",
       " <Element title at 0x10c2a1388>,\n",
       " <Element title at 0x10c2a14c8>,\n",
       " <Element title at 0x10c2a1508>,\n",
       " <Element title at 0x10c2a1548>,\n",
       " <Element title at 0x10c2a1488>]"
      ]
     },
     "execution_count": 57,
     "metadata": {},
     "output_type": "execute_result"
    }
   ],
   "source": [
    "root.findall(\".//title\")"
   ]
  },
  {
   "cell_type": "code",
   "execution_count": 34,
   "metadata": {},
   "outputs": [
    {
     "data": {
      "text/plain": [
       "\"Oberon's Legacy\""
      ]
     },
     "execution_count": 34,
     "metadata": {},
     "output_type": "execute_result"
    }
   ],
   "source": [
    "root.find(\"./book[@id='bk104']/title\").text"
   ]
  },
  {
   "cell_type": "code",
   "execution_count": 36,
   "metadata": {},
   "outputs": [
    {
     "data": {
      "text/plain": [
       "['Maeve Ascendant', \"Oberon's Legacy\", 'The Sundered Grail']"
      ]
     },
     "execution_count": 36,
     "metadata": {},
     "output_type": "execute_result"
    }
   ],
   "source": [
    "[ t.text for t in root.findall(\"./book[author='Corets, Eva']/title\") ]"
   ]
  },
  {
   "cell_type": "code",
   "execution_count": 58,
   "metadata": {
    "scrolled": false
   },
   "outputs": [
    {
     "data": {
      "text/plain": [
       "['Midnight Rain',\n",
       " 'Maeve Ascendant',\n",
       " \"Oberon's Legacy\",\n",
       " 'The Sundered Grail',\n",
       " 'Lover Birds',\n",
       " 'Splish Splash',\n",
       " 'Creepy Crawlies',\n",
       " 'Paradox Lost']"
      ]
     },
     "execution_count": 58,
     "metadata": {},
     "output_type": "execute_result"
    }
   ],
   "source": [
    "[ b.find(\"./title\").text for b in root.findall(\"./book\") \\\n",
    "    if float(b.find(\"./price\").text) < 10.0 ]"
   ]
  },
  {
   "cell_type": "code",
   "execution_count": 62,
   "metadata": {},
   "outputs": [
    {
     "data": {
      "text/plain": [
       "['Midnight Rain',\n",
       " 'Maeve Ascendant',\n",
       " \"Oberon's Legacy\",\n",
       " 'The Sundered Grail',\n",
       " 'Lover Birds',\n",
       " 'Splish Splash',\n",
       " 'Creepy Crawlies',\n",
       " 'Paradox Lost']"
      ]
     },
     "execution_count": 62,
     "metadata": {},
     "output_type": "execute_result"
    }
   ],
   "source": [
    "root.xpath(\"./book[price < '10.0']/title/text()\")"
   ]
  },
  {
   "cell_type": "code",
   "execution_count": 60,
   "metadata": {
    "scrolled": true
   },
   "outputs": [
    {
     "data": {
      "text/plain": [
       "[\"XML Developer's Guide\",\n",
       " 'Midnight Rain',\n",
       " 'Maeve Ascendant',\n",
       " \"Oberon's Legacy\",\n",
       " 'The Sundered Grail',\n",
       " 'Lover Birds',\n",
       " 'Splish Splash',\n",
       " 'Creepy Crawlies',\n",
       " 'Paradox Lost',\n",
       " 'Microsoft .NET: The Programming Bible',\n",
       " 'MSXML3: A Comprehensive Guide',\n",
       " 'Visual Studio 7: A Comprehensive Guide']"
      ]
     },
     "execution_count": 60,
     "metadata": {},
     "output_type": "execute_result"
    }
   ],
   "source": [
    "root.xpath(\"./book/title/text()\")"
   ]
  },
  {
   "cell_type": "code",
   "execution_count": 63,
   "metadata": {},
   "outputs": [
    {
     "data": {
      "text/plain": [
       "<module 'lxml.html' from '/Users/chandrashekar/anaconda3/lib/python3.7/site-packages/lxml/html/__init__.py'>"
      ]
     },
     "execution_count": 63,
     "metadata": {},
     "output_type": "execute_result"
    }
   ],
   "source": [
    "#import lxml.etree as et\n",
    "import lxml.html as parser\n",
    "parser"
   ]
  },
  {
   "cell_type": "code",
   "execution_count": 67,
   "metadata": {},
   "outputs": [],
   "source": [
    "html = parser.parse(\"github.html\")\n",
    "#parser.parse(\"https://www.cisco.com/\")"
   ]
  },
  {
   "cell_type": "code",
   "execution_count": 69,
   "metadata": {},
   "outputs": [
    {
     "data": {
      "text/plain": [
       "['#start-of-content',\n",
       " 'https://github.com/',\n",
       " '',\n",
       " '/pulls',\n",
       " '/issues',\n",
       " '/marketplace',\n",
       " '/explore',\n",
       " '/notifications',\n",
       " '/new',\n",
       " '/new/import',\n",
       " 'https://gist.github.com/',\n",
       " '/organizations/new',\n",
       " '/html5lib/html5lib-python/issues/new',\n",
       " '/moonranger',\n",
       " '/moonranger',\n",
       " '/moonranger?tab=repositories',\n",
       " '/moonranger?tab=stars',\n",
       " 'https://gist.github.com/',\n",
       " 'https://help.github.com',\n",
       " '/settings/profile',\n",
       " '/html5lib/html5lib-python/watchers',\n",
       " '/html5lib/html5lib-python/stargazers',\n",
       " '/html5lib/html5lib-python/stargazers',\n",
       " '/html5lib/html5lib-python/network/members',\n",
       " '/html5lib',\n",
       " '/html5lib/html5lib-python',\n",
       " '/html5lib/html5lib-python',\n",
       " '/html5lib/html5lib-python/issues',\n",
       " '/html5lib/html5lib-python/pulls',\n",
       " '/html5lib/html5lib-python/projects',\n",
       " '/html5lib/html5lib-python/pulse',\n",
       " '/html5lib/html5lib-python/commits/master',\n",
       " '/html5lib/html5lib-python/branches',\n",
       " '/html5lib/html5lib-python/releases',\n",
       " '/html5lib/html5lib-python/graphs/contributors',\n",
       " '/html5lib/html5lib-python/blob/master/LICENSE',\n",
       " '/html5lib/html5lib-python/search?l=python',\n",
       " '#',\n",
       " '#',\n",
       " '/html5lib/html5lib-python/tree/csswg-testsuite',\n",
       " '/html5lib/html5lib-python/tree/gcode-157',\n",
       " '/html5lib/html5lib-python/tree/master',\n",
       " '/html5lib/html5lib-python/tree/python3-old',\n",
       " '/html5lib/html5lib-python/tree/1.0.1',\n",
       " '/html5lib/html5lib-python/tree/1.0',\n",
       " '/html5lib/html5lib-python/tree/1.0b10',\n",
       " '/html5lib/html5lib-python/tree/1.0b9',\n",
       " '/html5lib/html5lib-python/tree/1.0b8',\n",
       " '/html5lib/html5lib-python/tree/1.0b7',\n",
       " '/html5lib/html5lib-python/tree/1.0b6',\n",
       " '/html5lib/html5lib-python/tree/1.0b5',\n",
       " '/html5lib/html5lib-python/tree/1.0b3',\n",
       " '/html5lib/html5lib-python/tree/1.0b2',\n",
       " '/html5lib/html5lib-python/tree/1.0b1',\n",
       " '/html5lib/html5lib-python/tree/0.999999999',\n",
       " '/html5lib/html5lib-python/tree/0.99999999',\n",
       " '/html5lib/html5lib-python/tree/0.9999999',\n",
       " '/html5lib/html5lib-python/tree/0.999999',\n",
       " '/html5lib/html5lib-python/tree/0.99999',\n",
       " '/html5lib/html5lib-python/tree/0.9999',\n",
       " '/html5lib/html5lib-python/tree/0.999',\n",
       " '/html5lib/html5lib-python/tree/0.99',\n",
       " '/html5lib/html5lib-python/tree/0.95',\n",
       " '/html5lib/html5lib-python/tree/0.90',\n",
       " '/html5lib/html5lib-python/tree/0.11.1ish',\n",
       " '/html5lib/html5lib-python/tree/0.11ish',\n",
       " '/html5lib/html5lib-python/tree/0.10ish',\n",
       " '/html5lib/html5lib-python/tree/0.9ish',\n",
       " '/html5lib/html5lib-python/tree/0.2',\n",
       " '/html5lib/html5lib-python/pull/new/master',\n",
       " '/html5lib/html5lib-python/upload/master',\n",
       " '/html5lib/html5lib-python/find/master',\n",
       " 'https://help.github.com/articles/which-remote-url-should-i-use',\n",
       " 'https://help.github.com/articles/which-remote-url-should-i-use',\n",
       " 'https://desktop.github.com',\n",
       " '/html5lib/html5lib-python/archive/master.zip',\n",
       " 'https://desktop.github.com/',\n",
       " 'https://desktop.github.com/',\n",
       " 'https://developer.apple.com/xcode/',\n",
       " 'https://visualstudio.github.com/',\n",
       " '/5j9',\n",
       " '/gsnedders',\n",
       " '/html5lib/html5lib-python/commits?author=5j9',\n",
       " '/html5lib/html5lib-python/commits?author=gsnedders',\n",
       " '/html5lib/html5lib-python/commit/4f9235752cea29c5a31721440578b430823a1e69',\n",
       " 'https://github.com/html5lib/html5lib-python/pull/403',\n",
       " '/html5lib/html5lib-python/commit/4f9235752cea29c5a31721440578b430823a1e69',\n",
       " 'https://github.com/html5lib/html5lib-python/issues/402',\n",
       " '/html5lib/html5lib-python/commit/4f9235752cea29c5a31721440578b430823a1e69',\n",
       " '/html5lib/html5lib-python/tree/4f9235752cea29c5a31721440578b430823a1e69',\n",
       " '/html5lib/html5lib-python/tree/master/doc',\n",
       " '/html5lib/html5lib-python/commit/21a6820957e677f24684ec84cddfecf1d541b11d',\n",
       " '/html5lib/html5lib-python/tree/master/html5lib',\n",
       " '/html5lib/html5lib-python/commit/4f9235752cea29c5a31721440578b430823a1e69',\n",
       " 'https://github.com/html5lib/html5lib-python/pull/403',\n",
       " '/html5lib/html5lib-python/commit/4f9235752cea29c5a31721440578b430823a1e69',\n",
       " '/html5lib/html5lib-python/tree/master/utils',\n",
       " '/html5lib/html5lib-python/commit/8788bdafbf6dc183e96470e4c138211a92e880b8',\n",
       " 'https://github.com/html5lib/html5lib-python/pull/353',\n",
       " '/html5lib/html5lib-python/commit/8788bdafbf6dc183e96470e4c138211a92e880b8',\n",
       " '/html5lib/html5lib-python/blob/master/.appveyor.yml',\n",
       " '/html5lib/html5lib-python/commit/7facf987f52ad25b5cf9aa1fa76252ea04702777',\n",
       " 'https://github.com/html5lib/html5lib-python/pull/397',\n",
       " '/html5lib/html5lib-python/commit/7facf987f52ad25b5cf9aa1fa76252ea04702777',\n",
       " '/html5lib/html5lib-python/blob/master/.coveragerc',\n",
       " '/html5lib/html5lib-python/commit/66a3f42444cb1d4d2cfa32f6d1d69243baa6a9fa',\n",
       " '/html5lib/html5lib-python/blob/master/.gitignore',\n",
       " '/html5lib/html5lib-python/commit/d3de97279d906c68bf82f6a827cd29cc8248e03b',\n",
       " '/html5lib/html5lib-python/blob/master/.gitmodules',\n",
       " '/html5lib/html5lib-python/commit/9fbd2e15788d181e1970c2479be5d189dbc7be92',\n",
       " '/html5lib/html5lib-python/blob/master/.prospector.yaml',\n",
       " '/html5lib/html5lib-python/commit/a2b8c110cd0c5c7d60573f2a86d951cabefc516b',\n",
       " '/html5lib/html5lib-python/blob/master/.pylintrc',\n",
       " '/html5lib/html5lib-python/commit/a2b8c110cd0c5c7d60573f2a86d951cabefc516b',\n",
       " '/html5lib/html5lib-python/blob/master/.pytest.expect',\n",
       " '/html5lib/html5lib-python/commit/f3f00e48c4baf859dfaf4bc90d3e90debf024194',\n",
       " '/html5lib/html5lib-python/blob/master/.travis.yml',\n",
       " '/html5lib/html5lib-python/commit/7f613b331c4299943403d8e12ccb51077e910205',\n",
       " 'https://github.com/html5lib/html5lib-python/pull/358',\n",
       " '/html5lib/html5lib-python/commit/7f613b331c4299943403d8e12ccb51077e910205',\n",
       " '/html5lib/html5lib-python/blob/master/AUTHORS.rst',\n",
       " '/html5lib/html5lib-python/commit/e8f93e9bfeab9016889b05e77eb141a8cce90196',\n",
       " '/html5lib/html5lib-python/blob/master/CHANGES.rst',\n",
       " '/html5lib/html5lib-python/commit/b4887f037e47857b4667106cc968ec91d1121140',\n",
       " '/html5lib/html5lib-python/blob/master/CONTRIBUTING.rst',\n",
       " '/html5lib/html5lib-python/commit/602bb84cb5e73c9ba2e263c8a8e1622d459b8a9c',\n",
       " '/html5lib/html5lib-python/blob/master/LICENSE',\n",
       " '/html5lib/html5lib-python/commit/d3b33f8b9b0b5c9baf92d096f21f914b4b7f47bb',\n",
       " '/html5lib/html5lib-python/blob/master/MANIFEST.in',\n",
       " '/html5lib/html5lib-python/commit/082c042082c78779ea47c746c77535944eec957e',\n",
       " '/html5lib/html5lib-python/blob/master/README.rst',\n",
       " '/html5lib/html5lib-python/commit/950ea0ec60970ba1c88bd9e35d8d85c2a1f318e4',\n",
       " 'https://github.com/html5lib/html5lib-python/pull/393',\n",
       " '/html5lib/html5lib-python/commit/950ea0ec60970ba1c88bd9e35d8d85c2a1f318e4',\n",
       " '/html5lib/html5lib-python/blob/master/debug-info.py',\n",
       " '/html5lib/html5lib-python/commit/3d0eaea85bc00a739e3910ef03316d4312ad84de',\n",
       " '/html5lib/html5lib-python/blob/master/flake8-run.sh',\n",
       " '/html5lib/html5lib-python/commit/823864882ee969ebb7c16986a80388d5785cb9ea',\n",
       " '/html5lib/html5lib-python/blob/master/parse.py',\n",
       " '/html5lib/html5lib-python/commit/c4dd6771836841ee796af8035dbf8239074ed5ec',\n",
       " '/html5lib/html5lib-python/blob/master/pytest.ini',\n",
       " '/html5lib/html5lib-python/commit/366ed48da6d6550661cb6d9dcd8d4d1a0b44c645',\n",
       " '/html5lib/html5lib-python/blob/master/requirements-install.sh',\n",
       " '/html5lib/html5lib-python/commit/74ebfc97a17a4e45a131c0cb70845714f1a8af5e',\n",
       " '/html5lib/html5lib-python/blob/master/requirements-optional.txt',\n",
       " '/html5lib/html5lib-python/commit/a137d14bfd8c6aca007d9dd3118b18e91ccf7fa5',\n",
       " '/html5lib/html5lib-python/blob/master/requirements-test.txt',\n",
       " '/html5lib/html5lib-python/commit/e17cf26c1c36befdce7da39aed1ead96fd0ad30e',\n",
       " '/html5lib/html5lib-python/blob/master/requirements.txt',\n",
       " '/html5lib/html5lib-python/commit/5f637af8edffd1c0bc3e9dcefa089edcfce9a255',\n",
       " 'https://github.com/html5lib/html5lib-python/pull/356',\n",
       " '/html5lib/html5lib-python/commit/5f637af8edffd1c0bc3e9dcefa089edcfce9a255',\n",
       " '/html5lib/html5lib-python/blob/master/setup.cfg',\n",
       " '/html5lib/html5lib-python/commit/0cae52b2073e3f2220db93a7650901f2200f2a13',\n",
       " 'https://github.com/html5lib/html5lib-python/pull/350',\n",
       " '/html5lib/html5lib-python/commit/0cae52b2073e3f2220db93a7650901f2200f2a13',\n",
       " '/html5lib/html5lib-python/blob/master/setup.py',\n",
       " '/html5lib/html5lib-python/commit/7f613b331c4299943403d8e12ccb51077e910205',\n",
       " 'https://github.com/html5lib/html5lib-python/pull/358',\n",
       " '/html5lib/html5lib-python/commit/7f613b331c4299943403d8e12ccb51077e910205',\n",
       " '/html5lib/html5lib-python/blob/master/tox.ini',\n",
       " '/html5lib/html5lib-python/commit/7f613b331c4299943403d8e12ccb51077e910205',\n",
       " 'https://github.com/html5lib/html5lib-python/pull/358',\n",
       " '/html5lib/html5lib-python/commit/7f613b331c4299943403d8e12ccb51077e910205',\n",
       " '#html5lib',\n",
       " 'https://travis-ci.org/html5lib/html5lib-python',\n",
       " '#usage',\n",
       " 'https://html5lib.readthedocs.io/',\n",
       " '#installation',\n",
       " '#optional-dependencies',\n",
       " '#bugs',\n",
       " 'https://github.com/html5lib/html5lib-python/issues',\n",
       " '#tests',\n",
       " 'https://github.com/html5lib/html5lib-tests',\n",
       " '#questions',\n",
       " 'http://groups.google.com/group/html5lib-discuss',\n",
       " 'http://wiki.whatwg.org/wiki/IRC',\n",
       " 'https://github.com/site/terms',\n",
       " 'https://github.com/site/privacy',\n",
       " 'https://help.github.com/articles/github-security/',\n",
       " 'https://status.github.com/',\n",
       " 'https://help.github.com',\n",
       " 'https://github.com',\n",
       " 'https://github.com/contact',\n",
       " 'https://github.com/pricing',\n",
       " 'https://developer.github.com',\n",
       " 'https://training.github.com',\n",
       " 'https://blog.github.com',\n",
       " 'https://github.com/about',\n",
       " '',\n",
       " '']"
      ]
     },
     "execution_count": 69,
     "metadata": {},
     "output_type": "execute_result"
    }
   ],
   "source": [
    "html.xpath(\".//a/@href\")"
   ]
  },
  {
   "cell_type": "code",
   "execution_count": 70,
   "metadata": {
    "scrolled": true
   },
   "outputs": [
    {
     "data": {
      "text/plain": [
       "[<Element form at 0x10c341098>,\n",
       " <Element form at 0x10c3503b8>,\n",
       " <Element form at 0x10c35f2c8>,\n",
       " <Element form at 0x10c35f3b8>,\n",
       " <Element form at 0x10c35f408>,\n",
       " <Element form at 0x10c35f458>,\n",
       " <Element form at 0x10c35f4a8>,\n",
       " <Element form at 0x10c35f4f8>,\n",
       " <Element form at 0x10c35f548>,\n",
       " <Element form at 0x10c35f598>]"
      ]
     },
     "execution_count": 70,
     "metadata": {},
     "output_type": "execute_result"
    }
   ],
   "source": [
    "html.xpath(\".//form\")"
   ]
  },
  {
   "cell_type": "code",
   "execution_count": 73,
   "metadata": {
    "scrolled": true
   },
   "outputs": [
    {
     "data": {
      "text/plain": [
       "['https://github.com/site/terms',\n",
       " 'https://github.com/site/privacy',\n",
       " 'https://help.github.com/articles/github-security/',\n",
       " 'https://status.github.com/',\n",
       " 'https://help.github.com',\n",
       " 'https://github.com',\n",
       " 'https://github.com/contact',\n",
       " 'https://github.com/pricing',\n",
       " 'https://developer.github.com',\n",
       " 'https://training.github.com',\n",
       " 'https://blog.github.com',\n",
       " 'https://github.com/about']"
      ]
     },
     "execution_count": 73,
     "metadata": {},
     "output_type": "execute_result"
    }
   ],
   "source": [
    "html.xpath(\".//div[@class='footer container-lg px-3']//a[@href]/@href\")"
   ]
  },
  {
   "cell_type": "code",
   "execution_count": 74,
   "metadata": {},
   "outputs": [
    {
     "name": "stdout",
     "output_type": "stream",
     "text": [
      "{'posts': [{'id': 1, 'title': 'json-server', 'author': 'typicode'}, {'title': 'dummy data', 'author': 'Chandrashekar', 'id': 4}, {'title': 'dummy data', 'author': 'Chandrashekar', 'id': 5}, {'title': 'sdfsdkfjsdlk fjskdlfj ', 'author': 'weiruweiruweiorw', 'id': 6}, {'title': 'sdfsdkfjsdlk fjskdlfj ', 'author': 'weiruweiruweiorw', 'id': 7}], 'comments': [{'id': 1, 'body': 'some comment', 'postId': 1}], 'profile': {'name': 'typicode'}}\n"
     ]
    }
   ],
   "source": [
    "import json\n",
    "with open(\"../db.json\") as json_file:\n",
    "    data = json.load(json_file)\n",
    "print(data)"
   ]
  },
  {
   "cell_type": "code",
   "execution_count": 76,
   "metadata": {},
   "outputs": [
    {
     "name": "stdout",
     "output_type": "stream",
     "text": [
      "{'name': 'Jonathan', 'logged_in': False, 'roles': None, 'hosts': ['host1', 'host2']}\n"
     ]
    }
   ],
   "source": [
    "json_string = \"\"\"\n",
    "{\n",
    "    \"name\": \"Jonathan\",\n",
    "    \"logged_in\": false,\n",
    "    \"roles\": null,\n",
    "    \"hosts\": [\"host1\", \"host2\"]\n",
    "}\n",
    "\n",
    "\"\"\"\n",
    "\n",
    "result = json.loads(json_string)\n",
    "print(result)"
   ]
  },
  {
   "cell_type": "code",
   "execution_count": 85,
   "metadata": {},
   "outputs": [
    {
     "name": "stdout",
     "output_type": "stream",
     "text": [
      "<link href=\"https://assets-cdn.github.com\" rel=\"dns-prefetch\"/>\n"
     ]
    }
   ],
   "source": [
    "from bs4 import BeautifulSoup\n",
    "\n",
    "with open(\"github.html\") as infile:\n",
    "    soup = BeautifulSoup(infile.read(), \"lxml\")\n",
    "l = soup.head.link\n",
    "print(l)"
   ]
  },
  {
   "cell_type": "code",
   "execution_count": 101,
   "metadata": {},
   "outputs": [
    {
     "data": {
      "text/plain": [
       "<link crossorigin=\"anonymous\" href=\"https://assets-cdn.github.com/assets/frameworks-5aa6d9885579bb2359f66266aee26f3b.css\" integrity=\"sha512-FCg44VGg5ax/5MpZ8otwiPE+/tG1/Sq67mKkl6agbqgoScZtJyXhQSFQMIJfOHMZZ+yXDINb8nEiws60SiLohg==\" media=\"all\" rel=\"stylesheet\"/>"
      ]
     },
     "execution_count": 101,
     "metadata": {},
     "output_type": "execute_result"
    }
   ],
   "source": [
    "l = l.next_sibling"
   ]
  },
  {
   "cell_type": "code",
   "execution_count": 112,
   "metadata": {},
   "outputs": [
    {
     "data": {
      "text/plain": [
       "['HTML_FORMATTERS',\n",
       " 'XML_FORMATTERS',\n",
       " '__bool__',\n",
       " '__call__',\n",
       " '__class__',\n",
       " '__contains__',\n",
       " '__copy__',\n",
       " '__delattr__',\n",
       " '__delitem__',\n",
       " '__dict__',\n",
       " '__dir__',\n",
       " '__doc__',\n",
       " '__eq__',\n",
       " '__format__',\n",
       " '__ge__',\n",
       " '__getattr__',\n",
       " '__getattribute__',\n",
       " '__getitem__',\n",
       " '__gt__',\n",
       " '__hash__',\n",
       " '__init__',\n",
       " '__init_subclass__',\n",
       " '__iter__',\n",
       " '__le__',\n",
       " '__len__',\n",
       " '__lt__',\n",
       " '__module__',\n",
       " '__ne__',\n",
       " '__new__',\n",
       " '__reduce__',\n",
       " '__reduce_ex__',\n",
       " '__repr__',\n",
       " '__setattr__',\n",
       " '__setitem__',\n",
       " '__sizeof__',\n",
       " '__str__',\n",
       " '__subclasshook__',\n",
       " '__unicode__',\n",
       " '__weakref__',\n",
       " '_all_strings',\n",
       " '_attr_value_as_string',\n",
       " '_attribute_checker',\n",
       " '_find_all',\n",
       " '_find_one',\n",
       " '_formatter_for_name',\n",
       " '_is_xml',\n",
       " '_lastRecursiveChild',\n",
       " '_last_descendant',\n",
       " '_select_debug',\n",
       " '_selector_combinators',\n",
       " '_should_pretty_print',\n",
       " '_tag_name_matches_and',\n",
       " 'append',\n",
       " 'attribselect_re',\n",
       " 'attrs',\n",
       " 'can_be_empty_element',\n",
       " 'childGenerator',\n",
       " 'children',\n",
       " 'clear',\n",
       " 'contents',\n",
       " 'decode',\n",
       " 'decode_contents',\n",
       " 'decompose',\n",
       " 'descendants',\n",
       " 'encode',\n",
       " 'encode_contents',\n",
       " 'extract',\n",
       " 'fetchNextSiblings',\n",
       " 'fetchParents',\n",
       " 'fetchPrevious',\n",
       " 'fetchPreviousSiblings',\n",
       " 'find',\n",
       " 'findAll',\n",
       " 'findAllNext',\n",
       " 'findAllPrevious',\n",
       " 'findChild',\n",
       " 'findChildren',\n",
       " 'findNext',\n",
       " 'findNextSibling',\n",
       " 'findNextSiblings',\n",
       " 'findParent',\n",
       " 'findParents',\n",
       " 'findPrevious',\n",
       " 'findPreviousSibling',\n",
       " 'findPreviousSiblings',\n",
       " 'find_all',\n",
       " 'find_all_next',\n",
       " 'find_all_previous',\n",
       " 'find_next',\n",
       " 'find_next_sibling',\n",
       " 'find_next_siblings',\n",
       " 'find_parent',\n",
       " 'find_parents',\n",
       " 'find_previous',\n",
       " 'find_previous_sibling',\n",
       " 'find_previous_siblings',\n",
       " 'format_string',\n",
       " 'get',\n",
       " 'getText',\n",
       " 'get_text',\n",
       " 'has_attr',\n",
       " 'has_key',\n",
       " 'hidden',\n",
       " 'index',\n",
       " 'insert',\n",
       " 'insert_after',\n",
       " 'insert_before',\n",
       " 'isSelfClosing',\n",
       " 'is_empty_element',\n",
       " 'known_xml',\n",
       " 'name',\n",
       " 'namespace',\n",
       " 'next',\n",
       " 'nextGenerator',\n",
       " 'nextSibling',\n",
       " 'nextSiblingGenerator',\n",
       " 'next_element',\n",
       " 'next_elements',\n",
       " 'next_sibling',\n",
       " 'next_siblings',\n",
       " 'parent',\n",
       " 'parentGenerator',\n",
       " 'parents',\n",
       " 'parserClass',\n",
       " 'parser_class',\n",
       " 'prefix',\n",
       " 'preserve_whitespace_tags',\n",
       " 'prettify',\n",
       " 'previous',\n",
       " 'previousGenerator',\n",
       " 'previousSibling',\n",
       " 'previousSiblingGenerator',\n",
       " 'previous_element',\n",
       " 'previous_elements',\n",
       " 'previous_sibling',\n",
       " 'previous_siblings',\n",
       " 'quoted_colon',\n",
       " 'recursiveChildGenerator',\n",
       " 'renderContents',\n",
       " 'replaceWith',\n",
       " 'replaceWithChildren',\n",
       " 'replace_with',\n",
       " 'replace_with_children',\n",
       " 'select',\n",
       " 'select_one',\n",
       " 'setup',\n",
       " 'string',\n",
       " 'strings',\n",
       " 'stripped_strings',\n",
       " 'tag_name_re',\n",
       " 'text',\n",
       " 'unwrap',\n",
       " 'wrap']"
      ]
     },
     "execution_count": 112,
     "metadata": {},
     "output_type": "execute_result"
    }
   ],
   "source": [
    "soup.select(\"a [href]\")\n",
    "dir(l)"
   ]
  },
  {
   "cell_type": "code",
   "execution_count": 113,
   "metadata": {},
   "outputs": [
    {
     "name": "stdout",
     "output_type": "stream",
     "text": [
      "<http.client.HTTPResponse object at 0x10ddf8438> 200\n"
     ]
    }
   ],
   "source": [
    "from urllib.request import urlopen\n",
    "\n",
    "response = urlopen(\"http://www.chandrashekar.info/\")\n",
    "print(response, response.code)"
   ]
  },
  {
   "cell_type": "code",
   "execution_count": 115,
   "metadata": {
    "scrolled": true
   },
   "outputs": [
    {
     "name": "stdout",
     "output_type": "stream",
     "text": [
      "Date Fri, 07 Jun 2019 08:11:00 GMT\n",
      "Server Apache\n",
      "Expires Sun, 19 Nov 1978 05:00:00 GMT\n",
      "Cache-Control no-cache, must-revalidate, post-check=0, pre-check=0\n",
      "Content-Language en\n",
      "X-Generator Drupal 7 (http://drupal.org)\n",
      "Upgrade h2\n",
      "Connection Upgrade, close\n",
      "Last-Modified Fri, 07 Jun 2019 08:11:00 GMT\n",
      "ETag \"1559895060\"\n",
      "Transfer-Encoding chunked\n",
      "Content-Type text/html; charset=utf-8\n"
     ]
    }
   ],
   "source": [
    "for k, v in response.headers.items():\n",
    "    print(k, v)"
   ]
  },
  {
   "cell_type": "code",
   "execution_count": 116,
   "metadata": {},
   "outputs": [
    {
     "data": {
      "text/plain": [
       "b'<!DOCTYPE html>\\n<!--[if IEMobile 7]><html class=\"iem7\" lang=\"en\" dir=\"ltr\"><![endif]-->\\n<!--[if (lte IE 6)&(!IEMobile)]><html class=\"ie6 ie6-7 ie6-8\" lang=\"en\" dir=\"ltr\"><![endif]-->\\n<!--[if (IE 7)&(!IEMobile)]><html class=\"ie7 ie6-7 ie6-8\" lang=\"en\" dir=\"ltr\"><![endif]-->\\n<!--[if (IE 8)&(!IEMobile)]><html class=\"ie8 ie6-8\" lang=\"en\" dir=\"ltr\"><![endif]-->\\n<!--[if (gte IE 9)|(gt IEMobile 7)]><!--><html lang=\"en\" dir=\"ltr\"\\n  xmlns:content=\"http://purl.org/rss/1.0/modules/content/\"\\n  xmlns:dc=\"http://purl.org/dc/terms/\"\\n  xmlns:foaf=\"http://xmlns.com/foaf/0.1/\"\\n  xmlns:og=\"http://ogp.me/ns#\"\\n  xmlns:rdfs=\"http://www.w3.org/2000/01/rdf-schema#\"\\n  xmlns:sioc=\"http://rdfs.org/sioc/ns#\"\\n  xmlns:sioct=\"http://rdfs.org/sioc/types#\"\\n  xmlns:skos=\"http://www.w3.org/2004/02/skos/core#\"\\n  xmlns:xsd=\"http://www.w3.org/2001/XMLSchema#\"><!--<![endif]-->\\n<head>\\n<meta charset=\"utf-8\" />\\n<link rel=\"alternate\" type=\"application/rss+xml\" title=\"Chandrashekar Babu RSS\" href=\"http://www.chandrashekar.info/rss.xml\" />\\n<meta name=\"Generator\" content=\"Drupal 7 (http://drupal.org)\" />\\n<meta name=\"viewport\" content=\"width=device-width, initial-scale=1\">\\n<meta name=\"MobileOptimized\" content=\"width\">\\n<meta name=\"HandheldFriendly\" content=\"true\">\\n<meta name=\"apple-mobile-web-app-capable\" content=\"yes\">\\n<meta http-equiv=\"cleartype\" content=\"on\">\\n<meta http-equiv=\"X-UA-Compatible\" content=\"IE=edge, chrome=1\">\\n<title>Chandrashekar Babu | Experienced FOSS Technologist and Corporate Trainer</title>\\n<style>@import url(\"http://www.chandrashekar.info/modules/system/system.base.css?mcppxf\");\\n@import url(\"http://www.chandrashekar.info/modules/system/system.menus.css?mcppxf\");\\n@import url(\"http://www.chandrashekar.info/modules/system/system.messages.css?mcppxf\");\\n@import url(\"http://www.chandrashekar.info/modules/system/system.theme.css?mcppxf\");</style>\\n<style>@import url(\"http://www.chandrashekar.info/modules/aggregator/aggregator.css?mcppxf\");\\n@import url(\"http://www.chandrashekar.info/modules/comment/comment.css?mcppxf\");\\n@import url(\"http://www.chandrashekar.info/sites/all/modules/date/date_api/date.css?mcppxf\");\\n@import url(\"http://www.chandrashekar.info/sites/all/modules/date/date_popup/themes/datepicker.1.7.css?mcppxf\");\\n@import url(\"http://www.chandrashekar.info/sites/all/modules/date/date_repeat_field/date_repeat_field.css?mcppxf\");\\n@import url(\"http://www.chandrashekar.info/modules/field/theme/field.css?mcppxf\");\\n@import url(\"http://www.chandrashekar.info/modules/node/node.css?mcppxf\");\\n@import url(\"http://www.chandrashekar.info/modules/search/search.css?mcppxf\");\\n@import url(\"http://www.chandrashekar.info/modules/user/user.css?mcppxf\");\\n@import url(\"http://www.chandrashekar.info/sites/all/modules/views/css/views.css?mcppxf\");</style>\\n<style>@import url(\"http://www.chandrashekar.info/sites/all/modules/ckeditor/ckeditor.css?mcppxf\");\\n@import url(\"http://www.chandrashekar.info/sites/all/modules/ctools/css/ctools.css?mcppxf\");\\n@import url(\"http://www.chandrashekar.info/sites/all/libraries/syntaxhighlighter_3.0.83/styles/shCore.css?mcppxf\");\\n@import url(\"http://www.chandrashekar.info/sites/all/libraries/syntaxhighlighter_3.0.83/styles/shThemeDefault.css?mcppxf\");</style>\\n<style>body.bf-gwf-ubuntu,.bf-gwf-ubuntu .form-text{font-family:\\'Ubuntu\\'}\\nbody.snf-gwf-ubuntu #site-name{font-family :\\'Ubuntu\\'}\\nbody.ssf-gwf-ubuntu-condensed #site-slogan{font-family:\\'Ubuntu Condensed\\'}\\nbody.ptf-gwf-ubuntu-condensed #page-title{font-family:\\'Ubuntu Condensed\\'}\\nbody.ntf-gwf-ubuntu-condensed .article-title{font-family:\\'Ubuntu Condensed\\'}\\nbody.ctf-gwf-abel .comment-title{font-family:\\'Abel\\'}\\nbody.btf-gwf-abel .block-title{font-family:\\'Abel\\'}\\n</style>\\n<style>@import url(\"http://www.chandrashekar.info/sites/all/themes/adaptivetheme/adaptivetheme/css/at.base.css?mcppxf\");\\n@import url(\"http://www.chandrashekar.info/sites/all/themes/adaptivetheme/adaptivetheme/css/at.layout.css?mcppxf\");\\n@import url(\"http://www.chandrashekar.info/sites/all/themes/adaptivetheme/adaptivetheme/css/at.messages.css?mcppxf\");\\n@import url(\"http://www.chandrashekar.info/sites/default/files/color/pixture_reloaded-146a6f0f/colors.css?mcppxf\");\\n@import url(\"http://www.chandrashekar.info/sites/all/themes/pixture_reloaded/css/pixture_reloaded.css?mcppxf\");\\n@import url(\"http://www.chandrashekar.info/sites/all/themes/pixture_reloaded/css/pixture_reloaded.settings.style.css?mcppxf\");</style>\\n<link type=\"text/css\" rel=\"stylesheet\" href=\"http://www.chandrashekar.info/sites/all/themes/pixture_reloaded/css/pixture_reloaded.responsive.style.css?mcppxf\" media=\"all\" />\\n<link type=\"text/css\" rel=\"stylesheet\" href=\"http://www.chandrashekar.info/sites/all/themes/pixture_reloaded/css/pixture_reloaded.responsive.gpanels.css?mcppxf\" media=\"all\" />\\n<link type=\"text/css\" rel=\"stylesheet\" href=\"http://www.chandrashekar.info/sites/default/files/at_css/pixture_reloaded.responsive.layout.css?mcppxf\" media=\"all\" />\\n<link type=\"text/css\" rel=\"stylesheet\" href=\"//fonts.googleapis.com/css?family=Ubuntu|Ubuntu+Condensed|Abel\" media=\"all\" />\\n\\n<!--[if lt IE 9]>\\n<link type=\"text/css\" rel=\"stylesheet\" href=\"http://www.chandrashekar.info/sites/default/files/at_css/pixture_reloaded.lt-ie9.layout.css?mcppxf\" media=\"all\" />\\n<![endif]-->\\n<script src=\"http://www.chandrashekar.info/misc/jquery.js?v=1.4.4\"></script>\\n<script src=\"http://www.chandrashekar.info/misc/jquery.once.js?v=1.2\"></script>\\n<script src=\"http://www.chandrashekar.info/misc/drupal.js?mcppxf\"></script>\\n<script src=\"http://www.chandrashekar.info/sites/all/libraries/syntaxhighlighter_3.0.83/scripts/shCore.js?mcppxf\"></script>\\n<script src=\"http://www.chandrashekar.info/sites/all/libraries/syntaxhighlighter_3.0.83/scripts/shBrushBash.js?mcppxf\"></script>\\n<script src=\"http://www.chandrashekar.info/sites/all/libraries/syntaxhighlighter_3.0.83/scripts/shBrushCpp.js?mcppxf\"></script>\\n<script src=\"http://www.chandrashekar.info/sites/all/libraries/syntaxhighlighter_3.0.83/scripts/shBrushCss.js?mcppxf\"></script>\\n<script src=\"http://www.chandrashekar.info/sites/all/libraries/syntaxhighlighter_3.0.83/scripts/shBrushDiff.js?mcppxf\"></script>\\n<script src=\"http://www.chandrashekar.info/sites/all/libraries/syntaxhighlighter_3.0.83/scripts/shBrushGroovy.js?mcppxf\"></script>\\n<script src=\"http://www.chandrashekar.info/sites/all/libraries/syntaxhighlighter_3.0.83/scripts/shBrushJava.js?mcppxf\"></script>\\n<script src=\"http://www.chandrashekar.info/sites/all/libraries/syntaxhighlighter_3.0.83/scripts/shBrushPerl.js?mcppxf\"></script>\\n<script src=\"http://www.chandrashekar.info/sites/all/libraries/syntaxhighlighter_3.0.83/scripts/shBrushPhp.js?mcppxf\"></script>\\n<script src=\"http://www.chandrashekar.info/sites/all/libraries/syntaxhighlighter_3.0.83/scripts/shBrushPython.js?mcppxf\"></script>\\n<script src=\"http://www.chandrashekar.info/sites/all/libraries/syntaxhighlighter_3.0.83/scripts/shBrushRuby.js?mcppxf\"></script>\\n<script src=\"http://www.chandrashekar.info/sites/all/libraries/syntaxhighlighter_3.0.83/scripts/shBrushSql.js?mcppxf\"></script>\\n<script src=\"http://www.chandrashekar.info/sites/all/libraries/syntaxhighlighter_3.0.83/scripts/shBrushXml.js?mcppxf\"></script>\\n<script>jQuery.extend(Drupal.settings, {\"basePath\":\"\\\\/\",\"pathPrefix\":\"\",\"ajaxPageState\":{\"theme\":\"pixture_reloaded\",\"theme_token\":\"Kc1cZh-d44cnDJwBITZpZGoM8h6CIs-Hpf-XyJ0lIDM\",\"js\":{\"sites\\\\/all\\\\/modules\\\\/syntaxhighlighter\\\\/syntaxhighlighter.min.js\":1,\"misc\\\\/jquery.js\":1,\"misc\\\\/jquery.once.js\":1,\"misc\\\\/drupal.js\":1,\"sites\\\\/all\\\\/libraries\\\\/syntaxhighlighter_3.0.83\\\\/scripts\\\\/shCore.js\":1,\"sites\\\\/all\\\\/libraries\\\\/syntaxhighlighter_3.0.83\\\\/scripts\\\\/shBrushBash.js\":1,\"sites\\\\/all\\\\/libraries\\\\/syntaxhighlighter_3.0.83\\\\/scripts\\\\/shBrushCpp.js\":1,\"sites\\\\/all\\\\/libraries\\\\/syntaxhighlighter_3.0.83\\\\/scripts\\\\/shBrushCss.js\":1,\"sites\\\\/all\\\\/libraries\\\\/syntaxhighlighter_3.0.83\\\\/scripts\\\\/shBrushDiff.js\":1,\"sites\\\\/all\\\\/libraries\\\\/syntaxhighlighter_3.0.83\\\\/scripts\\\\/shBrushGroovy.js\":1,\"sites\\\\/all\\\\/libraries\\\\/syntaxhighlighter_3.0.83\\\\/scripts\\\\/shBrushJava.js\":1,\"sites\\\\/all\\\\/libraries\\\\/syntaxhighlighter_3.0.83\\\\/scripts\\\\/shBrushPerl.js\":1,\"sites\\\\/all\\\\/libraries\\\\/syntaxhighlighter_3.0.83\\\\/scripts\\\\/shBrushPhp.js\":1,\"sites\\\\/all\\\\/libraries\\\\/syntaxhighlighter_3.0.83\\\\/scripts\\\\/shBrushPython.js\":1,\"sites\\\\/all\\\\/libraries\\\\/syntaxhighlighter_3.0.83\\\\/scripts\\\\/shBrushRuby.js\":1,\"sites\\\\/all\\\\/libraries\\\\/syntaxhighlighter_3.0.83\\\\/scripts\\\\/shBrushSql.js\":1,\"sites\\\\/all\\\\/libraries\\\\/syntaxhighlighter_3.0.83\\\\/scripts\\\\/shBrushXml.js\":1},\"css\":{\"modules\\\\/system\\\\/system.base.css\":1,\"modules\\\\/system\\\\/system.menus.css\":1,\"modules\\\\/system\\\\/system.messages.css\":1,\"modules\\\\/system\\\\/system.theme.css\":1,\"modules\\\\/aggregator\\\\/aggregator.css\":1,\"modules\\\\/comment\\\\/comment.css\":1,\"sites\\\\/all\\\\/modules\\\\/date\\\\/date_api\\\\/date.css\":1,\"sites\\\\/all\\\\/modules\\\\/date\\\\/date_popup\\\\/themes\\\\/datepicker.1.7.css\":1,\"sites\\\\/all\\\\/modules\\\\/date\\\\/date_repeat_field\\\\/date_repeat_field.css\":1,\"modules\\\\/field\\\\/theme\\\\/field.css\":1,\"modules\\\\/node\\\\/node.css\":1,\"modules\\\\/search\\\\/search.css\":1,\"modules\\\\/user\\\\/user.css\":1,\"sites\\\\/all\\\\/modules\\\\/views\\\\/css\\\\/views.css\":1,\"sites\\\\/all\\\\/modules\\\\/ckeditor\\\\/ckeditor.css\":1,\"sites\\\\/all\\\\/modules\\\\/ctools\\\\/css\\\\/ctools.css\":1,\"sites\\\\/all\\\\/libraries\\\\/syntaxhighlighter_3.0.83\\\\/styles\\\\/shCore.css\":1,\"sites\\\\/all\\\\/libraries\\\\/syntaxhighlighter_3.0.83\\\\/styles\\\\/shThemeDefault.css\":1,\"0\":1,\"1\":1,\"2\":1,\"3\":1,\"4\":1,\"5\":1,\"6\":1,\"sites\\\\/all\\\\/themes\\\\/adaptivetheme\\\\/adaptivetheme\\\\/css\\\\/at.base.css\":1,\"sites\\\\/all\\\\/themes\\\\/adaptivetheme\\\\/adaptivetheme\\\\/css\\\\/at.layout.css\":1,\"sites\\\\/all\\\\/themes\\\\/adaptivetheme\\\\/adaptivetheme\\\\/css\\\\/at.messages.css\":1,\"sites\\\\/all\\\\/themes\\\\/pixture_reloaded\\\\/color\\\\/colors.css\":1,\"sites\\\\/all\\\\/themes\\\\/pixture_reloaded\\\\/css\\\\/pixture_reloaded.css\":1,\"sites\\\\/all\\\\/themes\\\\/pixture_reloaded\\\\/css\\\\/pixture_reloaded.settings.style.css\":1,\"sites\\\\/all\\\\/themes\\\\/pixture_reloaded\\\\/css\\\\/pixture_reloaded.responsive.style.css\":1,\"sites\\\\/all\\\\/themes\\\\/pixture_reloaded\\\\/css\\\\/pixture_reloaded.responsive.gpanels.css\":1,\"public:\\\\/\\\\/at_css\\\\/pixture_reloaded.responsive.layout.css\":1,\"\\\\/\\\\/fonts.googleapis.com\\\\/css?family=Ubuntu|Ubuntu+Condensed|Abel\":1,\"public:\\\\/\\\\/at_css\\\\/pixture_reloaded.lt-ie9.layout.css\":1}}});</script>\\n<!--[if lt IE 9]>\\n<script src=\"//html5shiv.googlecode.com/svn/trunk/html5.js\"></script>\\n<![endif]-->\\n</head>\\n<body class=\"html front not-logged-in one-sidebar sidebar-first page-node site-name-chandrashekar-babu color-scheme-teal pixture-reloaded fs-medium bs-l bb-g mb-dd mbp-r rc-4 ia-r bf-gwf-ubuntu snf-gwf-ubuntu ssf-gwf-ubuntu-condensed ptf-gwf-ubuntu-condensed ntf-gwf-ubuntu-condensed ctf-gwf-abel btf-gwf-abel hs-caps hs-ts\">\\n  <div id=\"skip-link\">\\n    <a href=\"#main-content\" class=\"element-invisible element-focusable\">Skip to main content</a>\\n  </div>\\n    <div class=\"texture-overlay\">\\n  <div id=\"page\" class=\"container\">\\n\\n    <header id=\"header\" class=\"clearfix\" role=\"banner\">\\n      <div class=\"header-inner clearfix\">\\n        <div id=\"branding\">\\n                                <hgroup>\\n                              <h1 id=\"site-name\"><a href=\"/\" title=\"Home page\" class=\"active\">Chandrashekar Babu</a></h1>\\n                                            <h2 id=\"site-slogan\">Experienced FOSS Technologist and Corporate Trainer</h2>\\n                          </hgroup>\\n                  </div>\\n         <!-- /header region -->\\n      </div>\\n    </header> <!-- /header -->\\n\\n      <div id=\"menu-bar\" class=\"nav clearfix\">\\n      <nav id=\"block-system-main-menu\" class=\"block block-system block-menu block-odd block-count-1 block-region-menu-bar menu-wrapper clearfix\">\\n              <h2 class=\"block-title element-invisible\">Main menu</h2>\\n            <ul class=\"menu clearfix\"><li class=\"first leaf menu-item-218\"><a href=\"/\" class=\"active\">Home</a></li><li class=\"leaf menu-item-378\"><a href=\"/about\" title=\"Know more about me\">About</a></li><li class=\"leaf menu-item-532\"><a href=\"/training.html\">Training</a></li><li class=\"leaf menu-item-540\"><a href=\"/training-calendar.html\">Calendar</a></li><li class=\"leaf menu-item-539\"><a href=\"/corporate-training-profile.html\">Profile</a></li><li class=\"leaf menu-item-536\"><a href=\"/articles.html\">Articles</a></li><li class=\"leaf menu-item-537\"><a href=\"/code-vault.html\">Code Vault</a></li><li class=\"leaf menu-item-538\"><a href=\"/random-thoughts.html\">Random Thoughts</a></li><li class=\"leaf menu-item-737\"><a href=\"http://www.chandrashekar.info/workshops\" title=\"Training workshop and open-house schedule\">Workshops</a></li><li class=\"leaf menu-item-541\"><a href=\"/links.html\">Bookmarks</a></li><li class=\"last leaf menu-item-535\"><a href=\"/contact.html\" title=\"Contact me\">Contact</a></li></ul>  </nav>\\n  </div>\\n <!-- /menu bar -->\\n\\n     <!-- /message -->\\n     <!-- /help -->\\n\\n    \\n     <!-- /secondary-content -->\\n\\n    <!-- Three column 3x33 Gpanel -->\\n    \\n    <div id=\"columns\"><div class=\"columns-inner clearfix\">\\n      <div id=\"content-column\"><div class=\"content-inner\">\\n\\n         <!-- /highlight -->\\n\\n                <div id=\"main-content\" role=\"main\">\\n\\n                              \\n            <div class=\"region region-content\">\\n    <div id=\"block-system-main\" class=\"block block-system block-odd block-count-2 block-region-content\">\\n  <div class=\"block-inner clearfix\">\\n                <div class=\"block-content content\">\\n      <article id=\"article-13\" class=\"article article-front-page-content article-promoted article-sticky article-teaser odd clearfix\" about=\"//\" typeof=\"sioc:Item foaf:Document\" role=\"article\">\\n\\n  \\n        <header>\\n              <h1 property=\"dc:title\" datatype=\"\" class=\"article-title\">\\n          <a href=\"//\" rel=\"bookmark\">Sharing the light of Software Freedom since 1997</a>\\n        </h1>\\n          </header>\\n    \\n  \\n  <div class=\"article-content\">\\n  <div class=\"field field-name-body field-type-text-with-summary field-label-hidden view-mode-teaser\"><div class=\"field-items\"><div class=\"field-item even\" property=\"content:encoded\"><p>Hi!<br />\\nWelcome to my personal web-site - a place on the World-Wide-Web where I share information about myself, my experience and knowledge on FOSS related technologies. </p>\\n<p>I am a FOSS technologist with passion for training. I started my career as a computer hardware and networking instructor at a computer hardware institute back in 1995 and have since, progressed to diverse roles in various IT companies. Since 2003, I have been working as an independent FOSS technologist with focus on training and consulting for various technologies that revolve around GNU/Linux and BSD operating systems. I have been conducting corporate training programs for various organizations on technologies that include Perl, Python, Ruby, PHP, Tcl/Tk, C, Java, Groovy, Haskell, Scala, Rails, Django, CodeIgniter, Kohana, Grails, Drupal, LAMP stacks, Apache Web Server Administration, Apache Tomcat Administration, Linux Administration, MySQL and MariaDB Administration, PostgreSQL Administration, Linux System Programming, Linux Kernel Internals and Debugging, Linux Security, OOAD and UML, Design Patterns, Agile Software Methodologies and SCRUM, Client-side web technologies (XHTML, HTML5, CSS2/CSS3, JavaScript, JQuery, Dojo, ExtJS, XML, JSON, W3C DOM) and <a href=\"about.html\">more...</a></p>\\n<p>Currently, I also manage <a href=\"http://www.slashprog.com/\">Slashprog Technologies</a> - an software consultancy and technology solutions firm co-founded by me. At Slashprog, we are currently developing products for Internet business verticals. I also train fresher computer science graduates and engage suitable candidates on my projects.</p>\\n<p>I have been a FOSS technology enthusiast after my first encounter with GNU/Linux sometime during 1995. Since then, I\\'ve managed to learn various technologies that range from system programming, databases, web application development, enterprise application frameworks in the FOSS ecosystem. My colleagues and clients have known me as the <i>polyglot developer</i> and <i>Jack of all tools</i> on FOSS. </p>\\n<p>I am passionate about two things in life - </p>\\n<ol><li>Learn new technologies and understand how they work together</li>\\n<li>Train and enlighten others on what I learn - this helps me learn more, keep me motivated and also gives me the joy and satisfaction of achievement.</li>\\n</ol><p>I spend most of my free time exploring new technologies and learning them. Though I\\'m lazy at documenting what I learn, this website should be serve as my sincere effort to collate my knowledge at one place. </p>\\n<p>If you are a programmer/engineer, you might be interested in the <a href=\"/articles.html\">articles section</a> and the <a href=\"/code-vault.html\">code vault</a> section.</p>\\n<p>If you are a training vendor or an organization seeking my corporate training services, you might be interested in the <a href=\"/training.html&gt;training section&lt;/a&gt; and also my &lt;a href=\">training calendar</a>.</p>\\n<p>You can might also be interested in reading my views on various other non technology aspects of life by looking up  <a href=\"/random-thoughts.html\">my random thoughts</a>.</p>\\n</div></div></div>\\n  </div>\\n\\n      <nav class=\"clearfix\"><ul class=\"links inline\"><li class=\"node-readmore first\"><a href=\"//\" rel=\"tag\" title=\"Sharing the light of Software Freedom since 1997\">Read more<span class=\"element-invisible\"> about Sharing the light of Software Freedom since 1997</span></a></li><li class=\"sharethis last\"><span class=\"sharethis-buttons\"><div class=\"sharethis-wrapper\"><span st_url=\"http://www.chandrashekar.info/node/13\" st_title=\"Sharing the light of Software Freedom since 1997 @chandrashekar_b\" class=\"st_twitter_hcount\" displaytext=\"twitter\"></span>\\n<span st_url=\"http://www.chandrashekar.info/node/13\" st_title=\"Sharing the light of Software Freedom since 1997\" class=\"st_linkedin_hcount\" displaytext=\"linkedin\"></span>\\n<span st_url=\"http://www.chandrashekar.info/node/13\" st_title=\"Sharing the light of Software Freedom since 1997\" class=\"st_googleplus_hcount\" displaytext=\"googleplus\"></span>\\n<span st_url=\"http://www.chandrashekar.info/node/13\" st_title=\"Sharing the light of Software Freedom since 1997\" class=\"st_facebook_hcount\" displaytext=\"facebook\"></span>\\n<span st_url=\"http://www.chandrashekar.info/node/13\" st_title=\"Sharing the light of Software Freedom since 1997\" class=\"st_sharethis_hcount\" displaytext=\"sharethis\"></span>\\n<script type=\\'text/javascript\\'>var switchTo5x = true;</script><script type=\\'text/javascript\\' src=\\'http://w.sharethis.com/button/buttons.js\\'></script><script type=\\'text/javascript\\'>stLight.options({\"publisher\":\"dr-d1d6cfd0-716c-a177-4e31-cabe602d59cd\"});</script></div></span></li></ul></nav>\\n  \\n  \\n</article>\\n<h2 class=\"element-invisible\">Pages</h2><div class=\"item-list\"><ul class=\"pager\"><li class=\"pager-current even first\">1</li><li class=\"pager-item odd\"><a title=\"Go to page 2\" href=\"/node?page=1\">2</a></li><li class=\"pager-item even\"><a title=\"Go to page 3\" href=\"/node?page=2\">3</a></li><li class=\"pager-item odd\"><a title=\"Go to page 4\" href=\"/node?page=3\">4</a></li><li class=\"pager-item even\"><a title=\"Go to page 5\" href=\"/node?page=4\">5</a></li><li class=\"pager-item odd\"><a title=\"Go to page 6\" href=\"/node?page=5\">6</a></li><li class=\"pager-item even\"><a title=\"Go to page 7\" href=\"/node?page=6\">7</a></li><li class=\"pager-item odd\"><a title=\"Go to page 8\" href=\"/node?page=7\">8</a></li><li class=\"pager-item even\"><a title=\"Go to page 9\" href=\"/node?page=8\">9</a></li><li class=\"pager-ellipsis odd\">\\xe2\\x80\\xa6</li><li class=\"pager-next even\"><a title=\"Go to next page\" href=\"/node?page=1\">next \\xe2\\x80\\xba</a></li><li class=\"pager-last odd last\"><a title=\"Go to last page\" href=\"/node?page=49\">last \\xc2\\xbb</a></li></ul></div>    </div>\\n  </div>\\n</div>\\n  </div>\\n <!-- /content -->\\n\\n          <a href=\"/rss.xml\" class=\"feed-icon\" title=\"Subscribe to Chandrashekar Babu RSS\"><img typeof=\"foaf:Image\" src=\"http://www.chandrashekar.info/misc/feed.png\" width=\"16\" height=\"16\" alt=\"Subscribe to Chandrashekar Babu RSS\" /></a> <!-- /feed icons -->\\n\\n        </div> <!-- /main-content -->\\n\\n         <!-- /content-aside -->\\n\\n      </div></div> <!-- /content-column -->\\n\\n        <div class=\"region region-sidebar-first sidebar\">\\n    <section id=\"block-node-recent\" class=\"block block-node block-odd block-count-3 block-region-sidebar-first\">\\n  <div class=\"block-inner clearfix\">\\n              <h2 class=\"block-title\">Recent content</h2>\\n            <div class=\"block-content content\">\\n      <table>\\n<tbody>\\n <tr class=\"odd\"><td class=\"title-author\"><div class=\"node-title\"><a href=\"/node/151\">A new blog from RoboBrowser - 2018 Oct 10th - Chandrashekar</a></div><div class=\"node-author\"><span class=\"username\" xml:lang=\"\" about=\"/user/16\" typeof=\"sioc:UserAccount\" property=\"foaf:name\">testuser</span></div></td><td class=\"edit\"></td><td class=\"delete\"></td> </tr>\\n <tr class=\"even\"><td class=\"title-author\"><div class=\"node-title\"><a href=\"/node/150\">A test blog posted manually on Oct 10th - chandrashekar</a></div><div class=\"node-author\"><span class=\"username\" xml:lang=\"\" about=\"/user/16\" typeof=\"sioc:UserAccount\" property=\"foaf:name\">testuser</span></div></td><td class=\"edit\"></td><td class=\"delete\"></td> </tr>\\n <tr class=\"odd\"><td class=\"title-author\"><div class=\"node-title\"><a href=\"/node/149\">This is a test Title from A</a></div><div class=\"node-author\"><span class=\"username\" xml:lang=\"\" about=\"/user/16\" typeof=\"sioc:UserAccount\" property=\"foaf:name\">testuser</span></div></td><td class=\"edit\"></td><td class=\"delete\"></td> </tr>\\n <tr class=\"even\"><td class=\"title-author\"><div class=\"node-title\"><a href=\"/node/148\">new blog (Sep 28 2018) by Robobrowser</a></div><div class=\"node-author\"><span class=\"username\" xml:lang=\"\" about=\"/user/16\" typeof=\"sioc:UserAccount\" property=\"foaf:name\">testuser</span></div></td><td class=\"edit\"></td><td class=\"delete\"></td> </tr>\\n <tr class=\"odd\"><td class=\"title-author\"><div class=\"node-title\"><a href=\"/node/147\">test blog manual - 2018 sep 28</a></div><div class=\"node-author\"><span class=\"username\" xml:lang=\"\" about=\"/user/16\" typeof=\"sioc:UserAccount\" property=\"foaf:name\">testuser</span></div></td><td class=\"edit\"></td><td class=\"delete\"></td> </tr>\\n <tr class=\"even\"><td class=\"title-author\"><div class=\"node-title\"><a href=\"/node/146\">a new blog from robobrowser on aug 21</a></div><div class=\"node-author\"><span class=\"username\" xml:lang=\"\" about=\"/user/16\" typeof=\"sioc:UserAccount\" property=\"foaf:name\">testuser</span></div></td><td class=\"edit\"></td><td class=\"delete\"></td> </tr>\\n <tr class=\"odd\"><td class=\"title-author\"><div class=\"node-title\"><a href=\"/node/145\">a test blog added manually on August 21</a></div><div class=\"node-author\"><span class=\"username\" xml:lang=\"\" about=\"/user/16\" typeof=\"sioc:UserAccount\" property=\"foaf:name\">testuser</span></div></td><td class=\"edit\"></td><td class=\"delete\"></td> </tr>\\n <tr class=\"even\"><td class=\"title-author\"><div class=\"node-title\"><a href=\"/node/144\">a new automated blog - aug 03</a></div><div class=\"node-author\"><span class=\"username\" xml:lang=\"\" about=\"/user/16\" typeof=\"sioc:UserAccount\" property=\"foaf:name\">testuser</span></div></td><td class=\"edit\"></td><td class=\"delete\"></td> </tr>\\n <tr class=\"odd\"><td class=\"title-author\"><div class=\"node-title\"><a href=\"/node/143\">a new blog added on aug 03</a></div><div class=\"node-author\"><span class=\"username\" xml:lang=\"\" about=\"/user/16\" typeof=\"sioc:UserAccount\" property=\"foaf:name\">testuser</span></div></td><td class=\"edit\"></td><td class=\"delete\"></td> </tr>\\n <tr class=\"even\"><td class=\"title-author\"><div class=\"node-title\"><a href=\"/node/142\">A blog added</a></div><div class=\"node-author\"><span class=\"username\" xml:lang=\"\" about=\"/user/16\" typeof=\"sioc:UserAccount\" property=\"foaf:name\">testuser</span></div></td><td class=\"edit\"></td><td class=\"delete\"></td> </tr>\\n</tbody>\\n</table>\\n    </div>\\n  </div>\\n</section>\\n  </div>\\n      \\n    </div></div> <!-- /columns -->\\n\\n     <!-- /tertiary-content -->\\n\\n    <!-- Four column Gpanel -->\\n    \\n          <footer id=\"footer\" role=\"contentinfo\"><div id=\"footer-inner\" class=\"clearfix\">\\n          <div class=\"region region-footer\">\\n    <div id=\"block-block-1\" class=\"block block-block block-odd block-count-4 block-region-footer\">\\n  <div class=\"block-inner clearfix\">\\n                <div class=\"block-content content\">\\n      <p>Contents of this website is Copyright \\xc2\\xa9 2004-2012 <a href=\"http://www.chandrashekar.info/\">Chandrashekar Babu</a>. All Rights Reserved.</p>\\n    </div>\\n  </div>\\n</div>\\n  </div>\\n <!-- /footer region -->\\n      </div></footer> <!-- /footer/footer-inner -->\\n    \\n  </div> <!-- /page -->\\n</div> <!-- /texture overlay -->  <script src=\"http://www.chandrashekar.info/sites/all/modules/syntaxhighlighter/syntaxhighlighter.min.js?mcppxf\"></script>\\n</body>\\n</html>\\n'"
      ]
     },
     "execution_count": 116,
     "metadata": {},
     "output_type": "execute_result"
    }
   ],
   "source": [
    "response.read()"
   ]
  },
  {
   "cell_type": "code",
   "execution_count": 117,
   "metadata": {},
   "outputs": [],
   "source": [
    "from http.client import HTTPConnection"
   ]
  },
  {
   "cell_type": "code",
   "execution_count": 119,
   "metadata": {},
   "outputs": [
    {
     "data": {
      "text/plain": [
       "<http.client.HTTPConnection at 0x10db45470>"
      ]
     },
     "execution_count": 119,
     "metadata": {},
     "output_type": "execute_result"
    }
   ],
   "source": [
    "c = HTTPConnection(\"www.chandrashekar.info\", 80)\n",
    "c"
   ]
  },
  {
   "cell_type": "code",
   "execution_count": 121,
   "metadata": {},
   "outputs": [],
   "source": [
    "import requests\n"
   ]
  },
  {
   "cell_type": "code",
   "execution_count": 127,
   "metadata": {},
   "outputs": [],
   "source": [
    "response = requests.get(\"http://www.chandrashekar.info/\")"
   ]
  },
  {
   "cell_type": "code",
   "execution_count": 128,
   "metadata": {},
   "outputs": [
    {
     "name": "stdout",
     "output_type": "stream",
     "text": [
      "200 True\n"
     ]
    }
   ],
   "source": [
    "print(response.status_code, response.ok)"
   ]
  },
  {
   "cell_type": "code",
   "execution_count": 130,
   "metadata": {
    "scrolled": true
   },
   "outputs": [
    {
     "name": "stdout",
     "output_type": "stream",
     "text": [
      "{'Date': 'Fri, 07 Jun 2019 08:17:43 GMT', 'Server': 'Apache', 'Expires': 'Sun, 19 Nov 1978 05:00:00 GMT', 'Cache-Control': 'no-cache, must-revalidate, post-check=0, pre-check=0', 'Content-Language': 'en', 'X-Generator': 'Drupal 7 (http://drupal.org)', 'Upgrade': 'h2', 'Connection': 'Upgrade, Keep-Alive', 'Last-Modified': 'Fri, 07 Jun 2019 08:17:43 GMT', 'ETag': '\"1559895463\"', 'Keep-Alive': 'timeout=5, max=100', 'Transfer-Encoding': 'chunked', 'Content-Type': 'text/html; charset=utf-8'}\n",
      "text/html; charset=utf-8\n"
     ]
    }
   ],
   "source": [
    "print(response.headers)\n"
   ]
  },
  {
   "cell_type": "code",
   "execution_count": 132,
   "metadata": {
    "scrolled": true
   },
   "outputs": [
    {
     "name": "stdout",
     "output_type": "stream",
     "text": [
      "text/html; charset=utf-8\n"
     ]
    }
   ],
   "source": [
    "print(response.headers[\"content-type\"])"
   ]
  },
  {
   "cell_type": "code",
   "execution_count": 134,
   "metadata": {},
   "outputs": [
    {
     "name": "stdout",
     "output_type": "stream",
     "text": [
      "['<!DOCTYPE html>', '<!--[if IEMobile 7]><html class=\"iem7\" lang=\"en\" dir=\"ltr\"><![endif]-->', '<!--[if (lte IE 6)&(!IEMobile)]><html class=\"ie6 ie6-7 ie6-8\" lang=\"en\" dir=\"ltr\"><![endif]-->']\n"
     ]
    }
   ],
   "source": [
    "print(response.text.splitlines()[:3])"
   ]
  },
  {
   "cell_type": "code",
   "execution_count": 136,
   "metadata": {},
   "outputs": [
    {
     "data": {
      "text/plain": [
       "[b'<!DOCTYPE html>',\n",
       " b'<!--[if IEMobile 7]><html class=\"iem7\" lang=\"en\" dir=\"ltr\"><![endif]-->',\n",
       " b'<!--[if (lte IE 6)&(!IEMobile)]><html class=\"ie6 ie6-7 ie6-8\" lang=\"en\" dir=\"ltr\"><![endif]-->']"
      ]
     },
     "execution_count": 136,
     "metadata": {},
     "output_type": "execute_result"
    }
   ],
   "source": [
    "response.content.splitlines()[:3]"
   ]
  },
  {
   "cell_type": "code",
   "execution_count": 138,
   "metadata": {},
   "outputs": [
    {
     "ename": "NameError",
     "evalue": "name 'api_key' is not defined",
     "output_type": "error",
     "traceback": [
      "\u001b[0;31m---------------------------------------------------------------------------\u001b[0m",
      "\u001b[0;31mNameError\u001b[0m                                 Traceback (most recent call last)",
      "\u001b[0;32m<ipython-input-138-796b391081df>\u001b[0m in \u001b[0;36m<module>\u001b[0;34m\u001b[0m\n\u001b[1;32m      5\u001b[0m parameters = {\n\u001b[1;32m      6\u001b[0m     \u001b[0;34m\"q\"\u001b[0m\u001b[0;34m:\u001b[0m \u001b[0;34m\"Bengaluru\"\u001b[0m\u001b[0;34m,\u001b[0m\u001b[0;34m\u001b[0m\u001b[0;34m\u001b[0m\u001b[0m\n\u001b[0;32m----> 7\u001b[0;31m     \u001b[0;34m\"APPID\"\u001b[0m\u001b[0;34m:\u001b[0m \u001b[0mapi_key\u001b[0m\u001b[0;34m,\u001b[0m\u001b[0;34m\u001b[0m\u001b[0;34m\u001b[0m\u001b[0m\n\u001b[0m\u001b[1;32m      8\u001b[0m     \u001b[0;34m\"units\"\u001b[0m\u001b[0;34m:\u001b[0m \u001b[0;34m\"metric\"\u001b[0m\u001b[0;34m\u001b[0m\u001b[0;34m\u001b[0m\u001b[0m\n\u001b[1;32m      9\u001b[0m }\n",
      "\u001b[0;31mNameError\u001b[0m: name 'api_key' is not defined"
     ]
    }
   ],
   "source": [
    "weather_url = \"http://api.openweathermap.org/data/2.5/weather\"\n",
    "\n",
    "# ?q={city}&units=metric&APPID={api_key}\"\n",
    "\n",
    "api_key = \"932c152d6ff8d185bfdd9d2a5f8e33e4\"\n",
    "parameters = {\n",
    "    \"q\": \"Bengaluru\", \n",
    "    \"APPID\": api_key, \n",
    "    \"units\": \"metric\"\n",
    "}\n",
    "\n",
    "response = requests.get(weather_url, params=parameters)"
   ]
  },
  {
   "cell_type": "code",
   "execution_count": 137,
   "metadata": {},
   "outputs": [],
   "source": [
    "requests.Request?\n"
   ]
  }
 ],
 "metadata": {
  "kernelspec": {
   "display_name": "Python 3",
   "language": "python",
   "name": "python3"
  },
  "language_info": {
   "codemirror_mode": {
    "name": "ipython",
    "version": 3
   },
   "file_extension": ".py",
   "mimetype": "text/x-python",
   "name": "python",
   "nbconvert_exporter": "python",
   "pygments_lexer": "ipython3",
   "version": "3.7.1"
  }
 },
 "nbformat": 4,
 "nbformat_minor": 2
}
