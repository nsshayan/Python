{
  "cells": [
    {
      "cell_type": "code",
      "source": [
        "import xml.etree.ElementTree as et"
      ],
      "outputs": [],
      "execution_count": 8,
      "metadata": {
        "collapsed": false,
        "outputHidden": false,
        "inputHidden": false
      }
    },
    {
      "cell_type": "code",
      "source": [
        "tree = et.parse(\"books.xml\")"
      ],
      "outputs": [],
      "execution_count": 12,
      "metadata": {
        "collapsed": false,
        "outputHidden": false,
        "inputHidden": false
      }
    },
    {
      "cell_type": "code",
      "source": [
        "r = tree.getroot()"
      ],
      "outputs": [],
      "execution_count": 16,
      "metadata": {
        "collapsed": false,
        "outputHidden": false,
        "inputHidden": false
      }
    },
    {
      "cell_type": "code",
      "source": [
        "book1 = r[0]"
      ],
      "outputs": [],
      "execution_count": 30,
      "metadata": {
        "collapsed": false,
        "outputHidden": false,
        "inputHidden": false
      }
    },
    {
      "cell_type": "code",
      "source": [
        "book1.attrib"
      ],
      "outputs": [
        {
          "output_type": "execute_result",
          "execution_count": 34,
          "data": {
            "text/plain": [
              "{'id': 'bk101', 'country': 'India', 'type': 'technical'}"
            ]
          },
          "metadata": {}
        }
      ],
      "execution_count": 34,
      "metadata": {
        "collapsed": false,
        "outputHidden": false,
        "inputHidden": false
      }
    },
    {
      "cell_type": "code",
      "source": [
        "book1.tag"
      ],
      "outputs": [
        {
          "output_type": "execute_result",
          "execution_count": 35,
          "data": {
            "text/plain": [
              "'book'"
            ]
          },
          "metadata": {}
        }
      ],
      "execution_count": 35,
      "metadata": {
        "collapsed": false,
        "outputHidden": false,
        "inputHidden": false
      }
    },
    {
      "cell_type": "code",
      "source": [
        "book1.text"
      ],
      "outputs": [
        {
          "output_type": "execute_result",
          "execution_count": 36,
          "data": {
            "text/plain": [
              "'\\n      '"
            ]
          },
          "metadata": {}
        }
      ],
      "execution_count": 36,
      "metadata": {
        "collapsed": false,
        "outputHidden": false,
        "inputHidden": false
      }
    },
    {
      "cell_type": "code",
      "source": [
        "list(book1)"
      ],
      "outputs": [
        {
          "output_type": "execute_result",
          "execution_count": 40,
          "data": {
            "text/plain": [
              "[<Element 'author' at 0x10ccc3548>,\n",
              " <Element 'title' at 0x10c8149f8>,\n",
              " <Element 'genre' at 0x10c814ae8>,\n",
              " <Element 'price' at 0x10c814c28>,\n",
              " <Element 'publish_date' at 0x10ccc5278>,\n",
              " <Element 'description' at 0x10ccc5228>]"
            ]
          },
          "metadata": {}
        }
      ],
      "execution_count": 40,
      "metadata": {
        "collapsed": false,
        "outputHidden": false,
        "inputHidden": false
      }
    },
    {
      "cell_type": "code",
      "source": [
        "for c in book1:\n",
        "    print(c.tag, \"=\", c.text)"
      ],
      "outputs": [
        {
          "output_type": "stream",
          "name": "stdout",
          "text": [
            "author = Gambardella, Matthew\n",
            "title = XML Developer's Guide\n",
            "genre = Computer\n",
            "price = 44.95\n",
            "publish_date = 2000-10-01\n",
            "description = An in-depth look at creating applications \n",
            "      with XML.\n"
          ]
        }
      ],
      "execution_count": 41,
      "metadata": {
        "collapsed": false,
        "outputHidden": false,
        "inputHidden": false
      }
    },
    {
      "cell_type": "code",
      "source": [
        "for book in r:\n",
        "    print(book.attrib[\"id\"])"
      ],
      "outputs": [
        {
          "output_type": "stream",
          "name": "stdout",
          "text": [
            "bk101\n",
            "bk102\n",
            "bk103\n",
            "bk104\n",
            "bk105\n",
            "bk106\n",
            "bk107\n",
            "bk108\n",
            "bk109\n",
            "bk110\n",
            "bk111\n",
            "bk112\n"
          ]
        }
      ],
      "execution_count": 43,
      "metadata": {
        "collapsed": false,
        "outputHidden": false,
        "inputHidden": false
      }
    },
    {
      "cell_type": "code",
      "source": [
        "for book in r:\n",
        "    print(f\"Book {book.attrib['id']}: \")\n",
        "    for c in book:\n",
        "          print(f\"     {c.tag} = {c.text}\")\n",
        "    print(\"-\" * 30)"
      ],
      "outputs": [
        {
          "output_type": "stream",
          "name": "stdout",
          "text": [
            "Book bk101: \n",
            "     author = Gambardella, Matthew\n",
            "     title = XML Developer's Guide\n",
            "     genre = Computer\n",
            "     price = 44.95\n",
            "     publish_date = 2000-10-01\n",
            "     description = An in-depth look at creating applications \n",
            "      with XML.\n",
            "------------------------------\n",
            "Book bk102: \n",
            "     author = Ralls, Kim\n",
            "     title = Midnight Rain\n",
            "     genre = Fantasy\n",
            "     price = 5.95\n",
            "     publish_date = 2000-12-16\n",
            "     description = A former architect battles corporate zombies, \n",
            "      an evil sorceress, and her own childhood to become queen \n",
            "      of the world.\n",
            "------------------------------\n",
            "Book bk103: \n",
            "     author = Corets, Eva\n",
            "     title = Maeve Ascendant\n",
            "     genre = Fantasy\n",
            "     price = 5.95\n",
            "     publish_date = 2000-11-17\n",
            "     description = After the collapse of a nanotechnology \n",
            "      society in England, the young survivors lay the \n",
            "      foundation for a new society.\n",
            "------------------------------\n",
            "Book bk104: \n",
            "     author = Corets, Eva\n",
            "     title = Oberon's Legacy\n",
            "     genre = Fantasy\n",
            "     price = 5.95\n",
            "     publish_date = 2001-03-10\n",
            "     description = In post-apocalypse England, the mysterious \n",
            "      agent known only as Oberon helps to create a new life \n",
            "      for the inhabitants of London. Sequel to Maeve \n",
            "      Ascendant.\n",
            "------------------------------\n",
            "Book bk105: \n",
            "     author = Corets, Eva\n",
            "     title = The Sundered Grail\n",
            "     genre = Fantasy\n",
            "     price = 5.95\n",
            "     publish_date = 2001-09-10\n",
            "     description = The two daughters of Maeve, half-sisters, \n",
            "      battle one another for control of England. Sequel to \n",
            "      Oberon's Legacy.\n",
            "------------------------------\n",
            "Book bk106: \n",
            "     author = Randall, Cynthia\n",
            "     title = Lover Birds\n",
            "     genre = Romance\n",
            "     price = 4.95\n",
            "     publish_date = 2000-09-02\n",
            "     description = When Carla meets Paul at an ornithology \n",
            "      conference, tempers fly as feathers get ruffled.\n",
            "------------------------------\n",
            "Book bk107: \n",
            "     author = Thurman, Paula\n",
            "     title = Splish Splash\n",
            "     genre = Romance\n",
            "     price = 4.95\n",
            "     publish_date = 2000-11-02\n",
            "     description = A deep sea diver finds true love twenty \n",
            "      thousand leagues beneath the sea.\n",
            "------------------------------\n",
            "Book bk108: \n",
            "     author = Knorr, Stefan\n",
            "     title = Creepy Crawlies\n",
            "     genre = Horror\n",
            "     price = 4.95\n",
            "     publish_date = 2000-12-06\n",
            "     description = An anthology of horror stories about roaches,\n",
            "      centipedes, scorpions  and other insects.\n",
            "------------------------------\n",
            "Book bk109: \n",
            "     author = Kress, Peter\n",
            "     title = Paradox Lost\n",
            "     genre = Science Fiction\n",
            "     price = 6.95\n",
            "     publish_date = 2000-11-02\n",
            "     description = After an inadvertant trip through a Heisenberg\n",
            "      Uncertainty Device, James Salway discovers the problems \n",
            "      of being quantum.\n",
            "------------------------------\n",
            "Book bk110: \n",
            "     author = O'Brien, Tim\n",
            "     title = Microsoft .NET: The Programming Bible\n",
            "     genre = Computer\n",
            "     price = 36.95\n",
            "     publish_date = 2000-12-09\n",
            "     description = Microsoft's .NET initiative is explored in \n",
            "      detail in this deep programmer's reference.\n",
            "------------------------------\n",
            "Book bk111: \n",
            "     author = O'Brien, Tim\n",
            "     title = MSXML3: A Comprehensive Guide\n",
            "     genre = Computer\n",
            "     price = 36.95\n",
            "     publish_date = 2000-12-01\n",
            "     description = The Microsoft MSXML3 parser is covered in \n",
            "      detail, with attention to XML DOM interfaces, XSLT processing, \n",
            "      SAX and more.\n",
            "------------------------------\n",
            "Book bk112: \n",
            "     author = Galos, Mike\n",
            "     title = Visual Studio 7: A Comprehensive Guide\n",
            "     genre = Computer\n",
            "     price = 49.95\n",
            "     publish_date = 2001-04-16\n",
            "     description = Microsoft Visual Studio 7 is explored in depth,\n",
            "      looking at how Visual Basic, Visual C++, C#, and ASP+ are \n",
            "      integrated into a comprehensive development \n",
            "      environment.\n",
            "------------------------------\n"
          ]
        }
      ],
      "execution_count": 45,
      "metadata": {
        "collapsed": false,
        "outputHidden": false,
        "inputHidden": false
      }
    },
    {
      "cell_type": "code",
      "source": [
        "print(r.find(\"./book/author\").text)\n",
        "print(r.find(\"./book/price\").text)"
      ],
      "outputs": [
        {
          "output_type": "stream",
          "name": "stdout",
          "text": [
            "Gambardella, Matthew\n",
            "44.95\n"
          ]
        }
      ],
      "execution_count": 54,
      "metadata": {
        "collapsed": false,
        "outputHidden": false,
        "inputHidden": false
      }
    },
    {
      "cell_type": "code",
      "source": [
        "r.find(\".//title\")"
      ],
      "outputs": [
        {
          "output_type": "execute_result",
          "execution_count": 55,
          "data": {
            "text/plain": [
              "<Element 'title' at 0x10c8149f8>"
            ]
          },
          "metadata": {}
        }
      ],
      "execution_count": 55,
      "metadata": {
        "collapsed": false,
        "outputHidden": false,
        "inputHidden": false
      }
    },
    {
      "cell_type": "code",
      "source": [
        "r.findall(\"./book/title\")"
      ],
      "outputs": [
        {
          "output_type": "execute_result",
          "execution_count": 58,
          "data": {
            "text/plain": [
              "[<Element 'title' at 0x10c8149f8>,\n",
              " <Element 'title' at 0x10ccc5318>,\n",
              " <Element 'title' at 0x10ccc5548>,\n",
              " <Element 'title' at 0x10ccc5778>,\n",
              " <Element 'title' at 0x10ccc59f8>,\n",
              " <Element 'title' at 0x10ccc5c28>,\n",
              " <Element 'title' at 0x10ccc5e58>,\n",
              " <Element 'title' at 0x10cc550e8>,\n",
              " <Element 'title' at 0x10cc55318>,\n",
              " <Element 'title' at 0x10cc55548>,\n",
              " <Element 'title' at 0x10cc55778>,\n",
              " <Element 'title' at 0x10cc559f8>]"
            ]
          },
          "metadata": {}
        }
      ],
      "execution_count": 58,
      "metadata": {
        "collapsed": false,
        "outputHidden": false,
        "inputHidden": false
      }
    },
    {
      "cell_type": "code",
      "source": [
        "[ t.text for t in r.findall(\"./book/title\") ]"
      ],
      "outputs": [
        {
          "output_type": "execute_result",
          "execution_count": 59,
          "data": {
            "text/plain": [
              "[\"XML Developer's Guide\",\n",
              " 'Midnight Rain',\n",
              " 'Maeve Ascendant',\n",
              " \"Oberon's Legacy\",\n",
              " 'The Sundered Grail',\n",
              " 'Lover Birds',\n",
              " 'Splish Splash',\n",
              " 'Creepy Crawlies',\n",
              " 'Paradox Lost',\n",
              " 'Microsoft .NET: The Programming Bible',\n",
              " 'MSXML3: A Comprehensive Guide',\n",
              " 'Visual Studio 7: A Comprehensive Guide']"
            ]
          },
          "metadata": {}
        }
      ],
      "execution_count": 59,
      "metadata": {
        "collapsed": false,
        "outputHidden": false,
        "inputHidden": false
      }
    },
    {
      "cell_type": "code",
      "source": [
        "[ t.text for t in r.iterfind(\"./book/title\") ]"
      ],
      "outputs": [
        {
          "output_type": "execute_result",
          "execution_count": 60,
          "data": {
            "text/plain": [
              "[\"XML Developer's Guide\",\n",
              " 'Midnight Rain',\n",
              " 'Maeve Ascendant',\n",
              " \"Oberon's Legacy\",\n",
              " 'The Sundered Grail',\n",
              " 'Lover Birds',\n",
              " 'Splish Splash',\n",
              " 'Creepy Crawlies',\n",
              " 'Paradox Lost',\n",
              " 'Microsoft .NET: The Programming Bible',\n",
              " 'MSXML3: A Comprehensive Guide',\n",
              " 'Visual Studio 7: A Comprehensive Guide']"
            ]
          },
          "metadata": {}
        }
      ],
      "execution_count": 60,
      "metadata": {
        "collapsed": false,
        "outputHidden": false,
        "inputHidden": false
      }
    },
    {
      "cell_type": "code",
      "source": [
        "print(r.findall(\"./book/title\"))\n",
        "\n",
        "print(r.iterfind(\"./book/title\"))\n"
      ],
      "outputs": [
        {
          "output_type": "stream",
          "name": "stdout",
          "text": [
            "[<Element 'title' at 0x10c8149f8>, <Element 'title' at 0x10ccc5318>, <Element 'title' at 0x10ccc5548>, <Element 'title' at 0x10ccc5778>, <Element 'title' at 0x10ccc59f8>, <Element 'title' at 0x10ccc5c28>, <Element 'title' at 0x10ccc5e58>, <Element 'title' at 0x10cc550e8>, <Element 'title' at 0x10cc55318>, <Element 'title' at 0x10cc55548>, <Element 'title' at 0x10cc55778>, <Element 'title' at 0x10cc559f8>]\n",
            "<generator object prepare_child.<locals>.select at 0x10cd28c00>\n"
          ]
        }
      ],
      "execution_count": 61,
      "metadata": {
        "collapsed": false,
        "outputHidden": false,
        "inputHidden": false
      }
    },
    {
      "cell_type": "code",
      "source": [
        "[ t.text for t in r.iterfind(\"./book[author='Corets, Eva']/title\") ]"
      ],
      "outputs": [
        {
          "output_type": "execute_result",
          "execution_count": 65,
          "data": {
            "text/plain": [
              "['Maeve Ascendant', \"Oberon's Legacy\", 'The Sundered Grail']"
            ]
          },
          "metadata": {}
        }
      ],
      "execution_count": 65,
      "metadata": {
        "collapsed": false,
        "outputHidden": false,
        "inputHidden": false
      }
    },
    {
      "cell_type": "code",
      "source": [
        "[ t.text for t in r.iterfind(\"./book[author]/title\") ]"
      ],
      "outputs": [],
      "execution_count": null,
      "metadata": {
        "collapsed": false,
        "outputHidden": false,
        "inputHidden": false
      }
    },
    {
      "cell_type": "code",
      "source": [
        "[ t.text for t in r.iterfind(\"./book[@id='bk104']/title\") ]"
      ],
      "outputs": [
        {
          "output_type": "execute_result",
          "execution_count": 66,
          "data": {
            "text/plain": [
              "[\"Oberon's Legacy\"]"
            ]
          },
          "metadata": {}
        }
      ],
      "execution_count": 66,
      "metadata": {
        "collapsed": false,
        "outputHidden": false,
        "inputHidden": false
      }
    },
    {
      "cell_type": "code",
      "source": [
        "for book in r:\n",
        "    if float(book.find(\"./price\").text) > 7.0:\n",
        "        print(book.find(\"./title\").text)"
      ],
      "outputs": [
        {
          "output_type": "stream",
          "name": "stdout",
          "text": [
            "XML Developer's Guide\n",
            "Microsoft .NET: The Programming Bible\n",
            "MSXML3: A Comprehensive Guide\n",
            "Visual Studio 7: A Comprehensive Guide\n"
          ]
        }
      ],
      "execution_count": 72,
      "metadata": {
        "collapsed": false,
        "outputHidden": false,
        "inputHidden": false
      }
    },
    {
      "cell_type": "code",
      "source": [
        "[ book.find(\"./title\").text for book in r if float(book.find(\"./price\").text) > 7.0 ]"
      ],
      "outputs": [
        {
          "output_type": "execute_result",
          "execution_count": 73,
          "data": {
            "text/plain": [
              "[\"XML Developer's Guide\",\n",
              " 'Microsoft .NET: The Programming Bible',\n",
              " 'MSXML3: A Comprehensive Guide',\n",
              " 'Visual Studio 7: A Comprehensive Guide']"
            ]
          },
          "metadata": {}
        }
      ],
      "execution_count": 73,
      "metadata": {
        "collapsed": false,
        "outputHidden": false,
        "inputHidden": false
      }
    },
    {
      "cell_type": "code",
      "source": [
        "r[0][0].text = \"Babu, Chandrashekar\"\n",
        "r[0].attrib[\"testdata\"] = \"234234\"\n",
        "r[0].attrib\n",
        "\n",
        "del r[0][1]\n",
        "\n",
        "d = r.makeelement(\"dummy\", {})\n",
        "d.text = 'this is some dummy data'\n",
        "r[0].insert(2, d)"
      ],
      "outputs": [],
      "execution_count": 89,
      "metadata": {
        "collapsed": false,
        "outputHidden": false,
        "inputHidden": false
      }
    },
    {
      "cell_type": "code",
      "source": [
        "list(r[0])"
      ],
      "outputs": [
        {
          "output_type": "execute_result",
          "execution_count": 90,
          "data": {
            "text/plain": [
              "[<Element 'author' at 0x10ccc3548>, <Element 'dummy' at 0x10cd97d68>]"
            ]
          },
          "metadata": {}
        }
      ],
      "execution_count": 90,
      "metadata": {
        "collapsed": false,
        "outputHidden": false,
        "inputHidden": false
      }
    },
    {
      "cell_type": "code",
      "source": [
        "tree.write(\"testbook.xml\")"
      ],
      "outputs": [],
      "execution_count": 91,
      "metadata": {
        "collapsed": false,
        "outputHidden": false,
        "inputHidden": false
      }
    },
    {
      "cell_type": "code",
      "source": [
        "pycat testbook.xml"
      ],
      "outputs": [],
      "execution_count": 92,
      "metadata": {
        "collapsed": false,
        "outputHidden": false,
        "inputHidden": false
      }
    },
    {
      "cell_type": "code",
      "source": [
        "import lxml.etree as et\n",
        "tree1 = et.parse(\"books.xml\")"
      ],
      "outputs": [],
      "execution_count": 94,
      "metadata": {
        "collapsed": false,
        "outputHidden": false,
        "inputHidden": false
      }
    },
    {
      "cell_type": "code",
      "source": [
        "print(tree)\n",
        "print(tree1)"
      ],
      "outputs": [
        {
          "output_type": "stream",
          "name": "stdout",
          "text": [
            "<xml.etree.ElementTree.ElementTree object at 0x10cc28ef0>\n",
            "<lxml.etree._ElementTree object at 0x10ccc2088>\n"
          ]
        }
      ],
      "execution_count": 96,
      "metadata": {
        "collapsed": false,
        "outputHidden": false,
        "inputHidden": false
      }
    },
    {
      "cell_type": "code",
      "source": [
        "print(dir(tree))\n",
        "print(\"-\" * 60)\n",
        "print(dir(tree1))\n"
      ],
      "outputs": [
        {
          "output_type": "stream",
          "name": "stdout",
          "text": [
            "['__class__', '__delattr__', '__dict__', '__dir__', '__doc__', '__eq__', '__format__', '__ge__', '__getattribute__', '__gt__', '__hash__', '__init__', '__init_subclass__', '__le__', '__lt__', '__module__', '__ne__', '__new__', '__reduce__', '__reduce_ex__', '__repr__', '__setattr__', '__sizeof__', '__str__', '__subclasshook__', '__weakref__', '_root', '_setroot', 'find', 'findall', 'findtext', 'getiterator', 'getroot', 'iter', 'iterfind', 'parse', 'write', 'write_c14n']\n",
            "------------------------------------------------------------\n",
            "['__class__', '__copy__', '__deepcopy__', '__delattr__', '__dir__', '__doc__', '__eq__', '__format__', '__ge__', '__getattribute__', '__gt__', '__hash__', '__init__', '__init_subclass__', '__le__', '__lt__', '__ne__', '__new__', '__pyx_vtable__', '__reduce__', '__reduce_ex__', '__repr__', '__setattr__', '__sizeof__', '__str__', '__subclasshook__', '_setroot', 'docinfo', 'find', 'findall', 'findtext', 'getelementpath', 'getiterator', 'getpath', 'getroot', 'iter', 'iterfind', 'parse', 'parser', 'relaxng', 'write', 'write_c14n', 'xinclude', 'xmlschema', 'xpath', 'xslt']\n"
          ]
        }
      ],
      "execution_count": 97,
      "metadata": {
        "collapsed": false,
        "outputHidden": false,
        "inputHidden": false
      }
    },
    {
      "cell_type": "code",
      "source": [
        "pycat purchase_order.xml"
      ],
      "outputs": [],
      "execution_count": 98,
      "metadata": {
        "collapsed": false,
        "outputHidden": false,
        "inputHidden": false
      }
    },
    {
      "cell_type": "code",
      "source": [
        "po_xml = et.parse(\"purchase_order_example.xml\")\n",
        "po_xsd = et.parse(\"po.xsd\")"
      ],
      "outputs": [],
      "execution_count": 101,
      "metadata": {
        "collapsed": false,
        "outputHidden": false,
        "inputHidden": false
      }
    },
    {
      "cell_type": "code",
      "source": [
        "po_xml.xmlschema(po_xsd)"
      ],
      "outputs": [
        {
          "output_type": "execute_result",
          "execution_count": 102,
          "data": {
            "text/plain": [
              "False"
            ]
          },
          "metadata": {}
        }
      ],
      "execution_count": 102,
      "metadata": {
        "collapsed": false,
        "outputHidden": false,
        "inputHidden": false
      }
    },
    {
      "cell_type": "code",
      "source": [
        "\n",
        "r1 = tree1.getroot()\n",
        "print(r, r1)"
      ],
      "outputs": [
        {
          "output_type": "stream",
          "name": "stdout",
          "text": [
            "<Element 'catalog' at 0x10cc3f0e8> <Element catalog at 0x10ccc2748>\n"
          ]
        }
      ],
      "execution_count": 104,
      "metadata": {
        "collapsed": false,
        "outputHidden": false,
        "inputHidden": false
      }
    },
    {
      "cell_type": "code",
      "source": [
        "print(dir(r))\n",
        "print(\"-\" * 60)\n",
        "print(dir(r1))"
      ],
      "outputs": [
        {
          "output_type": "stream",
          "name": "stdout",
          "text": [
            "['__class__', '__copy__', '__deepcopy__', '__delattr__', '__delitem__', '__dir__', '__doc__', '__eq__', '__format__', '__ge__', '__getattribute__', '__getitem__', '__getstate__', '__gt__', '__hash__', '__init__', '__init_subclass__', '__le__', '__len__', '__lt__', '__ne__', '__new__', '__reduce__', '__reduce_ex__', '__repr__', '__setattr__', '__setitem__', '__setstate__', '__sizeof__', '__str__', '__subclasshook__', 'append', 'attrib', 'clear', 'extend', 'find', 'findall', 'findtext', 'get', 'getchildren', 'getiterator', 'insert', 'items', 'iter', 'iterfind', 'itertext', 'keys', 'makeelement', 'remove', 'set', 'tag', 'tail', 'text']\n",
            "------------------------------------------------------------\n",
            "['__bool__', '__class__', '__contains__', '__copy__', '__deepcopy__', '__delattr__', '__delitem__', '__dir__', '__doc__', '__eq__', '__format__', '__ge__', '__getattribute__', '__getitem__', '__gt__', '__hash__', '__init__', '__init_subclass__', '__iter__', '__le__', '__len__', '__lt__', '__ne__', '__new__', '__reduce__', '__reduce_ex__', '__repr__', '__reversed__', '__setattr__', '__setitem__', '__sizeof__', '__str__', '__subclasshook__', '_init', 'addnext', 'addprevious', 'append', 'attrib', 'base', 'clear', 'cssselect', 'extend', 'find', 'findall', 'findtext', 'get', 'getchildren', 'getiterator', 'getnext', 'getparent', 'getprevious', 'getroottree', 'index', 'insert', 'items', 'iter', 'iterancestors', 'iterchildren', 'iterdescendants', 'iterfind', 'itersiblings', 'itertext', 'keys', 'makeelement', 'nsmap', 'prefix', 'remove', 'replace', 'set', 'sourceline', 'tag', 'tail', 'text', 'values', 'xpath']\n"
          ]
        }
      ],
      "execution_count": 105,
      "metadata": {
        "collapsed": false,
        "outputHidden": false,
        "inputHidden": false
      }
    },
    {
      "cell_type": "code",
      "source": [
        "import xml.etree.ElementTree as old_et\n",
        "r = old_et.parse(\"books.xml\").getroot()\n",
        "[ book.find(\"./title\").text for book in r if float(book.find(\"./price\").text) > 7.0 ]"
      ],
      "outputs": [
        {
          "output_type": "execute_result",
          "execution_count": 107,
          "data": {
            "text/plain": [
              "[\"XML Developer's Guide\",\n",
              " 'Microsoft .NET: The Programming Bible',\n",
              " 'MSXML3: A Comprehensive Guide',\n",
              " 'Visual Studio 7: A Comprehensive Guide']"
            ]
          },
          "metadata": {}
        }
      ],
      "execution_count": 107,
      "metadata": {
        "collapsed": false,
        "outputHidden": false,
        "inputHidden": false
      }
    },
    {
      "cell_type": "code",
      "source": [
        "r1.xpath(\"./book[price > '7.0']/title/text()\")"
      ],
      "outputs": [
        {
          "output_type": "execute_result",
          "execution_count": 112,
          "data": {
            "text/plain": [
              "[\"XML Developer's Guide\",\n",
              " 'Microsoft .NET: The Programming Bible',\n",
              " 'MSXML3: A Comprehensive Guide',\n",
              " 'Visual Studio 7: A Comprehensive Guide']"
            ]
          },
          "metadata": {}
        }
      ],
      "execution_count": 112,
      "metadata": {
        "collapsed": false,
        "outputHidden": false,
        "inputHidden": false
      }
    },
    {
      "cell_type": "code",
      "source": [
        "r1.xpath(\"./book/author[aaa:match(text(), 'Corets')]\", \n",
        "          namespaces={'aaa': 'http://exslt.org/regular-expressions'})"
      ],
      "outputs": [
        {
          "output_type": "execute_result",
          "execution_count": 122,
          "data": {
            "text/plain": [
              "[<Element author at 0x10ce0a648>,\n",
              " <Element author at 0x10ce0a288>,\n",
              " <Element author at 0x10ce0a388>]"
            ]
          },
          "metadata": {}
        }
      ],
      "execution_count": 122,
      "metadata": {
        "collapsed": false,
        "outputHidden": false,
        "inputHidden": false
      }
    },
    {
      "cell_type": "code",
      "source": [
        "r1.xpath(\"./book/author[aaa:match(text(), 'Corets')]/../title/text()\", \n",
        "          namespaces={'aaa': 'http://exslt.org/regular-expressions'})"
      ],
      "outputs": [
        {
          "output_type": "execute_result",
          "execution_count": 125,
          "data": {
            "text/plain": [
              "['Maeve Ascendant', \"Oberon's Legacy\", 'The Sundered Grail']"
            ]
          },
          "metadata": {}
        }
      ],
      "execution_count": 125,
      "metadata": {
        "collapsed": false,
        "outputHidden": false,
        "inputHidden": false
      }
    },
    {
      "cell_type": "code",
      "source": [
        "from urllib.request import urlopen\n",
        "\n",
        "response = urlopen(\"http://www.chandrashekar.info/\")\n",
        "print(response)"
      ],
      "outputs": [
        {
          "output_type": "stream",
          "name": "stdout",
          "text": [
            "<http.client.HTTPResponse object at 0x10ccd22b0>\n"
          ]
        }
      ],
      "execution_count": 143,
      "metadata": {
        "collapsed": false,
        "outputHidden": false,
        "inputHidden": false
      }
    },
    {
      "cell_type": "code",
      "source": [
        "response.code\n",
        "dict(response.headers)"
      ],
      "outputs": [
        {
          "output_type": "execute_result",
          "execution_count": 131,
          "data": {
            "text/plain": [
              "{'Server': 'nginx',\n",
              " 'Content-Type': 'text/html; charset=utf-8',\n",
              " 'X-Frame-Options': 'SAMEORIGIN',\n",
              " 'x-xss-protection': '1; mode=block',\n",
              " 'X-Clacks-Overhead': 'GNU Terry Pratchett',\n",
              " 'Via': '1.1 varnish',\n",
              " 'Content-Length': '49094',\n",
              " 'Accept-Ranges': 'bytes',\n",
              " 'Date': 'Fri, 28 Sep 2018 05:32:18 GMT',\n",
              " 'Age': '2532',\n",
              " 'Connection': 'close',\n",
              " 'X-Served-By': 'cache-iad2145-IAD, cache-ams4420-AMS',\n",
              " 'X-Cache': 'HIT, HIT',\n",
              " 'X-Cache-Hits': '3, 1',\n",
              " 'X-Timer': 'S1538112738.088368,VS0,VE0',\n",
              " 'Vary': 'Cookie',\n",
              " 'Strict-Transport-Security': 'max-age=63072000; includeSubDomains'}"
            ]
          },
          "metadata": {}
        }
      ],
      "execution_count": 131,
      "metadata": {
        "collapsed": false,
        "outputHidden": false,
        "inputHidden": false
      }
    },
    {
      "cell_type": "code",
      "source": [
        "import lxml.html as html\n",
        "\ndoc = html.parse(response)"
      ],
      "outputs": [],
      "execution_count": 134,
      "metadata": {
        "collapsed": false,
        "outputHidden": false,
        "inputHidden": false
      }
    },
    {
      "cell_type": "code",
      "source": [
        "html_root = doc.getroot()"
      ],
      "outputs": [],
      "execution_count": 136,
      "metadata": {
        "collapsed": false,
        "outputHidden": false,
        "inputHidden": false
      }
    },
    {
      "cell_type": "code",
      "source": [
        "# <a href=\"/contact\">Contact me!</a>\n",
        "[ (a.attrib[\"href\"], a.text) for a in html_root.xpath(\".//a\") ]"
      ],
      "outputs": [
        {
          "output_type": "execute_result",
          "execution_count": 142,
          "data": {
            "text/plain": [
              "[('#main-content', 'Skip to main content'),\n",
              " ('/', 'Chandrashekar Babu'),\n",
              " ('/', 'Home'),\n",
              " ('/about', 'About'),\n",
              " ('/training.html', 'Training'),\n",
              " ('/training-calendar.html', 'Calendar'),\n",
              " ('/corporate-training-profile.html', 'Profile'),\n",
              " ('/articles.html', 'Articles'),\n",
              " ('/code-vault.html', 'Code Vault'),\n",
              " ('/random-thoughts.html', 'Random Thoughts'),\n",
              " ('http://www.chandrashekar.info/workshops', 'Workshops'),\n",
              " ('/links.html', 'Bookmarks'),\n",
              " ('/contact.html', 'Contact'),\n",
              " ('//', 'Sharing the light of Software Freedom since 1997'),\n",
              " ('about.html', 'more...'),\n",
              " ('http://www.slashprog.com/', 'Slashprog Technologies'),\n",
              " ('/articles.html', 'articles section'),\n",
              " ('/code-vault.html', 'code vault'),\n",
              " ('/training.html>training section</a> and also my <a href=',\n",
              "  'training calendar'),\n",
              " ('/random-thoughts.html', 'my random thoughts'),\n",
              " ('//', 'Read more'),\n",
              " ('/node?page=1', '2'),\n",
              " ('/node?page=2', '3'),\n",
              " ('/node?page=3', '4'),\n",
              " ('/node?page=4', '5'),\n",
              " ('/node?page=5', '6'),\n",
              " ('/node?page=6', '7'),\n",
              " ('/node?page=7', '8'),\n",
              " ('/node?page=8', '9'),\n",
              " ('/node?page=1', 'next ›'),\n",
              " ('/node?page=44', 'last »'),\n",
              " ('/rss.xml', None),\n",
              " ('/node/146', 'a new blog from robobrowser on aug 21'),\n",
              " ('/node/145', 'a test blog added manually on August 21'),\n",
              " ('/node/144', 'a new automated blog - aug 03'),\n",
              " ('/node/143', 'a new blog added on aug 03'),\n",
              " ('/node/142', 'A blog added'),\n",
              " ('/node/139', 'Hello world October 4th blog'),\n",
              " ('/node/138', 'A new blog from Vadi'),\n",
              " ('/node/137', 'Some new title from Pratap'),\n",
              " ('/node/136', 'a new blog posted on July 13th - Nilesh'),\n",
              " ('/node/135', 'a new blog posted on July 13th - Chandrashekar'),\n",
              " ('http://www.chandrashekar.info/', 'Chandrashekar Babu')]"
            ]
          },
          "metadata": {}
        }
      ],
      "execution_count": 142,
      "metadata": {
        "collapsed": false,
        "outputHidden": false,
        "inputHidden": false
      }
    },
    {
      "cell_type": "code",
      "source": [
        "from bs4 import BeautifulSoup\n",
        "\nsoup = BeautifulSoup(response.read())"
      ],
      "outputs": [],
      "execution_count": 145,
      "metadata": {
        "collapsed": false,
        "outputHidden": false,
        "inputHidden": false
      }
    },
    {
      "cell_type": "code",
      "source": [
        "soup.select(\"body h1#site-name\")"
      ],
      "outputs": [
        {
          "output_type": "execute_result",
          "execution_count": 156,
          "data": {
            "text/plain": [
              "[<a class=\"active\" href=\"/\" title=\"Home page\">Chandrashekar Babu</a>,\n",
              " <a class=\"active\" href=\"/\">Home</a>]"
            ]
          },
          "metadata": {}
        }
      ],
      "execution_count": 156,
      "metadata": {
        "collapsed": false,
        "outputHidden": false,
        "inputHidden": false
      }
    },
    {
      "cell_type": "code",
      "source": [
        "soup.select(\"a.active\")"
      ],
      "outputs": [
        {
          "output_type": "execute_result",
          "execution_count": 157,
          "data": {
            "text/plain": [
              "[<a class=\"active\" href=\"/\" title=\"Home page\">Chandrashekar Babu</a>,\n",
              " <a class=\"active\" href=\"/\">Home</a>]"
            ]
          },
          "metadata": {}
        }
      ],
      "execution_count": 157,
      "metadata": {
        "collapsed": false,
        "outputHidden": false,
        "inputHidden": false
      }
    },
    {
      "cell_type": "code",
      "source": [
        "soup.select(\"a[href='/']\")"
      ],
      "outputs": [
        {
          "output_type": "execute_result",
          "execution_count": 164,
          "data": {
            "text/plain": [
              "[<a class=\"active\" href=\"/\" title=\"Home page\">Chandrashekar Babu</a>,\n",
              " <a class=\"active\" href=\"/\">Home</a>]"
            ]
          },
          "metadata": {}
        }
      ],
      "execution_count": 164,
      "metadata": {
        "collapsed": false,
        "outputHidden": false,
        "inputHidden": false
      }
    },
    {
      "cell_type": "code",
      "source": [
        "import json\n",
        "\n",
        "response = urlopen(\"https://jsonplaceholder.typicode.com/posts/1\")\n",
        "\n",
        "data = json.loads(response.read())\n",
        "print(data)"
      ],
      "outputs": [
        {
          "output_type": "stream",
          "name": "stdout",
          "text": [
            "{'userId': 1, 'id': 1, 'title': 'sunt aut facere repellat provident occaecati excepturi optio reprehenderit', 'body': 'quia et suscipit\\nsuscipit recusandae consequuntur expedita et cum\\nreprehenderit molestiae ut ut quas totam\\nnostrum rerum est autem sunt rem eveniet architecto'}\n"
          ]
        }
      ],
      "execution_count": 169,
      "metadata": {
        "collapsed": false,
        "outputHidden": false,
        "inputHidden": false
      }
    },
    {
      "cell_type": "code",
      "source": [
        "a = {\n",
        "    \"name\": \"Sam\", \n",
        "    \"role\": \"Developer\", \n",
        "    \"active\": True, \n",
        "    \"hostname\": None, \n",
        "    \"visited\": (\"aaa\", \"bbb\", \"ccc\")\n",
        "}\n",
        "\njson.dumps(a)"
      ],
      "outputs": [
        {
          "output_type": "execute_result",
          "execution_count": 170,
          "data": {
            "text/plain": [
              "'{\"name\": \"Sam\", \"role\": \"Developer\", \"active\": true, \"hostname\": null, \"visited\": [\"aaa\", \"bbb\", \"ccc\"]}'"
            ]
          },
          "metadata": {}
        }
      ],
      "execution_count": 170,
      "metadata": {
        "collapsed": false,
        "outputHidden": false,
        "inputHidden": false
      }
    },
    {
      "cell_type": "code",
      "source": [
        "from http.client import HTTPConnection\n",
        "\n",
        "conn = HTTPConnection(\"www.chandrashekar.info\")\n",
        "print(conn)"
      ],
      "outputs": [
        {
          "output_type": "stream",
          "name": "stdout",
          "text": [
            "<http.client.HTTPConnection object at 0x10ce05390>\n"
          ]
        }
      ],
      "execution_count": 181,
      "metadata": {
        "collapsed": false,
        "outputHidden": false,
        "inputHidden": false
      }
    },
    {
      "cell_type": "code",
      "source": [
        "conn.request(\"GET\", \"/\")"
      ],
      "outputs": [],
      "execution_count": 182,
      "metadata": {
        "collapsed": false,
        "outputHidden": false,
        "inputHidden": false
      }
    },
    {
      "cell_type": "code",
      "source": [
        "r = conn.getresponse()"
      ],
      "outputs": [],
      "execution_count": 183,
      "metadata": {
        "collapsed": false,
        "outputHidden": false,
        "inputHidden": false
      }
    },
    {
      "cell_type": "code",
      "source": [
        "r.code"
      ],
      "outputs": [
        {
          "output_type": "execute_result",
          "execution_count": 184,
          "data": {
            "text/plain": [
              "403"
            ]
          },
          "metadata": {}
        }
      ],
      "execution_count": 184,
      "metadata": {
        "collapsed": false,
        "outputHidden": false,
        "inputHidden": false
      }
    },
    {
      "cell_type": "code",
      "source": [
        "from urllib.request import urlopen\n",
        "\nr = urlopen(\"http://www.chandrashekar.info/\")"
      ],
      "outputs": [],
      "execution_count": null,
      "metadata": {
        "collapsed": false,
        "outputHidden": false,
        "inputHidden": false
      }
    },
    {
      "cell_type": "code",
      "source": [
        "import requests\n",
        "r = requests.get(\"http://www.chandrashekar.info/\")"
      ],
      "outputs": [],
      "execution_count": 186,
      "metadata": {
        "collapsed": false,
        "outputHidden": false,
        "inputHidden": false
      }
    },
    {
      "cell_type": "code",
      "source": [
        "r.status_code, r.ok, r.content,"
      ],
      "outputs": [],
      "execution_count": null,
      "metadata": {
        "collapsed": false,
        "outputHidden": false,
        "inputHidden": false
      }
    },
    {
      "cell_type": "code",
      "source": [
        "r.text"
      ],
      "outputs": [],
      "execution_count": null,
      "metadata": {
        "collapsed": false,
        "outputHidden": false,
        "inputHidden": false
      }
    },
    {
      "cell_type": "code",
      "source": [
        "r.headers"
      ],
      "outputs": [
        {
          "output_type": "execute_result",
          "execution_count": 192,
          "data": {
            "text/plain": [
              "{'Date': 'Fri, 28 Sep 2018 06:48:21 GMT', 'Server': 'Apache', 'Expires': 'Sun, 19 Nov 1978 05:00:00 GMT', 'Cache-Control': 'no-cache, must-revalidate, post-check=0, pre-check=0', 'Content-Language': 'en', 'X-Generator': 'Drupal 7 (http://drupal.org)', 'ETag': '\"1538117301\"', 'Keep-Alive': 'timeout=5, max=100', 'Transfer-Encoding': 'chunked', 'Content-Type': 'text/html; charset=utf-8', 'Last-Modified': 'Fri, 28 Sep 2018 06:48:21 GMT', 'Via': '1.1 bgl17-dmz-wsa-1.cisco.com:80 (Cisco-WSA/10.1.3-054)', 'Connection': 'keep-alive'}"
            ]
          },
          "metadata": {}
        }
      ],
      "execution_count": 192,
      "metadata": {
        "collapsed": false,
        "outputHidden": false,
        "inputHidden": false
      }
    },
    {
      "cell_type": "code",
      "source": [
        "r.headers[\"Content-type\"]"
      ],
      "outputs": [
        {
          "output_type": "execute_result",
          "execution_count": 194,
          "data": {
            "text/plain": [
              "'text/html; charset=utf-8'"
            ]
          },
          "metadata": {}
        }
      ],
      "execution_count": 194,
      "metadata": {
        "collapsed": false,
        "outputHidden": false,
        "inputHidden": false
      }
    },
    {
      "cell_type": "code",
      "source": [
        "r.cookies"
      ],
      "outputs": [
        {
          "output_type": "execute_result",
          "execution_count": 195,
          "data": {
            "text/plain": [
              "<RequestsCookieJar[]>"
            ]
          },
          "metadata": {}
        }
      ],
      "execution_count": 195,
      "metadata": {
        "collapsed": false,
        "outputHidden": false,
        "inputHidden": false
      }
    },
    {
      "cell_type": "code",
      "source": [
        "r = requests.get(\"http://www.google.com/\")\n",
        "r.cookies"
      ],
      "outputs": [
        {
          "output_type": "execute_result",
          "execution_count": 198,
          "data": {
            "text/plain": [
              "<RequestsCookieJar[Cookie(version=0, name='1P_JAR', value='2018-09-28-06', port=None, port_specified=False, domain='.google.com', domain_specified=True, domain_initial_dot=True, path='/', path_specified=True, secure=False, expires=1540709574, discard=False, comment=None, comment_url=None, rest={}, rfc2109=False), Cookie(version=0, name='NID', value='139=nDnWARNsQ2GNy5FJj4RbLtds4Rwnmlx-2hf_OKaUnB-Lvrxg92vbJ0cqX-Q8Iw_QDjHuj6A1cd6-aDswElRA0Jjz8rNKjsE-0uHTUJ8rVcxhB3uaMpoBO5OdDqyCARyJ', port=None, port_specified=False, domain='.google.com', domain_specified=True, domain_initial_dot=True, path='/', path_specified=True, secure=False, expires=1553928774, discard=False, comment=None, comment_url=None, rest={'HttpOnly': None}, rfc2109=False)]>"
            ]
          },
          "metadata": {}
        }
      ],
      "execution_count": 198,
      "metadata": {
        "collapsed": false,
        "outputHidden": false,
        "inputHidden": false
      }
    },
    {
      "cell_type": "code",
      "source": [
        "r.cookies.get_dict()"
      ],
      "outputs": [
        {
          "output_type": "execute_result",
          "execution_count": 201,
          "data": {
            "text/plain": [
              "{'1P_JAR': '2018-09-28-06',\n",
              " 'NID': '139=nDnWARNsQ2GNy5FJj4RbLtds4Rwnmlx-2hf_OKaUnB-Lvrxg92vbJ0cqX-Q8Iw_QDjHuj6A1cd6-aDswElRA0Jjz8rNKjsE-0uHTUJ8rVcxhB3uaMpoBO5OdDqyCARyJ'}"
            ]
          },
          "metadata": {}
        }
      ],
      "execution_count": 201,
      "metadata": {
        "collapsed": false,
        "outputHidden": false,
        "inputHidden": false
      }
    },
    {
      "cell_type": "code",
      "source": [
        "requests.Request?"
      ],
      "outputs": [],
      "execution_count": 204,
      "metadata": {
        "collapsed": false,
        "outputHidden": false,
        "inputHidden": false
      }
    },
    {
      "cell_type": "code",
      "source": [
        "api_key = \"932c152d6ff8d185bfdd9d2a5f8e33e4\""
      ],
      "outputs": [],
      "execution_count": 205,
      "metadata": {
        "collapsed": false,
        "outputHidden": false,
        "inputHidden": false
      }
    },
    {
      "cell_type": "code",
      "source": [
        "url = f\"http://api.openweathermap.org/data/2.5/weather?q=Bengaluru&APPID={api_key}&units=metric\"\n",
        "\nr = requests.get(url)"
      ],
      "outputs": [],
      "execution_count": 208,
      "metadata": {
        "collapsed": false,
        "outputHidden": false,
        "inputHidden": false
      }
    },
    {
      "cell_type": "code",
      "source": [
        "r.headers[\"content-type\"]"
      ],
      "outputs": [
        {
          "output_type": "execute_result",
          "execution_count": 211,
          "data": {
            "text/plain": [
              "'application/json; charset=utf-8'"
            ]
          },
          "metadata": {}
        }
      ],
      "execution_count": 211,
      "metadata": {
        "collapsed": false,
        "outputHidden": false,
        "inputHidden": false
      }
    },
    {
      "cell_type": "code",
      "source": [
        "r.json()"
      ],
      "outputs": [
        {
          "output_type": "execute_result",
          "execution_count": 213,
          "data": {
            "text/plain": [
              "{'coord': {'lon': 77.59, 'lat': 12.98},\n",
              " 'weather': [{'id': 802,\n",
              "   'main': 'Clouds',\n",
              "   'description': 'scattered clouds',\n",
              "   'icon': '03d'}],\n",
              " 'base': 'stations',\n",
              " 'main': {'temp': 28,\n",
              "  'pressure': 1013,\n",
              "  'humidity': 58,\n",
              "  'temp_min': 28,\n",
              "  'temp_max': 28},\n",
              " 'visibility': 10000,\n",
              " 'wind': {'speed': 3.1, 'deg': 80},\n",
              " 'clouds': {'all': 40},\n",
              " 'dt': 1538118000,\n",
              " 'sys': {'type': 1,\n",
              "  'id': 7821,\n",
              "  'message': 0.0085,\n",
              "  'country': 'IN',\n",
              "  'sunrise': 1538095130,\n",
              "  'sunset': 1538138493},\n",
              " 'id': 1277333,\n",
              " 'name': 'Bengaluru',\n",
              " 'cod': 200}"
            ]
          },
          "metadata": {}
        }
      ],
      "execution_count": 213,
      "metadata": {
        "collapsed": false,
        "outputHidden": false,
        "inputHidden": false
      }
    },
    {
      "cell_type": "code",
      "source": [
        "import requests\n",
        "URL = \"http://api.openweathermap.org/data/2.5/weather\"\n",
        "\n",
        "parameters = {\n",
        "    \"APPID\" : \"932c152d6ff8d185bfdd9d2a5f8e33e4\",\n",
        "    \"q\": \"Bengaluru\",\n",
        "    \"units\": \"metric\"\n",
        "}\n",
        "\n",
        "response = requests.get(URL, params=parameters)\n",
        "\n",
        "if response.ok:\n",
        "    print(response.json())"
      ],
      "outputs": [
        {
          "output_type": "stream",
          "name": "stdout",
          "text": [
            "{'coord': {'lon': 77.59, 'lat': 12.98}, 'weather': [{'id': 802, 'main': 'Clouds', 'description': 'scattered clouds', 'icon': '03d'}], 'base': 'stations', 'main': {'temp': 28, 'pressure': 1013, 'humidity': 58, 'temp_min': 28, 'temp_max': 28}, 'visibility': 10000, 'wind': {'speed': 3.1, 'deg': 80}, 'clouds': {'all': 40}, 'dt': 1538118000, 'sys': {'type': 1, 'id': 7821, 'message': 0.0085, 'country': 'IN', 'sunrise': 1538095130, 'sunset': 1538138493}, 'id': 1277333, 'name': 'Bengaluru', 'cod': 200}\n"
          ]
        }
      ],
      "execution_count": 214,
      "metadata": {
        "collapsed": false,
        "outputHidden": false,
        "inputHidden": false
      }
    },
    {
      "cell_type": "code",
      "source": [
        "r = requests.get(\"http://localhost:3000/posts\")"
      ],
      "outputs": [],
      "execution_count": 238,
      "metadata": {
        "collapsed": false,
        "outputHidden": false,
        "inputHidden": false
      }
    },
    {
      "cell_type": "code",
      "source": [
        "r.json()"
      ],
      "outputs": [
        {
          "output_type": "execute_result",
          "execution_count": 239,
          "data": {
            "text/plain": [
              "[{'id': 1, 'title': 'json-server', 'author': 'jim'},\n",
              " {'author': 'chandrashekar', 'title': 'this is a test message', 'id': 4},\n",
              " {'data': 'this is a test message', 'id': 6}]"
            ]
          },
          "metadata": {}
        }
      ],
      "execution_count": 239,
      "metadata": {
        "collapsed": false,
        "outputHidden": false,
        "inputHidden": false
      }
    },
    {
      "cell_type": "code",
      "source": [
        "r = requests.post(\"http://localhost:3000/posts\", json={\"name\": \"john\", \"data\": \"sdfsdjsdljfsldjds\"})"
      ],
      "outputs": [],
      "execution_count": 225,
      "metadata": {
        "collapsed": false,
        "outputHidden": false,
        "inputHidden": false
      }
    },
    {
      "cell_type": "code",
      "source": [
        "requests.delete(\"http://localhost:3000/posts/5\")"
      ],
      "outputs": [
        {
          "output_type": "execute_result",
          "execution_count": 231,
          "data": {
            "text/plain": [
              "<Response [200]>"
            ]
          },
          "metadata": {}
        }
      ],
      "execution_count": 231,
      "metadata": {
        "collapsed": false,
        "outputHidden": false,
        "inputHidden": false
      }
    },
    {
      "cell_type": "code",
      "source": [
        "requests.patch(\"http://localhost:3000/posts/6\", json={\"data\": \"this is a test message\"})"
      ],
      "outputs": [
        {
          "output_type": "execute_result",
          "execution_count": 234,
          "data": {
            "text/plain": [
              "<Response [200]>"
            ]
          },
          "metadata": {}
        }
      ],
      "execution_count": 234,
      "metadata": {
        "collapsed": false,
        "outputHidden": false,
        "inputHidden": false
      }
    },
    {
      "cell_type": "code",
      "source": [
        "requests.put(\"http://localhost:3000/posts/6\", json={\"data\": \"this is a test message\"})"
      ],
      "outputs": [
        {
          "output_type": "execute_result",
          "execution_count": 237,
          "data": {
            "text/plain": [
              "<Response [200]>"
            ]
          },
          "metadata": {}
        }
      ],
      "execution_count": 237,
      "metadata": {
        "collapsed": false,
        "outputHidden": false,
        "inputHidden": false
      }
    },
    {
      "cell_type": "code",
      "source": [
        "from requests import Session\n",
        "from bs4 import BeautifulSoup\n",
        "from urllib.parse import urljoin\n",
        "\n",
        "class URLFailed(Exception): pass\n",
        "\n",
        "root_url = \"http://pypi.org/\"\n",
        "\n",
        "s = Session()\n",
        "r = s.get(root_url)\n",
        "if not r.ok:\n",
        "    raise URLFailed()\n",
        "\n",
        "elements = BeautifulSoup(r.text).select(\"form input#search\") \n",
        "if not elements:\n",
        "    raise URLFailed()\n",
        "    \n",
        "search_url = urljoin(root_url, elements[0].parent[\"action\"])\n",
        "\n",
        "r = s.get(search_url, params={\"q\": \"yaml\"})\n",
        "if not r.ok:\n",
        "    raise URLFailed()\n",
        "\n"
      ],
      "outputs": [],
      "execution_count": 246,
      "metadata": {
        "collapsed": false,
        "outputHidden": false,
        "inputHidden": false
      }
    },
    {
      "cell_type": "code",
      "source": [
        "for atag in BeautifulSoup(r.text).select(\"li a.package-snippet\")[:5]:\n",
        "    for span in atag.select(\"span.package-snippet__name\"):\n",
        "        print(urljoin(root_url, atag[\"href\"]), span.string)"
      ],
      "outputs": [
        {
          "output_type": "stream",
          "name": "stdout",
          "text": [
            "http://pypi.org/project/yaml-1-2/ yaml_1.2\n",
            "http://pypi.org/project/yaml-1-3/ yaml-1.3\n",
            "http://pypi.org/project/sphinxcontrib-yaml/ sphinxcontrib-yaml\n",
            "http://pypi.org/project/templated-yaml/ templated-yaml\n",
            "http://pypi.org/project/tiddlywebplugins-yaml/ tiddlywebplugins.yaml\n"
          ]
        }
      ],
      "execution_count": 256,
      "metadata": {
        "collapsed": false,
        "outputHidden": false,
        "inputHidden": false
      }
    },
    {
      "cell_type": "code",
      "source": [
        "from urllib.parse import urljoin\n",
        "url = \"http://pypi.org/\"\n",
        "loc = \"/search/\"\n",
        "\nurljoin(url, loc)"
      ],
      "outputs": [
        {
          "output_type": "execute_result",
          "execution_count": 245,
          "data": {
            "text/plain": [
              "'http://pypi.org/search/'"
            ]
          },
          "metadata": {}
        }
      ],
      "execution_count": 245,
      "metadata": {
        "collapsed": false,
        "outputHidden": false,
        "inputHidden": false
      }
    }
  ],
  "metadata": {
    "kernel_info": {
      "name": "python3"
    },
    "language_info": {
      "name": "python",
      "version": "3.7.0",
      "mimetype": "text/x-python",
      "codemirror_mode": {
        "name": "ipython",
        "version": 3
      },
      "pygments_lexer": "ipython3",
      "nbconvert_exporter": "python",
      "file_extension": ".py"
    },
    "kernelspec": {
      "name": "python3",
      "language": "python",
      "display_name": "Python 3"
    },
    "nteract": {
      "version": "0.11.7"
    }
  },
  "nbformat": 4,
  "nbformat_minor": 4
}