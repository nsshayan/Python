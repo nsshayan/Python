{
 "cells": [
  {
   "cell_type": "code",
   "execution_count": 1,
   "metadata": {},
   "outputs": [],
   "source": [
    "import xml.etree.ElementTree as et"
   ]
  },
  {
   "cell_type": "code",
   "execution_count": 3,
   "metadata": {},
   "outputs": [
    {
     "data": {
      "text/plain": [
       "<xml.etree.ElementTree.ElementTree at 0x7fa06b0d1890>"
      ]
     },
     "execution_count": 3,
     "metadata": {},
     "output_type": "execute_result"
    }
   ],
   "source": [
    "tree = et.parse(\"xml/books.xml\")\n",
    "tree"
   ]
  },
  {
   "cell_type": "code",
   "execution_count": 8,
   "metadata": {},
   "outputs": [
    {
     "data": {
      "text/plain": [
       "<Element 'catalog' at 0x7fa06b109c50>"
      ]
     },
     "execution_count": 8,
     "metadata": {},
     "output_type": "execute_result"
    }
   ],
   "source": [
    "c = tree.getroot()\n",
    "c"
   ]
  },
  {
   "cell_type": "code",
   "execution_count": 9,
   "metadata": {},
   "outputs": [
    {
     "data": {
      "text/plain": [
       "<Element 'book' at 0x7fa06b0e7530>"
      ]
     },
     "execution_count": 9,
     "metadata": {},
     "output_type": "execute_result"
    }
   ],
   "source": [
    "c[0]"
   ]
  },
  {
   "cell_type": "code",
   "execution_count": 10,
   "metadata": {},
   "outputs": [
    {
     "data": {
      "text/plain": [
       "<Element 'book' at 0x7fa06b12c2f0>"
      ]
     },
     "execution_count": 10,
     "metadata": {},
     "output_type": "execute_result"
    }
   ],
   "source": [
    "c[1]"
   ]
  },
  {
   "cell_type": "code",
   "execution_count": 11,
   "metadata": {},
   "outputs": [
    {
     "data": {
      "text/plain": [
       "12"
      ]
     },
     "execution_count": 11,
     "metadata": {},
     "output_type": "execute_result"
    }
   ],
   "source": [
    "len(c)"
   ]
  },
  {
   "cell_type": "code",
   "execution_count": 12,
   "metadata": {},
   "outputs": [
    {
     "data": {
      "text/plain": [
       "<Element 'book' at 0x7fa06b1392f0>"
      ]
     },
     "execution_count": 12,
     "metadata": {},
     "output_type": "execute_result"
    }
   ],
   "source": [
    "c[-1]"
   ]
  },
  {
   "cell_type": "code",
   "execution_count": 13,
   "metadata": {
    "scrolled": true
   },
   "outputs": [
    {
     "data": {
      "text/plain": [
       "[<Element 'book' at 0x7fa06b0e7530>,\n",
       " <Element 'book' at 0x7fa06b12c2f0>,\n",
       " <Element 'book' at 0x7fa06b12c5f0>]"
      ]
     },
     "execution_count": 13,
     "metadata": {},
     "output_type": "execute_result"
    }
   ],
   "source": [
    "c[:3]"
   ]
  },
  {
   "cell_type": "code",
   "execution_count": 15,
   "metadata": {},
   "outputs": [
    {
     "data": {
      "text/plain": [
       "<Element 'author' at 0x7fa06b0cbe90>"
      ]
     },
     "execution_count": 15,
     "metadata": {},
     "output_type": "execute_result"
    }
   ],
   "source": [
    "c[0][0]"
   ]
  },
  {
   "cell_type": "code",
   "execution_count": 16,
   "metadata": {},
   "outputs": [
    {
     "data": {
      "text/plain": [
       "<Element 'title' at 0x7fa06b12c110>"
      ]
     },
     "execution_count": 16,
     "metadata": {},
     "output_type": "execute_result"
    }
   ],
   "source": [
    "c[0][1]"
   ]
  },
  {
   "cell_type": "code",
   "execution_count": 17,
   "metadata": {},
   "outputs": [
    {
     "data": {
      "text/plain": [
       "\"XML Developer's Guide\""
      ]
     },
     "execution_count": 17,
     "metadata": {},
     "output_type": "execute_result"
    }
   ],
   "source": [
    "c[0][1].text"
   ]
  },
  {
   "cell_type": "code",
   "execution_count": 20,
   "metadata": {},
   "outputs": [
    {
     "data": {
      "text/plain": [
       "'\\n      this is a test book\\n      '"
      ]
     },
     "execution_count": 20,
     "metadata": {},
     "output_type": "execute_result"
    }
   ],
   "source": [
    "c[0].text"
   ]
  },
  {
   "cell_type": "code",
   "execution_count": 23,
   "metadata": {},
   "outputs": [
    {
     "data": {
      "text/plain": [
       "('catalog', 'book', 'book')"
      ]
     },
     "execution_count": 23,
     "metadata": {},
     "output_type": "execute_result"
    }
   ],
   "source": [
    "c.tag, c[0].tag, c[1].tag"
   ]
  },
  {
   "cell_type": "code",
   "execution_count": 25,
   "metadata": {},
   "outputs": [
    {
     "data": {
      "text/plain": [
       "({}, {'id': 'bk101', 'country': 'India', 'type': 'technical'})"
      ]
     },
     "execution_count": 25,
     "metadata": {},
     "output_type": "execute_result"
    }
   ],
   "source": [
    "c.attrib, c[0].attrib"
   ]
  },
  {
   "cell_type": "code",
   "execution_count": 26,
   "metadata": {},
   "outputs": [
    {
     "data": {
      "text/plain": [
       "(None, 'catalog', {})"
      ]
     },
     "execution_count": 26,
     "metadata": {},
     "output_type": "execute_result"
    }
   ],
   "source": [
    "c.text, c.tag, c.attrib"
   ]
  },
  {
   "cell_type": "code",
   "execution_count": 28,
   "metadata": {},
   "outputs": [
    {
     "data": {
      "text/plain": [
       "<Element 'book' at 0x7fa06b0e7530>"
      ]
     },
     "execution_count": 28,
     "metadata": {},
     "output_type": "execute_result"
    }
   ],
   "source": [
    "b = c[0]\n",
    "b"
   ]
  },
  {
   "cell_type": "code",
   "execution_count": 29,
   "metadata": {
    "scrolled": true
   },
   "outputs": [
    {
     "name": "stdout",
     "output_type": "stream",
     "text": [
      "author = Gambardella, Matthew\n",
      "title = XML Developer's Guide\n",
      "genre = Computer\n",
      "price = 44.95\n",
      "publish_date = 2000-10-01\n",
      "description = An in-depth look at creating applications\n",
      "      with XML.\n"
     ]
    }
   ],
   "source": [
    "for child in b:\n",
    "    print(child.tag, \"=\", child.text)"
   ]
  },
  {
   "cell_type": "code",
   "execution_count": 32,
   "metadata": {},
   "outputs": [
    {
     "data": {
      "text/plain": [
       "\"XML Developer's Guide\""
      ]
     },
     "execution_count": 32,
     "metadata": {},
     "output_type": "execute_result"
    }
   ],
   "source": [
    "# Supports very minimal xpath syntax\n",
    "c.find(\"./book/title\").text"
   ]
  },
  {
   "cell_type": "code",
   "execution_count": 35,
   "metadata": {
    "scrolled": true
   },
   "outputs": [
    {
     "data": {
      "text/plain": [
       "[<Element 'title' at 0x7fa06b12c110>,\n",
       " <Element 'title' at 0x7fa06b12c3b0>,\n",
       " <Element 'title' at 0x7fa06b12c6b0>,\n",
       " <Element 'title' at 0x7fa06b12ca10>,\n",
       " <Element 'title' at 0x7fa06b12cd10>,\n",
       " <Element 'title' at 0x7fa06b135050>,\n",
       " <Element 'title' at 0x7fa06b135350>,\n",
       " <Element 'title' at 0x7fa06b1356b0>,\n",
       " <Element 'title' at 0x7fa06b135a10>,\n",
       " <Element 'title' at 0x7fa06b135d10>,\n",
       " <Element 'title' at 0x7fa06b1390b0>,\n",
       " <Element 'title' at 0x7fa06b1393b0>]"
      ]
     },
     "execution_count": 35,
     "metadata": {},
     "output_type": "execute_result"
    }
   ],
   "source": [
    "c.findall(\"./book/title\")"
   ]
  },
  {
   "cell_type": "code",
   "execution_count": 36,
   "metadata": {
    "scrolled": true
   },
   "outputs": [
    {
     "data": {
      "text/plain": [
       "[\"XML Developer's Guide\",\n",
       " 'Midnight Rain',\n",
       " 'Maeve Ascendant',\n",
       " \"Oberon's Legacy\",\n",
       " 'The Sundered Grail',\n",
       " 'Lover Birds',\n",
       " 'Splish Splash',\n",
       " 'Creepy Crawlies',\n",
       " 'Paradox Lost',\n",
       " 'Microsoft .NET: The Programming Bible',\n",
       " 'MSXML3: A Comprehensive Guide',\n",
       " 'Visual Studio 7: A Comprehensive Guide']"
      ]
     },
     "execution_count": 36,
     "metadata": {},
     "output_type": "execute_result"
    }
   ],
   "source": [
    "[ t.text for t in c.findall(\"./book/title\") ]"
   ]
  },
  {
   "cell_type": "code",
   "execution_count": 37,
   "metadata": {},
   "outputs": [
    {
     "data": {
      "text/plain": [
       "<generator object prepare_child.<locals>.select at 0x7fa06c5d3d50>"
      ]
     },
     "execution_count": 37,
     "metadata": {},
     "output_type": "execute_result"
    }
   ],
   "source": [
    "c.iterfind(\"./book/title\")"
   ]
  },
  {
   "cell_type": "code",
   "execution_count": 38,
   "metadata": {},
   "outputs": [
    {
     "data": {
      "text/plain": [
       "[\"XML Developer's Guide\",\n",
       " 'Midnight Rain',\n",
       " 'Maeve Ascendant',\n",
       " \"Oberon's Legacy\",\n",
       " 'The Sundered Grail',\n",
       " 'Lover Birds',\n",
       " 'Splish Splash',\n",
       " 'Creepy Crawlies',\n",
       " 'Paradox Lost',\n",
       " 'Microsoft .NET: The Programming Bible',\n",
       " 'MSXML3: A Comprehensive Guide',\n",
       " 'Visual Studio 7: A Comprehensive Guide']"
      ]
     },
     "execution_count": 38,
     "metadata": {},
     "output_type": "execute_result"
    }
   ],
   "source": [
    "[ t.text for t in c.iterfind(\"./book/title\") ]"
   ]
  },
  {
   "cell_type": "code",
   "execution_count": 39,
   "metadata": {},
   "outputs": [
    {
     "data": {
      "text/plain": [
       "<Element 'title' at 0x7fa06b12c110>"
      ]
     },
     "execution_count": 39,
     "metadata": {},
     "output_type": "execute_result"
    }
   ],
   "source": [
    "c.find(\"./*/title\")"
   ]
  },
  {
   "cell_type": "code",
   "execution_count": 40,
   "metadata": {},
   "outputs": [
    {
     "data": {
      "text/plain": [
       "<Element 'title' at 0x7fa06b12c110>"
      ]
     },
     "execution_count": 40,
     "metadata": {},
     "output_type": "execute_result"
    }
   ],
   "source": [
    "c.find(\".//title\")"
   ]
  },
  {
   "cell_type": "code",
   "execution_count": 52,
   "metadata": {},
   "outputs": [
    {
     "data": {
      "text/plain": [
       "'\\n      this is a test book\\n      '"
      ]
     },
     "execution_count": 52,
     "metadata": {},
     "output_type": "execute_result"
    }
   ],
   "source": [
    "c.find(\"./book[@country]\").text"
   ]
  },
  {
   "cell_type": "code",
   "execution_count": 59,
   "metadata": {
    "scrolled": true
   },
   "outputs": [
    {
     "data": {
      "text/plain": [
       "'The Sundered Grail'"
      ]
     },
     "execution_count": 59,
     "metadata": {},
     "output_type": "execute_result"
    }
   ],
   "source": [
    "c.find(\"./book/[@id='bk105']/title\").text"
   ]
  },
  {
   "cell_type": "code",
   "execution_count": 61,
   "metadata": {},
   "outputs": [
    {
     "data": {
      "text/plain": [
       "['Maeve Ascendant', \"Oberon's Legacy\", 'The Sundered Grail']"
      ]
     },
     "execution_count": 61,
     "metadata": {},
     "output_type": "execute_result"
    }
   ],
   "source": [
    "[ t.text for t in c.iterfind(\"./book[author='Corets, Eva']/title\") ]"
   ]
  },
  {
   "cell_type": "code",
   "execution_count": null,
   "metadata": {},
   "outputs": [],
   "source": [
    "import xml.etree.ElementTree as et\n",
    "\n",
    "tree = et.parse(\"books.xml\")\n",
    "c = tree.getroot()\n",
    "\n",
    "print([ t.text for t in c.iterfind(\"./book[author='Corets, Eva']/title\")])\n"
   ]
  },
  {
   "cell_type": "code",
   "execution_count": 68,
   "metadata": {},
   "outputs": [
    {
     "name": "stdout",
     "output_type": "stream",
     "text": [
      "Midnight Rain\n",
      "Maeve Ascendant\n",
      "Oberon's Legacy\n",
      "The Sundered Grail\n",
      "Lover Birds\n",
      "Splish Splash\n",
      "Creepy Crawlies\n"
     ]
    }
   ],
   "source": [
    "import xml.etree.ElementTree as et\n",
    "\n",
    "tree = et.parse(\"xml/books.xml\")\n",
    "c = tree.getroot()\n",
    "\n",
    "#[ t.text for t in c.iterfind(\"./book[price < 6.0]/title\") ]\n",
    "\n",
    "for b in c.iterfind(\"./book\"):\n",
    "    if float(b.find(\"./price\").text) < 6.0:\n",
    "        print(b.find(\"./title\").text)"
   ]
  },
  {
   "cell_type": "code",
   "execution_count": 69,
   "metadata": {
    "scrolled": true
   },
   "outputs": [
    {
     "data": {
      "text/plain": [
       "['Midnight Rain',\n",
       " 'Maeve Ascendant',\n",
       " \"Oberon's Legacy\",\n",
       " 'The Sundered Grail',\n",
       " 'Lover Birds',\n",
       " 'Splish Splash',\n",
       " 'Creepy Crawlies']"
      ]
     },
     "execution_count": 69,
     "metadata": {},
     "output_type": "execute_result"
    }
   ],
   "source": [
    "[ b.find(\"./title\").text for b in c.iterfind(\"./book\") if float(b.find(\"./price\").text) < 6.0 ]"
   ]
  },
  {
   "cell_type": "code",
   "execution_count": 71,
   "metadata": {
    "scrolled": true
   },
   "outputs": [
    {
     "name": "stdout",
     "output_type": "stream",
     "text": [
      "Midnight Rain\n",
      "Maeve Ascendant\n",
      "Oberon's Legacy\n",
      "The Sundered Grail\n",
      "Lover Birds\n",
      "Splish Splash\n",
      "Creepy Crawlies\n"
     ]
    }
   ],
   "source": [
    "import lxml.etree as et\n",
    "tree = et.parse(\"xml/books.xml\")\n",
    "c = tree.getroot()\n",
    "\n",
    "#[ t.text for t in c.iterfind(\"./book[price < 6.0]/title\") ]\n",
    "\n",
    "for b in c.iterfind(\"./book\"):\n",
    "    if float(b.find(\"./price\").text) < 6.0:\n",
    "        print(b.find(\"./title\").text)"
   ]
  },
  {
   "cell_type": "code",
   "execution_count": 84,
   "metadata": {
    "scrolled": true
   },
   "outputs": [
    {
     "data": {
      "text/plain": [
       "[\"XML Developer's Guide\",\n",
       " 'Midnight Rain',\n",
       " 'Maeve Ascendant',\n",
       " \"Oberon's Legacy\",\n",
       " 'The Sundered Grail',\n",
       " 'Lover Birds',\n",
       " 'Splish Splash',\n",
       " 'Creepy Crawlies',\n",
       " 'Paradox Lost',\n",
       " 'Microsoft .NET: The Programming Bible',\n",
       " 'MSXML3: A Comprehensive Guide',\n",
       " 'Visual Studio 7: A Comprehensive Guide']"
      ]
     },
     "execution_count": 84,
     "metadata": {},
     "output_type": "execute_result"
    }
   ],
   "source": [
    "c.xpath(\"./book/title/text()\")"
   ]
  },
  {
   "cell_type": "code",
   "execution_count": 85,
   "metadata": {},
   "outputs": [
    {
     "data": {
      "text/plain": [
       "['Midnight Rain',\n",
       " 'Maeve Ascendant',\n",
       " \"Oberon's Legacy\",\n",
       " 'The Sundered Grail',\n",
       " 'Lover Birds',\n",
       " 'Splish Splash',\n",
       " 'Creepy Crawlies']"
      ]
     },
     "execution_count": 85,
     "metadata": {},
     "output_type": "execute_result"
    }
   ],
   "source": [
    "c.xpath(\"./book[price < 6.0]/title/text()\")"
   ]
  },
  {
   "cell_type": "code",
   "execution_count": 76,
   "metadata": {},
   "outputs": [
    {
     "data": {
      "text/plain": [
       "<Element catalog at 0x7fa06ca21320>"
      ]
     },
     "execution_count": 76,
     "metadata": {},
     "output_type": "execute_result"
    }
   ],
   "source": [
    "c"
   ]
  },
  {
   "cell_type": "code",
   "execution_count": 80,
   "metadata": {},
   "outputs": [
    {
     "name": "stdout",
     "output_type": "stream",
     "text": [
      "['addnext', 'addprevious', 'append', 'attrib', 'base', 'clear', 'cssselect', 'extend', 'find', 'findall', 'findtext', 'get', 'getchildren', 'getiterator', 'getnext', 'getparent', 'getprevious', 'getroottree', 'index', 'insert', 'items', 'iter', 'iterancestors', 'iterchildren', 'iterdescendants', 'iterfind', 'itersiblings', 'itertext', 'keys', 'makeelement', 'nsmap', 'prefix', 'remove', 'replace', 'set', 'sourceline', 'tag', 'tail', 'text', 'values', 'xpath']\n"
     ]
    }
   ],
   "source": [
    "print([ a for a in dir(c) if a[0] != '_'])"
   ]
  },
  {
   "cell_type": "code",
   "execution_count": 74,
   "metadata": {},
   "outputs": [
    {
     "data": {
      "text/plain": [
       "<xml.etree.ElementTree.ElementTree at 0x7fa06d21ad10>"
      ]
     },
     "execution_count": 74,
     "metadata": {},
     "output_type": "execute_result"
    }
   ],
   "source": [
    "import xml.etree.ElementTree as et_old\n",
    "tree_old = et_old.parse(\"xml/books.xml\")\n",
    "tree_old"
   ]
  },
  {
   "cell_type": "code",
   "execution_count": 75,
   "metadata": {},
   "outputs": [
    {
     "data": {
      "text/plain": [
       "<Element 'catalog' at 0x7fa06cb66d70>"
      ]
     },
     "execution_count": 75,
     "metadata": {},
     "output_type": "execute_result"
    }
   ],
   "source": [
    "c_old = tree_old.getroot()\n",
    "c_old"
   ]
  },
  {
   "cell_type": "code",
   "execution_count": 81,
   "metadata": {},
   "outputs": [
    {
     "name": "stdout",
     "output_type": "stream",
     "text": [
      "['append', 'attrib', 'clear', 'extend', 'find', 'findall', 'findtext', 'get', 'getchildren', 'getiterator', 'insert', 'items', 'iter', 'iterfind', 'itertext', 'keys', 'makeelement', 'remove', 'set', 'tag', 'tail', 'text']\n"
     ]
    }
   ],
   "source": [
    "print([ a for a in dir(c_old) if a[0] != '_'])"
   ]
  },
  {
   "cell_type": "code",
   "execution_count": null,
   "metadata": {},
   "outputs": [],
   "source": [
    "# %load xml/books.xml\n",
    "<?xml version=\"1.0\" ?>\n",
    "<catalog><book id=\"bk101\" country=\"India\" type=\"technical\">\n",
    "      this is a test book\n",
    "      <author>Gambardella, Matthew</author>\n",
    "      <title>XML Developer's Guide</title>\n",
    "      <genre>Computer</genre>\n",
    "      <price>44.95</price>\n",
    "      <publish_date>2000-10-01</publish_date>\n",
    "      <description>An in-depth look at creating applications\n",
    "      with XML.</description>\n",
    "   </book>\n",
    "   <book id=\"bk102\">\n",
    "      <author>Ralls, Kim</author>\n",
    "      <title>Midnight Rain</title>\n",
    "      <genre>Fantasy</genre>\n",
    "      <price>5.95</price>\n",
    "      <publish_date>2000-12-16</publish_date>\n",
    "      <description>A former architect battles corporate zombies,\n",
    "      an evil sorceress, and her own childhood to become queen\n",
    "      of the world.</description>\n",
    "   </book>\n",
    "   <book id=\"bk103\">\n",
    "      <author>Corets, Eva</author>\n",
    "      <title>Maeve Ascendant</title>\n",
    "      <genre>Fantasy</genre>\n",
    "      <price>5.95</price>\n",
    "      <publish_date>2000-11-17</publish_date>\n",
    "      <description>After the collapse of a nanotechnology\n",
    "      society in England, the young survivors lay the\n",
    "      foundation for a new society.</description>\n",
    "   </book>\n",
    "   <book id=\"bk104\">\n",
    "      <author>Corets, Eva</author>\n",
    "      <title>Oberon's Legacy</title>\n",
    "      <genre>Fantasy</genre>\n",
    "      <price>5.95</price>\n",
    "      <publish_date>2001-03-10</publish_date>\n",
    "      <description>In post-apocalypse England, the mysterious\n",
    "      agent known only as Oberon helps to create a new life\n",
    "      for the inhabitants of London. Sequel to Maeve\n",
    "      Ascendant.</description>\n",
    "   </book>\n",
    "   <book id=\"bk105\">\n",
    "      <author>Corets, Eva</author>\n",
    "      <title>The Sundered Grail</title>\n",
    "      <genre>Fantasy</genre>\n",
    "      <price>5.95</price>\n",
    "      <publish_date>2001-09-10</publish_date>\n",
    "      <description>The two daughters of Maeve, half-sisters,\n",
    "      battle one another for control of England. Sequel to\n",
    "      Oberon's Legacy.</description>\n",
    "   </book>\n",
    "   <book id=\"bk106\">\n",
    "      <author>Randall, Cynthia</author>\n",
    "      <title>Lover Birds</title>\n",
    "      <genre>Romance</genre>\n",
    "      <price>4.95</price>\n",
    "      <publish_date>2000-09-02</publish_date>\n",
    "      <description>When Carla meets Paul at an ornithology\n",
    "      conference, tempers fly as feathers get ruffled.</description>\n",
    "   </book>\n",
    "   <book id=\"bk107\">\n",
    "      <author>Thurman, Paula</author>\n",
    "      <title>Splish Splash</title>\n",
    "      <genre>Romance</genre>\n",
    "      <price>4.95</price>\n",
    "      <publish_date>2000-11-02</publish_date>\n",
    "      <description>A deep sea diver finds true love twenty\n",
    "      thousand leagues beneath the sea.</description>\n",
    "   </book>\n",
    "   <book id=\"bk108\">\n",
    "      <author>Knorr, Stefan</author>\n",
    "      <title>Creepy Crawlies</title>\n",
    "      <genre>Horror</genre>\n",
    "      <price>4.95</price>\n",
    "      <publish_date>2000-12-06</publish_date>\n",
    "      <description>An anthology of horror stories about roaches,\n",
    "      centipedes, scorpions  and other insects.</description>\n",
    "   </book>\n",
    "   <book id=\"bk109\">\n",
    "      <author>Kress, Peter</author>\n",
    "      <title>Paradox Lost</title>\n",
    "      <genre>Science Fiction</genre>\n",
    "      <price>6.95</price>\n",
    "      <publish_date>2000-11-02</publish_date>\n",
    "      <description>After an inadvertant trip through a Heisenberg\n",
    "      Uncertainty Device, James Salway discovers the problems\n",
    "      of being quantum.</description>\n",
    "   </book>\n",
    "   <book id=\"bk110\">\n",
    "      <author>O'Brien, Tim</author>\n",
    "      <title>Microsoft .NET: The Programming Bible</title>\n",
    "      <genre>Computer</genre>\n",
    "      <price>36.95</price>\n",
    "      <publish_date>2000-12-09</publish_date>\n",
    "      <description>Microsoft's .NET initiative is explored in\n",
    "      detail in this deep programmer's reference.</description>\n",
    "   </book>\n",
    "   <book id=\"bk111\">\n",
    "      <author>O'Brien, Tim</author>\n",
    "      <title>MSXML3: A Comprehensive Guide</title>\n",
    "      <genre>Computer</genre>\n",
    "      <price>36.95</price>\n",
    "      <publish_date>2000-12-01</publish_date>\n",
    "      <description>The Microsoft MSXML3 parser is covered in\n",
    "      detail, with attention to XML DOM interfaces, XSLT processing,\n",
    "      SAX and more.</description>\n",
    "   </book>\n",
    "   <book id=\"bk112\">\n",
    "      <author>Galos, Mike</author>\n",
    "      <title>Visual Studio 7: A Comprehensive Guide</title>\n",
    "      <genre>Computer</genre>\n",
    "      <price>49.95</price>\n",
    "      <publish_date>2001-04-16</publish_date>\n",
    "      <description>Microsoft Visual Studio 7 is explored in depth,\n",
    "      looking at how Visual Basic, Visual C++, C#, and ASP+ are\n",
    "      integrated into a comprehensive development\n",
    "      environment.</description>\n",
    "   </book>\n",
    "</catalog>\n"
   ]
  },
  {
   "cell_type": "code",
   "execution_count": 42,
   "metadata": {},
   "outputs": [
    {
     "data": {
      "text/plain": [
       "<Element 'user' at 0x7fa06cf01a70>"
      ]
     },
     "execution_count": 42,
     "metadata": {},
     "output_type": "execute_result"
    }
   ],
   "source": [
    "xml = \"\"\"<?xml version='1.0' ?>\n",
    "<user>\n",
    "   <info>\n",
    "       <author>\n",
    "          <title>Chandrashekar</title>\n",
    "        </author>\n",
    "    </info>\n",
    "    <book>\n",
    "        <title>Hello world</title>\n",
    "    </book>\n",
    "</user>\n",
    "\"\"\"\n",
    "\n",
    "u = et.fromstring(xml)\n",
    "u\n"
   ]
  },
  {
   "cell_type": "code",
   "execution_count": 45,
   "metadata": {},
   "outputs": [
    {
     "data": {
      "text/plain": [
       "'Chandrashekar'"
      ]
     },
     "execution_count": 45,
     "metadata": {},
     "output_type": "execute_result"
    }
   ],
   "source": [
    "u.find(\"./info/author/title\").text"
   ]
  },
  {
   "cell_type": "code",
   "execution_count": 46,
   "metadata": {},
   "outputs": [
    {
     "data": {
      "text/plain": [
       "'Hello world'"
      ]
     },
     "execution_count": 46,
     "metadata": {},
     "output_type": "execute_result"
    }
   ],
   "source": [
    "u.find(\"./book/title\").text"
   ]
  },
  {
   "cell_type": "code",
   "execution_count": 50,
   "metadata": {},
   "outputs": [
    {
     "data": {
      "text/plain": [
       "['Chandrashekar', 'Hello world']"
      ]
     },
     "execution_count": 50,
     "metadata": {},
     "output_type": "execute_result"
    }
   ],
   "source": [
    "u.findall(\".//title\")\n",
    "[ t.text for t in u.iterfind(\".//title\") ]"
   ]
  },
  {
   "cell_type": "code",
   "execution_count": 87,
   "metadata": {},
   "outputs": [
    {
     "data": {
      "text/plain": [
       "<Response [200]>"
      ]
     },
     "execution_count": 87,
     "metadata": {},
     "output_type": "execute_result"
    }
   ],
   "source": [
    "import requests\n",
    "response = requests.get(\"http://www.chandrashekar.info/\")\n",
    "response"
   ]
  },
  {
   "cell_type": "code",
   "execution_count": 90,
   "metadata": {},
   "outputs": [
    {
     "data": {
      "text/plain": [
       "'text/html; charset=UTF-8'"
      ]
     },
     "execution_count": 90,
     "metadata": {},
     "output_type": "execute_result"
    }
   ],
   "source": [
    "response.headers[\"content-type\"]"
   ]
  },
  {
   "cell_type": "code",
   "execution_count": 91,
   "metadata": {},
   "outputs": [
    {
     "data": {
      "text/plain": [
       "<module 'lxml.html' from '/opt/anaconda3/lib/python3.7/site-packages/lxml/html/__init__.py'>"
      ]
     },
     "execution_count": 91,
     "metadata": {},
     "output_type": "execute_result"
    }
   ],
   "source": [
    "import lxml.html as hp\n",
    "hp"
   ]
  },
  {
   "cell_type": "code",
   "execution_count": 92,
   "metadata": {},
   "outputs": [
    {
     "data": {
      "text/plain": [
       "<Element html at 0x7fa06d087590>"
      ]
     },
     "execution_count": 92,
     "metadata": {},
     "output_type": "execute_result"
    }
   ],
   "source": [
    "html = hp.fromstring(response.text)\n",
    "html"
   ]
  },
  {
   "cell_type": "code",
   "execution_count": 101,
   "metadata": {
    "scrolled": true
   },
   "outputs": [
    {
     "data": {
      "text/plain": [
       "(['/',\n",
       "  '/',\n",
       "  '/about',\n",
       "  '/profile',\n",
       "  '/calendar',\n",
       "  '/blog',\n",
       "  '/screencasts',\n",
       "  '/bookmarks',\n",
       "  '/contact',\n",
       "  '#',\n",
       "  '#',\n",
       "  '#',\n",
       "  '/',\n",
       "  '/about',\n",
       "  '/profile',\n",
       "  '/calendar',\n",
       "  '/blog',\n",
       "  '/screencasts',\n",
       "  '/bookmarks',\n",
       "  '/contact',\n",
       "  'http://octobercms.com/',\n",
       "  'http://html5up.net',\n",
       "  'http://raz.cloud/'],\n",
       " ['Home',\n",
       "  'About',\n",
       "  'Profile',\n",
       "  'Calendar',\n",
       "  'Blog',\n",
       "  'Screencasts',\n",
       "  'Bookmarks',\n",
       "  'Contact',\n",
       "  '\\n            ',\n",
       "  '\\n          ',\n",
       "  '\\n            ',\n",
       "  '\\n          ',\n",
       "  '\\n            ',\n",
       "  '\\n          ',\n",
       "  'Home',\n",
       "  'About',\n",
       "  'Profile',\n",
       "  'Calendar',\n",
       "  'Blog',\n",
       "  'Screencasts',\n",
       "  'Bookmarks',\n",
       "  'Contact',\n",
       "  'OctoberCMS',\n",
       "  'HTML5 UP',\n",
       "  'Raz Cloud'])"
      ]
     },
     "execution_count": 101,
     "metadata": {},
     "output_type": "execute_result"
    }
   ],
   "source": [
    "html.xpath(\".//a[@href]/@href\"), html.xpath(\".//a[@href]/text()\")"
   ]
  },
  {
   "cell_type": "code",
   "execution_count": 103,
   "metadata": {},
   "outputs": [
    {
     "data": {
      "text/plain": [
       "bs4.BeautifulSoup"
      ]
     },
     "execution_count": 103,
     "metadata": {},
     "output_type": "execute_result"
    }
   ],
   "source": [
    "from bs4 import BeautifulSoup\n",
    "soup = BeautifulSoup(response.text)\n",
    "type(soup)"
   ]
  },
  {
   "cell_type": "code",
   "execution_count": 108,
   "metadata": {},
   "outputs": [
    {
     "data": {
      "text/plain": [
       "<strong class=\"heading\"> Linux Kernel</strong>"
      ]
     },
     "execution_count": 108,
     "metadata": {},
     "output_type": "execute_result"
    }
   ],
   "source": [
    "soup.body.span.strong"
   ]
  },
  {
   "cell_type": "code",
   "execution_count": 111,
   "metadata": {},
   "outputs": [
    {
     "data": {
      "text/plain": [
       "<title>Chandrashekar Babu | Home | Experienced FOSS Technologist and Corporate Trainer for Linux Kernel, Python, Ruby, Perl, Apache web server, MariaDB administration, Software design principles, Git, Crystal, Core Java, Clojure, Go, Rust, Julia, Lua, Tcl, Bash, FreeBSD Internals, PostgreSQL administration and Applied machine learning</title>"
      ]
     },
     "execution_count": 111,
     "metadata": {},
     "output_type": "execute_result"
    }
   ],
   "source": [
    "t = soup.head.title\n",
    "t"
   ]
  },
  {
   "cell_type": "code",
   "execution_count": 116,
   "metadata": {},
   "outputs": [
    {
     "data": {
      "text/plain": [
       "'\\n'"
      ]
     },
     "execution_count": 116,
     "metadata": {},
     "output_type": "execute_result"
    }
   ],
   "source": [
    "t.next.next.next.next"
   ]
  },
  {
   "cell_type": "code",
   "execution_count": 126,
   "metadata": {
    "scrolled": true
   },
   "outputs": [
    {
     "ename": "NotImplementedError",
     "evalue": "Psuedo-element found at position 2",
     "output_type": "error",
     "traceback": [
      "\u001b[0;31m---------------------------------------------------------------------------\u001b[0m",
      "\u001b[0;31mNotImplementedError\u001b[0m                       Traceback (most recent call last)",
      "\u001b[0;32m<ipython-input-126-ff8293ee75b3>\u001b[0m in \u001b[0;36m<module>\u001b[0;34m\u001b[0m\n\u001b[0;32m----> 1\u001b[0;31m \u001b[0msoup\u001b[0m\u001b[0;34m.\u001b[0m\u001b[0mselect\u001b[0m\u001b[0;34m(\u001b[0m\u001b[0;34m\"a ::attr(href)\"\u001b[0m\u001b[0;34m)\u001b[0m\u001b[0;34m\u001b[0m\u001b[0;34m\u001b[0m\u001b[0m\n\u001b[0m",
      "\u001b[0;32m/opt/anaconda3/lib/python3.7/site-packages/bs4/element.py\u001b[0m in \u001b[0;36mselect\u001b[0;34m(self, selector, namespaces, limit, **kwargs)\u001b[0m\n\u001b[1;32m   1862\u001b[0m             )\n\u001b[1;32m   1863\u001b[0m \u001b[0;34m\u001b[0m\u001b[0m\n\u001b[0;32m-> 1864\u001b[0;31m         \u001b[0mresults\u001b[0m \u001b[0;34m=\u001b[0m \u001b[0msoupsieve\u001b[0m\u001b[0;34m.\u001b[0m\u001b[0mselect\u001b[0m\u001b[0;34m(\u001b[0m\u001b[0mselector\u001b[0m\u001b[0;34m,\u001b[0m \u001b[0mself\u001b[0m\u001b[0;34m,\u001b[0m \u001b[0mnamespaces\u001b[0m\u001b[0;34m,\u001b[0m \u001b[0mlimit\u001b[0m\u001b[0;34m,\u001b[0m \u001b[0;34m**\u001b[0m\u001b[0mkwargs\u001b[0m\u001b[0;34m)\u001b[0m\u001b[0;34m\u001b[0m\u001b[0;34m\u001b[0m\u001b[0m\n\u001b[0m\u001b[1;32m   1865\u001b[0m \u001b[0;34m\u001b[0m\u001b[0m\n\u001b[1;32m   1866\u001b[0m         \u001b[0;31m# We do this because it's more consistent and because\u001b[0m\u001b[0;34m\u001b[0m\u001b[0;34m\u001b[0m\u001b[0;34m\u001b[0m\u001b[0m\n",
      "\u001b[0;32m/opt/anaconda3/lib/python3.7/site-packages/soupsieve/__init__.py\u001b[0m in \u001b[0;36mselect\u001b[0;34m(select, tag, namespaces, limit, flags, **kwargs)\u001b[0m\n\u001b[1;32m     96\u001b[0m     \u001b[0;34m\"\"\"Select the specified tags.\"\"\"\u001b[0m\u001b[0;34m\u001b[0m\u001b[0;34m\u001b[0m\u001b[0m\n\u001b[1;32m     97\u001b[0m \u001b[0;34m\u001b[0m\u001b[0m\n\u001b[0;32m---> 98\u001b[0;31m     \u001b[0;32mreturn\u001b[0m \u001b[0mcompile\u001b[0m\u001b[0;34m(\u001b[0m\u001b[0mselect\u001b[0m\u001b[0;34m,\u001b[0m \u001b[0mnamespaces\u001b[0m\u001b[0;34m,\u001b[0m \u001b[0mflags\u001b[0m\u001b[0;34m,\u001b[0m \u001b[0;34m**\u001b[0m\u001b[0mkwargs\u001b[0m\u001b[0;34m)\u001b[0m\u001b[0;34m.\u001b[0m\u001b[0mselect\u001b[0m\u001b[0;34m(\u001b[0m\u001b[0mtag\u001b[0m\u001b[0;34m,\u001b[0m \u001b[0mlimit\u001b[0m\u001b[0;34m)\u001b[0m\u001b[0;34m\u001b[0m\u001b[0;34m\u001b[0m\u001b[0m\n\u001b[0m\u001b[1;32m     99\u001b[0m \u001b[0;34m\u001b[0m\u001b[0m\n\u001b[1;32m    100\u001b[0m \u001b[0;34m\u001b[0m\u001b[0m\n",
      "\u001b[0;32m/opt/anaconda3/lib/python3.7/site-packages/soupsieve/__init__.py\u001b[0m in \u001b[0;36mcompile\u001b[0;34m(pattern, namespaces, flags, **kwargs)\u001b[0m\n\u001b[1;32m     60\u001b[0m         \u001b[0;32mreturn\u001b[0m \u001b[0mpattern\u001b[0m\u001b[0;34m\u001b[0m\u001b[0;34m\u001b[0m\u001b[0m\n\u001b[1;32m     61\u001b[0m \u001b[0;34m\u001b[0m\u001b[0m\n\u001b[0;32m---> 62\u001b[0;31m     \u001b[0;32mreturn\u001b[0m \u001b[0mcp\u001b[0m\u001b[0;34m.\u001b[0m\u001b[0m_cached_css_compile\u001b[0m\u001b[0;34m(\u001b[0m\u001b[0mpattern\u001b[0m\u001b[0;34m,\u001b[0m \u001b[0mnamespaces\u001b[0m\u001b[0;34m,\u001b[0m \u001b[0mcustom\u001b[0m\u001b[0;34m,\u001b[0m \u001b[0mflags\u001b[0m\u001b[0;34m)\u001b[0m\u001b[0;34m\u001b[0m\u001b[0;34m\u001b[0m\u001b[0m\n\u001b[0m\u001b[1;32m     63\u001b[0m \u001b[0;34m\u001b[0m\u001b[0m\n\u001b[1;32m     64\u001b[0m \u001b[0;34m\u001b[0m\u001b[0m\n",
      "\u001b[0;32m/opt/anaconda3/lib/python3.7/site-packages/soupsieve/css_parser.py\u001b[0m in \u001b[0;36m_cached_css_compile\u001b[0;34m(pattern, namespaces, custom, flags)\u001b[0m\n\u001b[1;32m    206\u001b[0m     return cm.SoupSieve(\n\u001b[1;32m    207\u001b[0m         \u001b[0mpattern\u001b[0m\u001b[0;34m,\u001b[0m\u001b[0;34m\u001b[0m\u001b[0;34m\u001b[0m\u001b[0m\n\u001b[0;32m--> 208\u001b[0;31m         \u001b[0mCSSParser\u001b[0m\u001b[0;34m(\u001b[0m\u001b[0mpattern\u001b[0m\u001b[0;34m,\u001b[0m \u001b[0mcustom\u001b[0m\u001b[0;34m=\u001b[0m\u001b[0mcustom_selectors\u001b[0m\u001b[0;34m,\u001b[0m \u001b[0mflags\u001b[0m\u001b[0;34m=\u001b[0m\u001b[0mflags\u001b[0m\u001b[0;34m)\u001b[0m\u001b[0;34m.\u001b[0m\u001b[0mprocess_selectors\u001b[0m\u001b[0;34m(\u001b[0m\u001b[0;34m)\u001b[0m\u001b[0;34m,\u001b[0m\u001b[0;34m\u001b[0m\u001b[0;34m\u001b[0m\u001b[0m\n\u001b[0m\u001b[1;32m    209\u001b[0m         \u001b[0mnamespaces\u001b[0m\u001b[0;34m,\u001b[0m\u001b[0;34m\u001b[0m\u001b[0;34m\u001b[0m\u001b[0m\n\u001b[1;32m    210\u001b[0m         \u001b[0mcustom\u001b[0m\u001b[0;34m,\u001b[0m\u001b[0;34m\u001b[0m\u001b[0;34m\u001b[0m\u001b[0m\n",
      "\u001b[0;32m/opt/anaconda3/lib/python3.7/site-packages/soupsieve/css_parser.py\u001b[0m in \u001b[0;36mprocess_selectors\u001b[0;34m(self, index, flags)\u001b[0m\n\u001b[1;32m   1041\u001b[0m         \u001b[0;34m\"\"\"Process selectors.\"\"\"\u001b[0m\u001b[0;34m\u001b[0m\u001b[0;34m\u001b[0m\u001b[0m\n\u001b[1;32m   1042\u001b[0m \u001b[0;34m\u001b[0m\u001b[0m\n\u001b[0;32m-> 1043\u001b[0;31m         \u001b[0;32mreturn\u001b[0m \u001b[0mself\u001b[0m\u001b[0;34m.\u001b[0m\u001b[0mparse_selectors\u001b[0m\u001b[0;34m(\u001b[0m\u001b[0mself\u001b[0m\u001b[0;34m.\u001b[0m\u001b[0mselector_iter\u001b[0m\u001b[0;34m(\u001b[0m\u001b[0mself\u001b[0m\u001b[0;34m.\u001b[0m\u001b[0mpattern\u001b[0m\u001b[0;34m)\u001b[0m\u001b[0;34m,\u001b[0m \u001b[0mindex\u001b[0m\u001b[0;34m,\u001b[0m \u001b[0mflags\u001b[0m\u001b[0;34m)\u001b[0m\u001b[0;34m\u001b[0m\u001b[0;34m\u001b[0m\u001b[0m\n\u001b[0m\u001b[1;32m   1044\u001b[0m \u001b[0;34m\u001b[0m\u001b[0m\n\u001b[1;32m   1045\u001b[0m \u001b[0;34m\u001b[0m\u001b[0m\n",
      "\u001b[0;32m/opt/anaconda3/lib/python3.7/site-packages/soupsieve/css_parser.py\u001b[0m in \u001b[0;36mparse_selectors\u001b[0;34m(self, iselector, index, flags)\u001b[0m\n\u001b[1;32m    902\u001b[0m                     \u001b[0mhas_selector\u001b[0m\u001b[0;34m,\u001b[0m \u001b[0mis_html\u001b[0m \u001b[0;34m=\u001b[0m \u001b[0mself\u001b[0m\u001b[0;34m.\u001b[0m\u001b[0mparse_pseudo_class\u001b[0m\u001b[0;34m(\u001b[0m\u001b[0msel\u001b[0m\u001b[0;34m,\u001b[0m \u001b[0mm\u001b[0m\u001b[0;34m,\u001b[0m \u001b[0mhas_selector\u001b[0m\u001b[0;34m,\u001b[0m \u001b[0miselector\u001b[0m\u001b[0;34m,\u001b[0m \u001b[0mis_html\u001b[0m\u001b[0;34m)\u001b[0m\u001b[0;34m\u001b[0m\u001b[0;34m\u001b[0m\u001b[0m\n\u001b[1;32m    903\u001b[0m                 \u001b[0;32melif\u001b[0m \u001b[0mkey\u001b[0m \u001b[0;34m==\u001b[0m \u001b[0;34m'pseudo_element'\u001b[0m\u001b[0;34m:\u001b[0m\u001b[0;34m\u001b[0m\u001b[0;34m\u001b[0m\u001b[0m\n\u001b[0;32m--> 904\u001b[0;31m                     \u001b[0;32mraise\u001b[0m \u001b[0mNotImplementedError\u001b[0m\u001b[0;34m(\u001b[0m\u001b[0;34m\"Psuedo-element found at position {}\"\u001b[0m\u001b[0;34m.\u001b[0m\u001b[0mformat\u001b[0m\u001b[0;34m(\u001b[0m\u001b[0mm\u001b[0m\u001b[0;34m.\u001b[0m\u001b[0mstart\u001b[0m\u001b[0;34m(\u001b[0m\u001b[0;36m0\u001b[0m\u001b[0;34m)\u001b[0m\u001b[0;34m)\u001b[0m\u001b[0;34m)\u001b[0m\u001b[0;34m\u001b[0m\u001b[0;34m\u001b[0m\u001b[0m\n\u001b[0m\u001b[1;32m    905\u001b[0m                 \u001b[0;32melif\u001b[0m \u001b[0mkey\u001b[0m \u001b[0;34m==\u001b[0m \u001b[0;34m'pseudo_contains'\u001b[0m\u001b[0;34m:\u001b[0m\u001b[0;34m\u001b[0m\u001b[0;34m\u001b[0m\u001b[0m\n\u001b[1;32m    906\u001b[0m                     \u001b[0mhas_selector\u001b[0m \u001b[0;34m=\u001b[0m \u001b[0mself\u001b[0m\u001b[0;34m.\u001b[0m\u001b[0mparse_pseudo_contains\u001b[0m\u001b[0;34m(\u001b[0m\u001b[0msel\u001b[0m\u001b[0;34m,\u001b[0m \u001b[0mm\u001b[0m\u001b[0;34m,\u001b[0m \u001b[0mhas_selector\u001b[0m\u001b[0;34m)\u001b[0m\u001b[0;34m\u001b[0m\u001b[0;34m\u001b[0m\u001b[0m\n",
      "\u001b[0;31mNotImplementedError\u001b[0m: Psuedo-element found at position 2"
     ]
    }
   ],
   "source": [
    "soup.select(\"a ::attr(href)\")"
   ]
  },
  {
   "cell_type": "code",
   "execution_count": 128,
   "metadata": {},
   "outputs": [],
   "source": [
    "from requests_html import HTMLSession"
   ]
  },
  {
   "cell_type": "code",
   "execution_count": 129,
   "metadata": {},
   "outputs": [],
   "source": [
    "session = HTMLSession()"
   ]
  },
  {
   "cell_type": "code",
   "execution_count": 130,
   "metadata": {},
   "outputs": [
    {
     "data": {
      "text/plain": [
       "200"
      ]
     },
     "execution_count": 130,
     "metadata": {},
     "output_type": "execute_result"
    }
   ],
   "source": [
    "response = session.get(\"https://www.cisco.com/\")\n",
    "response.status_code"
   ]
  },
  {
   "cell_type": "code",
   "execution_count": 131,
   "metadata": {},
   "outputs": [
    {
     "data": {
      "text/plain": [
       "'text/html;charset=utf-8'"
      ]
     },
     "execution_count": 131,
     "metadata": {},
     "output_type": "execute_result"
    }
   ],
   "source": [
    "response.headers[\"content-type\"]"
   ]
  },
  {
   "cell_type": "code",
   "execution_count": 133,
   "metadata": {
    "scrolled": true
   },
   "outputs": [
    {
     "data": {
      "text/plain": [
       "{'//blogs.cisco.com',\n",
       " '//newsroom.cisco.com',\n",
       " '//twitter.com/cisco_in',\n",
       " '//www.cisco.com/c/en/us/about/account.html',\n",
       " '//www.cisco.com/c/en/us/about/legal/terms-conditions.html',\n",
       " '//www.cisco.com/c/en/us/about/legal/trademarks.html',\n",
       " '//www.cisco.com/c/en_in/about/contact-cisco.html',\n",
       " '//www.cisco.com/c/en_in/about/legal/privacy-full.html',\n",
       " '//www.cisco.com/c/en_in/about/legal/privacy-full.html#cookies',\n",
       " '//www.cisco.com/c/en_in/support/index.html',\n",
       " '//www.cisco.com/c/en_in/training-events.html',\n",
       " '//www.facebook.com/Cisco.in/',\n",
       " '//www.linkedin.com/company/cisco',\n",
       " '//www.youtube.com/user/cisco',\n",
       " '/c/dam/en/us/solutions/collateral/data-center/tech-mahindra-case-study.pdf?CONTENT=default&CCID=cc001486&POSITION=Small+Tile+2+Mid&CREATIVE=hyperflex&COUNTRY_SITE=IN&REFERRING_SITE=CISCO.COM+HOMEPAGE',\n",
       " '/c/en/us/about/careers.html',\n",
       " '/c/en/us/about/careers/we-are-cisco.html',\n",
       " '/c/en/us/about/careers/we-are-cisco/people-deal.html',\n",
       " '/c/en/us/about/case-studies-customer-success-stories.html',\n",
       " '/c/en/us/about/help.html',\n",
       " '/c/en/us/about/trust-center.html',\n",
       " '/c/en/us/solutions/enterprise-networks/enable-business-continuity-using-your-network.html?CONTENT=default&POSITION=Small+Tile+2+Mid&CREATIVE=remote+access&COUNTRY_SITE=IN&REFERRING_SITE=CISCO.COM+HOMEPAGE',\n",
       " '/c/en/us/solutions/enterprise/design-zone/index.html',\n",
       " '/c/en/us/training-events/training-certifications/overview.html',\n",
       " '/c/en_in/about.html',\n",
       " '/c/en_in/about/contact-cisco.html',\n",
       " '/c/en_in/about/csr.html',\n",
       " '/c/en_in/about/e-waste.html',\n",
       " '/c/en_in/about/sitemap.html',\n",
       " '/c/en_in/buy.html',\n",
       " '/c/en_in/index.html',\n",
       " '/c/en_in/partners.html',\n",
       " '/c/en_in/partners/partner-with-cisco.html',\n",
       " '/c/en_in/products/index.html',\n",
       " '/c/en_in/products/security/security-virtual-summit-june-2020.html?CONTENT=default&CCID=cc000828&POSITION=Wide+Tile&CREATIVE=offer&COUNTRY_SITE=IN&REFERRING_SITE=CISCO.COM+HOMEPAGE',\n",
       " '/c/en_in/solutions/collaboration/webex-teams.html',\n",
       " '/c/en_in/solutions/digital-transformation/index.html',\n",
       " '/c/en_in/solutions/partner-ecosystem.html',\n",
       " '/c/en_in/solutions/small-business.html?CONTENT=default&POSITION=Primary+Marquee&CREATIVE=stay&COUNTRY_SITE=IN&REFERRING_SITE=CISCO.COM+HOMEPAGE',\n",
       " '/c/en_in/support/index.html',\n",
       " '/c/en_in/training-events.html',\n",
       " '/c/en_in/training-events/events-webinars/webinars.html?CONTENT=default&POSITION=Small+Tile+3&CREATIVE=cisco+webinars&COUNTRY_SITE=IN&REFERRING_SITE=CISCO.COM+HOMEPAGE',\n",
       " '/c/login/index.html?referer=/c/en_in/index.html',\n",
       " '/c/m/en_in/covid19.html?CONTENT=default&POSITION=Small+Tile+3&CREATIVE=covid&COUNTRY_SITE=IN&REFERRING_SITE=CISCO.COM+HOMEPAGE',\n",
       " '/c/m/en_us/products/conferencing/webex-secure-video-conferencing.html?CONTENT=default&CCID=cc001767&POSITION=Primary+Marquee&CREATIVE=cisco+live&COUNTRY_SITE=IN&REFERRING_SITE=CISCO.COM+HOMEPAGE',\n",
       " '/c/video/webinars/en_in/data-center/cisco-and-cohesity-team-up-against-ransomware.html?CONTENT=default&CCID=cc001486&POSITION=Small+Tile+1&CREATIVE=dcw&COUNTRY_SITE=IN&REFERRING_SITE=CISCO.COM+HOMEPAGE',\n",
       " 'https://blogs.cisco.com/datacenter/cisco-computing-is-making-it-easier-to-ramp-and-support-your-new-remote-workers?CONTENT=default&POSITION=Small+Tile+1&CREATIVE=blog&COUNTRY_SITE=IN&REFERRING_SITE=CISCO.COM+HOMEPAGE',\n",
       " 'https://community.cisco.com',\n",
       " 'https://engage2demand.cisco.com/LP=21267?CONTENT=default&CCID=cc000828&OID=trlsc014639&POSITION=Primary+Marquee&CREATIVE=cisco+live&COUNTRY_SITE=IN&REFERRING_SITE=CISCO.COM+HOMEPAGE',\n",
       " 'https://engage2demand.cisco.com/lp=13109?ecid=14762',\n",
       " 'https://identity.cisco.com/ui/tenants/global/v1.0/enrollment-ui',\n",
       " 'https://identity.cisco.com/ui/v1.0/recovery-ui/forgot-password',\n",
       " 'https://investor.cisco.com/investor-relations/overview/default.aspx',\n",
       " 'https://locatr.cloudapps.cisco.com/WWChannels/LOCATR/openBasicSearch.do?preferredLanguage=en&preferredCountry=IN',\n",
       " 'https://meraki.cisco.com/',\n",
       " 'https://mycase.cloudapps.cisco.com/case',\n",
       " 'https://newsroom.cisco.com/feature-content?type=webcontent&articleId=2080343&utm_campaign=cdcglobal_2080343&utm_source=cisco.com&utm_medium=global_in&CONTENT=default&POSITION=Narrow+Tile&CREATIVE=webex&COUNTRY_SITE=IN&REFERRING_SITE=CISCO.COM+HOMEPAGE',\n",
       " 'https://secure.opinionlab.com/ccc01/o.asp?id=jBjOhqOJ',\n",
       " 'https://software.cisco.com/download/navigator.html',\n",
       " 'https://supportforums.cisco.com/',\n",
       " 'https://umbrella.cisco.com/?utm_medium=web-referral&utm_source=cisco',\n",
       " 'https://www.cisco.com/go/dbe',\n",
       " 'https://www.webex.com/',\n",
       " 'tel:000-800-040-2263'}"
      ]
     },
     "execution_count": 133,
     "metadata": {},
     "output_type": "execute_result"
    }
   ],
   "source": [
    "response.html.links"
   ]
  },
  {
   "cell_type": "code",
   "execution_count": 134,
   "metadata": {
    "scrolled": true
   },
   "outputs": [
    {
     "data": {
      "text/plain": [
       "{'https://blogs.cisco.com',\n",
       " 'https://blogs.cisco.com/datacenter/cisco-computing-is-making-it-easier-to-ramp-and-support-your-new-remote-workers?CONTENT=default&POSITION=Small+Tile+1&CREATIVE=blog&COUNTRY_SITE=IN&REFERRING_SITE=CISCO.COM+HOMEPAGE',\n",
       " 'https://community.cisco.com',\n",
       " 'https://engage2demand.cisco.com/LP=21267?CONTENT=default&CCID=cc000828&OID=trlsc014639&POSITION=Primary+Marquee&CREATIVE=cisco+live&COUNTRY_SITE=IN&REFERRING_SITE=CISCO.COM+HOMEPAGE',\n",
       " 'https://engage2demand.cisco.com/lp=13109?ecid=14762',\n",
       " 'https://identity.cisco.com/ui/tenants/global/v1.0/enrollment-ui',\n",
       " 'https://identity.cisco.com/ui/v1.0/recovery-ui/forgot-password',\n",
       " 'https://investor.cisco.com/investor-relations/overview/default.aspx',\n",
       " 'https://locatr.cloudapps.cisco.com/WWChannels/LOCATR/openBasicSearch.do?preferredLanguage=en&preferredCountry=IN',\n",
       " 'https://meraki.cisco.com/',\n",
       " 'https://mycase.cloudapps.cisco.com/case',\n",
       " 'https://newsroom.cisco.com',\n",
       " 'https://newsroom.cisco.com/feature-content?type=webcontent&articleId=2080343&utm_campaign=cdcglobal_2080343&utm_source=cisco.com&utm_medium=global_in&CONTENT=default&POSITION=Narrow+Tile&CREATIVE=webex&COUNTRY_SITE=IN&REFERRING_SITE=CISCO.COM+HOMEPAGE',\n",
       " 'https://secure.opinionlab.com/ccc01/o.asp?id=jBjOhqOJ',\n",
       " 'https://software.cisco.com/download/navigator.html',\n",
       " 'https://supportforums.cisco.com/',\n",
       " 'https://twitter.com/cisco_in',\n",
       " 'https://umbrella.cisco.com/?utm_medium=web-referral&utm_source=cisco',\n",
       " 'https://www.cisco.com/c/dam/en/us/solutions/collateral/data-center/tech-mahindra-case-study.pdf?CONTENT=default&CCID=cc001486&POSITION=Small+Tile+2+Mid&CREATIVE=hyperflex&COUNTRY_SITE=IN&REFERRING_SITE=CISCO.COM+HOMEPAGE',\n",
       " 'https://www.cisco.com/c/en/us/about/account.html',\n",
       " 'https://www.cisco.com/c/en/us/about/careers.html',\n",
       " 'https://www.cisco.com/c/en/us/about/careers/we-are-cisco.html',\n",
       " 'https://www.cisco.com/c/en/us/about/careers/we-are-cisco/people-deal.html',\n",
       " 'https://www.cisco.com/c/en/us/about/case-studies-customer-success-stories.html',\n",
       " 'https://www.cisco.com/c/en/us/about/help.html',\n",
       " 'https://www.cisco.com/c/en/us/about/legal/terms-conditions.html',\n",
       " 'https://www.cisco.com/c/en/us/about/legal/trademarks.html',\n",
       " 'https://www.cisco.com/c/en/us/about/trust-center.html',\n",
       " 'https://www.cisco.com/c/en/us/solutions/enterprise-networks/enable-business-continuity-using-your-network.html?CONTENT=default&POSITION=Small+Tile+2+Mid&CREATIVE=remote+access&COUNTRY_SITE=IN&REFERRING_SITE=CISCO.COM+HOMEPAGE',\n",
       " 'https://www.cisco.com/c/en/us/solutions/enterprise/design-zone/index.html',\n",
       " 'https://www.cisco.com/c/en/us/training-events/training-certifications/overview.html',\n",
       " 'https://www.cisco.com/c/en_in/about.html',\n",
       " 'https://www.cisco.com/c/en_in/about/contact-cisco.html',\n",
       " 'https://www.cisco.com/c/en_in/about/csr.html',\n",
       " 'https://www.cisco.com/c/en_in/about/e-waste.html',\n",
       " 'https://www.cisco.com/c/en_in/about/legal/privacy-full.html',\n",
       " 'https://www.cisco.com/c/en_in/about/legal/privacy-full.html#cookies',\n",
       " 'https://www.cisco.com/c/en_in/about/sitemap.html',\n",
       " 'https://www.cisco.com/c/en_in/buy.html',\n",
       " 'https://www.cisco.com/c/en_in/index.html',\n",
       " 'https://www.cisco.com/c/en_in/partners.html',\n",
       " 'https://www.cisco.com/c/en_in/partners/partner-with-cisco.html',\n",
       " 'https://www.cisco.com/c/en_in/products/index.html',\n",
       " 'https://www.cisco.com/c/en_in/products/security/security-virtual-summit-june-2020.html?CONTENT=default&CCID=cc000828&POSITION=Wide+Tile&CREATIVE=offer&COUNTRY_SITE=IN&REFERRING_SITE=CISCO.COM+HOMEPAGE',\n",
       " 'https://www.cisco.com/c/en_in/solutions/collaboration/webex-teams.html',\n",
       " 'https://www.cisco.com/c/en_in/solutions/digital-transformation/index.html',\n",
       " 'https://www.cisco.com/c/en_in/solutions/partner-ecosystem.html',\n",
       " 'https://www.cisco.com/c/en_in/solutions/small-business.html?CONTENT=default&POSITION=Primary+Marquee&CREATIVE=stay&COUNTRY_SITE=IN&REFERRING_SITE=CISCO.COM+HOMEPAGE',\n",
       " 'https://www.cisco.com/c/en_in/support/index.html',\n",
       " 'https://www.cisco.com/c/en_in/training-events.html',\n",
       " 'https://www.cisco.com/c/en_in/training-events/events-webinars/webinars.html?CONTENT=default&POSITION=Small+Tile+3&CREATIVE=cisco+webinars&COUNTRY_SITE=IN&REFERRING_SITE=CISCO.COM+HOMEPAGE',\n",
       " 'https://www.cisco.com/c/login/index.html?referer=/c/en_in/index.html',\n",
       " 'https://www.cisco.com/c/m/en_in/covid19.html?CONTENT=default&POSITION=Small+Tile+3&CREATIVE=covid&COUNTRY_SITE=IN&REFERRING_SITE=CISCO.COM+HOMEPAGE',\n",
       " 'https://www.cisco.com/c/m/en_us/products/conferencing/webex-secure-video-conferencing.html?CONTENT=default&CCID=cc001767&POSITION=Primary+Marquee&CREATIVE=cisco+live&COUNTRY_SITE=IN&REFERRING_SITE=CISCO.COM+HOMEPAGE',\n",
       " 'https://www.cisco.com/c/video/webinars/en_in/data-center/cisco-and-cohesity-team-up-against-ransomware.html?CONTENT=default&CCID=cc001486&POSITION=Small+Tile+1&CREATIVE=dcw&COUNTRY_SITE=IN&REFERRING_SITE=CISCO.COM+HOMEPAGE',\n",
       " 'https://www.cisco.com/go/dbe',\n",
       " 'https://www.facebook.com/Cisco.in/',\n",
       " 'https://www.linkedin.com/company/cisco',\n",
       " 'https://www.webex.com/',\n",
       " 'https://www.youtube.com/user/cisco',\n",
       " 'tel:000-800-040-2263'}"
      ]
     },
     "execution_count": 134,
     "metadata": {},
     "output_type": "execute_result"
    }
   ],
   "source": [
    "response.html.absolute_links"
   ]
  },
  {
   "cell_type": "code",
   "execution_count": 135,
   "metadata": {},
   "outputs": [
    {
     "data": {
      "text/plain": [
       "[]"
      ]
     },
     "execution_count": 135,
     "metadata": {},
     "output_type": "execute_result"
    }
   ],
   "source": [
    "response.html.xpath(\".//form\")"
   ]
  },
  {
   "cell_type": "code",
   "execution_count": 136,
   "metadata": {},
   "outputs": [
    {
     "data": {
      "text/plain": [
       "[<Element 'form' class=('search-the-site',) action='/search/' method='get'>]"
      ]
     },
     "execution_count": 136,
     "metadata": {},
     "output_type": "execute_result"
    }
   ],
   "source": [
    "session.get(\"https://www.python.org/\").html.xpath(\".//form\")"
   ]
  },
  {
   "cell_type": "code",
   "execution_count": 137,
   "metadata": {},
   "outputs": [
    {
     "data": {
      "text/plain": [
       "<Response [200]>"
      ]
     },
     "execution_count": 137,
     "metadata": {},
     "output_type": "execute_result"
    }
   ],
   "source": [
    "element = \"/html/body/div[1]/div/div/div[1]/div/div[2]/div/div/div[4]/div/div/div/div[3]/div/div/span[1]\"\n",
    "\n",
    "res = session.get(\"https://finance.yahoo.com/quote/CSCO/options?p=CSCO\")\n",
    "res"
   ]
  },
  {
   "cell_type": "code",
   "execution_count": 142,
   "metadata": {},
   "outputs": [
    {
     "data": {
      "text/plain": [
       "['47.41', 'Historical Data']"
      ]
     },
     "execution_count": 142,
     "metadata": {},
     "output_type": "execute_result"
    }
   ],
   "source": [
    "res.html.xpath(\".//span[@data-reactid='32']/text()\")"
   ]
  },
  {
   "cell_type": "code",
   "execution_count": 144,
   "metadata": {},
   "outputs": [
    {
     "data": {
      "text/plain": [
       "[]"
      ]
     },
     "execution_count": 144,
     "metadata": {},
     "output_type": "execute_result"
    }
   ],
   "source": [
    "res.html.xpath(\"/html/body/div[1]/div/div/div[1]/div/div[2]/div/div/div[4]/div/div/div/div[3]/div/p/span[1]\")"
   ]
  },
  {
   "cell_type": "code",
   "execution_count": 145,
   "metadata": {
    "scrolled": true
   },
   "outputs": [
    {
     "ename": "RuntimeError",
     "evalue": "Cannot use HTMLSession within an existing event loop. Use AsyncHTMLSession instead.",
     "output_type": "error",
     "traceback": [
      "\u001b[0;31m---------------------------------------------------------------------------\u001b[0m",
      "\u001b[0;31mRuntimeError\u001b[0m                              Traceback (most recent call last)",
      "\u001b[0;32m<ipython-input-145-9800845592ff>\u001b[0m in \u001b[0;36m<module>\u001b[0;34m\u001b[0m\n\u001b[0;32m----> 1\u001b[0;31m \u001b[0mres\u001b[0m\u001b[0;34m.\u001b[0m\u001b[0mhtml\u001b[0m\u001b[0;34m.\u001b[0m\u001b[0mrender\u001b[0m\u001b[0;34m(\u001b[0m\u001b[0;34m)\u001b[0m\u001b[0;34m\u001b[0m\u001b[0;34m\u001b[0m\u001b[0m\n\u001b[0m",
      "\u001b[0;32m/opt/anaconda3/lib/python3.7/site-packages/requests_html.py\u001b[0m in \u001b[0;36mrender\u001b[0;34m(self, retries, script, wait, scrolldown, sleep, reload, timeout, keep_page)\u001b[0m\n\u001b[1;32m    584\u001b[0m         \"\"\"\n\u001b[1;32m    585\u001b[0m \u001b[0;34m\u001b[0m\u001b[0m\n\u001b[0;32m--> 586\u001b[0;31m         \u001b[0mself\u001b[0m\u001b[0;34m.\u001b[0m\u001b[0mbrowser\u001b[0m \u001b[0;34m=\u001b[0m \u001b[0mself\u001b[0m\u001b[0;34m.\u001b[0m\u001b[0msession\u001b[0m\u001b[0;34m.\u001b[0m\u001b[0mbrowser\u001b[0m  \u001b[0;31m# Automatically create a event loop and browser\u001b[0m\u001b[0;34m\u001b[0m\u001b[0;34m\u001b[0m\u001b[0m\n\u001b[0m\u001b[1;32m    587\u001b[0m         \u001b[0mcontent\u001b[0m \u001b[0;34m=\u001b[0m \u001b[0;32mNone\u001b[0m\u001b[0;34m\u001b[0m\u001b[0;34m\u001b[0m\u001b[0m\n\u001b[1;32m    588\u001b[0m \u001b[0;34m\u001b[0m\u001b[0m\n",
      "\u001b[0;32m/opt/anaconda3/lib/python3.7/site-packages/requests_html.py\u001b[0m in \u001b[0;36mbrowser\u001b[0;34m(self)\u001b[0m\n\u001b[1;32m    727\u001b[0m             \u001b[0mself\u001b[0m\u001b[0;34m.\u001b[0m\u001b[0mloop\u001b[0m \u001b[0;34m=\u001b[0m \u001b[0masyncio\u001b[0m\u001b[0;34m.\u001b[0m\u001b[0mget_event_loop\u001b[0m\u001b[0;34m(\u001b[0m\u001b[0;34m)\u001b[0m\u001b[0;34m\u001b[0m\u001b[0;34m\u001b[0m\u001b[0m\n\u001b[1;32m    728\u001b[0m             \u001b[0;32mif\u001b[0m \u001b[0mself\u001b[0m\u001b[0;34m.\u001b[0m\u001b[0mloop\u001b[0m\u001b[0;34m.\u001b[0m\u001b[0mis_running\u001b[0m\u001b[0;34m(\u001b[0m\u001b[0;34m)\u001b[0m\u001b[0;34m:\u001b[0m\u001b[0;34m\u001b[0m\u001b[0;34m\u001b[0m\u001b[0m\n\u001b[0;32m--> 729\u001b[0;31m                 \u001b[0;32mraise\u001b[0m \u001b[0mRuntimeError\u001b[0m\u001b[0;34m(\u001b[0m\u001b[0;34m\"Cannot use HTMLSession within an existing event loop. Use AsyncHTMLSession instead.\"\u001b[0m\u001b[0;34m)\u001b[0m\u001b[0;34m\u001b[0m\u001b[0;34m\u001b[0m\u001b[0m\n\u001b[0m\u001b[1;32m    730\u001b[0m             \u001b[0mself\u001b[0m\u001b[0;34m.\u001b[0m\u001b[0m_browser\u001b[0m \u001b[0;34m=\u001b[0m \u001b[0mself\u001b[0m\u001b[0;34m.\u001b[0m\u001b[0mloop\u001b[0m\u001b[0;34m.\u001b[0m\u001b[0mrun_until_complete\u001b[0m\u001b[0;34m(\u001b[0m\u001b[0msuper\u001b[0m\u001b[0;34m(\u001b[0m\u001b[0;34m)\u001b[0m\u001b[0;34m.\u001b[0m\u001b[0mbrowser\u001b[0m\u001b[0;34m)\u001b[0m\u001b[0;34m\u001b[0m\u001b[0;34m\u001b[0m\u001b[0m\n\u001b[1;32m    731\u001b[0m         \u001b[0;32mreturn\u001b[0m \u001b[0mself\u001b[0m\u001b[0;34m.\u001b[0m\u001b[0m_browser\u001b[0m\u001b[0;34m\u001b[0m\u001b[0;34m\u001b[0m\u001b[0m\n",
      "\u001b[0;31mRuntimeError\u001b[0m: Cannot use HTMLSession within an existing event loop. Use AsyncHTMLSession instead."
     ]
    }
   ],
   "source": [
    "res.html.render()"
   ]
  },
  {
   "cell_type": "code",
   "execution_count": 146,
   "metadata": {
    "scrolled": true
   },
   "outputs": [
    {
     "name": "stdout",
     "output_type": "stream",
     "text": [
      "Requirement already satisfied: mechanicalsoup in /opt/anaconda3/lib/python3.7/site-packages (0.12.0)\n",
      "Requirement already satisfied: six>=1.4 in /opt/anaconda3/lib/python3.7/site-packages (from mechanicalsoup) (1.15.0)\n",
      "Requirement already satisfied: requests>=2.0 in /opt/anaconda3/lib/python3.7/site-packages (from mechanicalsoup) (2.24.0)\n",
      "Requirement already satisfied: beautifulsoup4>=4.4 in /opt/anaconda3/lib/python3.7/site-packages (from mechanicalsoup) (4.9.1)\n",
      "Requirement already satisfied: lxml in /opt/anaconda3/lib/python3.7/site-packages (from mechanicalsoup) (4.5.1)\n",
      "Requirement already satisfied: urllib3!=1.25.0,!=1.25.1,<1.26,>=1.21.1 in /opt/anaconda3/lib/python3.7/site-packages (from requests>=2.0->mechanicalsoup) (1.25.9)\n",
      "Requirement already satisfied: certifi>=2017.4.17 in /opt/anaconda3/lib/python3.7/site-packages (from requests>=2.0->mechanicalsoup) (2020.6.20)\n",
      "Requirement already satisfied: idna<3,>=2.5 in /opt/anaconda3/lib/python3.7/site-packages (from requests>=2.0->mechanicalsoup) (2.10)\n",
      "Requirement already satisfied: chardet<4,>=3.0.2 in /opt/anaconda3/lib/python3.7/site-packages (from requests>=2.0->mechanicalsoup) (3.0.4)\n",
      "Requirement already satisfied: soupsieve>1.2 in /opt/anaconda3/lib/python3.7/site-packages (from beautifulsoup4>=4.4->mechanicalsoup) (2.0.1)\n",
      "Note: you may need to restart the kernel to use updated packages.\n"
     ]
    }
   ],
   "source": [
    "pip install mechanicalsoup"
   ]
  },
  {
   "cell_type": "code",
   "execution_count": 147,
   "metadata": {},
   "outputs": [],
   "source": [
    "from mechanicalsoup import StatefulBrowser\n",
    "\n",
    "br = StatefulBrowser()"
   ]
  },
  {
   "cell_type": "code",
   "execution_count": 150,
   "metadata": {},
   "outputs": [
    {
     "data": {
      "text/plain": [
       "<Response [200]>"
      ]
     },
     "execution_count": 150,
     "metadata": {},
     "output_type": "execute_result"
    }
   ],
   "source": [
    "br.open(\"https://www.python.org/\")"
   ]
  },
  {
   "cell_type": "code",
   "execution_count": 168,
   "metadata": {},
   "outputs": [],
   "source": [
    "#br.links()"
   ]
  },
  {
   "cell_type": "code",
   "execution_count": 153,
   "metadata": {},
   "outputs": [
    {
     "data": {
      "text/plain": [
       "'https://www.python.org/'"
      ]
     },
     "execution_count": 153,
     "metadata": {},
     "output_type": "execute_result"
    }
   ],
   "source": [
    "br.get_url()"
   ]
  },
  {
   "cell_type": "code",
   "execution_count": 159,
   "metadata": {},
   "outputs": [
    {
     "data": {
      "text/plain": [
       "<Response [200]>"
      ]
     },
     "execution_count": 159,
     "metadata": {},
     "output_type": "execute_result"
    }
   ],
   "source": [
    "l = br.find_link(text=\"Jobs\")\n",
    "br.follow_link(l)"
   ]
  },
  {
   "cell_type": "code",
   "execution_count": 160,
   "metadata": {},
   "outputs": [
    {
     "data": {
      "text/plain": [
       "'https://www.python.org/jobs/'"
      ]
     },
     "execution_count": 160,
     "metadata": {},
     "output_type": "execute_result"
    }
   ],
   "source": [
    "br.get_url()"
   ]
  },
  {
   "cell_type": "code",
   "execution_count": 161,
   "metadata": {},
   "outputs": [
    {
     "data": {
      "text/plain": [
       "<mechanicalsoup.form.Form at 0x7fa06eacfa90>"
      ]
     },
     "execution_count": 161,
     "metadata": {},
     "output_type": "execute_result"
    }
   ],
   "source": [
    "br.select_form()"
   ]
  },
  {
   "cell_type": "code",
   "execution_count": 162,
   "metadata": {},
   "outputs": [],
   "source": [
    "f = br.select_form()"
   ]
  },
  {
   "cell_type": "code",
   "execution_count": 167,
   "metadata": {},
   "outputs": [
    {
     "name": "stdout",
     "output_type": "stream",
     "text": [
      "<input class=\"search-field\" id=\"id-search-field\" name=\"q\" placeholder=\"Search\" role=\"textbox\" tabindex=\"1\" type=\"search\" value=\"Guido Van Rossum\"/>\n",
      "<button class=\"search-button\" id=\"submit\" name=\"submit\" tabindex=\"3\" title=\"Submit this Search\" type=\"submit\">GO</button>\n"
     ]
    }
   ],
   "source": [
    "f.print_summary()"
   ]
  },
  {
   "cell_type": "code",
   "execution_count": 164,
   "metadata": {},
   "outputs": [],
   "source": [
    "br[\"q\"] = \"Guido Van Rossum\"\n"
   ]
  },
  {
   "cell_type": "code",
   "execution_count": 165,
   "metadata": {},
   "outputs": [
    {
     "data": {
      "text/plain": [
       "<Response [200]>"
      ]
     },
     "execution_count": 165,
     "metadata": {},
     "output_type": "execute_result"
    }
   ],
   "source": [
    "br.submit_selected()"
   ]
  },
  {
   "cell_type": "code",
   "execution_count": 166,
   "metadata": {},
   "outputs": [
    {
     "data": {
      "text/plain": [
       "'https://www.python.org/search/?q=Guido+Van+Rossum&submit='"
      ]
     },
     "execution_count": 166,
     "metadata": {},
     "output_type": "execute_result"
    }
   ],
   "source": [
    "br.get_url()"
   ]
  },
  {
   "cell_type": "code",
   "execution_count": 169,
   "metadata": {},
   "outputs": [],
   "source": [
    "home_url = \"http://testing.chandrashekar.info/\"\n",
    "\n",
    "username = \"testuser\"\n",
    "password = \"w3lc0me\"\n",
    "\n",
    "login_url = \"http://testing.chandrashekar.info/wp-login.php\"\n",
    "\n",
    "logged_in_url = \"http://testing.chandrashekar.info/wp-admin/\"\n",
    "\n",
    "add_new_post_url = \"http://testing.chandrashekar.info/wp-admin/post-new.php\""
   ]
  },
  {
   "cell_type": "code",
   "execution_count": 171,
   "metadata": {},
   "outputs": [],
   "source": [
    "br = StatefulBrowser()\n"
   ]
  },
  {
   "cell_type": "code",
   "execution_count": 172,
   "metadata": {},
   "outputs": [
    {
     "data": {
      "text/plain": [
       "<Response [200]>"
      ]
     },
     "execution_count": 172,
     "metadata": {},
     "output_type": "execute_result"
    }
   ],
   "source": [
    "br.open(login_url)"
   ]
  },
  {
   "cell_type": "code",
   "execution_count": 174,
   "metadata": {
    "scrolled": true
   },
   "outputs": [
    {
     "name": "stdout",
     "output_type": "stream",
     "text": [
      "<input autocapitalize=\"off\" class=\"input\" id=\"user_login\" name=\"log\" size=\"20\" type=\"text\" value=\"\"/>\n",
      "<input class=\"input password-input\" id=\"user_pass\" name=\"pwd\" size=\"20\" type=\"password\" value=\"\"/>\n",
      "<button aria-label=\"Show password\" class=\"button button-secondary wp-hide-pw hide-if-no-js\" data-toggle=\"0\" type=\"button\">\n",
      "<span aria-hidden=\"true\" class=\"dashicons dashicons-visibility\"></span>\n",
      "</button>\n",
      "<input id=\"rememberme\" name=\"rememberme\" type=\"checkbox\" value=\"forever\"/>\n",
      "<input class=\"button button-primary button-large\" id=\"wp-submit\" name=\"wp-submit\" type=\"submit\" value=\"Log In\"/>\n",
      "<input name=\"redirect_to\" type=\"hidden\" value=\"http://testing.chandrashekar.info/wp-admin/\"/>\n",
      "<input name=\"testcookie\" type=\"hidden\" value=\"1\"/>\n"
     ]
    }
   ],
   "source": [
    "login_form = br.select_form()\n",
    "login_form.print_summary()"
   ]
  },
  {
   "cell_type": "code",
   "execution_count": 175,
   "metadata": {},
   "outputs": [
    {
     "data": {
      "text/plain": [
       "'http://testing.chandrashekar.info/wp-admin/'"
      ]
     },
     "execution_count": 175,
     "metadata": {},
     "output_type": "execute_result"
    }
   ],
   "source": [
    "br[\"log\"] = username\n",
    "br[\"pwd\"] = password\n",
    "br.submit_selected()\n",
    "br.get_url()"
   ]
  },
  {
   "cell_type": "code",
   "execution_count": 177,
   "metadata": {},
   "outputs": [
    {
     "data": {
      "text/plain": [
       "<Response [200]>"
      ]
     },
     "execution_count": 177,
     "metadata": {},
     "output_type": "execute_result"
    }
   ],
   "source": [
    "post_new_link = br.find_link(text=\"Add New\")\n",
    "br.follow_link(post_new_link)"
   ]
  },
  {
   "cell_type": "code",
   "execution_count": 178,
   "metadata": {},
   "outputs": [
    {
     "data": {
      "text/plain": [
       "'http://testing.chandrashekar.info/wp-admin/post-new.php'"
      ]
     },
     "execution_count": 178,
     "metadata": {},
     "output_type": "execute_result"
    }
   ],
   "source": [
    "br.get_url()"
   ]
  },
  {
   "cell_type": "code",
   "execution_count": 180,
   "metadata": {
    "scrolled": true
   },
   "outputs": [
    {
     "name": "stdout",
     "output_type": "stream",
     "text": [
      "<input checked=\"checked\" class=\"hide-postbox-tog\" id=\"categorydiv-hide\" name=\"categorydiv-hide\" type=\"checkbox\" value=\"categorydiv\"/>\n",
      "<input checked=\"checked\" class=\"hide-postbox-tog\" id=\"tagsdiv-post_tag-hide\" name=\"tagsdiv-post_tag-hide\" type=\"checkbox\" value=\"tagsdiv-post_tag\"/>\n",
      "<input checked=\"checked\" class=\"hide-postbox-tog\" id=\"pageparentdiv-hide\" name=\"pageparentdiv-hide\" type=\"checkbox\" value=\"pageparentdiv\"/>\n",
      "<input checked=\"checked\" class=\"hide-postbox-tog\" id=\"postimagediv-hide\" name=\"postimagediv-hide\" type=\"checkbox\" value=\"postimagediv\"/>\n",
      "<input class=\"hide-postbox-tog\" id=\"postexcerpt-hide\" name=\"postexcerpt-hide\" type=\"checkbox\" value=\"postexcerpt\"/>\n",
      "<input class=\"hide-postbox-tog\" id=\"trackbacksdiv-hide\" name=\"trackbacksdiv-hide\" type=\"checkbox\" value=\"trackbacksdiv\"/>\n",
      "<input class=\"hide-postbox-tog\" id=\"postcustom-hide\" name=\"postcustom-hide\" type=\"checkbox\" value=\"postcustom\"/>\n",
      "<input class=\"hide-postbox-tog\" id=\"commentstatusdiv-hide\" name=\"commentstatusdiv-hide\" type=\"checkbox\" value=\"commentstatusdiv\"/>\n",
      "<input class=\"hide-postbox-tog\" id=\"slugdiv-hide\" name=\"slugdiv-hide\" type=\"checkbox\" value=\"slugdiv\"/>\n",
      "<input class=\"hide-postbox-tog\" id=\"authordiv-hide\" name=\"authordiv-hide\" type=\"checkbox\" value=\"authordiv\"/>\n",
      "<input name=\"screen_columns\" type=\"radio\" value=\"1\"/>\n",
      "<input checked=\"checked\" name=\"screen_columns\" type=\"radio\" value=\"2\"/>\n",
      "<input checked=\"checked\" id=\"editor-expand-toggle\" type=\"checkbox\"/>\n",
      "<input id=\"screenoptionnonce\" name=\"screenoptionnonce\" type=\"hidden\" value=\"adac9e87f3\"/>\n"
     ]
    }
   ],
   "source": [
    "f = br.select_form()\n",
    "f.print_summary()"
   ]
  },
  {
   "cell_type": "code",
   "execution_count": 188,
   "metadata": {
    "scrolled": false
   },
   "outputs": [
    {
     "name": "stdout",
     "output_type": "stream",
     "text": [
      "<input id=\"_wpnonce\" name=\"_wpnonce\" type=\"hidden\" value=\"c86af486b8\"/>\n",
      "<input name=\"_wp_http_referer\" type=\"hidden\" value=\"/wp-admin/post-new.php\"/>\n",
      "<input id=\"user-id\" name=\"user_ID\" type=\"hidden\" value=\"2\"/>\n",
      "<input id=\"hiddenaction\" name=\"action\" type=\"hidden\" value=\"editpost\"/>\n",
      "<input id=\"originalaction\" name=\"originalaction\" type=\"hidden\" value=\"editpost\"/>\n",
      "<input id=\"post_author\" name=\"post_author\" type=\"hidden\" value=\"2\"/>\n",
      "<input id=\"post_type\" name=\"post_type\" type=\"hidden\" value=\"post\"/>\n",
      "<input id=\"original_post_status\" name=\"original_post_status\" type=\"hidden\" value=\"auto-draft\"/>\n",
      "<input id=\"referredby\" name=\"referredby\" type=\"hidden\" value=\"http://testing.chandrashekar.info/wp-admin/\"/>\n",
      "<input name=\"_wp_original_http_referer\" type=\"hidden\" value=\"http://testing.chandrashekar.info/wp-admin/\"/>\n",
      "<input id=\"auto_draft\" name=\"auto_draft\" type=\"hidden\" value=\"1\"/>\n",
      "<input id=\"post_ID\" name=\"post_ID\" type=\"hidden\" value=\"102\"/>\n",
      "<input id=\"meta-box-order-nonce\" name=\"meta-box-order-nonce\" type=\"hidden\" value=\"c6c8f2bb21\"/>\n",
      "<input id=\"closedpostboxesnonce\" name=\"closedpostboxesnonce\" type=\"hidden\" value=\"9a745525b0\"/>\n",
      "<input autocomplete=\"off\" id=\"title\" name=\"post_title\" size=\"30\" spellcheck=\"true\" type=\"text\" value=\"\"/>\n",
      "<input id=\"samplepermalinknonce\" name=\"samplepermalinknonce\" type=\"hidden\" value=\"821b250ae5\"/>\n",
      "<button class=\"button insert-media add_media\" data-editor=\"content\" id=\"insert-media-button\" type=\"button\"><span class=\"wp-media-buttons-icon\"></span> Add Media</button>\n",
      "<textarea class=\"wp-editor-area\" cols=\"40\" id=\"content\" name=\"content\" style=\"height: 300px\"></textarea>\n",
      "<button aria-expanded=\"true\" class=\"handlediv\" type=\"button\"><span class=\"screen-reader-text\">Toggle panel: Publish</span><span aria-hidden=\"true\" class=\"toggle-indicator\"></span></button>\n",
      "<input class=\"button\" id=\"save\" name=\"save\" type=\"submit\" value=\"Save\"/>\n",
      "<input class=\"button\" id=\"save-post\" name=\"save\" type=\"submit\" value=\"Save Draft\"/>\n",
      "<input id=\"wp-preview\" name=\"wp-preview\" type=\"hidden\" value=\"\"/>\n",
      "<input id=\"hidden_post_status\" name=\"hidden_post_status\" type=\"hidden\" value=\"draft\"/>\n",
      "<select id=\"post_status\" name=\"post_status\">\n",
      "<option value=\"pending\">Pending Review</option>\n",
      "<option selected=\"selected\" value=\"draft\">Draft</option>\n",
      "</select>\n",
      "<input id=\"hidden-post-password\" name=\"hidden_post_password\" type=\"hidden\" value=\"\"/>\n",
      "<input id=\"hidden-post-sticky\" name=\"hidden_post_sticky\" style=\"display:none\" type=\"checkbox\" value=\"sticky\"/>\n",
      "<input id=\"hidden-post-visibility\" name=\"hidden_post_visibility\" type=\"hidden\" value=\"public\"/>\n",
      "<input checked=\"checked\" id=\"visibility-radio-public\" name=\"visibility\" type=\"radio\" value=\"public\"/>\n",
      "<input id=\"sticky\" name=\"sticky\" type=\"checkbox\" value=\"sticky\"/>\n",
      "<input id=\"visibility-radio-password\" name=\"visibility\" type=\"radio\" value=\"password\"/>\n",
      "<input id=\"post_password\" maxlength=\"255\" name=\"post_password\" type=\"text\" value=\"\"/>\n",
      "<input id=\"visibility-radio-private\" name=\"visibility\" type=\"radio\" value=\"private\"/>\n",
      "<select id=\"mm\" name=\"mm\">\n",
      "<option data-text=\"Jan\" value=\"01\">01-Jan</option>\n",
      "<option data-text=\"Feb\" value=\"02\">02-Feb</option>\n",
      "<option data-text=\"Mar\" value=\"03\">03-Mar</option>\n",
      "<option data-text=\"Apr\" value=\"04\">04-Apr</option>\n",
      "<option data-text=\"May\" value=\"05\">05-May</option>\n",
      "<option data-text=\"Jun\" value=\"06\">06-Jun</option>\n",
      "<option data-text=\"Jul\" selected=\"selected\" value=\"07\">07-Jul</option>\n",
      "<option data-text=\"Aug\" value=\"08\">08-Aug</option>\n",
      "<option data-text=\"Sep\" value=\"09\">09-Sep</option>\n",
      "<option data-text=\"Oct\" value=\"10\">10-Oct</option>\n",
      "<option data-text=\"Nov\" value=\"11\">11-Nov</option>\n",
      "<option data-text=\"Dec\" value=\"12\">12-Dec</option>\n",
      "</select>\n",
      "<input autocomplete=\"off\" id=\"jj\" maxlength=\"2\" name=\"jj\" size=\"2\" type=\"text\" value=\"24\"/>\n",
      "<input autocomplete=\"off\" id=\"aa\" maxlength=\"4\" name=\"aa\" size=\"4\" type=\"text\" value=\"2020\"/>\n",
      "<input autocomplete=\"off\" id=\"hh\" maxlength=\"2\" name=\"hh\" size=\"2\" type=\"text\" value=\"09\"/>\n",
      "<input autocomplete=\"off\" id=\"mn\" maxlength=\"2\" name=\"mn\" size=\"2\" type=\"text\" value=\"14\"/>\n",
      "<input id=\"ss\" name=\"ss\" type=\"hidden\" value=\"35\"/>\n",
      "<input id=\"hidden_mm\" name=\"hidden_mm\" type=\"hidden\" value=\"07\"/>\n",
      "<input id=\"cur_mm\" name=\"cur_mm\" type=\"hidden\" value=\"07\"/>\n",
      "<input id=\"hidden_jj\" name=\"hidden_jj\" type=\"hidden\" value=\"24\"/>\n",
      "<input id=\"cur_jj\" name=\"cur_jj\" type=\"hidden\" value=\"24\"/>\n",
      "<input id=\"hidden_aa\" name=\"hidden_aa\" type=\"hidden\" value=\"2020\"/>\n",
      "<input id=\"cur_aa\" name=\"cur_aa\" type=\"hidden\" value=\"2020\"/>\n",
      "<input id=\"hidden_hh\" name=\"hidden_hh\" type=\"hidden\" value=\"09\"/>\n",
      "<input id=\"cur_hh\" name=\"cur_hh\" type=\"hidden\" value=\"09\"/>\n",
      "<input id=\"hidden_mn\" name=\"hidden_mn\" type=\"hidden\" value=\"14\"/>\n",
      "<input id=\"cur_mn\" name=\"cur_mn\" type=\"hidden\" value=\"14\"/>\n",
      "<input id=\"original_publish\" name=\"original_publish\" type=\"hidden\" value=\"Publish\"/>\n",
      "<input class=\"button button-primary button-large\" id=\"publish\" name=\"publish\" type=\"submit\" value=\"Publish\"/>\n",
      "<button aria-expanded=\"true\" class=\"handlediv\" type=\"button\"><span class=\"screen-reader-text\">Toggle panel: Categories</span><span aria-hidden=\"true\" class=\"toggle-indicator\"></span></button>\n",
      "<input id=\"in-popular-category-1\" type=\"checkbox\" value=\"1\"/>\n",
      "<input name=\"post_category[]\" type=\"hidden\" value=\"0\"/>\n",
      "<input id=\"in-category-1\" name=\"post_category[]\" type=\"checkbox\" value=\"1\"/>\n",
      "<input aria-required=\"true\" class=\"form-required form-input-tip\" id=\"newcategory\" name=\"newcategory\" type=\"text\" value=\"New Category Name\"/>\n",
      "<select class=\"postform\" id=\"newcategory_parent\" name=\"newcategory_parent\">\n",
      "<option value=\"-1\">— Parent Category —</option>\n",
      "<option class=\"level-0\" value=\"1\">Uncategorized</option>\n",
      "</select>\n",
      "<input class=\"button category-add-submit\" data-wp-lists=\"add:categorychecklist:category-add\" id=\"category-add-submit\" type=\"button\" value=\"Add New Category\"/>\n",
      "<input id=\"_ajax_nonce-add-category\" name=\"_ajax_nonce-add-category\" type=\"hidden\" value=\"68269d7b3f\"/>\n",
      "<button aria-expanded=\"true\" class=\"handlediv\" type=\"button\"><span class=\"screen-reader-text\">Toggle panel: Tags</span><span aria-hidden=\"true\" class=\"toggle-indicator\"></span></button>\n",
      "<textarea aria-describedby=\"new-tag-post_tag-desc\" class=\"the-tags\" cols=\"20\" id=\"tax-input-post_tag\" name=\"tax_input[post_tag]\" rows=\"3\"></textarea>\n",
      "<input aria-describedby=\"new-tag-post_tag-desc\" autocomplete=\"off\" class=\"newtag form-input-tip\" data-wp-taxonomy=\"post_tag\" id=\"new-tag-post_tag\" name=\"newtag[post_tag]\" size=\"16\" type=\"text\" value=\"\"/>\n",
      "<input class=\"button tagadd\" type=\"button\" value=\"Add\"/>\n",
      "<button aria-expanded=\"false\" class=\"button-link tagcloud-link\" id=\"link-post_tag\" type=\"button\">Choose from the most used tags</button>\n",
      "<button aria-expanded=\"true\" class=\"handlediv\" type=\"button\"><span class=\"screen-reader-text\">Toggle panel: Post Attributes</span><span aria-hidden=\"true\" class=\"toggle-indicator\"></span></button>\n",
      "<select id=\"page_template\" name=\"page_template\">\n",
      "<option value=\"default\">Default Template</option>\n",
      "<option value=\"templates/template-cover.php\">Cover Template</option>\n",
      "<option value=\"templates/template-full-width.php\">Full Width Template</option></select>\n",
      "<button aria-expanded=\"true\" class=\"handlediv\" type=\"button\"><span class=\"screen-reader-text\">Toggle panel: Featured Image</span><span aria-hidden=\"true\" class=\"toggle-indicator\"></span></button>\n",
      "<input id=\"_thumbnail_id\" name=\"_thumbnail_id\" type=\"hidden\" value=\"-1\"/>\n",
      "<button aria-expanded=\"true\" class=\"handlediv\" type=\"button\"><span class=\"screen-reader-text\">Toggle panel: Excerpt</span><span aria-hidden=\"true\" class=\"toggle-indicator\"></span></button>\n",
      "<textarea cols=\"40\" id=\"excerpt\" name=\"excerpt\" rows=\"1\"></textarea>\n",
      "<button aria-expanded=\"true\" class=\"handlediv\" type=\"button\"><span class=\"screen-reader-text\">Toggle panel: Send Trackbacks</span><span aria-hidden=\"true\" class=\"toggle-indicator\"></span></button>\n",
      "<input aria-describedby=\"trackback-url-desc\" class=\"code\" id=\"trackback_url\" name=\"trackback_url\" type=\"text\" value=\"\"/>\n",
      "<button aria-expanded=\"true\" class=\"handlediv\" type=\"button\"><span class=\"screen-reader-text\">Toggle panel: Custom Fields</span><span aria-hidden=\"true\" class=\"toggle-indicator\"></span></button>\n",
      "<input id=\"metakeyinput\" name=\"metakeyinput\" type=\"text\" value=\"\"/>\n",
      "<textarea cols=\"25\" id=\"metavalue\" name=\"metavalue\" rows=\"2\"></textarea>\n",
      "<input class=\"button\" data-wp-lists=\"add:the-list:newmeta\" id=\"newmeta-submit\" name=\"addmeta\" type=\"submit\" value=\"Add Custom Field\"/>\n",
      "<input id=\"_ajax_nonce-add-meta\" name=\"_ajax_nonce-add-meta\" type=\"hidden\" value=\"1d64482573\"/>\n",
      "<button aria-expanded=\"true\" class=\"handlediv\" type=\"button\"><span class=\"screen-reader-text\">Toggle panel: Discussion</span><span aria-hidden=\"true\" class=\"toggle-indicator\"></span></button>\n",
      "<input name=\"advanced_view\" type=\"hidden\" value=\"1\"/>\n",
      "<input checked=\"checked\" id=\"comment_status\" name=\"comment_status\" type=\"checkbox\" value=\"open\"/>\n",
      "<input checked=\"checked\" id=\"ping_status\" name=\"ping_status\" type=\"checkbox\" value=\"open\"/>\n",
      "<button aria-expanded=\"true\" class=\"handlediv\" type=\"button\"><span class=\"screen-reader-text\">Toggle panel: Slug</span><span aria-hidden=\"true\" class=\"toggle-indicator\"></span></button>\n",
      "<input id=\"post_name\" name=\"post_name\" size=\"13\" type=\"text\" value=\"\"/>\n",
      "<button aria-expanded=\"true\" class=\"handlediv\" type=\"button\"><span class=\"screen-reader-text\">Toggle panel: Author</span><span aria-hidden=\"true\" class=\"toggle-indicator\"></span></button>\n",
      "<select class=\"\" id=\"post_author_override\" name=\"post_author_override\">\n",
      "<option value=\"1\">admin (admin)</option>\n",
      "<option selected=\"selected\" value=\"2\">Test User (testuser)</option>\n",
      "</select>\n"
     ]
    }
   ],
   "source": [
    "post_form = br.select_form(selector='#post')\n",
    "post_form.print_summary()"
   ]
  },
  {
   "cell_type": "code",
   "execution_count": 189,
   "metadata": {},
   "outputs": [
    {
     "data": {
      "text/plain": [
       "'http://testing.chandrashekar.info/wp-admin/post.php?post=102&action=edit&message=6'"
      ]
     },
     "execution_count": 189,
     "metadata": {},
     "output_type": "execute_result"
    }
   ],
   "source": [
    "br[\"post_title\"] = \"A new blog added by program - Chandrashekar Babu\"\n",
    "br[\"content\"] = \"this is a test blog added using a Python program using mechanicalsoup framework\"\n",
    "br.get_current_form().choose_submit(\"publish\")\n",
    "br.submit_selected()\n",
    "br.get_url()"
   ]
  },
  {
   "cell_type": "code",
   "execution_count": 191,
   "metadata": {
    "scrolled": true
   },
   "outputs": [
    {
     "ename": "AttributeError",
     "evalue": "'StatefulBrowser' object has no attribute 'response'",
     "output_type": "error",
     "traceback": [
      "\u001b[0;31m---------------------------------------------------------------------------\u001b[0m",
      "\u001b[0;31mAttributeError\u001b[0m                            Traceback (most recent call last)",
      "\u001b[0;32m<ipython-input-191-d22dfb07fdda>\u001b[0m in \u001b[0;36m<module>\u001b[0;34m\u001b[0m\n\u001b[0;32m----> 1\u001b[0;31m \u001b[0mbr\u001b[0m\u001b[0;34m.\u001b[0m\u001b[0mresponse\u001b[0m\u001b[0;34m\u001b[0m\u001b[0;34m\u001b[0m\u001b[0m\n\u001b[0m",
      "\u001b[0;31mAttributeError\u001b[0m: 'StatefulBrowser' object has no attribute 'response'"
     ]
    }
   ],
   "source": [
    "br.response\n",
    "br."
   ]
  },
  {
   "cell_type": "code",
   "execution_count": 192,
   "metadata": {},
   "outputs": [],
   "source": [
    "br.close()"
   ]
  },
  {
   "cell_type": "code",
   "execution_count": 193,
   "metadata": {},
   "outputs": [],
   "source": [
    "br = StatefulBrowser()"
   ]
  },
  {
   "cell_type": "code",
   "execution_count": 194,
   "metadata": {},
   "outputs": [
    {
     "data": {
      "text/plain": [
       "<Response [200]>"
      ]
     },
     "execution_count": 194,
     "metadata": {},
     "output_type": "execute_result"
    }
   ],
   "source": [
    "br.open(login_url)"
   ]
  },
  {
   "cell_type": "code",
   "execution_count": 197,
   "metadata": {},
   "outputs": [
    {
     "data": {
      "text/plain": [
       "'http://testing.chandrashekar.info/wp-login.php'"
      ]
     },
     "execution_count": 197,
     "metadata": {},
     "output_type": "execute_result"
    }
   ],
   "source": [
    "br.get_url()"
   ]
  },
  {
   "cell_type": "code",
   "execution_count": 196,
   "metadata": {
    "scrolled": true
   },
   "outputs": [
    {
     "name": "stdout",
     "output_type": "stream",
     "text": [
      "<input autocapitalize=\"off\" class=\"input\" id=\"user_login\" name=\"log\" size=\"20\" type=\"text\" value=\"\"/>\n",
      "<input class=\"input password-input\" id=\"user_pass\" name=\"pwd\" size=\"20\" type=\"password\" value=\"\"/>\n",
      "<button aria-label=\"Show password\" class=\"button button-secondary wp-hide-pw hide-if-no-js\" data-toggle=\"0\" type=\"button\">\n",
      "<span aria-hidden=\"true\" class=\"dashicons dashicons-visibility\"></span>\n",
      "</button>\n",
      "<input id=\"rememberme\" name=\"rememberme\" type=\"checkbox\" value=\"forever\"/>\n",
      "<input class=\"button button-primary button-large\" id=\"wp-submit\" name=\"wp-submit\" type=\"submit\" value=\"Log In\"/>\n",
      "<input name=\"redirect_to\" type=\"hidden\" value=\"http://testing.chandrashekar.info/wp-admin/\"/>\n",
      "<input name=\"testcookie\" type=\"hidden\" value=\"1\"/>\n"
     ]
    }
   ],
   "source": [
    "br.select_form().print_summary()"
   ]
  },
  {
   "cell_type": "code",
   "execution_count": 199,
   "metadata": {
    "scrolled": true
   },
   "outputs": [
    {
     "name": "stdout",
     "output_type": "stream",
     "text": [
      "Requirement already satisfied: scrapy in /opt/anaconda3/lib/python3.7/site-packages (2.2.0)\n",
      "Requirement already satisfied: cryptography>=2.0 in /opt/anaconda3/lib/python3.7/site-packages (from scrapy) (2.9.2)\n",
      "Requirement already satisfied: queuelib>=1.4.2 in /opt/anaconda3/lib/python3.7/site-packages (from scrapy) (1.5.0)\n",
      "Requirement already satisfied: Twisted>=17.9.0 in /opt/anaconda3/lib/python3.7/site-packages (from scrapy) (20.3.0)\n",
      "Requirement already satisfied: w3lib>=1.17.0 in /opt/anaconda3/lib/python3.7/site-packages (from scrapy) (1.22.0)\n",
      "Requirement already satisfied: lxml>=3.5.0 in /opt/anaconda3/lib/python3.7/site-packages (from scrapy) (4.5.1)\n",
      "Requirement already satisfied: protego>=0.1.15 in /opt/anaconda3/lib/python3.7/site-packages (from scrapy) (0.1.16)\n",
      "Requirement already satisfied: itemadapter>=0.1.0 in /opt/anaconda3/lib/python3.7/site-packages (from scrapy) (0.1.0)\n",
      "Requirement already satisfied: parsel>=1.5.0 in /opt/anaconda3/lib/python3.7/site-packages (from scrapy) (1.6.0)\n",
      "Requirement already satisfied: cssselect>=0.9.1 in /opt/anaconda3/lib/python3.7/site-packages (from scrapy) (1.1.0)\n",
      "Requirement already satisfied: service-identity>=16.0.0 in /opt/anaconda3/lib/python3.7/site-packages (from scrapy) (18.1.0)\n",
      "Requirement already satisfied: PyDispatcher>=2.0.5 in /opt/anaconda3/lib/python3.7/site-packages (from scrapy) (2.0.5)\n",
      "Requirement already satisfied: pyOpenSSL>=16.2.0 in /opt/anaconda3/lib/python3.7/site-packages (from scrapy) (19.1.0)\n",
      "Requirement already satisfied: zope.interface>=4.1.3 in /opt/anaconda3/lib/python3.7/site-packages (from scrapy) (4.7.1)\n",
      "Requirement already satisfied: cffi!=1.11.3,>=1.8 in /opt/anaconda3/lib/python3.7/site-packages (from cryptography>=2.0->scrapy) (1.14.0)\n",
      "Requirement already satisfied: six>=1.4.1 in /opt/anaconda3/lib/python3.7/site-packages (from cryptography>=2.0->scrapy) (1.15.0)\n",
      "Requirement already satisfied: constantly>=15.1 in /opt/anaconda3/lib/python3.7/site-packages (from Twisted>=17.9.0->scrapy) (15.1.0)\n",
      "Requirement already satisfied: attrs>=19.2.0 in /opt/anaconda3/lib/python3.7/site-packages (from Twisted>=17.9.0->scrapy) (19.3.0)\n",
      "Requirement already satisfied: hyperlink>=17.1.1 in /opt/anaconda3/lib/python3.7/site-packages (from Twisted>=17.9.0->scrapy) (19.0.0)\n",
      "Requirement already satisfied: PyHamcrest!=1.10.0,>=1.9.0 in /opt/anaconda3/lib/python3.7/site-packages (from Twisted>=17.9.0->scrapy) (2.0.2)\n",
      "Requirement already satisfied: incremental>=16.10.1 in /opt/anaconda3/lib/python3.7/site-packages (from Twisted>=17.9.0->scrapy) (17.5.0)\n",
      "Requirement already satisfied: Automat>=0.3.0 in /opt/anaconda3/lib/python3.7/site-packages (from Twisted>=17.9.0->scrapy) (20.2.0)\n",
      "Requirement already satisfied: pyasn1 in /opt/anaconda3/lib/python3.7/site-packages (from service-identity>=16.0.0->scrapy) (0.4.8)\n",
      "Requirement already satisfied: pyasn1-modules in /opt/anaconda3/lib/python3.7/site-packages (from service-identity>=16.0.0->scrapy) (0.2.8)\n",
      "Requirement already satisfied: setuptools in /opt/anaconda3/lib/python3.7/site-packages (from zope.interface>=4.1.3->scrapy) (47.3.1.post20200622)\n",
      "Requirement already satisfied: pycparser in /opt/anaconda3/lib/python3.7/site-packages (from cffi!=1.11.3,>=1.8->cryptography>=2.0->scrapy) (2.20)\n",
      "Requirement already satisfied: idna>=2.5 in /opt/anaconda3/lib/python3.7/site-packages (from hyperlink>=17.1.1->Twisted>=17.9.0->scrapy) (2.10)\n",
      "Note: you may need to restart the kernel to use updated packages.\n"
     ]
    }
   ],
   "source": [
    "pip install scrapy"
   ]
  },
  {
   "cell_type": "code",
   "execution_count": null,
   "metadata": {},
   "outputs": [],
   "source": []
  }
 ],
 "metadata": {
  "kernelspec": {
   "display_name": "Python 3",
   "language": "python",
   "name": "python3"
  },
  "language_info": {
   "codemirror_mode": {
    "name": "ipython",
    "version": 3
   },
   "file_extension": ".py",
   "mimetype": "text/x-python",
   "name": "python",
   "nbconvert_exporter": "python",
   "pygments_lexer": "ipython3",
   "version": "3.7.6"
  }
 },
 "nbformat": 4,
 "nbformat_minor": 4
}
