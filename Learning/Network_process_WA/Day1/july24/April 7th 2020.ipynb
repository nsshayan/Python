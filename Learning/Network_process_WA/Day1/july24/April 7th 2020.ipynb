{
 "cells": [
  {
   "cell_type": "code",
   "execution_count": 1,
   "metadata": {},
   "outputs": [],
   "source": [
    "import xml.etree.ElementTree as et"
   ]
  },
  {
   "cell_type": "code",
   "execution_count": 2,
   "metadata": {},
   "outputs": [
    {
     "data": {
      "text/plain": [
       "<module 'xml.etree.ElementTree' from '/Users/chandrashekar/anaconda3/lib/python3.7/xml/etree/ElementTree.py'>"
      ]
     },
     "execution_count": 2,
     "metadata": {},
     "output_type": "execute_result"
    }
   ],
   "source": [
    "et"
   ]
  },
  {
   "cell_type": "code",
   "execution_count": null,
   "metadata": {},
   "outputs": [],
   "source": [
    "# %load xml/books.xml\n",
    "<?xml version=\"1.0\" ?>\n",
    "<catalog><book id=\"bk101\" country=\"India\" type=\"technical\">\n",
    "      this is a test book\n",
    "      <author>Gambardella, Matthew</author>\n",
    "      <title>XML Developer's Guide</title>\n",
    "      <genre>Computer</genre>\n",
    "      <price>44.95</price>\n",
    "      <publish_date>2000-10-01</publish_date>\n",
    "      <description>An in-depth look at creating applications\n",
    "      with XML.</description>\n",
    "   </book>\n",
    "   <book id=\"bk102\">\n",
    "      <author>Ralls, Kim</author>\n",
    "      <title>Midnight Rain</title>\n",
    "      <genre>Fantasy</genre>\n",
    "      <price>5.95</price>\n",
    "      <publish_date>2000-12-16</publish_date>\n",
    "      <description>A former architect battles corporate zombies,\n",
    "      an evil sorceress, and her own childhood to become queen\n",
    "      of the world.</description>\n",
    "   </book>\n",
    "   <book id=\"bk103\">\n",
    "      <author>Corets, Eva</author>\n",
    "      <title>Maeve Ascendant</title>\n",
    "      <genre>Fantasy</genre>\n",
    "      <price>5.95</price>\n",
    "      <publish_date>2000-11-17</publish_date>\n",
    "      <description>After the collapse of a nanotechnology\n",
    "      society in England, the young survivors lay the\n",
    "      foundation for a new society.</description>\n",
    "   </book>\n",
    "   <book id=\"bk104\">\n",
    "      <author>Corets, Eva</author>\n",
    "      <title>Oberon's Legacy</title>\n",
    "      <genre>Fantasy</genre>\n",
    "      <price>5.95</price>\n",
    "      <publish_date>2001-03-10</publish_date>\n",
    "      <description>In post-apocalypse England, the mysterious\n",
    "      agent known only as Oberon helps to create a new life\n",
    "      for the inhabitants of London. Sequel to Maeve\n",
    "      Ascendant.</description>\n",
    "   </book>\n",
    "   <book id=\"bk105\">\n",
    "      <author>Corets, Eva</author>\n",
    "      <title>The Sundered Grail</title>\n",
    "      <genre>Fantasy</genre>\n",
    "      <price>5.95</price>\n",
    "      <publish_date>2001-09-10</publish_date>\n",
    "      <description>The two daughters of Maeve, half-sisters,\n",
    "      battle one another for control of England. Sequel to\n",
    "      Oberon's Legacy.</description>\n",
    "   </book>\n",
    "   <book id=\"bk106\">\n",
    "      <author>Randall, Cynthia</author>\n",
    "      <title>Lover Birds</title>\n",
    "      <genre>Romance</genre>\n",
    "      <price>4.95</price>\n",
    "      <publish_date>2000-09-02</publish_date>\n",
    "      <description>When Carla meets Paul at an ornithology\n",
    "      conference, tempers fly as feathers get ruffled.</description>\n",
    "   </book>\n",
    "   <book id=\"bk107\">\n",
    "      <author>Thurman, Paula</author>\n",
    "      <title>Splish Splash</title>\n",
    "      <genre>Romance</genre>\n",
    "      <price>4.95</price>\n",
    "      <publish_date>2000-11-02</publish_date>\n",
    "      <description>A deep sea diver finds true love twenty\n",
    "      thousand leagues beneath the sea.</description>\n",
    "   </book>\n",
    "   <book id=\"bk108\">\n",
    "      <author>Knorr, Stefan</author>\n",
    "      <title>Creepy Crawlies</title>\n",
    "      <genre>Horror</genre>\n",
    "      <price>4.95</price>\n",
    "      <publish_date>2000-12-06</publish_date>\n",
    "      <description>An anthology of horror stories about roaches,\n",
    "      centipedes, scorpions  and other insects.</description>\n",
    "   </book>\n",
    "   <book id=\"bk109\">\n",
    "      <author>Kress, Peter</author>\n",
    "      <title>Paradox Lost</title>\n",
    "      <genre>Science Fiction</genre>\n",
    "      <price>6.95</price>\n",
    "      <publish_date>2000-11-02</publish_date>\n",
    "      <description>After an inadvertant trip through a Heisenberg\n",
    "      Uncertainty Device, James Salway discovers the problems\n",
    "      of being quantum.</description>\n",
    "   </book>\n",
    "   <book id=\"bk110\">\n",
    "      <author>O'Brien, Tim</author>\n",
    "      <title>Microsoft .NET: The Programming Bible</title>\n",
    "      <genre>Computer</genre>\n",
    "      <price>36.95</price>\n",
    "      <publish_date>2000-12-09</publish_date>\n",
    "      <description>Microsoft's .NET initiative is explored in\n",
    "      detail in this deep programmer's reference.</description>\n",
    "   </book>\n",
    "   <book id=\"bk111\">\n",
    "      <author>O'Brien, Tim</author>\n",
    "      <title>MSXML3: A Comprehensive Guide</title>\n",
    "      <genre>Computer</genre>\n",
    "      <price>36.95</price>\n",
    "      <publish_date>2000-12-01</publish_date>\n",
    "      <description>The Microsoft MSXML3 parser is covered in\n",
    "      detail, with attention to XML DOM interfaces, XSLT processing,\n",
    "      SAX and more.</description>\n",
    "   </book>\n",
    "   <book id=\"bk112\">\n",
    "      <author>Galos, Mike</author>\n",
    "      <title>Visual Studio 7: A Comprehensive Guide</title>\n",
    "      <genre>Computer</genre>\n",
    "      <price>49.95</price>\n",
    "      <publish_date>2001-04-16</publish_date>\n",
    "      <description>Microsoft Visual Studio 7 is explored in depth,\n",
    "      looking at how Visual Basic, Visual C++, C#, and ASP+ are\n",
    "      integrated into a comprehensive development\n",
    "      environment.</description>\n",
    "   </book>\n",
    "</catalog>\n"
   ]
  },
  {
   "cell_type": "code",
   "execution_count": 6,
   "metadata": {},
   "outputs": [
    {
     "name": "stdout",
     "output_type": "stream",
     "text": [
      "<xml.etree.ElementTree.ElementTree object at 0x104de0898>\n"
     ]
    }
   ],
   "source": [
    "tree = et.parse(\"xml/books.xml\")\n",
    "print(tree)"
   ]
  },
  {
   "cell_type": "code",
   "execution_count": 8,
   "metadata": {},
   "outputs": [
    {
     "data": {
      "text/plain": [
       "<Element 'catalog' at 0x102b6fea8>"
      ]
     },
     "execution_count": 8,
     "metadata": {},
     "output_type": "execute_result"
    }
   ],
   "source": [
    "root = tree.getroot()\n",
    "root"
   ]
  },
  {
   "cell_type": "code",
   "execution_count": 11,
   "metadata": {},
   "outputs": [
    {
     "data": {
      "text/plain": [
       "('catalog', {}, None)"
      ]
     },
     "execution_count": 11,
     "metadata": {},
     "output_type": "execute_result"
    }
   ],
   "source": [
    "root.tag, root.attrib, root.text"
   ]
  },
  {
   "cell_type": "code",
   "execution_count": 15,
   "metadata": {
    "scrolled": true
   },
   "outputs": [
    {
     "name": "stdout",
     "output_type": "stream",
     "text": [
      "<Element 'book' at 0x10519d8b8>\n",
      "<Element 'book' at 0x10519dae8>\n",
      "<Element 'book' at 0x10519dd18>\n",
      "<Element 'book' at 0x10519df48>\n",
      "<Element 'book' at 0x1051ad228>\n",
      "<Element 'book' at 0x1051ad458>\n",
      "<Element 'book' at 0x1051ad688>\n",
      "<Element 'book' at 0x1051ad8b8>\n",
      "<Element 'book' at 0x1051adae8>\n",
      "<Element 'book' at 0x1051add18>\n",
      "<Element 'book' at 0x1051adf48>\n",
      "<Element 'book' at 0x1051b6228>\n"
     ]
    }
   ],
   "source": [
    "for book in root:\n",
    "    print(book)"
   ]
  },
  {
   "cell_type": "code",
   "execution_count": 17,
   "metadata": {},
   "outputs": [],
   "source": [
    "b1 = root[0]"
   ]
  },
  {
   "cell_type": "code",
   "execution_count": 21,
   "metadata": {
    "scrolled": true
   },
   "outputs": [
    {
     "data": {
      "text/plain": [
       "('book',\n",
       " {'id': 'bk101', 'country': 'India', 'type': 'technical'},\n",
       " '\\n      this is a test book\\n      ')"
      ]
     },
     "execution_count": 21,
     "metadata": {},
     "output_type": "execute_result"
    }
   ],
   "source": [
    "b1.tag, b1.attrib, b1.text"
   ]
  },
  {
   "cell_type": "code",
   "execution_count": 22,
   "metadata": {
    "scrolled": true
   },
   "outputs": [
    {
     "name": "stdout",
     "output_type": "stream",
     "text": [
      "<Element 'author' at 0x10519d868>\n",
      "<Element 'title' at 0x10519d958>\n",
      "<Element 'genre' at 0x10519d9a8>\n",
      "<Element 'price' at 0x10519d9f8>\n",
      "<Element 'publish_date' at 0x10519da48>\n",
      "<Element 'description' at 0x10519da98>\n"
     ]
    }
   ],
   "source": [
    "for child in b1:\n",
    "    print(child)"
   ]
  },
  {
   "cell_type": "code",
   "execution_count": 23,
   "metadata": {
    "scrolled": true
   },
   "outputs": [
    {
     "name": "stdout",
     "output_type": "stream",
     "text": [
      "author = Gambardella, Matthew\n",
      "title = XML Developer's Guide\n",
      "genre = Computer\n",
      "price = 44.95\n",
      "publish_date = 2000-10-01\n",
      "description = An in-depth look at creating applications\n",
      "      with XML.\n"
     ]
    }
   ],
   "source": [
    "for child in b1:\n",
    "    print(child.tag, \"=\", child.text)"
   ]
  },
  {
   "cell_type": "code",
   "execution_count": 26,
   "metadata": {},
   "outputs": [
    {
     "data": {
      "text/plain": [
       "'bk112'"
      ]
     },
     "execution_count": 26,
     "metadata": {},
     "output_type": "execute_result"
    }
   ],
   "source": [
    "root[-1].attrib[\"id\"]"
   ]
  },
  {
   "cell_type": "code",
   "execution_count": 27,
   "metadata": {
    "scrolled": true
   },
   "outputs": [
    {
     "data": {
      "text/plain": [
       "'Galos, Mike'"
      ]
     },
     "execution_count": 27,
     "metadata": {},
     "output_type": "execute_result"
    }
   ],
   "source": [
    "root[-1][0].text"
   ]
  },
  {
   "cell_type": "code",
   "execution_count": 28,
   "metadata": {
    "scrolled": true
   },
   "outputs": [
    {
     "data": {
      "text/plain": [
       "[<Element 'book' at 0x10519d8b8>,\n",
       " <Element 'book' at 0x10519dae8>,\n",
       " <Element 'book' at 0x10519dd18>]"
      ]
     },
     "execution_count": 28,
     "metadata": {},
     "output_type": "execute_result"
    }
   ],
   "source": [
    "root[:3]"
   ]
  },
  {
   "cell_type": "code",
   "execution_count": 29,
   "metadata": {
    "scrolled": true
   },
   "outputs": [
    {
     "name": "stdout",
     "output_type": "stream",
     "text": [
      "XML Developer's Guide\n",
      "Midnight Rain\n",
      "Maeve Ascendant\n",
      "Oberon's Legacy\n",
      "The Sundered Grail\n",
      "Lover Birds\n",
      "Splish Splash\n",
      "Creepy Crawlies\n",
      "Paradox Lost\n",
      "Microsoft .NET: The Programming Bible\n",
      "MSXML3: A Comprehensive Guide\n",
      "Visual Studio 7: A Comprehensive Guide\n"
     ]
    }
   ],
   "source": [
    "for book in root:\n",
    "    print(book[1].text)"
   ]
  },
  {
   "cell_type": "code",
   "execution_count": 31,
   "metadata": {},
   "outputs": [
    {
     "data": {
      "text/plain": [
       "'Gambardella, Matthew'"
      ]
     },
     "execution_count": 31,
     "metadata": {},
     "output_type": "execute_result"
    }
   ],
   "source": [
    "# Builtin ElementTree library provides very basic XPath support\n",
    "root.find(\"./book/author\").text"
   ]
  },
  {
   "cell_type": "code",
   "execution_count": 32,
   "metadata": {
    "scrolled": true
   },
   "outputs": [
    {
     "data": {
      "text/plain": [
       "[<Element 'author' at 0x10519d868>,\n",
       " <Element 'author' at 0x10519db38>,\n",
       " <Element 'author' at 0x10519dd68>,\n",
       " <Element 'author' at 0x10519df98>,\n",
       " <Element 'author' at 0x1051ad278>,\n",
       " <Element 'author' at 0x1051ad4a8>,\n",
       " <Element 'author' at 0x1051ad6d8>,\n",
       " <Element 'author' at 0x1051ad908>,\n",
       " <Element 'author' at 0x1051adb38>,\n",
       " <Element 'author' at 0x1051add68>,\n",
       " <Element 'author' at 0x1051adf98>,\n",
       " <Element 'author' at 0x1051b6278>]"
      ]
     },
     "execution_count": 32,
     "metadata": {},
     "output_type": "execute_result"
    }
   ],
   "source": [
    "root.findall(\"./book/author\")"
   ]
  },
  {
   "cell_type": "code",
   "execution_count": 33,
   "metadata": {},
   "outputs": [
    {
     "data": {
      "text/plain": [
       "<generator object prepare_child.<locals>.select at 0x105a2f8b8>"
      ]
     },
     "execution_count": 33,
     "metadata": {},
     "output_type": "execute_result"
    }
   ],
   "source": [
    "root.iterfind(\"./book/author\") # Memory-efficient than .findall()"
   ]
  },
  {
   "cell_type": "code",
   "execution_count": 34,
   "metadata": {
    "scrolled": false
   },
   "outputs": [
    {
     "name": "stdout",
     "output_type": "stream",
     "text": [
      "Gambardella, Matthew\n",
      "Ralls, Kim\n",
      "Corets, Eva\n",
      "Corets, Eva\n",
      "Corets, Eva\n",
      "Randall, Cynthia\n",
      "Thurman, Paula\n",
      "Knorr, Stefan\n",
      "Kress, Peter\n",
      "O'Brien, Tim\n",
      "O'Brien, Tim\n",
      "Galos, Mike\n"
     ]
    }
   ],
   "source": [
    "for author in root.iterfind(\"./book/author\"):\n",
    "    print(author.text)"
   ]
  },
  {
   "cell_type": "code",
   "execution_count": 35,
   "metadata": {
    "scrolled": true
   },
   "outputs": [
    {
     "data": {
      "text/plain": [
       "[<Element 'author' at 0x10519d868>,\n",
       " <Element 'author' at 0x10519db38>,\n",
       " <Element 'author' at 0x10519dd68>,\n",
       " <Element 'author' at 0x10519df98>,\n",
       " <Element 'author' at 0x1051ad278>,\n",
       " <Element 'author' at 0x1051ad4a8>,\n",
       " <Element 'author' at 0x1051ad6d8>,\n",
       " <Element 'author' at 0x1051ad908>,\n",
       " <Element 'author' at 0x1051adb38>,\n",
       " <Element 'author' at 0x1051add68>,\n",
       " <Element 'author' at 0x1051adf98>,\n",
       " <Element 'author' at 0x1051b6278>]"
      ]
     },
     "execution_count": 35,
     "metadata": {},
     "output_type": "execute_result"
    }
   ],
   "source": [
    "root.findall(\".//author\") # Search for author amongst all descendant"
   ]
  },
  {
   "cell_type": "code",
   "execution_count": 36,
   "metadata": {
    "scrolled": true
   },
   "outputs": [
    {
     "data": {
      "text/plain": [
       "[<Element 'title' at 0x10519d958>,\n",
       " <Element 'title' at 0x10519db88>,\n",
       " <Element 'title' at 0x10519ddb8>,\n",
       " <Element 'title' at 0x1051ad048>,\n",
       " <Element 'title' at 0x1051ad2c8>,\n",
       " <Element 'title' at 0x1051ad4f8>,\n",
       " <Element 'title' at 0x1051ad728>,\n",
       " <Element 'title' at 0x1051ad958>,\n",
       " <Element 'title' at 0x1051adb88>,\n",
       " <Element 'title' at 0x1051addb8>,\n",
       " <Element 'title' at 0x1051b6048>,\n",
       " <Element 'title' at 0x1051b62c8>]"
      ]
     },
     "execution_count": 36,
     "metadata": {},
     "output_type": "execute_result"
    }
   ],
   "source": [
    "root.findall(\"./*/title\")"
   ]
  },
  {
   "cell_type": "code",
   "execution_count": 37,
   "metadata": {},
   "outputs": [
    {
     "data": {
      "text/plain": [
       "[<Element 'book' at 0x10519d8b8>]"
      ]
     },
     "execution_count": 37,
     "metadata": {},
     "output_type": "execute_result"
    }
   ],
   "source": [
    "root.findall(\"./book[@country]\")"
   ]
  },
  {
   "cell_type": "code",
   "execution_count": 38,
   "metadata": {
    "scrolled": true
   },
   "outputs": [
    {
     "data": {
      "text/plain": [
       "[<Element 'book' at 0x10519d8b8>,\n",
       " <Element 'book' at 0x10519dae8>,\n",
       " <Element 'book' at 0x10519dd18>,\n",
       " <Element 'book' at 0x10519df48>,\n",
       " <Element 'book' at 0x1051ad228>,\n",
       " <Element 'book' at 0x1051ad458>,\n",
       " <Element 'book' at 0x1051ad688>,\n",
       " <Element 'book' at 0x1051ad8b8>,\n",
       " <Element 'book' at 0x1051adae8>,\n",
       " <Element 'book' at 0x1051add18>,\n",
       " <Element 'book' at 0x1051adf48>,\n",
       " <Element 'book' at 0x1051b6228>]"
      ]
     },
     "execution_count": 38,
     "metadata": {},
     "output_type": "execute_result"
    }
   ],
   "source": [
    "root.findall(\"./book[title]\")"
   ]
  },
  {
   "cell_type": "code",
   "execution_count": 42,
   "metadata": {},
   "outputs": [
    {
     "data": {
      "text/plain": [
       "['Microsoft .NET: The Programming Bible', 'MSXML3: A Comprehensive Guide']"
      ]
     },
     "execution_count": 42,
     "metadata": {},
     "output_type": "execute_result"
    }
   ],
   "source": [
    "[ t.text for t in root.iterfind('''./book[author=\"O'Brien, Tim\"]/title''') ]"
   ]
  },
  {
   "cell_type": "code",
   "execution_count": 45,
   "metadata": {},
   "outputs": [
    {
     "ename": "SyntaxError",
     "evalue": "invalid predicate (<string>)",
     "output_type": "error",
     "traceback": [
      "Traceback \u001b[0;36m(most recent call last)\u001b[0m:\n",
      "\u001b[0;36m  File \u001b[0;32m\"/Users/chandrashekar/anaconda3/lib/python3.7/xml/etree/ElementPath.py\"\u001b[0;36m, line \u001b[0;32m272\u001b[0;36m, in \u001b[0;35miterfind\u001b[0;36m\u001b[0m\n\u001b[0;31m    selector = _cache[cache_key]\u001b[0m\n",
      "\u001b[0;31mKeyError\u001b[0m\u001b[0;31m:\u001b[0m ('./book[price < 6.0]/title', None)\n",
      "\nDuring handling of the above exception, another exception occurred:\n",
      "Traceback \u001b[0;36m(most recent call last)\u001b[0m:\n",
      "  File \u001b[1;32m\"/Users/chandrashekar/anaconda3/lib/python3.7/site-packages/IPython/core/interactiveshell.py\"\u001b[0m, line \u001b[1;32m3331\u001b[0m, in \u001b[1;35mrun_code\u001b[0m\n    exec(code_obj, self.user_global_ns, self.user_ns)\n",
      "  File \u001b[1;32m\"<ipython-input-45-e2248faa99f9>\"\u001b[0m, line \u001b[1;32m1\u001b[0m, in \u001b[1;35m<module>\u001b[0m\n    [ t.text for t in root.iterfind(\"./book[price < 6.0]/title\") ]\n",
      "  File \u001b[1;32m\"/Users/chandrashekar/anaconda3/lib/python3.7/xml/etree/ElementPath.py\"\u001b[0m, line \u001b[1;32m286\u001b[0m, in \u001b[1;35miterfind\u001b[0m\n    selector.append(ops[token[0]](next, token))\n",
      "\u001b[0;36m  File \u001b[0;32m\"/Users/chandrashekar/anaconda3/lib/python3.7/xml/etree/ElementPath.py\"\u001b[0;36m, line \u001b[0;32m242\u001b[0;36m, in \u001b[0;35mprepare_predicate\u001b[0;36m\u001b[0m\n\u001b[0;31m    raise SyntaxError(\"invalid predicate\")\u001b[0m\n",
      "\u001b[0;36m  File \u001b[0;32m\"<string>\"\u001b[0;36m, line \u001b[0;32munknown\u001b[0m\n\u001b[0;31mSyntaxError\u001b[0m\u001b[0;31m:\u001b[0m invalid predicate\n"
     ]
    }
   ],
   "source": [
    "[ t.text for t in root.iterfind(\"./book[price < 6.0]/title\") ]"
   ]
  },
  {
   "cell_type": "code",
   "execution_count": 50,
   "metadata": {
    "scrolled": true
   },
   "outputs": [
    {
     "name": "stdout",
     "output_type": "stream",
     "text": [
      "Midnight Rain\n",
      "Maeve Ascendant\n",
      "Oberon's Legacy\n",
      "The Sundered Grail\n",
      "Lover Birds\n",
      "Splish Splash\n",
      "Creepy Crawlies\n"
     ]
    }
   ],
   "source": [
    "for book in root:\n",
    "    if float(book.find(\"./price\").text) < 6.0:\n",
    "        print(book.find(\"./title\").text)"
   ]
  },
  {
   "cell_type": "code",
   "execution_count": 51,
   "metadata": {
    "scrolled": true
   },
   "outputs": [
    {
     "data": {
      "text/plain": [
       "['Midnight Rain',\n",
       " 'Maeve Ascendant',\n",
       " \"Oberon's Legacy\",\n",
       " 'The Sundered Grail',\n",
       " 'Lover Birds',\n",
       " 'Splish Splash',\n",
       " 'Creepy Crawlies']"
      ]
     },
     "execution_count": 51,
     "metadata": {},
     "output_type": "execute_result"
    }
   ],
   "source": [
    "[ b.find(\"./title\").text for b in root if float(b.find(\"./price\").text) < 6.0]"
   ]
  },
  {
   "cell_type": "code",
   "execution_count": null,
   "metadata": {},
   "outputs": [],
   "source": [
    "# pip install lxml"
   ]
  },
  {
   "cell_type": "code",
   "execution_count": 53,
   "metadata": {},
   "outputs": [
    {
     "data": {
      "text/plain": [
       "<module 'lxml.etree' from '/Users/chandrashekar/anaconda3/lib/python3.7/site-packages/lxml/etree.cpython-37m-darwin.so'>"
      ]
     },
     "execution_count": 53,
     "metadata": {},
     "output_type": "execute_result"
    }
   ],
   "source": [
    "import lxml.etree as et\n",
    "et"
   ]
  },
  {
   "cell_type": "code",
   "execution_count": 54,
   "metadata": {},
   "outputs": [
    {
     "data": {
      "text/plain": [
       "<lxml.etree._ElementTree at 0x10540eb48>"
      ]
     },
     "execution_count": 54,
     "metadata": {},
     "output_type": "execute_result"
    }
   ],
   "source": [
    "tree1 = et.parse(\"xml/books.xml\")\n",
    "tree1"
   ]
  },
  {
   "cell_type": "code",
   "execution_count": 57,
   "metadata": {},
   "outputs": [],
   "source": [
    "catalog = tree1.getroot()"
   ]
  },
  {
   "cell_type": "code",
   "execution_count": 58,
   "metadata": {},
   "outputs": [
    {
     "data": {
      "text/plain": [
       "<Element book at 0x105363948>"
      ]
     },
     "execution_count": 58,
     "metadata": {},
     "output_type": "execute_result"
    }
   ],
   "source": [
    "catalog[0]"
   ]
  },
  {
   "cell_type": "code",
   "execution_count": 59,
   "metadata": {},
   "outputs": [
    {
     "data": {
      "text/plain": [
       "<Element book at 0x105326bc8>"
      ]
     },
     "execution_count": 59,
     "metadata": {},
     "output_type": "execute_result"
    }
   ],
   "source": [
    "catalog[-1]"
   ]
  },
  {
   "cell_type": "code",
   "execution_count": 60,
   "metadata": {
    "scrolled": true
   },
   "outputs": [
    {
     "data": {
      "text/plain": [
       "('book',\n",
       " '\\n      this is a test book\\n      ',\n",
       " {'id': 'bk101', 'country': 'India', 'type': 'technical'})"
      ]
     },
     "execution_count": 60,
     "metadata": {},
     "output_type": "execute_result"
    }
   ],
   "source": [
    "catalog[0].tag, catalog[0].text, catalog[0].attrib"
   ]
  },
  {
   "cell_type": "code",
   "execution_count": 61,
   "metadata": {
    "scrolled": true
   },
   "outputs": [
    {
     "data": {
      "text/plain": [
       "[<Element title at 0x105b68ac8>,\n",
       " <Element title at 0x105b68c08>,\n",
       " <Element title at 0x105b68888>,\n",
       " <Element title at 0x105b68b88>,\n",
       " <Element title at 0x105b68c48>,\n",
       " <Element title at 0x105b68cc8>,\n",
       " <Element title at 0x105b68d08>,\n",
       " <Element title at 0x105b68e08>,\n",
       " <Element title at 0x105b683c8>,\n",
       " <Element title at 0x105b68788>,\n",
       " <Element title at 0x105b68808>,\n",
       " <Element title at 0x105b688c8>]"
      ]
     },
     "execution_count": 61,
     "metadata": {},
     "output_type": "execute_result"
    }
   ],
   "source": [
    "catalog.findall(\"./book/title\")"
   ]
  },
  {
   "cell_type": "code",
   "execution_count": 63,
   "metadata": {
    "scrolled": true
   },
   "outputs": [
    {
     "data": {
      "text/plain": [
       "[\"XML Developer's Guide\",\n",
       " 'Midnight Rain',\n",
       " 'Maeve Ascendant',\n",
       " \"Oberon's Legacy\",\n",
       " 'The Sundered Grail',\n",
       " 'Lover Birds',\n",
       " 'Splish Splash',\n",
       " 'Creepy Crawlies',\n",
       " 'Paradox Lost',\n",
       " 'Microsoft .NET: The Programming Bible',\n",
       " 'MSXML3: A Comprehensive Guide',\n",
       " 'Visual Studio 7: A Comprehensive Guide']"
      ]
     },
     "execution_count": 63,
     "metadata": {},
     "output_type": "execute_result"
    }
   ],
   "source": [
    "catalog.xpath(\"./book/title/text()\")"
   ]
  },
  {
   "cell_type": "code",
   "execution_count": 64,
   "metadata": {
    "scrolled": true
   },
   "outputs": [
    {
     "data": {
      "text/plain": [
       "['Midnight Rain',\n",
       " 'Maeve Ascendant',\n",
       " \"Oberon's Legacy\",\n",
       " 'The Sundered Grail',\n",
       " 'Lover Birds',\n",
       " 'Splish Splash',\n",
       " 'Creepy Crawlies']"
      ]
     },
     "execution_count": 64,
     "metadata": {},
     "output_type": "execute_result"
    }
   ],
   "source": [
    "[ b.find(\"./title\").text for b in root if float(b.find(\"./price\").text) < 6.0]"
   ]
  },
  {
   "cell_type": "code",
   "execution_count": 65,
   "metadata": {
    "scrolled": true
   },
   "outputs": [
    {
     "data": {
      "text/plain": [
       "['Midnight Rain',\n",
       " 'Maeve Ascendant',\n",
       " \"Oberon's Legacy\",\n",
       " 'The Sundered Grail',\n",
       " 'Lover Birds',\n",
       " 'Splish Splash',\n",
       " 'Creepy Crawlies']"
      ]
     },
     "execution_count": 65,
     "metadata": {},
     "output_type": "execute_result"
    }
   ],
   "source": [
    "catalog.xpath(\"./book[price < 6.0]/title/text()\")"
   ]
  },
  {
   "cell_type": "code",
   "execution_count": 69,
   "metadata": {},
   "outputs": [],
   "source": [
    "import lxml.html as parser"
   ]
  },
  {
   "cell_type": "code",
   "execution_count": 70,
   "metadata": {},
   "outputs": [
    {
     "data": {
      "text/plain": [
       "<lxml.etree._ElementTree at 0x105b51488>"
      ]
     },
     "execution_count": 70,
     "metadata": {},
     "output_type": "execute_result"
    }
   ],
   "source": [
    "doc = parser.parse(\"xml/github.html\")\n",
    "doc"
   ]
  },
  {
   "cell_type": "code",
   "execution_count": 72,
   "metadata": {},
   "outputs": [],
   "source": [
    "html = doc.getroot()"
   ]
  },
  {
   "cell_type": "code",
   "execution_count": 74,
   "metadata": {},
   "outputs": [
    {
     "data": {
      "text/plain": [
       "['#start-of-content',\n",
       " 'https://github.com/',\n",
       " '',\n",
       " '/pulls',\n",
       " '/issues',\n",
       " '/marketplace',\n",
       " '/explore',\n",
       " '/notifications',\n",
       " '/new',\n",
       " '/new/import',\n",
       " 'https://gist.github.com/',\n",
       " '/organizations/new',\n",
       " '/html5lib/html5lib-python/issues/new',\n",
       " '/moonranger',\n",
       " '/moonranger',\n",
       " '/moonranger?tab=repositories',\n",
       " '/moonranger?tab=stars',\n",
       " 'https://gist.github.com/',\n",
       " 'https://help.github.com',\n",
       " '/settings/profile',\n",
       " '/html5lib/html5lib-python/watchers',\n",
       " '/html5lib/html5lib-python/stargazers',\n",
       " '/html5lib/html5lib-python/stargazers',\n",
       " '/html5lib/html5lib-python/network/members',\n",
       " '/html5lib',\n",
       " '/html5lib/html5lib-python',\n",
       " '/html5lib/html5lib-python',\n",
       " '/html5lib/html5lib-python/issues',\n",
       " '/html5lib/html5lib-python/pulls',\n",
       " '/html5lib/html5lib-python/projects',\n",
       " '/html5lib/html5lib-python/pulse',\n",
       " '/html5lib/html5lib-python/commits/master',\n",
       " '/html5lib/html5lib-python/branches',\n",
       " '/html5lib/html5lib-python/releases',\n",
       " '/html5lib/html5lib-python/graphs/contributors',\n",
       " '/html5lib/html5lib-python/blob/master/LICENSE',\n",
       " '/html5lib/html5lib-python/search?l=python',\n",
       " '#',\n",
       " '#',\n",
       " '/html5lib/html5lib-python/tree/csswg-testsuite',\n",
       " '/html5lib/html5lib-python/tree/gcode-157',\n",
       " '/html5lib/html5lib-python/tree/master',\n",
       " '/html5lib/html5lib-python/tree/python3-old',\n",
       " '/html5lib/html5lib-python/tree/1.0.1',\n",
       " '/html5lib/html5lib-python/tree/1.0',\n",
       " '/html5lib/html5lib-python/tree/1.0b10',\n",
       " '/html5lib/html5lib-python/tree/1.0b9',\n",
       " '/html5lib/html5lib-python/tree/1.0b8',\n",
       " '/html5lib/html5lib-python/tree/1.0b7',\n",
       " '/html5lib/html5lib-python/tree/1.0b6',\n",
       " '/html5lib/html5lib-python/tree/1.0b5',\n",
       " '/html5lib/html5lib-python/tree/1.0b3',\n",
       " '/html5lib/html5lib-python/tree/1.0b2',\n",
       " '/html5lib/html5lib-python/tree/1.0b1',\n",
       " '/html5lib/html5lib-python/tree/0.999999999',\n",
       " '/html5lib/html5lib-python/tree/0.99999999',\n",
       " '/html5lib/html5lib-python/tree/0.9999999',\n",
       " '/html5lib/html5lib-python/tree/0.999999',\n",
       " '/html5lib/html5lib-python/tree/0.99999',\n",
       " '/html5lib/html5lib-python/tree/0.9999',\n",
       " '/html5lib/html5lib-python/tree/0.999',\n",
       " '/html5lib/html5lib-python/tree/0.99',\n",
       " '/html5lib/html5lib-python/tree/0.95',\n",
       " '/html5lib/html5lib-python/tree/0.90',\n",
       " '/html5lib/html5lib-python/tree/0.11.1ish',\n",
       " '/html5lib/html5lib-python/tree/0.11ish',\n",
       " '/html5lib/html5lib-python/tree/0.10ish',\n",
       " '/html5lib/html5lib-python/tree/0.9ish',\n",
       " '/html5lib/html5lib-python/tree/0.2',\n",
       " '/html5lib/html5lib-python/pull/new/master',\n",
       " '/html5lib/html5lib-python/upload/master',\n",
       " '/html5lib/html5lib-python/find/master',\n",
       " 'https://help.github.com/articles/which-remote-url-should-i-use',\n",
       " 'https://help.github.com/articles/which-remote-url-should-i-use',\n",
       " 'https://desktop.github.com',\n",
       " '/html5lib/html5lib-python/archive/master.zip',\n",
       " 'https://desktop.github.com/',\n",
       " 'https://desktop.github.com/',\n",
       " 'https://developer.apple.com/xcode/',\n",
       " 'https://visualstudio.github.com/',\n",
       " '/5j9',\n",
       " '/gsnedders',\n",
       " '/html5lib/html5lib-python/commits?author=5j9',\n",
       " '/html5lib/html5lib-python/commits?author=gsnedders',\n",
       " '/html5lib/html5lib-python/commit/4f9235752cea29c5a31721440578b430823a1e69',\n",
       " 'https://github.com/html5lib/html5lib-python/pull/403',\n",
       " '/html5lib/html5lib-python/commit/4f9235752cea29c5a31721440578b430823a1e69',\n",
       " 'https://github.com/html5lib/html5lib-python/issues/402',\n",
       " '/html5lib/html5lib-python/commit/4f9235752cea29c5a31721440578b430823a1e69',\n",
       " '/html5lib/html5lib-python/tree/4f9235752cea29c5a31721440578b430823a1e69',\n",
       " '/html5lib/html5lib-python/tree/master/doc',\n",
       " '/html5lib/html5lib-python/commit/21a6820957e677f24684ec84cddfecf1d541b11d',\n",
       " '/html5lib/html5lib-python/tree/master/html5lib',\n",
       " '/html5lib/html5lib-python/commit/4f9235752cea29c5a31721440578b430823a1e69',\n",
       " 'https://github.com/html5lib/html5lib-python/pull/403',\n",
       " '/html5lib/html5lib-python/commit/4f9235752cea29c5a31721440578b430823a1e69',\n",
       " '/html5lib/html5lib-python/tree/master/utils',\n",
       " '/html5lib/html5lib-python/commit/8788bdafbf6dc183e96470e4c138211a92e880b8',\n",
       " 'https://github.com/html5lib/html5lib-python/pull/353',\n",
       " '/html5lib/html5lib-python/commit/8788bdafbf6dc183e96470e4c138211a92e880b8',\n",
       " '/html5lib/html5lib-python/blob/master/.appveyor.yml',\n",
       " '/html5lib/html5lib-python/commit/7facf987f52ad25b5cf9aa1fa76252ea04702777',\n",
       " 'https://github.com/html5lib/html5lib-python/pull/397',\n",
       " '/html5lib/html5lib-python/commit/7facf987f52ad25b5cf9aa1fa76252ea04702777',\n",
       " '/html5lib/html5lib-python/blob/master/.coveragerc',\n",
       " '/html5lib/html5lib-python/commit/66a3f42444cb1d4d2cfa32f6d1d69243baa6a9fa',\n",
       " '/html5lib/html5lib-python/blob/master/.gitignore',\n",
       " '/html5lib/html5lib-python/commit/d3de97279d906c68bf82f6a827cd29cc8248e03b',\n",
       " '/html5lib/html5lib-python/blob/master/.gitmodules',\n",
       " '/html5lib/html5lib-python/commit/9fbd2e15788d181e1970c2479be5d189dbc7be92',\n",
       " '/html5lib/html5lib-python/blob/master/.prospector.yaml',\n",
       " '/html5lib/html5lib-python/commit/a2b8c110cd0c5c7d60573f2a86d951cabefc516b',\n",
       " '/html5lib/html5lib-python/blob/master/.pylintrc',\n",
       " '/html5lib/html5lib-python/commit/a2b8c110cd0c5c7d60573f2a86d951cabefc516b',\n",
       " '/html5lib/html5lib-python/blob/master/.pytest.expect',\n",
       " '/html5lib/html5lib-python/commit/f3f00e48c4baf859dfaf4bc90d3e90debf024194',\n",
       " '/html5lib/html5lib-python/blob/master/.travis.yml',\n",
       " '/html5lib/html5lib-python/commit/7f613b331c4299943403d8e12ccb51077e910205',\n",
       " 'https://github.com/html5lib/html5lib-python/pull/358',\n",
       " '/html5lib/html5lib-python/commit/7f613b331c4299943403d8e12ccb51077e910205',\n",
       " '/html5lib/html5lib-python/blob/master/AUTHORS.rst',\n",
       " '/html5lib/html5lib-python/commit/e8f93e9bfeab9016889b05e77eb141a8cce90196',\n",
       " '/html5lib/html5lib-python/blob/master/CHANGES.rst',\n",
       " '/html5lib/html5lib-python/commit/b4887f037e47857b4667106cc968ec91d1121140',\n",
       " '/html5lib/html5lib-python/blob/master/CONTRIBUTING.rst',\n",
       " '/html5lib/html5lib-python/commit/602bb84cb5e73c9ba2e263c8a8e1622d459b8a9c',\n",
       " '/html5lib/html5lib-python/blob/master/LICENSE',\n",
       " '/html5lib/html5lib-python/commit/d3b33f8b9b0b5c9baf92d096f21f914b4b7f47bb',\n",
       " '/html5lib/html5lib-python/blob/master/MANIFEST.in',\n",
       " '/html5lib/html5lib-python/commit/082c042082c78779ea47c746c77535944eec957e',\n",
       " '/html5lib/html5lib-python/blob/master/README.rst',\n",
       " '/html5lib/html5lib-python/commit/950ea0ec60970ba1c88bd9e35d8d85c2a1f318e4',\n",
       " 'https://github.com/html5lib/html5lib-python/pull/393',\n",
       " '/html5lib/html5lib-python/commit/950ea0ec60970ba1c88bd9e35d8d85c2a1f318e4',\n",
       " '/html5lib/html5lib-python/blob/master/debug-info.py',\n",
       " '/html5lib/html5lib-python/commit/3d0eaea85bc00a739e3910ef03316d4312ad84de',\n",
       " '/html5lib/html5lib-python/blob/master/flake8-run.sh',\n",
       " '/html5lib/html5lib-python/commit/823864882ee969ebb7c16986a80388d5785cb9ea',\n",
       " '/html5lib/html5lib-python/blob/master/parse.py',\n",
       " '/html5lib/html5lib-python/commit/c4dd6771836841ee796af8035dbf8239074ed5ec',\n",
       " '/html5lib/html5lib-python/blob/master/pytest.ini',\n",
       " '/html5lib/html5lib-python/commit/366ed48da6d6550661cb6d9dcd8d4d1a0b44c645',\n",
       " '/html5lib/html5lib-python/blob/master/requirements-install.sh',\n",
       " '/html5lib/html5lib-python/commit/74ebfc97a17a4e45a131c0cb70845714f1a8af5e',\n",
       " '/html5lib/html5lib-python/blob/master/requirements-optional.txt',\n",
       " '/html5lib/html5lib-python/commit/a137d14bfd8c6aca007d9dd3118b18e91ccf7fa5',\n",
       " '/html5lib/html5lib-python/blob/master/requirements-test.txt',\n",
       " '/html5lib/html5lib-python/commit/e17cf26c1c36befdce7da39aed1ead96fd0ad30e',\n",
       " '/html5lib/html5lib-python/blob/master/requirements.txt',\n",
       " '/html5lib/html5lib-python/commit/5f637af8edffd1c0bc3e9dcefa089edcfce9a255',\n",
       " 'https://github.com/html5lib/html5lib-python/pull/356',\n",
       " '/html5lib/html5lib-python/commit/5f637af8edffd1c0bc3e9dcefa089edcfce9a255',\n",
       " '/html5lib/html5lib-python/blob/master/setup.cfg',\n",
       " '/html5lib/html5lib-python/commit/0cae52b2073e3f2220db93a7650901f2200f2a13',\n",
       " 'https://github.com/html5lib/html5lib-python/pull/350',\n",
       " '/html5lib/html5lib-python/commit/0cae52b2073e3f2220db93a7650901f2200f2a13',\n",
       " '/html5lib/html5lib-python/blob/master/setup.py',\n",
       " '/html5lib/html5lib-python/commit/7f613b331c4299943403d8e12ccb51077e910205',\n",
       " 'https://github.com/html5lib/html5lib-python/pull/358',\n",
       " '/html5lib/html5lib-python/commit/7f613b331c4299943403d8e12ccb51077e910205',\n",
       " '/html5lib/html5lib-python/blob/master/tox.ini',\n",
       " '/html5lib/html5lib-python/commit/7f613b331c4299943403d8e12ccb51077e910205',\n",
       " 'https://github.com/html5lib/html5lib-python/pull/358',\n",
       " '/html5lib/html5lib-python/commit/7f613b331c4299943403d8e12ccb51077e910205',\n",
       " '#html5lib',\n",
       " 'https://travis-ci.org/html5lib/html5lib-python',\n",
       " '#usage',\n",
       " 'https://html5lib.readthedocs.io/',\n",
       " '#installation',\n",
       " '#optional-dependencies',\n",
       " '#bugs',\n",
       " 'https://github.com/html5lib/html5lib-python/issues',\n",
       " '#tests',\n",
       " 'https://github.com/html5lib/html5lib-tests',\n",
       " '#questions',\n",
       " 'http://groups.google.com/group/html5lib-discuss',\n",
       " 'http://wiki.whatwg.org/wiki/IRC',\n",
       " 'https://github.com/site/terms',\n",
       " 'https://github.com/site/privacy',\n",
       " 'https://help.github.com/articles/github-security/',\n",
       " 'https://status.github.com/',\n",
       " 'https://help.github.com',\n",
       " 'https://github.com',\n",
       " 'https://github.com/contact',\n",
       " 'https://github.com/pricing',\n",
       " 'https://developer.github.com',\n",
       " 'https://training.github.com',\n",
       " 'https://blog.github.com',\n",
       " 'https://github.com/about',\n",
       " '',\n",
       " '']"
      ]
     },
     "execution_count": 74,
     "metadata": {},
     "output_type": "execute_result"
    }
   ],
   "source": [
    "html.xpath(\".//a[@href]/@href\")"
   ]
  },
  {
   "cell_type": "code",
   "execution_count": 75,
   "metadata": {},
   "outputs": [],
   "source": [
    "# pip install beautifulsoup4\n",
    "from bs4 import BeautifulSoup"
   ]
  },
  {
   "cell_type": "code",
   "execution_count": 83,
   "metadata": {},
   "outputs": [
    {
     "data": {
      "text/plain": [
       "bs4.BeautifulSoup"
      ]
     },
     "execution_count": 83,
     "metadata": {},
     "output_type": "execute_result"
    }
   ],
   "source": [
    "with open(\"xml/github.html\") as infile:\n",
    "    soup = BeautifulSoup(infile.read(), parser=\"lxml\")\n",
    "type(soup)"
   ]
  },
  {
   "cell_type": "code",
   "execution_count": 81,
   "metadata": {},
   "outputs": [
    {
     "name": "stdout",
     "output_type": "stream",
     "text": [
      "https://assets-cdn.github.com\n"
     ]
    },
    {
     "ename": "TypeError",
     "evalue": "'NavigableString' object is not callable",
     "output_type": "error",
     "traceback": [
      "\u001b[0;31m---------------------------------------------------------------------------\u001b[0m",
      "\u001b[0;31mTypeError\u001b[0m                                 Traceback (most recent call last)",
      "\u001b[0;32m<ipython-input-81-62f45828963d>\u001b[0m in \u001b[0;36m<module>\u001b[0;34m\u001b[0m\n\u001b[1;32m      2\u001b[0m \u001b[0;32mwhile\u001b[0m \u001b[0mlink\u001b[0m\u001b[0;34m:\u001b[0m\u001b[0;34m\u001b[0m\u001b[0;34m\u001b[0m\u001b[0m\n\u001b[1;32m      3\u001b[0m     \u001b[0mprint\u001b[0m\u001b[0;34m(\u001b[0m\u001b[0mlink\u001b[0m\u001b[0;34m[\u001b[0m\u001b[0;34m\"href\"\u001b[0m\u001b[0;34m]\u001b[0m\u001b[0;34m)\u001b[0m\u001b[0;34m\u001b[0m\u001b[0;34m\u001b[0m\u001b[0m\n\u001b[0;32m----> 4\u001b[0;31m     \u001b[0mlink\u001b[0m \u001b[0;34m=\u001b[0m \u001b[0mlink\u001b[0m\u001b[0;34m.\u001b[0m\u001b[0mnext\u001b[0m\u001b[0;34m(\u001b[0m\u001b[0;34m)\u001b[0m\u001b[0;34m\u001b[0m\u001b[0;34m\u001b[0m\u001b[0m\n\u001b[0m\u001b[1;32m      5\u001b[0m \u001b[0;34m\u001b[0m\u001b[0m\n",
      "\u001b[0;31mTypeError\u001b[0m: 'NavigableString' object is not callable"
     ]
    }
   ],
   "source": [
    "link = soup.head.link\n",
    "while link:\n",
    "    print(link[\"href\"])\n",
    "    link = link.next()\n",
    "    "
   ]
  },
  {
   "cell_type": "code",
   "execution_count": 85,
   "metadata": {},
   "outputs": [
    {
     "data": {
      "text/plain": [
       "<link href=\"https://assets-cdn.github.com\" rel=\"dns-prefetch\"/>"
      ]
     },
     "execution_count": 85,
     "metadata": {},
     "output_type": "execute_result"
    }
   ],
   "source": [
    "link = soup.head.link\n",
    "link"
   ]
  },
  {
   "cell_type": "code",
   "execution_count": 131,
   "metadata": {},
   "outputs": [
    {
     "data": {
      "text/plain": [
       "<meta content=\"0B6B:6342:125872:255796:5BBD94B1\" data-pjax-transient=\"\" name=\"request-id\"/>"
      ]
     },
     "execution_count": 131,
     "metadata": {},
     "output_type": "execute_result"
    }
   ],
   "source": [
    "link = link.next\n",
    "link"
   ]
  },
  {
   "cell_type": "code",
   "execution_count": 82,
   "metadata": {},
   "outputs": [
    {
     "data": {
      "text/plain": [
       "[<a class=\"p-3 bg-blue text-white show-on-focus js-skip-to-content\" href=\"#start-of-content\" tabindex=\"1\">Skip to content</a>,\n",
       " <a aria-label=\"Homepage\" class=\"header-logo-invertocat\" data-ga-click=\"Header, go to dashboard, icon:logo\" data-hotkey=\"g d\" href=\"https://github.com/\">\n",
       " <svg aria-hidden=\"true\" class=\"octicon octicon-mark-github\" height=\"32\" version=\"1.1\" viewbox=\"0 0 16 16\" width=\"32\"><path d=\"M8 0C3.58 0 0 3.58 0 8c0 3.54 2.29 6.53 5.47 7.59.4.07.55-.17.55-.38 0-.19-.01-.82-.01-1.49-2.01.37-2.53-.49-2.69-.94-.09-.23-.48-.94-.82-1.13-.28-.15-.68-.52-.01-.53.63-.01 1.08.58 1.23.82.72 1.21 1.87.87 2.33.66.07-.52.28-.87.51-1.07-1.78-.2-3.64-.89-3.64-3.95 0-.87.31-1.59.82-2.15-.08-.2-.36-1.02.08-2.12 0 0 .67-.21 2.2.82.64-.18 1.32-.27 2-.27.68 0 1.36.09 2 .27 1.53-1.04 2.2-.82 2.2-.82.44 1.1.16 1.92.08 2.12.51.56.82 1.27.82 2.15 0 3.07-1.87 3.75-3.65 3.95.29.25.54.73.54 1.48 0 1.07-.01 1.93-.01 2.2 0 .21.15.46.55.38A8.013 8.013 0 0 0 16 8c0-4.42-3.58-8-8-8z\" fill-rule=\"evenodd\"></path></svg>\n",
       " </a>,\n",
       " <a class=\"no-underline d-flex flex-auto flex-items-center p-2 jump-to-suggestions-path js-jump-to-suggestion-path js-navigation-open\" href=\"\" tabindex=\"-1\">\n",
       " <div class=\"jump-to-octicon js-jump-to-octicon flex-shrink-0 mr-2 text-center d-none\">\n",
       " <svg aria-label=\"Repository\" class=\"octicon octicon-repo flex-shrink-0 js-jump-to-octicon-repo d-none\" height=\"16\" role=\"img\" title=\"Repository\" version=\"1.1\" viewbox=\"0 0 12 16\" width=\"16\"><path d=\"M4 9H3V8h1v1zm0-3H3v1h1V6zm0-2H3v1h1V4zm0-2H3v1h1V2zm8-1v12c0 .55-.45 1-1 1H6v2l-1.5-1.5L3 16v-2H1c-.55 0-1-.45-1-1V1c0-.55.45-1 1-1h10c.55 0 1 .45 1 1zm-1 10H1v2h2v-1h3v1h5v-2zm0-10H2v9h9V1z\" fill-rule=\"evenodd\"></path></svg>\n",
       " <svg aria-label=\"Project\" class=\"octicon octicon-project flex-shrink-0 js-jump-to-octicon-project d-none\" height=\"16\" role=\"img\" title=\"Project\" version=\"1.1\" viewbox=\"0 0 15 16\" width=\"16\"><path d=\"M10 12h3V2h-3v10zm-4-2h3V2H6v8zm-4 4h3V2H2v12zm-1 1h13V1H1v14zM14 0H1a1 1 0 0 0-1 1v14a1 1 0 0 0 1 1h13a1 1 0 0 0 1-1V1a1 1 0 0 0-1-1z\" fill-rule=\"evenodd\"></path></svg>\n",
       " <svg aria-label=\"Search\" class=\"octicon octicon-search flex-shrink-0 js-jump-to-octicon-search d-none\" height=\"16\" role=\"img\" title=\"Search\" version=\"1.1\" viewbox=\"0 0 16 16\" width=\"16\"><path d=\"M15.7 13.3l-3.81-3.83A5.93 5.93 0 0 0 13 6c0-3.31-2.69-6-6-6S1 2.69 1 6s2.69 6 6 6c1.3 0 2.48-.41 3.47-1.11l3.83 3.81c.19.2.45.3.7.3.25 0 .52-.09.7-.3a.996.996 0 0 0 0-1.41v.01zM7 10.7c-2.59 0-4.7-2.11-4.7-4.7 0-2.59 2.11-4.7 4.7-4.7 2.59 0 4.7 2.11 4.7 4.7 0 2.59-2.11 4.7-4.7 4.7z\" fill-rule=\"evenodd\"></path></svg>\n",
       " </div>\n",
       " <img alt=\"\" aria-label=\"Team\" class=\"avatar mr-2 flex-shrink-0 js-jump-to-suggestion-avatar d-none\" height=\"28\" src=\"\" width=\"28\"/>\n",
       " <div class=\"jump-to-suggestion-name js-jump-to-suggestion-name flex-auto overflow-hidden text-left no-wrap css-truncate css-truncate-target\">\n",
       " </div>\n",
       " <div class=\"border rounded-1 flex-shrink-0 bg-gray px-1 text-gray-light ml-1 f6 d-none js-jump-to-badge-search\">\n",
       " <span aria-label=\"in this repository\" class=\"js-jump-to-badge-search-text-default d-none\">\n",
       "                         In this repository\n",
       "                       </span>\n",
       " <span aria-label=\"in all of GitHub\" class=\"js-jump-to-badge-search-text-global d-none\">\n",
       "                         All GitHub\n",
       "                       </span>\n",
       " <span aria-hidden=\"true\" class=\"d-inline-block ml-1 v-align-middle\">↵</span>\n",
       " </div>\n",
       " <div aria-hidden=\"true\" class=\"border rounded-1 flex-shrink-0 bg-gray px-1 text-gray-light ml-1 f6 d-none d-on-nav-focus js-jump-to-badge-jump\">\n",
       "                       Jump to\n",
       "                       <span class=\"d-inline-block ml-1 v-align-middle\">↵</span>\n",
       " </div>\n",
       " </a>,\n",
       " <a aria-label=\"Pull requests you created\" class=\"js-selected-navigation-item HeaderNavlink px-2\" data-ga-click=\"Header, click, Nav menu - item:pulls context:user\" data-hotkey=\"g p\" data-selected-links=\"/pulls /pulls/assigned /pulls/mentioned /pulls\" href=\"/pulls\">\n",
       "                 Pull requests\n",
       " </a>,\n",
       " <a aria-label=\"Issues you created\" class=\"js-selected-navigation-item HeaderNavlink px-2\" data-ga-click=\"Header, click, Nav menu - item:issues context:user\" data-hotkey=\"g i\" data-selected-links=\"/issues /issues/assigned /issues/mentioned /issues\" href=\"/issues\">\n",
       "                 Issues\n",
       " </a>,\n",
       " <a class=\"js-selected-navigation-item HeaderNavlink px-2\" data-ga-click=\"Header, click, Nav menu - item:marketplace context:user\" data-octo-click=\"marketplace_click\" data-octo-dimensions=\"location:nav_bar\" data-selected-links=\" /marketplace\" href=\"/marketplace\">\n",
       "                    Marketplace\n",
       " </a>,\n",
       " <a class=\"js-selected-navigation-item HeaderNavlink px-2\" data-ga-click=\"Header, click, Nav menu - item:explore\" data-selected-links=\"/explore /trending /trending/developers /integrations /integrations/feature/code /integrations/feature/collaborate /integrations/feature/ship showcases showcases_search showcases_landing /explore\" href=\"/explore\">\n",
       "                 Explore\n",
       " </a>,\n",
       " <a aria-label=\"You have no unread notifications\" class=\"notification-indicator tooltipped tooltipped-s js-socket-channel js-notification-indicator\" data-channel=\"notification-changed:43662361\" data-ga-click=\"Header, go to notifications, icon:read\" data-hotkey=\"g n\" href=\"/notifications\">\n",
       " <span class=\"mail-status\"></span>\n",
       " <svg aria-hidden=\"true\" class=\"octicon octicon-bell\" height=\"16\" version=\"1.1\" viewbox=\"0 0 14 16\" width=\"14\"><path d=\"M13.99 11.991v1H0v-1l.73-.58c.769-.769.809-2.547 1.189-4.416.77-3.767 4.077-4.996 4.077-4.996 0-.55.45-1 .999-1 .55 0 1 .45 1 1 0 0 3.387 1.229 4.156 4.996.38 1.879.42 3.657 1.19 4.417l.659.58h-.01zM6.995 15.99c1.11 0 1.999-.89 1.999-1.999H4.996c0 1.11.89 1.999 1.999 1.999z\" fill-rule=\"evenodd\"></path></svg>\n",
       " </a>,\n",
       " <a class=\"dropdown-item\" data-ga-click=\"Header, create new repository\" href=\"/new\" role=\"menuitem\">\n",
       "   New repository\n",
       " </a>,\n",
       " <a class=\"dropdown-item\" data-ga-click=\"Header, import a repository\" href=\"/new/import\" role=\"menuitem\">\n",
       "     Import repository\n",
       "   </a>,\n",
       " <a class=\"dropdown-item\" data-ga-click=\"Header, create new gist\" href=\"https://gist.github.com/\" role=\"menuitem\">\n",
       "   New gist\n",
       " </a>,\n",
       " <a class=\"dropdown-item\" data-ga-click=\"Header, create new organization\" href=\"/organizations/new\" role=\"menuitem\">\n",
       "     New organization\n",
       "   </a>,\n",
       " <a class=\"dropdown-item\" data-ga-click=\"Header, create new issue\" href=\"/html5lib/html5lib-python/issues/new\" role=\"menuitem\">\n",
       "       New issue\n",
       "     </a>,\n",
       " <a class=\"no-underline user-profile-link px-3 pt-2 pb-2 mb-n2 mt-n1 d-block\" data-ga-click=\"Header, go to profile, text:Signed in as\" href=\"/moonranger\" role=\"menuitem\">Signed in as <strong class=\"css-truncate-target\">moonranger</strong></a>,\n",
       " <a class=\"dropdown-item\" data-ga-click=\"Header, go to profile, text:your profile\" href=\"/moonranger\" role=\"menuitem\">Your profile</a>,\n",
       " <a class=\"dropdown-item\" data-ga-click=\"Header, go to repositories, text:your repositories\" href=\"/moonranger?tab=repositories\" role=\"menuitem\">Your repositories</a>,\n",
       " <a class=\"dropdown-item\" data-ga-click=\"Header, go to starred repos, text:your stars\" href=\"/moonranger?tab=stars\" role=\"menuitem\">Your stars</a>,\n",
       " <a class=\"dropdown-item\" data-ga-click=\"Header, your gists, text:your gists\" href=\"https://gist.github.com/\" role=\"menuitem\">Your gists</a>,\n",
       " <a class=\"dropdown-item\" data-ga-click=\"Header, go to help, text:help\" href=\"https://help.github.com\" role=\"menuitem\">Help</a>,\n",
       " <a class=\"dropdown-item\" data-ga-click=\"Header, go to settings, icon:settings\" href=\"/settings/profile\" role=\"menuitem\">Settings</a>,\n",
       " <a aria-label=\"49 users are watching this repository\" class=\"social-count js-social-count\" href=\"/html5lib/html5lib-python/watchers\">\n",
       "         49\n",
       "       </a>,\n",
       " <a aria-label=\"721 users starred this repository\" class=\"social-count js-social-count\" href=\"/html5lib/html5lib-python/stargazers\">\n",
       "           721\n",
       "         </a>,\n",
       " <a aria-label=\"721 users starred this repository\" class=\"social-count js-social-count\" href=\"/html5lib/html5lib-python/stargazers\">\n",
       "           721\n",
       "         </a>,\n",
       " <a aria-label=\"214 users forked this repository\" class=\"social-count\" href=\"/html5lib/html5lib-python/network/members\">\n",
       "       214\n",
       "     </a>,\n",
       " <a class=\"url fn\" href=\"/html5lib\" rel=\"author\">html5lib</a>,\n",
       " <a data-pjax=\"#js-repo-pjax-container\" href=\"/html5lib/html5lib-python\">html5lib-python</a>,\n",
       " <a class=\"js-selected-navigation-item selected reponav-item\" data-hotkey=\"g c\" data-selected-links=\"repo_source repo_downloads repo_commits repo_releases repo_tags repo_branches repo_packages /html5lib/html5lib-python\" href=\"/html5lib/html5lib-python\" itemprop=\"url\">\n",
       " <svg aria-hidden=\"true\" class=\"octicon octicon-code\" height=\"16\" version=\"1.1\" viewbox=\"0 0 14 16\" width=\"14\"><path d=\"M9.5 3L8 4.5 11.5 8 8 11.5 9.5 13 14 8 9.5 3zm-5 0L0 8l4.5 5L6 11.5 2.5 8 6 4.5 4.5 3z\" fill-rule=\"evenodd\"></path></svg>\n",
       " <span itemprop=\"name\">Code</span>\n",
       " <meta content=\"1\" itemprop=\"position\"/>\n",
       " </a>,\n",
       " <a class=\"js-selected-navigation-item reponav-item\" data-hotkey=\"g i\" data-selected-links=\"repo_issues repo_labels repo_milestones /html5lib/html5lib-python/issues\" href=\"/html5lib/html5lib-python/issues\" itemprop=\"url\">\n",
       " <svg aria-hidden=\"true\" class=\"octicon octicon-issue-opened\" height=\"16\" version=\"1.1\" viewbox=\"0 0 14 16\" width=\"14\"><path d=\"M7 2.3c3.14 0 5.7 2.56 5.7 5.7s-2.56 5.7-5.7 5.7A5.71 5.71 0 0 1 1.3 8c0-3.14 2.56-5.7 5.7-5.7zM7 1C3.14 1 0 4.14 0 8s3.14 7 7 7 7-3.14 7-7-3.14-7-7-7zm1 3H6v5h2V4zm0 6H6v2h2v-2z\" fill-rule=\"evenodd\"></path></svg>\n",
       " <span itemprop=\"name\">Issues</span>\n",
       " <span class=\"Counter\">62</span>\n",
       " <meta content=\"2\" itemprop=\"position\"/>\n",
       " </a>,\n",
       " <a class=\"js-selected-navigation-item reponav-item\" data-hotkey=\"g p\" data-selected-links=\"repo_pulls checks /html5lib/html5lib-python/pulls\" href=\"/html5lib/html5lib-python/pulls\" itemprop=\"url\">\n",
       " <svg aria-hidden=\"true\" class=\"octicon octicon-git-pull-request\" height=\"16\" version=\"1.1\" viewbox=\"0 0 12 16\" width=\"12\"><path d=\"M11 11.28V5c-.03-.78-.34-1.47-.94-2.06C9.46 2.35 8.78 2.03 8 2H7V0L4 3l3 3V4h1c.27.02.48.11.69.31.21.2.3.42.31.69v6.28A1.993 1.993 0 0 0 10 15a1.993 1.993 0 0 0 1-3.72zm-1 2.92c-.66 0-1.2-.55-1.2-1.2 0-.65.55-1.2 1.2-1.2.65 0 1.2.55 1.2 1.2 0 .65-.55 1.2-1.2 1.2zM4 3c0-1.11-.89-2-2-2a1.993 1.993 0 0 0-1 3.72v6.56A1.993 1.993 0 0 0 2 15a1.993 1.993 0 0 0 1-3.72V4.72c.59-.34 1-.98 1-1.72zm-.8 10c0 .66-.55 1.2-1.2 1.2-.65 0-1.2-.55-1.2-1.2 0-.65.55-1.2 1.2-1.2.65 0 1.2.55 1.2 1.2zM2 4.2C1.34 4.2.8 3.65.8 3c0-.65.55-1.2 1.2-1.2.65 0 1.2.55 1.2 1.2 0 .65-.55 1.2-1.2 1.2z\" fill-rule=\"evenodd\"></path></svg>\n",
       " <span itemprop=\"name\">Pull requests</span>\n",
       " <span class=\"Counter\">8</span>\n",
       " <meta content=\"3\" itemprop=\"position\"/>\n",
       " </a>,\n",
       " <a class=\"js-selected-navigation-item reponav-item\" data-hotkey=\"g b\" data-selected-links=\"repo_projects new_repo_project repo_project /html5lib/html5lib-python/projects\" href=\"/html5lib/html5lib-python/projects\">\n",
       " <svg aria-hidden=\"true\" class=\"octicon octicon-project\" height=\"16\" version=\"1.1\" viewbox=\"0 0 15 16\" width=\"15\"><path d=\"M10 12h3V2h-3v10zm-4-2h3V2H6v8zm-4 4h3V2H2v12zm-1 1h13V1H1v14zM14 0H1a1 1 0 0 0-1 1v14a1 1 0 0 0 1 1h13a1 1 0 0 0 1-1V1a1 1 0 0 0-1-1z\" fill-rule=\"evenodd\"></path></svg>\n",
       "       Projects\n",
       "       <span class=\"Counter\">0</span>\n",
       " </a>,\n",
       " <a class=\"js-selected-navigation-item reponav-item\" data-selected-links=\"repo_graphs repo_contributors dependency_graph pulse alerts /html5lib/html5lib-python/pulse\" href=\"/html5lib/html5lib-python/pulse\">\n",
       " <svg aria-hidden=\"true\" class=\"octicon octicon-graph\" height=\"16\" version=\"1.1\" viewbox=\"0 0 16 16\" width=\"16\"><path d=\"M16 14v1H0V0h1v14h15zM5 13H3V8h2v5zm4 0H7V3h2v10zm4 0h-2V6h2v7z\" fill-rule=\"evenodd\"></path></svg>\n",
       "     Insights\n",
       " </a>,\n",
       " <a data-pjax=\"\" href=\"/html5lib/html5lib-python/commits/master\">\n",
       " <svg aria-hidden=\"true\" class=\"octicon octicon-history\" height=\"16\" version=\"1.1\" viewbox=\"0 0 14 16\" width=\"14\"><path d=\"M8 13H6V6h5v2H8v5zM7 1C4.81 1 2.87 2.02 1.59 3.59L0 2v4h4L2.5 4.5C3.55 3.17 5.17 2.3 7 2.3c3.14 0 5.7 2.56 5.7 5.7s-2.56 5.7-5.7 5.7A5.71 5.71 0 0 1 1.3 8c0-.34.03-.67.09-1H.08C.03 7.33 0 7.66 0 8c0 3.86 3.14 7 7 7s7-3.14 7-7-3.14-7-7-7z\" fill-rule=\"evenodd\"></path></svg>\n",
       " <span class=\"num text-emphasized\">\n",
       "                 1,547\n",
       "               </span>\n",
       "               commits\n",
       "           </a>,\n",
       " <a data-pjax=\"\" href=\"/html5lib/html5lib-python/branches\">\n",
       " <svg aria-hidden=\"true\" class=\"octicon octicon-git-branch\" height=\"16\" version=\"1.1\" viewbox=\"0 0 10 16\" width=\"10\"><path d=\"M10 5c0-1.11-.89-2-2-2a1.993 1.993 0 0 0-1 3.72v.3c-.02.52-.23.98-.63 1.38-.4.4-.86.61-1.38.63-.83.02-1.48.16-2 .45V4.72a1.993 1.993 0 0 0-1-3.72C.88 1 0 1.89 0 3a2 2 0 0 0 1 1.72v6.56c-.59.35-1 .99-1 1.72 0 1.11.89 2 2 2 1.11 0 2-.89 2-2 0-.53-.2-1-.53-1.36.09-.06.48-.41.59-.47.25-.11.56-.17.94-.17 1.05-.05 1.95-.45 2.75-1.25S8.95 7.77 9 6.73h-.02C9.59 6.37 10 5.73 10 5zM2 1.8c.66 0 1.2.55 1.2 1.2 0 .65-.55 1.2-1.2 1.2C1.35 4.2.8 3.65.8 3c0-.65.55-1.2 1.2-1.2zm0 12.41c-.66 0-1.2-.55-1.2-1.2 0-.65.55-1.2 1.2-1.2.65 0 1.2.55 1.2 1.2 0 .65-.55 1.2-1.2 1.2zm6-8c-.66 0-1.2-.55-1.2-1.2 0-.65.55-1.2 1.2-1.2.65 0 1.2.55 1.2 1.2 0 .65-.55 1.2-1.2 1.2z\" fill-rule=\"evenodd\"></path></svg>\n",
       " <span class=\"num text-emphasized\">\n",
       "               4\n",
       "             </span>\n",
       "             branches\n",
       "           </a>,\n",
       " <a href=\"/html5lib/html5lib-python/releases\">\n",
       " <svg aria-hidden=\"true\" class=\"octicon octicon-tag\" height=\"16\" version=\"1.1\" viewbox=\"0 0 14 16\" width=\"14\"><path d=\"M7.685 1.72a2.49 2.49 0 0 0-1.76-.726H3.48A2.5 2.5 0 0 0 .994 3.48v2.456c0 .656.269 1.292.726 1.76l6.024 6.024a.99.99 0 0 0 1.402 0l4.563-4.563a.99.99 0 0 0 0-1.402L7.685 1.72zM2.366 7.048a1.54 1.54 0 0 1-.467-1.123V3.48c0-.874.716-1.58 1.58-1.58h2.456c.418 0 .825.159 1.123.467l6.104 6.094-4.702 4.702-6.094-6.114zm.626-4.066h1.989v1.989H2.982V2.982h.01z\" fill-rule=\"evenodd\"></path></svg>\n",
       " <span class=\"num text-emphasized\">\n",
       "               26\n",
       "             </span>\n",
       "             releases\n",
       "           </a>,\n",
       " <a href=\"/html5lib/html5lib-python/graphs/contributors\">\n",
       " <svg aria-hidden=\"true\" class=\"octicon octicon-organization\" height=\"16\" version=\"1.1\" viewbox=\"0 0 16 16\" width=\"16\"><path d=\"M16 12.999c0 .439-.45 1-1 1H7.995c-.539 0-.994-.447-.995-.999H1c-.54 0-1-.561-1-1 0-2.634 3-4 3-4s.229-.409 0-1c-.841-.621-1.058-.59-1-3 .058-2.419 1.367-3 2.5-3s2.442.58 2.5 3c.058 2.41-.159 2.379-1 3-.229.59 0 1 0 1s1.549.711 2.42 2.088C9.196 9.369 10 8.999 10 8.999s.229-.409 0-1c-.841-.62-1.058-.59-1-3 .058-2.419 1.367-3 2.5-3s2.437.581 2.495 3c.059 2.41-.158 2.38-1 3-.229.59 0 1 0 1s3.005 1.366 3.005 4z\" fill-rule=\"evenodd\"></path></svg>\n",
       " <span class=\"num text-emphasized\">\n",
       "       45\n",
       "     </span>\n",
       "     contributors\n",
       " </a>,\n",
       " <a href=\"/html5lib/html5lib-python/blob/master/LICENSE\">\n",
       " <svg aria-hidden=\"true\" class=\"octicon octicon-law\" height=\"16\" version=\"1.1\" viewbox=\"0 0 14 16\" width=\"14\"><path d=\"M7 4c-.83 0-1.5-.67-1.5-1.5S6.17 1 7 1s1.5.67 1.5 1.5S7.83 4 7 4zm7 6c0 1.11-.89 2-2 2h-1c-1.11 0-2-.89-2-2l2-4h-1c-.55 0-1-.45-1-1H8v8c.42 0 1 .45 1 1h1c.42 0 1 .45 1 1H3c0-.55.58-1 1-1h1c0-.55.58-1 1-1h.03L6 5H5c0 .55-.45 1-1 1H3l2 4c0 1.11-.89 2-2 2H2c-1.11 0-2-.89-2-2l2-4H1V5h3c0-.55.45-1 1-1h4c.55 0 1 .45 1 1h3v1h-1l2 4zM2.5 7L1 10h3L2.5 7zM13 10l-1.5-3-1.5 3h3z\" fill-rule=\"evenodd\"></path></svg>\n",
       "                 MIT\n",
       "             </a>,\n",
       " <a data-ga-click=\"Repository, language stats search click, location:repo overview\" href=\"/html5lib/html5lib-python/search?l=python\">\n",
       " <span class=\"color-block language-color\" style=\"background-color:#3572A5;\"></span>\n",
       " <span class=\"lang\">Python</span>\n",
       " <span class=\"percent\">99.9%</span>\n",
       " </a>,\n",
       " <a class=\"js-select-menu-tab\" data-filter-placeholder=\"Filter branches/tags\" data-tab-filter=\"branches\" href=\"#\" role=\"tab\">Branches</a>,\n",
       " <a class=\"js-select-menu-tab\" data-filter-placeholder=\"Find a tag…\" data-tab-filter=\"tags\" href=\"#\" role=\"tab\">Tags</a>,\n",
       " <a class=\"select-menu-item js-navigation-item js-navigation-open\" data-name=\"csswg-testsuite\" data-skip-pjax=\"true\" href=\"/html5lib/html5lib-python/tree/csswg-testsuite\" rel=\"nofollow\">\n",
       " <svg aria-hidden=\"true\" class=\"octicon octicon-check select-menu-item-icon\" height=\"16\" version=\"1.1\" viewbox=\"0 0 12 16\" width=\"12\"><path d=\"M12 5l-8 8-4-4 1.5-1.5L4 10l6.5-6.5L12 5z\" fill-rule=\"evenodd\"></path></svg>\n",
       " <span class=\"select-menu-item-text css-truncate-target js-select-menu-filter-text\">\n",
       "                 csswg-testsuite\n",
       "               </span>\n",
       " </a>,\n",
       " <a class=\"select-menu-item js-navigation-item js-navigation-open\" data-name=\"gcode-157\" data-skip-pjax=\"true\" href=\"/html5lib/html5lib-python/tree/gcode-157\" rel=\"nofollow\">\n",
       " <svg aria-hidden=\"true\" class=\"octicon octicon-check select-menu-item-icon\" height=\"16\" version=\"1.1\" viewbox=\"0 0 12 16\" width=\"12\"><path d=\"M12 5l-8 8-4-4 1.5-1.5L4 10l6.5-6.5L12 5z\" fill-rule=\"evenodd\"></path></svg>\n",
       " <span class=\"select-menu-item-text css-truncate-target js-select-menu-filter-text\">\n",
       "                 gcode-157\n",
       "               </span>\n",
       " </a>,\n",
       " <a class=\"select-menu-item js-navigation-item js-navigation-open selected\" data-name=\"master\" data-skip-pjax=\"true\" href=\"/html5lib/html5lib-python/tree/master\" rel=\"nofollow\">\n",
       " <svg aria-hidden=\"true\" class=\"octicon octicon-check select-menu-item-icon\" height=\"16\" version=\"1.1\" viewbox=\"0 0 12 16\" width=\"12\"><path d=\"M12 5l-8 8-4-4 1.5-1.5L4 10l6.5-6.5L12 5z\" fill-rule=\"evenodd\"></path></svg>\n",
       " <span class=\"select-menu-item-text css-truncate-target js-select-menu-filter-text\">\n",
       "                 master\n",
       "               </span>\n",
       " </a>,\n",
       " <a class=\"select-menu-item js-navigation-item js-navigation-open\" data-name=\"python3-old\" data-skip-pjax=\"true\" href=\"/html5lib/html5lib-python/tree/python3-old\" rel=\"nofollow\">\n",
       " <svg aria-hidden=\"true\" class=\"octicon octicon-check select-menu-item-icon\" height=\"16\" version=\"1.1\" viewbox=\"0 0 12 16\" width=\"12\"><path d=\"M12 5l-8 8-4-4 1.5-1.5L4 10l6.5-6.5L12 5z\" fill-rule=\"evenodd\"></path></svg>\n",
       " <span class=\"select-menu-item-text css-truncate-target js-select-menu-filter-text\">\n",
       "                 python3-old\n",
       "               </span>\n",
       " </a>,\n",
       " <a class=\"select-menu-item js-navigation-item js-navigation-open\" data-name=\"1.0.1\" data-skip-pjax=\"true\" href=\"/html5lib/html5lib-python/tree/1.0.1\" rel=\"nofollow\">\n",
       " <svg aria-hidden=\"true\" class=\"octicon octicon-check select-menu-item-icon\" height=\"16\" version=\"1.1\" viewbox=\"0 0 12 16\" width=\"12\"><path d=\"M12 5l-8 8-4-4 1.5-1.5L4 10l6.5-6.5L12 5z\" fill-rule=\"evenodd\"></path></svg>\n",
       " <span class=\"select-menu-item-text css-truncate-target\" title=\"1.0.1\">\n",
       "                 1.0.1\n",
       "               </span>\n",
       " </a>,\n",
       " <a class=\"select-menu-item js-navigation-item js-navigation-open\" data-name=\"1.0\" data-skip-pjax=\"true\" href=\"/html5lib/html5lib-python/tree/1.0\" rel=\"nofollow\">\n",
       " <svg aria-hidden=\"true\" class=\"octicon octicon-check select-menu-item-icon\" height=\"16\" version=\"1.1\" viewbox=\"0 0 12 16\" width=\"12\"><path d=\"M12 5l-8 8-4-4 1.5-1.5L4 10l6.5-6.5L12 5z\" fill-rule=\"evenodd\"></path></svg>\n",
       " <span class=\"select-menu-item-text css-truncate-target\" title=\"1.0\">\n",
       "                 1.0\n",
       "               </span>\n",
       " </a>,\n",
       " <a class=\"select-menu-item js-navigation-item js-navigation-open\" data-name=\"1.0b10\" data-skip-pjax=\"true\" href=\"/html5lib/html5lib-python/tree/1.0b10\" rel=\"nofollow\">\n",
       " <svg aria-hidden=\"true\" class=\"octicon octicon-check select-menu-item-icon\" height=\"16\" version=\"1.1\" viewbox=\"0 0 12 16\" width=\"12\"><path d=\"M12 5l-8 8-4-4 1.5-1.5L4 10l6.5-6.5L12 5z\" fill-rule=\"evenodd\"></path></svg>\n",
       " <span class=\"select-menu-item-text css-truncate-target\" title=\"1.0b10\">\n",
       "                 1.0b10\n",
       "               </span>\n",
       " </a>,\n",
       " <a class=\"select-menu-item js-navigation-item js-navigation-open\" data-name=\"1.0b9\" data-skip-pjax=\"true\" href=\"/html5lib/html5lib-python/tree/1.0b9\" rel=\"nofollow\">\n",
       " <svg aria-hidden=\"true\" class=\"octicon octicon-check select-menu-item-icon\" height=\"16\" version=\"1.1\" viewbox=\"0 0 12 16\" width=\"12\"><path d=\"M12 5l-8 8-4-4 1.5-1.5L4 10l6.5-6.5L12 5z\" fill-rule=\"evenodd\"></path></svg>\n",
       " <span class=\"select-menu-item-text css-truncate-target\" title=\"1.0b9\">\n",
       "                 1.0b9\n",
       "               </span>\n",
       " </a>,\n",
       " <a class=\"select-menu-item js-navigation-item js-navigation-open\" data-name=\"1.0b8\" data-skip-pjax=\"true\" href=\"/html5lib/html5lib-python/tree/1.0b8\" rel=\"nofollow\">\n",
       " <svg aria-hidden=\"true\" class=\"octicon octicon-check select-menu-item-icon\" height=\"16\" version=\"1.1\" viewbox=\"0 0 12 16\" width=\"12\"><path d=\"M12 5l-8 8-4-4 1.5-1.5L4 10l6.5-6.5L12 5z\" fill-rule=\"evenodd\"></path></svg>\n",
       " <span class=\"select-menu-item-text css-truncate-target\" title=\"1.0b8\">\n",
       "                 1.0b8\n",
       "               </span>\n",
       " </a>,\n",
       " <a class=\"select-menu-item js-navigation-item js-navigation-open\" data-name=\"1.0b7\" data-skip-pjax=\"true\" href=\"/html5lib/html5lib-python/tree/1.0b7\" rel=\"nofollow\">\n",
       " <svg aria-hidden=\"true\" class=\"octicon octicon-check select-menu-item-icon\" height=\"16\" version=\"1.1\" viewbox=\"0 0 12 16\" width=\"12\"><path d=\"M12 5l-8 8-4-4 1.5-1.5L4 10l6.5-6.5L12 5z\" fill-rule=\"evenodd\"></path></svg>\n",
       " <span class=\"select-menu-item-text css-truncate-target\" title=\"1.0b7\">\n",
       "                 1.0b7\n",
       "               </span>\n",
       " </a>,\n",
       " <a class=\"select-menu-item js-navigation-item js-navigation-open\" data-name=\"1.0b6\" data-skip-pjax=\"true\" href=\"/html5lib/html5lib-python/tree/1.0b6\" rel=\"nofollow\">\n",
       " <svg aria-hidden=\"true\" class=\"octicon octicon-check select-menu-item-icon\" height=\"16\" version=\"1.1\" viewbox=\"0 0 12 16\" width=\"12\"><path d=\"M12 5l-8 8-4-4 1.5-1.5L4 10l6.5-6.5L12 5z\" fill-rule=\"evenodd\"></path></svg>\n",
       " <span class=\"select-menu-item-text css-truncate-target\" title=\"1.0b6\">\n",
       "                 1.0b6\n",
       "               </span>\n",
       " </a>,\n",
       " <a class=\"select-menu-item js-navigation-item js-navigation-open\" data-name=\"1.0b5\" data-skip-pjax=\"true\" href=\"/html5lib/html5lib-python/tree/1.0b5\" rel=\"nofollow\">\n",
       " <svg aria-hidden=\"true\" class=\"octicon octicon-check select-menu-item-icon\" height=\"16\" version=\"1.1\" viewbox=\"0 0 12 16\" width=\"12\"><path d=\"M12 5l-8 8-4-4 1.5-1.5L4 10l6.5-6.5L12 5z\" fill-rule=\"evenodd\"></path></svg>\n",
       " <span class=\"select-menu-item-text css-truncate-target\" title=\"1.0b5\">\n",
       "                 1.0b5\n",
       "               </span>\n",
       " </a>,\n",
       " <a class=\"select-menu-item js-navigation-item js-navigation-open\" data-name=\"1.0b3\" data-skip-pjax=\"true\" href=\"/html5lib/html5lib-python/tree/1.0b3\" rel=\"nofollow\">\n",
       " <svg aria-hidden=\"true\" class=\"octicon octicon-check select-menu-item-icon\" height=\"16\" version=\"1.1\" viewbox=\"0 0 12 16\" width=\"12\"><path d=\"M12 5l-8 8-4-4 1.5-1.5L4 10l6.5-6.5L12 5z\" fill-rule=\"evenodd\"></path></svg>\n",
       " <span class=\"select-menu-item-text css-truncate-target\" title=\"1.0b3\">\n",
       "                 1.0b3\n",
       "               </span>\n",
       " </a>,\n",
       " <a class=\"select-menu-item js-navigation-item js-navigation-open\" data-name=\"1.0b2\" data-skip-pjax=\"true\" href=\"/html5lib/html5lib-python/tree/1.0b2\" rel=\"nofollow\">\n",
       " <svg aria-hidden=\"true\" class=\"octicon octicon-check select-menu-item-icon\" height=\"16\" version=\"1.1\" viewbox=\"0 0 12 16\" width=\"12\"><path d=\"M12 5l-8 8-4-4 1.5-1.5L4 10l6.5-6.5L12 5z\" fill-rule=\"evenodd\"></path></svg>\n",
       " <span class=\"select-menu-item-text css-truncate-target\" title=\"1.0b2\">\n",
       "                 1.0b2\n",
       "               </span>\n",
       " </a>,\n",
       " <a class=\"select-menu-item js-navigation-item js-navigation-open\" data-name=\"1.0b1\" data-skip-pjax=\"true\" href=\"/html5lib/html5lib-python/tree/1.0b1\" rel=\"nofollow\">\n",
       " <svg aria-hidden=\"true\" class=\"octicon octicon-check select-menu-item-icon\" height=\"16\" version=\"1.1\" viewbox=\"0 0 12 16\" width=\"12\"><path d=\"M12 5l-8 8-4-4 1.5-1.5L4 10l6.5-6.5L12 5z\" fill-rule=\"evenodd\"></path></svg>\n",
       " <span class=\"select-menu-item-text css-truncate-target\" title=\"1.0b1\">\n",
       "                 1.0b1\n",
       "               </span>\n",
       " </a>,\n",
       " <a class=\"select-menu-item js-navigation-item js-navigation-open\" data-name=\"0.999999999\" data-skip-pjax=\"true\" href=\"/html5lib/html5lib-python/tree/0.999999999\" rel=\"nofollow\">\n",
       " <svg aria-hidden=\"true\" class=\"octicon octicon-check select-menu-item-icon\" height=\"16\" version=\"1.1\" viewbox=\"0 0 12 16\" width=\"12\"><path d=\"M12 5l-8 8-4-4 1.5-1.5L4 10l6.5-6.5L12 5z\" fill-rule=\"evenodd\"></path></svg>\n",
       " <span class=\"select-menu-item-text css-truncate-target\" title=\"0.999999999\">\n",
       "                 0.999999999\n",
       "               </span>\n",
       " </a>,\n",
       " <a class=\"select-menu-item js-navigation-item js-navigation-open\" data-name=\"0.99999999\" data-skip-pjax=\"true\" href=\"/html5lib/html5lib-python/tree/0.99999999\" rel=\"nofollow\">\n",
       " <svg aria-hidden=\"true\" class=\"octicon octicon-check select-menu-item-icon\" height=\"16\" version=\"1.1\" viewbox=\"0 0 12 16\" width=\"12\"><path d=\"M12 5l-8 8-4-4 1.5-1.5L4 10l6.5-6.5L12 5z\" fill-rule=\"evenodd\"></path></svg>\n",
       " <span class=\"select-menu-item-text css-truncate-target\" title=\"0.99999999\">\n",
       "                 0.99999999\n",
       "               </span>\n",
       " </a>,\n",
       " <a class=\"select-menu-item js-navigation-item js-navigation-open\" data-name=\"0.9999999\" data-skip-pjax=\"true\" href=\"/html5lib/html5lib-python/tree/0.9999999\" rel=\"nofollow\">\n",
       " <svg aria-hidden=\"true\" class=\"octicon octicon-check select-menu-item-icon\" height=\"16\" version=\"1.1\" viewbox=\"0 0 12 16\" width=\"12\"><path d=\"M12 5l-8 8-4-4 1.5-1.5L4 10l6.5-6.5L12 5z\" fill-rule=\"evenodd\"></path></svg>\n",
       " <span class=\"select-menu-item-text css-truncate-target\" title=\"0.9999999\">\n",
       "                 0.9999999\n",
       "               </span>\n",
       " </a>,\n",
       " <a class=\"select-menu-item js-navigation-item js-navigation-open\" data-name=\"0.999999\" data-skip-pjax=\"true\" href=\"/html5lib/html5lib-python/tree/0.999999\" rel=\"nofollow\">\n",
       " <svg aria-hidden=\"true\" class=\"octicon octicon-check select-menu-item-icon\" height=\"16\" version=\"1.1\" viewbox=\"0 0 12 16\" width=\"12\"><path d=\"M12 5l-8 8-4-4 1.5-1.5L4 10l6.5-6.5L12 5z\" fill-rule=\"evenodd\"></path></svg>\n",
       " <span class=\"select-menu-item-text css-truncate-target\" title=\"0.999999\">\n",
       "                 0.999999\n",
       "               </span>\n",
       " </a>,\n",
       " <a class=\"select-menu-item js-navigation-item js-navigation-open\" data-name=\"0.99999\" data-skip-pjax=\"true\" href=\"/html5lib/html5lib-python/tree/0.99999\" rel=\"nofollow\">\n",
       " <svg aria-hidden=\"true\" class=\"octicon octicon-check select-menu-item-icon\" height=\"16\" version=\"1.1\" viewbox=\"0 0 12 16\" width=\"12\"><path d=\"M12 5l-8 8-4-4 1.5-1.5L4 10l6.5-6.5L12 5z\" fill-rule=\"evenodd\"></path></svg>\n",
       " <span class=\"select-menu-item-text css-truncate-target\" title=\"0.99999\">\n",
       "                 0.99999\n",
       "               </span>\n",
       " </a>,\n",
       " <a class=\"select-menu-item js-navigation-item js-navigation-open\" data-name=\"0.9999\" data-skip-pjax=\"true\" href=\"/html5lib/html5lib-python/tree/0.9999\" rel=\"nofollow\">\n",
       " <svg aria-hidden=\"true\" class=\"octicon octicon-check select-menu-item-icon\" height=\"16\" version=\"1.1\" viewbox=\"0 0 12 16\" width=\"12\"><path d=\"M12 5l-8 8-4-4 1.5-1.5L4 10l6.5-6.5L12 5z\" fill-rule=\"evenodd\"></path></svg>\n",
       " <span class=\"select-menu-item-text css-truncate-target\" title=\"0.9999\">\n",
       "                 0.9999\n",
       "               </span>\n",
       " </a>,\n",
       " <a class=\"select-menu-item js-navigation-item js-navigation-open\" data-name=\"0.999\" data-skip-pjax=\"true\" href=\"/html5lib/html5lib-python/tree/0.999\" rel=\"nofollow\">\n",
       " <svg aria-hidden=\"true\" class=\"octicon octicon-check select-menu-item-icon\" height=\"16\" version=\"1.1\" viewbox=\"0 0 12 16\" width=\"12\"><path d=\"M12 5l-8 8-4-4 1.5-1.5L4 10l6.5-6.5L12 5z\" fill-rule=\"evenodd\"></path></svg>\n",
       " <span class=\"select-menu-item-text css-truncate-target\" title=\"0.999\">\n",
       "                 0.999\n",
       "               </span>\n",
       " </a>,\n",
       " <a class=\"select-menu-item js-navigation-item js-navigation-open\" data-name=\"0.99\" data-skip-pjax=\"true\" href=\"/html5lib/html5lib-python/tree/0.99\" rel=\"nofollow\">\n",
       " <svg aria-hidden=\"true\" class=\"octicon octicon-check select-menu-item-icon\" height=\"16\" version=\"1.1\" viewbox=\"0 0 12 16\" width=\"12\"><path d=\"M12 5l-8 8-4-4 1.5-1.5L4 10l6.5-6.5L12 5z\" fill-rule=\"evenodd\"></path></svg>\n",
       " <span class=\"select-menu-item-text css-truncate-target\" title=\"0.99\">\n",
       "                 0.99\n",
       "               </span>\n",
       " </a>,\n",
       " <a class=\"select-menu-item js-navigation-item js-navigation-open\" data-name=\"0.95\" data-skip-pjax=\"true\" href=\"/html5lib/html5lib-python/tree/0.95\" rel=\"nofollow\">\n",
       " <svg aria-hidden=\"true\" class=\"octicon octicon-check select-menu-item-icon\" height=\"16\" version=\"1.1\" viewbox=\"0 0 12 16\" width=\"12\"><path d=\"M12 5l-8 8-4-4 1.5-1.5L4 10l6.5-6.5L12 5z\" fill-rule=\"evenodd\"></path></svg>\n",
       " <span class=\"select-menu-item-text css-truncate-target\" title=\"0.95\">\n",
       "                 0.95\n",
       "               </span>\n",
       " </a>,\n",
       " <a class=\"select-menu-item js-navigation-item js-navigation-open\" data-name=\"0.90\" data-skip-pjax=\"true\" href=\"/html5lib/html5lib-python/tree/0.90\" rel=\"nofollow\">\n",
       " <svg aria-hidden=\"true\" class=\"octicon octicon-check select-menu-item-icon\" height=\"16\" version=\"1.1\" viewbox=\"0 0 12 16\" width=\"12\"><path d=\"M12 5l-8 8-4-4 1.5-1.5L4 10l6.5-6.5L12 5z\" fill-rule=\"evenodd\"></path></svg>\n",
       " <span class=\"select-menu-item-text css-truncate-target\" title=\"0.90\">\n",
       "                 0.90\n",
       "               </span>\n",
       " </a>,\n",
       " <a class=\"select-menu-item js-navigation-item js-navigation-open\" data-name=\"0.11.1ish\" data-skip-pjax=\"true\" href=\"/html5lib/html5lib-python/tree/0.11.1ish\" rel=\"nofollow\">\n",
       " <svg aria-hidden=\"true\" class=\"octicon octicon-check select-menu-item-icon\" height=\"16\" version=\"1.1\" viewbox=\"0 0 12 16\" width=\"12\"><path d=\"M12 5l-8 8-4-4 1.5-1.5L4 10l6.5-6.5L12 5z\" fill-rule=\"evenodd\"></path></svg>\n",
       " <span class=\"select-menu-item-text css-truncate-target\" title=\"0.11.1ish\">\n",
       "                 0.11.1ish\n",
       "               </span>\n",
       " </a>,\n",
       " <a class=\"select-menu-item js-navigation-item js-navigation-open\" data-name=\"0.11ish\" data-skip-pjax=\"true\" href=\"/html5lib/html5lib-python/tree/0.11ish\" rel=\"nofollow\">\n",
       " <svg aria-hidden=\"true\" class=\"octicon octicon-check select-menu-item-icon\" height=\"16\" version=\"1.1\" viewbox=\"0 0 12 16\" width=\"12\"><path d=\"M12 5l-8 8-4-4 1.5-1.5L4 10l6.5-6.5L12 5z\" fill-rule=\"evenodd\"></path></svg>\n",
       " <span class=\"select-menu-item-text css-truncate-target\" title=\"0.11ish\">\n",
       "                 0.11ish\n",
       "               </span>\n",
       " </a>,\n",
       " <a class=\"select-menu-item js-navigation-item js-navigation-open\" data-name=\"0.10ish\" data-skip-pjax=\"true\" href=\"/html5lib/html5lib-python/tree/0.10ish\" rel=\"nofollow\">\n",
       " <svg aria-hidden=\"true\" class=\"octicon octicon-check select-menu-item-icon\" height=\"16\" version=\"1.1\" viewbox=\"0 0 12 16\" width=\"12\"><path d=\"M12 5l-8 8-4-4 1.5-1.5L4 10l6.5-6.5L12 5z\" fill-rule=\"evenodd\"></path></svg>\n",
       " <span class=\"select-menu-item-text css-truncate-target\" title=\"0.10ish\">\n",
       "                 0.10ish\n",
       "               </span>\n",
       " </a>,\n",
       " <a class=\"select-menu-item js-navigation-item js-navigation-open\" data-name=\"0.9ish\" data-skip-pjax=\"true\" href=\"/html5lib/html5lib-python/tree/0.9ish\" rel=\"nofollow\">\n",
       " <svg aria-hidden=\"true\" class=\"octicon octicon-check select-menu-item-icon\" height=\"16\" version=\"1.1\" viewbox=\"0 0 12 16\" width=\"12\"><path d=\"M12 5l-8 8-4-4 1.5-1.5L4 10l6.5-6.5L12 5z\" fill-rule=\"evenodd\"></path></svg>\n",
       " <span class=\"select-menu-item-text css-truncate-target\" title=\"0.9ish\">\n",
       "                 0.9ish\n",
       "               </span>\n",
       " </a>,\n",
       " <a class=\"select-menu-item js-navigation-item js-navigation-open\" data-name=\"0.2\" data-skip-pjax=\"true\" href=\"/html5lib/html5lib-python/tree/0.2\" rel=\"nofollow\">\n",
       " <svg aria-hidden=\"true\" class=\"octicon octicon-check select-menu-item-icon\" height=\"16\" version=\"1.1\" viewbox=\"0 0 12 16\" width=\"12\"><path d=\"M12 5l-8 8-4-4 1.5-1.5L4 10l6.5-6.5L12 5z\" fill-rule=\"evenodd\"></path></svg>\n",
       " <span class=\"select-menu-item-text css-truncate-target\" title=\"0.2\">\n",
       "                 0.2\n",
       "               </span>\n",
       " </a>,\n",
       " <a class=\"btn btn-sm new-pull-request-btn\" data-ga-click=\"Repository, new pull request, location:repo overview\" data-pjax=\"\" href=\"/html5lib/html5lib-python/pull/new/master\">\n",
       "           New pull request\n",
       "         </a>,\n",
       " <a class=\"btn btn-sm BtnGroup-item\" href=\"/html5lib/html5lib-python/upload/master\">\n",
       "     Upload files\n",
       "   </a>,\n",
       " <a class=\"btn btn-sm empty-icon float-right BtnGroup-item\" data-ga-click=\"Repository, find file, location:repo overview\" data-hotkey=\"t\" data-pjax=\"\" href=\"/html5lib/html5lib-python/find/master\">\n",
       "       Find file\n",
       "     </a>,\n",
       " <a class=\"muted-link\" href=\"https://help.github.com/articles/which-remote-url-should-i-use\" target=\"_blank\" title=\"Which remote URL should I use?\">\n",
       " <svg aria-hidden=\"true\" class=\"octicon octicon-question\" height=\"16\" version=\"1.1\" viewbox=\"0 0 14 16\" width=\"14\"><path d=\"M6 10h2v2H6v-2zm4-3.5C10 8.64 8 9 8 9H6c0-.55.45-1 1-1h.5c.28 0 .5-.22.5-.5v-1c0-.28-.22-.5-.5-.5h-1c-.28 0-.5.22-.5.5V7H4c0-1.5 1.5-3 3-3s3 1 3 2.5zM7 2.3c3.14 0 5.7 2.56 5.7 5.7s-2.56 5.7-5.7 5.7A5.71 5.71 0 0 1 1.3 8c0-3.14 2.56-5.7 5.7-5.7zM7 1C3.14 1 0 4.14 0 8s3.14 7 7 7 7-3.14 7-7-3.14-7-7-7z\" fill-rule=\"evenodd\"></path></svg>\n",
       " </a>,\n",
       " <a class=\"muted-link\" href=\"https://help.github.com/articles/which-remote-url-should-i-use\" target=\"_blank\" title=\"Which remote URL should I use?\">\n",
       " <svg aria-hidden=\"true\" class=\"octicon octicon-question\" height=\"16\" version=\"1.1\" viewbox=\"0 0 14 16\" width=\"14\"><path d=\"M6 10h2v2H6v-2zm4-3.5C10 8.64 8 9 8 9H6c0-.55.45-1 1-1h.5c.28 0 .5-.22.5-.5v-1c0-.28-.22-.5-.5-.5h-1c-.28 0-.5.22-.5.5V7H4c0-1.5 1.5-3 3-3s3 1 3 2.5zM7 2.3c3.14 0 5.7 2.56 5.7 5.7s-2.56 5.7-5.7 5.7A5.71 5.71 0 0 1 1.3 8c0-3.14 2.56-5.7 5.7-5.7zM7 1C3.14 1 0 4.14 0 8s3.14 7 7 7 7-3.14 7-7-3.14-7-7-7z\" fill-rule=\"evenodd\"></path></svg>\n",
       " </a>,\n",
       " <a aria-label=\"Clone html5lib/html5lib-python to your computer and use it in GitHub Desktop.\" class=\"btn btn-outline get-repo-btn tooltipped tooltipped-s tooltipped-multiline js-get-repo\" data-open-app=\"mac\" href=\"https://desktop.github.com\">\n",
       "     Open in Desktop\n",
       "   </a>,\n",
       " <a class=\"btn btn-outline get-repo-btn\" data-ga-click=\"Repository, download zip, location:repo overview\" href=\"/html5lib/html5lib-python/archive/master.zip\" rel=\"nofollow\">\n",
       "   Download ZIP\n",
       " </a>,\n",
       " <a href=\"https://desktop.github.com/\">download GitHub Desktop</a>,\n",
       " <a href=\"https://desktop.github.com/\">download GitHub Desktop</a>,\n",
       " <a href=\"https://developer.apple.com/xcode/\">download Xcode</a>,\n",
       " <a href=\"https://visualstudio.github.com/\">download the GitHub extension for Visual Studio</a>,\n",
       " <a class=\"avatar\" data-hovercard-type=\"user\" data-hovercard-url=\"/hovercards?user_id=1055747\" data-octo-click=\"hovercard-link-click\" data-octo-dimensions=\"link_type:self\" data-skip-pjax=\"true\" href=\"/5j9\">\n",
       " <img alt=\"@5j9\" height=\"20\" src=\"https://avatars0.githubusercontent.com/u/1055747?s=60&amp;v=4\" width=\"20\"/>\n",
       " </a>,\n",
       " <a class=\"avatar\" data-hovercard-type=\"user\" data-hovercard-url=\"/hovercards?user_id=176218\" data-octo-click=\"hovercard-link-click\" data-octo-dimensions=\"link_type:self\" data-skip-pjax=\"true\" href=\"/gsnedders\">\n",
       " <img alt=\"@gsnedders\" height=\"20\" src=\"https://avatars2.githubusercontent.com/u/176218?s=60&amp;v=4\" width=\"20\"/>\n",
       " </a>,\n",
       " <a aria-label=\"View all commits by 5j9\" class=\"commit-author tooltipped tooltipped-s user-mention\" href=\"/html5lib/html5lib-python/commits?author=5j9\">5j9</a>,\n",
       " <a aria-label=\"View all commits by gsnedders\" class=\"commit-author tooltipped tooltipped-s user-mention\" href=\"/html5lib/html5lib-python/commits?author=gsnedders\">gsnedders</a>,\n",
       " <a class=\"message\" data-pjax=\"true\" href=\"/html5lib/html5lib-python/commit/4f9235752cea29c5a31721440578b430823a1e69\" title=\"Try to import MutableMapping from collections.abc (#403)\n",
       " \n",
       " Note that collections.abc has been added in Python 3.3.\n",
       " \n",
       " Fixes #402\">Try to import MutableMapping from collections.abc (</a>,\n",
       " <a class=\"issue-link js-issue-link\" data-error-text=\"Failed to load issue title\" data-id=\"362923255\" data-permission-text=\"Issue title is private\" data-url=\"https://github.com/html5lib/html5lib-python/issues/403\" href=\"https://github.com/html5lib/html5lib-python/pull/403\">#403</a>,\n",
       " <a class=\"message\" data-pjax=\"true\" href=\"/html5lib/html5lib-python/commit/4f9235752cea29c5a31721440578b430823a1e69\" title=\"Try to import MutableMapping from collections.abc (#403)\n",
       " \n",
       " Note that collections.abc has been added in Python 3.3.\n",
       " \n",
       " Fixes #402\">)</a>,\n",
       " <a class=\"issue-link js-issue-link\" data-error-text=\"Failed to load issue title\" data-id=\"362500129\" data-permission-text=\"Issue title is private\" data-url=\"https://github.com/html5lib/html5lib-python/issues/402\" href=\"https://github.com/html5lib/html5lib-python/issues/402\">#402</a>,\n",
       " <a class=\"commit-tease-sha\" data-pjax=\"\" href=\"/html5lib/html5lib-python/commit/4f9235752cea29c5a31721440578b430823a1e69\">\n",
       "         4f92357\n",
       "       </a>,\n",
       " <a class=\"d-none js-permalink-shortcut\" data-hotkey=\"y\" href=\"/html5lib/html5lib-python/tree/4f9235752cea29c5a31721440578b430823a1e69\">Permalink</a>,\n",
       " <a class=\"js-navigation-open\" href=\"/html5lib/html5lib-python/tree/master/doc\" id=\"9a09b4dfda82e3e665e31092d1c3ec8d-fd4264076450c660002e660754efeea463ead614\" title=\"doc\">doc</a>,\n",
       " <a class=\"message\" data-pjax=\"true\" href=\"/html5lib/html5lib-python/commit/21a6820957e677f24684ec84cddfecf1d541b11d\" title=\"Remove undoc-members and add documentation for __init__\n",
       " \n",
       " The public API should all be documented. Anything that isn't documented with a\n",
       " docstring or starts with a _ isn't part of the public API. Given that, we\n",
       " shouldn't be autodoc'ing undocumented members.\n",
       " \n",
       " We do want to document __init__ since that's how the classes get built. So\n",
       " we explicitly add that to autodoc.\n",
       " \n",
       " I think this is a good base to build on. If it isn't, we can adjust things\n",
       " and maybe explicitly specify what should and shouldn't be documented.\">Remove undoc-members and add documentation for __init__</a>,\n",
       " <a class=\"js-navigation-open\" href=\"/html5lib/html5lib-python/tree/master/html5lib\" id=\"32e57da8e2627491a2212ed85401b8d6-5e92872b35eb3ba7225f47fa105e6a8fa00cb144\" title=\"html5lib\">html5lib</a>,\n",
       " <a class=\"message\" data-pjax=\"true\" href=\"/html5lib/html5lib-python/commit/4f9235752cea29c5a31721440578b430823a1e69\" title=\"Try to import MutableMapping from collections.abc (#403)\n",
       " \n",
       " Note that collections.abc has been added in Python 3.3.\n",
       " \n",
       " Fixes #402\">Try to import MutableMapping from collections.abc (</a>,\n",
       " <a class=\"issue-link js-issue-link\" data-error-text=\"Failed to load issue title\" data-id=\"362923255\" data-permission-text=\"Issue title is private\" data-url=\"https://github.com/html5lib/html5lib-python/issues/403\" href=\"https://github.com/html5lib/html5lib-python/pull/403\">#403</a>,\n",
       " <a class=\"message\" data-pjax=\"true\" href=\"/html5lib/html5lib-python/commit/4f9235752cea29c5a31721440578b430823a1e69\" title=\"Try to import MutableMapping from collections.abc (#403)\n",
       " \n",
       " Note that collections.abc has been added in Python 3.3.\n",
       " \n",
       " Fixes #402\">)</a>,\n",
       " <a class=\"js-navigation-open\" href=\"/html5lib/html5lib-python/tree/master/utils\" id=\"2b3583e6e17721c54496bd04e57a0c15-f176d382e59737f4ff51a6b4eded900363668580\" title=\"utils\">utils</a>,\n",
       " <a class=\"message\" data-pjax=\"true\" href=\"/html5lib/html5lib-python/commit/8788bdafbf6dc183e96470e4c138211a92e880b8\" title=\"Remove utils/spider.py (#353)\n",
       " \n",
       " Fixes #349\">Remove utils/spider.py (</a>,\n",
       " <a class=\"issue-link js-issue-link\" data-error-text=\"Failed to load issue title\" data-id=\"269357120\" data-permission-text=\"Issue title is private\" data-url=\"https://github.com/html5lib/html5lib-python/issues/353\" href=\"https://github.com/html5lib/html5lib-python/pull/353\">#353</a>,\n",
       " <a class=\"message\" data-pjax=\"true\" href=\"/html5lib/html5lib-python/commit/8788bdafbf6dc183e96470e4c138211a92e880b8\" title=\"Remove utils/spider.py (#353)\n",
       " \n",
       " Fixes #349\">)</a>,\n",
       " <a class=\"js-navigation-open\" href=\"/html5lib/html5lib-python/blob/master/.appveyor.yml\" id=\"11c909939117928998b102a1fff7d363-dd96a399e9c45b7304a426b050ee2c5c237fa5d0\" title=\".appveyor.yml\">.appveyor.yml</a>,\n",
       " <a class=\"message\" data-pjax=\"true\" href=\"/html5lib/html5lib-python/commit/7facf987f52ad25b5cf9aa1fa76252ea04702777\" title=\"Remove Appveyor Python 3.3 builds (#397)\n",
       " \n",
       " It looks like this was missed in #358. It is causing build failures in #395 and #396.\">Remove Appveyor Python 3.3 builds (</a>,\n",
       " <a class=\"issue-link js-issue-link\" data-error-text=\"Failed to load issue title\" data-id=\"330934061\" data-permission-text=\"Issue title is private\" data-url=\"https://github.com/html5lib/html5lib-python/issues/397\" href=\"https://github.com/html5lib/html5lib-python/pull/397\">#397</a>,\n",
       " <a class=\"message\" data-pjax=\"true\" href=\"/html5lib/html5lib-python/commit/7facf987f52ad25b5cf9aa1fa76252ea04702777\" title=\"Remove Appveyor Python 3.3 builds (#397)\n",
       " \n",
       " It looks like this was missed in #358. It is causing build failures in #395 and #396.\">)</a>,\n",
       " <a class=\"js-navigation-open\" href=\"/html5lib/html5lib-python/blob/master/.coveragerc\" id=\"6f1f859c6ca5c4cae7310924786cf661-6facf35239fa5bd187e698b1ff3de06b545deb06\" title=\".coveragerc\">.coveragerc</a>,\n",
       " <a class=\"message\" data-pjax=\"true\" href=\"/html5lib/html5lib-python/commit/66a3f42444cb1d4d2cfa32f6d1d69243baa6a9fa\" title=\"Add codecov.\">Add codecov.</a>,\n",
       " <a class=\"js-navigation-open\" href=\"/html5lib/html5lib-python/blob/master/.gitignore\" id=\"a084b794bc0759e7a6b77810e01874f2-ecd62df31b911e3ea08c0989d1f99a92918a0e32\" title=\".gitignore\">.gitignore</a>,\n",
       " <a class=\"message\" data-pjax=\"true\" href=\"/html5lib/html5lib-python/commit/d3de97279d906c68bf82f6a827cd29cc8248e03b\" title=\"Ignore PyCharm IDE metadata\">Ignore PyCharm IDE metadata</a>,\n",
       " <a class=\"js-navigation-open\" href=\"/html5lib/html5lib-python/blob/master/.gitmodules\" id=\"8903239df476d7401cf9e76af0252622-dbca470328d6bc56d4434962a6972992dce4cdc8\" title=\".gitmodules\">.gitmodules</a>,\n",
       " <a class=\"message\" data-pjax=\"true\" href=\"/html5lib/html5lib-python/commit/9fbd2e15788d181e1970c2479be5d189dbc7be92\" title=\"Move testdata submodule to using HTTPS.\n",
       " \n",
       " This provides read/write access to those of us with write access\n",
       " without forcing everyone to authenticate to read it.\">Move testdata submodule to using HTTPS.</a>,\n",
       " <a class=\"js-navigation-open\" href=\"/html5lib/html5lib-python/blob/master/.prospector.yaml\" id=\"f18abeff1c81744a3bc1c70460045202-7e8efe1a629e0a0431ad132c0fa5632290283a96\" title=\".prospector.yaml\">.prospector.yaml</a>,\n",
       " <a class=\"message\" data-pjax=\"true\" href=\"/html5lib/html5lib-python/commit/a2b8c110cd0c5c7d60573f2a86d951cabefc516b\" title=\"Add prospector/pylint config for the sake of Landscape.\">Add prospector/pylint config for the sake of Landscape.</a>,\n",
       " <a class=\"js-navigation-open\" href=\"/html5lib/html5lib-python/blob/master/.pylintrc\" id=\"d6d3d73911fd3ad6f39e4027f763b307-ea74d5db3ff3157e206d47b50715d26a03eb89e8\" title=\".pylintrc\">.pylintrc</a>,\n",
       " <a class=\"message\" data-pjax=\"true\" href=\"/html5lib/html5lib-python/commit/a2b8c110cd0c5c7d60573f2a86d951cabefc516b\" title=\"Add prospector/pylint config for the sake of Landscape.\">Add prospector/pylint config for the sake of Landscape.</a>,\n",
       " <a class=\"js-navigation-open\" href=\"/html5lib/html5lib-python/blob/master/.pytest.expect\" id=\"c590f8279235c4d712ec116813cdb1b2-0fa326f0354f89431db83c7420ca4127e60c5269\" title=\".pytest.expect\">.pytest.expect</a>,\n",
       " <a class=\"message\" data-pjax=\"true\" href=\"/html5lib/html5lib-python/commit/f3f00e48c4baf859dfaf4bc90d3e90debf024194\" title=\"Update tests to tip of html5lib-tests\">Update tests to tip of html5lib-tests</a>,\n",
       " <a class=\"js-navigation-open\" href=\"/html5lib/html5lib-python/blob/master/.travis.yml\" id=\"354f30a63fb0907d4ad57269548329e3-a694dc70687c482f11d0ae4270299cdee540dc15\" title=\".travis.yml\">.travis.yml</a>,\n",
       " <a class=\"message\" data-pjax=\"true\" href=\"/html5lib/html5lib-python/commit/7f613b331c4299943403d8e12ccb51077e910205\" title=\"Drop support for EOL Python 3.3 (#358)\">Drop support for EOL Python 3.3 (</a>,\n",
       " <a class=\"issue-link js-issue-link\" data-error-text=\"Failed to load issue title\" data-id=\"271901687\" data-permission-text=\"Issue title is private\" data-url=\"https://github.com/html5lib/html5lib-python/issues/358\" href=\"https://github.com/html5lib/html5lib-python/pull/358\">#358</a>,\n",
       " <a class=\"message\" data-pjax=\"true\" href=\"/html5lib/html5lib-python/commit/7f613b331c4299943403d8e12ccb51077e910205\" title=\"Drop support for EOL Python 3.3 (#358)\">)</a>,\n",
       " <a class=\"js-navigation-open\" href=\"/html5lib/html5lib-python/blob/master/AUTHORS.rst\" id=\"830968569b50f87c82e22a0042a7f760-fc635dea75b617f6466dddbca16cfca8c27de6fe\" title=\"AUTHORS.rst\">AUTHORS.rst</a>,\n",
       " <a class=\"message\" data-pjax=\"true\" href=\"/html5lib/html5lib-python/commit/e8f93e9bfeab9016889b05e77eb141a8cce90196\" title=\"Via: git log --format=&quot;%aN&quot; --reverse | perl -e 'my %dedupe; while (&lt;STDIN&gt;) { print unless {1}++}'\">Via: git log --format=\"%aN\" --reverse | perl -e 'my %dedupe; while (&lt;…</a>,\n",
       " <a class=\"js-navigation-open\" href=\"/html5lib/html5lib-python/blob/master/CHANGES.rst\" id=\"db23dcd814354c954091a9b90dbfd92a-82605a216b27316db2b4354a4ba8db6b992f62b6\" title=\"CHANGES.rst\">CHANGES.rst</a>,\n",
       " <a class=\"message\" data-pjax=\"true\" href=\"/html5lib/html5lib-python/commit/b4887f037e47857b4667106cc968ec91d1121140\" title=\"Fix CHANGES.rst to have 1.0.1 instead of unrelased\">Fix CHANGES.rst to have 1.0.1 instead of unrelased</a>,\n",
       " <a class=\"js-navigation-open\" href=\"/html5lib/html5lib-python/blob/master/CONTRIBUTING.rst\" id=\"ea1f65a8eaac0cec7ae151dfdbbbc587-8c5e198535d2406200812485eb207a9a3e28e305\" title=\"CONTRIBUTING.rst\">CONTRIBUTING.rst</a>,\n",
       " <a class=\"message\" data-pjax=\"true\" href=\"/html5lib/html5lib-python/commit/602bb84cb5e73c9ba2e263c8a8e1622d459b8a9c\" title=\"separate AUTHORS.rst\">separate AUTHORS.rst</a>,\n",
       " <a class=\"js-navigation-open\" href=\"/html5lib/html5lib-python/blob/master/LICENSE\" id=\"9879d6db96fd29134fc802214163b95a-c87fa7a00069f905df0331d2eccc1713282a1e46\" itemprop=\"license\" title=\"LICENSE\">LICENSE</a>,\n",
       " <a class=\"message\" data-pjax=\"true\" href=\"/html5lib/html5lib-python/commit/d3b33f8b9b0b5c9baf92d096f21f914b4b7f47bb\" title=\"Readd LICENSE\">Readd LICENSE</a>,\n",
       " <a class=\"js-navigation-open\" href=\"/html5lib/html5lib-python/blob/master/MANIFEST.in\" id=\"97c91a104c431d0c365565d3ac03ac13-4b3ffe3ed9f5b6bfb9c1e4e1d6cb4962534538dc\" title=\"MANIFEST.in\">MANIFEST.in</a>,\n",
       " <a class=\"message\" data-pjax=\"true\" href=\"/html5lib/html5lib-python/commit/082c042082c78779ea47c746c77535944eec957e\" title=\"Add AUTHORS.rst and test files to manifest.\">Add AUTHORS.rst and test files to manifest.</a>,\n",
       " <a class=\"js-navigation-open\" href=\"/html5lib/html5lib-python/blob/master/README.rst\" id=\"88b99bb28683bd5b7e3a204826ead112-095e5f92846812d704981edb0789631d1fe1f70b\" title=\"README.rst\">README.rst</a>,\n",
       " <a class=\"message\" data-pjax=\"true\" href=\"/html5lib/html5lib-python/commit/950ea0ec60970ba1c88bd9e35d8d85c2a1f318e4\" title=\"Upgrade Travis CI badge to SVG (#393)\">Upgrade Travis CI badge to SVG (</a>,\n",
       " <a class=\"issue-link js-issue-link\" data-error-text=\"Failed to load issue title\" data-id=\"325382728\" data-permission-text=\"Issue title is private\" data-url=\"https://github.com/html5lib/html5lib-python/issues/393\" href=\"https://github.com/html5lib/html5lib-python/pull/393\">#393</a>,\n",
       " <a class=\"message\" data-pjax=\"true\" href=\"/html5lib/html5lib-python/commit/950ea0ec60970ba1c88bd9e35d8d85c2a1f318e4\" title=\"Upgrade Travis CI badge to SVG (#393)\">)</a>,\n",
       " <a class=\"js-navigation-open\" href=\"/html5lib/html5lib-python/blob/master/debug-info.py\" id=\"a45f12c981ffdc5b1054525f9584a180-f93fbdbeaec13e39c40450d6461e25cca24c4471\" title=\"debug-info.py\">debug-info.py</a>,\n",
       " <a class=\"message\" data-pjax=\"true\" href=\"/html5lib/html5lib-python/commit/3d0eaea85bc00a739e3910ef03316d4312ad84de\" title=\"drop usage of charade now chardet is maintained again\">drop usage of charade now chardet is maintained again</a>,\n",
       " <a class=\"js-navigation-open\" href=\"/html5lib/html5lib-python/blob/master/flake8-run.sh\" id=\"182d0299907382682754f152e772f539-d926494699b9b29c2d350c86cf8fe3e32336cf8e\" title=\"flake8-run.sh\">flake8-run.sh</a>,\n",
       " <a class=\"message\" data-pjax=\"true\" href=\"/html5lib/html5lib-python/commit/823864882ee969ebb7c16986a80388d5785cb9ea\" title=\"Fix all the files outside of html5lib to flake8 cleanly\">Fix all the files outside of html5lib to flake8 cleanly</a>,\n",
       " <a class=\"js-navigation-open\" href=\"/html5lib/html5lib-python/blob/master/parse.py\" id=\"100a58ba22639ca4942d0ea33f1060da-3e65c330d921ac867c56560105bc06f8d49d188a\" title=\"parse.py\">parse.py</a>,\n",
       " <a class=\"message\" data-pjax=\"true\" href=\"/html5lib/html5lib-python/commit/c4dd6771836841ee796af8035dbf8239074ed5ec\" title=\"Move a whole bunch of private modules to be underscore prefixed\n",
       " \n",
       " This moves: html5lib.ihatexml -&gt; html5lib._ihatexml\n",
       "             html5lib.inputstream -&gt; html5lib._inputstream\n",
       "             html5lib.tokenizer -&gt; html5lib._tokenizer\n",
       "             html5lib.trie -&gt; html5lib._trie\n",
       "             html5lib.utils -&gt; html5lib._utils\">Move a whole bunch of private modules to be underscore prefixed</a>,\n",
       " <a class=\"js-navigation-open\" href=\"/html5lib/html5lib-python/blob/master/pytest.ini\" id=\"513c9b6861fc981fb2c708db477f542c-8824977a8f4094776b654a71891920c650a7e07d\" title=\"pytest.ini\">pytest.ini</a>,\n",
       " <a class=\"message\" data-pjax=\"true\" href=\"/html5lib/html5lib-python/commit/366ed48da6d6550661cb6d9dcd8d4d1a0b44c645\" title=\"Change py.test config.\n",
       " \n",
       " Make warnings errors, xpass fail, and document markers.\">Change py.test config.</a>,\n",
       " <a class=\"js-navigation-open\" href=\"/html5lib/html5lib-python/blob/master/requirements-install.sh\" id=\"b7b946d26c7a1c58153cb45de11552c9-b7a8d96dd6c20c2fabe7774bd3581ed68e266268\" title=\"requirements-install.sh\">requirements-install.sh</a>,\n",
       " <a class=\"message\" data-pjax=\"true\" href=\"/html5lib/html5lib-python/commit/74ebfc97a17a4e45a131c0cb70845714f1a8af5e\" title=\"Fix Travis CI builds on Python 3.4\n",
       " \n",
       " Avoid passing -U to pip install commands. It causes the six package to\n",
       " upgrade, which fails on the Travis 3.4 image. I cannot reproduce this\n",
       " locally, so I'm left to conclude that the Travis Python 3.4 image is\n",
       " corrupt in some way. The installed six package is perfectly fine for\n",
       " testing, so use it without upgrading. All builds now pass.\n",
       " \n",
       " Install six package first to avoid upgrading it then downgrading it in\n",
       " some test configurations.\">Fix Travis CI builds on Python 3.4</a>,\n",
       " <a class=\"js-navigation-open\" href=\"/html5lib/html5lib-python/blob/master/requirements-optional.txt\" id=\"57557e46baa06a38e371f22fcf800871-c00fd242f6f4605351f1a38a391d7564efac116c\" title=\"requirements-optional.txt\">requirements-optional.txt</a>,\n",
       " <a class=\"message\" data-pjax=\"true\" href=\"/html5lib/html5lib-python/commit/a137d14bfd8c6aca007d9dd3118b18e91ccf7fa5\" title=\"Preserve attribute order when parsing\">Preserve attribute order when parsing</a>,\n",
       " <a class=\"js-navigation-open\" href=\"/html5lib/html5lib-python/blob/master/requirements-test.txt\" id=\"979cba9d30281710825398788016ac05-4e223a3fde1e787c57e621fb00b828924969b235\" title=\"requirements-test.txt\">requirements-test.txt</a>,\n",
       " <a class=\"message\" data-pjax=\"true\" href=\"/html5lib/html5lib-python/commit/e17cf26c1c36befdce7da39aed1ead96fd0ad30e\" title=\"Pin pytest to a version that doesn't require six\">Pin pytest to a version that doesn't require six</a>,\n",
       " <a class=\"js-navigation-open\" href=\"/html5lib/html5lib-python/blob/master/requirements.txt\" id=\"b4ef698db8ca845e5845c4618278f29a-ae7ec3d08b90c8a11251197ae15f308f6284497d\" title=\"requirements.txt\">requirements.txt</a>,\n",
       " <a class=\"message\" data-pjax=\"true\" href=\"/html5lib/html5lib-python/commit/5f637af8edffd1c0bc3e9dcefa089edcfce9a255\" title=\"Drop support for Python 2.6 (#356)\n",
       " \n",
       " Fixes #330\">Drop support for Python 2.6 (</a>,\n",
       " <a class=\"issue-link js-issue-link\" data-error-text=\"Failed to load issue title\" data-id=\"271618016\" data-permission-text=\"Issue title is private\" data-url=\"https://github.com/html5lib/html5lib-python/issues/356\" href=\"https://github.com/html5lib/html5lib-python/pull/356\">#356</a>,\n",
       " <a class=\"message\" data-pjax=\"true\" href=\"/html5lib/html5lib-python/commit/5f637af8edffd1c0bc3e9dcefa089edcfce9a255\" title=\"Drop support for Python 2.6 (#356)\n",
       " \n",
       " Fixes #330\">)</a>,\n",
       " <a class=\"js-navigation-open\" href=\"/html5lib/html5lib-python/blob/master/setup.cfg\" id=\"380c6a8ebbbce17d55d50ef17d3cf906-d309fdaa3f42e009316adad1140d1a0dffca2ee6\" title=\"setup.cfg\">setup.cfg</a>,\n",
       " <a class=\"message\" data-pjax=\"true\" href=\"/html5lib/html5lib-python/commit/0cae52b2073e3f2220db93a7650901f2200f2a13\" title=\"Include license file in the generated wheel package (#350)\n",
       " \n",
       " The wheel package format supports including the license file. This is\n",
       " done using the [metadata] section in the setup.cfg file. For additional\n",
       " information on this feature, see:\n",
       " \n",
       " https://wheel.readthedocs.io/en/stable/index.html#including-the-license-in-the-generated-wheel-file\">Include license file in the generated wheel package (</a>,\n",
       " <a class=\"issue-link js-issue-link\" data-error-text=\"Failed to load issue title\" data-id=\"265635010\" data-permission-text=\"Issue title is private\" data-url=\"https://github.com/html5lib/html5lib-python/issues/350\" href=\"https://github.com/html5lib/html5lib-python/pull/350\">#350</a>,\n",
       " <a class=\"message\" data-pjax=\"true\" href=\"/html5lib/html5lib-python/commit/0cae52b2073e3f2220db93a7650901f2200f2a13\" title=\"Include license file in the generated wheel package (#350)\n",
       " \n",
       " The wheel package format supports including the license file. This is\n",
       " done using the [metadata] section in the setup.cfg file. For additional\n",
       " information on this feature, see:\n",
       " \n",
       " https://wheel.readthedocs.io/en/stable/index.html#including-the-license-in-the-generated-wheel-file\">)</a>,\n",
       " <a class=\"js-navigation-open\" href=\"/html5lib/html5lib-python/blob/master/setup.py\" id=\"2eeaed663bd0d25b7e608891384b7298-1876f3e8c75aa6fb87676dff6b5cd98e172e4a87\" title=\"setup.py\">setup.py</a>,\n",
       " <a class=\"message\" data-pjax=\"true\" href=\"/html5lib/html5lib-python/commit/7f613b331c4299943403d8e12ccb51077e910205\" title=\"Drop support for EOL Python 3.3 (#358)\">Drop support for EOL Python 3.3 (</a>,\n",
       " <a class=\"issue-link js-issue-link\" data-error-text=\"Failed to load issue title\" data-id=\"271901687\" data-permission-text=\"Issue title is private\" data-url=\"https://github.com/html5lib/html5lib-python/issues/358\" href=\"https://github.com/html5lib/html5lib-python/pull/358\">#358</a>,\n",
       " <a class=\"message\" data-pjax=\"true\" href=\"/html5lib/html5lib-python/commit/7f613b331c4299943403d8e12ccb51077e910205\" title=\"Drop support for EOL Python 3.3 (#358)\">)</a>,\n",
       " <a class=\"js-navigation-open\" href=\"/html5lib/html5lib-python/blob/master/tox.ini\" id=\"b91f3d5bd63fcd17221b267e851608e8-8e4a0835ab322b041d472e9eadc51a2f2507f40d\" title=\"tox.ini\">tox.ini</a>,\n",
       " <a class=\"message\" data-pjax=\"true\" href=\"/html5lib/html5lib-python/commit/7f613b331c4299943403d8e12ccb51077e910205\" title=\"Drop support for EOL Python 3.3 (#358)\">Drop support for EOL Python 3.3 (</a>,\n",
       " <a class=\"issue-link js-issue-link\" data-error-text=\"Failed to load issue title\" data-id=\"271901687\" data-permission-text=\"Issue title is private\" data-url=\"https://github.com/html5lib/html5lib-python/issues/358\" href=\"https://github.com/html5lib/html5lib-python/pull/358\">#358</a>,\n",
       " <a class=\"message\" data-pjax=\"true\" href=\"/html5lib/html5lib-python/commit/7f613b331c4299943403d8e12ccb51077e910205\" title=\"Drop support for EOL Python 3.3 (#358)\">)</a>,\n",
       " <a aria-hidden=\"true\" class=\"anchor\" href=\"#html5lib\" id=\"user-content-html5lib\"><svg aria-hidden=\"true\" class=\"octicon octicon-link\" height=\"16\" version=\"1.1\" viewbox=\"0 0 16 16\" width=\"16\"><path d=\"M4 9h1v1H4c-1.5 0-3-1.69-3-3.5S2.55 3 4 3h4c1.45 0 3 1.69 3 3.5 0 1.41-.91 2.72-2 3.25V8.59c.58-.45 1-1.27 1-2.09C10 5.22 8.98 4 8 4H4c-.98 0-2 1.22-2 2.5S3 9 4 9zm9-3h-1v1h1c1 0 2 1.22 2 2.5S13.98 12 13 12H9c-.98 0-2-1.22-2-2.5 0-.83.42-1.64 1-2.09V6.25c-1.09.53-2 1.84-2 3.25C6 11.31 7.55 13 9 13h4c1.45 0 3-1.69 3-3.5S14.5 6 13 6z\" fill-rule=\"evenodd\"></path></svg></a>,\n",
       " <a href=\"https://travis-ci.org/html5lib/html5lib-python\" rel=\"nofollow\"><img alt=\"https://travis-ci.org/html5lib/html5lib-python.svg?branch=master\" data-canonical-src=\"https://travis-ci.org/html5lib/html5lib-python.svg?branch=master\" src=\"https://camo.githubusercontent.com/28a1b65311c6e06913f679e48ef256c214c8cae9/68747470733a2f2f7472617669732d63692e6f72672f68746d6c356c69622f68746d6c356c69622d707974686f6e2e7376673f6272616e63683d6d6173746572\" style=\"max-width:100%;\"/></a>,\n",
       " <a name=\"user-content-usage\"></a>,\n",
       " <a aria-hidden=\"true\" class=\"anchor\" href=\"#usage\" id=\"user-content-usage\"><svg aria-hidden=\"true\" class=\"octicon octicon-link\" height=\"16\" version=\"1.1\" viewbox=\"0 0 16 16\" width=\"16\"><path d=\"M4 9h1v1H4c-1.5 0-3-1.69-3-3.5S2.55 3 4 3h4c1.45 0 3 1.69 3 3.5 0 1.41-.91 2.72-2 3.25V8.59c.58-.45 1-1.27 1-2.09C10 5.22 8.98 4 8 4H4c-.98 0-2 1.22-2 2.5S3 9 4 9zm9-3h-1v1h1c1 0 2 1.22 2 2.5S13.98 12 13 12H9c-.98 0-2-1.22-2-2.5 0-.83.42-1.64 1-2.09V6.25c-1.09.53-2 1.84-2 3.25C6 11.31 7.55 13 9 13h4c1.45 0 3-1.69 3-3.5S14.5 6 13 6z\" fill-rule=\"evenodd\"></path></svg></a>,\n",
       " <a href=\"https://html5lib.readthedocs.io/\" rel=\"nofollow\">https://html5lib.readthedocs.io/</a>,\n",
       " <a name=\"user-content-installation\"></a>,\n",
       " <a aria-hidden=\"true\" class=\"anchor\" href=\"#installation\" id=\"user-content-installation\"><svg aria-hidden=\"true\" class=\"octicon octicon-link\" height=\"16\" version=\"1.1\" viewbox=\"0 0 16 16\" width=\"16\"><path d=\"M4 9h1v1H4c-1.5 0-3-1.69-3-3.5S2.55 3 4 3h4c1.45 0 3 1.69 3 3.5 0 1.41-.91 2.72-2 3.25V8.59c.58-.45 1-1.27 1-2.09C10 5.22 8.98 4 8 4H4c-.98 0-2 1.22-2 2.5S3 9 4 9zm9-3h-1v1h1c1 0 2 1.22 2 2.5S13.98 12 13 12H9c-.98 0-2-1.22-2-2.5 0-.83.42-1.64 1-2.09V6.25c-1.09.53-2 1.84-2 3.25C6 11.31 7.55 13 9 13h4c1.45 0 3-1.69 3-3.5S14.5 6 13 6z\" fill-rule=\"evenodd\"></path></svg></a>,\n",
       " <a name=\"user-content-optional-dependencies\"></a>,\n",
       " <a aria-hidden=\"true\" class=\"anchor\" href=\"#optional-dependencies\" id=\"user-content-optional-dependencies\"><svg aria-hidden=\"true\" class=\"octicon octicon-link\" height=\"16\" version=\"1.1\" viewbox=\"0 0 16 16\" width=\"16\"><path d=\"M4 9h1v1H4c-1.5 0-3-1.69-3-3.5S2.55 3 4 3h4c1.45 0 3 1.69 3 3.5 0 1.41-.91 2.72-2 3.25V8.59c.58-.45 1-1.27 1-2.09C10 5.22 8.98 4 8 4H4c-.98 0-2 1.22-2 2.5S3 9 4 9zm9-3h-1v1h1c1 0 2 1.22 2 2.5S13.98 12 13 12H9c-.98 0-2-1.22-2-2.5 0-.83.42-1.64 1-2.09V6.25c-1.09.53-2 1.84-2 3.25C6 11.31 7.55 13 9 13h4c1.45 0 3-1.69 3-3.5S14.5 6 13 6z\" fill-rule=\"evenodd\"></path></svg></a>,\n",
       " <a name=\"user-content-bugs\"></a>,\n",
       " <a aria-hidden=\"true\" class=\"anchor\" href=\"#bugs\" id=\"user-content-bugs\"><svg aria-hidden=\"true\" class=\"octicon octicon-link\" height=\"16\" version=\"1.1\" viewbox=\"0 0 16 16\" width=\"16\"><path d=\"M4 9h1v1H4c-1.5 0-3-1.69-3-3.5S2.55 3 4 3h4c1.45 0 3 1.69 3 3.5 0 1.41-.91 2.72-2 3.25V8.59c.58-.45 1-1.27 1-2.09C10 5.22 8.98 4 8 4H4c-.98 0-2 1.22-2 2.5S3 9 4 9zm9-3h-1v1h1c1 0 2 1.22 2 2.5S13.98 12 13 12H9c-.98 0-2-1.22-2-2.5 0-.83.42-1.64 1-2.09V6.25c-1.09.53-2 1.84-2 3.25C6 11.31 7.55 13 9 13h4c1.45 0 3-1.69 3-3.5S14.5 6 13 6z\" fill-rule=\"evenodd\"></path></svg></a>,\n",
       " <a href=\"https://github.com/html5lib/html5lib-python/issues\">issue tracker</a>,\n",
       " <a name=\"user-content-tests\"></a>,\n",
       " <a aria-hidden=\"true\" class=\"anchor\" href=\"#tests\" id=\"user-content-tests\"><svg aria-hidden=\"true\" class=\"octicon octicon-link\" height=\"16\" version=\"1.1\" viewbox=\"0 0 16 16\" width=\"16\"><path d=\"M4 9h1v1H4c-1.5 0-3-1.69-3-3.5S2.55 3 4 3h4c1.45 0 3 1.69 3 3.5 0 1.41-.91 2.72-2 3.25V8.59c.58-.45 1-1.27 1-2.09C10 5.22 8.98 4 8 4H4c-.98 0-2 1.22-2 2.5S3 9 4 9zm9-3h-1v1h1c1 0 2 1.22 2 2.5S13.98 12 13 12H9c-.98 0-2-1.22-2-2.5 0-.83.42-1.64 1-2.09V6.25c-1.09.53-2 1.84-2 3.25C6 11.31 7.55 13 9 13h4c1.45 0 3-1.69 3-3.5S14.5 6 13 6z\" fill-rule=\"evenodd\"></path></svg></a>,\n",
       " <a href=\"https://github.com/html5lib/html5lib-tests\">html5lib-tests</a>,\n",
       " <a name=\"user-content-questions\"></a>,\n",
       " <a aria-hidden=\"true\" class=\"anchor\" href=\"#questions\" id=\"user-content-questions\"><svg aria-hidden=\"true\" class=\"octicon octicon-link\" height=\"16\" version=\"1.1\" viewbox=\"0 0 16 16\" width=\"16\"><path d=\"M4 9h1v1H4c-1.5 0-3-1.69-3-3.5S2.55 3 4 3h4c1.45 0 3 1.69 3 3.5 0 1.41-.91 2.72-2 3.25V8.59c.58-.45 1-1.27 1-2.09C10 5.22 8.98 4 8 4H4c-.98 0-2 1.22-2 2.5S3 9 4 9zm9-3h-1v1h1c1 0 2 1.22 2 2.5S13.98 12 13 12H9c-.98 0-2-1.22-2-2.5 0-.83.42-1.64 1-2.09V6.25c-1.09.53-2 1.84-2 3.25C6 11.31 7.55 13 9 13h4c1.45 0 3-1.69 3-3.5S14.5 6 13 6z\" fill-rule=\"evenodd\"></path></svg></a>,\n",
       " <a href=\"http://groups.google.com/group/html5lib-discuss\" rel=\"nofollow\">html5lib-discuss</a>,\n",
       " <a href=\"http://wiki.whatwg.org/wiki/IRC\" rel=\"nofollow\">#whatwg on\n",
       " irc.freenode.net</a>,\n",
       " <a data-ga-click=\"Footer, go to terms, text:terms\" href=\"https://github.com/site/terms\">Terms</a>,\n",
       " <a data-ga-click=\"Footer, go to privacy, text:privacy\" href=\"https://github.com/site/privacy\">Privacy</a>,\n",
       " <a data-ga-click=\"Footer, go to security, text:security\" href=\"https://help.github.com/articles/github-security/\">Security</a>,\n",
       " <a data-ga-click=\"Footer, go to status, text:status\" href=\"https://status.github.com/\">Status</a>,\n",
       " <a data-ga-click=\"Footer, go to help, text:help\" href=\"https://help.github.com\">Help</a>,\n",
       " <a aria-label=\"Homepage\" class=\"footer-octicon mr-lg-4\" href=\"https://github.com\" title=\"GitHub\">\n",
       " <svg aria-hidden=\"true\" class=\"octicon octicon-mark-github\" height=\"24\" version=\"1.1\" viewbox=\"0 0 16 16\" width=\"24\"><path d=\"M8 0C3.58 0 0 3.58 0 8c0 3.54 2.29 6.53 5.47 7.59.4.07.55-.17.55-.38 0-.19-.01-.82-.01-1.49-2.01.37-2.53-.49-2.69-.94-.09-.23-.48-.94-.82-1.13-.28-.15-.68-.52-.01-.53.63-.01 1.08.58 1.23.82.72 1.21 1.87.87 2.33.66.07-.52.28-.87.51-1.07-1.78-.2-3.64-.89-3.64-3.95 0-.87.31-1.59.82-2.15-.08-.2-.36-1.02.08-2.12 0 0 .67-.21 2.2.82.64-.18 1.32-.27 2-.27.68 0 1.36.09 2 .27 1.53-1.04 2.2-.82 2.2-.82.44 1.1.16 1.92.08 2.12.51.56.82 1.27.82 2.15 0 3.07-1.87 3.75-3.65 3.95.29.25.54.73.54 1.48 0 1.07-.01 1.93-.01 2.2 0 .21.15.46.55.38A8.013 8.013 0 0 0 16 8c0-4.42-3.58-8-8-8z\" fill-rule=\"evenodd\"></path></svg>\n",
       " </a>,\n",
       " <a data-ga-click=\"Footer, go to contact, text:contact\" href=\"https://github.com/contact\">Contact GitHub</a>,\n",
       " <a data-ga-click=\"Footer, go to Pricing, text:Pricing\" href=\"https://github.com/pricing\">Pricing</a>,\n",
       " <a data-ga-click=\"Footer, go to api, text:api\" href=\"https://developer.github.com\">API</a>,\n",
       " <a data-ga-click=\"Footer, go to training, text:training\" href=\"https://training.github.com\">Training</a>,\n",
       " <a data-ga-click=\"Footer, go to blog, text:blog\" href=\"https://blog.github.com\">Blog</a>,\n",
       " <a data-ga-click=\"Footer, go to about, text:about\" href=\"https://github.com/about\">About</a>,\n",
       " <a href=\"\">Reload</a>,\n",
       " <a href=\"\">Reload</a>]"
      ]
     },
     "execution_count": 82,
     "metadata": {},
     "output_type": "execute_result"
    }
   ],
   "source": [
    "soup.select(\"a\")"
   ]
  },
  {
   "cell_type": "code",
   "execution_count": 132,
   "metadata": {},
   "outputs": [
    {
     "data": {
      "text/plain": [
       "<Element html at 0x105562db8>"
      ]
     },
     "execution_count": 132,
     "metadata": {},
     "output_type": "execute_result"
    }
   ],
   "source": [
    "html"
   ]
  },
  {
   "cell_type": "code",
   "execution_count": 133,
   "metadata": {},
   "outputs": [
    {
     "name": "stdout",
     "output_type": "stream",
     "text": [
      "Requirement already satisfied: cssselect in /Users/chandrashekar/anaconda3/lib/python3.7/site-packages (1.0.3)\n",
      "Note: you may need to restart the kernel to use updated packages.\n"
     ]
    }
   ],
   "source": [
    "pip install cssselect"
   ]
  },
  {
   "cell_type": "code",
   "execution_count": 134,
   "metadata": {},
   "outputs": [],
   "source": [
    "from lxml.cssselect import CSSSelector"
   ]
  },
  {
   "cell_type": "code",
   "execution_count": 135,
   "metadata": {},
   "outputs": [
    {
     "data": {
      "text/plain": [
       "<CSSSelector 106713278 for 'a'>"
      ]
     },
     "execution_count": 135,
     "metadata": {},
     "output_type": "execute_result"
    }
   ],
   "source": [
    "sel = CSSSelector(\"a\")\n",
    "sel"
   ]
  },
  {
   "cell_type": "code",
   "execution_count": 136,
   "metadata": {},
   "outputs": [
    {
     "data": {
      "text/plain": [
       "[<Element a at 0x1059fc228>,\n",
       " <Element a at 0x1059fc278>,\n",
       " <Element a at 0x1059fc2c8>,\n",
       " <Element a at 0x1059fc318>,\n",
       " <Element a at 0x1059fc368>,\n",
       " <Element a at 0x1059fc3b8>,\n",
       " <Element a at 0x1059fc408>,\n",
       " <Element a at 0x1059fc458>,\n",
       " <Element a at 0x1059fc4a8>,\n",
       " <Element a at 0x1059fc4f8>,\n",
       " <Element a at 0x1059fc548>,\n",
       " <Element a at 0x1059fc598>,\n",
       " <Element a at 0x1059fc5e8>,\n",
       " <Element a at 0x1059fc638>,\n",
       " <Element a at 0x1059fc688>,\n",
       " <Element a at 0x1059fc6d8>,\n",
       " <Element a at 0x1059fc728>,\n",
       " <Element a at 0x1059fc778>,\n",
       " <Element a at 0x1059fc7c8>,\n",
       " <Element a at 0x1059fc818>,\n",
       " <Element a at 0x1059fc868>,\n",
       " <Element a at 0x1059fc8b8>,\n",
       " <Element a at 0x1059fc908>,\n",
       " <Element a at 0x1059fc958>,\n",
       " <Element a at 0x1059fc9a8>,\n",
       " <Element a at 0x1059fc9f8>,\n",
       " <Element a at 0x1059fca48>,\n",
       " <Element a at 0x1059fca98>,\n",
       " <Element a at 0x1059fcae8>,\n",
       " <Element a at 0x1059fcb38>,\n",
       " <Element a at 0x1059fcb88>,\n",
       " <Element a at 0x1059fcbd8>,\n",
       " <Element a at 0x1059fcc28>,\n",
       " <Element a at 0x1059fcc78>,\n",
       " <Element a at 0x1059fccc8>,\n",
       " <Element a at 0x1059fcd18>,\n",
       " <Element a at 0x1059fcd68>,\n",
       " <Element a at 0x1059fcdb8>,\n",
       " <Element a at 0x1059fce08>,\n",
       " <Element a at 0x1059fce58>,\n",
       " <Element a at 0x1059fcea8>,\n",
       " <Element a at 0x1059fcef8>,\n",
       " <Element a at 0x1059fcf48>,\n",
       " <Element a at 0x1059fcf98>,\n",
       " <Element a at 0x1059e7048>,\n",
       " <Element a at 0x1059e7098>,\n",
       " <Element a at 0x1059e70e8>,\n",
       " <Element a at 0x1059e7138>,\n",
       " <Element a at 0x1059e7188>,\n",
       " <Element a at 0x1059e71d8>,\n",
       " <Element a at 0x1059e7228>,\n",
       " <Element a at 0x1059e7278>,\n",
       " <Element a at 0x1059e72c8>,\n",
       " <Element a at 0x1059e7318>,\n",
       " <Element a at 0x1059e7368>,\n",
       " <Element a at 0x1059e73b8>,\n",
       " <Element a at 0x1059e7408>,\n",
       " <Element a at 0x1059e7458>,\n",
       " <Element a at 0x1059e74a8>,\n",
       " <Element a at 0x1059e74f8>,\n",
       " <Element a at 0x1059e7548>,\n",
       " <Element a at 0x1059e7598>,\n",
       " <Element a at 0x1059e75e8>,\n",
       " <Element a at 0x1059e7638>,\n",
       " <Element a at 0x1059e7688>,\n",
       " <Element a at 0x1059e76d8>,\n",
       " <Element a at 0x1059e7728>,\n",
       " <Element a at 0x1059e7778>,\n",
       " <Element a at 0x1059e77c8>,\n",
       " <Element a at 0x1059e7818>,\n",
       " <Element a at 0x1059e7868>,\n",
       " <Element a at 0x1059e78b8>,\n",
       " <Element a at 0x1059e7908>,\n",
       " <Element a at 0x1059e7958>,\n",
       " <Element a at 0x1059e79a8>,\n",
       " <Element a at 0x1059e79f8>,\n",
       " <Element a at 0x1059e7a48>,\n",
       " <Element a at 0x1059e7a98>,\n",
       " <Element a at 0x1059e7ae8>,\n",
       " <Element a at 0x1059e7b38>,\n",
       " <Element a at 0x1059e7b88>,\n",
       " <Element a at 0x1059e7bd8>,\n",
       " <Element a at 0x1059e7c28>,\n",
       " <Element a at 0x1059e7c78>,\n",
       " <Element a at 0x1059e7cc8>,\n",
       " <Element a at 0x1059e7d18>,\n",
       " <Element a at 0x1059e7d68>,\n",
       " <Element a at 0x1059e7db8>,\n",
       " <Element a at 0x1059e7e08>,\n",
       " <Element a at 0x1059e7e58>,\n",
       " <Element a at 0x1059e7ea8>,\n",
       " <Element a at 0x1059e7ef8>,\n",
       " <Element a at 0x1059e7f48>,\n",
       " <Element a at 0x1059e7f98>,\n",
       " <Element a at 0x1059eb048>,\n",
       " <Element a at 0x1059eb098>,\n",
       " <Element a at 0x1059eb0e8>,\n",
       " <Element a at 0x1059eb138>,\n",
       " <Element a at 0x1059eb188>,\n",
       " <Element a at 0x1059eb1d8>,\n",
       " <Element a at 0x1059eb228>,\n",
       " <Element a at 0x1059eb278>,\n",
       " <Element a at 0x1059eb2c8>,\n",
       " <Element a at 0x1059eb318>,\n",
       " <Element a at 0x1059eb368>,\n",
       " <Element a at 0x1059eb3b8>,\n",
       " <Element a at 0x1059eb408>,\n",
       " <Element a at 0x1059eb458>,\n",
       " <Element a at 0x1059eb4a8>,\n",
       " <Element a at 0x1059eb4f8>,\n",
       " <Element a at 0x1059eb548>,\n",
       " <Element a at 0x1059eb598>,\n",
       " <Element a at 0x1059eb5e8>,\n",
       " <Element a at 0x1059eb638>,\n",
       " <Element a at 0x1059eb688>,\n",
       " <Element a at 0x1059eb6d8>,\n",
       " <Element a at 0x1059eb728>,\n",
       " <Element a at 0x1059eb778>,\n",
       " <Element a at 0x1059eb7c8>,\n",
       " <Element a at 0x1059eb818>,\n",
       " <Element a at 0x1059eb868>,\n",
       " <Element a at 0x1059eb8b8>,\n",
       " <Element a at 0x1059eb908>,\n",
       " <Element a at 0x1059eb958>,\n",
       " <Element a at 0x1059eb9a8>,\n",
       " <Element a at 0x1059eb9f8>,\n",
       " <Element a at 0x1059eba48>,\n",
       " <Element a at 0x1059eba98>,\n",
       " <Element a at 0x1059ebae8>,\n",
       " <Element a at 0x1059ebb38>,\n",
       " <Element a at 0x1059ebb88>,\n",
       " <Element a at 0x1059ebbd8>,\n",
       " <Element a at 0x1059ebc28>,\n",
       " <Element a at 0x1059ebc78>,\n",
       " <Element a at 0x1059ebcc8>,\n",
       " <Element a at 0x1059ebd18>,\n",
       " <Element a at 0x1059ebd68>,\n",
       " <Element a at 0x1059ebdb8>,\n",
       " <Element a at 0x1059ebe08>,\n",
       " <Element a at 0x1059ebe58>,\n",
       " <Element a at 0x1059ebea8>,\n",
       " <Element a at 0x1059ebef8>,\n",
       " <Element a at 0x1059ebf48>,\n",
       " <Element a at 0x1059ebf98>,\n",
       " <Element a at 0x105a02048>,\n",
       " <Element a at 0x105a02098>,\n",
       " <Element a at 0x105a020e8>,\n",
       " <Element a at 0x105a02138>,\n",
       " <Element a at 0x105a02188>,\n",
       " <Element a at 0x105a021d8>,\n",
       " <Element a at 0x105a02228>,\n",
       " <Element a at 0x105a02278>,\n",
       " <Element a at 0x105a022c8>,\n",
       " <Element a at 0x105a02318>,\n",
       " <Element a at 0x105a02368>,\n",
       " <Element a at 0x105a023b8>,\n",
       " <Element a at 0x105a02408>,\n",
       " <Element a at 0x105a02458>,\n",
       " <Element a at 0x105a024a8>,\n",
       " <Element a at 0x105a024f8>,\n",
       " <Element a at 0x105a02548>,\n",
       " <Element a at 0x105a02598>,\n",
       " <Element a at 0x105a025e8>,\n",
       " <Element a at 0x105a02638>,\n",
       " <Element a at 0x105a02688>,\n",
       " <Element a at 0x105a026d8>,\n",
       " <Element a at 0x10459aa48>,\n",
       " <Element a at 0x105a02728>,\n",
       " <Element a at 0x105a02778>,\n",
       " <Element a at 0x10459a958>,\n",
       " <Element a at 0x105a027c8>,\n",
       " <Element a at 0x10459a5e8>,\n",
       " <Element a at 0x105a02818>,\n",
       " <Element a at 0x10459a9a8>,\n",
       " <Element a at 0x105a02868>,\n",
       " <Element a at 0x105a028b8>,\n",
       " <Element a at 0x10459a908>,\n",
       " <Element a at 0x105a02908>,\n",
       " <Element a at 0x105a02958>,\n",
       " <Element a at 0x10459a9f8>,\n",
       " <Element a at 0x105a029a8>,\n",
       " <Element a at 0x105a029f8>,\n",
       " <Element a at 0x105a02a48>,\n",
       " <Element a at 0x105a02a98>,\n",
       " <Element a at 0x105a02ae8>,\n",
       " <Element a at 0x105a02b38>,\n",
       " <Element a at 0x105a02b88>,\n",
       " <Element a at 0x105a02bd8>,\n",
       " <Element a at 0x105a02c28>,\n",
       " <Element a at 0x105a02c78>,\n",
       " <Element a at 0x105a02cc8>,\n",
       " <Element a at 0x105a02d18>,\n",
       " <Element a at 0x105a02d68>,\n",
       " <Element a at 0x105a02db8>,\n",
       " <Element a at 0x105a02e08>,\n",
       " <Element a at 0x105a02e58>,\n",
       " <Element a at 0x105a02ea8>]"
      ]
     },
     "execution_count": 136,
     "metadata": {},
     "output_type": "execute_result"
    }
   ],
   "source": [
    "sel(html)"
   ]
  },
  {
   "cell_type": "code",
   "execution_count": 138,
   "metadata": {},
   "outputs": [],
   "source": [
    "from parsel import Selector"
   ]
  },
  {
   "cell_type": "code",
   "execution_count": 140,
   "metadata": {},
   "outputs": [
    {
     "data": {
      "text/plain": [
       "<Selector xpath=None data='<html lang=\"en\">\\n  <head>\\n    <meta char'>"
      ]
     },
     "execution_count": 140,
     "metadata": {},
     "output_type": "execute_result"
    }
   ],
   "source": [
    "with open(\"xml/github.html\") as infile:\n",
    "    selector = Selector(infile.read())\n",
    "selector"
   ]
  },
  {
   "cell_type": "code",
   "execution_count": 141,
   "metadata": {},
   "outputs": [
    {
     "data": {
      "text/plain": [
       "[<Selector xpath='descendant-or-self::a' data='<a href=\"#start-of-content\" tabindex=\"1\"'>,\n",
       " <Selector xpath='descendant-or-self::a' data='<a class=\"header-logo-invertocat\" href=\"'>,\n",
       " <Selector xpath='descendant-or-self::a' data='<a tabindex=\"-1\" class=\"no-underline d-f'>,\n",
       " <Selector xpath='descendant-or-self::a' data='<a class=\"js-selected-navigation-item He'>,\n",
       " <Selector xpath='descendant-or-self::a' data='<a class=\"js-selected-navigation-item He'>,\n",
       " <Selector xpath='descendant-or-self::a' data='<a class=\"js-selected-navigation-item He'>,\n",
       " <Selector xpath='descendant-or-self::a' data='<a class=\"js-selected-navigation-item He'>,\n",
       " <Selector xpath='descendant-or-self::a' data='<a aria-label=\"You have no unread notifi'>,\n",
       " <Selector xpath='descendant-or-self::a' data='<a role=\"menuitem\" class=\"dropdown-item\"'>,\n",
       " <Selector xpath='descendant-or-self::a' data='<a role=\"menuitem\" class=\"dropdown-item\"'>,\n",
       " <Selector xpath='descendant-or-self::a' data='<a role=\"menuitem\" class=\"dropdown-item\"'>,\n",
       " <Selector xpath='descendant-or-self::a' data='<a role=\"menuitem\" class=\"dropdown-item\"'>,\n",
       " <Selector xpath='descendant-or-self::a' data='<a role=\"menuitem\" class=\"dropdown-item\"'>,\n",
       " <Selector xpath='descendant-or-self::a' data='<a role=\"menuitem\" class=\"no-underline u'>,\n",
       " <Selector xpath='descendant-or-self::a' data='<a role=\"menuitem\" class=\"dropdown-item\"'>,\n",
       " <Selector xpath='descendant-or-self::a' data='<a role=\"menuitem\" class=\"dropdown-item\"'>,\n",
       " <Selector xpath='descendant-or-self::a' data='<a role=\"menuitem\" class=\"dropdown-item\"'>,\n",
       " <Selector xpath='descendant-or-self::a' data='<a role=\"menuitem\" class=\"dropdown-item\"'>,\n",
       " <Selector xpath='descendant-or-self::a' data='<a role=\"menuitem\" class=\"dropdown-item\"'>,\n",
       " <Selector xpath='descendant-or-self::a' data='<a role=\"menuitem\" class=\"dropdown-item\"'>,\n",
       " <Selector xpath='descendant-or-self::a' data='<a class=\"social-count js-social-count\" '>,\n",
       " <Selector xpath='descendant-or-self::a' data='<a class=\"social-count js-social-count\" '>,\n",
       " <Selector xpath='descendant-or-self::a' data='<a class=\"social-count js-social-count\" '>,\n",
       " <Selector xpath='descendant-or-self::a' data='<a href=\"/html5lib/html5lib-python/netwo'>,\n",
       " <Selector xpath='descendant-or-self::a' data='<a class=\"url fn\" rel=\"author\" href=\"/ht'>,\n",
       " <Selector xpath='descendant-or-self::a' data='<a data-pjax=\"#js-repo-pjax-container\" h'>,\n",
       " <Selector xpath='descendant-or-self::a' data='<a class=\"js-selected-navigation-item se'>,\n",
       " <Selector xpath='descendant-or-self::a' data='<a itemprop=\"url\" data-hotkey=\"g i\" clas'>,\n",
       " <Selector xpath='descendant-or-self::a' data='<a data-hotkey=\"g p\" itemprop=\"url\" clas'>,\n",
       " <Selector xpath='descendant-or-self::a' data='<a data-hotkey=\"g b\" class=\"js-selected-'>,\n",
       " <Selector xpath='descendant-or-self::a' data='<a class=\"js-selected-navigation-item re'>,\n",
       " <Selector xpath='descendant-or-self::a' data='<a data-pjax href=\"/html5lib/html5lib-py'>,\n",
       " <Selector xpath='descendant-or-self::a' data='<a data-pjax href=\"/html5lib/html5lib-py'>,\n",
       " <Selector xpath='descendant-or-self::a' data='<a href=\"/html5lib/html5lib-python/relea'>,\n",
       " <Selector xpath='descendant-or-self::a' data='<a href=\"/html5lib/html5lib-python/graph'>,\n",
       " <Selector xpath='descendant-or-self::a' data='<a href=\"/html5lib/html5lib-python/blob/'>,\n",
       " <Selector xpath='descendant-or-self::a' data='<a href=\"/html5lib/html5lib-python/searc'>,\n",
       " <Selector xpath='descendant-or-self::a' data='<a href=\"#\" data-tab-filter=\"branches\" d'>,\n",
       " <Selector xpath='descendant-or-self::a' data='<a href=\"#\" data-tab-filter=\"tags\" data-'>,\n",
       " <Selector xpath='descendant-or-self::a' data='<a class=\"select-menu-item js-navigation'>,\n",
       " <Selector xpath='descendant-or-self::a' data='<a class=\"select-menu-item js-navigation'>,\n",
       " <Selector xpath='descendant-or-self::a' data='<a class=\"select-menu-item js-navigation'>,\n",
       " <Selector xpath='descendant-or-self::a' data='<a class=\"select-menu-item js-navigation'>,\n",
       " <Selector xpath='descendant-or-self::a' data='<a class=\"select-menu-item js-navigation'>,\n",
       " <Selector xpath='descendant-or-self::a' data='<a class=\"select-menu-item js-navigation'>,\n",
       " <Selector xpath='descendant-or-self::a' data='<a class=\"select-menu-item js-navigation'>,\n",
       " <Selector xpath='descendant-or-self::a' data='<a class=\"select-menu-item js-navigation'>,\n",
       " <Selector xpath='descendant-or-self::a' data='<a class=\"select-menu-item js-navigation'>,\n",
       " <Selector xpath='descendant-or-self::a' data='<a class=\"select-menu-item js-navigation'>,\n",
       " <Selector xpath='descendant-or-self::a' data='<a class=\"select-menu-item js-navigation'>,\n",
       " <Selector xpath='descendant-or-self::a' data='<a class=\"select-menu-item js-navigation'>,\n",
       " <Selector xpath='descendant-or-self::a' data='<a class=\"select-menu-item js-navigation'>,\n",
       " <Selector xpath='descendant-or-self::a' data='<a class=\"select-menu-item js-navigation'>,\n",
       " <Selector xpath='descendant-or-self::a' data='<a class=\"select-menu-item js-navigation'>,\n",
       " <Selector xpath='descendant-or-self::a' data='<a class=\"select-menu-item js-navigation'>,\n",
       " <Selector xpath='descendant-or-self::a' data='<a class=\"select-menu-item js-navigation'>,\n",
       " <Selector xpath='descendant-or-self::a' data='<a class=\"select-menu-item js-navigation'>,\n",
       " <Selector xpath='descendant-or-self::a' data='<a class=\"select-menu-item js-navigation'>,\n",
       " <Selector xpath='descendant-or-self::a' data='<a class=\"select-menu-item js-navigation'>,\n",
       " <Selector xpath='descendant-or-self::a' data='<a class=\"select-menu-item js-navigation'>,\n",
       " <Selector xpath='descendant-or-self::a' data='<a class=\"select-menu-item js-navigation'>,\n",
       " <Selector xpath='descendant-or-self::a' data='<a class=\"select-menu-item js-navigation'>,\n",
       " <Selector xpath='descendant-or-self::a' data='<a class=\"select-menu-item js-navigation'>,\n",
       " <Selector xpath='descendant-or-self::a' data='<a class=\"select-menu-item js-navigation'>,\n",
       " <Selector xpath='descendant-or-self::a' data='<a class=\"select-menu-item js-navigation'>,\n",
       " <Selector xpath='descendant-or-self::a' data='<a class=\"select-menu-item js-navigation'>,\n",
       " <Selector xpath='descendant-or-self::a' data='<a class=\"select-menu-item js-navigation'>,\n",
       " <Selector xpath='descendant-or-self::a' data='<a class=\"select-menu-item js-navigation'>,\n",
       " <Selector xpath='descendant-or-self::a' data='<a class=\"select-menu-item js-navigation'>,\n",
       " <Selector xpath='descendant-or-self::a' data='<a href=\"/html5lib/html5lib-python/pull/'>,\n",
       " <Selector xpath='descendant-or-self::a' data='<a href=\"/html5lib/html5lib-python/uploa'>,\n",
       " <Selector xpath='descendant-or-self::a' data='<a href=\"/html5lib/html5lib-python/find/'>,\n",
       " <Selector xpath='descendant-or-self::a' data='<a class=\"muted-link\" href=\"https://help'>,\n",
       " <Selector xpath='descendant-or-self::a' data='<a class=\"muted-link\" href=\"https://help'>,\n",
       " <Selector xpath='descendant-or-self::a' data='<a href=\"https://desktop.github.com\" cla'>,\n",
       " <Selector xpath='descendant-or-self::a' data='<a href=\"/html5lib/html5lib-python/archi'>,\n",
       " <Selector xpath='descendant-or-self::a' data='<a href=\"https://desktop.github.com/\">do'>,\n",
       " <Selector xpath='descendant-or-self::a' data='<a href=\"https://desktop.github.com/\">do'>,\n",
       " <Selector xpath='descendant-or-self::a' data='<a href=\"https://developer.apple.com/xco'>,\n",
       " <Selector xpath='descendant-or-self::a' data='<a href=\"https://visualstudio.github.com'>,\n",
       " <Selector xpath='descendant-or-self::a' data='<a class=\"avatar\" data-skip-pjax=\"true\" '>,\n",
       " <Selector xpath='descendant-or-self::a' data='<a class=\"avatar\" data-skip-pjax=\"true\" '>,\n",
       " <Selector xpath='descendant-or-self::a' data='<a href=\"/html5lib/html5lib-python/commi'>,\n",
       " <Selector xpath='descendant-or-self::a' data='<a href=\"/html5lib/html5lib-python/commi'>,\n",
       " <Selector xpath='descendant-or-self::a' data='<a data-pjax=\"true\" title=\"Try to import'>,\n",
       " <Selector xpath='descendant-or-self::a' data='<a class=\"issue-link js-issue-link\" data'>,\n",
       " <Selector xpath='descendant-or-self::a' data='<a data-pjax=\"true\" title=\"Try to import'>,\n",
       " <Selector xpath='descendant-or-self::a' data='<a class=\"issue-link js-issue-link\" data'>,\n",
       " <Selector xpath='descendant-or-self::a' data='<a class=\"commit-tease-sha\" href=\"/html5'>,\n",
       " <Selector xpath='descendant-or-self::a' data='<a class=\"d-none js-permalink-shortcut\" '>,\n",
       " <Selector xpath='descendant-or-self::a' data='<a class=\"js-navigation-open\" title=\"doc'>,\n",
       " <Selector xpath='descendant-or-self::a' data='<a data-pjax=\"true\" title=\"Remove undoc-'>,\n",
       " <Selector xpath='descendant-or-self::a' data='<a class=\"js-navigation-open\" title=\"htm'>,\n",
       " <Selector xpath='descendant-or-self::a' data='<a data-pjax=\"true\" title=\"Try to import'>,\n",
       " <Selector xpath='descendant-or-self::a' data='<a class=\"issue-link js-issue-link\" data'>,\n",
       " <Selector xpath='descendant-or-self::a' data='<a data-pjax=\"true\" title=\"Try to import'>,\n",
       " <Selector xpath='descendant-or-self::a' data='<a class=\"js-navigation-open\" title=\"uti'>,\n",
       " <Selector xpath='descendant-or-self::a' data='<a data-pjax=\"true\" title=\"Remove utils/'>,\n",
       " <Selector xpath='descendant-or-self::a' data='<a href=\"https://github.com/html5lib/htm'>,\n",
       " <Selector xpath='descendant-or-self::a' data='<a data-pjax=\"true\" title=\"Remove utils/'>,\n",
       " <Selector xpath='descendant-or-self::a' data='<a class=\"js-navigation-open\" title=\".ap'>,\n",
       " <Selector xpath='descendant-or-self::a' data='<a data-pjax=\"true\" title=\"Remove Appvey'>,\n",
       " <Selector xpath='descendant-or-self::a' data='<a class=\"issue-link js-issue-link\" data'>,\n",
       " <Selector xpath='descendant-or-self::a' data='<a data-pjax=\"true\" title=\"Remove Appvey'>,\n",
       " <Selector xpath='descendant-or-self::a' data='<a class=\"js-navigation-open\" title=\".co'>,\n",
       " <Selector xpath='descendant-or-self::a' data='<a data-pjax=\"true\" title=\"Add codecov.\"'>,\n",
       " <Selector xpath='descendant-or-self::a' data='<a class=\"js-navigation-open\" title=\".gi'>,\n",
       " <Selector xpath='descendant-or-self::a' data='<a data-pjax=\"true\" title=\"Ignore PyChar'>,\n",
       " <Selector xpath='descendant-or-self::a' data='<a class=\"js-navigation-open\" title=\".gi'>,\n",
       " <Selector xpath='descendant-or-self::a' data='<a data-pjax=\"true\" title=\"Move testdata'>,\n",
       " <Selector xpath='descendant-or-self::a' data='<a class=\"js-navigation-open\" title=\".pr'>,\n",
       " <Selector xpath='descendant-or-self::a' data='<a data-pjax=\"true\" title=\"Add prospecto'>,\n",
       " <Selector xpath='descendant-or-self::a' data='<a class=\"js-navigation-open\" title=\".py'>,\n",
       " <Selector xpath='descendant-or-self::a' data='<a data-pjax=\"true\" title=\"Add prospecto'>,\n",
       " <Selector xpath='descendant-or-self::a' data='<a class=\"js-navigation-open\" title=\".py'>,\n",
       " <Selector xpath='descendant-or-self::a' data='<a data-pjax=\"true\" title=\"Update tests '>,\n",
       " <Selector xpath='descendant-or-self::a' data='<a class=\"js-navigation-open\" title=\".tr'>,\n",
       " <Selector xpath='descendant-or-self::a' data='<a data-pjax=\"true\" title=\"Drop support '>,\n",
       " <Selector xpath='descendant-or-self::a' data='<a class=\"issue-link js-issue-link\" data'>,\n",
       " <Selector xpath='descendant-or-self::a' data='<a data-pjax=\"true\" title=\"Drop support '>,\n",
       " <Selector xpath='descendant-or-self::a' data='<a class=\"js-navigation-open\" title=\"AUT'>,\n",
       " <Selector xpath='descendant-or-self::a' data='<a data-pjax=\"true\" title=\"Via: git log '>,\n",
       " <Selector xpath='descendant-or-self::a' data='<a class=\"js-navigation-open\" title=\"CHA'>,\n",
       " <Selector xpath='descendant-or-self::a' data='<a data-pjax=\"true\" title=\"Fix CHANGES.r'>,\n",
       " <Selector xpath='descendant-or-self::a' data='<a class=\"js-navigation-open\" title=\"CON'>,\n",
       " <Selector xpath='descendant-or-self::a' data='<a data-pjax=\"true\" title=\"separate AUTH'>,\n",
       " <Selector xpath='descendant-or-self::a' data='<a class=\"js-navigation-open\" title=\"LIC'>,\n",
       " <Selector xpath='descendant-or-self::a' data='<a data-pjax=\"true\" title=\"Readd LICENSE'>,\n",
       " <Selector xpath='descendant-or-self::a' data='<a class=\"js-navigation-open\" title=\"MAN'>,\n",
       " <Selector xpath='descendant-or-self::a' data='<a data-pjax=\"true\" title=\"Add AUTHORS.r'>,\n",
       " <Selector xpath='descendant-or-self::a' data='<a class=\"js-navigation-open\" title=\"REA'>,\n",
       " <Selector xpath='descendant-or-self::a' data='<a data-pjax=\"true\" title=\"Upgrade Travi'>,\n",
       " <Selector xpath='descendant-or-self::a' data='<a class=\"issue-link js-issue-link\" data'>,\n",
       " <Selector xpath='descendant-or-self::a' data='<a data-pjax=\"true\" title=\"Upgrade Travi'>,\n",
       " <Selector xpath='descendant-or-self::a' data='<a class=\"js-navigation-open\" title=\"deb'>,\n",
       " <Selector xpath='descendant-or-self::a' data='<a data-pjax=\"true\" title=\"drop usage of'>,\n",
       " <Selector xpath='descendant-or-self::a' data='<a class=\"js-navigation-open\" title=\"fla'>,\n",
       " <Selector xpath='descendant-or-self::a' data='<a data-pjax=\"true\" title=\"Fix all the f'>,\n",
       " <Selector xpath='descendant-or-self::a' data='<a class=\"js-navigation-open\" title=\"par'>,\n",
       " <Selector xpath='descendant-or-self::a' data='<a data-pjax=\"true\" title=\"Move a whole '>,\n",
       " <Selector xpath='descendant-or-self::a' data='<a class=\"js-navigation-open\" title=\"pyt'>,\n",
       " <Selector xpath='descendant-or-self::a' data='<a data-pjax=\"true\" title=\"Change py.tes'>,\n",
       " <Selector xpath='descendant-or-self::a' data='<a class=\"js-navigation-open\" title=\"req'>,\n",
       " <Selector xpath='descendant-or-self::a' data='<a data-pjax=\"true\" title=\"Fix Travis CI'>,\n",
       " <Selector xpath='descendant-or-self::a' data='<a class=\"js-navigation-open\" title=\"req'>,\n",
       " <Selector xpath='descendant-or-self::a' data='<a data-pjax=\"true\" title=\"Preserve attr'>,\n",
       " <Selector xpath='descendant-or-self::a' data='<a class=\"js-navigation-open\" title=\"req'>,\n",
       " <Selector xpath='descendant-or-self::a' data='<a data-pjax=\"true\" title=\"Pin pytest to'>,\n",
       " <Selector xpath='descendant-or-self::a' data='<a class=\"js-navigation-open\" title=\"req'>,\n",
       " <Selector xpath='descendant-or-self::a' data='<a data-pjax=\"true\" title=\"Drop support '>,\n",
       " <Selector xpath='descendant-or-self::a' data='<a href=\"https://github.com/html5lib/htm'>,\n",
       " <Selector xpath='descendant-or-self::a' data='<a data-pjax=\"true\" title=\"Drop support '>,\n",
       " <Selector xpath='descendant-or-self::a' data='<a class=\"js-navigation-open\" title=\"set'>,\n",
       " <Selector xpath='descendant-or-self::a' data='<a data-pjax=\"true\" title=\"Include licen'>,\n",
       " <Selector xpath='descendant-or-self::a' data='<a href=\"https://github.com/html5lib/htm'>,\n",
       " <Selector xpath='descendant-or-self::a' data='<a data-pjax=\"true\" title=\"Include licen'>,\n",
       " <Selector xpath='descendant-or-self::a' data='<a class=\"js-navigation-open\" title=\"set'>,\n",
       " <Selector xpath='descendant-or-self::a' data='<a data-pjax=\"true\" title=\"Drop support '>,\n",
       " <Selector xpath='descendant-or-self::a' data='<a class=\"issue-link js-issue-link\" data'>,\n",
       " <Selector xpath='descendant-or-self::a' data='<a data-pjax=\"true\" title=\"Drop support '>,\n",
       " <Selector xpath='descendant-or-self::a' data='<a class=\"js-navigation-open\" title=\"tox'>,\n",
       " <Selector xpath='descendant-or-self::a' data='<a data-pjax=\"true\" title=\"Drop support '>,\n",
       " <Selector xpath='descendant-or-self::a' data='<a class=\"issue-link js-issue-link\" data'>,\n",
       " <Selector xpath='descendant-or-self::a' data='<a data-pjax=\"true\" title=\"Drop support '>,\n",
       " <Selector xpath='descendant-or-self::a' data='<a id=\"user-content-html5lib\" class=\"anc'>,\n",
       " <Selector xpath='descendant-or-self::a' data='<a href=\"https://travis-ci.org/html5lib/'>,\n",
       " <Selector xpath='descendant-or-self::a' data='<a name=\"user-content-usage\"></a>'>,\n",
       " <Selector xpath='descendant-or-self::a' data='<a id=\"user-content-usage\" class=\"anchor'>,\n",
       " <Selector xpath='descendant-or-self::a' data='<a href=\"https://html5lib.readthedocs.io'>,\n",
       " <Selector xpath='descendant-or-self::a' data='<a name=\"user-content-installation\"></a>'>,\n",
       " <Selector xpath='descendant-or-self::a' data='<a id=\"user-content-installation\" class='>,\n",
       " <Selector xpath='descendant-or-self::a' data='<a name=\"user-content-optional-dependenc'>,\n",
       " <Selector xpath='descendant-or-self::a' data='<a id=\"user-content-optional-dependencie'>,\n",
       " <Selector xpath='descendant-or-self::a' data='<a name=\"user-content-bugs\"></a>'>,\n",
       " <Selector xpath='descendant-or-self::a' data='<a id=\"user-content-bugs\" class=\"anchor\"'>,\n",
       " <Selector xpath='descendant-or-self::a' data='<a href=\"https://github.com/html5lib/htm'>,\n",
       " <Selector xpath='descendant-or-self::a' data='<a name=\"user-content-tests\"></a>'>,\n",
       " <Selector xpath='descendant-or-self::a' data='<a id=\"user-content-tests\" class=\"anchor'>,\n",
       " <Selector xpath='descendant-or-self::a' data='<a href=\"https://github.com/html5lib/htm'>,\n",
       " <Selector xpath='descendant-or-self::a' data='<a name=\"user-content-questions\"></a>'>,\n",
       " <Selector xpath='descendant-or-self::a' data='<a id=\"user-content-questions\" class=\"an'>,\n",
       " <Selector xpath='descendant-or-self::a' data='<a href=\"http://groups.google.com/group/'>,\n",
       " <Selector xpath='descendant-or-self::a' data='<a href=\"http://wiki.whatwg.org/wiki/IRC'>,\n",
       " <Selector xpath='descendant-or-self::a' data='<a data-ga-click=\"Footer, go to terms, t'>,\n",
       " <Selector xpath='descendant-or-self::a' data='<a data-ga-click=\"Footer, go to privacy,'>,\n",
       " <Selector xpath='descendant-or-self::a' data='<a href=\"https://help.github.com/article'>,\n",
       " <Selector xpath='descendant-or-self::a' data='<a href=\"https://status.github.com/\" dat'>,\n",
       " <Selector xpath='descendant-or-self::a' data='<a data-ga-click=\"Footer, go to help, te'>,\n",
       " <Selector xpath='descendant-or-self::a' data='<a aria-label=\"Homepage\" title=\"GitHub\" '>,\n",
       " <Selector xpath='descendant-or-self::a' data='<a data-ga-click=\"Footer, go to contact,'>,\n",
       " <Selector xpath='descendant-or-self::a' data='<a href=\"https://github.com/pricing\" dat'>,\n",
       " <Selector xpath='descendant-or-self::a' data='<a href=\"https://developer.github.com\" d'>,\n",
       " <Selector xpath='descendant-or-self::a' data='<a href=\"https://training.github.com\" da'>,\n",
       " <Selector xpath='descendant-or-self::a' data='<a href=\"https://blog.github.com\" data-g'>,\n",
       " <Selector xpath='descendant-or-self::a' data='<a data-ga-click=\"Footer, go to about, t'>,\n",
       " <Selector xpath='descendant-or-self::a' data='<a href=\"\">Reload</a>'>,\n",
       " <Selector xpath='descendant-or-self::a' data='<a href=\"\">Reload</a>'>]"
      ]
     },
     "execution_count": 141,
     "metadata": {},
     "output_type": "execute_result"
    }
   ],
   "source": [
    "selector.css(\"a\")"
   ]
  },
  {
   "cell_type": "code",
   "execution_count": 146,
   "metadata": {},
   "outputs": [
    {
     "data": {
      "text/plain": [
       "<Selector xpath='.//a' data='<a href=\"#start-of-content\" tabindex=\"1\"'>"
      ]
     },
     "execution_count": 146,
     "metadata": {},
     "output_type": "execute_result"
    }
   ],
   "source": [
    "e = selector.xpath(\".//a\")[0]\n",
    "e"
   ]
  },
  {
   "cell_type": "code",
   "execution_count": 152,
   "metadata": {
    "scrolled": true
   },
   "outputs": [
    {
     "data": {
      "text/plain": [
       "['<a href=\"#start-of-content\" tabindex=\"1\" class=\"p-3 bg-blue text-white show-on-focus js-skip-to-content\">Skip to content</a>']"
      ]
     },
     "execution_count": 152,
     "metadata": {},
     "output_type": "execute_result"
    }
   ],
   "source": [
    "e.getall()"
   ]
  },
  {
   "cell_type": "code",
   "execution_count": 154,
   "metadata": {},
   "outputs": [],
   "source": [
    "from http.client import HTTPConnection"
   ]
  },
  {
   "cell_type": "code",
   "execution_count": 156,
   "metadata": {},
   "outputs": [
    {
     "data": {
      "text/plain": [
       "<http.client.HTTPConnection at 0x106b9f8d0>"
      ]
     },
     "execution_count": 156,
     "metadata": {},
     "output_type": "execute_result"
    }
   ],
   "source": [
    "http_conn = HTTPConnection(\"www.python.org\", 80)\n",
    "http_conn"
   ]
  },
  {
   "cell_type": "code",
   "execution_count": 158,
   "metadata": {},
   "outputs": [],
   "source": [
    "http_conn.connect()"
   ]
  },
  {
   "cell_type": "code",
   "execution_count": 161,
   "metadata": {},
   "outputs": [
    {
     "ename": "CannotSendRequest",
     "evalue": "Request-sent",
     "output_type": "error",
     "traceback": [
      "\u001b[0;31m---------------------------------------------------------------------------\u001b[0m",
      "\u001b[0;31mCannotSendRequest\u001b[0m                         Traceback (most recent call last)",
      "\u001b[0;32m<ipython-input-161-4f88fd477790>\u001b[0m in \u001b[0;36m<module>\u001b[0;34m\u001b[0m\n\u001b[0;32m----> 1\u001b[0;31m \u001b[0mr\u001b[0m \u001b[0;34m=\u001b[0m \u001b[0mhttp_conn\u001b[0m\u001b[0;34m.\u001b[0m\u001b[0mrequest\u001b[0m\u001b[0;34m(\u001b[0m\u001b[0;34m\"GET\"\u001b[0m\u001b[0;34m,\u001b[0m \u001b[0;34m\"/\"\u001b[0m\u001b[0;34m)\u001b[0m\u001b[0;34m\u001b[0m\u001b[0;34m\u001b[0m\u001b[0m\n\u001b[0m\u001b[1;32m      2\u001b[0m \u001b[0mr\u001b[0m\u001b[0;34m\u001b[0m\u001b[0;34m\u001b[0m\u001b[0m\n",
      "\u001b[0;32m~/anaconda3/lib/python3.7/http/client.py\u001b[0m in \u001b[0;36mrequest\u001b[0;34m(self, method, url, body, headers, encode_chunked)\u001b[0m\n\u001b[1;32m   1227\u001b[0m                 encode_chunked=False):\n\u001b[1;32m   1228\u001b[0m         \u001b[0;34m\"\"\"Send a complete request to the server.\"\"\"\u001b[0m\u001b[0;34m\u001b[0m\u001b[0;34m\u001b[0m\u001b[0m\n\u001b[0;32m-> 1229\u001b[0;31m         \u001b[0mself\u001b[0m\u001b[0;34m.\u001b[0m\u001b[0m_send_request\u001b[0m\u001b[0;34m(\u001b[0m\u001b[0mmethod\u001b[0m\u001b[0;34m,\u001b[0m \u001b[0murl\u001b[0m\u001b[0;34m,\u001b[0m \u001b[0mbody\u001b[0m\u001b[0;34m,\u001b[0m \u001b[0mheaders\u001b[0m\u001b[0;34m,\u001b[0m \u001b[0mencode_chunked\u001b[0m\u001b[0;34m)\u001b[0m\u001b[0;34m\u001b[0m\u001b[0;34m\u001b[0m\u001b[0m\n\u001b[0m\u001b[1;32m   1230\u001b[0m \u001b[0;34m\u001b[0m\u001b[0m\n\u001b[1;32m   1231\u001b[0m     \u001b[0;32mdef\u001b[0m \u001b[0m_send_request\u001b[0m\u001b[0;34m(\u001b[0m\u001b[0mself\u001b[0m\u001b[0;34m,\u001b[0m \u001b[0mmethod\u001b[0m\u001b[0;34m,\u001b[0m \u001b[0murl\u001b[0m\u001b[0;34m,\u001b[0m \u001b[0mbody\u001b[0m\u001b[0;34m,\u001b[0m \u001b[0mheaders\u001b[0m\u001b[0;34m,\u001b[0m \u001b[0mencode_chunked\u001b[0m\u001b[0;34m)\u001b[0m\u001b[0;34m:\u001b[0m\u001b[0;34m\u001b[0m\u001b[0;34m\u001b[0m\u001b[0m\n",
      "\u001b[0;32m~/anaconda3/lib/python3.7/http/client.py\u001b[0m in \u001b[0;36m_send_request\u001b[0;34m(self, method, url, body, headers, encode_chunked)\u001b[0m\n\u001b[1;32m   1238\u001b[0m             \u001b[0mskips\u001b[0m\u001b[0;34m[\u001b[0m\u001b[0;34m'skip_accept_encoding'\u001b[0m\u001b[0;34m]\u001b[0m \u001b[0;34m=\u001b[0m \u001b[0;36m1\u001b[0m\u001b[0;34m\u001b[0m\u001b[0;34m\u001b[0m\u001b[0m\n\u001b[1;32m   1239\u001b[0m \u001b[0;34m\u001b[0m\u001b[0m\n\u001b[0;32m-> 1240\u001b[0;31m         \u001b[0mself\u001b[0m\u001b[0;34m.\u001b[0m\u001b[0mputrequest\u001b[0m\u001b[0;34m(\u001b[0m\u001b[0mmethod\u001b[0m\u001b[0;34m,\u001b[0m \u001b[0murl\u001b[0m\u001b[0;34m,\u001b[0m \u001b[0;34m**\u001b[0m\u001b[0mskips\u001b[0m\u001b[0;34m)\u001b[0m\u001b[0;34m\u001b[0m\u001b[0;34m\u001b[0m\u001b[0m\n\u001b[0m\u001b[1;32m   1241\u001b[0m \u001b[0;34m\u001b[0m\u001b[0m\n\u001b[1;32m   1242\u001b[0m         \u001b[0;31m# chunked encoding will happen if HTTP/1.1 is used and either\u001b[0m\u001b[0;34m\u001b[0m\u001b[0;34m\u001b[0m\u001b[0;34m\u001b[0m\u001b[0m\n",
      "\u001b[0;32m~/anaconda3/lib/python3.7/http/client.py\u001b[0m in \u001b[0;36mputrequest\u001b[0;34m(self, method, url, skip_host, skip_accept_encoding)\u001b[0m\n\u001b[1;32m   1096\u001b[0m             \u001b[0mself\u001b[0m\u001b[0;34m.\u001b[0m\u001b[0m__state\u001b[0m \u001b[0;34m=\u001b[0m \u001b[0m_CS_REQ_STARTED\u001b[0m\u001b[0;34m\u001b[0m\u001b[0;34m\u001b[0m\u001b[0m\n\u001b[1;32m   1097\u001b[0m         \u001b[0;32melse\u001b[0m\u001b[0;34m:\u001b[0m\u001b[0;34m\u001b[0m\u001b[0;34m\u001b[0m\u001b[0m\n\u001b[0;32m-> 1098\u001b[0;31m             \u001b[0;32mraise\u001b[0m \u001b[0mCannotSendRequest\u001b[0m\u001b[0;34m(\u001b[0m\u001b[0mself\u001b[0m\u001b[0;34m.\u001b[0m\u001b[0m__state\u001b[0m\u001b[0;34m)\u001b[0m\u001b[0;34m\u001b[0m\u001b[0;34m\u001b[0m\u001b[0m\n\u001b[0m\u001b[1;32m   1099\u001b[0m \u001b[0;34m\u001b[0m\u001b[0m\n\u001b[1;32m   1100\u001b[0m         \u001b[0;31m# Save the method we use, we need it later in the response phase\u001b[0m\u001b[0;34m\u001b[0m\u001b[0;34m\u001b[0m\u001b[0;34m\u001b[0m\u001b[0m\n",
      "\u001b[0;31mCannotSendRequest\u001b[0m: Request-sent"
     ]
    }
   ],
   "source": [
    "r = http_conn.request(\"GET\", \"/\")\n",
    "r"
   ]
  },
  {
   "cell_type": "code",
   "execution_count": 162,
   "metadata": {},
   "outputs": [
    {
     "data": {
      "text/plain": [
       "<http.client.HTTPResponse at 0x1056d5668>"
      ]
     },
     "execution_count": 162,
     "metadata": {},
     "output_type": "execute_result"
    }
   ],
   "source": [
    "r = http_conn.getresponse()\n",
    "r"
   ]
  },
  {
   "cell_type": "code",
   "execution_count": 163,
   "metadata": {},
   "outputs": [
    {
     "data": {
      "text/plain": [
       "301"
      ]
     },
     "execution_count": 163,
     "metadata": {},
     "output_type": "execute_result"
    }
   ],
   "source": [
    "r.code"
   ]
  },
  {
   "cell_type": "code",
   "execution_count": 165,
   "metadata": {
    "scrolled": true
   },
   "outputs": [
    {
     "data": {
      "text/plain": [
       "[('Server', 'Varnish'),\n",
       " ('Retry-After', '0'),\n",
       " ('Location', 'https://www.python.org/'),\n",
       " ('Content-Length', '0'),\n",
       " ('Accept-Ranges', 'bytes'),\n",
       " ('Date', 'Tue, 07 Apr 2020 08:12:21 GMT'),\n",
       " ('Via', '1.1 varnish'),\n",
       " ('Connection', 'close'),\n",
       " ('X-Served-By', 'cache-maa18320-MAA'),\n",
       " ('X-Cache', 'HIT'),\n",
       " ('X-Cache-Hits', '0'),\n",
       " ('X-Timer', 'S1586247141.337928,VS0,VE0'),\n",
       " ('Strict-Transport-Security', 'max-age=63072000; includeSubDomains')]"
      ]
     },
     "execution_count": 165,
     "metadata": {},
     "output_type": "execute_result"
    }
   ],
   "source": [
    "r.headers.items()"
   ]
  },
  {
   "cell_type": "code",
   "execution_count": 166,
   "metadata": {},
   "outputs": [
    {
     "data": {
      "text/plain": [
       "b''"
      ]
     },
     "execution_count": 166,
     "metadata": {},
     "output_type": "execute_result"
    }
   ],
   "source": [
    "r.read()"
   ]
  },
  {
   "cell_type": "code",
   "execution_count": 167,
   "metadata": {},
   "outputs": [],
   "source": [
    "from urllib.request import urlopen"
   ]
  },
  {
   "cell_type": "code",
   "execution_count": 168,
   "metadata": {},
   "outputs": [
    {
     "data": {
      "text/plain": [
       "<http.client.HTTPResponse at 0x1056c2208>"
      ]
     },
     "execution_count": 168,
     "metadata": {},
     "output_type": "execute_result"
    }
   ],
   "source": [
    "r = urlopen(\"http://www.python.org/\")\n",
    "r"
   ]
  },
  {
   "cell_type": "code",
   "execution_count": 169,
   "metadata": {},
   "outputs": [
    {
     "data": {
      "text/plain": [
       "200"
      ]
     },
     "execution_count": 169,
     "metadata": {},
     "output_type": "execute_result"
    }
   ],
   "source": [
    "r.code"
   ]
  },
  {
   "cell_type": "code",
   "execution_count": 170,
   "metadata": {},
   "outputs": [
    {
     "data": {
      "text/plain": [
       "b'<!doctype html>\\n<!--[if lt IE 7]>   <html class=\"no-js ie6 lt-ie7 lt-ie8 lt-ie9\">   <![endif]-->\\n<!--[if IE 7]>      <html class=\"no-js ie7 lt-ie8 lt-ie9\">          <![endif]-->\\n<!--[if IE 8]>      <html class=\"no-js ie8 lt-ie9\">                 <![endif]-->\\n<!--[if gt IE 8]><!--><html class=\"no-js\" lang=\"en\" dir=\"ltr\">  <!--<![endif]-->\\n\\n<head>\\n    <meta charset=\"utf-8\">\\n    <meta http-equiv=\"X-UA-Compatible\" content=\"IE=edge\">\\n\\n    <link rel=\"prefetch\" href=\"//ajax.googleapis.com/ajax/libs/jquery/1.8.2/jquery.min.js\">\\n\\n    <meta name=\"application-name\" content=\"Python.org\">\\n    <meta name=\"msapplication-tooltip\" content=\"The official home of the Python Programming Language\">\\n    <meta name=\"apple-mobile-web-app-title\" content=\"Python.org\">\\n    <meta name=\"apple-mobile-web-app-capable\" content=\"yes\">\\n    <meta name=\"apple-mobile-web-app-status-bar-style\" content=\"black\">\\n\\n    <meta name=\"viewport\" content=\"width=device-width, initial-scale=1.0\">\\n    <meta name=\"HandheldFriendly\" content=\"True\">\\n    <meta name=\"format-detection\" content=\"telephone=no\">\\n    <meta http-equiv=\"cleartype\" content=\"on\">\\n    <meta http-equiv=\"imagetoolbar\" content=\"false\">\\n\\n    <script src=\"/static/js/libs/modernizr.js\"></script>\\n\\n    <link href=\"/static/stylesheets/style.67f4b30f7483.css\" rel=\"stylesheet\" type=\"text/css\" title=\"default\" />\\n    <link href=\"/static/stylesheets/mq.3ae8e02ece5b.css\" rel=\"stylesheet\" type=\"text/css\" media=\"not print, braille, embossed, speech, tty\" />\\n    \\n\\n    <!--[if (lte IE 8)&(!IEMobile)]>\\n    <link href=\"/static/stylesheets/no-mq.fcf414dc68a3.css\" rel=\"stylesheet\" type=\"text/css\" media=\"screen\" />\\n    \\n    \\n    <![endif]-->\\n\\n    \\n    <link rel=\"icon\" type=\"image/x-icon\" href=\"/static/favicon.ico\">\\n    <link rel=\"apple-touch-icon-precomposed\" sizes=\"144x144\" href=\"/static/apple-touch-icon-144x144-precomposed.png\">\\n    <link rel=\"apple-touch-icon-precomposed\" sizes=\"114x114\" href=\"/static/apple-touch-icon-114x114-precomposed.png\">\\n    <link rel=\"apple-touch-icon-precomposed\" sizes=\"72x72\" href=\"/static/apple-touch-icon-72x72-precomposed.png\">\\n    <link rel=\"apple-touch-icon-precomposed\" href=\"/static/apple-touch-icon-precomposed.png\">\\n    <link rel=\"apple-touch-icon\" href=\"/static/apple-touch-icon-precomposed.png\">\\n\\n    \\n    <meta name=\"msapplication-TileImage\" content=\"/static/metro-icon-144x144-precomposed.png\"><!-- white shape -->\\n    <meta name=\"msapplication-TileColor\" content=\"#3673a5\"><!-- python blue -->\\n    <meta name=\"msapplication-navbutton-color\" content=\"#3673a5\">\\n\\n    <title>Welcome to Python.org</title>\\n\\n    <meta name=\"description\" content=\"The official home of the Python Programming Language\">\\n    <meta name=\"keywords\" content=\"Python programming language object oriented web free open source software license documentation download community\">\\n\\n    \\n    <meta property=\"og:type\" content=\"website\">\\n    <meta property=\"og:site_name\" content=\"Python.org\">\\n    <meta property=\"og:title\" content=\"Welcome to Python.org\">\\n    <meta property=\"og:description\" content=\"The official home of the Python Programming Language\">\\n    \\n    <meta property=\"og:image\" content=\"https://www.python.org/static/opengraph-icon-200x200.png\">\\n    <meta property=\"og:image:secure_url\" content=\"https://www.python.org/static/opengraph-icon-200x200.png\">\\n    \\n    <meta property=\"og:url\" content=\"https://www.python.org/\">\\n\\n    <link rel=\"author\" href=\"/static/humans.txt\">\\n\\n    <link rel=\"alternate\" type=\"application/rss+xml\" title=\"Python Enhancement Proposals\"\\n          href=\"https://www.python.org/dev/peps/peps.rss/\">\\n    <link rel=\"alternate\" type=\"application/rss+xml\" title=\"Python Job Opportunities\"\\n          href=\"https://www.python.org/jobs/feed/rss/\">\\n    <link rel=\"alternate\" type=\"application/rss+xml\" title=\"Python Software Foundation News\"\\n          href=\"https://feeds.feedburner.com/PythonSoftwareFoundationNews\">\\n    <link rel=\"alternate\" type=\"application/rss+xml\" title=\"Python Insider\"\\n          href=\"https://feeds.feedburner.com/PythonInsider\">\\n\\n    \\n\\n    \\n    <script type=\"application/ld+json\">\\n     {\\n       \"@context\": \"https://schema.org\",\\n       \"@type\": \"WebSite\",\\n       \"url\": \"https://www.python.org/\",\\n       \"potentialAction\": {\\n         \"@type\": \"SearchAction\",\\n         \"target\": \"https://www.python.org/search/?q={search_term_string}\",\\n         \"query-input\": \"required name=search_term_string\"\\n       }\\n     }\\n    </script>\\n\\n    \\n    <script type=\"text/javascript\">\\n    var _gaq = _gaq || [];\\n    _gaq.push([\\'_setAccount\\', \\'UA-39055973-1\\']);\\n    _gaq.push([\\'_trackPageview\\']);\\n\\n    (function() {\\n        var ga = document.createElement(\\'script\\'); ga.type = \\'text/javascript\\'; ga.async = true;\\n        ga.src = (\\'https:\\' == document.location.protocol ? \\'https://ssl\\' : \\'http://www\\') + \\'.google-analytics.com/ga.js\\';\\n        var s = document.getElementsByTagName(\\'script\\')[0]; s.parentNode.insertBefore(ga, s);\\n    })();\\n    </script>\\n    \\n</head>\\n\\n<body class=\"python home\" id=\"homepage\">\\n\\n    <div id=\"touchnav-wrapper\">\\n\\n        <div id=\"nojs\" class=\"do-not-print\">\\n            <p><strong>Notice:</strong> While Javascript is not essential for this website, your interaction with the content will be limited. Please turn Javascript on for the full experience. </p>\\n        </div>\\n\\n        <!--[if lte IE 8]>\\n        <div id=\"oldie-warning\" class=\"do-not-print\">\\n            <p>\\n                <strong>Notice:</strong> Your browser is <em>ancient</em>. Please\\n                <a href=\"http://browsehappy.com/\">upgrade to a different browser</a> to experience a better web.\\n            </p>\\n        </div>\\n        <![endif]-->\\n\\n        <!-- Sister Site Links -->\\n        <div id=\"top\" class=\"top-bar do-not-print\">\\n\\n            <nav class=\"meta-navigation container\" role=\"navigation\">\\n\\n                \\n                <div class=\"skip-link screen-reader-text\">\\n                    <a href=\"#content\" title=\"Skip to content\">Skip to content</a>\\n                </div>\\n\\n                \\n                <a id=\"close-python-network\" class=\"jump-link\" href=\"#python-network\" aria-hidden=\"true\">\\n                    <span aria-hidden=\"true\" class=\"icon-arrow-down\"><span>&#9660;</span></span> Close\\n                </a>\\n\\n                \\n\\n<ul class=\"menu\" role=\"tree\">\\n    \\n    <li class=\"python-meta current_item selectedcurrent_branch selected\">\\n        <a href=\"/\" title=\"The Python Programming Language\" class=\"current_item selectedcurrent_branch selected\">Python</a>\\n    </li>\\n    \\n    <li class=\"psf-meta \">\\n        <a href=\"/psf-landing/\" title=\"The Python Software Foundation\" >PSF</a>\\n    </li>\\n    \\n    <li class=\"docs-meta \">\\n        <a href=\"https://docs.python.org\" title=\"Python Documentation\" >Docs</a>\\n    </li>\\n    \\n    <li class=\"pypi-meta \">\\n        <a href=\"https://pypi.python.org/\" title=\"Python Package Index\" >PyPI</a>\\n    </li>\\n    \\n    <li class=\"jobs-meta \">\\n        <a href=\"/jobs/\" title=\"Python Job Board\" >Jobs</a>\\n    </li>\\n    \\n    <li class=\"shop-meta \">\\n        <a href=\"/community/\" title=\"Python Community\" >Community</a>\\n    </li>\\n    \\n</ul>\\n\\n\\n                <a id=\"python-network\" class=\"jump-link\" href=\"#top\" aria-hidden=\"true\">\\n                    <span aria-hidden=\"true\" class=\"icon-arrow-up\"><span>&#9650;</span></span> The Python Network\\n                </a>\\n\\n            </nav>\\n\\n        </div>\\n\\n        <!-- Header elements -->\\n        <header class=\"main-header\" role=\"banner\">\\n            <div class=\"container\">\\n\\n                <h1 class=\"site-headline\">\\n                    <a href=\"/\"><img class=\"python-logo\" src=\"/static/img/python-logo.png\" alt=\"python&trade;\"></a>\\n                </h1>\\n\\n                <div class=\"options-bar-container do-not-print\">\\n                    <a href=\"https://psfmember.org/civicrm/contribute/transact?reset=1&id=2\" class=\"donate-button\">Donate</a>\\n                    <div class=\"options-bar\">\\n                        \\n                        <a id=\"site-map-link\" class=\"jump-to-menu\" href=\"#site-map\"><span class=\"menu-icon\">&equiv;</span> Menu</a><form class=\"search-the-site\" action=\"/search/\" method=\"get\">\\n                            <fieldset title=\"Search Python.org\">\\n\\n                                <span aria-hidden=\"true\" class=\"icon-search\"></span>\\n\\n                                <label class=\"screen-reader-text\" for=\"id-search-field\">Search This Site</label>\\n                                <input id=\"id-search-field\" name=\"q\" type=\"search\" role=\"textbox\" class=\"search-field\" placeholder=\"Search\" value=\"\" tabindex=\"1\">\\n\\n                                <button type=\"submit\" name=\"submit\" id=\"submit\" class=\"search-button\" title=\"Submit this Search\" tabindex=\"3\">\\n                                    GO\\n                                </button>\\n\\n                                \\n                                <!--[if IE]><input type=\"text\" style=\"display: none;\" disabled=\"disabled\" size=\"1\" tabindex=\"4\"><![endif]-->\\n\\n                            </fieldset>\\n                        </form><span class=\"breaker\"></span><div class=\"adjust-font-size\" aria-hidden=\"true\">\\n                            <ul class=\"navigation menu\" aria-label=\"Adjust Text Size on Page\">\\n                                <li class=\"tier-1 last\" aria-haspopup=\"true\">\\n                                    <a href=\"#\" class=\"action-trigger\"><strong><small>A</small> A</strong></a>\\n                                    <ul class=\"subnav menu\">\\n                                        <li class=\"tier-2 element-1\" role=\"treeitem\"><a class=\"text-shrink\" title=\"Make Text Smaller\" href=\"javascript:;\">Smaller</a></li>\\n                                        <li class=\"tier-2 element-2\" role=\"treeitem\"><a class=\"text-grow\" title=\"Make Text Larger\" href=\"javascript:;\">Larger</a></li>\\n                                        <li class=\"tier-2 element-3\" role=\"treeitem\"><a class=\"text-reset\" title=\"Reset any font size changes I have made\" href=\"javascript:;\">Reset</a></li>\\n                                    </ul>\\n                                </li>\\n                            </ul>\\n                        </div><div class=\"winkwink-nudgenudge\">\\n                            <ul class=\"navigation menu\" aria-label=\"Social Media Navigation\">\\n                                <li class=\"tier-1 last\" aria-haspopup=\"true\">\\n                                    <a href=\"#\" class=\"action-trigger\">Socialize</a>\\n                                    <ul class=\"subnav menu\">\\n                                        <li class=\"tier-2 element-1\" role=\"treeitem\"><a href=\"https://www.facebook.com/pythonlang?fref=ts\"><span aria-hidden=\"true\" class=\"icon-facebook\"></span>Facebook</a></li>\\n                                        <li class=\"tier-2 element-2\" role=\"treeitem\"><a href=\"https://twitter.com/ThePSF\"><span aria-hidden=\"true\" class=\"icon-twitter\"></span>Twitter</a></li>\\n                                        <li class=\"tier-2 element-3\" role=\"treeitem\"><a href=\"/community/irc/\"><span aria-hidden=\"true\" class=\"icon-freenode\"></span>Chat on IRC</a></li>\\n                                    </ul>\\n                                </li>\\n                            </ul>\\n                        </div>\\n                        <span data-html-include=\"/authenticated\"></span>\\n                    </div><!-- end options-bar -->\\n                </div>\\n\\n                <nav id=\"mainnav\" class=\"python-navigation main-navigation do-not-print\" role=\"navigation\">\\n                    \\n                        \\n<ul class=\"navigation menu\" role=\"menubar\" aria-label=\"Main Navigation\">\\n  \\n    \\n    \\n    <li id=\"about\" class=\"tier-1 element-1  \" aria-haspopup=\"true\">\\n        <a href=\"/about/\" title=\"\" class=\"\">About</a>\\n        \\n            \\n\\n<ul class=\"subnav menu\" role=\"menu\" aria-hidden=\"true\">\\n    \\n        <li class=\"tier-2 element-1\" role=\"treeitem\"><a href=\"/about/apps/\" title=\"\">Applications</a></li>\\n    \\n        <li class=\"tier-2 element-2\" role=\"treeitem\"><a href=\"/about/quotes/\" title=\"\">Quotes</a></li>\\n    \\n        <li class=\"tier-2 element-3\" role=\"treeitem\"><a href=\"/about/gettingstarted/\" title=\"\">Getting Started</a></li>\\n    \\n        <li class=\"tier-2 element-4\" role=\"treeitem\"><a href=\"/about/help/\" title=\"\">Help</a></li>\\n    \\n        <li class=\"tier-2 element-5\" role=\"treeitem\"><a href=\"http://brochure.getpython.info/\" title=\"\">Python Brochure</a></li>\\n    \\n</ul>\\n\\n        \\n    </li>\\n    \\n    \\n    \\n    <li id=\"downloads\" class=\"tier-1 element-2  \" aria-haspopup=\"true\">\\n        <a href=\"/downloads/\" title=\"\" class=\"\">Downloads</a>\\n        \\n            \\n\\n<ul class=\"subnav menu\" role=\"menu\" aria-hidden=\"true\">\\n    \\n        <li class=\"tier-2 element-1\" role=\"treeitem\"><a href=\"/downloads/\" title=\"\">All releases</a></li>\\n    \\n        <li class=\"tier-2 element-2\" role=\"treeitem\"><a href=\"/downloads/source/\" title=\"\">Source code</a></li>\\n    \\n        <li class=\"tier-2 element-3\" role=\"treeitem\"><a href=\"/downloads/windows/\" title=\"\">Windows</a></li>\\n    \\n        <li class=\"tier-2 element-4\" role=\"treeitem\"><a href=\"/downloads/mac-osx/\" title=\"\">Mac OS X</a></li>\\n    \\n        <li class=\"tier-2 element-5\" role=\"treeitem\"><a href=\"/download/other/\" title=\"\">Other Platforms</a></li>\\n    \\n        <li class=\"tier-2 element-6\" role=\"treeitem\"><a href=\"https://docs.python.org/3/license.html\" title=\"\">License</a></li>\\n    \\n        <li class=\"tier-2 element-7\" role=\"treeitem\"><a href=\"/download/alternatives\" title=\"\">Alternative Implementations</a></li>\\n    \\n</ul>\\n\\n        \\n    </li>\\n    \\n    \\n    \\n    <li id=\"documentation\" class=\"tier-1 element-3  \" aria-haspopup=\"true\">\\n        <a href=\"/doc/\" title=\"\" class=\"\">Documentation</a>\\n        \\n            \\n\\n<ul class=\"subnav menu\" role=\"menu\" aria-hidden=\"true\">\\n    \\n        <li class=\"tier-2 element-1\" role=\"treeitem\"><a href=\"/doc/\" title=\"\">Docs</a></li>\\n    \\n        <li class=\"tier-2 element-2\" role=\"treeitem\"><a href=\"/doc/av\" title=\"\">Audio/Visual Talks</a></li>\\n    \\n        <li class=\"tier-2 element-3\" role=\"treeitem\"><a href=\"https://wiki.python.org/moin/BeginnersGuide\" title=\"\">Beginner&#39;s Guide</a></li>\\n    \\n        <li class=\"tier-2 element-4\" role=\"treeitem\"><a href=\"https://devguide.python.org/\" title=\"\">Developer&#39;s Guide</a></li>\\n    \\n        <li class=\"tier-2 element-5\" role=\"treeitem\"><a href=\"https://docs.python.org/faq/\" title=\"\">FAQ</a></li>\\n    \\n        <li class=\"tier-2 element-6\" role=\"treeitem\"><a href=\"http://wiki.python.org/moin/Languages\" title=\"\">Non-English Docs</a></li>\\n    \\n        <li class=\"tier-2 element-7\" role=\"treeitem\"><a href=\"http://python.org/dev/peps/\" title=\"\">PEP Index</a></li>\\n    \\n        <li class=\"tier-2 element-8\" role=\"treeitem\"><a href=\"https://wiki.python.org/moin/PythonBooks\" title=\"\">Python Books</a></li>\\n    \\n        <li class=\"tier-2 element-9\" role=\"treeitem\"><a href=\"/doc/essays/\" title=\"\">Python Essays</a></li>\\n    \\n</ul>\\n\\n        \\n    </li>\\n    \\n    \\n    \\n    <li id=\"community\" class=\"tier-1 element-4  \" aria-haspopup=\"true\">\\n        <a href=\"/community/\" title=\"\" class=\"\">Community</a>\\n        \\n            \\n\\n<ul class=\"subnav menu\" role=\"menu\" aria-hidden=\"true\">\\n    \\n        <li class=\"tier-2 element-1\" role=\"treeitem\"><a href=\"/community/survey\" title=\"\">Community Survey</a></li>\\n    \\n        <li class=\"tier-2 element-2\" role=\"treeitem\"><a href=\"/community/diversity/\" title=\"\">Diversity</a></li>\\n    \\n        <li class=\"tier-2 element-3\" role=\"treeitem\"><a href=\"/community/lists/\" title=\"\">Mailing Lists</a></li>\\n    \\n        <li class=\"tier-2 element-4\" role=\"treeitem\"><a href=\"/community/irc/\" title=\"\">IRC</a></li>\\n    \\n        <li class=\"tier-2 element-5\" role=\"treeitem\"><a href=\"/community/forums/\" title=\"\">Forums</a></li>\\n    \\n        <li class=\"tier-2 element-6\" role=\"treeitem\"><a href=\"/psf/annual-report/2019/\" title=\"\">PSF Annual Impact Report</a></li>\\n    \\n        <li class=\"tier-2 element-7\" role=\"treeitem\"><a href=\"/community/workshops/\" title=\"\">Python Conferences</a></li>\\n    \\n        <li class=\"tier-2 element-8\" role=\"treeitem\"><a href=\"/community/sigs/\" title=\"\">Special Interest Groups</a></li>\\n    \\n        <li class=\"tier-2 element-9\" role=\"treeitem\"><a href=\"/community/logos/\" title=\"\">Python Logo</a></li>\\n    \\n        <li class=\"tier-2 element-10\" role=\"treeitem\"><a href=\"https://wiki.python.org/moin/\" title=\"\">Python Wiki</a></li>\\n    \\n        <li class=\"tier-2 element-11\" role=\"treeitem\"><a href=\"/community/merchandise/\" title=\"\">Merchandise</a></li>\\n    \\n        <li class=\"tier-2 element-12\" role=\"treeitem\"><a href=\"/community/awards\" title=\"\">Community Awards</a></li>\\n    \\n        <li class=\"tier-2 element-13\" role=\"treeitem\"><a href=\"/psf/conduct/\" title=\"\">Code of Conduct</a></li>\\n    \\n</ul>\\n\\n        \\n    </li>\\n    \\n    \\n    \\n    <li id=\"success-stories\" class=\"tier-1 element-5  \" aria-haspopup=\"true\">\\n        <a href=\"/success-stories/\" title=\"success-stories\" class=\"\">Success Stories</a>\\n        \\n            \\n\\n<ul class=\"subnav menu\" role=\"menu\" aria-hidden=\"true\">\\n    \\n        <li class=\"tier-2 element-1\" role=\"treeitem\"><a href=\"/success-stories/category/arts/\" title=\"\">Arts</a></li>\\n    \\n        <li class=\"tier-2 element-2\" role=\"treeitem\"><a href=\"/success-stories/category/business/\" title=\"\">Business</a></li>\\n    \\n        <li class=\"tier-2 element-3\" role=\"treeitem\"><a href=\"/success-stories/category/education/\" title=\"\">Education</a></li>\\n    \\n        <li class=\"tier-2 element-4\" role=\"treeitem\"><a href=\"/success-stories/category/engineering/\" title=\"\">Engineering</a></li>\\n    \\n        <li class=\"tier-2 element-5\" role=\"treeitem\"><a href=\"/success-stories/category/government/\" title=\"\">Government</a></li>\\n    \\n        <li class=\"tier-2 element-6\" role=\"treeitem\"><a href=\"/success-stories/category/scientific/\" title=\"\">Scientific</a></li>\\n    \\n        <li class=\"tier-2 element-7\" role=\"treeitem\"><a href=\"/success-stories/category/software-development/\" title=\"\">Software Development</a></li>\\n    \\n</ul>\\n\\n        \\n    </li>\\n    \\n    \\n    \\n    <li id=\"news\" class=\"tier-1 element-6  \" aria-haspopup=\"true\">\\n        <a href=\"/blogs/\" title=\"News from around the Python world\" class=\"\">News</a>\\n        \\n            \\n\\n<ul class=\"subnav menu\" role=\"menu\" aria-hidden=\"true\">\\n    \\n        <li class=\"tier-2 element-1\" role=\"treeitem\"><a href=\"/blogs/\" title=\"Python Insider Blog Posts\">Python News</a></li>\\n    \\n        <li class=\"tier-2 element-2\" role=\"treeitem\"><a href=\"/psf/newsletter/\" title=\"Python Software Foundation Newsletter\">PSF Newsletter</a></li>\\n    \\n        <li class=\"tier-2 element-3\" role=\"treeitem\"><a href=\"http://planetpython.org/\" title=\"Planet Python\">Community News</a></li>\\n    \\n        <li class=\"tier-2 element-4\" role=\"treeitem\"><a href=\"http://pyfound.blogspot.com/\" title=\"PSF Blog\">PSF News</a></li>\\n    \\n        <li class=\"tier-2 element-5\" role=\"treeitem\"><a href=\"http://pycon.blogspot.com/\" title=\"PyCon Blog\">PyCon News</a></li>\\n    \\n</ul>\\n\\n        \\n    </li>\\n    \\n    \\n    \\n    <li id=\"events\" class=\"tier-1 element-7  \" aria-haspopup=\"true\">\\n        <a href=\"/events/\" title=\"\" class=\"\">Events</a>\\n        \\n            \\n\\n<ul class=\"subnav menu\" role=\"menu\" aria-hidden=\"true\">\\n    \\n        <li class=\"tier-2 element-1\" role=\"treeitem\"><a href=\"/events/python-events\" title=\"\">Python Events</a></li>\\n    \\n        <li class=\"tier-2 element-2\" role=\"treeitem\"><a href=\"/events/python-user-group/\" title=\"\">User Group Events</a></li>\\n    \\n        <li class=\"tier-2 element-3\" role=\"treeitem\"><a href=\"/events/python-events/past/\" title=\"\">Python Events Archive</a></li>\\n    \\n        <li class=\"tier-2 element-4\" role=\"treeitem\"><a href=\"/events/python-user-group/past/\" title=\"\">User Group Events Archive</a></li>\\n    \\n        <li class=\"tier-2 element-5\" role=\"treeitem\"><a href=\"https://wiki.python.org/moin/PythonEventsCalendar#Submitting_an_Event\" title=\"\">Submit an Event</a></li>\\n    \\n</ul>\\n\\n        \\n    </li>\\n    \\n    \\n    \\n    \\n  \\n</ul>\\n\\n                    \\n                </nav>\\n\\n                <div class=\"header-banner \"> <!-- for optional \"do-not-print\" class -->\\n                    \\n        <div id=\"dive-into-python\" class=\"flex-slideshow slideshow\">\\n\\n            <ul class=\"launch-shell menu\" id=\"launch-shell\">\\n                <li>\\n                    <a class=\"button prompt\" id=\"start-shell\" data-shell-container=\"#dive-into-python\" href=\"/shell/\">&gt;_\\n                        <span class=\"message\">Launch Interactive Shell</span>\\n                    </a>\\n                </li>\\n            </ul>\\n\\n            <ul class=\"slides menu\">\\n                \\n                <li>\\n                    <div class=\"slide-code\"><pre><code><span class=\"comment\"># Python 3: Fibonacci series up to n</span>\\r\\n>>> def fib(n):\\r\\n>>>     a, b = 0, 1\\r\\n>>>     while a &lt; n:\\r\\n>>>         print(a, end=\\' \\')\\r\\n>>>         a, b = b, a+b\\r\\n>>>     print()\\r\\n>>> fib(1000)\\r\\n<span class=\"output\">0 1 1 2 3 5 8 13 21 34 55 89 144 233 377 610 987</span></code></pre></div>\\n                    <div class=\"slide-copy\"><h1>Functions Defined</h1>\\r\\n<p>The core of extensible programming is defining functions. Python allows mandatory and optional arguments, keyword arguments, and even arbitrary argument lists. <a href=\"//docs.python.org/3/tutorial/controlflow.html#defining-functions\">More about defining functions in Python&nbsp;3</a></p></div>\\n                </li>\\n                \\n                <li>\\n                    <div class=\"slide-code\"><pre><code><span class=\"comment\"># Python 3: List comprehensions</span>\\r\\n>>> fruits = [\\'Banana\\', \\'Apple\\', \\'Lime\\']\\r\\n>>> loud_fruits = [fruit.upper() for fruit in fruits]\\r\\n>>> print(loud_fruits)\\r\\n<span class=\"output\">[\\'BANANA\\', \\'APPLE\\', \\'LIME\\']</span>\\r\\n\\r\\n<span class=\"comment\"># List and the enumerate function</span>\\r\\n>>> list(enumerate(fruits))\\r\\n<span class=\"output\">[(0, \\'Banana\\'), (1, \\'Apple\\'), (2, \\'Lime\\')]</span></code></pre></div>\\n                    <div class=\"slide-copy\"><h1>Compound Data Types</h1>\\r\\n<p>Lists (known as arrays in other languages) are one of the compound data types that Python understands. Lists can be indexed, sliced and manipulated with other built-in functions. <a href=\"//docs.python.org/3/tutorial/introduction.html#lists\">More about lists in Python&nbsp;3</a></p></div>\\n                </li>\\n                \\n                <li>\\n                    <div class=\"slide-code\"><pre><code><span class=\"comment\"># Python 3: Simple arithmetic</span>\\r\\n>>> 1 / 2\\r\\n<span class=\"output\">0.5</span>\\r\\n>>> 2 ** 3\\r\\n<span class=\"output\">8</span>\\r\\n>>> 17 / 3  <span class=\"comment\"># classic division returns a float</span>\\r\\n<span class=\"output\">5.666666666666667</span>\\r\\n>>> 17 // 3  <span class=\"comment\"># floor division</span>\\r\\n<span class=\"output\">5</span></code></pre></div>\\n                    <div class=\"slide-copy\"><h1>Intuitive Interpretation</h1>\\r\\n<p>Calculations are simple with Python, and expression syntax is straightforward: the operators <code>+</code>, <code>-</code>, <code>*</code> and <code>/</code> work as expected; parentheses <code>()</code> can be used for grouping. <a href=\"http://docs.python.org/3/tutorial/introduction.html#using-python-as-a-calculator\">More about simple math functions in Python&nbsp;3</a>.</p></div>\\n                </li>\\n                \\n                <li>\\n                    <div class=\"slide-code\"><pre><code><span class=\"comment\"># Python 3: Simple output (with Unicode)</span>\\r\\n>>> print(\"Hello, I\\'m Python!\")\\r\\n<span class=\"output\">Hello, I\\'m Python!</span>\\r\\n\\r\\n<span class=\"comment\"># Input, assignment</span>\\r\\n>>> name = input(\\'What is your name?\\\\n\\')\\r\\n>>> print(\\'Hi, %s.\\' % name)\\r\\n<span class=\"output\">What is your name?\\r\\nPython\\r\\nHi, Python.</span></code></pre></div>\\n                    <div class=\"slide-copy\"><h1>Quick &amp; Easy to Learn</h1>\\r\\n<p>Experienced programmers in any other language can pick up Python very quickly, and beginners find the clean syntax and indentation structure easy to learn. <a href=\"//docs.python.org/3/tutorial/\">Whet your appetite</a> with our Python&nbsp;3 overview.</p>\\r\\n                   </div>\\n                </li>\\n                \\n                <li>\\n                    <div class=\"slide-code\"><pre><code><span class=\"comment\"># For loop on a list</span>\\r\\n>>> numbers = [2, 4, 6, 8]\\r\\n>>> product = 1\\r\\n>>> for number in numbers:\\r\\n...    product = product * number\\r\\n... \\r\\n>>> print(\\'The product is:\\', product)\\r\\n<span class=\"output\">The product is: 384</span></code></pre></div>\\n                    <div class=\"slide-copy\"><h1>All the Flow You&rsquo;d Expect</h1>\\r\\n<p>Python knows the usual control flow statements that other languages speak &mdash; <code>if</code>, <code>for</code>, <code>while</code> and <code>range</code> &mdash; with some of its own twists, of course. <a href=\"//docs.python.org/3/tutorial/controlflow.html\">More control flow tools in Python&nbsp;3</a></p></div>\\n                </li>\\n                \\n            </ul>\\n        </div>\\n\\n\\n                </div>\\n\\n                \\n        <div class=\"introduction\">\\n            <p>Python is a programming language that lets you work quickly <span class=\"breaker\"></span>and integrate systems more effectively. <a class=\"readmore\" href=\"/doc/\">Learn More</a></p>\\n        </div>\\n\\n\\n             </div><!-- end .container -->\\n        </header>\\n\\n        <div id=\"content\" class=\"content-wrapper\">\\n            <!-- Main Content Column -->\\n            <div class=\"container\">\\n\\n                <section class=\"main-content \" role=\"main\">\\n\\n                    \\n                    \\n\\n                    \\n\\n                    \\n\\n                \\n\\n                <div class=\"row\">\\n\\n                    <div class=\"small-widget get-started-widget\">\\n                        <h2 class=\"widget-title\"><span aria-hidden=\"true\" class=\"icon-get-started\"></span>Get Started</h2>\\r\\n<p>Whether you\\'re new to programming or an experienced developer, it\\'s easy to learn and use Python.</p>\\r\\n<p><a href=\"/about/gettingstarted/\">Start with our Beginner&rsquo;s Guide</a></p>\\n                    </div>\\n\\n                    <div class=\"small-widget download-widget\">\\n                        <h2 class=\"widget-title\"><span aria-hidden=\"true\" class=\"icon-download\"></span>Download</h2>\\n<p>Python source code and installers are available for download for all versions!</p>\\n<p>Latest: <a href=\"/downloads/release/python-382/\">Python 3.8.2</a></p>\\n                    </div>\\n\\n                    <div class=\"small-widget documentation-widget\">\\n                        <h2 class=\"widget-title\"><span aria-hidden=\"true\" class=\"icon-documentation\"></span>Docs</h2>\\r\\n<p>Documentation for Python\\'s standard library, along with tutorials and guides, are available online.</p>\\r\\n<p><a href=\"https://docs.python.org\">docs.python.org</a></p>\\n                    </div>\\n\\n                    <div class=\"small-widget jobs-widget last\">\\n                        <h2 class=\"widget-title\"><span aria-hidden=\"true\" class=\"icon-jobs\"></span>Jobs</h2>\\r\\n<p>Looking for work or have a Python related position that you\\'re trying to hire for? Our <strong>relaunched community-run job board</strong> is the place to go.</p>\\r\\n<p><a href=\"//jobs.python.org\">jobs.python.org</a></p>\\n                    </div>\\n\\n                </div>\\n\\n                <div class=\"list-widgets row\">\\n\\n                    <div class=\"medium-widget blog-widget\">\\n                        \\n                        <div class=\"shrubbery\">\\n                        \\n                            <h2 class=\"widget-title\"><span aria-hidden=\"true\" class=\"icon-news\"></span>Latest News</h2>\\n                            <p class=\"give-me-more\"><a href=\"https://blog.python.org\" title=\"More News\">More</a></p>\\n                            \\n                            <ul class=\"menu\">\\n                                \\n                                \\n                                <li>\\n<time datetime=\"2020-04-06T15:02:00+00:00\"><span class=\"say-no-more\">2020-</span>04-06</time>\\n <a href=\"http://feedproxy.google.com/~r/PythonSoftwareFoundationNews/~3/jik63d3gqes/python-software-foundation-fellow.html\">Python Software Foundation Fellow Members for Q1 2020</a></li>\\n                                \\n                                <li>\\n<time datetime=\"2020-04-06T14:40:00+00:00\"><span class=\"say-no-more\">2020-</span>04-06</time>\\n <a href=\"http://feedproxy.google.com/~r/PythonInsider/~3/K1JPIqUkG1o/python-2718-release-candidate-1.html\">Python 2.7.18 release candidate 1 available</a></li>\\n                                \\n                                <li>\\n<time datetime=\"2020-04-03T15:41:00.000004+00:00\"><span class=\"say-no-more\">2020-</span>04-03</time>\\n <a href=\"http://feedproxy.google.com/~r/PythonSoftwareFoundationNews/~3/B7IZS03_Ajc/sponsoring-python-packaging.html\">Announcing a new Sponsorship Program for Python Packaging</a></li>\\n                                \\n                                <li>\\n<time datetime=\"2020-03-31T15:00:00.000001+00:00\"><span class=\"say-no-more\">2020-</span>03-31</time>\\n <a href=\"http://feedproxy.google.com/~r/PythonSoftwareFoundationNews/~3/ft6nIyIxM-w/psfs-projected-2020-financial-outcome.html\">PSF&#39;s Projected 2020 Financial Outcome</a></li>\\n                                \\n                                <li>\\n<time datetime=\"2020-03-23T23:39:00+00:00\"><span class=\"say-no-more\">2020-</span>03-23</time>\\n <a href=\"http://feedproxy.google.com/~r/PythonInsider/~3/lW-tcArtd80/python-390a5-is-now-available-for.html\">Python 3.9.0a5 is now available for testing</a></li>\\n                                \\n                            </ul>\\n                        </div><!-- end .shrubbery -->\\n\\n                    </div>\\n\\n                    <div class=\"medium-widget event-widget last\">\\n                        \\n                        <div class=\"shrubbery\">\\n                        \\n                            <h2 class=\"widget-title\"><span aria-hidden=\"true\" class=\"icon-calendar\"></span>Upcoming Events</h2>\\n                            <p class=\"give-me-more\"><a href=\"/events/calendars/\" title=\"More Events\">More</a></p>\\n                            \\n                            <ul class=\"menu\">\\n                                \\n                                \\n                                \\n                                <li>\\n<time datetime=\"2020-04-15T00:00:00+00:00\"><span class=\"say-no-more\">2020-</span>04-15</time>\\n <a href=\"/events/python-events/894/\">PyCon US 2020</a></li>\\n                                \\n                                \\n                                \\n                                <li>\\n<time datetime=\"2020-04-18T00:00:00+00:00\"><span class=\"say-no-more\">2020-</span>04-18</time>\\n <a href=\"/events/python-events/910/\">DragonPy 2020</a></li>\\n                                \\n                                \\n                                \\n                                <li>\\n<time datetime=\"2020-04-22T16:00:00+00:00\"><span class=\"say-no-more\">2020-</span>04-22</time>\\n <a href=\"/events/python-user-group/913/\">Python Meeting D\\xc3\\xbcsseldorf</a></li>\\n                                \\n                                \\n                                \\n                                <li>\\n<time datetime=\"2020-04-25T00:00:00+00:00\"><span class=\"say-no-more\">2020-</span>04-25</time>\\n <a href=\"/events/python-events/965/\">Remote Python Pizza</a></li>\\n                                \\n                                \\n                                \\n                                <li>\\n<time datetime=\"2020-04-25T00:00:00+00:00\"><span class=\"say-no-more\">2020-</span>04-25</time>\\n <a href=\"/events/python-user-group/909/\">PythonCamp 2020 - Cologne</a></li>\\n                                \\n                                \\n                            </ul>\\n                        </div>\\n\\n                    </div>\\n\\n                </div>\\n\\n                <div class=\"row\">\\n\\n                    <div class=\"medium-widget success-stories-widget\">\\n                        \\n\\n\\n\\n                        <div class=\"shrubbery\">\\n                            \\n\\n                            <h2 class=\"widget-title\"><span aria-hidden=\"true\" class=\"icon-success-stories\"></span>Success Stories</h2>\\n                            <p class=\"give-me-more\"><a href=\"/success-stories/\" title=\"More Success Stories\">More</a></p>\\n\\n                            \\n                            <div class=\"success-story-item\" id=\"success-story-836\">\\n\\n                            <blockquote>\\n                                <a href=\"/success-stories/python-seo-link-analyzer/\">&quot;Python is all about automating repetitive tasks, leaving more time for your other SEO efforts.&quot;</a>\\n                            </blockquote>\\n\\n                            <table cellpadding=\"0\" cellspacing=\"0\" border=\"0\" width=\"100%\" class=\"quote-from\">\\n                                <tbody>\\n                                    <tr>\\n                                        \\n                                        <td><p><a href=\"/success-stories/python-seo-link-analyzer/\">Using Python scripts to analyse SEO and broken links on your site</a> <em>by Marnix de Munck</em></p></td>\\n                                    </tr>\\n                                </tbody>\\n                            </table>\\n                            </div>\\n                            \\n\\n                        </div><!-- end .shrubbery -->\\n\\n                    </div>\\n\\n                    <div class=\"medium-widget applications-widget last\">\\n                        <div class=\"shrubbery\">\\n                            <h2 class=\"widget-title\"><span aria-hidden=\"true\" class=\"icon-python\"></span>Use Python for&hellip;</h2>\\r\\n<p class=\"give-me-more\"><a href=\"/about/apps\" title=\"More Applications\">More</a></p>\\r\\n\\r\\n<ul class=\"menu\">\\r\\n    <li><b>Web Development</b>:\\r\\n        <span class=\"tag-wrapper\"><a class=\"tag\" href=\"http://www.djangoproject.com/\">Django</a>, <a class=\"tag\" href=\"http://www.pylonsproject.org/\">Pyramid</a>, <a class=\"tag\" href=\"http://bottlepy.org\">Bottle</a>, <a class=\"tag\" href=\"http://tornadoweb.org\">Tornado</a>, <a href=\"http://flask.pocoo.org/\" class=\"tag\">Flask</a>, <a class=\"tag\" href=\"http://www.web2py.com/\">web2py</a></span></li>\\r\\n    <li><b>GUI Development</b>:\\r\\n        <span class=\"tag-wrapper\"><a class=\"tag\" href=\"http://wiki.python.org/moin/TkInter\">tkInter</a>, <a class=\"tag\" href=\"https://wiki.gnome.org/Projects/PyGObject\">PyGObject</a>, <a class=\"tag\" href=\"http://www.riverbankcomputing.co.uk/software/pyqt/intro\">PyQt</a>, <a class=\"tag\" href=\"https://wiki.qt.io/PySide\">PySide</a>, <a class=\"tag\" href=\"https://kivy.org/\">Kivy</a>, <a class=\"tag\" href=\"http://www.wxpython.org/\">wxPython</a></span></li>\\r\\n    <li><b>Scientific and Numeric</b>:\\r\\n        <span class=\"tag-wrapper\">\\r\\n<a class=\"tag\" href=\"http://www.scipy.org\">SciPy</a>, <a class=\"tag\" href=\"http://pandas.pydata.org/\">Pandas</a>, <a href=\"http://ipython.org\" class=\"tag\">IPython</a></span></li>\\r\\n    <li><b>Software Development</b>:\\r\\n        <span class=\"tag-wrapper\"><a class=\"tag\" href=\"http://buildbot.net/\">Buildbot</a>, <a class=\"tag\" href=\"http://trac.edgewall.org/\">Trac</a>, <a class=\"tag\" href=\"http://roundup.sourceforge.net/\">Roundup</a></span></li>\\r\\n    <li><b>System Administration</b>:\\r\\n        <span class=\"tag-wrapper\"><a class=\"tag\" href=\"http://www.ansible.com\">Ansible</a>, <a class=\"tag\" href=\"http://www.saltstack.com\">Salt</a>, <a class=\"tag\" href=\"https://www.openstack.org\">OpenStack</a></span></li>\\r\\n</ul>\\r\\n\\n                        </div><!-- end .shrubbery -->\\n                    </div>\\n\\n                </div>\\n\\n                \\n                <div class=\"pep-widget\">\\n\\n                    <h2 class=\"widget-title\">\\n                        <span class=\"prompt\">&gt;&gt;&gt;</span> <a href=\"/dev/peps/\">Python Enhancement Proposals<span class=\"say-no-more\"> (PEPs)</span></a>: The future of Python<span class=\"say-no-more\"> is discussed here.</span>\\n                        <a aria-hidden=\"true\" class=\"rss-link\" href=\"/dev/peps/peps.rss\"><span class=\"icon-feed\"></span> RSS</a>\\n                    </h2>\\n\\n\\n                    \\n                    \\n                </div>\\n\\n                                <div class=\"psf-widget\">\\n\\n                    <div class=\"python-logo\"></div>\\n                    \\n                    <h2 class=\"widget-title\">\\r\\n    <span class=\"prompt\">&gt;&gt;&gt;</span> <a href=\"/psf/\">Python Software Foundation</a>\\r\\n</h2>\\r\\n<p>The mission of the Python Software Foundation is to promote, protect, and advance the Python programming language, and to support and facilitate the growth of a diverse and international community of Python programmers. <a class=\"readmore\" href=\"/psf/\">Learn more</a> </p>\\r\\n<p class=\"click-these\">\\r\\n    <a class=\"button\" href=\"/users/membership/\">Become a Member</a>\\r\\n    <a class=\"button\" href=\"/psf/donations/\">Donate to the PSF</a>\\r\\n</p>\\n                </div>\\n\\n\\n\\n\\n                </section>\\n\\n                \\n                \\n\\n                \\n                \\n\\n\\n            </div><!-- end .container -->\\n        </div><!-- end #content .content-wrapper -->\\n\\n        <!-- Footer and social media list -->\\n        <footer id=\"site-map\" class=\"main-footer\" role=\"contentinfo\">\\n            <div class=\"main-footer-links\">\\n                <div class=\"container\">\\n\\n                    \\n                    <a id=\"back-to-top-1\" class=\"jump-link\" href=\"#python-network\"><span aria-hidden=\"true\" class=\"icon-arrow-up\"><span>&#9650;</span></span> Back to Top</a>\\n\\n                    \\n\\n<ul class=\"sitemap navigation menu do-not-print\" role=\"tree\" id=\"container\">\\n    \\n    <li class=\"tier-1 element-1\">\\n        <a href=\"/about/\" >About</a>\\n        \\n            \\n\\n<ul class=\"subnav menu\">\\n    \\n        <li class=\"tier-2 element-1\" role=\"treeitem\"><a href=\"/about/apps/\" title=\"\">Applications</a></li>\\n    \\n        <li class=\"tier-2 element-2\" role=\"treeitem\"><a href=\"/about/quotes/\" title=\"\">Quotes</a></li>\\n    \\n        <li class=\"tier-2 element-3\" role=\"treeitem\"><a href=\"/about/gettingstarted/\" title=\"\">Getting Started</a></li>\\n    \\n        <li class=\"tier-2 element-4\" role=\"treeitem\"><a href=\"/about/help/\" title=\"\">Help</a></li>\\n    \\n        <li class=\"tier-2 element-5\" role=\"treeitem\"><a href=\"http://brochure.getpython.info/\" title=\"\">Python Brochure</a></li>\\n    \\n</ul>\\n\\n        \\n    </li>\\n    \\n    <li class=\"tier-1 element-2\">\\n        <a href=\"/downloads/\" >Downloads</a>\\n        \\n            \\n\\n<ul class=\"subnav menu\">\\n    \\n        <li class=\"tier-2 element-1\" role=\"treeitem\"><a href=\"/downloads/\" title=\"\">All releases</a></li>\\n    \\n        <li class=\"tier-2 element-2\" role=\"treeitem\"><a href=\"/downloads/source/\" title=\"\">Source code</a></li>\\n    \\n        <li class=\"tier-2 element-3\" role=\"treeitem\"><a href=\"/downloads/windows/\" title=\"\">Windows</a></li>\\n    \\n        <li class=\"tier-2 element-4\" role=\"treeitem\"><a href=\"/downloads/mac-osx/\" title=\"\">Mac OS X</a></li>\\n    \\n        <li class=\"tier-2 element-5\" role=\"treeitem\"><a href=\"/download/other/\" title=\"\">Other Platforms</a></li>\\n    \\n        <li class=\"tier-2 element-6\" role=\"treeitem\"><a href=\"https://docs.python.org/3/license.html\" title=\"\">License</a></li>\\n    \\n        <li class=\"tier-2 element-7\" role=\"treeitem\"><a href=\"/download/alternatives\" title=\"\">Alternative Implementations</a></li>\\n    \\n</ul>\\n\\n        \\n    </li>\\n    \\n    <li class=\"tier-1 element-3\">\\n        <a href=\"/doc/\" >Documentation</a>\\n        \\n            \\n\\n<ul class=\"subnav menu\">\\n    \\n        <li class=\"tier-2 element-1\" role=\"treeitem\"><a href=\"/doc/\" title=\"\">Docs</a></li>\\n    \\n        <li class=\"tier-2 element-2\" role=\"treeitem\"><a href=\"/doc/av\" title=\"\">Audio/Visual Talks</a></li>\\n    \\n        <li class=\"tier-2 element-3\" role=\"treeitem\"><a href=\"https://wiki.python.org/moin/BeginnersGuide\" title=\"\">Beginner&#39;s Guide</a></li>\\n    \\n        <li class=\"tier-2 element-4\" role=\"treeitem\"><a href=\"https://devguide.python.org/\" title=\"\">Developer&#39;s Guide</a></li>\\n    \\n        <li class=\"tier-2 element-5\" role=\"treeitem\"><a href=\"https://docs.python.org/faq/\" title=\"\">FAQ</a></li>\\n    \\n        <li class=\"tier-2 element-6\" role=\"treeitem\"><a href=\"http://wiki.python.org/moin/Languages\" title=\"\">Non-English Docs</a></li>\\n    \\n        <li class=\"tier-2 element-7\" role=\"treeitem\"><a href=\"http://python.org/dev/peps/\" title=\"\">PEP Index</a></li>\\n    \\n        <li class=\"tier-2 element-8\" role=\"treeitem\"><a href=\"https://wiki.python.org/moin/PythonBooks\" title=\"\">Python Books</a></li>\\n    \\n        <li class=\"tier-2 element-9\" role=\"treeitem\"><a href=\"/doc/essays/\" title=\"\">Python Essays</a></li>\\n    \\n</ul>\\n\\n        \\n    </li>\\n    \\n    <li class=\"tier-1 element-4\">\\n        <a href=\"/community/\" >Community</a>\\n        \\n            \\n\\n<ul class=\"subnav menu\">\\n    \\n        <li class=\"tier-2 element-1\" role=\"treeitem\"><a href=\"/community/survey\" title=\"\">Community Survey</a></li>\\n    \\n        <li class=\"tier-2 element-2\" role=\"treeitem\"><a href=\"/community/diversity/\" title=\"\">Diversity</a></li>\\n    \\n        <li class=\"tier-2 element-3\" role=\"treeitem\"><a href=\"/community/lists/\" title=\"\">Mailing Lists</a></li>\\n    \\n        <li class=\"tier-2 element-4\" role=\"treeitem\"><a href=\"/community/irc/\" title=\"\">IRC</a></li>\\n    \\n        <li class=\"tier-2 element-5\" role=\"treeitem\"><a href=\"/community/forums/\" title=\"\">Forums</a></li>\\n    \\n        <li class=\"tier-2 element-6\" role=\"treeitem\"><a href=\"/psf/annual-report/2019/\" title=\"\">PSF Annual Impact Report</a></li>\\n    \\n        <li class=\"tier-2 element-7\" role=\"treeitem\"><a href=\"/community/workshops/\" title=\"\">Python Conferences</a></li>\\n    \\n        <li class=\"tier-2 element-8\" role=\"treeitem\"><a href=\"/community/sigs/\" title=\"\">Special Interest Groups</a></li>\\n    \\n        <li class=\"tier-2 element-9\" role=\"treeitem\"><a href=\"/community/logos/\" title=\"\">Python Logo</a></li>\\n    \\n        <li class=\"tier-2 element-10\" role=\"treeitem\"><a href=\"https://wiki.python.org/moin/\" title=\"\">Python Wiki</a></li>\\n    \\n        <li class=\"tier-2 element-11\" role=\"treeitem\"><a href=\"/community/merchandise/\" title=\"\">Merchandise</a></li>\\n    \\n        <li class=\"tier-2 element-12\" role=\"treeitem\"><a href=\"/community/awards\" title=\"\">Community Awards</a></li>\\n    \\n        <li class=\"tier-2 element-13\" role=\"treeitem\"><a href=\"/psf/conduct/\" title=\"\">Code of Conduct</a></li>\\n    \\n</ul>\\n\\n        \\n    </li>\\n    \\n    <li class=\"tier-1 element-5\">\\n        <a href=\"/success-stories/\" title=\"success-stories\">Success Stories</a>\\n        \\n            \\n\\n<ul class=\"subnav menu\">\\n    \\n        <li class=\"tier-2 element-1\" role=\"treeitem\"><a href=\"/success-stories/category/arts/\" title=\"\">Arts</a></li>\\n    \\n        <li class=\"tier-2 element-2\" role=\"treeitem\"><a href=\"/success-stories/category/business/\" title=\"\">Business</a></li>\\n    \\n        <li class=\"tier-2 element-3\" role=\"treeitem\"><a href=\"/success-stories/category/education/\" title=\"\">Education</a></li>\\n    \\n        <li class=\"tier-2 element-4\" role=\"treeitem\"><a href=\"/success-stories/category/engineering/\" title=\"\">Engineering</a></li>\\n    \\n        <li class=\"tier-2 element-5\" role=\"treeitem\"><a href=\"/success-stories/category/government/\" title=\"\">Government</a></li>\\n    \\n        <li class=\"tier-2 element-6\" role=\"treeitem\"><a href=\"/success-stories/category/scientific/\" title=\"\">Scientific</a></li>\\n    \\n        <li class=\"tier-2 element-7\" role=\"treeitem\"><a href=\"/success-stories/category/software-development/\" title=\"\">Software Development</a></li>\\n    \\n</ul>\\n\\n        \\n    </li>\\n    \\n    <li class=\"tier-1 element-6\">\\n        <a href=\"/blogs/\" title=\"News from around the Python world\">News</a>\\n        \\n            \\n\\n<ul class=\"subnav menu\">\\n    \\n        <li class=\"tier-2 element-1\" role=\"treeitem\"><a href=\"/blogs/\" title=\"Python Insider Blog Posts\">Python News</a></li>\\n    \\n        <li class=\"tier-2 element-2\" role=\"treeitem\"><a href=\"/psf/newsletter/\" title=\"Python Software Foundation Newsletter\">PSF Newsletter</a></li>\\n    \\n        <li class=\"tier-2 element-3\" role=\"treeitem\"><a href=\"http://planetpython.org/\" title=\"Planet Python\">Community News</a></li>\\n    \\n        <li class=\"tier-2 element-4\" role=\"treeitem\"><a href=\"http://pyfound.blogspot.com/\" title=\"PSF Blog\">PSF News</a></li>\\n    \\n        <li class=\"tier-2 element-5\" role=\"treeitem\"><a href=\"http://pycon.blogspot.com/\" title=\"PyCon Blog\">PyCon News</a></li>\\n    \\n</ul>\\n\\n        \\n    </li>\\n    \\n    <li class=\"tier-1 element-7\">\\n        <a href=\"/events/\" >Events</a>\\n        \\n            \\n\\n<ul class=\"subnav menu\">\\n    \\n        <li class=\"tier-2 element-1\" role=\"treeitem\"><a href=\"/events/python-events\" title=\"\">Python Events</a></li>\\n    \\n        <li class=\"tier-2 element-2\" role=\"treeitem\"><a href=\"/events/python-user-group/\" title=\"\">User Group Events</a></li>\\n    \\n        <li class=\"tier-2 element-3\" role=\"treeitem\"><a href=\"/events/python-events/past/\" title=\"\">Python Events Archive</a></li>\\n    \\n        <li class=\"tier-2 element-4\" role=\"treeitem\"><a href=\"/events/python-user-group/past/\" title=\"\">User Group Events Archive</a></li>\\n    \\n        <li class=\"tier-2 element-5\" role=\"treeitem\"><a href=\"https://wiki.python.org/moin/PythonEventsCalendar#Submitting_an_Event\" title=\"\">Submit an Event</a></li>\\n    \\n</ul>\\n\\n        \\n    </li>\\n    \\n    <li class=\"tier-1 element-8\">\\n        <a href=\"/dev/\" >Contributing</a>\\n        \\n            \\n\\n<ul class=\"subnav menu\">\\n    \\n        <li class=\"tier-2 element-1\" role=\"treeitem\"><a href=\"https://devguide.python.org/\" title=\"\">Developer&#39;s Guide</a></li>\\n    \\n        <li class=\"tier-2 element-2\" role=\"treeitem\"><a href=\"https://bugs.python.org/\" title=\"\">Issue Tracker</a></li>\\n    \\n        <li class=\"tier-2 element-3\" role=\"treeitem\"><a href=\"https://mail.python.org/mailman/listinfo/python-dev\" title=\"\">python-dev list</a></li>\\n    \\n        <li class=\"tier-2 element-4\" role=\"treeitem\"><a href=\"/dev/core-mentorship/\" title=\"\">Core Mentorship</a></li>\\n    \\n        <li class=\"tier-2 element-5\" role=\"treeitem\"><a href=\"/dev/security/\" title=\"\">Report a Security Issue</a></li>\\n    \\n</ul>\\n\\n        \\n    </li>\\n    \\n</ul>\\n\\n\\n                    <a id=\"back-to-top-2\" class=\"jump-link\" href=\"#python-network\"><span aria-hidden=\"true\" class=\"icon-arrow-up\"><span>&#9650;</span></span> Back to Top</a>\\n                    \\n\\n                </div><!-- end .container -->\\n            </div> <!-- end .main-footer-links -->\\n\\n            <div class=\"site-base\">\\n                <div class=\"container\">\\n                    \\n                    <ul class=\"footer-links navigation menu do-not-print\" role=\"tree\">\\n                        <li class=\"tier-1 element-1\"><a href=\"/about/help/\">Help &amp; <span class=\"say-no-more\">General</span> Contact</a></li>\\n                        <li class=\"tier-1 element-2\"><a href=\"/community/diversity/\">Diversity <span class=\"say-no-more\">Initiatives</span></a></li>\\n                        <li class=\"tier-1 element-3\"><a href=\"https://github.com/python/pythondotorg/issues\">Submit Website Bug</a></li>\\n                        <li class=\"tier-1 element-4\">\\n                            <a href=\"https://status.python.org/\">Status <span class=\"python-status-indicator-default\" id=\"python-status-indicator\"></span></a>\\n                        </li>\\n                    </ul>\\n\\n                    <div class=\"copyright\">\\n                        <p><small>\\n                            <span class=\"pre\">Copyright &copy;2001-2020.</span>\\n                            &nbsp;<span class=\"pre\"><a href=\"/psf-landing/\">Python Software Foundation</a></span>\\n                            &nbsp;<span class=\"pre\"><a href=\"/about/legal/\">Legal Statements</a></span>\\n                            &nbsp;<span class=\"pre\"><a href=\"/privacy/\">Privacy Policy</a></span>\\n                            &nbsp;<span class=\"pre\"><a href=\"/psf/sponsorship/sponsors/#heroku\">Powered by Heroku</a></span>\\n                        </small></p>\\n                    </div>\\n\\n                </div><!-- end .container -->\\n            </div><!-- end .site-base -->\\n\\n        </footer>\\n\\n    </div><!-- end #touchnav-wrapper -->\\n\\n    \\n    <script src=\"//ajax.googleapis.com/ajax/libs/jquery/1.8.2/jquery.min.js\"></script>\\n    <script>window.jQuery || document.write(\\'<script src=\"/static/js/libs/jquery-1.8.2.min.js\"><\\\\/script>\\')</script>\\n\\n    <script src=\"/static/js/libs/masonry.pkgd.min.js\"></script>\\n    <script src=\"/static/js/libs/html-includes.js\"></script>\\n\\n    <script type=\"text/javascript\" src=\"/static/js/main-min.037d9037f112.js\" charset=\"utf-8\"></script>\\n    \\n\\n    <!--[if lte IE 7]>\\n    <script type=\"text/javascript\" src=\"/static/js/plugins/IE8-min.6dc39b5a0bdb.js\" charset=\"utf-8\"></script>\\n    \\n    \\n    <![endif]-->\\n\\n    <!--[if lte IE 8]>\\n    <script type=\"text/javascript\" src=\"/static/js/plugins/getComputedStyle-min.c3860be1d290.js\" charset=\"utf-8\"></script>\\n    \\n    \\n    <![endif]-->\\n\\n    \\n\\n    \\n    \\n\\n</body>\\n</html>\\n'"
      ]
     },
     "execution_count": 170,
     "metadata": {},
     "output_type": "execute_result"
    }
   ],
   "source": [
    "r.read()"
   ]
  },
  {
   "cell_type": "code",
   "execution_count": 171,
   "metadata": {},
   "outputs": [
    {
     "name": "stdout",
     "output_type": "stream",
     "text": [
      "Requirement already satisfied: requests2 in /Users/chandrashekar/anaconda3/lib/python3.7/site-packages (2.16.0)\n",
      "Requirement already satisfied: certifi>=2017.4.17 in /Users/chandrashekar/anaconda3/lib/python3.7/site-packages (from requests2) (2019.11.28)\n",
      "Collecting idna<2.6,>=2.5\n",
      "  Using cached idna-2.5-py2.py3-none-any.whl (55 kB)\n",
      "Collecting urllib3<1.22,>=1.21.1\n",
      "  Using cached urllib3-1.21.1-py2.py3-none-any.whl (131 kB)\n",
      "Requirement already satisfied: chardet<3.1.0,>=3.0.2 in /Users/chandrashekar/anaconda3/lib/python3.7/site-packages (from requests2) (3.0.4)\n",
      "Installing collected packages: idna, urllib3\n",
      "  Attempting uninstall: idna\n",
      "    Found existing installation: idna 2.9\n",
      "    Uninstalling idna-2.9:\n",
      "      Successfully uninstalled idna-2.9\n",
      "  Attempting uninstall: urllib3\n",
      "    Found existing installation: urllib3 1.25.8\n",
      "    Uninstalling urllib3-1.25.8:\n",
      "      Successfully uninstalled urllib3-1.25.8\n",
      "Successfully installed idna-2.5 urllib3-1.21.1\n",
      "Note: you may need to restart the kernel to use updated packages.\n"
     ]
    }
   ],
   "source": [
    "pip install requests2"
   ]
  },
  {
   "cell_type": "code",
   "execution_count": 173,
   "metadata": {},
   "outputs": [
    {
     "data": {
      "text/plain": [
       "<Response [200]>"
      ]
     },
     "execution_count": 173,
     "metadata": {},
     "output_type": "execute_result"
    }
   ],
   "source": [
    "import requests\n",
    "r = requests.get(\"http://www.python.org/\")\n",
    "r"
   ]
  },
  {
   "cell_type": "code",
   "execution_count": 174,
   "metadata": {},
   "outputs": [
    {
     "data": {
      "text/plain": [
       "True"
      ]
     },
     "execution_count": 174,
     "metadata": {},
     "output_type": "execute_result"
    }
   ],
   "source": [
    "r.ok"
   ]
  },
  {
   "cell_type": "code",
   "execution_count": 175,
   "metadata": {},
   "outputs": [
    {
     "data": {
      "text/plain": [
       "200"
      ]
     },
     "execution_count": 175,
     "metadata": {},
     "output_type": "execute_result"
    }
   ],
   "source": [
    "r.status_code"
   ]
  },
  {
   "cell_type": "code",
   "execution_count": 176,
   "metadata": {
    "scrolled": true
   },
   "outputs": [
    {
     "data": {
      "text/plain": [
       "{'Connection': 'keep-alive', 'Content-Length': '48808', 'Server': 'nginx', 'Content-Type': 'text/html; charset=utf-8', 'X-Frame-Options': 'DENY', 'Via': '1.1 vegur, 1.1 varnish, 1.1 varnish', 'Accept-Ranges': 'bytes', 'Date': 'Tue, 07 Apr 2020 08:18:36 GMT', 'Age': '1714', 'X-Served-By': 'cache-bwi5135-BWI, cache-maa18321-MAA', 'X-Cache': 'HIT, HIT', 'X-Cache-Hits': '5, 18', 'X-Timer': 'S1586247516.395062,VS0,VE0', 'Vary': 'Cookie', 'Strict-Transport-Security': 'max-age=63072000; includeSubDomains'}"
      ]
     },
     "execution_count": 176,
     "metadata": {},
     "output_type": "execute_result"
    }
   ],
   "source": [
    "r.headers"
   ]
  },
  {
   "cell_type": "code",
   "execution_count": 178,
   "metadata": {},
   "outputs": [
    {
     "data": {
      "text/plain": [
       "'text/html; charset=utf-8'"
      ]
     },
     "execution_count": 178,
     "metadata": {},
     "output_type": "execute_result"
    }
   ],
   "source": [
    "r.headers[\"Content-Type\"]"
   ]
  },
  {
   "cell_type": "code",
   "execution_count": 180,
   "metadata": {},
   "outputs": [
    {
     "data": {
      "text/plain": [
       "'text/html; charset=utf-8'"
      ]
     },
     "execution_count": 180,
     "metadata": {},
     "output_type": "execute_result"
    }
   ],
   "source": [
    "r.headers[\"CONTENT-type\"]"
   ]
  },
  {
   "cell_type": "code",
   "execution_count": 181,
   "metadata": {},
   "outputs": [
    {
     "data": {
      "text/plain": [
       "b'<!doctype html>\\n<!--[if lt IE 7]>   <html class=\"no-js ie6 lt-ie7 lt-ie8 lt-ie9\">   <![endif]-->\\n<!--[if IE 7]>      <html class=\"no-js ie7 lt-ie8 lt-ie9\">          <![endif]-->\\n<!--[if IE 8]>      <html class=\"no-js ie8 lt-ie9\">                 <![endif]-->\\n<!--[if gt IE 8]><!--><html class=\"no-js\" lang=\"en\" dir=\"ltr\">  <!--<![endif]-->\\n\\n<head>\\n    <meta charset=\"utf-8\">\\n    <meta http-equiv=\"X-UA-Compatible\" content=\"IE=edge\">\\n\\n    <link rel=\"prefetch\" href=\"//ajax.googleapis.com/ajax/libs/jquery/1.8.2/jquery.min.js\">\\n\\n    <meta name=\"application-name\" content=\"Python.org\">\\n    <meta name=\"msapplication-tooltip\" content=\"The official home of the Python Programming Language\">\\n    <meta name=\"apple-mobile-web-app-title\" content=\"Python.org\">\\n    <meta name=\"apple-mobile-web-app-capable\" content=\"yes\">\\n    <meta name=\"apple-mobile-web-app-status-bar-style\" content=\"black\">\\n\\n    <meta name=\"viewport\" content=\"width=device-width, initial-scale=1.0\">\\n    <meta name=\"HandheldFriendly\" content=\"True\">\\n    <meta name=\"format-detection\" content=\"telephone=no\">\\n    <meta http-equiv=\"cleartype\" content=\"on\">\\n    <meta http-equiv=\"imagetoolbar\" content=\"false\">\\n\\n    <script src=\"/static/js/libs/modernizr.js\"></script>\\n\\n    <link href=\"/static/stylesheets/style.67f4b30f7483.css\" rel=\"stylesheet\" type=\"text/css\" title=\"default\" />\\n    <link href=\"/static/stylesheets/mq.3ae8e02ece5b.css\" rel=\"stylesheet\" type=\"text/css\" media=\"not print, braille, embossed, speech, tty\" />\\n    \\n\\n    <!--[if (lte IE 8)&(!IEMobile)]>\\n    <link href=\"/static/stylesheets/no-mq.fcf414dc68a3.css\" rel=\"stylesheet\" type=\"text/css\" media=\"screen\" />\\n    \\n    \\n    <![endif]-->\\n\\n    \\n    <link rel=\"icon\" type=\"image/x-icon\" href=\"/static/favicon.ico\">\\n    <link rel=\"apple-touch-icon-precomposed\" sizes=\"144x144\" href=\"/static/apple-touch-icon-144x144-precomposed.png\">\\n    <link rel=\"apple-touch-icon-precomposed\" sizes=\"114x114\" href=\"/static/apple-touch-icon-114x114-precomposed.png\">\\n    <link rel=\"apple-touch-icon-precomposed\" sizes=\"72x72\" href=\"/static/apple-touch-icon-72x72-precomposed.png\">\\n    <link rel=\"apple-touch-icon-precomposed\" href=\"/static/apple-touch-icon-precomposed.png\">\\n    <link rel=\"apple-touch-icon\" href=\"/static/apple-touch-icon-precomposed.png\">\\n\\n    \\n    <meta name=\"msapplication-TileImage\" content=\"/static/metro-icon-144x144-precomposed.png\"><!-- white shape -->\\n    <meta name=\"msapplication-TileColor\" content=\"#3673a5\"><!-- python blue -->\\n    <meta name=\"msapplication-navbutton-color\" content=\"#3673a5\">\\n\\n    <title>Welcome to Python.org</title>\\n\\n    <meta name=\"description\" content=\"The official home of the Python Programming Language\">\\n    <meta name=\"keywords\" content=\"Python programming language object oriented web free open source software license documentation download community\">\\n\\n    \\n    <meta property=\"og:type\" content=\"website\">\\n    <meta property=\"og:site_name\" content=\"Python.org\">\\n    <meta property=\"og:title\" content=\"Welcome to Python.org\">\\n    <meta property=\"og:description\" content=\"The official home of the Python Programming Language\">\\n    \\n    <meta property=\"og:image\" content=\"https://www.python.org/static/opengraph-icon-200x200.png\">\\n    <meta property=\"og:image:secure_url\" content=\"https://www.python.org/static/opengraph-icon-200x200.png\">\\n    \\n    <meta property=\"og:url\" content=\"https://www.python.org/\">\\n\\n    <link rel=\"author\" href=\"/static/humans.txt\">\\n\\n    <link rel=\"alternate\" type=\"application/rss+xml\" title=\"Python Enhancement Proposals\"\\n          href=\"https://www.python.org/dev/peps/peps.rss/\">\\n    <link rel=\"alternate\" type=\"application/rss+xml\" title=\"Python Job Opportunities\"\\n          href=\"https://www.python.org/jobs/feed/rss/\">\\n    <link rel=\"alternate\" type=\"application/rss+xml\" title=\"Python Software Foundation News\"\\n          href=\"https://feeds.feedburner.com/PythonSoftwareFoundationNews\">\\n    <link rel=\"alternate\" type=\"application/rss+xml\" title=\"Python Insider\"\\n          href=\"https://feeds.feedburner.com/PythonInsider\">\\n\\n    \\n\\n    \\n    <script type=\"application/ld+json\">\\n     {\\n       \"@context\": \"https://schema.org\",\\n       \"@type\": \"WebSite\",\\n       \"url\": \"https://www.python.org/\",\\n       \"potentialAction\": {\\n         \"@type\": \"SearchAction\",\\n         \"target\": \"https://www.python.org/search/?q={search_term_string}\",\\n         \"query-input\": \"required name=search_term_string\"\\n       }\\n     }\\n    </script>\\n\\n    \\n    <script type=\"text/javascript\">\\n    var _gaq = _gaq || [];\\n    _gaq.push([\\'_setAccount\\', \\'UA-39055973-1\\']);\\n    _gaq.push([\\'_trackPageview\\']);\\n\\n    (function() {\\n        var ga = document.createElement(\\'script\\'); ga.type = \\'text/javascript\\'; ga.async = true;\\n        ga.src = (\\'https:\\' == document.location.protocol ? \\'https://ssl\\' : \\'http://www\\') + \\'.google-analytics.com/ga.js\\';\\n        var s = document.getElementsByTagName(\\'script\\')[0]; s.parentNode.insertBefore(ga, s);\\n    })();\\n    </script>\\n    \\n</head>\\n\\n<body class=\"python home\" id=\"homepage\">\\n\\n    <div id=\"touchnav-wrapper\">\\n\\n        <div id=\"nojs\" class=\"do-not-print\">\\n            <p><strong>Notice:</strong> While Javascript is not essential for this website, your interaction with the content will be limited. Please turn Javascript on for the full experience. </p>\\n        </div>\\n\\n        <!--[if lte IE 8]>\\n        <div id=\"oldie-warning\" class=\"do-not-print\">\\n            <p>\\n                <strong>Notice:</strong> Your browser is <em>ancient</em>. Please\\n                <a href=\"http://browsehappy.com/\">upgrade to a different browser</a> to experience a better web.\\n            </p>\\n        </div>\\n        <![endif]-->\\n\\n        <!-- Sister Site Links -->\\n        <div id=\"top\" class=\"top-bar do-not-print\">\\n\\n            <nav class=\"meta-navigation container\" role=\"navigation\">\\n\\n                \\n                <div class=\"skip-link screen-reader-text\">\\n                    <a href=\"#content\" title=\"Skip to content\">Skip to content</a>\\n                </div>\\n\\n                \\n                <a id=\"close-python-network\" class=\"jump-link\" href=\"#python-network\" aria-hidden=\"true\">\\n                    <span aria-hidden=\"true\" class=\"icon-arrow-down\"><span>&#9660;</span></span> Close\\n                </a>\\n\\n                \\n\\n<ul class=\"menu\" role=\"tree\">\\n    \\n    <li class=\"python-meta current_item selectedcurrent_branch selected\">\\n        <a href=\"/\" title=\"The Python Programming Language\" class=\"current_item selectedcurrent_branch selected\">Python</a>\\n    </li>\\n    \\n    <li class=\"psf-meta \">\\n        <a href=\"/psf-landing/\" title=\"The Python Software Foundation\" >PSF</a>\\n    </li>\\n    \\n    <li class=\"docs-meta \">\\n        <a href=\"https://docs.python.org\" title=\"Python Documentation\" >Docs</a>\\n    </li>\\n    \\n    <li class=\"pypi-meta \">\\n        <a href=\"https://pypi.python.org/\" title=\"Python Package Index\" >PyPI</a>\\n    </li>\\n    \\n    <li class=\"jobs-meta \">\\n        <a href=\"/jobs/\" title=\"Python Job Board\" >Jobs</a>\\n    </li>\\n    \\n    <li class=\"shop-meta \">\\n        <a href=\"/community/\" title=\"Python Community\" >Community</a>\\n    </li>\\n    \\n</ul>\\n\\n\\n                <a id=\"python-network\" class=\"jump-link\" href=\"#top\" aria-hidden=\"true\">\\n                    <span aria-hidden=\"true\" class=\"icon-arrow-up\"><span>&#9650;</span></span> The Python Network\\n                </a>\\n\\n            </nav>\\n\\n        </div>\\n\\n        <!-- Header elements -->\\n        <header class=\"main-header\" role=\"banner\">\\n            <div class=\"container\">\\n\\n                <h1 class=\"site-headline\">\\n                    <a href=\"/\"><img class=\"python-logo\" src=\"/static/img/python-logo.png\" alt=\"python&trade;\"></a>\\n                </h1>\\n\\n                <div class=\"options-bar-container do-not-print\">\\n                    <a href=\"https://psfmember.org/civicrm/contribute/transact?reset=1&id=2\" class=\"donate-button\">Donate</a>\\n                    <div class=\"options-bar\">\\n                        \\n                        <a id=\"site-map-link\" class=\"jump-to-menu\" href=\"#site-map\"><span class=\"menu-icon\">&equiv;</span> Menu</a><form class=\"search-the-site\" action=\"/search/\" method=\"get\">\\n                            <fieldset title=\"Search Python.org\">\\n\\n                                <span aria-hidden=\"true\" class=\"icon-search\"></span>\\n\\n                                <label class=\"screen-reader-text\" for=\"id-search-field\">Search This Site</label>\\n                                <input id=\"id-search-field\" name=\"q\" type=\"search\" role=\"textbox\" class=\"search-field\" placeholder=\"Search\" value=\"\" tabindex=\"1\">\\n\\n                                <button type=\"submit\" name=\"submit\" id=\"submit\" class=\"search-button\" title=\"Submit this Search\" tabindex=\"3\">\\n                                    GO\\n                                </button>\\n\\n                                \\n                                <!--[if IE]><input type=\"text\" style=\"display: none;\" disabled=\"disabled\" size=\"1\" tabindex=\"4\"><![endif]-->\\n\\n                            </fieldset>\\n                        </form><span class=\"breaker\"></span><div class=\"adjust-font-size\" aria-hidden=\"true\">\\n                            <ul class=\"navigation menu\" aria-label=\"Adjust Text Size on Page\">\\n                                <li class=\"tier-1 last\" aria-haspopup=\"true\">\\n                                    <a href=\"#\" class=\"action-trigger\"><strong><small>A</small> A</strong></a>\\n                                    <ul class=\"subnav menu\">\\n                                        <li class=\"tier-2 element-1\" role=\"treeitem\"><a class=\"text-shrink\" title=\"Make Text Smaller\" href=\"javascript:;\">Smaller</a></li>\\n                                        <li class=\"tier-2 element-2\" role=\"treeitem\"><a class=\"text-grow\" title=\"Make Text Larger\" href=\"javascript:;\">Larger</a></li>\\n                                        <li class=\"tier-2 element-3\" role=\"treeitem\"><a class=\"text-reset\" title=\"Reset any font size changes I have made\" href=\"javascript:;\">Reset</a></li>\\n                                    </ul>\\n                                </li>\\n                            </ul>\\n                        </div><div class=\"winkwink-nudgenudge\">\\n                            <ul class=\"navigation menu\" aria-label=\"Social Media Navigation\">\\n                                <li class=\"tier-1 last\" aria-haspopup=\"true\">\\n                                    <a href=\"#\" class=\"action-trigger\">Socialize</a>\\n                                    <ul class=\"subnav menu\">\\n                                        <li class=\"tier-2 element-1\" role=\"treeitem\"><a href=\"https://www.facebook.com/pythonlang?fref=ts\"><span aria-hidden=\"true\" class=\"icon-facebook\"></span>Facebook</a></li>\\n                                        <li class=\"tier-2 element-2\" role=\"treeitem\"><a href=\"https://twitter.com/ThePSF\"><span aria-hidden=\"true\" class=\"icon-twitter\"></span>Twitter</a></li>\\n                                        <li class=\"tier-2 element-3\" role=\"treeitem\"><a href=\"/community/irc/\"><span aria-hidden=\"true\" class=\"icon-freenode\"></span>Chat on IRC</a></li>\\n                                    </ul>\\n                                </li>\\n                            </ul>\\n                        </div>\\n                        <span data-html-include=\"/authenticated\"></span>\\n                    </div><!-- end options-bar -->\\n                </div>\\n\\n                <nav id=\"mainnav\" class=\"python-navigation main-navigation do-not-print\" role=\"navigation\">\\n                    \\n                        \\n<ul class=\"navigation menu\" role=\"menubar\" aria-label=\"Main Navigation\">\\n  \\n    \\n    \\n    <li id=\"about\" class=\"tier-1 element-1  \" aria-haspopup=\"true\">\\n        <a href=\"/about/\" title=\"\" class=\"\">About</a>\\n        \\n            \\n\\n<ul class=\"subnav menu\" role=\"menu\" aria-hidden=\"true\">\\n    \\n        <li class=\"tier-2 element-1\" role=\"treeitem\"><a href=\"/about/apps/\" title=\"\">Applications</a></li>\\n    \\n        <li class=\"tier-2 element-2\" role=\"treeitem\"><a href=\"/about/quotes/\" title=\"\">Quotes</a></li>\\n    \\n        <li class=\"tier-2 element-3\" role=\"treeitem\"><a href=\"/about/gettingstarted/\" title=\"\">Getting Started</a></li>\\n    \\n        <li class=\"tier-2 element-4\" role=\"treeitem\"><a href=\"/about/help/\" title=\"\">Help</a></li>\\n    \\n        <li class=\"tier-2 element-5\" role=\"treeitem\"><a href=\"http://brochure.getpython.info/\" title=\"\">Python Brochure</a></li>\\n    \\n</ul>\\n\\n        \\n    </li>\\n    \\n    \\n    \\n    <li id=\"downloads\" class=\"tier-1 element-2  \" aria-haspopup=\"true\">\\n        <a href=\"/downloads/\" title=\"\" class=\"\">Downloads</a>\\n        \\n            \\n\\n<ul class=\"subnav menu\" role=\"menu\" aria-hidden=\"true\">\\n    \\n        <li class=\"tier-2 element-1\" role=\"treeitem\"><a href=\"/downloads/\" title=\"\">All releases</a></li>\\n    \\n        <li class=\"tier-2 element-2\" role=\"treeitem\"><a href=\"/downloads/source/\" title=\"\">Source code</a></li>\\n    \\n        <li class=\"tier-2 element-3\" role=\"treeitem\"><a href=\"/downloads/windows/\" title=\"\">Windows</a></li>\\n    \\n        <li class=\"tier-2 element-4\" role=\"treeitem\"><a href=\"/downloads/mac-osx/\" title=\"\">Mac OS X</a></li>\\n    \\n        <li class=\"tier-2 element-5\" role=\"treeitem\"><a href=\"/download/other/\" title=\"\">Other Platforms</a></li>\\n    \\n        <li class=\"tier-2 element-6\" role=\"treeitem\"><a href=\"https://docs.python.org/3/license.html\" title=\"\">License</a></li>\\n    \\n        <li class=\"tier-2 element-7\" role=\"treeitem\"><a href=\"/download/alternatives\" title=\"\">Alternative Implementations</a></li>\\n    \\n</ul>\\n\\n        \\n    </li>\\n    \\n    \\n    \\n    <li id=\"documentation\" class=\"tier-1 element-3  \" aria-haspopup=\"true\">\\n        <a href=\"/doc/\" title=\"\" class=\"\">Documentation</a>\\n        \\n            \\n\\n<ul class=\"subnav menu\" role=\"menu\" aria-hidden=\"true\">\\n    \\n        <li class=\"tier-2 element-1\" role=\"treeitem\"><a href=\"/doc/\" title=\"\">Docs</a></li>\\n    \\n        <li class=\"tier-2 element-2\" role=\"treeitem\"><a href=\"/doc/av\" title=\"\">Audio/Visual Talks</a></li>\\n    \\n        <li class=\"tier-2 element-3\" role=\"treeitem\"><a href=\"https://wiki.python.org/moin/BeginnersGuide\" title=\"\">Beginner&#39;s Guide</a></li>\\n    \\n        <li class=\"tier-2 element-4\" role=\"treeitem\"><a href=\"https://devguide.python.org/\" title=\"\">Developer&#39;s Guide</a></li>\\n    \\n        <li class=\"tier-2 element-5\" role=\"treeitem\"><a href=\"https://docs.python.org/faq/\" title=\"\">FAQ</a></li>\\n    \\n        <li class=\"tier-2 element-6\" role=\"treeitem\"><a href=\"http://wiki.python.org/moin/Languages\" title=\"\">Non-English Docs</a></li>\\n    \\n        <li class=\"tier-2 element-7\" role=\"treeitem\"><a href=\"http://python.org/dev/peps/\" title=\"\">PEP Index</a></li>\\n    \\n        <li class=\"tier-2 element-8\" role=\"treeitem\"><a href=\"https://wiki.python.org/moin/PythonBooks\" title=\"\">Python Books</a></li>\\n    \\n        <li class=\"tier-2 element-9\" role=\"treeitem\"><a href=\"/doc/essays/\" title=\"\">Python Essays</a></li>\\n    \\n</ul>\\n\\n        \\n    </li>\\n    \\n    \\n    \\n    <li id=\"community\" class=\"tier-1 element-4  \" aria-haspopup=\"true\">\\n        <a href=\"/community/\" title=\"\" class=\"\">Community</a>\\n        \\n            \\n\\n<ul class=\"subnav menu\" role=\"menu\" aria-hidden=\"true\">\\n    \\n        <li class=\"tier-2 element-1\" role=\"treeitem\"><a href=\"/community/survey\" title=\"\">Community Survey</a></li>\\n    \\n        <li class=\"tier-2 element-2\" role=\"treeitem\"><a href=\"/community/diversity/\" title=\"\">Diversity</a></li>\\n    \\n        <li class=\"tier-2 element-3\" role=\"treeitem\"><a href=\"/community/lists/\" title=\"\">Mailing Lists</a></li>\\n    \\n        <li class=\"tier-2 element-4\" role=\"treeitem\"><a href=\"/community/irc/\" title=\"\">IRC</a></li>\\n    \\n        <li class=\"tier-2 element-5\" role=\"treeitem\"><a href=\"/community/forums/\" title=\"\">Forums</a></li>\\n    \\n        <li class=\"tier-2 element-6\" role=\"treeitem\"><a href=\"/psf/annual-report/2019/\" title=\"\">PSF Annual Impact Report</a></li>\\n    \\n        <li class=\"tier-2 element-7\" role=\"treeitem\"><a href=\"/community/workshops/\" title=\"\">Python Conferences</a></li>\\n    \\n        <li class=\"tier-2 element-8\" role=\"treeitem\"><a href=\"/community/sigs/\" title=\"\">Special Interest Groups</a></li>\\n    \\n        <li class=\"tier-2 element-9\" role=\"treeitem\"><a href=\"/community/logos/\" title=\"\">Python Logo</a></li>\\n    \\n        <li class=\"tier-2 element-10\" role=\"treeitem\"><a href=\"https://wiki.python.org/moin/\" title=\"\">Python Wiki</a></li>\\n    \\n        <li class=\"tier-2 element-11\" role=\"treeitem\"><a href=\"/community/merchandise/\" title=\"\">Merchandise</a></li>\\n    \\n        <li class=\"tier-2 element-12\" role=\"treeitem\"><a href=\"/community/awards\" title=\"\">Community Awards</a></li>\\n    \\n        <li class=\"tier-2 element-13\" role=\"treeitem\"><a href=\"/psf/conduct/\" title=\"\">Code of Conduct</a></li>\\n    \\n</ul>\\n\\n        \\n    </li>\\n    \\n    \\n    \\n    <li id=\"success-stories\" class=\"tier-1 element-5  \" aria-haspopup=\"true\">\\n        <a href=\"/success-stories/\" title=\"success-stories\" class=\"\">Success Stories</a>\\n        \\n            \\n\\n<ul class=\"subnav menu\" role=\"menu\" aria-hidden=\"true\">\\n    \\n        <li class=\"tier-2 element-1\" role=\"treeitem\"><a href=\"/success-stories/category/arts/\" title=\"\">Arts</a></li>\\n    \\n        <li class=\"tier-2 element-2\" role=\"treeitem\"><a href=\"/success-stories/category/business/\" title=\"\">Business</a></li>\\n    \\n        <li class=\"tier-2 element-3\" role=\"treeitem\"><a href=\"/success-stories/category/education/\" title=\"\">Education</a></li>\\n    \\n        <li class=\"tier-2 element-4\" role=\"treeitem\"><a href=\"/success-stories/category/engineering/\" title=\"\">Engineering</a></li>\\n    \\n        <li class=\"tier-2 element-5\" role=\"treeitem\"><a href=\"/success-stories/category/government/\" title=\"\">Government</a></li>\\n    \\n        <li class=\"tier-2 element-6\" role=\"treeitem\"><a href=\"/success-stories/category/scientific/\" title=\"\">Scientific</a></li>\\n    \\n        <li class=\"tier-2 element-7\" role=\"treeitem\"><a href=\"/success-stories/category/software-development/\" title=\"\">Software Development</a></li>\\n    \\n</ul>\\n\\n        \\n    </li>\\n    \\n    \\n    \\n    <li id=\"news\" class=\"tier-1 element-6  \" aria-haspopup=\"true\">\\n        <a href=\"/blogs/\" title=\"News from around the Python world\" class=\"\">News</a>\\n        \\n            \\n\\n<ul class=\"subnav menu\" role=\"menu\" aria-hidden=\"true\">\\n    \\n        <li class=\"tier-2 element-1\" role=\"treeitem\"><a href=\"/blogs/\" title=\"Python Insider Blog Posts\">Python News</a></li>\\n    \\n        <li class=\"tier-2 element-2\" role=\"treeitem\"><a href=\"/psf/newsletter/\" title=\"Python Software Foundation Newsletter\">PSF Newsletter</a></li>\\n    \\n        <li class=\"tier-2 element-3\" role=\"treeitem\"><a href=\"http://planetpython.org/\" title=\"Planet Python\">Community News</a></li>\\n    \\n        <li class=\"tier-2 element-4\" role=\"treeitem\"><a href=\"http://pyfound.blogspot.com/\" title=\"PSF Blog\">PSF News</a></li>\\n    \\n        <li class=\"tier-2 element-5\" role=\"treeitem\"><a href=\"http://pycon.blogspot.com/\" title=\"PyCon Blog\">PyCon News</a></li>\\n    \\n</ul>\\n\\n        \\n    </li>\\n    \\n    \\n    \\n    <li id=\"events\" class=\"tier-1 element-7  \" aria-haspopup=\"true\">\\n        <a href=\"/events/\" title=\"\" class=\"\">Events</a>\\n        \\n            \\n\\n<ul class=\"subnav menu\" role=\"menu\" aria-hidden=\"true\">\\n    \\n        <li class=\"tier-2 element-1\" role=\"treeitem\"><a href=\"/events/python-events\" title=\"\">Python Events</a></li>\\n    \\n        <li class=\"tier-2 element-2\" role=\"treeitem\"><a href=\"/events/python-user-group/\" title=\"\">User Group Events</a></li>\\n    \\n        <li class=\"tier-2 element-3\" role=\"treeitem\"><a href=\"/events/python-events/past/\" title=\"\">Python Events Archive</a></li>\\n    \\n        <li class=\"tier-2 element-4\" role=\"treeitem\"><a href=\"/events/python-user-group/past/\" title=\"\">User Group Events Archive</a></li>\\n    \\n        <li class=\"tier-2 element-5\" role=\"treeitem\"><a href=\"https://wiki.python.org/moin/PythonEventsCalendar#Submitting_an_Event\" title=\"\">Submit an Event</a></li>\\n    \\n</ul>\\n\\n        \\n    </li>\\n    \\n    \\n    \\n    \\n  \\n</ul>\\n\\n                    \\n                </nav>\\n\\n                <div class=\"header-banner \"> <!-- for optional \"do-not-print\" class -->\\n                    \\n        <div id=\"dive-into-python\" class=\"flex-slideshow slideshow\">\\n\\n            <ul class=\"launch-shell menu\" id=\"launch-shell\">\\n                <li>\\n                    <a class=\"button prompt\" id=\"start-shell\" data-shell-container=\"#dive-into-python\" href=\"/shell/\">&gt;_\\n                        <span class=\"message\">Launch Interactive Shell</span>\\n                    </a>\\n                </li>\\n            </ul>\\n\\n            <ul class=\"slides menu\">\\n                \\n                <li>\\n                    <div class=\"slide-code\"><pre><code><span class=\"comment\"># Python 3: Fibonacci series up to n</span>\\r\\n>>> def fib(n):\\r\\n>>>     a, b = 0, 1\\r\\n>>>     while a &lt; n:\\r\\n>>>         print(a, end=\\' \\')\\r\\n>>>         a, b = b, a+b\\r\\n>>>     print()\\r\\n>>> fib(1000)\\r\\n<span class=\"output\">0 1 1 2 3 5 8 13 21 34 55 89 144 233 377 610 987</span></code></pre></div>\\n                    <div class=\"slide-copy\"><h1>Functions Defined</h1>\\r\\n<p>The core of extensible programming is defining functions. Python allows mandatory and optional arguments, keyword arguments, and even arbitrary argument lists. <a href=\"//docs.python.org/3/tutorial/controlflow.html#defining-functions\">More about defining functions in Python&nbsp;3</a></p></div>\\n                </li>\\n                \\n                <li>\\n                    <div class=\"slide-code\"><pre><code><span class=\"comment\"># Python 3: List comprehensions</span>\\r\\n>>> fruits = [\\'Banana\\', \\'Apple\\', \\'Lime\\']\\r\\n>>> loud_fruits = [fruit.upper() for fruit in fruits]\\r\\n>>> print(loud_fruits)\\r\\n<span class=\"output\">[\\'BANANA\\', \\'APPLE\\', \\'LIME\\']</span>\\r\\n\\r\\n<span class=\"comment\"># List and the enumerate function</span>\\r\\n>>> list(enumerate(fruits))\\r\\n<span class=\"output\">[(0, \\'Banana\\'), (1, \\'Apple\\'), (2, \\'Lime\\')]</span></code></pre></div>\\n                    <div class=\"slide-copy\"><h1>Compound Data Types</h1>\\r\\n<p>Lists (known as arrays in other languages) are one of the compound data types that Python understands. Lists can be indexed, sliced and manipulated with other built-in functions. <a href=\"//docs.python.org/3/tutorial/introduction.html#lists\">More about lists in Python&nbsp;3</a></p></div>\\n                </li>\\n                \\n                <li>\\n                    <div class=\"slide-code\"><pre><code><span class=\"comment\"># Python 3: Simple arithmetic</span>\\r\\n>>> 1 / 2\\r\\n<span class=\"output\">0.5</span>\\r\\n>>> 2 ** 3\\r\\n<span class=\"output\">8</span>\\r\\n>>> 17 / 3  <span class=\"comment\"># classic division returns a float</span>\\r\\n<span class=\"output\">5.666666666666667</span>\\r\\n>>> 17 // 3  <span class=\"comment\"># floor division</span>\\r\\n<span class=\"output\">5</span></code></pre></div>\\n                    <div class=\"slide-copy\"><h1>Intuitive Interpretation</h1>\\r\\n<p>Calculations are simple with Python, and expression syntax is straightforward: the operators <code>+</code>, <code>-</code>, <code>*</code> and <code>/</code> work as expected; parentheses <code>()</code> can be used for grouping. <a href=\"http://docs.python.org/3/tutorial/introduction.html#using-python-as-a-calculator\">More about simple math functions in Python&nbsp;3</a>.</p></div>\\n                </li>\\n                \\n                <li>\\n                    <div class=\"slide-code\"><pre><code><span class=\"comment\"># Python 3: Simple output (with Unicode)</span>\\r\\n>>> print(\"Hello, I\\'m Python!\")\\r\\n<span class=\"output\">Hello, I\\'m Python!</span>\\r\\n\\r\\n<span class=\"comment\"># Input, assignment</span>\\r\\n>>> name = input(\\'What is your name?\\\\n\\')\\r\\n>>> print(\\'Hi, %s.\\' % name)\\r\\n<span class=\"output\">What is your name?\\r\\nPython\\r\\nHi, Python.</span></code></pre></div>\\n                    <div class=\"slide-copy\"><h1>Quick &amp; Easy to Learn</h1>\\r\\n<p>Experienced programmers in any other language can pick up Python very quickly, and beginners find the clean syntax and indentation structure easy to learn. <a href=\"//docs.python.org/3/tutorial/\">Whet your appetite</a> with our Python&nbsp;3 overview.</p>\\r\\n                   </div>\\n                </li>\\n                \\n                <li>\\n                    <div class=\"slide-code\"><pre><code><span class=\"comment\"># For loop on a list</span>\\r\\n>>> numbers = [2, 4, 6, 8]\\r\\n>>> product = 1\\r\\n>>> for number in numbers:\\r\\n...    product = product * number\\r\\n... \\r\\n>>> print(\\'The product is:\\', product)\\r\\n<span class=\"output\">The product is: 384</span></code></pre></div>\\n                    <div class=\"slide-copy\"><h1>All the Flow You&rsquo;d Expect</h1>\\r\\n<p>Python knows the usual control flow statements that other languages speak &mdash; <code>if</code>, <code>for</code>, <code>while</code> and <code>range</code> &mdash; with some of its own twists, of course. <a href=\"//docs.python.org/3/tutorial/controlflow.html\">More control flow tools in Python&nbsp;3</a></p></div>\\n                </li>\\n                \\n            </ul>\\n        </div>\\n\\n\\n                </div>\\n\\n                \\n        <div class=\"introduction\">\\n            <p>Python is a programming language that lets you work quickly <span class=\"breaker\"></span>and integrate systems more effectively. <a class=\"readmore\" href=\"/doc/\">Learn More</a></p>\\n        </div>\\n\\n\\n             </div><!-- end .container -->\\n        </header>\\n\\n        <div id=\"content\" class=\"content-wrapper\">\\n            <!-- Main Content Column -->\\n            <div class=\"container\">\\n\\n                <section class=\"main-content \" role=\"main\">\\n\\n                    \\n                    \\n\\n                    \\n\\n                    \\n\\n                \\n\\n                <div class=\"row\">\\n\\n                    <div class=\"small-widget get-started-widget\">\\n                        <h2 class=\"widget-title\"><span aria-hidden=\"true\" class=\"icon-get-started\"></span>Get Started</h2>\\r\\n<p>Whether you\\'re new to programming or an experienced developer, it\\'s easy to learn and use Python.</p>\\r\\n<p><a href=\"/about/gettingstarted/\">Start with our Beginner&rsquo;s Guide</a></p>\\n                    </div>\\n\\n                    <div class=\"small-widget download-widget\">\\n                        <h2 class=\"widget-title\"><span aria-hidden=\"true\" class=\"icon-download\"></span>Download</h2>\\n<p>Python source code and installers are available for download for all versions!</p>\\n<p>Latest: <a href=\"/downloads/release/python-382/\">Python 3.8.2</a></p>\\n                    </div>\\n\\n                    <div class=\"small-widget documentation-widget\">\\n                        <h2 class=\"widget-title\"><span aria-hidden=\"true\" class=\"icon-documentation\"></span>Docs</h2>\\r\\n<p>Documentation for Python\\'s standard library, along with tutorials and guides, are available online.</p>\\r\\n<p><a href=\"https://docs.python.org\">docs.python.org</a></p>\\n                    </div>\\n\\n                    <div class=\"small-widget jobs-widget last\">\\n                        <h2 class=\"widget-title\"><span aria-hidden=\"true\" class=\"icon-jobs\"></span>Jobs</h2>\\r\\n<p>Looking for work or have a Python related position that you\\'re trying to hire for? Our <strong>relaunched community-run job board</strong> is the place to go.</p>\\r\\n<p><a href=\"//jobs.python.org\">jobs.python.org</a></p>\\n                    </div>\\n\\n                </div>\\n\\n                <div class=\"list-widgets row\">\\n\\n                    <div class=\"medium-widget blog-widget\">\\n                        \\n                        <div class=\"shrubbery\">\\n                        \\n                            <h2 class=\"widget-title\"><span aria-hidden=\"true\" class=\"icon-news\"></span>Latest News</h2>\\n                            <p class=\"give-me-more\"><a href=\"https://blog.python.org\" title=\"More News\">More</a></p>\\n                            \\n                            <ul class=\"menu\">\\n                                \\n                                \\n                                <li>\\n<time datetime=\"2020-04-06T15:02:00+00:00\"><span class=\"say-no-more\">2020-</span>04-06</time>\\n <a href=\"http://feedproxy.google.com/~r/PythonSoftwareFoundationNews/~3/jik63d3gqes/python-software-foundation-fellow.html\">Python Software Foundation Fellow Members for Q1 2020</a></li>\\n                                \\n                                <li>\\n<time datetime=\"2020-04-06T14:40:00+00:00\"><span class=\"say-no-more\">2020-</span>04-06</time>\\n <a href=\"http://feedproxy.google.com/~r/PythonInsider/~3/K1JPIqUkG1o/python-2718-release-candidate-1.html\">Python 2.7.18 release candidate 1 available</a></li>\\n                                \\n                                <li>\\n<time datetime=\"2020-04-03T15:41:00.000004+00:00\"><span class=\"say-no-more\">2020-</span>04-03</time>\\n <a href=\"http://feedproxy.google.com/~r/PythonSoftwareFoundationNews/~3/B7IZS03_Ajc/sponsoring-python-packaging.html\">Announcing a new Sponsorship Program for Python Packaging</a></li>\\n                                \\n                                <li>\\n<time datetime=\"2020-03-31T15:00:00.000001+00:00\"><span class=\"say-no-more\">2020-</span>03-31</time>\\n <a href=\"http://feedproxy.google.com/~r/PythonSoftwareFoundationNews/~3/ft6nIyIxM-w/psfs-projected-2020-financial-outcome.html\">PSF&#39;s Projected 2020 Financial Outcome</a></li>\\n                                \\n                                <li>\\n<time datetime=\"2020-03-23T23:39:00+00:00\"><span class=\"say-no-more\">2020-</span>03-23</time>\\n <a href=\"http://feedproxy.google.com/~r/PythonInsider/~3/lW-tcArtd80/python-390a5-is-now-available-for.html\">Python 3.9.0a5 is now available for testing</a></li>\\n                                \\n                            </ul>\\n                        </div><!-- end .shrubbery -->\\n\\n                    </div>\\n\\n                    <div class=\"medium-widget event-widget last\">\\n                        \\n                        <div class=\"shrubbery\">\\n                        \\n                            <h2 class=\"widget-title\"><span aria-hidden=\"true\" class=\"icon-calendar\"></span>Upcoming Events</h2>\\n                            <p class=\"give-me-more\"><a href=\"/events/calendars/\" title=\"More Events\">More</a></p>\\n                            \\n                            <ul class=\"menu\">\\n                                \\n                                \\n                                \\n                                <li>\\n<time datetime=\"2020-04-15T00:00:00+00:00\"><span class=\"say-no-more\">2020-</span>04-15</time>\\n <a href=\"/events/python-events/894/\">PyCon US 2020</a></li>\\n                                \\n                                \\n                                \\n                                <li>\\n<time datetime=\"2020-04-18T00:00:00+00:00\"><span class=\"say-no-more\">2020-</span>04-18</time>\\n <a href=\"/events/python-events/910/\">DragonPy 2020</a></li>\\n                                \\n                                \\n                                \\n                                <li>\\n<time datetime=\"2020-04-22T16:00:00+00:00\"><span class=\"say-no-more\">2020-</span>04-22</time>\\n <a href=\"/events/python-user-group/913/\">Python Meeting D\\xc3\\xbcsseldorf</a></li>\\n                                \\n                                \\n                                \\n                                <li>\\n<time datetime=\"2020-04-25T00:00:00+00:00\"><span class=\"say-no-more\">2020-</span>04-25</time>\\n <a href=\"/events/python-events/965/\">Remote Python Pizza</a></li>\\n                                \\n                                \\n                                \\n                                <li>\\n<time datetime=\"2020-04-25T00:00:00+00:00\"><span class=\"say-no-more\">2020-</span>04-25</time>\\n <a href=\"/events/python-user-group/909/\">PythonCamp 2020 - Cologne</a></li>\\n                                \\n                                \\n                            </ul>\\n                        </div>\\n\\n                    </div>\\n\\n                </div>\\n\\n                <div class=\"row\">\\n\\n                    <div class=\"medium-widget success-stories-widget\">\\n                        \\n\\n\\n\\n                        <div class=\"shrubbery\">\\n                            \\n\\n                            <h2 class=\"widget-title\"><span aria-hidden=\"true\" class=\"icon-success-stories\"></span>Success Stories</h2>\\n                            <p class=\"give-me-more\"><a href=\"/success-stories/\" title=\"More Success Stories\">More</a></p>\\n\\n                            \\n                            <div class=\"success-story-item\" id=\"success-story-836\">\\n\\n                            <blockquote>\\n                                <a href=\"/success-stories/python-seo-link-analyzer/\">&quot;Python is all about automating repetitive tasks, leaving more time for your other SEO efforts.&quot;</a>\\n                            </blockquote>\\n\\n                            <table cellpadding=\"0\" cellspacing=\"0\" border=\"0\" width=\"100%\" class=\"quote-from\">\\n                                <tbody>\\n                                    <tr>\\n                                        \\n                                        <td><p><a href=\"/success-stories/python-seo-link-analyzer/\">Using Python scripts to analyse SEO and broken links on your site</a> <em>by Marnix de Munck</em></p></td>\\n                                    </tr>\\n                                </tbody>\\n                            </table>\\n                            </div>\\n                            \\n\\n                        </div><!-- end .shrubbery -->\\n\\n                    </div>\\n\\n                    <div class=\"medium-widget applications-widget last\">\\n                        <div class=\"shrubbery\">\\n                            <h2 class=\"widget-title\"><span aria-hidden=\"true\" class=\"icon-python\"></span>Use Python for&hellip;</h2>\\r\\n<p class=\"give-me-more\"><a href=\"/about/apps\" title=\"More Applications\">More</a></p>\\r\\n\\r\\n<ul class=\"menu\">\\r\\n    <li><b>Web Development</b>:\\r\\n        <span class=\"tag-wrapper\"><a class=\"tag\" href=\"http://www.djangoproject.com/\">Django</a>, <a class=\"tag\" href=\"http://www.pylonsproject.org/\">Pyramid</a>, <a class=\"tag\" href=\"http://bottlepy.org\">Bottle</a>, <a class=\"tag\" href=\"http://tornadoweb.org\">Tornado</a>, <a href=\"http://flask.pocoo.org/\" class=\"tag\">Flask</a>, <a class=\"tag\" href=\"http://www.web2py.com/\">web2py</a></span></li>\\r\\n    <li><b>GUI Development</b>:\\r\\n        <span class=\"tag-wrapper\"><a class=\"tag\" href=\"http://wiki.python.org/moin/TkInter\">tkInter</a>, <a class=\"tag\" href=\"https://wiki.gnome.org/Projects/PyGObject\">PyGObject</a>, <a class=\"tag\" href=\"http://www.riverbankcomputing.co.uk/software/pyqt/intro\">PyQt</a>, <a class=\"tag\" href=\"https://wiki.qt.io/PySide\">PySide</a>, <a class=\"tag\" href=\"https://kivy.org/\">Kivy</a>, <a class=\"tag\" href=\"http://www.wxpython.org/\">wxPython</a></span></li>\\r\\n    <li><b>Scientific and Numeric</b>:\\r\\n        <span class=\"tag-wrapper\">\\r\\n<a class=\"tag\" href=\"http://www.scipy.org\">SciPy</a>, <a class=\"tag\" href=\"http://pandas.pydata.org/\">Pandas</a>, <a href=\"http://ipython.org\" class=\"tag\">IPython</a></span></li>\\r\\n    <li><b>Software Development</b>:\\r\\n        <span class=\"tag-wrapper\"><a class=\"tag\" href=\"http://buildbot.net/\">Buildbot</a>, <a class=\"tag\" href=\"http://trac.edgewall.org/\">Trac</a>, <a class=\"tag\" href=\"http://roundup.sourceforge.net/\">Roundup</a></span></li>\\r\\n    <li><b>System Administration</b>:\\r\\n        <span class=\"tag-wrapper\"><a class=\"tag\" href=\"http://www.ansible.com\">Ansible</a>, <a class=\"tag\" href=\"http://www.saltstack.com\">Salt</a>, <a class=\"tag\" href=\"https://www.openstack.org\">OpenStack</a></span></li>\\r\\n</ul>\\r\\n\\n                        </div><!-- end .shrubbery -->\\n                    </div>\\n\\n                </div>\\n\\n                \\n                <div class=\"pep-widget\">\\n\\n                    <h2 class=\"widget-title\">\\n                        <span class=\"prompt\">&gt;&gt;&gt;</span> <a href=\"/dev/peps/\">Python Enhancement Proposals<span class=\"say-no-more\"> (PEPs)</span></a>: The future of Python<span class=\"say-no-more\"> is discussed here.</span>\\n                        <a aria-hidden=\"true\" class=\"rss-link\" href=\"/dev/peps/peps.rss\"><span class=\"icon-feed\"></span> RSS</a>\\n                    </h2>\\n\\n\\n                    \\n                    \\n                </div>\\n\\n                                <div class=\"psf-widget\">\\n\\n                    <div class=\"python-logo\"></div>\\n                    \\n                    <h2 class=\"widget-title\">\\r\\n    <span class=\"prompt\">&gt;&gt;&gt;</span> <a href=\"/psf/\">Python Software Foundation</a>\\r\\n</h2>\\r\\n<p>The mission of the Python Software Foundation is to promote, protect, and advance the Python programming language, and to support and facilitate the growth of a diverse and international community of Python programmers. <a class=\"readmore\" href=\"/psf/\">Learn more</a> </p>\\r\\n<p class=\"click-these\">\\r\\n    <a class=\"button\" href=\"/users/membership/\">Become a Member</a>\\r\\n    <a class=\"button\" href=\"/psf/donations/\">Donate to the PSF</a>\\r\\n</p>\\n                </div>\\n\\n\\n\\n\\n                </section>\\n\\n                \\n                \\n\\n                \\n                \\n\\n\\n            </div><!-- end .container -->\\n        </div><!-- end #content .content-wrapper -->\\n\\n        <!-- Footer and social media list -->\\n        <footer id=\"site-map\" class=\"main-footer\" role=\"contentinfo\">\\n            <div class=\"main-footer-links\">\\n                <div class=\"container\">\\n\\n                    \\n                    <a id=\"back-to-top-1\" class=\"jump-link\" href=\"#python-network\"><span aria-hidden=\"true\" class=\"icon-arrow-up\"><span>&#9650;</span></span> Back to Top</a>\\n\\n                    \\n\\n<ul class=\"sitemap navigation menu do-not-print\" role=\"tree\" id=\"container\">\\n    \\n    <li class=\"tier-1 element-1\">\\n        <a href=\"/about/\" >About</a>\\n        \\n            \\n\\n<ul class=\"subnav menu\">\\n    \\n        <li class=\"tier-2 element-1\" role=\"treeitem\"><a href=\"/about/apps/\" title=\"\">Applications</a></li>\\n    \\n        <li class=\"tier-2 element-2\" role=\"treeitem\"><a href=\"/about/quotes/\" title=\"\">Quotes</a></li>\\n    \\n        <li class=\"tier-2 element-3\" role=\"treeitem\"><a href=\"/about/gettingstarted/\" title=\"\">Getting Started</a></li>\\n    \\n        <li class=\"tier-2 element-4\" role=\"treeitem\"><a href=\"/about/help/\" title=\"\">Help</a></li>\\n    \\n        <li class=\"tier-2 element-5\" role=\"treeitem\"><a href=\"http://brochure.getpython.info/\" title=\"\">Python Brochure</a></li>\\n    \\n</ul>\\n\\n        \\n    </li>\\n    \\n    <li class=\"tier-1 element-2\">\\n        <a href=\"/downloads/\" >Downloads</a>\\n        \\n            \\n\\n<ul class=\"subnav menu\">\\n    \\n        <li class=\"tier-2 element-1\" role=\"treeitem\"><a href=\"/downloads/\" title=\"\">All releases</a></li>\\n    \\n        <li class=\"tier-2 element-2\" role=\"treeitem\"><a href=\"/downloads/source/\" title=\"\">Source code</a></li>\\n    \\n        <li class=\"tier-2 element-3\" role=\"treeitem\"><a href=\"/downloads/windows/\" title=\"\">Windows</a></li>\\n    \\n        <li class=\"tier-2 element-4\" role=\"treeitem\"><a href=\"/downloads/mac-osx/\" title=\"\">Mac OS X</a></li>\\n    \\n        <li class=\"tier-2 element-5\" role=\"treeitem\"><a href=\"/download/other/\" title=\"\">Other Platforms</a></li>\\n    \\n        <li class=\"tier-2 element-6\" role=\"treeitem\"><a href=\"https://docs.python.org/3/license.html\" title=\"\">License</a></li>\\n    \\n        <li class=\"tier-2 element-7\" role=\"treeitem\"><a href=\"/download/alternatives\" title=\"\">Alternative Implementations</a></li>\\n    \\n</ul>\\n\\n        \\n    </li>\\n    \\n    <li class=\"tier-1 element-3\">\\n        <a href=\"/doc/\" >Documentation</a>\\n        \\n            \\n\\n<ul class=\"subnav menu\">\\n    \\n        <li class=\"tier-2 element-1\" role=\"treeitem\"><a href=\"/doc/\" title=\"\">Docs</a></li>\\n    \\n        <li class=\"tier-2 element-2\" role=\"treeitem\"><a href=\"/doc/av\" title=\"\">Audio/Visual Talks</a></li>\\n    \\n        <li class=\"tier-2 element-3\" role=\"treeitem\"><a href=\"https://wiki.python.org/moin/BeginnersGuide\" title=\"\">Beginner&#39;s Guide</a></li>\\n    \\n        <li class=\"tier-2 element-4\" role=\"treeitem\"><a href=\"https://devguide.python.org/\" title=\"\">Developer&#39;s Guide</a></li>\\n    \\n        <li class=\"tier-2 element-5\" role=\"treeitem\"><a href=\"https://docs.python.org/faq/\" title=\"\">FAQ</a></li>\\n    \\n        <li class=\"tier-2 element-6\" role=\"treeitem\"><a href=\"http://wiki.python.org/moin/Languages\" title=\"\">Non-English Docs</a></li>\\n    \\n        <li class=\"tier-2 element-7\" role=\"treeitem\"><a href=\"http://python.org/dev/peps/\" title=\"\">PEP Index</a></li>\\n    \\n        <li class=\"tier-2 element-8\" role=\"treeitem\"><a href=\"https://wiki.python.org/moin/PythonBooks\" title=\"\">Python Books</a></li>\\n    \\n        <li class=\"tier-2 element-9\" role=\"treeitem\"><a href=\"/doc/essays/\" title=\"\">Python Essays</a></li>\\n    \\n</ul>\\n\\n        \\n    </li>\\n    \\n    <li class=\"tier-1 element-4\">\\n        <a href=\"/community/\" >Community</a>\\n        \\n            \\n\\n<ul class=\"subnav menu\">\\n    \\n        <li class=\"tier-2 element-1\" role=\"treeitem\"><a href=\"/community/survey\" title=\"\">Community Survey</a></li>\\n    \\n        <li class=\"tier-2 element-2\" role=\"treeitem\"><a href=\"/community/diversity/\" title=\"\">Diversity</a></li>\\n    \\n        <li class=\"tier-2 element-3\" role=\"treeitem\"><a href=\"/community/lists/\" title=\"\">Mailing Lists</a></li>\\n    \\n        <li class=\"tier-2 element-4\" role=\"treeitem\"><a href=\"/community/irc/\" title=\"\">IRC</a></li>\\n    \\n        <li class=\"tier-2 element-5\" role=\"treeitem\"><a href=\"/community/forums/\" title=\"\">Forums</a></li>\\n    \\n        <li class=\"tier-2 element-6\" role=\"treeitem\"><a href=\"/psf/annual-report/2019/\" title=\"\">PSF Annual Impact Report</a></li>\\n    \\n        <li class=\"tier-2 element-7\" role=\"treeitem\"><a href=\"/community/workshops/\" title=\"\">Python Conferences</a></li>\\n    \\n        <li class=\"tier-2 element-8\" role=\"treeitem\"><a href=\"/community/sigs/\" title=\"\">Special Interest Groups</a></li>\\n    \\n        <li class=\"tier-2 element-9\" role=\"treeitem\"><a href=\"/community/logos/\" title=\"\">Python Logo</a></li>\\n    \\n        <li class=\"tier-2 element-10\" role=\"treeitem\"><a href=\"https://wiki.python.org/moin/\" title=\"\">Python Wiki</a></li>\\n    \\n        <li class=\"tier-2 element-11\" role=\"treeitem\"><a href=\"/community/merchandise/\" title=\"\">Merchandise</a></li>\\n    \\n        <li class=\"tier-2 element-12\" role=\"treeitem\"><a href=\"/community/awards\" title=\"\">Community Awards</a></li>\\n    \\n        <li class=\"tier-2 element-13\" role=\"treeitem\"><a href=\"/psf/conduct/\" title=\"\">Code of Conduct</a></li>\\n    \\n</ul>\\n\\n        \\n    </li>\\n    \\n    <li class=\"tier-1 element-5\">\\n        <a href=\"/success-stories/\" title=\"success-stories\">Success Stories</a>\\n        \\n            \\n\\n<ul class=\"subnav menu\">\\n    \\n        <li class=\"tier-2 element-1\" role=\"treeitem\"><a href=\"/success-stories/category/arts/\" title=\"\">Arts</a></li>\\n    \\n        <li class=\"tier-2 element-2\" role=\"treeitem\"><a href=\"/success-stories/category/business/\" title=\"\">Business</a></li>\\n    \\n        <li class=\"tier-2 element-3\" role=\"treeitem\"><a href=\"/success-stories/category/education/\" title=\"\">Education</a></li>\\n    \\n        <li class=\"tier-2 element-4\" role=\"treeitem\"><a href=\"/success-stories/category/engineering/\" title=\"\">Engineering</a></li>\\n    \\n        <li class=\"tier-2 element-5\" role=\"treeitem\"><a href=\"/success-stories/category/government/\" title=\"\">Government</a></li>\\n    \\n        <li class=\"tier-2 element-6\" role=\"treeitem\"><a href=\"/success-stories/category/scientific/\" title=\"\">Scientific</a></li>\\n    \\n        <li class=\"tier-2 element-7\" role=\"treeitem\"><a href=\"/success-stories/category/software-development/\" title=\"\">Software Development</a></li>\\n    \\n</ul>\\n\\n        \\n    </li>\\n    \\n    <li class=\"tier-1 element-6\">\\n        <a href=\"/blogs/\" title=\"News from around the Python world\">News</a>\\n        \\n            \\n\\n<ul class=\"subnav menu\">\\n    \\n        <li class=\"tier-2 element-1\" role=\"treeitem\"><a href=\"/blogs/\" title=\"Python Insider Blog Posts\">Python News</a></li>\\n    \\n        <li class=\"tier-2 element-2\" role=\"treeitem\"><a href=\"/psf/newsletter/\" title=\"Python Software Foundation Newsletter\">PSF Newsletter</a></li>\\n    \\n        <li class=\"tier-2 element-3\" role=\"treeitem\"><a href=\"http://planetpython.org/\" title=\"Planet Python\">Community News</a></li>\\n    \\n        <li class=\"tier-2 element-4\" role=\"treeitem\"><a href=\"http://pyfound.blogspot.com/\" title=\"PSF Blog\">PSF News</a></li>\\n    \\n        <li class=\"tier-2 element-5\" role=\"treeitem\"><a href=\"http://pycon.blogspot.com/\" title=\"PyCon Blog\">PyCon News</a></li>\\n    \\n</ul>\\n\\n        \\n    </li>\\n    \\n    <li class=\"tier-1 element-7\">\\n        <a href=\"/events/\" >Events</a>\\n        \\n            \\n\\n<ul class=\"subnav menu\">\\n    \\n        <li class=\"tier-2 element-1\" role=\"treeitem\"><a href=\"/events/python-events\" title=\"\">Python Events</a></li>\\n    \\n        <li class=\"tier-2 element-2\" role=\"treeitem\"><a href=\"/events/python-user-group/\" title=\"\">User Group Events</a></li>\\n    \\n        <li class=\"tier-2 element-3\" role=\"treeitem\"><a href=\"/events/python-events/past/\" title=\"\">Python Events Archive</a></li>\\n    \\n        <li class=\"tier-2 element-4\" role=\"treeitem\"><a href=\"/events/python-user-group/past/\" title=\"\">User Group Events Archive</a></li>\\n    \\n        <li class=\"tier-2 element-5\" role=\"treeitem\"><a href=\"https://wiki.python.org/moin/PythonEventsCalendar#Submitting_an_Event\" title=\"\">Submit an Event</a></li>\\n    \\n</ul>\\n\\n        \\n    </li>\\n    \\n    <li class=\"tier-1 element-8\">\\n        <a href=\"/dev/\" >Contributing</a>\\n        \\n            \\n\\n<ul class=\"subnav menu\">\\n    \\n        <li class=\"tier-2 element-1\" role=\"treeitem\"><a href=\"https://devguide.python.org/\" title=\"\">Developer&#39;s Guide</a></li>\\n    \\n        <li class=\"tier-2 element-2\" role=\"treeitem\"><a href=\"https://bugs.python.org/\" title=\"\">Issue Tracker</a></li>\\n    \\n        <li class=\"tier-2 element-3\" role=\"treeitem\"><a href=\"https://mail.python.org/mailman/listinfo/python-dev\" title=\"\">python-dev list</a></li>\\n    \\n        <li class=\"tier-2 element-4\" role=\"treeitem\"><a href=\"/dev/core-mentorship/\" title=\"\">Core Mentorship</a></li>\\n    \\n        <li class=\"tier-2 element-5\" role=\"treeitem\"><a href=\"/dev/security/\" title=\"\">Report a Security Issue</a></li>\\n    \\n</ul>\\n\\n        \\n    </li>\\n    \\n</ul>\\n\\n\\n                    <a id=\"back-to-top-2\" class=\"jump-link\" href=\"#python-network\"><span aria-hidden=\"true\" class=\"icon-arrow-up\"><span>&#9650;</span></span> Back to Top</a>\\n                    \\n\\n                </div><!-- end .container -->\\n            </div> <!-- end .main-footer-links -->\\n\\n            <div class=\"site-base\">\\n                <div class=\"container\">\\n                    \\n                    <ul class=\"footer-links navigation menu do-not-print\" role=\"tree\">\\n                        <li class=\"tier-1 element-1\"><a href=\"/about/help/\">Help &amp; <span class=\"say-no-more\">General</span> Contact</a></li>\\n                        <li class=\"tier-1 element-2\"><a href=\"/community/diversity/\">Diversity <span class=\"say-no-more\">Initiatives</span></a></li>\\n                        <li class=\"tier-1 element-3\"><a href=\"https://github.com/python/pythondotorg/issues\">Submit Website Bug</a></li>\\n                        <li class=\"tier-1 element-4\">\\n                            <a href=\"https://status.python.org/\">Status <span class=\"python-status-indicator-default\" id=\"python-status-indicator\"></span></a>\\n                        </li>\\n                    </ul>\\n\\n                    <div class=\"copyright\">\\n                        <p><small>\\n                            <span class=\"pre\">Copyright &copy;2001-2020.</span>\\n                            &nbsp;<span class=\"pre\"><a href=\"/psf-landing/\">Python Software Foundation</a></span>\\n                            &nbsp;<span class=\"pre\"><a href=\"/about/legal/\">Legal Statements</a></span>\\n                            &nbsp;<span class=\"pre\"><a href=\"/privacy/\">Privacy Policy</a></span>\\n                            &nbsp;<span class=\"pre\"><a href=\"/psf/sponsorship/sponsors/#heroku\">Powered by Heroku</a></span>\\n                        </small></p>\\n                    </div>\\n\\n                </div><!-- end .container -->\\n            </div><!-- end .site-base -->\\n\\n        </footer>\\n\\n    </div><!-- end #touchnav-wrapper -->\\n\\n    \\n    <script src=\"//ajax.googleapis.com/ajax/libs/jquery/1.8.2/jquery.min.js\"></script>\\n    <script>window.jQuery || document.write(\\'<script src=\"/static/js/libs/jquery-1.8.2.min.js\"><\\\\/script>\\')</script>\\n\\n    <script src=\"/static/js/libs/masonry.pkgd.min.js\"></script>\\n    <script src=\"/static/js/libs/html-includes.js\"></script>\\n\\n    <script type=\"text/javascript\" src=\"/static/js/main-min.037d9037f112.js\" charset=\"utf-8\"></script>\\n    \\n\\n    <!--[if lte IE 7]>\\n    <script type=\"text/javascript\" src=\"/static/js/plugins/IE8-min.6dc39b5a0bdb.js\" charset=\"utf-8\"></script>\\n    \\n    \\n    <![endif]-->\\n\\n    <!--[if lte IE 8]>\\n    <script type=\"text/javascript\" src=\"/static/js/plugins/getComputedStyle-min.c3860be1d290.js\" charset=\"utf-8\"></script>\\n    \\n    \\n    <![endif]-->\\n\\n    \\n\\n    \\n    \\n\\n</body>\\n</html>\\n'"
      ]
     },
     "execution_count": 181,
     "metadata": {},
     "output_type": "execute_result"
    }
   ],
   "source": [
    "r.content"
   ]
  },
  {
   "cell_type": "code",
   "execution_count": 182,
   "metadata": {},
   "outputs": [
    {
     "data": {
      "text/plain": [
       "'<!doctype html>\\n<!--[if lt IE 7]>   <html class=\"no-js ie6 lt-ie7 lt-ie8 lt-ie9\">   <![endif]-->\\n<!--[if IE 7]>      <html class=\"no-js ie7 lt-ie8 lt-ie9\">          <![endif]-->\\n<!--[if IE 8]>      <html class=\"no-js ie8 lt-ie9\">                 <![endif]-->\\n<!--[if gt IE 8]><!--><html class=\"no-js\" lang=\"en\" dir=\"ltr\">  <!--<![endif]-->\\n\\n<head>\\n    <meta charset=\"utf-8\">\\n    <meta http-equiv=\"X-UA-Compatible\" content=\"IE=edge\">\\n\\n    <link rel=\"prefetch\" href=\"//ajax.googleapis.com/ajax/libs/jquery/1.8.2/jquery.min.js\">\\n\\n    <meta name=\"application-name\" content=\"Python.org\">\\n    <meta name=\"msapplication-tooltip\" content=\"The official home of the Python Programming Language\">\\n    <meta name=\"apple-mobile-web-app-title\" content=\"Python.org\">\\n    <meta name=\"apple-mobile-web-app-capable\" content=\"yes\">\\n    <meta name=\"apple-mobile-web-app-status-bar-style\" content=\"black\">\\n\\n    <meta name=\"viewport\" content=\"width=device-width, initial-scale=1.0\">\\n    <meta name=\"HandheldFriendly\" content=\"True\">\\n    <meta name=\"format-detection\" content=\"telephone=no\">\\n    <meta http-equiv=\"cleartype\" content=\"on\">\\n    <meta http-equiv=\"imagetoolbar\" content=\"false\">\\n\\n    <script src=\"/static/js/libs/modernizr.js\"></script>\\n\\n    <link href=\"/static/stylesheets/style.67f4b30f7483.css\" rel=\"stylesheet\" type=\"text/css\" title=\"default\" />\\n    <link href=\"/static/stylesheets/mq.3ae8e02ece5b.css\" rel=\"stylesheet\" type=\"text/css\" media=\"not print, braille, embossed, speech, tty\" />\\n    \\n\\n    <!--[if (lte IE 8)&(!IEMobile)]>\\n    <link href=\"/static/stylesheets/no-mq.fcf414dc68a3.css\" rel=\"stylesheet\" type=\"text/css\" media=\"screen\" />\\n    \\n    \\n    <![endif]-->\\n\\n    \\n    <link rel=\"icon\" type=\"image/x-icon\" href=\"/static/favicon.ico\">\\n    <link rel=\"apple-touch-icon-precomposed\" sizes=\"144x144\" href=\"/static/apple-touch-icon-144x144-precomposed.png\">\\n    <link rel=\"apple-touch-icon-precomposed\" sizes=\"114x114\" href=\"/static/apple-touch-icon-114x114-precomposed.png\">\\n    <link rel=\"apple-touch-icon-precomposed\" sizes=\"72x72\" href=\"/static/apple-touch-icon-72x72-precomposed.png\">\\n    <link rel=\"apple-touch-icon-precomposed\" href=\"/static/apple-touch-icon-precomposed.png\">\\n    <link rel=\"apple-touch-icon\" href=\"/static/apple-touch-icon-precomposed.png\">\\n\\n    \\n    <meta name=\"msapplication-TileImage\" content=\"/static/metro-icon-144x144-precomposed.png\"><!-- white shape -->\\n    <meta name=\"msapplication-TileColor\" content=\"#3673a5\"><!-- python blue -->\\n    <meta name=\"msapplication-navbutton-color\" content=\"#3673a5\">\\n\\n    <title>Welcome to Python.org</title>\\n\\n    <meta name=\"description\" content=\"The official home of the Python Programming Language\">\\n    <meta name=\"keywords\" content=\"Python programming language object oriented web free open source software license documentation download community\">\\n\\n    \\n    <meta property=\"og:type\" content=\"website\">\\n    <meta property=\"og:site_name\" content=\"Python.org\">\\n    <meta property=\"og:title\" content=\"Welcome to Python.org\">\\n    <meta property=\"og:description\" content=\"The official home of the Python Programming Language\">\\n    \\n    <meta property=\"og:image\" content=\"https://www.python.org/static/opengraph-icon-200x200.png\">\\n    <meta property=\"og:image:secure_url\" content=\"https://www.python.org/static/opengraph-icon-200x200.png\">\\n    \\n    <meta property=\"og:url\" content=\"https://www.python.org/\">\\n\\n    <link rel=\"author\" href=\"/static/humans.txt\">\\n\\n    <link rel=\"alternate\" type=\"application/rss+xml\" title=\"Python Enhancement Proposals\"\\n          href=\"https://www.python.org/dev/peps/peps.rss/\">\\n    <link rel=\"alternate\" type=\"application/rss+xml\" title=\"Python Job Opportunities\"\\n          href=\"https://www.python.org/jobs/feed/rss/\">\\n    <link rel=\"alternate\" type=\"application/rss+xml\" title=\"Python Software Foundation News\"\\n          href=\"https://feeds.feedburner.com/PythonSoftwareFoundationNews\">\\n    <link rel=\"alternate\" type=\"application/rss+xml\" title=\"Python Insider\"\\n          href=\"https://feeds.feedburner.com/PythonInsider\">\\n\\n    \\n\\n    \\n    <script type=\"application/ld+json\">\\n     {\\n       \"@context\": \"https://schema.org\",\\n       \"@type\": \"WebSite\",\\n       \"url\": \"https://www.python.org/\",\\n       \"potentialAction\": {\\n         \"@type\": \"SearchAction\",\\n         \"target\": \"https://www.python.org/search/?q={search_term_string}\",\\n         \"query-input\": \"required name=search_term_string\"\\n       }\\n     }\\n    </script>\\n\\n    \\n    <script type=\"text/javascript\">\\n    var _gaq = _gaq || [];\\n    _gaq.push([\\'_setAccount\\', \\'UA-39055973-1\\']);\\n    _gaq.push([\\'_trackPageview\\']);\\n\\n    (function() {\\n        var ga = document.createElement(\\'script\\'); ga.type = \\'text/javascript\\'; ga.async = true;\\n        ga.src = (\\'https:\\' == document.location.protocol ? \\'https://ssl\\' : \\'http://www\\') + \\'.google-analytics.com/ga.js\\';\\n        var s = document.getElementsByTagName(\\'script\\')[0]; s.parentNode.insertBefore(ga, s);\\n    })();\\n    </script>\\n    \\n</head>\\n\\n<body class=\"python home\" id=\"homepage\">\\n\\n    <div id=\"touchnav-wrapper\">\\n\\n        <div id=\"nojs\" class=\"do-not-print\">\\n            <p><strong>Notice:</strong> While Javascript is not essential for this website, your interaction with the content will be limited. Please turn Javascript on for the full experience. </p>\\n        </div>\\n\\n        <!--[if lte IE 8]>\\n        <div id=\"oldie-warning\" class=\"do-not-print\">\\n            <p>\\n                <strong>Notice:</strong> Your browser is <em>ancient</em>. Please\\n                <a href=\"http://browsehappy.com/\">upgrade to a different browser</a> to experience a better web.\\n            </p>\\n        </div>\\n        <![endif]-->\\n\\n        <!-- Sister Site Links -->\\n        <div id=\"top\" class=\"top-bar do-not-print\">\\n\\n            <nav class=\"meta-navigation container\" role=\"navigation\">\\n\\n                \\n                <div class=\"skip-link screen-reader-text\">\\n                    <a href=\"#content\" title=\"Skip to content\">Skip to content</a>\\n                </div>\\n\\n                \\n                <a id=\"close-python-network\" class=\"jump-link\" href=\"#python-network\" aria-hidden=\"true\">\\n                    <span aria-hidden=\"true\" class=\"icon-arrow-down\"><span>&#9660;</span></span> Close\\n                </a>\\n\\n                \\n\\n<ul class=\"menu\" role=\"tree\">\\n    \\n    <li class=\"python-meta current_item selectedcurrent_branch selected\">\\n        <a href=\"/\" title=\"The Python Programming Language\" class=\"current_item selectedcurrent_branch selected\">Python</a>\\n    </li>\\n    \\n    <li class=\"psf-meta \">\\n        <a href=\"/psf-landing/\" title=\"The Python Software Foundation\" >PSF</a>\\n    </li>\\n    \\n    <li class=\"docs-meta \">\\n        <a href=\"https://docs.python.org\" title=\"Python Documentation\" >Docs</a>\\n    </li>\\n    \\n    <li class=\"pypi-meta \">\\n        <a href=\"https://pypi.python.org/\" title=\"Python Package Index\" >PyPI</a>\\n    </li>\\n    \\n    <li class=\"jobs-meta \">\\n        <a href=\"/jobs/\" title=\"Python Job Board\" >Jobs</a>\\n    </li>\\n    \\n    <li class=\"shop-meta \">\\n        <a href=\"/community/\" title=\"Python Community\" >Community</a>\\n    </li>\\n    \\n</ul>\\n\\n\\n                <a id=\"python-network\" class=\"jump-link\" href=\"#top\" aria-hidden=\"true\">\\n                    <span aria-hidden=\"true\" class=\"icon-arrow-up\"><span>&#9650;</span></span> The Python Network\\n                </a>\\n\\n            </nav>\\n\\n        </div>\\n\\n        <!-- Header elements -->\\n        <header class=\"main-header\" role=\"banner\">\\n            <div class=\"container\">\\n\\n                <h1 class=\"site-headline\">\\n                    <a href=\"/\"><img class=\"python-logo\" src=\"/static/img/python-logo.png\" alt=\"python&trade;\"></a>\\n                </h1>\\n\\n                <div class=\"options-bar-container do-not-print\">\\n                    <a href=\"https://psfmember.org/civicrm/contribute/transact?reset=1&id=2\" class=\"donate-button\">Donate</a>\\n                    <div class=\"options-bar\">\\n                        \\n                        <a id=\"site-map-link\" class=\"jump-to-menu\" href=\"#site-map\"><span class=\"menu-icon\">&equiv;</span> Menu</a><form class=\"search-the-site\" action=\"/search/\" method=\"get\">\\n                            <fieldset title=\"Search Python.org\">\\n\\n                                <span aria-hidden=\"true\" class=\"icon-search\"></span>\\n\\n                                <label class=\"screen-reader-text\" for=\"id-search-field\">Search This Site</label>\\n                                <input id=\"id-search-field\" name=\"q\" type=\"search\" role=\"textbox\" class=\"search-field\" placeholder=\"Search\" value=\"\" tabindex=\"1\">\\n\\n                                <button type=\"submit\" name=\"submit\" id=\"submit\" class=\"search-button\" title=\"Submit this Search\" tabindex=\"3\">\\n                                    GO\\n                                </button>\\n\\n                                \\n                                <!--[if IE]><input type=\"text\" style=\"display: none;\" disabled=\"disabled\" size=\"1\" tabindex=\"4\"><![endif]-->\\n\\n                            </fieldset>\\n                        </form><span class=\"breaker\"></span><div class=\"adjust-font-size\" aria-hidden=\"true\">\\n                            <ul class=\"navigation menu\" aria-label=\"Adjust Text Size on Page\">\\n                                <li class=\"tier-1 last\" aria-haspopup=\"true\">\\n                                    <a href=\"#\" class=\"action-trigger\"><strong><small>A</small> A</strong></a>\\n                                    <ul class=\"subnav menu\">\\n                                        <li class=\"tier-2 element-1\" role=\"treeitem\"><a class=\"text-shrink\" title=\"Make Text Smaller\" href=\"javascript:;\">Smaller</a></li>\\n                                        <li class=\"tier-2 element-2\" role=\"treeitem\"><a class=\"text-grow\" title=\"Make Text Larger\" href=\"javascript:;\">Larger</a></li>\\n                                        <li class=\"tier-2 element-3\" role=\"treeitem\"><a class=\"text-reset\" title=\"Reset any font size changes I have made\" href=\"javascript:;\">Reset</a></li>\\n                                    </ul>\\n                                </li>\\n                            </ul>\\n                        </div><div class=\"winkwink-nudgenudge\">\\n                            <ul class=\"navigation menu\" aria-label=\"Social Media Navigation\">\\n                                <li class=\"tier-1 last\" aria-haspopup=\"true\">\\n                                    <a href=\"#\" class=\"action-trigger\">Socialize</a>\\n                                    <ul class=\"subnav menu\">\\n                                        <li class=\"tier-2 element-1\" role=\"treeitem\"><a href=\"https://www.facebook.com/pythonlang?fref=ts\"><span aria-hidden=\"true\" class=\"icon-facebook\"></span>Facebook</a></li>\\n                                        <li class=\"tier-2 element-2\" role=\"treeitem\"><a href=\"https://twitter.com/ThePSF\"><span aria-hidden=\"true\" class=\"icon-twitter\"></span>Twitter</a></li>\\n                                        <li class=\"tier-2 element-3\" role=\"treeitem\"><a href=\"/community/irc/\"><span aria-hidden=\"true\" class=\"icon-freenode\"></span>Chat on IRC</a></li>\\n                                    </ul>\\n                                </li>\\n                            </ul>\\n                        </div>\\n                        <span data-html-include=\"/authenticated\"></span>\\n                    </div><!-- end options-bar -->\\n                </div>\\n\\n                <nav id=\"mainnav\" class=\"python-navigation main-navigation do-not-print\" role=\"navigation\">\\n                    \\n                        \\n<ul class=\"navigation menu\" role=\"menubar\" aria-label=\"Main Navigation\">\\n  \\n    \\n    \\n    <li id=\"about\" class=\"tier-1 element-1  \" aria-haspopup=\"true\">\\n        <a href=\"/about/\" title=\"\" class=\"\">About</a>\\n        \\n            \\n\\n<ul class=\"subnav menu\" role=\"menu\" aria-hidden=\"true\">\\n    \\n        <li class=\"tier-2 element-1\" role=\"treeitem\"><a href=\"/about/apps/\" title=\"\">Applications</a></li>\\n    \\n        <li class=\"tier-2 element-2\" role=\"treeitem\"><a href=\"/about/quotes/\" title=\"\">Quotes</a></li>\\n    \\n        <li class=\"tier-2 element-3\" role=\"treeitem\"><a href=\"/about/gettingstarted/\" title=\"\">Getting Started</a></li>\\n    \\n        <li class=\"tier-2 element-4\" role=\"treeitem\"><a href=\"/about/help/\" title=\"\">Help</a></li>\\n    \\n        <li class=\"tier-2 element-5\" role=\"treeitem\"><a href=\"http://brochure.getpython.info/\" title=\"\">Python Brochure</a></li>\\n    \\n</ul>\\n\\n        \\n    </li>\\n    \\n    \\n    \\n    <li id=\"downloads\" class=\"tier-1 element-2  \" aria-haspopup=\"true\">\\n        <a href=\"/downloads/\" title=\"\" class=\"\">Downloads</a>\\n        \\n            \\n\\n<ul class=\"subnav menu\" role=\"menu\" aria-hidden=\"true\">\\n    \\n        <li class=\"tier-2 element-1\" role=\"treeitem\"><a href=\"/downloads/\" title=\"\">All releases</a></li>\\n    \\n        <li class=\"tier-2 element-2\" role=\"treeitem\"><a href=\"/downloads/source/\" title=\"\">Source code</a></li>\\n    \\n        <li class=\"tier-2 element-3\" role=\"treeitem\"><a href=\"/downloads/windows/\" title=\"\">Windows</a></li>\\n    \\n        <li class=\"tier-2 element-4\" role=\"treeitem\"><a href=\"/downloads/mac-osx/\" title=\"\">Mac OS X</a></li>\\n    \\n        <li class=\"tier-2 element-5\" role=\"treeitem\"><a href=\"/download/other/\" title=\"\">Other Platforms</a></li>\\n    \\n        <li class=\"tier-2 element-6\" role=\"treeitem\"><a href=\"https://docs.python.org/3/license.html\" title=\"\">License</a></li>\\n    \\n        <li class=\"tier-2 element-7\" role=\"treeitem\"><a href=\"/download/alternatives\" title=\"\">Alternative Implementations</a></li>\\n    \\n</ul>\\n\\n        \\n    </li>\\n    \\n    \\n    \\n    <li id=\"documentation\" class=\"tier-1 element-3  \" aria-haspopup=\"true\">\\n        <a href=\"/doc/\" title=\"\" class=\"\">Documentation</a>\\n        \\n            \\n\\n<ul class=\"subnav menu\" role=\"menu\" aria-hidden=\"true\">\\n    \\n        <li class=\"tier-2 element-1\" role=\"treeitem\"><a href=\"/doc/\" title=\"\">Docs</a></li>\\n    \\n        <li class=\"tier-2 element-2\" role=\"treeitem\"><a href=\"/doc/av\" title=\"\">Audio/Visual Talks</a></li>\\n    \\n        <li class=\"tier-2 element-3\" role=\"treeitem\"><a href=\"https://wiki.python.org/moin/BeginnersGuide\" title=\"\">Beginner&#39;s Guide</a></li>\\n    \\n        <li class=\"tier-2 element-4\" role=\"treeitem\"><a href=\"https://devguide.python.org/\" title=\"\">Developer&#39;s Guide</a></li>\\n    \\n        <li class=\"tier-2 element-5\" role=\"treeitem\"><a href=\"https://docs.python.org/faq/\" title=\"\">FAQ</a></li>\\n    \\n        <li class=\"tier-2 element-6\" role=\"treeitem\"><a href=\"http://wiki.python.org/moin/Languages\" title=\"\">Non-English Docs</a></li>\\n    \\n        <li class=\"tier-2 element-7\" role=\"treeitem\"><a href=\"http://python.org/dev/peps/\" title=\"\">PEP Index</a></li>\\n    \\n        <li class=\"tier-2 element-8\" role=\"treeitem\"><a href=\"https://wiki.python.org/moin/PythonBooks\" title=\"\">Python Books</a></li>\\n    \\n        <li class=\"tier-2 element-9\" role=\"treeitem\"><a href=\"/doc/essays/\" title=\"\">Python Essays</a></li>\\n    \\n</ul>\\n\\n        \\n    </li>\\n    \\n    \\n    \\n    <li id=\"community\" class=\"tier-1 element-4  \" aria-haspopup=\"true\">\\n        <a href=\"/community/\" title=\"\" class=\"\">Community</a>\\n        \\n            \\n\\n<ul class=\"subnav menu\" role=\"menu\" aria-hidden=\"true\">\\n    \\n        <li class=\"tier-2 element-1\" role=\"treeitem\"><a href=\"/community/survey\" title=\"\">Community Survey</a></li>\\n    \\n        <li class=\"tier-2 element-2\" role=\"treeitem\"><a href=\"/community/diversity/\" title=\"\">Diversity</a></li>\\n    \\n        <li class=\"tier-2 element-3\" role=\"treeitem\"><a href=\"/community/lists/\" title=\"\">Mailing Lists</a></li>\\n    \\n        <li class=\"tier-2 element-4\" role=\"treeitem\"><a href=\"/community/irc/\" title=\"\">IRC</a></li>\\n    \\n        <li class=\"tier-2 element-5\" role=\"treeitem\"><a href=\"/community/forums/\" title=\"\">Forums</a></li>\\n    \\n        <li class=\"tier-2 element-6\" role=\"treeitem\"><a href=\"/psf/annual-report/2019/\" title=\"\">PSF Annual Impact Report</a></li>\\n    \\n        <li class=\"tier-2 element-7\" role=\"treeitem\"><a href=\"/community/workshops/\" title=\"\">Python Conferences</a></li>\\n    \\n        <li class=\"tier-2 element-8\" role=\"treeitem\"><a href=\"/community/sigs/\" title=\"\">Special Interest Groups</a></li>\\n    \\n        <li class=\"tier-2 element-9\" role=\"treeitem\"><a href=\"/community/logos/\" title=\"\">Python Logo</a></li>\\n    \\n        <li class=\"tier-2 element-10\" role=\"treeitem\"><a href=\"https://wiki.python.org/moin/\" title=\"\">Python Wiki</a></li>\\n    \\n        <li class=\"tier-2 element-11\" role=\"treeitem\"><a href=\"/community/merchandise/\" title=\"\">Merchandise</a></li>\\n    \\n        <li class=\"tier-2 element-12\" role=\"treeitem\"><a href=\"/community/awards\" title=\"\">Community Awards</a></li>\\n    \\n        <li class=\"tier-2 element-13\" role=\"treeitem\"><a href=\"/psf/conduct/\" title=\"\">Code of Conduct</a></li>\\n    \\n</ul>\\n\\n        \\n    </li>\\n    \\n    \\n    \\n    <li id=\"success-stories\" class=\"tier-1 element-5  \" aria-haspopup=\"true\">\\n        <a href=\"/success-stories/\" title=\"success-stories\" class=\"\">Success Stories</a>\\n        \\n            \\n\\n<ul class=\"subnav menu\" role=\"menu\" aria-hidden=\"true\">\\n    \\n        <li class=\"tier-2 element-1\" role=\"treeitem\"><a href=\"/success-stories/category/arts/\" title=\"\">Arts</a></li>\\n    \\n        <li class=\"tier-2 element-2\" role=\"treeitem\"><a href=\"/success-stories/category/business/\" title=\"\">Business</a></li>\\n    \\n        <li class=\"tier-2 element-3\" role=\"treeitem\"><a href=\"/success-stories/category/education/\" title=\"\">Education</a></li>\\n    \\n        <li class=\"tier-2 element-4\" role=\"treeitem\"><a href=\"/success-stories/category/engineering/\" title=\"\">Engineering</a></li>\\n    \\n        <li class=\"tier-2 element-5\" role=\"treeitem\"><a href=\"/success-stories/category/government/\" title=\"\">Government</a></li>\\n    \\n        <li class=\"tier-2 element-6\" role=\"treeitem\"><a href=\"/success-stories/category/scientific/\" title=\"\">Scientific</a></li>\\n    \\n        <li class=\"tier-2 element-7\" role=\"treeitem\"><a href=\"/success-stories/category/software-development/\" title=\"\">Software Development</a></li>\\n    \\n</ul>\\n\\n        \\n    </li>\\n    \\n    \\n    \\n    <li id=\"news\" class=\"tier-1 element-6  \" aria-haspopup=\"true\">\\n        <a href=\"/blogs/\" title=\"News from around the Python world\" class=\"\">News</a>\\n        \\n            \\n\\n<ul class=\"subnav menu\" role=\"menu\" aria-hidden=\"true\">\\n    \\n        <li class=\"tier-2 element-1\" role=\"treeitem\"><a href=\"/blogs/\" title=\"Python Insider Blog Posts\">Python News</a></li>\\n    \\n        <li class=\"tier-2 element-2\" role=\"treeitem\"><a href=\"/psf/newsletter/\" title=\"Python Software Foundation Newsletter\">PSF Newsletter</a></li>\\n    \\n        <li class=\"tier-2 element-3\" role=\"treeitem\"><a href=\"http://planetpython.org/\" title=\"Planet Python\">Community News</a></li>\\n    \\n        <li class=\"tier-2 element-4\" role=\"treeitem\"><a href=\"http://pyfound.blogspot.com/\" title=\"PSF Blog\">PSF News</a></li>\\n    \\n        <li class=\"tier-2 element-5\" role=\"treeitem\"><a href=\"http://pycon.blogspot.com/\" title=\"PyCon Blog\">PyCon News</a></li>\\n    \\n</ul>\\n\\n        \\n    </li>\\n    \\n    \\n    \\n    <li id=\"events\" class=\"tier-1 element-7  \" aria-haspopup=\"true\">\\n        <a href=\"/events/\" title=\"\" class=\"\">Events</a>\\n        \\n            \\n\\n<ul class=\"subnav menu\" role=\"menu\" aria-hidden=\"true\">\\n    \\n        <li class=\"tier-2 element-1\" role=\"treeitem\"><a href=\"/events/python-events\" title=\"\">Python Events</a></li>\\n    \\n        <li class=\"tier-2 element-2\" role=\"treeitem\"><a href=\"/events/python-user-group/\" title=\"\">User Group Events</a></li>\\n    \\n        <li class=\"tier-2 element-3\" role=\"treeitem\"><a href=\"/events/python-events/past/\" title=\"\">Python Events Archive</a></li>\\n    \\n        <li class=\"tier-2 element-4\" role=\"treeitem\"><a href=\"/events/python-user-group/past/\" title=\"\">User Group Events Archive</a></li>\\n    \\n        <li class=\"tier-2 element-5\" role=\"treeitem\"><a href=\"https://wiki.python.org/moin/PythonEventsCalendar#Submitting_an_Event\" title=\"\">Submit an Event</a></li>\\n    \\n</ul>\\n\\n        \\n    </li>\\n    \\n    \\n    \\n    \\n  \\n</ul>\\n\\n                    \\n                </nav>\\n\\n                <div class=\"header-banner \"> <!-- for optional \"do-not-print\" class -->\\n                    \\n        <div id=\"dive-into-python\" class=\"flex-slideshow slideshow\">\\n\\n            <ul class=\"launch-shell menu\" id=\"launch-shell\">\\n                <li>\\n                    <a class=\"button prompt\" id=\"start-shell\" data-shell-container=\"#dive-into-python\" href=\"/shell/\">&gt;_\\n                        <span class=\"message\">Launch Interactive Shell</span>\\n                    </a>\\n                </li>\\n            </ul>\\n\\n            <ul class=\"slides menu\">\\n                \\n                <li>\\n                    <div class=\"slide-code\"><pre><code><span class=\"comment\"># Python 3: Fibonacci series up to n</span>\\r\\n>>> def fib(n):\\r\\n>>>     a, b = 0, 1\\r\\n>>>     while a &lt; n:\\r\\n>>>         print(a, end=\\' \\')\\r\\n>>>         a, b = b, a+b\\r\\n>>>     print()\\r\\n>>> fib(1000)\\r\\n<span class=\"output\">0 1 1 2 3 5 8 13 21 34 55 89 144 233 377 610 987</span></code></pre></div>\\n                    <div class=\"slide-copy\"><h1>Functions Defined</h1>\\r\\n<p>The core of extensible programming is defining functions. Python allows mandatory and optional arguments, keyword arguments, and even arbitrary argument lists. <a href=\"//docs.python.org/3/tutorial/controlflow.html#defining-functions\">More about defining functions in Python&nbsp;3</a></p></div>\\n                </li>\\n                \\n                <li>\\n                    <div class=\"slide-code\"><pre><code><span class=\"comment\"># Python 3: List comprehensions</span>\\r\\n>>> fruits = [\\'Banana\\', \\'Apple\\', \\'Lime\\']\\r\\n>>> loud_fruits = [fruit.upper() for fruit in fruits]\\r\\n>>> print(loud_fruits)\\r\\n<span class=\"output\">[\\'BANANA\\', \\'APPLE\\', \\'LIME\\']</span>\\r\\n\\r\\n<span class=\"comment\"># List and the enumerate function</span>\\r\\n>>> list(enumerate(fruits))\\r\\n<span class=\"output\">[(0, \\'Banana\\'), (1, \\'Apple\\'), (2, \\'Lime\\')]</span></code></pre></div>\\n                    <div class=\"slide-copy\"><h1>Compound Data Types</h1>\\r\\n<p>Lists (known as arrays in other languages) are one of the compound data types that Python understands. Lists can be indexed, sliced and manipulated with other built-in functions. <a href=\"//docs.python.org/3/tutorial/introduction.html#lists\">More about lists in Python&nbsp;3</a></p></div>\\n                </li>\\n                \\n                <li>\\n                    <div class=\"slide-code\"><pre><code><span class=\"comment\"># Python 3: Simple arithmetic</span>\\r\\n>>> 1 / 2\\r\\n<span class=\"output\">0.5</span>\\r\\n>>> 2 ** 3\\r\\n<span class=\"output\">8</span>\\r\\n>>> 17 / 3  <span class=\"comment\"># classic division returns a float</span>\\r\\n<span class=\"output\">5.666666666666667</span>\\r\\n>>> 17 // 3  <span class=\"comment\"># floor division</span>\\r\\n<span class=\"output\">5</span></code></pre></div>\\n                    <div class=\"slide-copy\"><h1>Intuitive Interpretation</h1>\\r\\n<p>Calculations are simple with Python, and expression syntax is straightforward: the operators <code>+</code>, <code>-</code>, <code>*</code> and <code>/</code> work as expected; parentheses <code>()</code> can be used for grouping. <a href=\"http://docs.python.org/3/tutorial/introduction.html#using-python-as-a-calculator\">More about simple math functions in Python&nbsp;3</a>.</p></div>\\n                </li>\\n                \\n                <li>\\n                    <div class=\"slide-code\"><pre><code><span class=\"comment\"># Python 3: Simple output (with Unicode)</span>\\r\\n>>> print(\"Hello, I\\'m Python!\")\\r\\n<span class=\"output\">Hello, I\\'m Python!</span>\\r\\n\\r\\n<span class=\"comment\"># Input, assignment</span>\\r\\n>>> name = input(\\'What is your name?\\\\n\\')\\r\\n>>> print(\\'Hi, %s.\\' % name)\\r\\n<span class=\"output\">What is your name?\\r\\nPython\\r\\nHi, Python.</span></code></pre></div>\\n                    <div class=\"slide-copy\"><h1>Quick &amp; Easy to Learn</h1>\\r\\n<p>Experienced programmers in any other language can pick up Python very quickly, and beginners find the clean syntax and indentation structure easy to learn. <a href=\"//docs.python.org/3/tutorial/\">Whet your appetite</a> with our Python&nbsp;3 overview.</p>\\r\\n                   </div>\\n                </li>\\n                \\n                <li>\\n                    <div class=\"slide-code\"><pre><code><span class=\"comment\"># For loop on a list</span>\\r\\n>>> numbers = [2, 4, 6, 8]\\r\\n>>> product = 1\\r\\n>>> for number in numbers:\\r\\n...    product = product * number\\r\\n... \\r\\n>>> print(\\'The product is:\\', product)\\r\\n<span class=\"output\">The product is: 384</span></code></pre></div>\\n                    <div class=\"slide-copy\"><h1>All the Flow You&rsquo;d Expect</h1>\\r\\n<p>Python knows the usual control flow statements that other languages speak &mdash; <code>if</code>, <code>for</code>, <code>while</code> and <code>range</code> &mdash; with some of its own twists, of course. <a href=\"//docs.python.org/3/tutorial/controlflow.html\">More control flow tools in Python&nbsp;3</a></p></div>\\n                </li>\\n                \\n            </ul>\\n        </div>\\n\\n\\n                </div>\\n\\n                \\n        <div class=\"introduction\">\\n            <p>Python is a programming language that lets you work quickly <span class=\"breaker\"></span>and integrate systems more effectively. <a class=\"readmore\" href=\"/doc/\">Learn More</a></p>\\n        </div>\\n\\n\\n             </div><!-- end .container -->\\n        </header>\\n\\n        <div id=\"content\" class=\"content-wrapper\">\\n            <!-- Main Content Column -->\\n            <div class=\"container\">\\n\\n                <section class=\"main-content \" role=\"main\">\\n\\n                    \\n                    \\n\\n                    \\n\\n                    \\n\\n                \\n\\n                <div class=\"row\">\\n\\n                    <div class=\"small-widget get-started-widget\">\\n                        <h2 class=\"widget-title\"><span aria-hidden=\"true\" class=\"icon-get-started\"></span>Get Started</h2>\\r\\n<p>Whether you\\'re new to programming or an experienced developer, it\\'s easy to learn and use Python.</p>\\r\\n<p><a href=\"/about/gettingstarted/\">Start with our Beginner&rsquo;s Guide</a></p>\\n                    </div>\\n\\n                    <div class=\"small-widget download-widget\">\\n                        <h2 class=\"widget-title\"><span aria-hidden=\"true\" class=\"icon-download\"></span>Download</h2>\\n<p>Python source code and installers are available for download for all versions!</p>\\n<p>Latest: <a href=\"/downloads/release/python-382/\">Python 3.8.2</a></p>\\n                    </div>\\n\\n                    <div class=\"small-widget documentation-widget\">\\n                        <h2 class=\"widget-title\"><span aria-hidden=\"true\" class=\"icon-documentation\"></span>Docs</h2>\\r\\n<p>Documentation for Python\\'s standard library, along with tutorials and guides, are available online.</p>\\r\\n<p><a href=\"https://docs.python.org\">docs.python.org</a></p>\\n                    </div>\\n\\n                    <div class=\"small-widget jobs-widget last\">\\n                        <h2 class=\"widget-title\"><span aria-hidden=\"true\" class=\"icon-jobs\"></span>Jobs</h2>\\r\\n<p>Looking for work or have a Python related position that you\\'re trying to hire for? Our <strong>relaunched community-run job board</strong> is the place to go.</p>\\r\\n<p><a href=\"//jobs.python.org\">jobs.python.org</a></p>\\n                    </div>\\n\\n                </div>\\n\\n                <div class=\"list-widgets row\">\\n\\n                    <div class=\"medium-widget blog-widget\">\\n                        \\n                        <div class=\"shrubbery\">\\n                        \\n                            <h2 class=\"widget-title\"><span aria-hidden=\"true\" class=\"icon-news\"></span>Latest News</h2>\\n                            <p class=\"give-me-more\"><a href=\"https://blog.python.org\" title=\"More News\">More</a></p>\\n                            \\n                            <ul class=\"menu\">\\n                                \\n                                \\n                                <li>\\n<time datetime=\"2020-04-06T15:02:00+00:00\"><span class=\"say-no-more\">2020-</span>04-06</time>\\n <a href=\"http://feedproxy.google.com/~r/PythonSoftwareFoundationNews/~3/jik63d3gqes/python-software-foundation-fellow.html\">Python Software Foundation Fellow Members for Q1 2020</a></li>\\n                                \\n                                <li>\\n<time datetime=\"2020-04-06T14:40:00+00:00\"><span class=\"say-no-more\">2020-</span>04-06</time>\\n <a href=\"http://feedproxy.google.com/~r/PythonInsider/~3/K1JPIqUkG1o/python-2718-release-candidate-1.html\">Python 2.7.18 release candidate 1 available</a></li>\\n                                \\n                                <li>\\n<time datetime=\"2020-04-03T15:41:00.000004+00:00\"><span class=\"say-no-more\">2020-</span>04-03</time>\\n <a href=\"http://feedproxy.google.com/~r/PythonSoftwareFoundationNews/~3/B7IZS03_Ajc/sponsoring-python-packaging.html\">Announcing a new Sponsorship Program for Python Packaging</a></li>\\n                                \\n                                <li>\\n<time datetime=\"2020-03-31T15:00:00.000001+00:00\"><span class=\"say-no-more\">2020-</span>03-31</time>\\n <a href=\"http://feedproxy.google.com/~r/PythonSoftwareFoundationNews/~3/ft6nIyIxM-w/psfs-projected-2020-financial-outcome.html\">PSF&#39;s Projected 2020 Financial Outcome</a></li>\\n                                \\n                                <li>\\n<time datetime=\"2020-03-23T23:39:00+00:00\"><span class=\"say-no-more\">2020-</span>03-23</time>\\n <a href=\"http://feedproxy.google.com/~r/PythonInsider/~3/lW-tcArtd80/python-390a5-is-now-available-for.html\">Python 3.9.0a5 is now available for testing</a></li>\\n                                \\n                            </ul>\\n                        </div><!-- end .shrubbery -->\\n\\n                    </div>\\n\\n                    <div class=\"medium-widget event-widget last\">\\n                        \\n                        <div class=\"shrubbery\">\\n                        \\n                            <h2 class=\"widget-title\"><span aria-hidden=\"true\" class=\"icon-calendar\"></span>Upcoming Events</h2>\\n                            <p class=\"give-me-more\"><a href=\"/events/calendars/\" title=\"More Events\">More</a></p>\\n                            \\n                            <ul class=\"menu\">\\n                                \\n                                \\n                                \\n                                <li>\\n<time datetime=\"2020-04-15T00:00:00+00:00\"><span class=\"say-no-more\">2020-</span>04-15</time>\\n <a href=\"/events/python-events/894/\">PyCon US 2020</a></li>\\n                                \\n                                \\n                                \\n                                <li>\\n<time datetime=\"2020-04-18T00:00:00+00:00\"><span class=\"say-no-more\">2020-</span>04-18</time>\\n <a href=\"/events/python-events/910/\">DragonPy 2020</a></li>\\n                                \\n                                \\n                                \\n                                <li>\\n<time datetime=\"2020-04-22T16:00:00+00:00\"><span class=\"say-no-more\">2020-</span>04-22</time>\\n <a href=\"/events/python-user-group/913/\">Python Meeting Düsseldorf</a></li>\\n                                \\n                                \\n                                \\n                                <li>\\n<time datetime=\"2020-04-25T00:00:00+00:00\"><span class=\"say-no-more\">2020-</span>04-25</time>\\n <a href=\"/events/python-events/965/\">Remote Python Pizza</a></li>\\n                                \\n                                \\n                                \\n                                <li>\\n<time datetime=\"2020-04-25T00:00:00+00:00\"><span class=\"say-no-more\">2020-</span>04-25</time>\\n <a href=\"/events/python-user-group/909/\">PythonCamp 2020 - Cologne</a></li>\\n                                \\n                                \\n                            </ul>\\n                        </div>\\n\\n                    </div>\\n\\n                </div>\\n\\n                <div class=\"row\">\\n\\n                    <div class=\"medium-widget success-stories-widget\">\\n                        \\n\\n\\n\\n                        <div class=\"shrubbery\">\\n                            \\n\\n                            <h2 class=\"widget-title\"><span aria-hidden=\"true\" class=\"icon-success-stories\"></span>Success Stories</h2>\\n                            <p class=\"give-me-more\"><a href=\"/success-stories/\" title=\"More Success Stories\">More</a></p>\\n\\n                            \\n                            <div class=\"success-story-item\" id=\"success-story-836\">\\n\\n                            <blockquote>\\n                                <a href=\"/success-stories/python-seo-link-analyzer/\">&quot;Python is all about automating repetitive tasks, leaving more time for your other SEO efforts.&quot;</a>\\n                            </blockquote>\\n\\n                            <table cellpadding=\"0\" cellspacing=\"0\" border=\"0\" width=\"100%\" class=\"quote-from\">\\n                                <tbody>\\n                                    <tr>\\n                                        \\n                                        <td><p><a href=\"/success-stories/python-seo-link-analyzer/\">Using Python scripts to analyse SEO and broken links on your site</a> <em>by Marnix de Munck</em></p></td>\\n                                    </tr>\\n                                </tbody>\\n                            </table>\\n                            </div>\\n                            \\n\\n                        </div><!-- end .shrubbery -->\\n\\n                    </div>\\n\\n                    <div class=\"medium-widget applications-widget last\">\\n                        <div class=\"shrubbery\">\\n                            <h2 class=\"widget-title\"><span aria-hidden=\"true\" class=\"icon-python\"></span>Use Python for&hellip;</h2>\\r\\n<p class=\"give-me-more\"><a href=\"/about/apps\" title=\"More Applications\">More</a></p>\\r\\n\\r\\n<ul class=\"menu\">\\r\\n    <li><b>Web Development</b>:\\r\\n        <span class=\"tag-wrapper\"><a class=\"tag\" href=\"http://www.djangoproject.com/\">Django</a>, <a class=\"tag\" href=\"http://www.pylonsproject.org/\">Pyramid</a>, <a class=\"tag\" href=\"http://bottlepy.org\">Bottle</a>, <a class=\"tag\" href=\"http://tornadoweb.org\">Tornado</a>, <a href=\"http://flask.pocoo.org/\" class=\"tag\">Flask</a>, <a class=\"tag\" href=\"http://www.web2py.com/\">web2py</a></span></li>\\r\\n    <li><b>GUI Development</b>:\\r\\n        <span class=\"tag-wrapper\"><a class=\"tag\" href=\"http://wiki.python.org/moin/TkInter\">tkInter</a>, <a class=\"tag\" href=\"https://wiki.gnome.org/Projects/PyGObject\">PyGObject</a>, <a class=\"tag\" href=\"http://www.riverbankcomputing.co.uk/software/pyqt/intro\">PyQt</a>, <a class=\"tag\" href=\"https://wiki.qt.io/PySide\">PySide</a>, <a class=\"tag\" href=\"https://kivy.org/\">Kivy</a>, <a class=\"tag\" href=\"http://www.wxpython.org/\">wxPython</a></span></li>\\r\\n    <li><b>Scientific and Numeric</b>:\\r\\n        <span class=\"tag-wrapper\">\\r\\n<a class=\"tag\" href=\"http://www.scipy.org\">SciPy</a>, <a class=\"tag\" href=\"http://pandas.pydata.org/\">Pandas</a>, <a href=\"http://ipython.org\" class=\"tag\">IPython</a></span></li>\\r\\n    <li><b>Software Development</b>:\\r\\n        <span class=\"tag-wrapper\"><a class=\"tag\" href=\"http://buildbot.net/\">Buildbot</a>, <a class=\"tag\" href=\"http://trac.edgewall.org/\">Trac</a>, <a class=\"tag\" href=\"http://roundup.sourceforge.net/\">Roundup</a></span></li>\\r\\n    <li><b>System Administration</b>:\\r\\n        <span class=\"tag-wrapper\"><a class=\"tag\" href=\"http://www.ansible.com\">Ansible</a>, <a class=\"tag\" href=\"http://www.saltstack.com\">Salt</a>, <a class=\"tag\" href=\"https://www.openstack.org\">OpenStack</a></span></li>\\r\\n</ul>\\r\\n\\n                        </div><!-- end .shrubbery -->\\n                    </div>\\n\\n                </div>\\n\\n                \\n                <div class=\"pep-widget\">\\n\\n                    <h2 class=\"widget-title\">\\n                        <span class=\"prompt\">&gt;&gt;&gt;</span> <a href=\"/dev/peps/\">Python Enhancement Proposals<span class=\"say-no-more\"> (PEPs)</span></a>: The future of Python<span class=\"say-no-more\"> is discussed here.</span>\\n                        <a aria-hidden=\"true\" class=\"rss-link\" href=\"/dev/peps/peps.rss\"><span class=\"icon-feed\"></span> RSS</a>\\n                    </h2>\\n\\n\\n                    \\n                    \\n                </div>\\n\\n                                <div class=\"psf-widget\">\\n\\n                    <div class=\"python-logo\"></div>\\n                    \\n                    <h2 class=\"widget-title\">\\r\\n    <span class=\"prompt\">&gt;&gt;&gt;</span> <a href=\"/psf/\">Python Software Foundation</a>\\r\\n</h2>\\r\\n<p>The mission of the Python Software Foundation is to promote, protect, and advance the Python programming language, and to support and facilitate the growth of a diverse and international community of Python programmers. <a class=\"readmore\" href=\"/psf/\">Learn more</a> </p>\\r\\n<p class=\"click-these\">\\r\\n    <a class=\"button\" href=\"/users/membership/\">Become a Member</a>\\r\\n    <a class=\"button\" href=\"/psf/donations/\">Donate to the PSF</a>\\r\\n</p>\\n                </div>\\n\\n\\n\\n\\n                </section>\\n\\n                \\n                \\n\\n                \\n                \\n\\n\\n            </div><!-- end .container -->\\n        </div><!-- end #content .content-wrapper -->\\n\\n        <!-- Footer and social media list -->\\n        <footer id=\"site-map\" class=\"main-footer\" role=\"contentinfo\">\\n            <div class=\"main-footer-links\">\\n                <div class=\"container\">\\n\\n                    \\n                    <a id=\"back-to-top-1\" class=\"jump-link\" href=\"#python-network\"><span aria-hidden=\"true\" class=\"icon-arrow-up\"><span>&#9650;</span></span> Back to Top</a>\\n\\n                    \\n\\n<ul class=\"sitemap navigation menu do-not-print\" role=\"tree\" id=\"container\">\\n    \\n    <li class=\"tier-1 element-1\">\\n        <a href=\"/about/\" >About</a>\\n        \\n            \\n\\n<ul class=\"subnav menu\">\\n    \\n        <li class=\"tier-2 element-1\" role=\"treeitem\"><a href=\"/about/apps/\" title=\"\">Applications</a></li>\\n    \\n        <li class=\"tier-2 element-2\" role=\"treeitem\"><a href=\"/about/quotes/\" title=\"\">Quotes</a></li>\\n    \\n        <li class=\"tier-2 element-3\" role=\"treeitem\"><a href=\"/about/gettingstarted/\" title=\"\">Getting Started</a></li>\\n    \\n        <li class=\"tier-2 element-4\" role=\"treeitem\"><a href=\"/about/help/\" title=\"\">Help</a></li>\\n    \\n        <li class=\"tier-2 element-5\" role=\"treeitem\"><a href=\"http://brochure.getpython.info/\" title=\"\">Python Brochure</a></li>\\n    \\n</ul>\\n\\n        \\n    </li>\\n    \\n    <li class=\"tier-1 element-2\">\\n        <a href=\"/downloads/\" >Downloads</a>\\n        \\n            \\n\\n<ul class=\"subnav menu\">\\n    \\n        <li class=\"tier-2 element-1\" role=\"treeitem\"><a href=\"/downloads/\" title=\"\">All releases</a></li>\\n    \\n        <li class=\"tier-2 element-2\" role=\"treeitem\"><a href=\"/downloads/source/\" title=\"\">Source code</a></li>\\n    \\n        <li class=\"tier-2 element-3\" role=\"treeitem\"><a href=\"/downloads/windows/\" title=\"\">Windows</a></li>\\n    \\n        <li class=\"tier-2 element-4\" role=\"treeitem\"><a href=\"/downloads/mac-osx/\" title=\"\">Mac OS X</a></li>\\n    \\n        <li class=\"tier-2 element-5\" role=\"treeitem\"><a href=\"/download/other/\" title=\"\">Other Platforms</a></li>\\n    \\n        <li class=\"tier-2 element-6\" role=\"treeitem\"><a href=\"https://docs.python.org/3/license.html\" title=\"\">License</a></li>\\n    \\n        <li class=\"tier-2 element-7\" role=\"treeitem\"><a href=\"/download/alternatives\" title=\"\">Alternative Implementations</a></li>\\n    \\n</ul>\\n\\n        \\n    </li>\\n    \\n    <li class=\"tier-1 element-3\">\\n        <a href=\"/doc/\" >Documentation</a>\\n        \\n            \\n\\n<ul class=\"subnav menu\">\\n    \\n        <li class=\"tier-2 element-1\" role=\"treeitem\"><a href=\"/doc/\" title=\"\">Docs</a></li>\\n    \\n        <li class=\"tier-2 element-2\" role=\"treeitem\"><a href=\"/doc/av\" title=\"\">Audio/Visual Talks</a></li>\\n    \\n        <li class=\"tier-2 element-3\" role=\"treeitem\"><a href=\"https://wiki.python.org/moin/BeginnersGuide\" title=\"\">Beginner&#39;s Guide</a></li>\\n    \\n        <li class=\"tier-2 element-4\" role=\"treeitem\"><a href=\"https://devguide.python.org/\" title=\"\">Developer&#39;s Guide</a></li>\\n    \\n        <li class=\"tier-2 element-5\" role=\"treeitem\"><a href=\"https://docs.python.org/faq/\" title=\"\">FAQ</a></li>\\n    \\n        <li class=\"tier-2 element-6\" role=\"treeitem\"><a href=\"http://wiki.python.org/moin/Languages\" title=\"\">Non-English Docs</a></li>\\n    \\n        <li class=\"tier-2 element-7\" role=\"treeitem\"><a href=\"http://python.org/dev/peps/\" title=\"\">PEP Index</a></li>\\n    \\n        <li class=\"tier-2 element-8\" role=\"treeitem\"><a href=\"https://wiki.python.org/moin/PythonBooks\" title=\"\">Python Books</a></li>\\n    \\n        <li class=\"tier-2 element-9\" role=\"treeitem\"><a href=\"/doc/essays/\" title=\"\">Python Essays</a></li>\\n    \\n</ul>\\n\\n        \\n    </li>\\n    \\n    <li class=\"tier-1 element-4\">\\n        <a href=\"/community/\" >Community</a>\\n        \\n            \\n\\n<ul class=\"subnav menu\">\\n    \\n        <li class=\"tier-2 element-1\" role=\"treeitem\"><a href=\"/community/survey\" title=\"\">Community Survey</a></li>\\n    \\n        <li class=\"tier-2 element-2\" role=\"treeitem\"><a href=\"/community/diversity/\" title=\"\">Diversity</a></li>\\n    \\n        <li class=\"tier-2 element-3\" role=\"treeitem\"><a href=\"/community/lists/\" title=\"\">Mailing Lists</a></li>\\n    \\n        <li class=\"tier-2 element-4\" role=\"treeitem\"><a href=\"/community/irc/\" title=\"\">IRC</a></li>\\n    \\n        <li class=\"tier-2 element-5\" role=\"treeitem\"><a href=\"/community/forums/\" title=\"\">Forums</a></li>\\n    \\n        <li class=\"tier-2 element-6\" role=\"treeitem\"><a href=\"/psf/annual-report/2019/\" title=\"\">PSF Annual Impact Report</a></li>\\n    \\n        <li class=\"tier-2 element-7\" role=\"treeitem\"><a href=\"/community/workshops/\" title=\"\">Python Conferences</a></li>\\n    \\n        <li class=\"tier-2 element-8\" role=\"treeitem\"><a href=\"/community/sigs/\" title=\"\">Special Interest Groups</a></li>\\n    \\n        <li class=\"tier-2 element-9\" role=\"treeitem\"><a href=\"/community/logos/\" title=\"\">Python Logo</a></li>\\n    \\n        <li class=\"tier-2 element-10\" role=\"treeitem\"><a href=\"https://wiki.python.org/moin/\" title=\"\">Python Wiki</a></li>\\n    \\n        <li class=\"tier-2 element-11\" role=\"treeitem\"><a href=\"/community/merchandise/\" title=\"\">Merchandise</a></li>\\n    \\n        <li class=\"tier-2 element-12\" role=\"treeitem\"><a href=\"/community/awards\" title=\"\">Community Awards</a></li>\\n    \\n        <li class=\"tier-2 element-13\" role=\"treeitem\"><a href=\"/psf/conduct/\" title=\"\">Code of Conduct</a></li>\\n    \\n</ul>\\n\\n        \\n    </li>\\n    \\n    <li class=\"tier-1 element-5\">\\n        <a href=\"/success-stories/\" title=\"success-stories\">Success Stories</a>\\n        \\n            \\n\\n<ul class=\"subnav menu\">\\n    \\n        <li class=\"tier-2 element-1\" role=\"treeitem\"><a href=\"/success-stories/category/arts/\" title=\"\">Arts</a></li>\\n    \\n        <li class=\"tier-2 element-2\" role=\"treeitem\"><a href=\"/success-stories/category/business/\" title=\"\">Business</a></li>\\n    \\n        <li class=\"tier-2 element-3\" role=\"treeitem\"><a href=\"/success-stories/category/education/\" title=\"\">Education</a></li>\\n    \\n        <li class=\"tier-2 element-4\" role=\"treeitem\"><a href=\"/success-stories/category/engineering/\" title=\"\">Engineering</a></li>\\n    \\n        <li class=\"tier-2 element-5\" role=\"treeitem\"><a href=\"/success-stories/category/government/\" title=\"\">Government</a></li>\\n    \\n        <li class=\"tier-2 element-6\" role=\"treeitem\"><a href=\"/success-stories/category/scientific/\" title=\"\">Scientific</a></li>\\n    \\n        <li class=\"tier-2 element-7\" role=\"treeitem\"><a href=\"/success-stories/category/software-development/\" title=\"\">Software Development</a></li>\\n    \\n</ul>\\n\\n        \\n    </li>\\n    \\n    <li class=\"tier-1 element-6\">\\n        <a href=\"/blogs/\" title=\"News from around the Python world\">News</a>\\n        \\n            \\n\\n<ul class=\"subnav menu\">\\n    \\n        <li class=\"tier-2 element-1\" role=\"treeitem\"><a href=\"/blogs/\" title=\"Python Insider Blog Posts\">Python News</a></li>\\n    \\n        <li class=\"tier-2 element-2\" role=\"treeitem\"><a href=\"/psf/newsletter/\" title=\"Python Software Foundation Newsletter\">PSF Newsletter</a></li>\\n    \\n        <li class=\"tier-2 element-3\" role=\"treeitem\"><a href=\"http://planetpython.org/\" title=\"Planet Python\">Community News</a></li>\\n    \\n        <li class=\"tier-2 element-4\" role=\"treeitem\"><a href=\"http://pyfound.blogspot.com/\" title=\"PSF Blog\">PSF News</a></li>\\n    \\n        <li class=\"tier-2 element-5\" role=\"treeitem\"><a href=\"http://pycon.blogspot.com/\" title=\"PyCon Blog\">PyCon News</a></li>\\n    \\n</ul>\\n\\n        \\n    </li>\\n    \\n    <li class=\"tier-1 element-7\">\\n        <a href=\"/events/\" >Events</a>\\n        \\n            \\n\\n<ul class=\"subnav menu\">\\n    \\n        <li class=\"tier-2 element-1\" role=\"treeitem\"><a href=\"/events/python-events\" title=\"\">Python Events</a></li>\\n    \\n        <li class=\"tier-2 element-2\" role=\"treeitem\"><a href=\"/events/python-user-group/\" title=\"\">User Group Events</a></li>\\n    \\n        <li class=\"tier-2 element-3\" role=\"treeitem\"><a href=\"/events/python-events/past/\" title=\"\">Python Events Archive</a></li>\\n    \\n        <li class=\"tier-2 element-4\" role=\"treeitem\"><a href=\"/events/python-user-group/past/\" title=\"\">User Group Events Archive</a></li>\\n    \\n        <li class=\"tier-2 element-5\" role=\"treeitem\"><a href=\"https://wiki.python.org/moin/PythonEventsCalendar#Submitting_an_Event\" title=\"\">Submit an Event</a></li>\\n    \\n</ul>\\n\\n        \\n    </li>\\n    \\n    <li class=\"tier-1 element-8\">\\n        <a href=\"/dev/\" >Contributing</a>\\n        \\n            \\n\\n<ul class=\"subnav menu\">\\n    \\n        <li class=\"tier-2 element-1\" role=\"treeitem\"><a href=\"https://devguide.python.org/\" title=\"\">Developer&#39;s Guide</a></li>\\n    \\n        <li class=\"tier-2 element-2\" role=\"treeitem\"><a href=\"https://bugs.python.org/\" title=\"\">Issue Tracker</a></li>\\n    \\n        <li class=\"tier-2 element-3\" role=\"treeitem\"><a href=\"https://mail.python.org/mailman/listinfo/python-dev\" title=\"\">python-dev list</a></li>\\n    \\n        <li class=\"tier-2 element-4\" role=\"treeitem\"><a href=\"/dev/core-mentorship/\" title=\"\">Core Mentorship</a></li>\\n    \\n        <li class=\"tier-2 element-5\" role=\"treeitem\"><a href=\"/dev/security/\" title=\"\">Report a Security Issue</a></li>\\n    \\n</ul>\\n\\n        \\n    </li>\\n    \\n</ul>\\n\\n\\n                    <a id=\"back-to-top-2\" class=\"jump-link\" href=\"#python-network\"><span aria-hidden=\"true\" class=\"icon-arrow-up\"><span>&#9650;</span></span> Back to Top</a>\\n                    \\n\\n                </div><!-- end .container -->\\n            </div> <!-- end .main-footer-links -->\\n\\n            <div class=\"site-base\">\\n                <div class=\"container\">\\n                    \\n                    <ul class=\"footer-links navigation menu do-not-print\" role=\"tree\">\\n                        <li class=\"tier-1 element-1\"><a href=\"/about/help/\">Help &amp; <span class=\"say-no-more\">General</span> Contact</a></li>\\n                        <li class=\"tier-1 element-2\"><a href=\"/community/diversity/\">Diversity <span class=\"say-no-more\">Initiatives</span></a></li>\\n                        <li class=\"tier-1 element-3\"><a href=\"https://github.com/python/pythondotorg/issues\">Submit Website Bug</a></li>\\n                        <li class=\"tier-1 element-4\">\\n                            <a href=\"https://status.python.org/\">Status <span class=\"python-status-indicator-default\" id=\"python-status-indicator\"></span></a>\\n                        </li>\\n                    </ul>\\n\\n                    <div class=\"copyright\">\\n                        <p><small>\\n                            <span class=\"pre\">Copyright &copy;2001-2020.</span>\\n                            &nbsp;<span class=\"pre\"><a href=\"/psf-landing/\">Python Software Foundation</a></span>\\n                            &nbsp;<span class=\"pre\"><a href=\"/about/legal/\">Legal Statements</a></span>\\n                            &nbsp;<span class=\"pre\"><a href=\"/privacy/\">Privacy Policy</a></span>\\n                            &nbsp;<span class=\"pre\"><a href=\"/psf/sponsorship/sponsors/#heroku\">Powered by Heroku</a></span>\\n                        </small></p>\\n                    </div>\\n\\n                </div><!-- end .container -->\\n            </div><!-- end .site-base -->\\n\\n        </footer>\\n\\n    </div><!-- end #touchnav-wrapper -->\\n\\n    \\n    <script src=\"//ajax.googleapis.com/ajax/libs/jquery/1.8.2/jquery.min.js\"></script>\\n    <script>window.jQuery || document.write(\\'<script src=\"/static/js/libs/jquery-1.8.2.min.js\"><\\\\/script>\\')</script>\\n\\n    <script src=\"/static/js/libs/masonry.pkgd.min.js\"></script>\\n    <script src=\"/static/js/libs/html-includes.js\"></script>\\n\\n    <script type=\"text/javascript\" src=\"/static/js/main-min.037d9037f112.js\" charset=\"utf-8\"></script>\\n    \\n\\n    <!--[if lte IE 7]>\\n    <script type=\"text/javascript\" src=\"/static/js/plugins/IE8-min.6dc39b5a0bdb.js\" charset=\"utf-8\"></script>\\n    \\n    \\n    <![endif]-->\\n\\n    <!--[if lte IE 8]>\\n    <script type=\"text/javascript\" src=\"/static/js/plugins/getComputedStyle-min.c3860be1d290.js\" charset=\"utf-8\"></script>\\n    \\n    \\n    <![endif]-->\\n\\n    \\n\\n    \\n    \\n\\n</body>\\n</html>\\n'"
      ]
     },
     "execution_count": 182,
     "metadata": {},
     "output_type": "execute_result"
    }
   ],
   "source": [
    "r.text"
   ]
  },
  {
   "cell_type": "code",
   "execution_count": 183,
   "metadata": {},
   "outputs": [
    {
     "data": {
      "text/plain": [
       "<RequestsCookieJar[]>"
      ]
     },
     "execution_count": 183,
     "metadata": {},
     "output_type": "execute_result"
    }
   ],
   "source": [
    "r.cookies"
   ]
  },
  {
   "cell_type": "code",
   "execution_count": 186,
   "metadata": {},
   "outputs": [
    {
     "data": {
      "text/plain": [
       "<Response [200]>"
      ]
     },
     "execution_count": 186,
     "metadata": {},
     "output_type": "execute_result"
    }
   ],
   "source": [
    "r = requests.get(\"http://www.google.com/\")\n",
    "r"
   ]
  },
  {
   "cell_type": "code",
   "execution_count": 187,
   "metadata": {
    "scrolled": true
   },
   "outputs": [
    {
     "data": {
      "text/plain": [
       "<RequestsCookieJar[Cookie(version=0, name='1P_JAR', value='2020-04-07-08', port=None, port_specified=False, domain='.google.com', domain_specified=True, domain_initial_dot=True, path='/', path_specified=True, secure=True, expires=1588839719, discard=False, comment=None, comment_url=None, rest={}, rfc2109=False), Cookie(version=0, name='NID', value='201=SfYWvY4YIWQEu3BVPXlUMMHN6hKo-Cza4YmuYoHPNk05Y9eGJ63tdvwTdih5_hoAuwndYz7MougtZ6obSeJfChraVmrR7aTbHjN83GCIhuIz8ws6ZS0NdAV_CWXfIWh-kr6Bt_nsgU5J3RYfIZSMUw0JEWMcnhk3A9R5R3Kweko', port=None, port_specified=False, domain='.google.com', domain_specified=True, domain_initial_dot=True, path='/', path_specified=True, secure=False, expires=1602058919, discard=False, comment=None, comment_url=None, rest={'HttpOnly': None}, rfc2109=False)]>"
      ]
     },
     "execution_count": 187,
     "metadata": {},
     "output_type": "execute_result"
    }
   ],
   "source": [
    "r.cookies"
   ]
  },
  {
   "cell_type": "code",
   "execution_count": 188,
   "metadata": {},
   "outputs": [
    {
     "data": {
      "text/plain": [
       "['1P_JAR', 'NID']"
      ]
     },
     "execution_count": 188,
     "metadata": {},
     "output_type": "execute_result"
    }
   ],
   "source": [
    "r.cookies.keys()"
   ]
  },
  {
   "cell_type": "code",
   "execution_count": 189,
   "metadata": {
    "scrolled": true
   },
   "outputs": [
    {
     "data": {
      "text/plain": [
       "['2020-04-07-08',\n",
       " '201=SfYWvY4YIWQEu3BVPXlUMMHN6hKo-Cza4YmuYoHPNk05Y9eGJ63tdvwTdih5_hoAuwndYz7MougtZ6obSeJfChraVmrR7aTbHjN83GCIhuIz8ws6ZS0NdAV_CWXfIWh-kr6Bt_nsgU5J3RYfIZSMUw0JEWMcnhk3A9R5R3Kweko']"
      ]
     },
     "execution_count": 189,
     "metadata": {},
     "output_type": "execute_result"
    }
   ],
   "source": [
    "r.cookies.values()"
   ]
  },
  {
   "cell_type": "code",
   "execution_count": null,
   "metadata": {},
   "outputs": [],
   "source": [
    "r.cookies."
   ]
  },
  {
   "cell_type": "markdown",
   "metadata": {},
   "source": [
    "##### Response object:\n",
    "   .ok\n",
    "   \n",
    "   .status_code\n",
    "   \n",
    "   .content\n",
    "   \n",
    "   .text\n",
    "   \n",
    "   .headers\n",
    "   \n",
    "   .cookies\n",
    "   "
   ]
  },
  {
   "cell_type": "code",
   "execution_count": 192,
   "metadata": {},
   "outputs": [
    {
     "data": {
      "text/plain": [
       "<Response [200]>"
      ]
     },
     "execution_count": 192,
     "metadata": {},
     "output_type": "execute_result"
    }
   ],
   "source": [
    "r = requests.get(\"http://localhost:3000/posts\")\n",
    "r"
   ]
  },
  {
   "cell_type": "code",
   "execution_count": 193,
   "metadata": {},
   "outputs": [
    {
     "data": {
      "text/plain": [
       "True"
      ]
     },
     "execution_count": 193,
     "metadata": {},
     "output_type": "execute_result"
    }
   ],
   "source": [
    "r.ok"
   ]
  },
  {
   "cell_type": "code",
   "execution_count": 194,
   "metadata": {
    "scrolled": true
   },
   "outputs": [
    {
     "data": {
      "text/plain": [
       "{'X-Powered-By': 'Express', 'Vary': 'Origin, Accept-Encoding', 'Access-Control-Allow-Credentials': 'true', 'Cache-Control': 'no-cache', 'Pragma': 'no-cache', 'Expires': '-1', 'X-Content-Type-Options': 'nosniff', 'Content-Type': 'application/json; charset=utf-8', 'Content-Length': '540', 'ETag': 'W/\"21c-itg4KAJQnkS32g7SvleavYuoRXw\"', 'Date': 'Tue, 07 Apr 2020 08:25:51 GMT', 'Connection': 'keep-alive'}"
      ]
     },
     "execution_count": 194,
     "metadata": {},
     "output_type": "execute_result"
    }
   ],
   "source": [
    "r.headers"
   ]
  },
  {
   "cell_type": "code",
   "execution_count": 196,
   "metadata": {
    "scrolled": true
   },
   "outputs": [
    {
     "data": {
      "text/plain": [
       "[{'title': 'a new message'},\n",
       " {'title': 'an updated message', 'author': 'Chandrashekar', 'id': 4},\n",
       " {'title': 'sdfsdkfjsdlk fjskdlfj ', 'author': 'weiruweiruweiorw', 'id': 6},\n",
       " {'title': 'sdfsdkfjsdlk fjskdlfj ', 'author': 'weiruweiruweiorw', 'id': 7},\n",
       " {'title': 'this is a new message', 'author': 'John doe', 'id': 8},\n",
       " {'title': 'a new title',\n",
       "  'description': 'this is test message',\n",
       "  'id': 'IQn9WnGr80k'},\n",
       " {'title': 'aaa bbb ccc'}]"
      ]
     },
     "execution_count": 196,
     "metadata": {},
     "output_type": "execute_result"
    }
   ],
   "source": [
    "r.json()"
   ]
  },
  {
   "cell_type": "code",
   "execution_count": 197,
   "metadata": {},
   "outputs": [],
   "source": [
    "endpoint = \"http://localhost:3000/posts\""
   ]
  },
  {
   "cell_type": "code",
   "execution_count": 198,
   "metadata": {},
   "outputs": [
    {
     "data": {
      "text/plain": [
       "<Response [201]>"
      ]
     },
     "execution_count": 198,
     "metadata": {},
     "output_type": "execute_result"
    }
   ],
   "source": [
    "r = requests.post(endpoint, \n",
    "                  json={\"title\": \"april 7th\", \"author\": \"Chandrashekar\"})\n",
    "r"
   ]
  },
  {
   "cell_type": "code",
   "execution_count": 200,
   "metadata": {
    "scrolled": true
   },
   "outputs": [
    {
     "data": {
      "text/plain": [
       "[{'title': 'a new message'},\n",
       " {'title': 'an updated message', 'author': 'Chandrashekar', 'id': 4},\n",
       " {'title': 'sdfsdkfjsdlk fjskdlfj ', 'author': 'weiruweiruweiorw', 'id': 6},\n",
       " {'title': 'sdfsdkfjsdlk fjskdlfj ', 'author': 'weiruweiruweiorw', 'id': 7},\n",
       " {'title': 'this is a new message', 'author': 'John doe', 'id': 8},\n",
       " {'title': 'a new title',\n",
       "  'description': 'this is test message',\n",
       "  'id': 'IQn9WnGr80k'},\n",
       " {'title': 'aaa bbb ccc'},\n",
       " {'title': 'april 7th', 'author': 'Chandrashekar', 'id': 9}]"
      ]
     },
     "execution_count": 200,
     "metadata": {},
     "output_type": "execute_result"
    }
   ],
   "source": [
    "requests.get(endpoint).json()"
   ]
  },
  {
   "cell_type": "code",
   "execution_count": 203,
   "metadata": {},
   "outputs": [
    {
     "name": "stdout",
     "output_type": "stream",
     "text": [
      "{'title': 'april 7th', 'author': 'Chandrashekar', 'id': 9}\n"
     ]
    }
   ],
   "source": [
    "r = requests.get(\"http://localhost:3000/posts/9\")\n",
    "if r.ok:\n",
    "    print(r.json())"
   ]
  },
  {
   "cell_type": "code",
   "execution_count": 204,
   "metadata": {},
   "outputs": [
    {
     "data": {
      "text/plain": [
       "<Response [404]>"
      ]
     },
     "execution_count": 204,
     "metadata": {},
     "output_type": "execute_result"
    }
   ],
   "source": [
    "r = requests.get(\"http://localhost:3000/posts/Chandrashekar\")\n",
    "r"
   ]
  },
  {
   "cell_type": "code",
   "execution_count": null,
   "metadata": {},
   "outputs": [],
   "source": [
    "GET, POST, PUT, DELETE, PATCH\n",
    "\n",
    "SELECT, INSERT, REPLACE, DELETE, UPDATE"
   ]
  },
  {
   "cell_type": "code",
   "execution_count": 205,
   "metadata": {},
   "outputs": [
    {
     "data": {
      "text/plain": [
       "<Response [200]>"
      ]
     },
     "execution_count": 205,
     "metadata": {},
     "output_type": "execute_result"
    }
   ],
   "source": [
    "requests.put(\"http://localhost:3000/posts/9\", json={\"title\": \"april 6th\"})"
   ]
  },
  {
   "cell_type": "code",
   "execution_count": 207,
   "metadata": {},
   "outputs": [
    {
     "data": {
      "text/plain": [
       "{'title': 'april 6th', 'id': 9}"
      ]
     },
     "execution_count": 207,
     "metadata": {},
     "output_type": "execute_result"
    }
   ],
   "source": [
    "requests.get(\"http://localhost:3000/posts/9\").json()"
   ]
  },
  {
   "cell_type": "code",
   "execution_count": 208,
   "metadata": {},
   "outputs": [
    {
     "data": {
      "text/plain": [
       "<Response [200]>"
      ]
     },
     "execution_count": 208,
     "metadata": {},
     "output_type": "execute_result"
    }
   ],
   "source": [
    "requests.put(\"http://localhost:3000/posts/9\", \n",
    "             json={\"title\": \"april 6th\", \"author\": \"Chandrashekar\",\n",
    "                   \"description\": \"a simple resource object\"})\n",
    "# Success response code should ideally be 202"
   ]
  },
  {
   "cell_type": "code",
   "execution_count": 209,
   "metadata": {
    "scrolled": false
   },
   "outputs": [
    {
     "data": {
      "text/plain": [
       "{'title': 'april 6th',\n",
       " 'author': 'Chandrashekar',\n",
       " 'description': 'a simple resource object',\n",
       " 'id': 9}"
      ]
     },
     "execution_count": 209,
     "metadata": {},
     "output_type": "execute_result"
    }
   ],
   "source": [
    "requests.get(\"http://localhost:3000/posts/9\").json()"
   ]
  },
  {
   "cell_type": "code",
   "execution_count": 210,
   "metadata": {},
   "outputs": [
    {
     "data": {
      "text/plain": [
       "<Response [200]>"
      ]
     },
     "execution_count": 210,
     "metadata": {},
     "output_type": "execute_result"
    }
   ],
   "source": [
    "requests.patch(\"http://localhost:3000/posts/9\", \n",
    "             json={\"title\": \"april 7th\"})\n",
    "# Success response code should ideally be 202"
   ]
  },
  {
   "cell_type": "code",
   "execution_count": 211,
   "metadata": {
    "scrolled": false
   },
   "outputs": [
    {
     "data": {
      "text/plain": [
       "{'title': 'april 7th',\n",
       " 'author': 'Chandrashekar',\n",
       " 'description': 'a simple resource object',\n",
       " 'id': 9}"
      ]
     },
     "execution_count": 211,
     "metadata": {},
     "output_type": "execute_result"
    }
   ],
   "source": [
    "requests.get(\"http://localhost:3000/posts/9\").json()"
   ]
  },
  {
   "cell_type": "code",
   "execution_count": 212,
   "metadata": {},
   "outputs": [
    {
     "data": {
      "text/plain": [
       "<Response [200]>"
      ]
     },
     "execution_count": 212,
     "metadata": {},
     "output_type": "execute_result"
    }
   ],
   "source": [
    "requests.delete(\"http://localhost:3000/posts/9\")\n",
    "# Success response code should ideally be 204"
   ]
  },
  {
   "cell_type": "code",
   "execution_count": 213,
   "metadata": {
    "scrolled": false
   },
   "outputs": [],
   "source": [
    "API_KEY = \"932c152d6ff8d185bfdd9d2a5f8e33e4\""
   ]
  },
  {
   "cell_type": "code",
   "execution_count": 220,
   "metadata": {
    "scrolled": true
   },
   "outputs": [
    {
     "data": {
      "text/plain": [
       "{'q': 'Bengaluru',\n",
       " 'appid': '932c152d6ff8d185bfdd9d2a5f8e33e4',\n",
       " 'units': 'metric'}"
      ]
     },
     "execution_count": 220,
     "metadata": {},
     "output_type": "execute_result"
    }
   ],
   "source": [
    "url = \"http://api.openweathermap.org/data/2.5/weather\"\n",
    "\n",
    "qs = {\"q\": \"Bengaluru\", \"appid\": API_KEY, \"units\": \"metric\"}\n",
    "qs\n",
    "\n"
   ]
  },
  {
   "cell_type": "code",
   "execution_count": 221,
   "metadata": {},
   "outputs": [
    {
     "data": {
      "text/plain": [
       "<Response [200]>"
      ]
     },
     "execution_count": 221,
     "metadata": {},
     "output_type": "execute_result"
    }
   ],
   "source": [
    "r = requests.get(url, params=qs)\n",
    "r"
   ]
  },
  {
   "cell_type": "code",
   "execution_count": 222,
   "metadata": {
    "scrolled": true
   },
   "outputs": [
    {
     "data": {
      "text/plain": [
       "'application/json; charset=utf-8'"
      ]
     },
     "execution_count": 222,
     "metadata": {},
     "output_type": "execute_result"
    }
   ],
   "source": [
    "r.headers[\"content-type\"]"
   ]
  },
  {
   "cell_type": "code",
   "execution_count": 223,
   "metadata": {
    "scrolled": true
   },
   "outputs": [
    {
     "data": {
      "text/plain": [
       "{'coord': {'lon': 77.6, 'lat': 12.98},\n",
       " 'weather': [{'id': 803,\n",
       "   'main': 'Clouds',\n",
       "   'description': 'broken clouds',\n",
       "   'icon': '04d'}],\n",
       " 'base': 'stations',\n",
       " 'main': {'temp': 30.72,\n",
       "  'feels_like': 32.11,\n",
       "  'temp_min': 29,\n",
       "  'temp_max': 31.67,\n",
       "  'pressure': 1014,\n",
       "  'humidity': 52},\n",
       " 'visibility': 8000,\n",
       " 'wind': {'speed': 3.1, 'deg': 270},\n",
       " 'clouds': {'all': 75},\n",
       " 'dt': 1586249885,\n",
       " 'sys': {'type': 1,\n",
       "  'id': 9205,\n",
       "  'country': 'IN',\n",
       "  'sunrise': 1586220098,\n",
       "  'sunset': 1586264480},\n",
       " 'timezone': 19800,\n",
       " 'id': 1277333,\n",
       " 'name': 'Bengaluru',\n",
       " 'cod': 200}"
      ]
     },
     "execution_count": 223,
     "metadata": {},
     "output_type": "execute_result"
    }
   ],
   "source": [
    "r.json()"
   ]
  },
  {
   "cell_type": "code",
   "execution_count": 224,
   "metadata": {},
   "outputs": [
    {
     "data": {
      "text/plain": [
       "<Response [200]>"
      ]
     },
     "execution_count": 224,
     "metadata": {},
     "output_type": "execute_result"
    }
   ],
   "source": [
    "r = requests.get(url, params=qs, headers={\"Accept\": \"application/xml\"})\n",
    "r"
   ]
  },
  {
   "cell_type": "code",
   "execution_count": 225,
   "metadata": {},
   "outputs": [
    {
     "data": {
      "text/plain": [
       "'application/json; charset=utf-8'"
      ]
     },
     "execution_count": 225,
     "metadata": {},
     "output_type": "execute_result"
    }
   ],
   "source": [
    "r.headers[\"content-type\"]"
   ]
  },
  {
   "cell_type": "code",
   "execution_count": 226,
   "metadata": {},
   "outputs": [
    {
     "data": {
      "text/plain": [
       "<Response [200]>"
      ]
     },
     "execution_count": 226,
     "metadata": {},
     "output_type": "execute_result"
    }
   ],
   "source": [
    "qs = {\"q\": \"Bengaluru\", \n",
    "      \"appid\": API_KEY, \n",
    "      \"units\": \"metric\",\n",
    "      \"mode\": \"xml\"}\n",
    "r = requests.get(url, params=qs, headers={\"Accept\": \"application/xml\"})\n",
    "r"
   ]
  },
  {
   "cell_type": "code",
   "execution_count": 227,
   "metadata": {},
   "outputs": [
    {
     "data": {
      "text/plain": [
       "'application/xml; charset=utf-8'"
      ]
     },
     "execution_count": 227,
     "metadata": {},
     "output_type": "execute_result"
    }
   ],
   "source": [
    "r.headers[\"content-type\"]"
   ]
  },
  {
   "cell_type": "code",
   "execution_count": 234,
   "metadata": {},
   "outputs": [
    {
     "data": {
      "text/plain": [
       "'<?xml version=\"1.0\" encoding=\"UTF-8\"?>\\n<current><city id=\"1277333\" name=\"Bengaluru\"><coord lon=\"77.6\" lat=\"12.98\"></coord><country>IN</country><timezone>19800</timezone><sun rise=\"2020-04-07T00:41:38\" set=\"2020-04-07T13:01:20\"></sun></city><temperature value=\"30.72\" min=\"29\" max=\"31.67\" unit=\"celsius\"></temperature><feels_like value=\"32.11\" unit=\"celsius\"></feels_like><humidity value=\"52\" unit=\"%\"></humidity><pressure value=\"1014\" unit=\"hPa\"></pressure><wind><speed value=\"3.1\" unit=\"m/s\" name=\"Light breeze\"></speed><gusts></gusts><direction value=\"270\" code=\"W\" name=\"West\"></direction></wind><clouds value=\"75\" name=\"broken clouds\"></clouds><visibility value=\"8000\"></visibility><precipitation mode=\"no\"></precipitation><weather number=\"803\" value=\"broken clouds\" icon=\"04d\"></weather><lastupdate value=\"2020-04-07T08:59:44\"></lastupdate></current>'"
      ]
     },
     "execution_count": 234,
     "metadata": {},
     "output_type": "execute_result"
    }
   ],
   "source": [
    "r.text"
   ]
  },
  {
   "cell_type": "code",
   "execution_count": 233,
   "metadata": {},
   "outputs": [
    {
     "data": {
      "text/plain": [
       "<Element current at 0x107881908>"
      ]
     },
     "execution_count": 233,
     "metadata": {},
     "output_type": "execute_result"
    }
   ],
   "source": [
    "c = et.fromstring(r.content)\n",
    "c"
   ]
  },
  {
   "cell_type": "code",
   "execution_count": 236,
   "metadata": {},
   "outputs": [
    {
     "data": {
      "text/plain": [
       "['29']"
      ]
     },
     "execution_count": 236,
     "metadata": {},
     "output_type": "execute_result"
    }
   ],
   "source": [
    "c.xpath(\".//temperature/@min\")"
   ]
  },
  {
   "cell_type": "code",
   "execution_count": null,
   "metadata": {},
   "outputs": [],
   "source": [
    "requests.get(url, headers={\"X-HTTP-Auth-Key\": API_KEY})"
   ]
  },
  {
   "cell_type": "code",
   "execution_count": null,
   "metadata": {},
   "outputs": [],
   "source": [
    "import mechanize\n",
    "import robobrower \n",
    "import mechanicalsoup\n"
   ]
  },
  {
   "cell_type": "code",
   "execution_count": 237,
   "metadata": {
    "scrolled": true
   },
   "outputs": [
    {
     "name": "stdout",
     "output_type": "stream",
     "text": [
      "Requirement already satisfied: mechanicalsoup in /Users/chandrashekar/anaconda3/lib/python3.7/site-packages (0.12.0)\n",
      "Requirement already satisfied: beautifulsoup4>=4.4 in /Users/chandrashekar/anaconda3/lib/python3.7/site-packages (from mechanicalsoup) (4.8.2)\n",
      "Requirement already satisfied: lxml in /Users/chandrashekar/anaconda3/lib/python3.7/site-packages (from mechanicalsoup) (4.5.0)\n",
      "Requirement already satisfied: requests>=2.0 in /Users/chandrashekar/anaconda3/lib/python3.7/site-packages (from mechanicalsoup) (2.23.0)\n",
      "Requirement already satisfied: six>=1.4 in /Users/chandrashekar/anaconda3/lib/python3.7/site-packages (from mechanicalsoup) (1.14.0)\n",
      "Requirement already satisfied: soupsieve>=1.2 in /Users/chandrashekar/anaconda3/lib/python3.7/site-packages (from beautifulsoup4>=4.4->mechanicalsoup) (2.0)\n",
      "Requirement already satisfied: chardet<4,>=3.0.2 in /Users/chandrashekar/anaconda3/lib/python3.7/site-packages (from requests>=2.0->mechanicalsoup) (3.0.4)\n",
      "Requirement already satisfied: urllib3!=1.25.0,!=1.25.1,<1.26,>=1.21.1 in /Users/chandrashekar/anaconda3/lib/python3.7/site-packages (from requests>=2.0->mechanicalsoup) (1.21.1)\n",
      "Requirement already satisfied: certifi>=2017.4.17 in /Users/chandrashekar/anaconda3/lib/python3.7/site-packages (from requests>=2.0->mechanicalsoup) (2019.11.28)\n",
      "Requirement already satisfied: idna<3,>=2.5 in /Users/chandrashekar/anaconda3/lib/python3.7/site-packages (from requests>=2.0->mechanicalsoup) (2.5)\n",
      "Note: you may need to restart the kernel to use updated packages.\n"
     ]
    }
   ],
   "source": [
    "pip install mechanicalsoup"
   ]
  },
  {
   "cell_type": "code",
   "execution_count": 238,
   "metadata": {},
   "outputs": [],
   "source": [
    "from mechanicalsoup import StatefulBrowser"
   ]
  },
  {
   "cell_type": "code",
   "execution_count": 240,
   "metadata": {},
   "outputs": [
    {
     "data": {
      "text/plain": [
       "<mechanicalsoup.stateful_browser.StatefulBrowser at 0x10742af98>"
      ]
     },
     "execution_count": 240,
     "metadata": {},
     "output_type": "execute_result"
    }
   ],
   "source": [
    "browser = StatefulBrowser()\n",
    "browser"
   ]
  },
  {
   "cell_type": "code",
   "execution_count": 241,
   "metadata": {},
   "outputs": [
    {
     "data": {
      "text/plain": [
       "<Response [200]>"
      ]
     },
     "execution_count": 241,
     "metadata": {},
     "output_type": "execute_result"
    }
   ],
   "source": [
    "browser.open(\"http://www.python.org/\")"
   ]
  },
  {
   "cell_type": "code",
   "execution_count": 245,
   "metadata": {},
   "outputs": [
    {
     "data": {
      "text/plain": [
       "'https://www.python.org/'"
      ]
     },
     "execution_count": 245,
     "metadata": {},
     "output_type": "execute_result"
    }
   ],
   "source": [
    "browser.get_url()"
   ]
  },
  {
   "cell_type": "code",
   "execution_count": 248,
   "metadata": {},
   "outputs": [
    {
     "data": {
      "text/plain": [
       "[<a href=\"#content\" title=\"Skip to content\">Skip to content</a>,\n",
       " <a aria-hidden=\"true\" class=\"jump-link\" href=\"#python-network\" id=\"close-python-network\">\n",
       " <span aria-hidden=\"true\" class=\"icon-arrow-down\"><span>▼</span></span> Close\n",
       "                 </a>,\n",
       " <a class=\"current_item selectedcurrent_branch selected\" href=\"/\" title=\"The Python Programming Language\">Python</a>,\n",
       " <a href=\"/psf-landing/\" title=\"The Python Software Foundation\">PSF</a>,\n",
       " <a href=\"https://docs.python.org\" title=\"Python Documentation\">Docs</a>,\n",
       " <a href=\"https://pypi.python.org/\" title=\"Python Package Index\">PyPI</a>,\n",
       " <a href=\"/jobs/\" title=\"Python Job Board\">Jobs</a>,\n",
       " <a href=\"/community/\" title=\"Python Community\">Community</a>,\n",
       " <a aria-hidden=\"true\" class=\"jump-link\" href=\"#top\" id=\"python-network\">\n",
       " <span aria-hidden=\"true\" class=\"icon-arrow-up\"><span>▲</span></span> The Python Network\n",
       "                 </a>,\n",
       " <a href=\"/\"><img alt=\"python™\" class=\"python-logo\" src=\"/static/img/python-logo.png\"/></a>,\n",
       " <a class=\"donate-button\" href=\"https://psfmember.org/civicrm/contribute/transact?reset=1&amp;id=2\">Donate</a>,\n",
       " <a class=\"jump-to-menu\" href=\"#site-map\" id=\"site-map-link\"><span class=\"menu-icon\">≡</span> Menu</a>,\n",
       " <a class=\"action-trigger\" href=\"#\"><strong><small>A</small> A</strong></a>,\n",
       " <a class=\"text-shrink\" href=\"javascript:;\" title=\"Make Text Smaller\">Smaller</a>,\n",
       " <a class=\"text-grow\" href=\"javascript:;\" title=\"Make Text Larger\">Larger</a>,\n",
       " <a class=\"text-reset\" href=\"javascript:;\" title=\"Reset any font size changes I have made\">Reset</a>,\n",
       " <a class=\"action-trigger\" href=\"#\">Socialize</a>,\n",
       " <a href=\"https://www.facebook.com/pythonlang?fref=ts\"><span aria-hidden=\"true\" class=\"icon-facebook\"></span>Facebook</a>,\n",
       " <a href=\"https://twitter.com/ThePSF\"><span aria-hidden=\"true\" class=\"icon-twitter\"></span>Twitter</a>,\n",
       " <a href=\"/community/irc/\"><span aria-hidden=\"true\" class=\"icon-freenode\"></span>Chat on IRC</a>,\n",
       " <a class=\"\" href=\"/about/\" title=\"\">About</a>,\n",
       " <a href=\"/about/apps/\" title=\"\">Applications</a>,\n",
       " <a href=\"/about/quotes/\" title=\"\">Quotes</a>,\n",
       " <a href=\"/about/gettingstarted/\" title=\"\">Getting Started</a>,\n",
       " <a href=\"/about/help/\" title=\"\">Help</a>,\n",
       " <a href=\"http://brochure.getpython.info/\" title=\"\">Python Brochure</a>,\n",
       " <a class=\"\" href=\"/downloads/\" title=\"\">Downloads</a>,\n",
       " <a href=\"/downloads/\" title=\"\">All releases</a>,\n",
       " <a href=\"/downloads/source/\" title=\"\">Source code</a>,\n",
       " <a href=\"/downloads/windows/\" title=\"\">Windows</a>,\n",
       " <a href=\"/downloads/mac-osx/\" title=\"\">Mac OS X</a>,\n",
       " <a href=\"/download/other/\" title=\"\">Other Platforms</a>,\n",
       " <a href=\"https://docs.python.org/3/license.html\" title=\"\">License</a>,\n",
       " <a href=\"/download/alternatives\" title=\"\">Alternative Implementations</a>,\n",
       " <a class=\"\" href=\"/doc/\" title=\"\">Documentation</a>,\n",
       " <a href=\"/doc/\" title=\"\">Docs</a>,\n",
       " <a href=\"/doc/av\" title=\"\">Audio/Visual Talks</a>,\n",
       " <a href=\"https://wiki.python.org/moin/BeginnersGuide\" title=\"\">Beginner's Guide</a>,\n",
       " <a href=\"https://devguide.python.org/\" title=\"\">Developer's Guide</a>,\n",
       " <a href=\"https://docs.python.org/faq/\" title=\"\">FAQ</a>,\n",
       " <a href=\"http://wiki.python.org/moin/Languages\" title=\"\">Non-English Docs</a>,\n",
       " <a href=\"http://python.org/dev/peps/\" title=\"\">PEP Index</a>,\n",
       " <a href=\"https://wiki.python.org/moin/PythonBooks\" title=\"\">Python Books</a>,\n",
       " <a href=\"/doc/essays/\" title=\"\">Python Essays</a>,\n",
       " <a class=\"\" href=\"/community/\" title=\"\">Community</a>,\n",
       " <a href=\"/community/survey\" title=\"\">Community Survey</a>,\n",
       " <a href=\"/community/diversity/\" title=\"\">Diversity</a>,\n",
       " <a href=\"/community/lists/\" title=\"\">Mailing Lists</a>,\n",
       " <a href=\"/community/irc/\" title=\"\">IRC</a>,\n",
       " <a href=\"/community/forums/\" title=\"\">Forums</a>,\n",
       " <a href=\"/psf/annual-report/2019/\" title=\"\">PSF Annual Impact Report</a>,\n",
       " <a href=\"/community/workshops/\" title=\"\">Python Conferences</a>,\n",
       " <a href=\"/community/sigs/\" title=\"\">Special Interest Groups</a>,\n",
       " <a href=\"/community/logos/\" title=\"\">Python Logo</a>,\n",
       " <a href=\"https://wiki.python.org/moin/\" title=\"\">Python Wiki</a>,\n",
       " <a href=\"/community/merchandise/\" title=\"\">Merchandise</a>,\n",
       " <a href=\"/community/awards\" title=\"\">Community Awards</a>,\n",
       " <a href=\"/psf/conduct/\" title=\"\">Code of Conduct</a>,\n",
       " <a class=\"\" href=\"/success-stories/\" title=\"success-stories\">Success Stories</a>,\n",
       " <a href=\"/success-stories/category/arts/\" title=\"\">Arts</a>,\n",
       " <a href=\"/success-stories/category/business/\" title=\"\">Business</a>,\n",
       " <a href=\"/success-stories/category/education/\" title=\"\">Education</a>,\n",
       " <a href=\"/success-stories/category/engineering/\" title=\"\">Engineering</a>,\n",
       " <a href=\"/success-stories/category/government/\" title=\"\">Government</a>,\n",
       " <a href=\"/success-stories/category/scientific/\" title=\"\">Scientific</a>,\n",
       " <a href=\"/success-stories/category/software-development/\" title=\"\">Software Development</a>,\n",
       " <a class=\"\" href=\"/blogs/\" title=\"News from around the Python world\">News</a>,\n",
       " <a href=\"/blogs/\" title=\"Python Insider Blog Posts\">Python News</a>,\n",
       " <a href=\"/psf/newsletter/\" title=\"Python Software Foundation Newsletter\">PSF Newsletter</a>,\n",
       " <a href=\"http://planetpython.org/\" title=\"Planet Python\">Community News</a>,\n",
       " <a href=\"http://pyfound.blogspot.com/\" title=\"PSF Blog\">PSF News</a>,\n",
       " <a href=\"http://pycon.blogspot.com/\" title=\"PyCon Blog\">PyCon News</a>,\n",
       " <a class=\"\" href=\"/events/\" title=\"\">Events</a>,\n",
       " <a href=\"/events/python-events\" title=\"\">Python Events</a>,\n",
       " <a href=\"/events/python-user-group/\" title=\"\">User Group Events</a>,\n",
       " <a href=\"/events/python-events/past/\" title=\"\">Python Events Archive</a>,\n",
       " <a href=\"/events/python-user-group/past/\" title=\"\">User Group Events Archive</a>,\n",
       " <a href=\"https://wiki.python.org/moin/PythonEventsCalendar#Submitting_an_Event\" title=\"\">Submit an Event</a>,\n",
       " <a class=\"button prompt\" data-shell-container=\"#dive-into-python\" href=\"/shell/\" id=\"start-shell\">&gt;_\n",
       "                         <span class=\"message\">Launch Interactive Shell</span>\n",
       " </a>,\n",
       " <a href=\"//docs.python.org/3/tutorial/controlflow.html#defining-functions\">More about defining functions in Python 3</a>,\n",
       " <a href=\"//docs.python.org/3/tutorial/introduction.html#lists\">More about lists in Python 3</a>,\n",
       " <a href=\"http://docs.python.org/3/tutorial/introduction.html#using-python-as-a-calculator\">More about simple math functions in Python 3</a>,\n",
       " <a href=\"//docs.python.org/3/tutorial/\">Whet your appetite</a>,\n",
       " <a href=\"//docs.python.org/3/tutorial/controlflow.html\">More control flow tools in Python 3</a>,\n",
       " <a class=\"readmore\" href=\"/doc/\">Learn More</a>,\n",
       " <a href=\"/about/gettingstarted/\">Start with our Beginner’s Guide</a>,\n",
       " <a href=\"/downloads/release/python-382/\">Python 3.8.2</a>,\n",
       " <a href=\"https://docs.python.org\">docs.python.org</a>,\n",
       " <a href=\"//jobs.python.org\">jobs.python.org</a>,\n",
       " <a href=\"https://blog.python.org\" title=\"More News\">More</a>,\n",
       " <a href=\"http://feedproxy.google.com/~r/PythonSoftwareFoundationNews/~3/jik63d3gqes/python-software-foundation-fellow.html\">Python Software Foundation Fellow Members for Q1 2020</a>,\n",
       " <a href=\"http://feedproxy.google.com/~r/PythonInsider/~3/K1JPIqUkG1o/python-2718-release-candidate-1.html\">Python 2.7.18 release candidate 1 available</a>,\n",
       " <a href=\"http://feedproxy.google.com/~r/PythonSoftwareFoundationNews/~3/B7IZS03_Ajc/sponsoring-python-packaging.html\">Announcing a new Sponsorship Program for Python Packaging</a>,\n",
       " <a href=\"http://feedproxy.google.com/~r/PythonSoftwareFoundationNews/~3/ft6nIyIxM-w/psfs-projected-2020-financial-outcome.html\">PSF's Projected 2020 Financial Outcome</a>,\n",
       " <a href=\"http://feedproxy.google.com/~r/PythonInsider/~3/lW-tcArtd80/python-390a5-is-now-available-for.html\">Python 3.9.0a5 is now available for testing</a>,\n",
       " <a href=\"/events/calendars/\" title=\"More Events\">More</a>,\n",
       " <a href=\"/events/python-events/894/\">PyCon US 2020</a>,\n",
       " <a href=\"/events/python-events/910/\">DragonPy 2020</a>,\n",
       " <a href=\"/events/python-user-group/913/\">Python Meeting Düsseldorf</a>,\n",
       " <a href=\"/events/python-events/965/\">Remote Python Pizza</a>,\n",
       " <a href=\"/events/python-user-group/909/\">PythonCamp 2020 - Cologne</a>,\n",
       " <a href=\"/success-stories/\" title=\"More Success Stories\">More</a>,\n",
       " <a href=\"/success-stories/building-an-open-source-and-cross-platform-azure-cli-with-python/\">Thanks to the flexibility of Python and the powerful ecosystem of packages, the Azure CLI supports features such as autocompletion (in shells that support it), persistent credentials, JMESPath result parsing, lazy initialization, network-less unit tests, and more.</a>,\n",
       " <a href=\"/success-stories/building-an-open-source-and-cross-platform-azure-cli-with-python/\">Building an open-source and cross-platform Azure CLI with Python</a>,\n",
       " <a href=\"/about/apps\" title=\"More Applications\">More</a>,\n",
       " <a class=\"tag\" href=\"http://www.djangoproject.com/\">Django</a>,\n",
       " <a class=\"tag\" href=\"http://www.pylonsproject.org/\">Pyramid</a>,\n",
       " <a class=\"tag\" href=\"http://bottlepy.org\">Bottle</a>,\n",
       " <a class=\"tag\" href=\"http://tornadoweb.org\">Tornado</a>,\n",
       " <a class=\"tag\" href=\"http://flask.pocoo.org/\">Flask</a>,\n",
       " <a class=\"tag\" href=\"http://www.web2py.com/\">web2py</a>,\n",
       " <a class=\"tag\" href=\"http://wiki.python.org/moin/TkInter\">tkInter</a>,\n",
       " <a class=\"tag\" href=\"https://wiki.gnome.org/Projects/PyGObject\">PyGObject</a>,\n",
       " <a class=\"tag\" href=\"http://www.riverbankcomputing.co.uk/software/pyqt/intro\">PyQt</a>,\n",
       " <a class=\"tag\" href=\"https://wiki.qt.io/PySide\">PySide</a>,\n",
       " <a class=\"tag\" href=\"https://kivy.org/\">Kivy</a>,\n",
       " <a class=\"tag\" href=\"http://www.wxpython.org/\">wxPython</a>,\n",
       " <a class=\"tag\" href=\"http://www.scipy.org\">SciPy</a>,\n",
       " <a class=\"tag\" href=\"http://pandas.pydata.org/\">Pandas</a>,\n",
       " <a class=\"tag\" href=\"http://ipython.org\">IPython</a>,\n",
       " <a class=\"tag\" href=\"http://buildbot.net/\">Buildbot</a>,\n",
       " <a class=\"tag\" href=\"http://trac.edgewall.org/\">Trac</a>,\n",
       " <a class=\"tag\" href=\"http://roundup.sourceforge.net/\">Roundup</a>,\n",
       " <a class=\"tag\" href=\"http://www.ansible.com\">Ansible</a>,\n",
       " <a class=\"tag\" href=\"http://www.saltstack.com\">Salt</a>,\n",
       " <a class=\"tag\" href=\"https://www.openstack.org\">OpenStack</a>,\n",
       " <a href=\"/dev/peps/\">Python Enhancement Proposals<span class=\"say-no-more\"> (PEPs)</span></a>,\n",
       " <a aria-hidden=\"true\" class=\"rss-link\" href=\"/dev/peps/peps.rss\"><span class=\"icon-feed\"></span> RSS</a>,\n",
       " <a href=\"/psf/\">Python Software Foundation</a>,\n",
       " <a class=\"readmore\" href=\"/psf/\">Learn more</a>,\n",
       " <a class=\"button\" href=\"/users/membership/\">Become a Member</a>,\n",
       " <a class=\"button\" href=\"/psf/donations/\">Donate to the PSF</a>,\n",
       " <a class=\"jump-link\" href=\"#python-network\" id=\"back-to-top-1\"><span aria-hidden=\"true\" class=\"icon-arrow-up\"><span>▲</span></span> Back to Top</a>,\n",
       " <a href=\"/about/\">About</a>,\n",
       " <a href=\"/about/apps/\" title=\"\">Applications</a>,\n",
       " <a href=\"/about/quotes/\" title=\"\">Quotes</a>,\n",
       " <a href=\"/about/gettingstarted/\" title=\"\">Getting Started</a>,\n",
       " <a href=\"/about/help/\" title=\"\">Help</a>,\n",
       " <a href=\"http://brochure.getpython.info/\" title=\"\">Python Brochure</a>,\n",
       " <a href=\"/downloads/\">Downloads</a>,\n",
       " <a href=\"/downloads/\" title=\"\">All releases</a>,\n",
       " <a href=\"/downloads/source/\" title=\"\">Source code</a>,\n",
       " <a href=\"/downloads/windows/\" title=\"\">Windows</a>,\n",
       " <a href=\"/downloads/mac-osx/\" title=\"\">Mac OS X</a>,\n",
       " <a href=\"/download/other/\" title=\"\">Other Platforms</a>,\n",
       " <a href=\"https://docs.python.org/3/license.html\" title=\"\">License</a>,\n",
       " <a href=\"/download/alternatives\" title=\"\">Alternative Implementations</a>,\n",
       " <a href=\"/doc/\">Documentation</a>,\n",
       " <a href=\"/doc/\" title=\"\">Docs</a>,\n",
       " <a href=\"/doc/av\" title=\"\">Audio/Visual Talks</a>,\n",
       " <a href=\"https://wiki.python.org/moin/BeginnersGuide\" title=\"\">Beginner's Guide</a>,\n",
       " <a href=\"https://devguide.python.org/\" title=\"\">Developer's Guide</a>,\n",
       " <a href=\"https://docs.python.org/faq/\" title=\"\">FAQ</a>,\n",
       " <a href=\"http://wiki.python.org/moin/Languages\" title=\"\">Non-English Docs</a>,\n",
       " <a href=\"http://python.org/dev/peps/\" title=\"\">PEP Index</a>,\n",
       " <a href=\"https://wiki.python.org/moin/PythonBooks\" title=\"\">Python Books</a>,\n",
       " <a href=\"/doc/essays/\" title=\"\">Python Essays</a>,\n",
       " <a href=\"/community/\">Community</a>,\n",
       " <a href=\"/community/survey\" title=\"\">Community Survey</a>,\n",
       " <a href=\"/community/diversity/\" title=\"\">Diversity</a>,\n",
       " <a href=\"/community/lists/\" title=\"\">Mailing Lists</a>,\n",
       " <a href=\"/community/irc/\" title=\"\">IRC</a>,\n",
       " <a href=\"/community/forums/\" title=\"\">Forums</a>,\n",
       " <a href=\"/psf/annual-report/2019/\" title=\"\">PSF Annual Impact Report</a>,\n",
       " <a href=\"/community/workshops/\" title=\"\">Python Conferences</a>,\n",
       " <a href=\"/community/sigs/\" title=\"\">Special Interest Groups</a>,\n",
       " <a href=\"/community/logos/\" title=\"\">Python Logo</a>,\n",
       " <a href=\"https://wiki.python.org/moin/\" title=\"\">Python Wiki</a>,\n",
       " <a href=\"/community/merchandise/\" title=\"\">Merchandise</a>,\n",
       " <a href=\"/community/awards\" title=\"\">Community Awards</a>,\n",
       " <a href=\"/psf/conduct/\" title=\"\">Code of Conduct</a>,\n",
       " <a href=\"/success-stories/\" title=\"success-stories\">Success Stories</a>,\n",
       " <a href=\"/success-stories/category/arts/\" title=\"\">Arts</a>,\n",
       " <a href=\"/success-stories/category/business/\" title=\"\">Business</a>,\n",
       " <a href=\"/success-stories/category/education/\" title=\"\">Education</a>,\n",
       " <a href=\"/success-stories/category/engineering/\" title=\"\">Engineering</a>,\n",
       " <a href=\"/success-stories/category/government/\" title=\"\">Government</a>,\n",
       " <a href=\"/success-stories/category/scientific/\" title=\"\">Scientific</a>,\n",
       " <a href=\"/success-stories/category/software-development/\" title=\"\">Software Development</a>,\n",
       " <a href=\"/blogs/\" title=\"News from around the Python world\">News</a>,\n",
       " <a href=\"/blogs/\" title=\"Python Insider Blog Posts\">Python News</a>,\n",
       " <a href=\"/psf/newsletter/\" title=\"Python Software Foundation Newsletter\">PSF Newsletter</a>,\n",
       " <a href=\"http://planetpython.org/\" title=\"Planet Python\">Community News</a>,\n",
       " <a href=\"http://pyfound.blogspot.com/\" title=\"PSF Blog\">PSF News</a>,\n",
       " <a href=\"http://pycon.blogspot.com/\" title=\"PyCon Blog\">PyCon News</a>,\n",
       " <a href=\"/events/\">Events</a>,\n",
       " <a href=\"/events/python-events\" title=\"\">Python Events</a>,\n",
       " <a href=\"/events/python-user-group/\" title=\"\">User Group Events</a>,\n",
       " <a href=\"/events/python-events/past/\" title=\"\">Python Events Archive</a>,\n",
       " <a href=\"/events/python-user-group/past/\" title=\"\">User Group Events Archive</a>,\n",
       " <a href=\"https://wiki.python.org/moin/PythonEventsCalendar#Submitting_an_Event\" title=\"\">Submit an Event</a>,\n",
       " <a href=\"/dev/\">Contributing</a>,\n",
       " <a href=\"https://devguide.python.org/\" title=\"\">Developer's Guide</a>,\n",
       " <a href=\"https://bugs.python.org/\" title=\"\">Issue Tracker</a>,\n",
       " <a href=\"https://mail.python.org/mailman/listinfo/python-dev\" title=\"\">python-dev list</a>,\n",
       " <a href=\"/dev/core-mentorship/\" title=\"\">Core Mentorship</a>,\n",
       " <a href=\"/dev/security/\" title=\"\">Report a Security Issue</a>,\n",
       " <a class=\"jump-link\" href=\"#python-network\" id=\"back-to-top-2\"><span aria-hidden=\"true\" class=\"icon-arrow-up\"><span>▲</span></span> Back to Top</a>,\n",
       " <a href=\"/about/help/\">Help &amp; <span class=\"say-no-more\">General</span> Contact</a>,\n",
       " <a href=\"/community/diversity/\">Diversity <span class=\"say-no-more\">Initiatives</span></a>,\n",
       " <a href=\"https://github.com/python/pythondotorg/issues\">Submit Website Bug</a>,\n",
       " <a href=\"https://status.python.org/\">Status <span class=\"python-status-indicator-default\" id=\"python-status-indicator\"></span></a>,\n",
       " <a href=\"/psf-landing/\">Python Software Foundation</a>,\n",
       " <a href=\"/about/legal/\">Legal Statements</a>,\n",
       " <a href=\"/privacy/\">Privacy Policy</a>,\n",
       " <a href=\"/psf/sponsorship/sponsors/#heroku\">Powered by Heroku</a>]"
      ]
     },
     "execution_count": 248,
     "metadata": {},
     "output_type": "execute_result"
    }
   ],
   "source": [
    "browser.links()"
   ]
  },
  {
   "cell_type": "code",
   "execution_count": 253,
   "metadata": {},
   "outputs": [],
   "source": [
    "l = browser.find_link(text=\"Arts\")"
   ]
  },
  {
   "cell_type": "code",
   "execution_count": 254,
   "metadata": {},
   "outputs": [
    {
     "data": {
      "text/plain": [
       "<Response [200]>"
      ]
     },
     "execution_count": 254,
     "metadata": {},
     "output_type": "execute_result"
    }
   ],
   "source": [
    "browser.follow_link(l)"
   ]
  },
  {
   "cell_type": "code",
   "execution_count": 255,
   "metadata": {},
   "outputs": [
    {
     "data": {
      "text/plain": [
       "'https://www.python.org/success-stories/category/arts/'"
      ]
     },
     "execution_count": 255,
     "metadata": {},
     "output_type": "execute_result"
    }
   ],
   "source": [
    "browser.get_url()"
   ]
  },
  {
   "cell_type": "code",
   "execution_count": 256,
   "metadata": {},
   "outputs": [],
   "source": [
    "browser.get_current_form()"
   ]
  },
  {
   "cell_type": "code",
   "execution_count": 257,
   "metadata": {},
   "outputs": [
    {
     "data": {
      "text/plain": [
       "<Response [200]>"
      ]
     },
     "execution_count": 257,
     "metadata": {},
     "output_type": "execute_result"
    }
   ],
   "source": [
    "browser.open(\"http://www.python.org/\")"
   ]
  },
  {
   "cell_type": "code",
   "execution_count": 259,
   "metadata": {},
   "outputs": [],
   "source": [
    "f = browser.select_form()"
   ]
  },
  {
   "cell_type": "code",
   "execution_count": 263,
   "metadata": {},
   "outputs": [],
   "source": [
    "f[\"q\"] = \"Guido Van Rossum\""
   ]
  },
  {
   "cell_type": "code",
   "execution_count": 267,
   "metadata": {},
   "outputs": [
    {
     "data": {
      "text/plain": [
       "<Response [200]>"
      ]
     },
     "execution_count": 267,
     "metadata": {},
     "output_type": "execute_result"
    }
   ],
   "source": [
    "browser.submit_selected()"
   ]
  },
  {
   "cell_type": "code",
   "execution_count": 268,
   "metadata": {},
   "outputs": [
    {
     "data": {
      "text/plain": [
       "'https://www.python.org/search/?q=Guido+Van+Rossum&submit='"
      ]
     },
     "execution_count": 268,
     "metadata": {},
     "output_type": "execute_result"
    }
   ],
   "source": [
    "browser.get_url()"
   ]
  },
  {
   "cell_type": "code",
   "execution_count": 270,
   "metadata": {},
   "outputs": [],
   "source": [
    "home_page = \"http://testing.chandrashekar.info/\"\n",
    "\n",
    "login_url = \"http://testing.chandrashekar.info/wp-login.php\"\n",
    "username = \"testuser\"\n",
    "password = 'w3lc0me'\n",
    "\n",
    "dashboard_url = \"http://testing.chandrashekar.info/wp-admin/\"\n",
    "\n",
    "add_new_posts_url = \"http://testing.chandrashekar.info/wp-admin/post-new.php\""
   ]
  },
  {
   "cell_type": "code",
   "execution_count": 308,
   "metadata": {},
   "outputs": [],
   "source": [
    "from mechanicalsoup import StatefulBrowser\n",
    "browser = StatefulBrowser()"
   ]
  },
  {
   "cell_type": "code",
   "execution_count": 309,
   "metadata": {},
   "outputs": [],
   "source": [
    "browser.open(login_url)\n",
    "assert browser.get_url() == login_url"
   ]
  },
  {
   "cell_type": "code",
   "execution_count": 310,
   "metadata": {
    "scrolled": false
   },
   "outputs": [
    {
     "name": "stdout",
     "output_type": "stream",
     "text": [
      "<input autocapitalize=\"off\" class=\"input\" id=\"user_login\" name=\"log\" size=\"20\" type=\"text\" value=\"\"/>\n",
      "<input class=\"input password-input\" id=\"user_pass\" name=\"pwd\" size=\"20\" type=\"password\" value=\"\"/>\n",
      "<button aria-label=\"Show password\" class=\"button button-secondary wp-hide-pw hide-if-no-js\" data-toggle=\"0\" type=\"button\">\n",
      "<span aria-hidden=\"true\" class=\"dashicons dashicons-visibility\"></span>\n",
      "</button>\n",
      "<input id=\"rememberme\" name=\"rememberme\" type=\"checkbox\" value=\"forever\"/>\n",
      "<input class=\"button button-primary button-large\" id=\"wp-submit\" name=\"wp-submit\" type=\"submit\" value=\"Log In\"/>\n",
      "<input name=\"redirect_to\" type=\"hidden\" value=\"http://testing.chandrashekar.info/wp-admin/\"/>\n",
      "<input name=\"testcookie\" type=\"hidden\" value=\"1\"/>\n"
     ]
    }
   ],
   "source": [
    "loginform = browser.select_form(\"#loginform\")\n",
    "loginform.print_summary()"
   ]
  },
  {
   "cell_type": "code",
   "execution_count": 311,
   "metadata": {},
   "outputs": [
    {
     "data": {
      "text/plain": [
       "<Response [200]>"
      ]
     },
     "execution_count": 311,
     "metadata": {},
     "output_type": "execute_result"
    }
   ],
   "source": [
    "browser[\"log\"] = username\n",
    "browser[\"pwd\"] = password\n",
    "browser.submit_selected()"
   ]
  },
  {
   "cell_type": "code",
   "execution_count": 312,
   "metadata": {},
   "outputs": [
    {
     "data": {
      "text/plain": [
       "'http://testing.chandrashekar.info/wp-admin/'"
      ]
     },
     "execution_count": 312,
     "metadata": {},
     "output_type": "execute_result"
    }
   ],
   "source": [
    "browser.get_url()"
   ]
  },
  {
   "cell_type": "code",
   "execution_count": 278,
   "metadata": {},
   "outputs": [
    {
     "data": {
      "text/plain": [
       "<a href=\"post-new.php\">Add New</a>"
      ]
     },
     "execution_count": 278,
     "metadata": {},
     "output_type": "execute_result"
    }
   ],
   "source": [
    "browser.find_link(text=\"Add New\")"
   ]
  },
  {
   "cell_type": "code",
   "execution_count": 313,
   "metadata": {},
   "outputs": [
    {
     "data": {
      "text/plain": [
       "<Response [200]>"
      ]
     },
     "execution_count": 313,
     "metadata": {},
     "output_type": "execute_result"
    }
   ],
   "source": [
    "browser.follow_link(text=\"Add New\")"
   ]
  },
  {
   "cell_type": "code",
   "execution_count": 314,
   "metadata": {},
   "outputs": [
    {
     "data": {
      "text/plain": [
       "'http://testing.chandrashekar.info/wp-admin/post-new.php'"
      ]
     },
     "execution_count": 314,
     "metadata": {},
     "output_type": "execute_result"
    }
   ],
   "source": [
    "browser.get_url()"
   ]
  },
  {
   "cell_type": "code",
   "execution_count": 315,
   "metadata": {},
   "outputs": [
    {
     "name": "stdout",
     "output_type": "stream",
     "text": [
      "<input id=\"_wpnonce\" name=\"_wpnonce\" type=\"hidden\" value=\"bceb6e7309\"/>\n",
      "<input name=\"_wp_http_referer\" type=\"hidden\" value=\"/wp-admin/post-new.php\"/>\n",
      "<input id=\"user-id\" name=\"user_ID\" type=\"hidden\" value=\"2\"/>\n",
      "<input id=\"hiddenaction\" name=\"action\" type=\"hidden\" value=\"editpost\"/>\n",
      "<input id=\"originalaction\" name=\"originalaction\" type=\"hidden\" value=\"editpost\"/>\n",
      "<input id=\"post_author\" name=\"post_author\" type=\"hidden\" value=\"2\"/>\n",
      "<input id=\"post_type\" name=\"post_type\" type=\"hidden\" value=\"post\"/>\n",
      "<input id=\"original_post_status\" name=\"original_post_status\" type=\"hidden\" value=\"auto-draft\"/>\n",
      "<input id=\"referredby\" name=\"referredby\" type=\"hidden\" value=\"http://testing.chandrashekar.info/wp-admin/\"/>\n",
      "<input name=\"_wp_original_http_referer\" type=\"hidden\" value=\"http://testing.chandrashekar.info/wp-admin/\"/>\n",
      "<input id=\"auto_draft\" name=\"auto_draft\" type=\"hidden\" value=\"1\"/>\n",
      "<input id=\"post_ID\" name=\"post_ID\" type=\"hidden\" value=\"69\"/>\n",
      "<input id=\"meta-box-order-nonce\" name=\"meta-box-order-nonce\" type=\"hidden\" value=\"4999b6d78c\"/>\n",
      "<input id=\"closedpostboxesnonce\" name=\"closedpostboxesnonce\" type=\"hidden\" value=\"1472d132a0\"/>\n",
      "<input autocomplete=\"off\" id=\"title\" name=\"post_title\" size=\"30\" spellcheck=\"true\" type=\"text\" value=\"\"/>\n",
      "<input id=\"samplepermalinknonce\" name=\"samplepermalinknonce\" type=\"hidden\" value=\"cbfe0335b3\"/>\n",
      "<button class=\"button insert-media add_media\" data-editor=\"content\" id=\"insert-media-button\" type=\"button\"><span class=\"wp-media-buttons-icon\"></span> Add Media</button>\n",
      "<textarea class=\"wp-editor-area\" cols=\"40\" id=\"content\" name=\"content\" style=\"height: 300px\"></textarea>\n",
      "<button aria-expanded=\"true\" class=\"handlediv\" type=\"button\"><span class=\"screen-reader-text\">Toggle panel: Publish</span><span aria-hidden=\"true\" class=\"toggle-indicator\"></span></button>\n",
      "<input class=\"button\" id=\"save\" name=\"save\" type=\"submit\" value=\"Save\"/>\n",
      "<input class=\"button\" id=\"save-post\" name=\"save\" type=\"submit\" value=\"Save Draft\"/>\n",
      "<input id=\"wp-preview\" name=\"wp-preview\" type=\"hidden\" value=\"\"/>\n",
      "<input id=\"hidden_post_status\" name=\"hidden_post_status\" type=\"hidden\" value=\"draft\"/>\n",
      "<select id=\"post_status\" name=\"post_status\">\n",
      "<option value=\"pending\">Pending Review</option>\n",
      "<option selected=\"selected\" value=\"draft\">Draft</option>\n",
      "</select>\n",
      "<input id=\"hidden-post-password\" name=\"hidden_post_password\" type=\"hidden\" value=\"\"/>\n",
      "<input id=\"hidden-post-sticky\" name=\"hidden_post_sticky\" style=\"display:none\" type=\"checkbox\" value=\"sticky\"/>\n",
      "<input id=\"hidden-post-visibility\" name=\"hidden_post_visibility\" type=\"hidden\" value=\"public\"/>\n",
      "<input checked=\"checked\" id=\"visibility-radio-public\" name=\"visibility\" type=\"radio\" value=\"public\"/>\n",
      "<input id=\"sticky\" name=\"sticky\" type=\"checkbox\" value=\"sticky\"/>\n",
      "<input id=\"visibility-radio-password\" name=\"visibility\" type=\"radio\" value=\"password\"/>\n",
      "<input id=\"post_password\" maxlength=\"255\" name=\"post_password\" type=\"text\" value=\"\"/>\n",
      "<input id=\"visibility-radio-private\" name=\"visibility\" type=\"radio\" value=\"private\"/>\n",
      "<select id=\"mm\" name=\"mm\">\n",
      "<option data-text=\"Jan\" value=\"01\">01-Jan</option>\n",
      "<option data-text=\"Feb\" value=\"02\">02-Feb</option>\n",
      "<option data-text=\"Mar\" value=\"03\">03-Mar</option>\n",
      "<option data-text=\"Apr\" selected=\"selected\" value=\"04\">04-Apr</option>\n",
      "<option data-text=\"May\" value=\"05\">05-May</option>\n",
      "<option data-text=\"Jun\" value=\"06\">06-Jun</option>\n",
      "<option data-text=\"Jul\" value=\"07\">07-Jul</option>\n",
      "<option data-text=\"Aug\" value=\"08\">08-Aug</option>\n",
      "<option data-text=\"Sep\" value=\"09\">09-Sep</option>\n",
      "<option data-text=\"Oct\" value=\"10\">10-Oct</option>\n",
      "<option data-text=\"Nov\" value=\"11\">11-Nov</option>\n",
      "<option data-text=\"Dec\" value=\"12\">12-Dec</option>\n",
      "</select>\n",
      "<input autocomplete=\"off\" id=\"jj\" maxlength=\"2\" name=\"jj\" size=\"2\" type=\"text\" value=\"07\"/>\n",
      "<input autocomplete=\"off\" id=\"aa\" maxlength=\"4\" name=\"aa\" size=\"4\" type=\"text\" value=\"2020\"/>\n",
      "<input autocomplete=\"off\" id=\"hh\" maxlength=\"2\" name=\"hh\" size=\"2\" type=\"text\" value=\"10\"/>\n",
      "<input autocomplete=\"off\" id=\"mn\" maxlength=\"2\" name=\"mn\" size=\"2\" type=\"text\" value=\"20\"/>\n",
      "<input id=\"ss\" name=\"ss\" type=\"hidden\" value=\"15\"/>\n",
      "<input id=\"hidden_mm\" name=\"hidden_mm\" type=\"hidden\" value=\"04\"/>\n",
      "<input id=\"cur_mm\" name=\"cur_mm\" type=\"hidden\" value=\"04\"/>\n",
      "<input id=\"hidden_jj\" name=\"hidden_jj\" type=\"hidden\" value=\"07\"/>\n",
      "<input id=\"cur_jj\" name=\"cur_jj\" type=\"hidden\" value=\"07\"/>\n",
      "<input id=\"hidden_aa\" name=\"hidden_aa\" type=\"hidden\" value=\"2020\"/>\n",
      "<input id=\"cur_aa\" name=\"cur_aa\" type=\"hidden\" value=\"2020\"/>\n",
      "<input id=\"hidden_hh\" name=\"hidden_hh\" type=\"hidden\" value=\"10\"/>\n",
      "<input id=\"cur_hh\" name=\"cur_hh\" type=\"hidden\" value=\"10\"/>\n",
      "<input id=\"hidden_mn\" name=\"hidden_mn\" type=\"hidden\" value=\"20\"/>\n",
      "<input id=\"cur_mn\" name=\"cur_mn\" type=\"hidden\" value=\"20\"/>\n",
      "<input id=\"original_publish\" name=\"original_publish\" type=\"hidden\" value=\"Publish\"/>\n",
      "<input class=\"button button-primary button-large\" id=\"publish\" name=\"publish\" type=\"submit\" value=\"Publish\"/>\n",
      "<button aria-expanded=\"true\" class=\"handlediv\" type=\"button\"><span class=\"screen-reader-text\">Toggle panel: Categories</span><span aria-hidden=\"true\" class=\"toggle-indicator\"></span></button>\n",
      "<input id=\"in-popular-category-1\" type=\"checkbox\" value=\"1\"/>\n",
      "<input name=\"post_category[]\" type=\"hidden\" value=\"0\"/>\n",
      "<input id=\"in-category-1\" name=\"post_category[]\" type=\"checkbox\" value=\"1\"/>\n",
      "<input aria-required=\"true\" class=\"form-required form-input-tip\" id=\"newcategory\" name=\"newcategory\" type=\"text\" value=\"New Category Name\"/>\n",
      "<select class=\"postform\" id=\"newcategory_parent\" name=\"newcategory_parent\">\n",
      "<option value=\"-1\">— Parent Category —</option>\n",
      "<option class=\"level-0\" value=\"1\">Uncategorized</option>\n",
      "</select>\n",
      "<input class=\"button category-add-submit\" data-wp-lists=\"add:categorychecklist:category-add\" id=\"category-add-submit\" type=\"button\" value=\"Add New Category\"/>\n",
      "<input id=\"_ajax_nonce-add-category\" name=\"_ajax_nonce-add-category\" type=\"hidden\" value=\"72886109a3\"/>\n",
      "<button aria-expanded=\"true\" class=\"handlediv\" type=\"button\"><span class=\"screen-reader-text\">Toggle panel: Tags</span><span aria-hidden=\"true\" class=\"toggle-indicator\"></span></button>\n",
      "<textarea aria-describedby=\"new-tag-post_tag-desc\" class=\"the-tags\" cols=\"20\" id=\"tax-input-post_tag\" name=\"tax_input[post_tag]\" rows=\"3\"></textarea>\n",
      "<input aria-describedby=\"new-tag-post_tag-desc\" autocomplete=\"off\" class=\"newtag form-input-tip\" data-wp-taxonomy=\"post_tag\" id=\"new-tag-post_tag\" name=\"newtag[post_tag]\" size=\"16\" type=\"text\" value=\"\"/>\n",
      "<input class=\"button tagadd\" type=\"button\" value=\"Add\"/>\n",
      "<button aria-expanded=\"false\" class=\"button-link tagcloud-link\" id=\"link-post_tag\" type=\"button\">Choose from the most used tags</button>\n",
      "<button aria-expanded=\"true\" class=\"handlediv\" type=\"button\"><span class=\"screen-reader-text\">Toggle panel: Post Attributes</span><span aria-hidden=\"true\" class=\"toggle-indicator\"></span></button>\n",
      "<select id=\"page_template\" name=\"page_template\">\n",
      "<option value=\"default\">Default Template</option>\n",
      "<option value=\"templates/template-cover.php\">Cover Template</option>\n",
      "<option value=\"templates/template-full-width.php\">Full Width Template</option></select>\n",
      "<button aria-expanded=\"true\" class=\"handlediv\" type=\"button\"><span class=\"screen-reader-text\">Toggle panel: Featured Image</span><span aria-hidden=\"true\" class=\"toggle-indicator\"></span></button>\n",
      "<input id=\"_thumbnail_id\" name=\"_thumbnail_id\" type=\"hidden\" value=\"-1\"/>\n",
      "<button aria-expanded=\"true\" class=\"handlediv\" type=\"button\"><span class=\"screen-reader-text\">Toggle panel: Excerpt</span><span aria-hidden=\"true\" class=\"toggle-indicator\"></span></button>\n",
      "<textarea cols=\"40\" id=\"excerpt\" name=\"excerpt\" rows=\"1\"></textarea>\n",
      "<button aria-expanded=\"true\" class=\"handlediv\" type=\"button\"><span class=\"screen-reader-text\">Toggle panel: Send Trackbacks</span><span aria-hidden=\"true\" class=\"toggle-indicator\"></span></button>\n",
      "<input aria-describedby=\"trackback-url-desc\" class=\"code\" id=\"trackback_url\" name=\"trackback_url\" type=\"text\" value=\"\"/>\n",
      "<button aria-expanded=\"true\" class=\"handlediv\" type=\"button\"><span class=\"screen-reader-text\">Toggle panel: Custom Fields</span><span aria-hidden=\"true\" class=\"toggle-indicator\"></span></button>\n",
      "<input id=\"metakeyinput\" name=\"metakeyinput\" type=\"text\" value=\"\"/>\n",
      "<textarea cols=\"25\" id=\"metavalue\" name=\"metavalue\" rows=\"2\"></textarea>\n",
      "<input class=\"button\" data-wp-lists=\"add:the-list:newmeta\" id=\"newmeta-submit\" name=\"addmeta\" type=\"submit\" value=\"Add Custom Field\"/>\n",
      "<input id=\"_ajax_nonce-add-meta\" name=\"_ajax_nonce-add-meta\" type=\"hidden\" value=\"9e82f1c846\"/>\n",
      "<button aria-expanded=\"true\" class=\"handlediv\" type=\"button\"><span class=\"screen-reader-text\">Toggle panel: Discussion</span><span aria-hidden=\"true\" class=\"toggle-indicator\"></span></button>\n",
      "<input name=\"advanced_view\" type=\"hidden\" value=\"1\"/>\n",
      "<input checked=\"checked\" id=\"comment_status\" name=\"comment_status\" type=\"checkbox\" value=\"open\"/>\n",
      "<input checked=\"checked\" id=\"ping_status\" name=\"ping_status\" type=\"checkbox\" value=\"open\"/>\n",
      "<button aria-expanded=\"true\" class=\"handlediv\" type=\"button\"><span class=\"screen-reader-text\">Toggle panel: Slug</span><span aria-hidden=\"true\" class=\"toggle-indicator\"></span></button>\n",
      "<input id=\"post_name\" name=\"post_name\" size=\"13\" type=\"text\" value=\"\"/>\n",
      "<button aria-expanded=\"true\" class=\"handlediv\" type=\"button\"><span class=\"screen-reader-text\">Toggle panel: Author</span><span aria-hidden=\"true\" class=\"toggle-indicator\"></span></button>\n",
      "<select class=\"\" id=\"post_author_override\" name=\"post_author_override\">\n",
      "<option value=\"1\">admin (admin)</option>\n",
      "<option selected=\"selected\" value=\"2\">Test User (testuser)</option>\n",
      "</select>\n"
     ]
    }
   ],
   "source": [
    "#post_form = browser.select_form(\"form[action='post.php']\")\n",
    "post_form = browser.select_form(\"#post\")\n",
    "post_form.print_summary()"
   ]
  },
  {
   "cell_type": "code",
   "execution_count": 316,
   "metadata": {},
   "outputs": [],
   "source": [
    "browser[\"post_title\"] = \"A new blog post by Chandrashekar - April 7th\"\n",
    "browser[\"content\"] = \"This is a test blog by Chandrashekar...\"\n"
   ]
  },
  {
   "cell_type": "code",
   "execution_count": 317,
   "metadata": {},
   "outputs": [],
   "source": [
    "post_form[\"post_title\"] = \"A new blog post by Chandrashekar - April 7th\"\n",
    "post_form[\"content\"] = \"This is a test blog by Chandrashekar...\"\n"
   ]
  },
  {
   "cell_type": "code",
   "execution_count": 318,
   "metadata": {},
   "outputs": [],
   "source": [
    "publish_btn = browser.get_current_page().select(\"input#publish\")[0]"
   ]
  },
  {
   "cell_type": "code",
   "execution_count": 319,
   "metadata": {},
   "outputs": [
    {
     "data": {
      "text/plain": [
       "<Response [200]>"
      ]
     },
     "execution_count": 319,
     "metadata": {},
     "output_type": "execute_result"
    }
   ],
   "source": [
    "browser.submit_selected(publish_btn)"
   ]
  },
  {
   "cell_type": "code",
   "execution_count": 307,
   "metadata": {},
   "outputs": [],
   "source": []
  },
  {
   "cell_type": "code",
   "execution_count": 320,
   "metadata": {},
   "outputs": [],
   "source": [
    "page = browser.get_current_page()"
   ]
  },
  {
   "cell_type": "code",
   "execution_count": 321,
   "metadata": {},
   "outputs": [],
   "source": [
    "inp = page.select(\"input#publish\")"
   ]
  },
  {
   "cell_type": "code",
   "execution_count": 305,
   "metadata": {
    "scrolled": true
   },
   "outputs": [
    {
     "data": {
      "text/plain": [
       "<input class=\"button button-primary button-large\" id=\"publish\" type=\"submit\" value=\"Publish\"/>"
      ]
     },
     "execution_count": 305,
     "metadata": {},
     "output_type": "execute_result"
    }
   ],
   "source": [
    "inp"
   ]
  },
  {
   "cell_type": "code",
   "execution_count": 322,
   "metadata": {
    "scrolled": true
   },
   "outputs": [
    {
     "name": "stdout",
     "output_type": "stream",
     "text": [
      "Requirement already satisfied: requests_html in /Users/chandrashekar/anaconda3/lib/python3.7/site-packages (0.9.0)\n",
      "Requirement already satisfied: parse in /Users/chandrashekar/anaconda3/lib/python3.7/site-packages (from requests_html) (1.8.4)\n",
      "Requirement already satisfied: requests in /Users/chandrashekar/anaconda3/lib/python3.7/site-packages (from requests_html) (2.23.0)\n",
      "Requirement already satisfied: bs4 in /Users/chandrashekar/anaconda3/lib/python3.7/site-packages (from requests_html) (0.0.1)\n",
      "Requirement already satisfied: pyquery in /Users/chandrashekar/anaconda3/lib/python3.7/site-packages (from requests_html) (1.4.0)\n",
      "Requirement already satisfied: pyppeteer>=0.0.14 in /Users/chandrashekar/anaconda3/lib/python3.7/site-packages (from requests_html) (0.0.25)\n",
      "Requirement already satisfied: fake-useragent in /Users/chandrashekar/anaconda3/lib/python3.7/site-packages (from requests_html) (0.1.10)\n",
      "Requirement already satisfied: w3lib in /Users/chandrashekar/anaconda3/lib/python3.7/site-packages (from requests_html) (1.19.0)\n",
      "Requirement already satisfied: urllib3!=1.25.0,!=1.25.1,<1.26,>=1.21.1 in /Users/chandrashekar/anaconda3/lib/python3.7/site-packages (from requests->requests_html) (1.21.1)\n",
      "Requirement already satisfied: chardet<4,>=3.0.2 in /Users/chandrashekar/anaconda3/lib/python3.7/site-packages (from requests->requests_html) (3.0.4)\n",
      "Requirement already satisfied: certifi>=2017.4.17 in /Users/chandrashekar/anaconda3/lib/python3.7/site-packages (from requests->requests_html) (2019.11.28)\n",
      "Requirement already satisfied: idna<3,>=2.5 in /Users/chandrashekar/anaconda3/lib/python3.7/site-packages (from requests->requests_html) (2.5)\n",
      "Requirement already satisfied: beautifulsoup4 in /Users/chandrashekar/anaconda3/lib/python3.7/site-packages (from bs4->requests_html) (4.8.2)\n",
      "Requirement already satisfied: cssselect>0.7.9 in /Users/chandrashekar/anaconda3/lib/python3.7/site-packages (from pyquery->requests_html) (1.0.3)\n",
      "Requirement already satisfied: lxml>=2.1 in /Users/chandrashekar/anaconda3/lib/python3.7/site-packages (from pyquery->requests_html) (4.5.0)\n",
      "Requirement already satisfied: websockets in /Users/chandrashekar/anaconda3/lib/python3.7/site-packages (from pyppeteer>=0.0.14->requests_html) (8.1)\n",
      "Requirement already satisfied: appdirs in /Users/chandrashekar/anaconda3/lib/python3.7/site-packages (from pyppeteer>=0.0.14->requests_html) (1.4.3)\n",
      "Requirement already satisfied: pyee in /Users/chandrashekar/anaconda3/lib/python3.7/site-packages (from pyppeteer>=0.0.14->requests_html) (5.0.0)\n",
      "Requirement already satisfied: tqdm in /Users/chandrashekar/anaconda3/lib/python3.7/site-packages (from pyppeteer>=0.0.14->requests_html) (4.43.0)\n",
      "Requirement already satisfied: six>=1.4.1 in /Users/chandrashekar/anaconda3/lib/python3.7/site-packages (from w3lib->requests_html) (1.14.0)\n",
      "Requirement already satisfied: soupsieve>=1.2 in /Users/chandrashekar/anaconda3/lib/python3.7/site-packages (from beautifulsoup4->bs4->requests_html) (2.0)\n",
      "Note: you may need to restart the kernel to use updated packages.\n"
     ]
    }
   ],
   "source": [
    "pip install requests_html"
   ]
  },
  {
   "cell_type": "code",
   "execution_count": 323,
   "metadata": {},
   "outputs": [],
   "source": [
    "from requests_html import HTMLSession"
   ]
  },
  {
   "cell_type": "code",
   "execution_count": 324,
   "metadata": {},
   "outputs": [],
   "source": [
    "sess = HTMLSession()"
   ]
  },
  {
   "cell_type": "code",
   "execution_count": 325,
   "metadata": {},
   "outputs": [
    {
     "data": {
      "text/plain": [
       "<Response [200]>"
      ]
     },
     "execution_count": 325,
     "metadata": {},
     "output_type": "execute_result"
    }
   ],
   "source": [
    "r = sess.get(\"https://finance.yahoo.com/quote/CSCO/options?p=CSCO\")\n",
    "r"
   ]
  },
  {
   "cell_type": "code",
   "execution_count": 333,
   "metadata": {},
   "outputs": [
    {
     "data": {
      "text/plain": [
       "['41.43']"
      ]
     },
     "execution_count": 333,
     "metadata": {},
     "output_type": "execute_result"
    }
   ],
   "source": [
    "r.html.xpath(\".//span[@class='Trsdu(0.3s) Fw(b) Fz(36px) Mb(-4px) D(ib)']/text()\")"
   ]
  },
  {
   "cell_type": "code",
   "execution_count": 334,
   "metadata": {
    "scrolled": true
   },
   "outputs": [
    {
     "data": {
      "text/plain": [
       "[<Element 'option' selected='' value='1586390400' data-reactid='6'>,\n",
       " <Element 'option' value='1587081600' data-reactid='7'>,\n",
       " <Element 'option' value='1587686400' data-reactid='8'>,\n",
       " <Element 'option' value='1588291200' data-reactid='9'>,\n",
       " <Element 'option' value='1588896000' data-reactid='10'>,\n",
       " <Element 'option' value='1589500800' data-reactid='11'>,\n",
       " <Element 'option' value='1590105600' data-reactid='12'>,\n",
       " <Element 'option' value='1592524800' data-reactid='13'>,\n",
       " <Element 'option' value='1594944000' data-reactid='14'>,\n",
       " <Element 'option' value='1600387200' data-reactid='15'>,\n",
       " <Element 'option' value='1602806400' data-reactid='16'>,\n",
       " <Element 'option' value='1610668800' data-reactid='17'>,\n",
       " <Element 'option' value='1642723200' data-reactid='18'>]"
      ]
     },
     "execution_count": 334,
     "metadata": {},
     "output_type": "execute_result"
    }
   ],
   "source": [
    "r.html.xpath(\".//option\")"
   ]
  },
  {
   "cell_type": "code",
   "execution_count": 335,
   "metadata": {},
   "outputs": [
    {
     "ename": "RuntimeError",
     "evalue": "This event loop is already running",
     "output_type": "error",
     "traceback": [
      "\u001b[0;31m---------------------------------------------------------------------------\u001b[0m",
      "\u001b[0;31mRuntimeError\u001b[0m                              Traceback (most recent call last)",
      "\u001b[0;32m<ipython-input-335-7659b856a471>\u001b[0m in \u001b[0;36m<module>\u001b[0;34m\u001b[0m\n\u001b[0;32m----> 1\u001b[0;31m \u001b[0mr\u001b[0m\u001b[0;34m.\u001b[0m\u001b[0mhtml\u001b[0m\u001b[0;34m.\u001b[0m\u001b[0mrender\u001b[0m\u001b[0;34m(\u001b[0m\u001b[0;34m)\u001b[0m\u001b[0;34m\u001b[0m\u001b[0;34m\u001b[0m\u001b[0m\n\u001b[0m",
      "\u001b[0;32m~/anaconda3/lib/python3.7/site-packages/requests_html.py\u001b[0m in \u001b[0;36mrender\u001b[0;34m(self, retries, script, wait, scrolldown, sleep, reload, timeout, keep_page)\u001b[0m\n\u001b[1;32m    570\u001b[0m                 \u001b[0;32mreturn\u001b[0m \u001b[0;32mNone\u001b[0m\u001b[0;34m\u001b[0m\u001b[0;34m\u001b[0m\u001b[0m\n\u001b[1;32m    571\u001b[0m \u001b[0;34m\u001b[0m\u001b[0m\n\u001b[0;32m--> 572\u001b[0;31m         \u001b[0mself\u001b[0m\u001b[0;34m.\u001b[0m\u001b[0msession\u001b[0m\u001b[0;34m.\u001b[0m\u001b[0mbrowser\u001b[0m  \u001b[0;31m# Automatycally create a event loop and browser\u001b[0m\u001b[0;34m\u001b[0m\u001b[0;34m\u001b[0m\u001b[0m\n\u001b[0m\u001b[1;32m    573\u001b[0m         \u001b[0mcontent\u001b[0m \u001b[0;34m=\u001b[0m \u001b[0;32mNone\u001b[0m\u001b[0;34m\u001b[0m\u001b[0;34m\u001b[0m\u001b[0m\n\u001b[1;32m    574\u001b[0m \u001b[0;34m\u001b[0m\u001b[0m\n",
      "\u001b[0;32m~/anaconda3/lib/python3.7/site-packages/requests_html.py\u001b[0m in \u001b[0;36mbrowser\u001b[0;34m(self)\u001b[0m\n\u001b[1;32m    678\u001b[0m         \u001b[0;32mif\u001b[0m \u001b[0;32mnot\u001b[0m \u001b[0mhasattr\u001b[0m\u001b[0;34m(\u001b[0m\u001b[0mself\u001b[0m\u001b[0;34m,\u001b[0m \u001b[0;34m\"_browser\"\u001b[0m\u001b[0;34m)\u001b[0m\u001b[0;34m:\u001b[0m\u001b[0;34m\u001b[0m\u001b[0;34m\u001b[0m\u001b[0m\n\u001b[1;32m    679\u001b[0m             \u001b[0mself\u001b[0m\u001b[0;34m.\u001b[0m\u001b[0mloop\u001b[0m \u001b[0;34m=\u001b[0m \u001b[0masyncio\u001b[0m\u001b[0;34m.\u001b[0m\u001b[0mget_event_loop\u001b[0m\u001b[0;34m(\u001b[0m\u001b[0;34m)\u001b[0m\u001b[0;34m\u001b[0m\u001b[0;34m\u001b[0m\u001b[0m\n\u001b[0;32m--> 680\u001b[0;31m             \u001b[0mself\u001b[0m\u001b[0;34m.\u001b[0m\u001b[0m_browser\u001b[0m \u001b[0;34m=\u001b[0m \u001b[0mself\u001b[0m\u001b[0;34m.\u001b[0m\u001b[0mloop\u001b[0m\u001b[0;34m.\u001b[0m\u001b[0mrun_until_complete\u001b[0m\u001b[0;34m(\u001b[0m\u001b[0mpyppeteer\u001b[0m\u001b[0;34m.\u001b[0m\u001b[0mlaunch\u001b[0m\u001b[0;34m(\u001b[0m\u001b[0mheadless\u001b[0m\u001b[0;34m=\u001b[0m\u001b[0;32mTrue\u001b[0m\u001b[0;34m,\u001b[0m \u001b[0margs\u001b[0m\u001b[0;34m=\u001b[0m\u001b[0;34m[\u001b[0m\u001b[0;34m'--no-sandbox'\u001b[0m\u001b[0;34m]\u001b[0m\u001b[0;34m)\u001b[0m\u001b[0;34m)\u001b[0m\u001b[0;34m\u001b[0m\u001b[0;34m\u001b[0m\u001b[0m\n\u001b[0m\u001b[1;32m    681\u001b[0m         \u001b[0;32mreturn\u001b[0m \u001b[0mself\u001b[0m\u001b[0;34m.\u001b[0m\u001b[0m_browser\u001b[0m\u001b[0;34m\u001b[0m\u001b[0;34m\u001b[0m\u001b[0m\n\u001b[1;32m    682\u001b[0m \u001b[0;34m\u001b[0m\u001b[0m\n",
      "\u001b[0;32m~/anaconda3/lib/python3.7/asyncio/base_events.py\u001b[0m in \u001b[0;36mrun_until_complete\u001b[0;34m(self, future)\u001b[0m\n\u001b[1;32m    569\u001b[0m         \u001b[0mfuture\u001b[0m\u001b[0;34m.\u001b[0m\u001b[0madd_done_callback\u001b[0m\u001b[0;34m(\u001b[0m\u001b[0m_run_until_complete_cb\u001b[0m\u001b[0;34m)\u001b[0m\u001b[0;34m\u001b[0m\u001b[0;34m\u001b[0m\u001b[0m\n\u001b[1;32m    570\u001b[0m         \u001b[0;32mtry\u001b[0m\u001b[0;34m:\u001b[0m\u001b[0;34m\u001b[0m\u001b[0;34m\u001b[0m\u001b[0m\n\u001b[0;32m--> 571\u001b[0;31m             \u001b[0mself\u001b[0m\u001b[0;34m.\u001b[0m\u001b[0mrun_forever\u001b[0m\u001b[0;34m(\u001b[0m\u001b[0;34m)\u001b[0m\u001b[0;34m\u001b[0m\u001b[0;34m\u001b[0m\u001b[0m\n\u001b[0m\u001b[1;32m    572\u001b[0m         \u001b[0;32mexcept\u001b[0m\u001b[0;34m:\u001b[0m\u001b[0;34m\u001b[0m\u001b[0;34m\u001b[0m\u001b[0m\n\u001b[1;32m    573\u001b[0m             \u001b[0;32mif\u001b[0m \u001b[0mnew_task\u001b[0m \u001b[0;32mand\u001b[0m \u001b[0mfuture\u001b[0m\u001b[0;34m.\u001b[0m\u001b[0mdone\u001b[0m\u001b[0;34m(\u001b[0m\u001b[0;34m)\u001b[0m \u001b[0;32mand\u001b[0m \u001b[0;32mnot\u001b[0m \u001b[0mfuture\u001b[0m\u001b[0;34m.\u001b[0m\u001b[0mcancelled\u001b[0m\u001b[0;34m(\u001b[0m\u001b[0;34m)\u001b[0m\u001b[0;34m:\u001b[0m\u001b[0;34m\u001b[0m\u001b[0;34m\u001b[0m\u001b[0m\n",
      "\u001b[0;32m~/anaconda3/lib/python3.7/asyncio/base_events.py\u001b[0m in \u001b[0;36mrun_forever\u001b[0;34m(self)\u001b[0m\n\u001b[1;32m    524\u001b[0m         \u001b[0mself\u001b[0m\u001b[0;34m.\u001b[0m\u001b[0m_check_closed\u001b[0m\u001b[0;34m(\u001b[0m\u001b[0;34m)\u001b[0m\u001b[0;34m\u001b[0m\u001b[0;34m\u001b[0m\u001b[0m\n\u001b[1;32m    525\u001b[0m         \u001b[0;32mif\u001b[0m \u001b[0mself\u001b[0m\u001b[0;34m.\u001b[0m\u001b[0mis_running\u001b[0m\u001b[0;34m(\u001b[0m\u001b[0;34m)\u001b[0m\u001b[0;34m:\u001b[0m\u001b[0;34m\u001b[0m\u001b[0;34m\u001b[0m\u001b[0m\n\u001b[0;32m--> 526\u001b[0;31m             \u001b[0;32mraise\u001b[0m \u001b[0mRuntimeError\u001b[0m\u001b[0;34m(\u001b[0m\u001b[0;34m'This event loop is already running'\u001b[0m\u001b[0;34m)\u001b[0m\u001b[0;34m\u001b[0m\u001b[0;34m\u001b[0m\u001b[0m\n\u001b[0m\u001b[1;32m    527\u001b[0m         \u001b[0;32mif\u001b[0m \u001b[0mevents\u001b[0m\u001b[0;34m.\u001b[0m\u001b[0m_get_running_loop\u001b[0m\u001b[0;34m(\u001b[0m\u001b[0;34m)\u001b[0m \u001b[0;32mis\u001b[0m \u001b[0;32mnot\u001b[0m \u001b[0;32mNone\u001b[0m\u001b[0;34m:\u001b[0m\u001b[0;34m\u001b[0m\u001b[0;34m\u001b[0m\u001b[0m\n\u001b[1;32m    528\u001b[0m             raise RuntimeError(\n",
      "\u001b[0;31mRuntimeError\u001b[0m: This event loop is already running"
     ]
    }
   ],
   "source": [
    "r.html.render()"
   ]
  }
 ],
 "metadata": {
  "kernelspec": {
   "display_name": "Python 3",
   "language": "python",
   "name": "python3"
  },
  "language_info": {
   "codemirror_mode": {
    "name": "ipython",
    "version": 3
   },
   "file_extension": ".py",
   "mimetype": "text/x-python",
   "name": "python",
   "nbconvert_exporter": "python",
   "pygments_lexer": "ipython3",
   "version": "3.7.3"
  }
 },
 "nbformat": 4,
 "nbformat_minor": 4
}
