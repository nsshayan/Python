{
 "cells": [
  {
   "cell_type": "code",
   "execution_count": 26,
   "metadata": {},
   "outputs": [],
   "source": [
    "# %load books.xml\n",
    "xml_string = \"\"\"<?xml version=\"1.0\"?>\n",
    "<catalog>\n",
    "lkd jlsj flsdjfklsjdlfjsdlkjsdk\n",
    "   <book id=\"bk101\" country=\"India\" type=\"technical\">\n",
    "      <author>Gambardella, Matthew</author>\n",
    "      <title>XML Developer's Guide</title>\n",
    "      <genre>Computer</genre>\n",
    "      <price>44.95</price>\n",
    "      <publish_date>2000-10-01</publish_date>\n",
    "      <description>An in-depth look at creating applications \n",
    "      with XML.</description>\n",
    "   </book>\n",
    "   <book id=\"bk102\">\n",
    "      <author>Ralls, Kim</author>\n",
    "      <title>Midnight Rain</title>\n",
    "      <genre>Fantasy</genre>\n",
    "      <price>5.95</price>\n",
    "      <publish_date>2000-12-16</publish_date>\n",
    "      <description>A former architect battles corporate zombies, \n",
    "      an evil sorceress, and her own childhood to become queen \n",
    "      of the world.</description>\n",
    "   </book>\n",
    "   <book id=\"bk103\">\n",
    "      <author>Corets, Eva</author>\n",
    "      <title>Maeve Ascendant</title>\n",
    "      <genre>Fantasy</genre>\n",
    "      <price>5.95</price>\n",
    "      <publish_date>2000-11-17</publish_date>\n",
    "      <description>After the collapse of a nanotechnology \n",
    "      society in England, the young survivors lay the \n",
    "      foundation for a new society.</description>\n",
    "   </book>\n",
    "   <book id=\"bk104\">\n",
    "      <author>Corets, Eva</author>\n",
    "      <title>Oberon's Legacy</title>\n",
    "      <genre>Fantasy</genre>\n",
    "      <price>5.95</price>\n",
    "      <publish_date>2001-03-10</publish_date>\n",
    "      <description>In post-apocalypse England, the mysterious \n",
    "      agent known only as Oberon helps to create a new life \n",
    "      for the inhabitants of London. Sequel to Maeve \n",
    "      Ascendant.</description>\n",
    "   </book>\n",
    "   <book id=\"bk105\">\n",
    "      <author>Corets, Eva</author>\n",
    "      <title>The Sundered Grail</title>\n",
    "      <genre>Fantasy</genre>\n",
    "      <price>5.95</price>\n",
    "      <publish_date>2001-09-10</publish_date>\n",
    "      <description>The two daughters of Maeve, half-sisters, \n",
    "      battle one another for control of England. Sequel to \n",
    "      Oberon's Legacy.</description>\n",
    "   </book>\n",
    "   <book id=\"bk106\">\n",
    "      <author>Randall, Cynthia</author>\n",
    "      <title>Lover Birds</title>\n",
    "      <genre>Romance</genre>\n",
    "      <price>4.95</price>\n",
    "      <publish_date>2000-09-02</publish_date>\n",
    "      <description>When Carla meets Paul at an ornithology \n",
    "      conference, tempers fly as feathers get ruffled.</description>\n",
    "   </book>\n",
    "   <book id=\"bk107\">\n",
    "      <author>Thurman, Paula</author>\n",
    "      <title>Splish Splash</title>\n",
    "      <genre>Romance</genre>\n",
    "      <price>4.95</price>\n",
    "      <publish_date>2000-11-02</publish_date>\n",
    "      <description>A deep sea diver finds true love twenty \n",
    "      thousand leagues beneath the sea.</description>\n",
    "   </book>\n",
    "   <book id=\"bk108\">\n",
    "      <author>Knorr, Stefan</author>\n",
    "      <title>Creepy Crawlies</title>\n",
    "      <genre>Horror</genre>\n",
    "      <price>4.95</price>\n",
    "      <publish_date>2000-12-06</publish_date>\n",
    "      <description>An anthology of horror stories about roaches,\n",
    "      centipedes, scorpions  and other insects.</description>\n",
    "   </book>\n",
    "   <book id=\"bk109\">\n",
    "      <author>Kress, Peter</author>\n",
    "      <title>Paradox Lost</title>\n",
    "      <genre>Science Fiction</genre>\n",
    "      <price>6.95</price>\n",
    "      <publish_date>2000-11-02</publish_date>\n",
    "      <description>After an inadvertant trip through a Heisenberg\n",
    "      Uncertainty Device, James Salway discovers the problems \n",
    "      of being quantum.</description>\n",
    "   </book>\n",
    "   <book id=\"bk110\">\n",
    "      <author>O'Brien, Tim</author>\n",
    "      <title>Microsoft .NET: The Programming Bible</title>\n",
    "      <genre>Computer</genre>\n",
    "      <price>36.95</price>\n",
    "      <publish_date>2000-12-09</publish_date>\n",
    "      <description>Microsoft's .NET initiative is explored in \n",
    "      detail in this deep programmer's reference.</description>\n",
    "   </book>\n",
    "   <book id=\"bk111\">\n",
    "      <author>O'Brien, Tim</author>\n",
    "      <title>MSXML3: A Comprehensive Guide</title>\n",
    "      <genre>Computer</genre>\n",
    "      <price>36.95</price>\n",
    "      <publish_date>2000-12-01</publish_date>\n",
    "      <description>The Microsoft MSXML3 parser is covered in \n",
    "      detail, with attention to XML DOM interfaces, XSLT processing, \n",
    "      SAX and more.</description>\n",
    "   </book>\n",
    "   <book id=\"bk112\">\n",
    "      <author>Galos, Mike</author>\n",
    "      <title>Visual Studio 7: A Comprehensive Guide</title>\n",
    "      <genre>Computer</genre>\n",
    "      <price>49.95</price>\n",
    "      <publish_date>2001-04-16</publish_date>\n",
    "      <description>Microsoft Visual Studio 7 is explored in depth,\n",
    "      looking at how Visual Basic, Visual C++, C#, and ASP+ are \n",
    "      integrated into a comprehensive development \n",
    "      environment.</description>\n",
    "   </book>retrtrtrtrtrtrtrt\n",
    "</catalog>\n",
    "\"\"\""
   ]
  },
  {
   "cell_type": "code",
   "execution_count": 5,
   "metadata": {},
   "outputs": [],
   "source": [
    "import xml.etree.ElementTree as et"
   ]
  },
  {
   "cell_type": "code",
   "execution_count": 8,
   "metadata": {},
   "outputs": [],
   "source": [
    "tree = et.parse(\"./books.xml\")"
   ]
  },
  {
   "cell_type": "code",
   "execution_count": 11,
   "metadata": {},
   "outputs": [],
   "source": [
    "c = tree.getroot()"
   ]
  },
  {
   "cell_type": "code",
   "execution_count": 16,
   "metadata": {
    "scrolled": true
   },
   "outputs": [
    {
     "name": "stdout",
     "output_type": "stream",
     "text": [
      "{}\n",
      "catalog\n",
      "'\n",
      "   '\n",
      "[<Element 'book' at 0x112965958>, <Element 'book' at 0x112965db8>, <Element 'book' at 0x1129ae098>, <Element 'book' at 0x1129ae2c8>, <Element 'book' at 0x1129ae548>, <Element 'book' at 0x1129ae778>, <Element 'book' at 0x1129ae9a8>, <Element 'book' at 0x1129aebd8>, <Element 'book' at 0x1129aee08>, <Element 'book' at 0x1129af098>, <Element 'book' at 0x1129af2c8>, <Element 'book' at 0x1129af548>]\n"
     ]
    }
   ],
   "source": [
    "print(c.\n",
    "print(c.tag)\n",
    "print(f\"'{c.text}'\")\n",
    "print(c.getchildren())"
   ]
  },
  {
   "cell_type": "code",
   "execution_count": 27,
   "metadata": {},
   "outputs": [],
   "source": [
    "c = et.fromstring(xml_string)"
   ]
  },
  {
   "cell_type": "code",
   "execution_count": 28,
   "metadata": {},
   "outputs": [
    {
     "data": {
      "text/plain": [
       "'\\nlkd jlsj flsdjfklsjdlfjsdlkjsdk\\n   '"
      ]
     },
     "execution_count": 28,
     "metadata": {},
     "output_type": "execute_result"
    }
   ],
   "source": [
    "c.text"
   ]
  },
  {
   "cell_type": "code",
   "execution_count": 35,
   "metadata": {},
   "outputs": [
    {
     "name": "stdout",
     "output_type": "stream",
     "text": [
      "12\n"
     ]
    }
   ],
   "source": [
    "b = c[0]\n",
    "print(len(c))"
   ]
  },
  {
   "cell_type": "code",
   "execution_count": 34,
   "metadata": {},
   "outputs": [
    {
     "name": "stdout",
     "output_type": "stream",
     "text": [
      "{'id': 'bk101', 'country': 'India', 'type': 'technical'}\n",
      "book\n",
      "\n",
      "      \n"
     ]
    }
   ],
   "source": [
    "print(b.attrib)\n",
    "print(b.tag)\n",
    "print(b.text)"
   ]
  },
  {
   "cell_type": "code",
   "execution_count": 36,
   "metadata": {},
   "outputs": [
    {
     "name": "stdout",
     "output_type": "stream",
     "text": [
      "bk101\n",
      "bk102\n",
      "bk103\n",
      "bk104\n",
      "bk105\n",
      "bk106\n",
      "bk107\n",
      "bk108\n",
      "bk109\n",
      "bk110\n",
      "bk111\n",
      "bk112\n"
     ]
    }
   ],
   "source": [
    "for b in c:\n",
    "    print(b.attrib[\"id\"])"
   ]
  },
  {
   "cell_type": "code",
   "execution_count": 39,
   "metadata": {},
   "outputs": [
    {
     "data": {
      "text/plain": [
       "'Gambardella, Matthew'"
      ]
     },
     "execution_count": 39,
     "metadata": {},
     "output_type": "execute_result"
    }
   ],
   "source": [
    "c[0][0].text"
   ]
  },
  {
   "cell_type": "code",
   "execution_count": 41,
   "metadata": {},
   "outputs": [
    {
     "name": "stdout",
     "output_type": "stream",
     "text": [
      "Book  bk101\n",
      "author = Gambardella, Matthew\n",
      "title = XML Developer's Guide\n",
      "genre = Computer\n",
      "price = 44.95\n",
      "publish_date = 2000-10-01\n",
      "description = An in-depth look at creating applications \n",
      "      with XML.\n",
      "--------------------\n",
      "Book  bk102\n",
      "author = Ralls, Kim\n",
      "title = Midnight Rain\n",
      "genre = Fantasy\n",
      "price = 5.95\n",
      "publish_date = 2000-12-16\n",
      "description = A former architect battles corporate zombies, \n",
      "      an evil sorceress, and her own childhood to become queen \n",
      "      of the world.\n",
      "--------------------\n",
      "Book  bk103\n",
      "author = Corets, Eva\n",
      "title = Maeve Ascendant\n",
      "genre = Fantasy\n",
      "price = 5.95\n",
      "publish_date = 2000-11-17\n",
      "description = After the collapse of a nanotechnology \n",
      "      society in England, the young survivors lay the \n",
      "      foundation for a new society.\n",
      "--------------------\n",
      "Book  bk104\n",
      "author = Corets, Eva\n",
      "title = Oberon's Legacy\n",
      "genre = Fantasy\n",
      "price = 5.95\n",
      "publish_date = 2001-03-10\n",
      "description = In post-apocalypse England, the mysterious \n",
      "      agent known only as Oberon helps to create a new life \n",
      "      for the inhabitants of London. Sequel to Maeve \n",
      "      Ascendant.\n",
      "--------------------\n",
      "Book  bk105\n",
      "author = Corets, Eva\n",
      "title = The Sundered Grail\n",
      "genre = Fantasy\n",
      "price = 5.95\n",
      "publish_date = 2001-09-10\n",
      "description = The two daughters of Maeve, half-sisters, \n",
      "      battle one another for control of England. Sequel to \n",
      "      Oberon's Legacy.\n",
      "--------------------\n",
      "Book  bk106\n",
      "author = Randall, Cynthia\n",
      "title = Lover Birds\n",
      "genre = Romance\n",
      "price = 4.95\n",
      "publish_date = 2000-09-02\n",
      "description = When Carla meets Paul at an ornithology \n",
      "      conference, tempers fly as feathers get ruffled.\n",
      "--------------------\n",
      "Book  bk107\n",
      "author = Thurman, Paula\n",
      "title = Splish Splash\n",
      "genre = Romance\n",
      "price = 4.95\n",
      "publish_date = 2000-11-02\n",
      "description = A deep sea diver finds true love twenty \n",
      "      thousand leagues beneath the sea.\n",
      "--------------------\n",
      "Book  bk108\n",
      "author = Knorr, Stefan\n",
      "title = Creepy Crawlies\n",
      "genre = Horror\n",
      "price = 4.95\n",
      "publish_date = 2000-12-06\n",
      "description = An anthology of horror stories about roaches,\n",
      "      centipedes, scorpions  and other insects.\n",
      "--------------------\n",
      "Book  bk109\n",
      "author = Kress, Peter\n",
      "title = Paradox Lost\n",
      "genre = Science Fiction\n",
      "price = 6.95\n",
      "publish_date = 2000-11-02\n",
      "description = After an inadvertant trip through a Heisenberg\n",
      "      Uncertainty Device, James Salway discovers the problems \n",
      "      of being quantum.\n",
      "--------------------\n",
      "Book  bk110\n",
      "author = O'Brien, Tim\n",
      "title = Microsoft .NET: The Programming Bible\n",
      "genre = Computer\n",
      "price = 36.95\n",
      "publish_date = 2000-12-09\n",
      "description = Microsoft's .NET initiative is explored in \n",
      "      detail in this deep programmer's reference.\n",
      "--------------------\n",
      "Book  bk111\n",
      "author = O'Brien, Tim\n",
      "title = MSXML3: A Comprehensive Guide\n",
      "genre = Computer\n",
      "price = 36.95\n",
      "publish_date = 2000-12-01\n",
      "description = The Microsoft MSXML3 parser is covered in \n",
      "      detail, with attention to XML DOM interfaces, XSLT processing, \n",
      "      SAX and more.\n",
      "--------------------\n",
      "Book  bk112\n",
      "author = Galos, Mike\n",
      "title = Visual Studio 7: A Comprehensive Guide\n",
      "genre = Computer\n",
      "price = 49.95\n",
      "publish_date = 2001-04-16\n",
      "description = Microsoft Visual Studio 7 is explored in depth,\n",
      "      looking at how Visual Basic, Visual C++, C#, and ASP+ are \n",
      "      integrated into a comprehensive development \n",
      "      environment.\n",
      "--------------------\n"
     ]
    }
   ],
   "source": [
    "for book in c:\n",
    "    print(\"Book \", book.attrib[\"id\"])\n",
    "    for e in book:\n",
    "        print(e.tag, \"=\", e.text)\n",
    "    print(\"-\" * 20)"
   ]
  },
  {
   "cell_type": "code",
   "execution_count": 45,
   "metadata": {},
   "outputs": [],
   "source": [
    "c[0][0].text = \"Babu, Chandrashekar\""
   ]
  },
  {
   "cell_type": "code",
   "execution_count": 47,
   "metadata": {},
   "outputs": [],
   "source": [
    "c[0][0].text\n",
    "del c[1]\n",
    "d = c.makeelement(\"country\", {\"code\": \"IN\"})"
   ]
  },
  {
   "cell_type": "code",
   "execution_count": 49,
   "metadata": {},
   "outputs": [],
   "source": [
    "d.text = \"India\""
   ]
  },
  {
   "cell_type": "code",
   "execution_count": 50,
   "metadata": {},
   "outputs": [],
   "source": [
    "c[0].append(d)"
   ]
  },
  {
   "cell_type": "code",
   "execution_count": 53,
   "metadata": {},
   "outputs": [
    {
     "name": "stdout",
     "output_type": "stream",
     "text": [
      "<catalog>\n",
      "lkd jlsj flsdjfklsjdlfjsdlkjsdk\n",
      "   <book country=\"India\" id=\"bk101\" type=\"technical\">\n",
      "      <author>Babu, Chandrashekar</author>\n",
      "      <title>XML Developer's Guide</title>\n",
      "      <genre>Computer</genre>\n",
      "      <price>44.95</price>\n",
      "      <publish_date>2000-10-01</publish_date>\n",
      "      <description>An in-depth look at creating applications \n",
      "      with XML.</description>\n",
      "   <country code=\"IN\">India</country></book>\n",
      "   <book id=\"bk103\">\n",
      "      <author>Corets, Eva</author>\n",
      "      <title>Maeve Ascendant</title>\n",
      "      <genre>Fantasy</genre>\n",
      "      <price>5.95</price>\n",
      "      <publish_date>2000-11-17</publish_date>\n",
      "      <description>After the collapse of a nanotechnology \n",
      "      society in England, the young survivors lay the \n",
      "      foundation for a new society.</description>\n",
      "   </book>\n",
      "   <book id=\"bk104\">\n",
      "      <author>Corets, Eva</author>\n",
      "      <title>Oberon's Legacy</title>\n",
      "      <genre>Fantasy</genre>\n",
      "      <price>5.95</price>\n",
      "      <publish_date>2001-03-10</publish_date>\n",
      "      <description>In post-apocalypse England, the mysterious \n",
      "      agent known only as Oberon helps to create a new life \n",
      "      for the inhabitants of London. Sequel to Maeve \n",
      "      Ascendant.</description>\n",
      "   </book>\n",
      "   <book id=\"bk105\">\n",
      "      <author>Corets, Eva</author>\n",
      "      <title>The Sundered Grail</title>\n",
      "      <genre>Fantasy</genre>\n",
      "      <price>5.95</price>\n",
      "      <publish_date>2001-09-10</publish_date>\n",
      "      <description>The two daughters of Maeve, half-sisters, \n",
      "      battle one another for control of England. Sequel to \n",
      "      Oberon's Legacy.</description>\n",
      "   </book>\n",
      "   <book id=\"bk106\">\n",
      "      <author>Randall, Cynthia</author>\n",
      "      <title>Lover Birds</title>\n",
      "      <genre>Romance</genre>\n",
      "      <price>4.95</price>\n",
      "      <publish_date>2000-09-02</publish_date>\n",
      "      <description>When Carla meets Paul at an ornithology \n",
      "      conference, tempers fly as feathers get ruffled.</description>\n",
      "   </book>\n",
      "   <book id=\"bk107\">\n",
      "      <author>Thurman, Paula</author>\n",
      "      <title>Splish Splash</title>\n",
      "      <genre>Romance</genre>\n",
      "      <price>4.95</price>\n",
      "      <publish_date>2000-11-02</publish_date>\n",
      "      <description>A deep sea diver finds true love twenty \n",
      "      thousand leagues beneath the sea.</description>\n",
      "   </book>\n",
      "   <book id=\"bk108\">\n",
      "      <author>Knorr, Stefan</author>\n",
      "      <title>Creepy Crawlies</title>\n",
      "      <genre>Horror</genre>\n",
      "      <price>4.95</price>\n",
      "      <publish_date>2000-12-06</publish_date>\n",
      "      <description>An anthology of horror stories about roaches,\n",
      "      centipedes, scorpions  and other insects.</description>\n",
      "   </book>\n",
      "   <book id=\"bk109\">\n",
      "      <author>Kress, Peter</author>\n",
      "      <title>Paradox Lost</title>\n",
      "      <genre>Science Fiction</genre>\n",
      "      <price>6.95</price>\n",
      "      <publish_date>2000-11-02</publish_date>\n",
      "      <description>After an inadvertant trip through a Heisenberg\n",
      "      Uncertainty Device, James Salway discovers the problems \n",
      "      of being quantum.</description>\n",
      "   </book>\n",
      "   <book id=\"bk110\">\n",
      "      <author>O'Brien, Tim</author>\n",
      "      <title>Microsoft .NET: The Programming Bible</title>\n",
      "      <genre>Computer</genre>\n",
      "      <price>36.95</price>\n",
      "      <publish_date>2000-12-09</publish_date>\n",
      "      <description>Microsoft's .NET initiative is explored in \n",
      "      detail in this deep programmer's reference.</description>\n",
      "   </book>\n",
      "   <book id=\"bk111\">\n",
      "      <author>O'Brien, Tim</author>\n",
      "      <title>MSXML3: A Comprehensive Guide</title>\n",
      "      <genre>Computer</genre>\n",
      "      <price>36.95</price>\n",
      "      <publish_date>2000-12-01</publish_date>\n",
      "      <description>The Microsoft MSXML3 parser is covered in \n",
      "      detail, with attention to XML DOM interfaces, XSLT processing, \n",
      "      SAX and more.</description>\n",
      "   </book>\n",
      "   <book id=\"bk112\">\n",
      "      <author>Galos, Mike</author>\n",
      "      <title>Visual Studio 7: A Comprehensive Guide</title>\n",
      "      <genre>Computer</genre>\n",
      "      <price>49.95</price>\n",
      "      <publish_date>2001-04-16</publish_date>\n",
      "      <description>Microsoft Visual Studio 7 is explored in depth,\n",
      "      looking at how Visual Basic, Visual C++, C#, and ASP+ are \n",
      "      integrated into a comprehensive development \n",
      "      environment.</description>\n",
      "   </book>retrtrtrtrtrtrtrt\n",
      "</catalog>\n"
     ]
    }
   ],
   "source": [
    "print(str(et.tostring(c), \"utf8\"))"
   ]
  },
  {
   "cell_type": "code",
   "execution_count": 55,
   "metadata": {},
   "outputs": [
    {
     "data": {
      "text/plain": [
       "'Babu, Chandrashekar'"
      ]
     },
     "execution_count": 55,
     "metadata": {},
     "output_type": "execute_result"
    }
   ],
   "source": [
    "c.find(\"./book/author\").text"
   ]
  },
  {
   "cell_type": "code",
   "execution_count": 56,
   "metadata": {
    "scrolled": true
   },
   "outputs": [
    {
     "data": {
      "text/plain": [
       "[<Element 'author' at 0x112a36728>,\n",
       " <Element 'author' at 0x112a36b88>,\n",
       " <Element 'author' at 0x112a3d5e8>,\n",
       " <Element 'author' at 0x112a3d868>,\n",
       " <Element 'author' at 0x112a3da98>,\n",
       " <Element 'author' at 0x112a3dcc8>,\n",
       " <Element 'author' at 0x112a3def8>,\n",
       " <Element 'author' at 0x112a41188>,\n",
       " <Element 'author' at 0x112a413b8>,\n",
       " <Element 'author' at 0x112a415e8>,\n",
       " <Element 'author' at 0x112a41868>]"
      ]
     },
     "execution_count": 56,
     "metadata": {},
     "output_type": "execute_result"
    }
   ],
   "source": [
    "c.findall(\"./book/author\")"
   ]
  },
  {
   "cell_type": "code",
   "execution_count": 57,
   "metadata": {},
   "outputs": [
    {
     "data": {
      "text/plain": [
       "[<Element 'author' at 0x112a36728>,\n",
       " <Element 'author' at 0x112a36b88>,\n",
       " <Element 'author' at 0x112a3d5e8>,\n",
       " <Element 'author' at 0x112a3d868>,\n",
       " <Element 'author' at 0x112a3da98>,\n",
       " <Element 'author' at 0x112a3dcc8>,\n",
       " <Element 'author' at 0x112a3def8>,\n",
       " <Element 'author' at 0x112a41188>,\n",
       " <Element 'author' at 0x112a413b8>,\n",
       " <Element 'author' at 0x112a415e8>,\n",
       " <Element 'author' at 0x112a41868>]"
      ]
     },
     "execution_count": 57,
     "metadata": {},
     "output_type": "execute_result"
    }
   ],
   "source": [
    "c.findall(\".//author\")"
   ]
  },
  {
   "cell_type": "code",
   "execution_count": 59,
   "metadata": {
    "scrolled": true
   },
   "outputs": [
    {
     "data": {
      "text/plain": [
       "['Babu, Chandrashekar',\n",
       " 'Corets, Eva',\n",
       " 'Corets, Eva',\n",
       " 'Corets, Eva',\n",
       " 'Randall, Cynthia',\n",
       " 'Thurman, Paula',\n",
       " 'Knorr, Stefan',\n",
       " 'Kress, Peter',\n",
       " \"O'Brien, Tim\",\n",
       " \"O'Brien, Tim\",\n",
       " 'Galos, Mike']"
      ]
     },
     "execution_count": 59,
     "metadata": {},
     "output_type": "execute_result"
    }
   ],
   "source": [
    "[ a.text for a in c.findall(\".//author\") ]"
   ]
  },
  {
   "cell_type": "code",
   "execution_count": 61,
   "metadata": {
    "scrolled": true
   },
   "outputs": [
    {
     "data": {
      "text/plain": [
       "['Babu, Chandrashekar',\n",
       " 'Corets, Eva',\n",
       " 'Corets, Eva',\n",
       " 'Corets, Eva',\n",
       " 'Randall, Cynthia',\n",
       " 'Thurman, Paula',\n",
       " 'Knorr, Stefan',\n",
       " 'Kress, Peter',\n",
       " \"O'Brien, Tim\",\n",
       " \"O'Brien, Tim\",\n",
       " 'Galos, Mike']"
      ]
     },
     "execution_count": 61,
     "metadata": {},
     "output_type": "execute_result"
    }
   ],
   "source": [
    "[ a.text for a in c.iterfind(\".//author\") ]"
   ]
  },
  {
   "cell_type": "code",
   "execution_count": 66,
   "metadata": {},
   "outputs": [
    {
     "data": {
      "text/plain": [
       "'Corets, Eva'"
      ]
     },
     "execution_count": 66,
     "metadata": {},
     "output_type": "execute_result"
    }
   ],
   "source": [
    "c.find(\"./book[@id='bk103']/author\").text"
   ]
  },
  {
   "cell_type": "code",
   "execution_count": 67,
   "metadata": {},
   "outputs": [
    {
     "data": {
      "text/plain": [
       "[<Element 'book' at 0x112a366d8>]"
      ]
     },
     "execution_count": 67,
     "metadata": {},
     "output_type": "execute_result"
    }
   ],
   "source": [
    "c.findall(\"./book[@country]\")"
   ]
  },
  {
   "cell_type": "code",
   "execution_count": 73,
   "metadata": {},
   "outputs": [
    {
     "data": {
      "text/plain": [
       "['Microsoft .NET: The Programming Bible', 'MSXML3: A Comprehensive Guide']"
      ]
     },
     "execution_count": 73,
     "metadata": {},
     "output_type": "execute_result"
    }
   ],
   "source": [
    "[ t.text for t in c.iterfind(\"\"\"./book[author=\"O'Brien, Tim\"]/title\"\"\") ]"
   ]
  },
  {
   "cell_type": "code",
   "execution_count": 76,
   "metadata": {},
   "outputs": [],
   "source": [
    "#import xml.etree.ElementTree as et\n",
    "import lxml.etree as et\n",
    "ltree = et.parse(\"books.xml\")"
   ]
  },
  {
   "cell_type": "code",
   "execution_count": 77,
   "metadata": {
    "scrolled": true
   },
   "outputs": [
    {
     "data": {
      "text/plain": [
       "['__class__',\n",
       " '__delattr__',\n",
       " '__dict__',\n",
       " '__dir__',\n",
       " '__doc__',\n",
       " '__eq__',\n",
       " '__format__',\n",
       " '__ge__',\n",
       " '__getattribute__',\n",
       " '__gt__',\n",
       " '__hash__',\n",
       " '__init__',\n",
       " '__init_subclass__',\n",
       " '__le__',\n",
       " '__lt__',\n",
       " '__module__',\n",
       " '__ne__',\n",
       " '__new__',\n",
       " '__reduce__',\n",
       " '__reduce_ex__',\n",
       " '__repr__',\n",
       " '__setattr__',\n",
       " '__sizeof__',\n",
       " '__str__',\n",
       " '__subclasshook__',\n",
       " '__weakref__',\n",
       " '_root',\n",
       " '_setroot',\n",
       " 'find',\n",
       " 'findall',\n",
       " 'findtext',\n",
       " 'getiterator',\n",
       " 'getroot',\n",
       " 'iter',\n",
       " 'iterfind',\n",
       " 'parse',\n",
       " 'write',\n",
       " 'write_c14n']"
      ]
     },
     "execution_count": 77,
     "metadata": {},
     "output_type": "execute_result"
    }
   ],
   "source": [
    "dir(tree)"
   ]
  },
  {
   "cell_type": "code",
   "execution_count": 78,
   "metadata": {},
   "outputs": [
    {
     "data": {
      "text/plain": [
       "['__class__',\n",
       " '__copy__',\n",
       " '__deepcopy__',\n",
       " '__delattr__',\n",
       " '__dir__',\n",
       " '__doc__',\n",
       " '__eq__',\n",
       " '__format__',\n",
       " '__ge__',\n",
       " '__getattribute__',\n",
       " '__gt__',\n",
       " '__hash__',\n",
       " '__init__',\n",
       " '__init_subclass__',\n",
       " '__le__',\n",
       " '__lt__',\n",
       " '__ne__',\n",
       " '__new__',\n",
       " '__pyx_vtable__',\n",
       " '__reduce__',\n",
       " '__reduce_ex__',\n",
       " '__repr__',\n",
       " '__setattr__',\n",
       " '__sizeof__',\n",
       " '__str__',\n",
       " '__subclasshook__',\n",
       " '_setroot',\n",
       " 'docinfo',\n",
       " 'find',\n",
       " 'findall',\n",
       " 'findtext',\n",
       " 'getelementpath',\n",
       " 'getiterator',\n",
       " 'getpath',\n",
       " 'getroot',\n",
       " 'iter',\n",
       " 'iterfind',\n",
       " 'parse',\n",
       " 'parser',\n",
       " 'relaxng',\n",
       " 'write',\n",
       " 'write_c14n',\n",
       " 'xinclude',\n",
       " 'xmlschema',\n",
       " 'xpath',\n",
       " 'xslt']"
      ]
     },
     "execution_count": 78,
     "metadata": {},
     "output_type": "execute_result"
    }
   ],
   "source": [
    "dir(ltree)"
   ]
  },
  {
   "cell_type": "code",
   "execution_count": 84,
   "metadata": {},
   "outputs": [
    {
     "ename": "SyntaxError",
     "evalue": "invalid syntax (<ipython-input-84-bf49286ae005>, line 2)",
     "output_type": "error",
     "traceback": [
      "\u001b[0;36m  File \u001b[0;32m\"<ipython-input-84-bf49286ae005>\"\u001b[0;36m, line \u001b[0;32m2\u001b[0m\n\u001b[0;31m    <?xml version=\"1.0\"?>\u001b[0m\n\u001b[0m    ^\u001b[0m\n\u001b[0;31mSyntaxError\u001b[0m\u001b[0;31m:\u001b[0m invalid syntax\n"
     ]
    }
   ],
   "source": [
    "%load purchase_order_example.xml\n",
    "<?xml version=\"1.0\"?>\n",
    "<purchaseOrder \n",
    "    xmlns=\"http://www.chandrashekar.info/files/po.xsd\" \n",
    "    orderDate=\"1999-10-20\">\n",
    "    <shipTo country=\"US\">\n",
    "        <name>Alice Smith</name>\n",
    "        <street>123 Maple Street</street>\n",
    "        <city>Mill Valley</city>\n",
    "        <state>CA</state>\n",
    "        <zip>90952</zip>\n",
    "    </shipTo>\n",
    "    <billTo country=\"US\">\n",
    "        <name>Robert Smith</name>\n",
    "        <street>8 Oak Avenue</street>\n",
    "        <city>Old Town</city>\n",
    "        <state>PA</state>\n",
    "        <zip>95819</zip>\n",
    "    </billTo>\n",
    "    <comment>Hurry, my lawn is going wild!</comment>\n",
    "    <items>\n",
    "        <item partNum=\"872-AA\">\n",
    "            <productName>Lawnmower</productName>\n",
    "            <quantity>1</quantity>\n",
    "            <USPrice>148.95</USPrice>\n",
    "            <comment>Confirm this is electric</comment>\n",
    "        </item>\n",
    "        <item partNum=\"926-AA\">\n",
    "            <productName>Baby Monitor</productName>\n",
    "            <quantity>1</quantity>\n",
    "            <USPrice>39.98</USPrice>\n",
    "            <shipDate>1999-05-21</shipDate>\n",
    "        </item>\n",
    "    </items>\n",
    "</purchaseOrder>\n"
   ]
  },
  {
   "cell_type": "code",
   "execution_count": null,
   "metadata": {},
   "outputs": [],
   "source": [
    "# %load po.xsd\n",
    "<xs:schema xmlns:xs=\"http://www.w3.org/2001/XMLSchema\" \n",
    "    targetNamespace=\"http://www.chandrashekar.info/files/po.xsd\"\n",
    "    xmlns=\"http://www.chandrashekar.info/files/po.xsd\" \n",
    "    elementFormDefault=\"qualified\">\n",
    " <xs:annotation>\n",
    "  <xs:documentation xml:lang=\"en\">\n",
    "   Purchase order schema for Example.com.\n",
    "   Copyright 2000 Example.com. All rights reserved.\n",
    "  </xs:documentation>\n",
    " </xs:annotation>\n",
    "\n",
    " <xs:element name=\"purchaseOrder\" type=\"PurchaseOrderType\"/>\n",
    "\n",
    " <xs:element name=\"comment\" type=\"xs:string\"/>\n",
    "\n",
    " <xs:complexType name=\"PurchaseOrderType\">\n",
    "  <xs:sequence>\n",
    "   <xs:element name=\"shipTo\" type=\"USAddress\"/>\n",
    "   <xs:element name=\"billTo\" type=\"USAddress\"/>\n",
    "   <xs:element ref=\"comment\" minOccurs=\"0\"/>\n",
    "   <xs:element name=\"items\"  type=\"Items\"/>\n",
    "  </xs:sequence>\n",
    "  <xs:attribute name=\"orderDate\" type=\"xs:date\"/>\n",
    " </xs:complexType>\n",
    "\n",
    " <xs:complexType name=\"USAddress\">\n",
    "      <xs:annotation>\n",
    "      <xs:documentation>\n",
    "       Purchase order schema for Example.Microsoft.com.\n",
    "       Copyright 2001 Example.Microsoft.com. All rights reserved.\n",
    "      </xs:documentation>\n",
    "      <xs:appinfo>\n",
    "        Application info.\n",
    "      </xs:appinfo>\n",
    "     </xs:annotation>\n",
    "\n",
    "  <xs:sequence>\n",
    "   <xs:element name=\"name\"   type=\"xs:string\"/>\n",
    "   <xs:element name=\"street\" type=\"xs:string\"/>\n",
    "   <xs:element name=\"city\"   type=\"xs:string\"/>\n",
    "   <xs:element name=\"state\"  type=\"xs:string\"/>\n",
    "   <xs:element name=\"zip\"    type=\"xs:decimal\"/>\n",
    "  </xs:sequence>\n",
    "  <xs:attribute name=\"country\" type=\"xs:NMTOKEN\"\n",
    "     fixed=\"US\"/>\n",
    " </xs:complexType>\n",
    "\n",
    " <xs:complexType name=\"Items\">\n",
    "  <xs:sequence>\n",
    "   <xs:element name=\"item\" minOccurs=\"0\" maxOccurs=\"unbounded\">\n",
    "    <xs:complexType>\n",
    "     <xs:sequence>\n",
    "      <xs:element name=\"productName\" type=\"xs:string\"/>\n",
    "      <xs:element name=\"quantity\">\n",
    "       <xs:simpleType>\n",
    "        <xs:restriction base=\"xs:positiveInteger\">\n",
    "         <xs:maxExclusive value=\"100\"/>\n",
    "        </xs:restriction>\n",
    "       </xs:simpleType>\n",
    "      </xs:element>\n",
    "      <xs:element name=\"USPrice\"    type=\"xs:decimal\"/>\n",
    "      <xs:element ref=\"comment\"   minOccurs=\"0\"/>\n",
    "      <xs:element name=\"shipDate\" type=\"xs:date\" minOccurs=\"0\"/>\n",
    "     </xs:sequence>\n",
    "     <xs:attribute name=\"partNum\" type=\"SKU\" use=\"required\"/>\n",
    "    </xs:complexType>\n",
    "   </xs:element>\n",
    "  </xs:sequence>\n",
    " </xs:complexType>\n",
    "\n",
    " <!-- Stock Keeping Unit, a code for identifying products -->\n",
    " <xs:simpleType name=\"SKU\">\n",
    "  <xs:restriction base=\"xs:string\">\n",
    "   <xs:pattern value=\"\\d{3}-[A-Z]{2}\"/>\n",
    "  </xs:restriction>\n",
    " </xs:simpleType>\n",
    "\n",
    "</xs:schema>\n"
   ]
  },
  {
   "cell_type": "code",
   "execution_count": 85,
   "metadata": {},
   "outputs": [],
   "source": [
    "po_xml = et.parse(\"purchase_order_example.xml\")\n",
    "po_xsd = et.parse(\"po.xsd\")"
   ]
  },
  {
   "cell_type": "code",
   "execution_count": 86,
   "metadata": {},
   "outputs": [
    {
     "data": {
      "text/plain": [
       "False"
      ]
     },
     "execution_count": 86,
     "metadata": {},
     "output_type": "execute_result"
    }
   ],
   "source": [
    "po_xml.xmlschema(po_xsd)"
   ]
  },
  {
   "cell_type": "code",
   "execution_count": 90,
   "metadata": {},
   "outputs": [
    {
     "data": {
      "text/plain": [
       "['Maeve Ascendant', \"Oberon's Legacy\", 'The Sundered Grail']"
      ]
     },
     "execution_count": 90,
     "metadata": {},
     "output_type": "execute_result"
    }
   ],
   "source": [
    "[ t.text for t in c.findall(\"./book[price='5.95']/title\") ]"
   ]
  },
  {
   "cell_type": "code",
   "execution_count": 94,
   "metadata": {},
   "outputs": [
    {
     "data": {
      "text/plain": [
       "[\"XML Developer's Guide\",\n",
       " 'Paradox Lost',\n",
       " 'Microsoft .NET: The Programming Bible',\n",
       " 'MSXML3: A Comprehensive Guide',\n",
       " 'Visual Studio 7: A Comprehensive Guide']"
      ]
     },
     "execution_count": 94,
     "metadata": {},
     "output_type": "execute_result"
    }
   ],
   "source": [
    "[ book.find(\"./title\").text \\\n",
    "  for book in c if float(book.find(\"./price\").text) > 6.0 ]"
   ]
  },
  {
   "cell_type": "code",
   "execution_count": 101,
   "metadata": {},
   "outputs": [
    {
     "data": {
      "text/plain": [
       "[\"XML Developer's Guide\",\n",
       " 'Paradox Lost',\n",
       " 'Microsoft .NET: The Programming Bible',\n",
       " 'MSXML3: A Comprehensive Guide',\n",
       " 'Visual Studio 7: A Comprehensive Guide']"
      ]
     },
     "execution_count": 101,
     "metadata": {},
     "output_type": "execute_result"
    }
   ],
   "source": [
    "ltree.xpath(\"./book[price > 6.0]/title/text()\")"
   ]
  },
  {
   "cell_type": "code",
   "execution_count": 102,
   "metadata": {},
   "outputs": [],
   "source": [
    "import lxml.html as html"
   ]
  },
  {
   "cell_type": "code",
   "execution_count": 113,
   "metadata": {},
   "outputs": [],
   "source": [
    "doc = html.parse(\"http://www.google.com/\")"
   ]
  },
  {
   "cell_type": "code",
   "execution_count": 115,
   "metadata": {},
   "outputs": [],
   "source": [
    "r = doc.getroot()\n"
   ]
  },
  {
   "cell_type": "code",
   "execution_count": 117,
   "metadata": {},
   "outputs": [
    {
     "data": {
      "text/plain": [
       "['https://www.google.co.in/webhp?tab=ww',\n",
       " 'http://www.google.co.in/imghp?hl=en&tab=wi',\n",
       " 'http://maps.google.co.in/maps?hl=en&tab=wl',\n",
       " 'https://play.google.com/?hl=en&tab=w8',\n",
       " 'http://www.youtube.com/?gl=IN&tab=w1',\n",
       " 'http://news.google.co.in/nwshp?hl=en&tab=wn',\n",
       " 'https://mail.google.com/mail/?tab=wm',\n",
       " 'https://drive.google.com/?tab=wo',\n",
       " 'https://www.google.co.in/intl/en/options/',\n",
       " 'https://www.google.com/calendar?tab=wc',\n",
       " 'http://translate.google.co.in/?hl=en&tab=wT',\n",
       " 'https://books.google.co.in/bkshp?hl=en&tab=wp',\n",
       " 'http://www.blogger.com/?tab=wj',\n",
       " 'https://photos.google.com/?tab=wq&pageId=none',\n",
       " 'https://docs.google.com/document/?usp=docs_alc',\n",
       " 'https://www.google.co.in/intl/en/options/',\n",
       " 'https://accounts.google.com/ServiceLogin?hl=en&passive=true&continue=http://www.google.com/',\n",
       " 'http://www.google.co.in/preferences?hl=en',\n",
       " '/preferences?hl=en',\n",
       " 'http://www.google.co.in/history/optout?hl=en',\n",
       " '/search?site=&ie=UTF-8&q=Ismat+Chughtai&oi=ddle&ct=ismat-chughtais-107th-birthday-5162713809420288-l&hl=en&kgmid=/m/03wjmw&sa=X&ved=0ahUKEwi14cDUtf3cAhVMso8KHXLTDP8QPQgD',\n",
       " '/advanced_search?hl=en-IN&authuser=0',\n",
       " '/language_tools?hl=en-IN&authuser=0',\n",
       " 'http://www.google.com/setprefs?sig=0_d_Slnn6Fnf3GMQfV8DntkW7RpLU%3D&hl=hi&source=homepage&sa=X&ved=0ahUKEwi14cDUtf3cAhVMso8KHXLTDP8Q2ZgBCAU',\n",
       " 'http://www.google.com/setprefs?sig=0_d_Slnn6Fnf3GMQfV8DntkW7RpLU%3D&hl=bn&source=homepage&sa=X&ved=0ahUKEwi14cDUtf3cAhVMso8KHXLTDP8Q2ZgBCAY',\n",
       " 'http://www.google.com/setprefs?sig=0_d_Slnn6Fnf3GMQfV8DntkW7RpLU%3D&hl=te&source=homepage&sa=X&ved=0ahUKEwi14cDUtf3cAhVMso8KHXLTDP8Q2ZgBCAc',\n",
       " 'http://www.google.com/setprefs?sig=0_d_Slnn6Fnf3GMQfV8DntkW7RpLU%3D&hl=mr&source=homepage&sa=X&ved=0ahUKEwi14cDUtf3cAhVMso8KHXLTDP8Q2ZgBCAg',\n",
       " 'http://www.google.com/setprefs?sig=0_d_Slnn6Fnf3GMQfV8DntkW7RpLU%3D&hl=ta&source=homepage&sa=X&ved=0ahUKEwi14cDUtf3cAhVMso8KHXLTDP8Q2ZgBCAk',\n",
       " 'http://www.google.com/setprefs?sig=0_d_Slnn6Fnf3GMQfV8DntkW7RpLU%3D&hl=gu&source=homepage&sa=X&ved=0ahUKEwi14cDUtf3cAhVMso8KHXLTDP8Q2ZgBCAo',\n",
       " 'http://www.google.com/setprefs?sig=0_d_Slnn6Fnf3GMQfV8DntkW7RpLU%3D&hl=kn&source=homepage&sa=X&ved=0ahUKEwi14cDUtf3cAhVMso8KHXLTDP8Q2ZgBCAs',\n",
       " 'http://www.google.com/setprefs?sig=0_d_Slnn6Fnf3GMQfV8DntkW7RpLU%3D&hl=ml&source=homepage&sa=X&ved=0ahUKEwi14cDUtf3cAhVMso8KHXLTDP8Q2ZgBCAw',\n",
       " 'http://www.google.com/setprefs?sig=0_d_Slnn6Fnf3GMQfV8DntkW7RpLU%3D&hl=pa&source=homepage&sa=X&ved=0ahUKEwi14cDUtf3cAhVMso8KHXLTDP8Q2ZgBCA0',\n",
       " '/intl/en/ads/',\n",
       " 'http://www.google.co.in/services/',\n",
       " 'https://plus.google.com/104205742743787718296',\n",
       " '/intl/en/about.html',\n",
       " 'http://www.google.com/setprefdomain?prefdom=IN&prev=http://www.google.co.in/&sig=__0PCuGXYbHG97x1yF87xCrL1HzHQ%3D',\n",
       " '/intl/en/policies/privacy/',\n",
       " '/intl/en/policies/terms/']"
      ]
     },
     "execution_count": 117,
     "metadata": {},
     "output_type": "execute_result"
    }
   ],
   "source": [
    "r.xpath(\".//a[@href]/@href\")"
   ]
  },
  {
   "cell_type": "code",
   "execution_count": 120,
   "metadata": {},
   "outputs": [
    {
     "data": {
      "text/plain": [
       "{'action': '/search', 'name': 'f'}"
      ]
     },
     "execution_count": 120,
     "metadata": {},
     "output_type": "execute_result"
    }
   ],
   "source": [
    "r.xpath(\".//form\")[0].attrib"
   ]
  },
  {
   "cell_type": "code",
   "execution_count": 121,
   "metadata": {},
   "outputs": [],
   "source": [
    "from bs4 import BeautifulSoup\n",
    "from urllib.request import urlopen"
   ]
  },
  {
   "cell_type": "code",
   "execution_count": 135,
   "metadata": {},
   "outputs": [],
   "source": [
    "response = urlopen(\"http://www.chandrashekar.info/\")"
   ]
  },
  {
   "cell_type": "code",
   "execution_count": 136,
   "metadata": {},
   "outputs": [],
   "source": [
    "soup = BeautifulSoup(response.read(), \"lxml\")"
   ]
  },
  {
   "cell_type": "code",
   "execution_count": 152,
   "metadata": {},
   "outputs": [
    {
     "name": "stdout",
     "output_type": "stream",
     "text": [
      "<meta charset=\"utf-8\"/>\n"
     ]
    },
    {
     "data": {
      "text/plain": [
       "'\\n'"
      ]
     },
     "execution_count": 152,
     "metadata": {},
     "output_type": "execute_result"
    }
   ],
   "source": [
    "m = soup.html.head.meta\n",
    "\n",
    "print(m)\n",
    "m = m.next_sibling\n"
   ]
  },
  {
   "cell_type": "code",
   "execution_count": 171,
   "metadata": {},
   "outputs": [
    {
     "name": "stdout",
     "output_type": "stream",
     "text": [
      "<style>@import url(\"http://www.chandrashekar.info/modules/system/system.base.css?mcppxf\");\n",
      "@import url(\"http://www.chandrashekar.info/modules/system/system.menus.css?mcppxf\");\n",
      "@import url(\"http://www.chandrashekar.info/modules/system/system.messages.css?mcppxf\");\n",
      "@import url(\"http://www.chandrashekar.info/modules/system/system.theme.css?mcppxf\");</style>\n"
     ]
    }
   ],
   "source": [
    "m = m.next_sibling\n",
    "print(m)\n"
   ]
  },
  {
   "cell_type": "code",
   "execution_count": 172,
   "metadata": {},
   "outputs": [],
   "source": [
    "import requests"
   ]
  },
  {
   "cell_type": "code",
   "execution_count": 173,
   "metadata": {},
   "outputs": [],
   "source": [
    "r = requests.get(\"http://www.chandrashekar.info/\")"
   ]
  },
  {
   "cell_type": "code",
   "execution_count": 178,
   "metadata": {},
   "outputs": [
    {
     "name": "stdout",
     "output_type": "stream",
     "text": [
      "200\n",
      "True\n",
      "{'Date': 'Tue, 21 Aug 2018 06:10:01 GMT', 'Server': 'Apache', 'Expires': 'Sun, 19 Nov 1978 05:00:00 GMT', 'Cache-Control': 'no-cache, must-revalidate, post-check=0, pre-check=0', 'Content-Language': 'en', 'X-Generator': 'Drupal 7 (http://drupal.org)', 'Upgrade': 'h2', 'Connection': 'Upgrade, Keep-Alive', 'Last-Modified': 'Tue, 21 Aug 2018 06:10:01 GMT', 'ETag': '\"1534831801\"', 'Keep-Alive': 'timeout=5, max=100', 'Transfer-Encoding': 'chunked', 'Content-Type': 'text/html; charset=utf-8'}\n",
      "text/html; charset=utf-8\n"
     ]
    }
   ],
   "source": [
    "print(r.status_code)\n",
    "print(r.ok)\n",
    "print(r.headers)\n"
   ]
  },
  {
   "cell_type": "code",
   "execution_count": 181,
   "metadata": {},
   "outputs": [
    {
     "name": "stdout",
     "output_type": "stream",
     "text": [
      "text/html; charset=utf-8\n",
      "text/html; charset=utf-8\n",
      "<class 'requests.structures.CaseInsensitiveDict'>\n"
     ]
    }
   ],
   "source": [
    "print(r.headers[\"Content-Type\"])\n",
    "print(r.headers[\"content-type\"])\n",
    "print(type(r.headers))"
   ]
  },
  {
   "cell_type": "code",
   "execution_count": 184,
   "metadata": {},
   "outputs": [
    {
     "name": "stdout",
     "output_type": "stream",
     "text": [
      "<!DOCTYPE html>\n",
      "<!--[if IEMobile 7]><html class=\"iem7\" lang=\"en\" dir=\"ltr\"><![endif]-->\n",
      "<!--[if (lte\n",
      "<class 'str'>\n"
     ]
    }
   ],
   "source": [
    "print(r.text[:100])\n",
    "print(type(r.text))"
   ]
  },
  {
   "cell_type": "code",
   "execution_count": 186,
   "metadata": {},
   "outputs": [
    {
     "name": "stdout",
     "output_type": "stream",
     "text": [
      "b'<!DOCTYPE html>\\n<!--[if IEMobile 7]><html class=\"iem7\" lang=\"en\" dir=\"ltr\"><![endif]-->\\n<!--[if (lte'\n",
      "<class 'bytes'>\n"
     ]
    }
   ],
   "source": [
    "print(r.content[:100])\n",
    "print(type(r.content))"
   ]
  },
  {
   "cell_type": "code",
   "execution_count": 187,
   "metadata": {},
   "outputs": [],
   "source": [
    "r = requests.get(\"http://www.google.com/\")\n"
   ]
  },
  {
   "cell_type": "code",
   "execution_count": 190,
   "metadata": {},
   "outputs": [
    {
     "name": "stdout",
     "output_type": "stream",
     "text": [
      "{'Date': 'Tue, 21 Aug 2018 06:14:41 GMT', 'Expires': '-1', 'Cache-Control': 'private, max-age=0', 'Content-Type': 'text/html; charset=ISO-8859-1', 'P3P': 'CP=\"This is not a P3P policy! See g.co/p3phelp for more info.\"', 'Content-Encoding': 'gzip', 'Server': 'gws', 'Content-Length': '5564', 'X-XSS-Protection': '1; mode=block', 'X-Frame-Options': 'SAMEORIGIN', 'Set-Cookie': '1P_JAR=2018-08-21-06; expires=Thu, 20-Sep-2018 06:14:41 GMT; path=/; domain=.google.com, NID=137=rVgpaDSn9YoVWTy85xzRB2hZyL2kYzRsw9kd_p9RyPR3OXKEt5Wj90vusSnm45ST11WzGR7oxu83pe7-ZGR7kR4bxYRHIDhnZ83NgEyqcSAh1ps6BV9BpafgfJx1kflC; expires=Wed, 20-Feb-2019 06:14:41 GMT; path=/; domain=.google.com; HttpOnly'}\n"
     ]
    }
   ],
   "source": [
    "print(r.headers)"
   ]
  },
  {
   "cell_type": "code",
   "execution_count": 193,
   "metadata": {
    "scrolled": true
   },
   "outputs": [
    {
     "name": "stdout",
     "output_type": "stream",
     "text": [
      "<RequestsCookieJar[<Cookie 1P_JAR=2018-08-21-06 for .google.com/>, <Cookie NID=137=rVgpaDSn9YoVWTy85xzRB2hZyL2kYzRsw9kd_p9RyPR3OXKEt5Wj90vusSnm45ST11WzGR7oxu83pe7-ZGR7kR4bxYRHIDhnZ83NgEyqcSAh1ps6BV9BpafgfJx1kflC for .google.com/>]>\n",
      "137=rVgpaDSn9YoVWTy85xzRB2hZyL2kYzRsw9kd_p9RyPR3OXKEt5Wj90vusSnm45ST11WzGR7oxu83pe7-ZGR7kR4bxYRHIDhnZ83NgEyqcSAh1ps6BV9BpafgfJx1kflC\n"
     ]
    }
   ],
   "source": [
    "print(r.cookies)\n",
    "print(r.cookies[\"NID\"])"
   ]
  },
  {
   "cell_type": "code",
   "execution_count": 194,
   "metadata": {},
   "outputs": [],
   "source": [
    "r = requests.get(\"https://jsonplaceholder.typicode.com/todos/1\")"
   ]
  },
  {
   "cell_type": "code",
   "execution_count": 196,
   "metadata": {},
   "outputs": [
    {
     "data": {
      "text/plain": [
       "'application/json; charset=utf-8'"
      ]
     },
     "execution_count": 196,
     "metadata": {},
     "output_type": "execute_result"
    }
   ],
   "source": [
    "r.headers[\"content-type\"]"
   ]
  },
  {
   "cell_type": "code",
   "execution_count": 197,
   "metadata": {},
   "outputs": [
    {
     "data": {
      "text/plain": [
       "{'userId': 1, 'id': 1, 'title': 'delectus aut autem', 'completed': False}"
      ]
     },
     "execution_count": 197,
     "metadata": {},
     "output_type": "execute_result"
    }
   ],
   "source": [
    "r.json()"
   ]
  },
  {
   "cell_type": "code",
   "execution_count": 198,
   "metadata": {},
   "outputs": [],
   "source": [
    "api_key = \"932c152d6ff8d185bfdd9d2a5f8e33e4\""
   ]
  },
  {
   "cell_type": "code",
   "execution_count": 199,
   "metadata": {},
   "outputs": [],
   "source": [
    "url = \"https://api.openweathermap.org/data/2.5/find?q={city}&units=metric&APPID={key}\"\n"
   ]
  },
  {
   "cell_type": "code",
   "execution_count": 200,
   "metadata": {},
   "outputs": [],
   "source": [
    "r = requests.get(url.format(city=\"Bengaluru\", key=api_key))"
   ]
  },
  {
   "cell_type": "code",
   "execution_count": 202,
   "metadata": {},
   "outputs": [
    {
     "data": {
      "text/plain": [
       "{'message': 'accurate',\n",
       " 'cod': '200',\n",
       " 'count': 1,\n",
       " 'list': [{'id': 1277333,\n",
       "   'name': 'Bengaluru',\n",
       "   'coord': {'lat': 12.9791, 'lon': 77.5913},\n",
       "   'main': {'temp': 24.45,\n",
       "    'pressure': 1013,\n",
       "    'humidity': 69,\n",
       "    'temp_min': 24,\n",
       "    'temp_max': 25},\n",
       "   'dt': 1534827600,\n",
       "   'wind': {'speed': 6.7, 'deg': 240},\n",
       "   'sys': {'country': 'IN'},\n",
       "   'rain': None,\n",
       "   'snow': None,\n",
       "   'clouds': {'all': 40},\n",
       "   'weather': [{'id': 802,\n",
       "     'main': 'Clouds',\n",
       "     'description': 'scattered clouds',\n",
       "     'icon': '03d'}]}]}"
      ]
     },
     "execution_count": 202,
     "metadata": {},
     "output_type": "execute_result"
    }
   ],
   "source": [
    "r.json()"
   ]
  },
  {
   "cell_type": "code",
   "execution_count": 203,
   "metadata": {},
   "outputs": [
    {
     "name": "stdout",
     "output_type": "stream",
     "text": [
      "<Response [200]>\n"
     ]
    }
   ],
   "source": [
    "r = requests.get(\"http://localhost:3000/users\")\n",
    "print(r)"
   ]
  },
  {
   "cell_type": "code",
   "execution_count": 205,
   "metadata": {},
   "outputs": [
    {
     "name": "stdout",
     "output_type": "stream",
     "text": [
      "{'name': 'Chandrashekar Babu', 'username': 'chandra', 'email': 'chandra@chandrashekar.info', 'phone': '1-22-33-44', 'website': 'Chandrashekar.info', 'company': {'name': 'Chandrashekar', 'catchPhrase': 'Multi-layered client-server neural-net', 'bs': 'harness real-time e-markets'}}\n"
     ]
    }
   ],
   "source": [
    "record = {\n",
    "  'name': 'Chandrashekar Babu',\n",
    "  'username': 'chandra',\n",
    "  'email': 'chandra@chandrashekar.info',\n",
    "  'phone': '1-22-33-44',\n",
    "  'website': 'Chandrashekar.info',\n",
    "  'company': {'name': 'Chandrashekar',\n",
    "   'catchPhrase': 'Multi-layered client-server neural-net',\n",
    "   'bs': 'harness real-time e-markets'}\n",
    "}\n",
    "print(record)\n"
   ]
  },
  {
   "cell_type": "code",
   "execution_count": 206,
   "metadata": {},
   "outputs": [
    {
     "data": {
      "text/plain": [
       "<Response [201]>"
      ]
     },
     "execution_count": 206,
     "metadata": {},
     "output_type": "execute_result"
    }
   ],
   "source": [
    "requests.post(\"http://localhost:3000/users\", record)"
   ]
  },
  {
   "cell_type": "code",
   "execution_count": 207,
   "metadata": {},
   "outputs": [
    {
     "data": {
      "text/plain": [
       "[{'id': 1,\n",
       "  'name': 'Leanne Graham',\n",
       "  'username': 'Bret',\n",
       "  'email': 'Sincere@april.biz',\n",
       "  'address': {'street': 'Kulas Light',\n",
       "   'suite': 'Apt. 556',\n",
       "   'city': 'Gwenborough',\n",
       "   'zipcode': '92998-3874',\n",
       "   'geo': {'lat': '-37.3159', 'lng': '81.1496'}},\n",
       "  'phone': '1-770-736-8031 x56442',\n",
       "  'website': 'hildegard.org',\n",
       "  'company': {'name': 'Romaguera-Crona',\n",
       "   'catchPhrase': 'Multi-layered client-server neural-net',\n",
       "   'bs': 'harness real-time e-markets'}},\n",
       " {'id': 2,\n",
       "  'name': 'Ervin Howell',\n",
       "  'username': 'Antonette',\n",
       "  'email': 'Shanna@melissa.tv',\n",
       "  'address': {'street': 'Victor Plains',\n",
       "   'suite': 'Suite 879',\n",
       "   'city': 'Wisokyburgh',\n",
       "   'zipcode': '90566-7771',\n",
       "   'geo': {'lat': '-43.9509', 'lng': '-34.4618'}},\n",
       "  'phone': '010-692-6593 x09125',\n",
       "  'website': 'anastasia.net',\n",
       "  'company': {'name': 'Deckow-Crist',\n",
       "   'catchPhrase': 'Proactive didactic contingency',\n",
       "   'bs': 'synergize scalable supply-chains'}},\n",
       " {'id': 3,\n",
       "  'name': 'Clementine Bauch',\n",
       "  'username': 'Samantha',\n",
       "  'email': 'Nathan@yesenia.net',\n",
       "  'address': {'street': 'Douglas Extension',\n",
       "   'suite': 'Suite 847',\n",
       "   'city': 'McKenziehaven',\n",
       "   'zipcode': '59590-4157',\n",
       "   'geo': {'lat': '-68.6102', 'lng': '-47.0653'}},\n",
       "  'phone': '1-463-123-4447',\n",
       "  'website': 'ramiro.info',\n",
       "  'company': {'name': 'Romaguera-Jacobson',\n",
       "   'catchPhrase': 'Face to face bifurcated interface',\n",
       "   'bs': 'e-enable strategic applications'}},\n",
       " {'id': 4,\n",
       "  'name': 'Patricia Lebsack',\n",
       "  'username': 'Karianne',\n",
       "  'email': 'Julianne.OConner@kory.org',\n",
       "  'address': {'street': 'Hoeger Mall',\n",
       "   'suite': 'Apt. 692',\n",
       "   'city': 'South Elvis',\n",
       "   'zipcode': '53919-4257',\n",
       "   'geo': {'lat': '29.4572', 'lng': '-164.2990'}},\n",
       "  'phone': '493-170-9623 x156',\n",
       "  'website': 'kale.biz',\n",
       "  'company': {'name': 'Robel-Corkery',\n",
       "   'catchPhrase': 'Multi-tiered zero tolerance productivity',\n",
       "   'bs': 'transition cutting-edge web services'}},\n",
       " {'id': 5,\n",
       "  'name': 'Chelsey Dietrich',\n",
       "  'username': 'Kamren',\n",
       "  'email': 'Lucio_Hettinger@annie.ca',\n",
       "  'address': {'street': 'Skiles Walks',\n",
       "   'suite': 'Suite 351',\n",
       "   'city': 'Roscoeview',\n",
       "   'zipcode': '33263',\n",
       "   'geo': {'lat': '-31.8129', 'lng': '62.5342'}},\n",
       "  'phone': '(254)954-1289',\n",
       "  'website': 'demarco.info',\n",
       "  'company': {'name': 'Keebler LLC',\n",
       "   'catchPhrase': 'User-centric fault-tolerant solution',\n",
       "   'bs': 'revolutionize end-to-end systems'}},\n",
       " {'id': 6,\n",
       "  'name': 'Mrs. Dennis Schulist',\n",
       "  'username': 'Leopoldo_Corkery',\n",
       "  'email': 'Karley_Dach@jasper.info',\n",
       "  'address': {'street': 'Norberto Crossing',\n",
       "   'suite': 'Apt. 950',\n",
       "   'city': 'South Christy',\n",
       "   'zipcode': '23505-1337',\n",
       "   'geo': {'lat': '-71.4197', 'lng': '71.7478'}},\n",
       "  'phone': '1-477-935-8478 x6430',\n",
       "  'website': 'ola.org',\n",
       "  'company': {'name': 'Considine-Lockman',\n",
       "   'catchPhrase': 'Synchronised bottom-line interface',\n",
       "   'bs': 'e-enable innovative applications'}},\n",
       " {'id': 7,\n",
       "  'name': 'Kurtis Weissnat',\n",
       "  'username': 'Elwyn.Skiles',\n",
       "  'email': 'Telly.Hoeger@billy.biz',\n",
       "  'address': {'street': 'Rex Trail',\n",
       "   'suite': 'Suite 280',\n",
       "   'city': 'Howemouth',\n",
       "   'zipcode': '58804-1099',\n",
       "   'geo': {'lat': '24.8918', 'lng': '21.8984'}},\n",
       "  'phone': '210.067.6132',\n",
       "  'website': 'elvis.io',\n",
       "  'company': {'name': 'Johns Group',\n",
       "   'catchPhrase': 'Configurable multimedia task-force',\n",
       "   'bs': 'generate enterprise e-tailers'}},\n",
       " {'id': 8,\n",
       "  'name': 'Nicholas Runolfsdottir V',\n",
       "  'username': 'Maxime_Nienow',\n",
       "  'email': 'Sherwood@rosamond.me',\n",
       "  'address': {'street': 'Ellsworth Summit',\n",
       "   'suite': 'Suite 729',\n",
       "   'city': 'Aliyaview',\n",
       "   'zipcode': '45169',\n",
       "   'geo': {'lat': '-14.3990', 'lng': '-120.7677'}},\n",
       "  'phone': '586.493.6943 x140',\n",
       "  'website': 'jacynthe.com',\n",
       "  'company': {'name': 'Abernathy Group',\n",
       "   'catchPhrase': 'Implemented secondary concept',\n",
       "   'bs': 'e-enable extensible e-tailers'}},\n",
       " {'id': 9,\n",
       "  'name': 'Glenna Reichert',\n",
       "  'username': 'Delphine',\n",
       "  'email': 'Chaim_McDermott@dana.io',\n",
       "  'address': {'street': 'Dayna Park',\n",
       "   'suite': 'Suite 449',\n",
       "   'city': 'Bartholomebury',\n",
       "   'zipcode': '76495-3109',\n",
       "   'geo': {'lat': '24.6463', 'lng': '-168.8889'}},\n",
       "  'phone': '(775)976-6794 x41206',\n",
       "  'website': 'conrad.com',\n",
       "  'company': {'name': 'Yost and Sons',\n",
       "   'catchPhrase': 'Switchable contextually-based project',\n",
       "   'bs': 'aggregate real-time technologies'}},\n",
       " {'id': 10,\n",
       "  'name': 'Clementina DuBuque',\n",
       "  'username': 'Moriah.Stanton',\n",
       "  'email': 'Rey.Padberg@karina.biz',\n",
       "  'address': {'street': 'Kattie Turnpike',\n",
       "   'suite': 'Suite 198',\n",
       "   'city': 'Lebsackbury',\n",
       "   'zipcode': '31428-2261',\n",
       "   'geo': {'lat': '-38.2386', 'lng': '57.2232'}},\n",
       "  'phone': '024-648-3804',\n",
       "  'website': 'ambrose.net',\n",
       "  'company': {'name': 'Hoeger LLC',\n",
       "   'catchPhrase': 'Centralized empowering task-force',\n",
       "   'bs': 'target end-to-end models'}},\n",
       " {'name': 'Chandrashekar Babu',\n",
       "  'username': 'chandra',\n",
       "  'email': 'chandra@chandrashekar.info',\n",
       "  'phone': '1-22-33-44',\n",
       "  'website': 'Chandrashekar.info',\n",
       "  'company': ['name', 'catchPhrase', 'bs'],\n",
       "  'id': 11}]"
      ]
     },
     "execution_count": 207,
     "metadata": {},
     "output_type": "execute_result"
    }
   ],
   "source": [
    "requests.get(\"http://localhost:3000/users\").json()"
   ]
  },
  {
   "cell_type": "code",
   "execution_count": 216,
   "metadata": {},
   "outputs": [
    {
     "data": {
      "text/plain": [
       "<Response [404]>"
      ]
     },
     "execution_count": 216,
     "metadata": {},
     "output_type": "execute_result"
    }
   ],
   "source": [
    "requests.get(\"http://localhost:3000/users/11\")"
   ]
  },
  {
   "cell_type": "code",
   "execution_count": 210,
   "metadata": {},
   "outputs": [
    {
     "data": {
      "text/plain": [
       "<Response [200]>"
      ]
     },
     "execution_count": 210,
     "metadata": {},
     "output_type": "execute_result"
    }
   ],
   "source": [
    "requests.patch(\"http://localhost:3000/users/11\", {\"phone\": \"9884386075\"})"
   ]
  },
  {
   "cell_type": "code",
   "execution_count": 212,
   "metadata": {},
   "outputs": [
    {
     "data": {
      "text/plain": [
       "<Response [200]>"
      ]
     },
     "execution_count": 212,
     "metadata": {},
     "output_type": "execute_result"
    }
   ],
   "source": [
    "requests.put(\"http://localhost:3000/users/11\", {\"phone\": \"9884386075\"})"
   ]
  },
  {
   "cell_type": "code",
   "execution_count": 214,
   "metadata": {},
   "outputs": [
    {
     "data": {
      "text/plain": [
       "<Response [200]>"
      ]
     },
     "execution_count": 214,
     "metadata": {},
     "output_type": "execute_result"
    }
   ],
   "source": [
    "requests.delete(\"http://localhost:3000/users/11\")"
   ]
  },
  {
   "cell_type": "code",
   "execution_count": 217,
   "metadata": {},
   "outputs": [
    {
     "name": "stderr",
     "output_type": "stream",
     "text": [
      "/Users/chandrashekar/anaconda3/lib/python3.6/site-packages/grequests.py:21: MonkeyPatchWarning: Monkey-patching ssl after ssl has already been imported may lead to errors, including RecursionError on Python 3.6. Please monkey-patch earlier. See https://github.com/gevent/gevent/issues/1016\n",
      "  curious_george.patch_all(thread=False, select=False)\n"
     ]
    }
   ],
   "source": [
    "urls = [\n",
    "    \"http://www.chandrashekar.info\",\n",
    "    \"http://www.cisco.com\",\n",
    "    \"http://www.google.com\",\n",
    "    \"http://www.facebook.com\"\n",
    "    \"http://www.python.org\"\n",
    "]\n",
    "import grequests"
   ]
  },
  {
   "cell_type": "code",
   "execution_count": 218,
   "metadata": {},
   "outputs": [],
   "source": [
    "term = \"xml\"\n",
    "r = requests.get(f\"http://pypi.org/search/?q={term}\")"
   ]
  },
  {
   "cell_type": "code",
   "execution_count": 221,
   "metadata": {},
   "outputs": [],
   "source": [
    "h = html.fromstring(r.text)"
   ]
  },
  {
   "cell_type": "code",
   "execution_count": 240,
   "metadata": {},
   "outputs": [
    {
     "data": {
      "text/plain": [
       "[{'name': 'ttr.xml.csv2xml',\n",
       "  'url': '/project/ttr-xml-csv2xml/',\n",
       "  'description': 'module, providing conversion of csv file into xml'},\n",
       " {'name': '4Suite-XML',\n",
       "  'url': '/project/4suite-xml/',\n",
       "  'description': 'An open-source platform for XML processing'},\n",
       " {'name': 'amara3-xml',\n",
       "  'url': '/project/amara3-xml/',\n",
       "  'description': 'Amara3 project, which offers a variety of data processing tools. This module adds the MicroXML support, and adaptation to classic XML.'},\n",
       " {'name': 'beast2-xml',\n",
       "  'url': '/project/beast2-xml/',\n",
       "  'description': 'Command line script and Python class for generating BEAST2 XML config files.'},\n",
       " {'name': 'corenlp-xml',\n",
       "  'url': '/project/corenlp-xml/',\n",
       "  'description': 'Library for interacting with the XML output of the Stanford CoreNLP pipeline.'}]"
      ]
     },
     "execution_count": 240,
     "metadata": {},
     "output_type": "execute_result"
    }
   ],
   "source": [
    "anchors = h.xpath(\".//a[@class='package-snippet']\")[:5]\n",
    "#urls = [ link.attrib[\"href\"] for link in links ]\n",
    "#print(urls)\n",
    "\n",
    "#titles = [ link[0][0].text for link in links ]\n",
    "#print(titles)\n",
    "\n",
    "#descriptions = [ link[1].text for link in links ]\n",
    "#print(descriptions)\n",
    "\n",
    "[ dict(name=link[0][0].text,     \\\n",
    "       url=link.attrib[\"href\"],  \\\n",
    "       description=link[1].text) \\\n",
    "       for link in anchors]\n",
    "\n",
    "[ dict(name=link.find(\"./h3/span\").text,  \\\n",
    "       url=link.attrib[\"href\"],           \\\n",
    "       description=link.find(\"./p\").text) \\\n",
    "       for link in anchors]\n",
    "\n"
   ]
  },
  {
   "cell_type": "code",
   "execution_count": 238,
   "metadata": {},
   "outputs": [
    {
     "data": {
      "text/plain": [
       "[{'name': 'ttr.xml.csv2xml',\n",
       "  'url': '/project/ttr-xml-csv2xml/',\n",
       "  'description': 'module, providing conversion of csv file into xml'},\n",
       " {'name': '4Suite-XML',\n",
       "  'url': '/project/4suite-xml/',\n",
       "  'description': 'An open-source platform for XML processing'},\n",
       " {'name': 'amara3-xml',\n",
       "  'url': '/project/amara3-xml/',\n",
       "  'description': 'Amara3 project, which offers a variety of data processing tools. This module adds the MicroXML support, and adaptation to classic XML.'},\n",
       " {'name': 'beast2-xml',\n",
       "  'url': '/project/beast2-xml/',\n",
       "  'description': 'Command line script and Python class for generating BEAST2 XML config files.'},\n",
       " {'name': 'corenlp-xml',\n",
       "  'url': '/project/corenlp-xml/',\n",
       "  'description': 'Library for interacting with the XML output of the Stanford CoreNLP pipeline.'}]"
      ]
     },
     "execution_count": 238,
     "metadata": {},
     "output_type": "execute_result"
    }
   ],
   "source": [
    "from bs4 import BeautifulSoup\n",
    "\n",
    "soup = BeautifulSoup(r.text, \"lxml\")\n",
    "anchors = soup.select(\"a.package-snippet\")[:5]\n",
    "\n",
    "\n",
    "[ dict(name=a.h3.span.text, url=a[\"href\"], description=a.p.text)  for a in anchors]"
   ]
  }
 ],
 "metadata": {
  "kernelspec": {
   "display_name": "Python 3",
   "language": "python",
   "name": "python3"
  },
  "language_info": {
   "codemirror_mode": {
    "name": "ipython",
    "version": 3
   },
   "file_extension": ".py",
   "mimetype": "text/x-python",
   "name": "python",
   "nbconvert_exporter": "python",
   "pygments_lexer": "ipython3",
   "version": "3.6.5"
  }
 },
 "nbformat": 4,
 "nbformat_minor": 2
}
